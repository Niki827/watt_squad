{
 "cells": [
  {
   "cell_type": "code",
   "execution_count": 6,
   "metadata": {},
   "outputs": [
    {
     "data": {
      "text/plain": [
       "{'greeting': \"api works, you're a genius, go grab a drink\"}"
      ]
     },
     "execution_count": 6,
     "metadata": {},
     "output_type": "execute_result"
    }
   ],
   "source": [
    "import requests\n",
    "import pandas as pd\n",
    "\n",
    "url='http://127.0.0.1:8000'\n",
    "response = requests.get(url).json()\n",
    "response"
   ]
  },
  {
   "cell_type": "code",
   "execution_count": 68,
   "metadata": {},
   "outputs": [
    {
     "data": {
      "text/plain": [
       "b'{\"time\":{\"743\":\"2020-02-01 12:00:00\"},\"pv_production\":{\"743\":0.0},\"wind_production\":{\"743\":1.69},\"consumption\":{\"743\":21.58391778},\"spot_market_price\":{\"743\":0.16383},\"precip_1h:mm\":{\"743\":0.0},\"precip_type:idx\":{\"743\":0.0},\"prob_precip_1h:p\":{\"743\":1.0},\"clear_sky_rad:W\":{\"743\":105.0},\"clear_sky_energy_1h:J\":{\"743\":385457.6},\"diffuse_rad:W\":{\"743\":31.4},\"diffuse_rad_1h:Wh\":{\"743\":32.0},\"direct_rad:W\":{\"743\":0.3},\"direct_rad_1h:Wh\":{\"743\":0.209},\"global_rad:W\":{\"743\":31.7},\"global_rad_1h:Wh\":{\"743\":32.209},\"sunshine_duration_1h:min\":{\"743\":1.8},\"sun_azimuth:d\":{\"743\":186.902},\"sun_elevation:d\":{\"743\":9.071},\"low_cloud_cover:p\":{\"743\":5.1},\"medium_cloud_cover:p\":{\"743\":97.0},\"high_cloud_cover:p\":{\"743\":30.3},\"total_cloud_cover:p\":{\"743\":98.0},\"effective_cloud_cover:p\":{\"743\":97.6},\"temp\":{\"743\":2.8},\"relative_humidity_2m:p\":{\"743\":81.4},\"dew_point_2m:C\":{\"743\":0.0},\"wind_speed_2m:ms\":{\"743\":1.6},\"wind_dir_2m:d\":{\"743\":206.1},\"t_10m:C\":{\"743\":2.8},\"relative_humidity_10m:p\":{\"743\":80.6},\"dew_point_10m:C\":{\"743\":-0.2},\"wind_speed_10m:ms\":{\"743\":2.4},\"wind_dir_10m:d\":{\"743\":206.1},\"t_50m:C\":{\"743\":2.6},\"relative_humidity_50m:p\":{\"743\":77.8},\"dew_point_50m:C\":{\"743\":-0.9},\"wind_speed_50m:ms\":{\"743\":3.5},\"wind_dir_50m:d\":{\"743\":215.4},\"t_100m:C\":{\"743\":2.3},\"relative_humidity_100m:p\":{\"743\":75.6},\"dew_point_100m:C\":{\"743\":-1.5},\"wind_speed_100m:ms\":{\"743\":4.4},\"wind_dir_100m:d\":{\"743\":227.0}}'"
      ]
     },
     "execution_count": 68,
     "metadata": {},
     "output_type": "execute_result"
    }
   ],
   "source": [
    "df = pd.read_csv(\"raw_data/train.csv\").sample(1)\n",
    "# df1 = df.to_dict(orient='records')\n",
    "df1 = df.to_json().encode()\n",
    "df1"
   ]
  },
  {
   "cell_type": "code",
   "execution_count": 69,
   "metadata": {},
   "outputs": [
    {
     "data": {
      "text/plain": [
       "<Response [422]>"
      ]
     },
     "execution_count": 69,
     "metadata": {},
     "output_type": "execute_result"
    }
   ],
   "source": [
    "payload={\"df\":df1}\n",
    "\n",
    "requests.post(url=\"http://localhost:8000/receivedf\", data=payload)"
   ]
  },
  {
   "cell_type": "code",
   "execution_count": 64,
   "metadata": {},
   "outputs": [],
   "source": [
    "# from wattsquad.api.fast import read_data\n",
    "\n",
    "# df = pd.read_csv(\"raw_data/train.csv\")\n",
    "# read_data(df)"
   ]
  },
  {
   "cell_type": "code",
   "execution_count": null,
   "metadata": {},
   "outputs": [],
   "source": []
  }
 ],
 "metadata": {
  "kernelspec": {
   "display_name": "watt_squad",
   "language": "python",
   "name": "python3"
  },
  "language_info": {
   "codemirror_mode": {
    "name": "ipython",
    "version": 3
   },
   "file_extension": ".py",
   "mimetype": "text/x-python",
   "name": "python",
   "nbconvert_exporter": "python",
   "pygments_lexer": "ipython3",
   "version": "3.10.6"
  }
 },
 "nbformat": 4,
 "nbformat_minor": 2
}
