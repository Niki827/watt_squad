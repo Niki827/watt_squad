{
 "cells": [
  {
   "cell_type": "code",
   "execution_count": 1,
   "id": "ca70b28a-18f8-4ca2-9665-75f4f92c1737",
   "metadata": {},
   "outputs": [],
   "source": [
    "import pandas as pd\n",
    "import numpy as np"
   ]
  },
  {
   "cell_type": "code",
   "execution_count": 2,
   "id": "191bd286-997c-4b46-a95c-cb88ea03abd5",
   "metadata": {},
   "outputs": [],
   "source": [
    "data = pd.read_csv(\"raw_data/train.csv\")"
   ]
  },
  {
   "cell_type": "code",
   "execution_count": 4,
   "id": "6f1fb2ae-13ad-420a-98a0-631b9140cfef",
   "metadata": {},
   "outputs": [
    {
     "data": {
      "text/plain": [
       "Index(['time', 'pv_production', 'wind_production', 'consumption',\n",
       "       'spot_market_price', 'precip_1h:mm', 'precip_type:idx',\n",
       "       'prob_precip_1h:p', 'clear_sky_rad:W', 'clear_sky_energy_1h:J',\n",
       "       'diffuse_rad:W', 'diffuse_rad_1h:Wh', 'direct_rad:W',\n",
       "       'direct_rad_1h:Wh', 'global_rad:W', 'global_rad_1h:Wh',\n",
       "       'sunshine_duration_1h:min', 'sun_azimuth:d', 'sun_elevation:d',\n",
       "       'low_cloud_cover:p', 'medium_cloud_cover:p', 'high_cloud_cover:p',\n",
       "       'total_cloud_cover:p', 'effective_cloud_cover:p', 'temp',\n",
       "       'relative_humidity_2m:p', 'dew_point_2m:C', 'wind_speed_2m:ms',\n",
       "       'wind_dir_2m:d', 't_10m:C', 'relative_humidity_10m:p',\n",
       "       'dew_point_10m:C', 'wind_speed_10m:ms', 'wind_dir_10m:d', 't_50m:C',\n",
       "       'relative_humidity_50m:p', 'dew_point_50m:C', 'wind_speed_50m:ms',\n",
       "       'wind_dir_50m:d', 't_100m:C', 'relative_humidity_100m:p',\n",
       "       'dew_point_100m:C', 'wind_speed_100m:ms', 'wind_dir_100m:d'],\n",
       "      dtype='object')"
      ]
     },
     "execution_count": 4,
     "metadata": {},
     "output_type": "execute_result"
    }
   ],
   "source": [
    "data.columns"
   ]
  },
  {
   "cell_type": "markdown",
   "id": "7894fac7-a48e-485d-9572-3959149805b4",
   "metadata": {},
   "source": [
    "# Which features need which scaling? \n",
    "\n",
    "Putting them into lists for the pipeline"
   ]
  },
  {
   "cell_type": "code",
   "execution_count": 6,
   "id": "cccebde0-9cff-4f91-ac42-da3e47ac0462",
   "metadata": {},
   "outputs": [],
   "source": [
    "# targets = ['pv_production', 'wind_production', 'consumption']\n",
    "\n",
    "f_minmax = [\n",
    "    'hour_sine',\n",
    "    'hour_cosine',\n",
    "    'month_sine',\n",
    "    'month_cosine',\n",
    "    'season_sine',\n",
    "    'season_cosine',\n",
    "    'log_precip_1h:mm', \n",
    "    'log_prob_precip_1h:p', \n",
    "    'log_clear_sky_rad:W',\n",
    "    'log_clear_sky_energy_1h:J',\n",
    "    'log_diffuse_rad:W', \n",
    "    'log_diffuse_rad_1h:Wh', \n",
    "    'log_direct_rad:W',\n",
    "    'log_direct_rad_1h:Wh', \n",
    "    'log_global_rad:W', \n",
    "    'log_global_rad_1h:Wh',\n",
    "    'sunshine_duration_1h:min',\n",
    "    'low_cloud_cover:p', \n",
    "    'medium_cloud_cover:p', \n",
    "    'high_cloud_cover:p',\n",
    "    'total_cloud_cover:p', \n",
    "    'effective_cloud_cover:p',\n",
    "    'sin_sun_azimuth:d',\n",
    "    'cos_sun_azimuth:d',\n",
    "    'sin_wind_dir_2m:d',\n",
    "    'cos_wind_dir_2m:d',\n",
    "    'sin_wind_dir_10m:d',\n",
    "    'cos_wind_dir_10m:d',\n",
    "    'sin_wind_dir_50m:d',\n",
    "    'cos_wind_dir_50m:d',\n",
    "    'sin_wind_dir_100m:d',\n",
    "    'cos_wind_dir_100m:d',\n",
    "    'relative_humidity_2m:p', \n",
    "    'relative_humidity_10m:p',\n",
    "    'relative_humidity_50m:p',\n",
    "    'relative_humidity_100m:p',\n",
    "    'dew_point_2m:C',\n",
    "    'dew_point_10m:C', \n",
    "    'dew_point_50m:C',\n",
    "    'dew_point_100m:C',\n",
    "    'temp'\n",
    "]\n",
    "f_standard = ['sun_elevation:d']\n",
    "f_robust = [\n",
    "    't_10m:C',\n",
    "    't_50m:C',\n",
    "    't_100m:C',\n",
    "    'log_wind_speed_2m:ms',\n",
    "    'log_wind_speed_10m:ms', \n",
    "    'log_wind_speed_50m:ms',\n",
    "    'log_wind_speed_100m:ms',\n",
    "]\n",
    "\n",
    "f_ohe = ['precip_type:idx']\n",
    "\n",
    "\n",
    "# other = ['spot_market_price']"
   ]
  },
  {
   "cell_type": "markdown",
   "id": "052e0602-546d-4c96-ba17-e6da67399f4d",
   "metadata": {},
   "source": [
    "# Log functions and other encoding"
   ]
  },
  {
   "cell_type": "code",
   "execution_count": 8,
   "id": "2c623c0a-a424-4329-a727-68ae78d5c860",
   "metadata": {},
   "outputs": [
    {
     "data": {
      "text/plain": [
       "14"
      ]
     },
     "execution_count": 8,
     "metadata": {},
     "output_type": "execute_result"
    }
   ],
   "source": [
    "f_logs = [\n",
    "    'precip_1h:mm', \n",
    "    'prob_precip_1h:p', \n",
    "    'clear_sky_rad:W',\n",
    "    'clear_sky_energy_1h:J',\n",
    "    'diffuse_rad:W', \n",
    "    'diffuse_rad_1h:Wh', \n",
    "    'direct_rad:W',\n",
    "    'direct_rad_1h:Wh', \n",
    "    'global_rad:W', \n",
    "    'global_rad_1h:Wh',\n",
    "    'wind_speed_2m:ms',\n",
    "    'wind_speed_10m:ms', \n",
    "    'wind_speed_50m:ms',\n",
    "    'wind_speed_100m:ms'\n",
    "]\n"
   ]
  },
  {
   "cell_type": "code",
   "execution_count": 9,
   "id": "7793caa5-74be-41cc-8b51-dad3ed68293c",
   "metadata": {},
   "outputs": [],
   "source": [
    "epsilon = 1e-5\n",
    "\n",
    "for f in f_logs:\n",
    "    data[f] = np.log(data[f] + epsilon)"
   ]
  },
  {
   "cell_type": "code",
   "execution_count": null,
   "id": "5d203c68-a47d-40fc-82e3-668f7248e4fc",
   "metadata": {},
   "outputs": [],
   "source": [
    "# Converting time to datetime\n",
    "#We might have done that before already\n",
    "data['time']= pd.to_datetime(data['time'])\n",
    "\n",
    "#the following two steps creates new columns to get the input for the sine & cosine columns\n",
    "#creating columns indicating the hour and the month\n",
    "data['hour'] = data['time'].dt.hour\n",
    "data['month'] = data['time'].dt.month\n",
    "\n",
    "#creating column indicating the season\n",
    "def assign_season(month):\n",
    "    if month in [3, 4, 5]:\n",
    "        return 1  # Spring\n",
    "    elif month in [6, 7, 8]:\n",
    "        return 2  # Summer\n",
    "    elif month in [9, 10, 11]:\n",
    "        return 3  # Fall\n",
    "    else:  # December, January, February\n",
    "        return 4  # Winter\n",
    "\n",
    "data['season'] = data['month'].apply(assign_season)\n",
    "\n",
    "data['hour_sine'] = np.sin(2 * np.pi * data['hour'] / 24)\n",
    "data['hour_cosine'] = np.cos(2 * np.pi * data['hour'] / 24)\n",
    "\n",
    "data['month_sine'] = np.sin(2 * np.pi * data['month'] / 12)\n",
    "data['month_cosine'] = np.cos(2 * np.pi * data['month'] / 12)\n",
    "\n",
    "data['season_sine'] = np.sin(2 * np.pi * data['season'] / 4)\n",
    "data['season_cosine'] = np.cos(2 * np.pi * data['season'] / 4)\n",
    "\n",
    "data = data.drop(columns = ['hour', 'month', 'season'])"
   ]
  }
 ],
 "metadata": {
  "kernelspec": {
   "display_name": "Python 3 (ipykernel)",
   "language": "python",
   "name": "python3"
  },
  "language_info": {
   "codemirror_mode": {
    "name": "ipython",
    "version": 3
   },
   "file_extension": ".py",
   "mimetype": "text/x-python",
   "name": "python",
   "nbconvert_exporter": "python",
   "pygments_lexer": "ipython3",
   "version": "3.10.6"
  }
 },
 "nbformat": 4,
 "nbformat_minor": 5
}
