{
 "cells": [
  {
   "cell_type": "markdown",
   "id": "34d9c0ec",
   "metadata": {},
   "source": [
    "# 🌤 Weather Temperature"
   ]
  },
  {
   "cell_type": "markdown",
   "id": "6055f11f",
   "metadata": {},
   "source": [
    "🧑🏻‍🎓 Read everything carefully. \n",
    "\n",
    "💻 Coding sections are indicated with the `laptop` emoji."
   ]
  },
  {
   "cell_type": "markdown",
   "id": "9480881c",
   "metadata": {},
   "source": [
    "### Libraries"
   ]
  },
  {
   "cell_type": "markdown",
   "id": "863783bf",
   "metadata": {},
   "source": [
    "1. Let's import the usual libraries:"
   ]
  },
  {
   "cell_type": "code",
   "execution_count": 13,
   "id": "fbfa0e56",
   "metadata": {
    "vscode": {
     "languageId": "python"
    }
   },
   "outputs": [],
   "source": [
    "# Data manipulation\n",
    "import numpy as np\n",
    "import pandas as pd\n",
    "pd.set_option(\"display.max_columns\", None)\n",
    "\n",
    "# Data Visualiation\n",
    "import matplotlib.pyplot as plt\n",
    "import seaborn as sns\n",
    "\n",
    "# System\n",
    "import os\n",
    "\n",
    "# Deep Learning\n",
    "import tensorflow as tf"
   ]
  },
  {
   "cell_type": "markdown",
   "id": "6e4e6d9c",
   "metadata": {},
   "source": [
    "2. Manipulating temporal data is tricky, let's also import 📚 [`typing`](https://docs.python.org/3/library/typing.html) to check the types of variables we will be dealing with in our Python functions:"
   ]
  },
  {
   "cell_type": "code",
   "execution_count": 14,
   "id": "8316d359",
   "metadata": {
    "vscode": {
     "languageId": "python"
    }
   },
   "outputs": [],
   "source": [
    "from typing import Dict, List, Tuple, Sequence"
   ]
  },
  {
   "cell_type": "markdown",
   "id": "76642d18",
   "metadata": {},
   "source": [
    "# (0) The weather temperature challenge"
   ]
  },
  {
   "cell_type": "markdown",
   "id": "d3a284b8",
   "metadata": {},
   "source": [
    "## (0.0) Introduction"
   ]
  },
  {
   "cell_type": "markdown",
   "id": "ad3c33f3",
   "metadata": {},
   "source": [
    "🧑🏻‍🏫 **Goals:**\n",
    "- Prepare a dataset to be fed into a Recurrent Neural Network\n",
    "- Develop a better understanding of Time Series\n",
    "\n",
    "❗️ **Warning/Disclaimer**:\n",
    "- This task is truly designed to help you understand **how to deal with temporal data**, using an LSTM architecture as a _tool_, not to focus on the different gates of the LSTM or designing the \"best\" recurrent network."
   ]
  },
  {
   "cell_type": "markdown",
   "id": "7834833a",
   "metadata": {},
   "source": [
    "🎯 **ML target**:\n",
    "* In this challenge, we want to **predict the temperature in the next 3, 6, 9, 12... hours**... \n",
    "* ...based on a sequence of weather features such as the _past temperature_, the _atmospheric pressure_, the _humidity_, etc.."
   ]
  },
  {
   "cell_type": "markdown",
   "id": "217139a1",
   "metadata": {},
   "source": [
    "## (0.1) The weather dataset"
   ]
  },
  {
   "cell_type": "markdown",
   "id": "6ffa02c8",
   "metadata": {},
   "source": [
    "### (0.1.1) Loading the dataset"
   ]
  },
  {
   "cell_type": "markdown",
   "id": "0393fe17",
   "metadata": {},
   "source": [
    "🌤 This challenge uses a [**weather time series dataset**](https://www.bgc-jena.mpg.de/wetter/) recorded by the [**Max-Planck-Institute for Biogeochemistry**](https://www.bgc-jena.mpg.de/index.php/Main/HomePage). This dataset contains $14$ different features such as _air temperature_, _atmospheric pressure_ and _humidity_ that were collected starting in 2003 every 10 minutes (~ 420k rows). But for efficiency, you will use \"only\" the data collected between 2009 and 2016 every three hours. Indeed, this time interval seems reasonable to observe the evolution of the temperature throughout a given day.\n",
    "\n",
    "🛠 We've already performed the following feature engineering steps for you:\n",
    "- taking every $18$th record to focus on predictions every three hours $ ( 18 =  \\frac{6 records}{hour} \\times 3 hours)$\n",
    "- replacing absurd values\n",
    "- _wind_: computing the wind directions as wind vectors with coordinates (`Wx`, `Wy`)\n",
    "- computing _the daily and yearly periodicities_, stored through (`Day sin`, `Day cos`) and (`Year sin`, `Year cos`)"
   ]
  },
  {
   "cell_type": "markdown",
   "id": "8c2feecb",
   "metadata": {},
   "source": [
    "👇 Trust us and start from this already preprocessed dataset for this challenge 👇"
   ]
  },
  {
   "cell_type": "code",
   "execution_count": 15,
   "id": "6244909e",
   "metadata": {
    "vscode": {
     "languageId": "python"
    }
   },
   "outputs": [
    {
     "data": {
      "text/html": [
       "<div>\n",
       "<style scoped>\n",
       "    .dataframe tbody tr th:only-of-type {\n",
       "        vertical-align: middle;\n",
       "    }\n",
       "\n",
       "    .dataframe tbody tr th {\n",
       "        vertical-align: top;\n",
       "    }\n",
       "\n",
       "    .dataframe thead th {\n",
       "        text-align: right;\n",
       "    }\n",
       "</style>\n",
       "<table border=\"1\" class=\"dataframe\">\n",
       "  <thead>\n",
       "    <tr style=\"text-align: right;\">\n",
       "      <th></th>\n",
       "      <th>p (mbar)</th>\n",
       "      <th>T (degC)</th>\n",
       "      <th>Tpot (K)</th>\n",
       "      <th>Tdew (degC)</th>\n",
       "      <th>rh (%)</th>\n",
       "      <th>VPmax (mbar)</th>\n",
       "      <th>VPact (mbar)</th>\n",
       "      <th>VPdef (mbar)</th>\n",
       "      <th>sh (g/kg)</th>\n",
       "      <th>H2OC (mmol/mol)</th>\n",
       "      <th>rho (g/m**3)</th>\n",
       "      <th>Wx</th>\n",
       "      <th>Wy</th>\n",
       "      <th>max Wx</th>\n",
       "      <th>max Wy</th>\n",
       "      <th>Day_sin</th>\n",
       "      <th>Day_cos</th>\n",
       "      <th>Year_sin</th>\n",
       "      <th>Year_cos</th>\n",
       "    </tr>\n",
       "  </thead>\n",
       "  <tbody>\n",
       "    <tr>\n",
       "      <th>0</th>\n",
       "      <td>996.84</td>\n",
       "      <td>-8.81</td>\n",
       "      <td>264.59</td>\n",
       "      <td>-9.66</td>\n",
       "      <td>93.50</td>\n",
       "      <td>3.13</td>\n",
       "      <td>2.93</td>\n",
       "      <td>0.20</td>\n",
       "      <td>1.83</td>\n",
       "      <td>2.94</td>\n",
       "      <td>1312.18</td>\n",
       "      <td>-0.175527</td>\n",
       "      <td>0.039879</td>\n",
       "      <td>-0.614344</td>\n",
       "      <td>0.139576</td>\n",
       "      <td>7.071068e-01</td>\n",
       "      <td>7.071068e-01</td>\n",
       "      <td>0.011483</td>\n",
       "      <td>0.999934</td>\n",
       "    </tr>\n",
       "    <tr>\n",
       "      <th>1</th>\n",
       "      <td>997.71</td>\n",
       "      <td>-9.67</td>\n",
       "      <td>263.66</td>\n",
       "      <td>-10.62</td>\n",
       "      <td>92.70</td>\n",
       "      <td>2.93</td>\n",
       "      <td>2.71</td>\n",
       "      <td>0.21</td>\n",
       "      <td>1.69</td>\n",
       "      <td>2.72</td>\n",
       "      <td>1317.71</td>\n",
       "      <td>-0.041452</td>\n",
       "      <td>0.027960</td>\n",
       "      <td>-0.414519</td>\n",
       "      <td>0.279596</td>\n",
       "      <td>1.000000e+00</td>\n",
       "      <td>4.339955e-12</td>\n",
       "      <td>0.013633</td>\n",
       "      <td>0.999907</td>\n",
       "    </tr>\n",
       "    <tr>\n",
       "      <th>2</th>\n",
       "      <td>999.69</td>\n",
       "      <td>-7.66</td>\n",
       "      <td>265.52</td>\n",
       "      <td>-8.84</td>\n",
       "      <td>91.20</td>\n",
       "      <td>3.43</td>\n",
       "      <td>3.13</td>\n",
       "      <td>0.30</td>\n",
       "      <td>1.95</td>\n",
       "      <td>3.13</td>\n",
       "      <td>1310.14</td>\n",
       "      <td>-0.314796</td>\n",
       "      <td>-0.128466</td>\n",
       "      <td>-0.583298</td>\n",
       "      <td>-0.238040</td>\n",
       "      <td>7.071068e-01</td>\n",
       "      <td>-7.071068e-01</td>\n",
       "      <td>0.015783</td>\n",
       "      <td>0.999875</td>\n",
       "    </tr>\n",
       "    <tr>\n",
       "      <th>3</th>\n",
       "      <td>1000.30</td>\n",
       "      <td>-6.87</td>\n",
       "      <td>266.27</td>\n",
       "      <td>-8.28</td>\n",
       "      <td>89.60</td>\n",
       "      <td>3.64</td>\n",
       "      <td>3.27</td>\n",
       "      <td>0.38</td>\n",
       "      <td>2.03</td>\n",
       "      <td>3.26</td>\n",
       "      <td>1306.98</td>\n",
       "      <td>-1.834577</td>\n",
       "      <td>-0.141163</td>\n",
       "      <td>-2.622249</td>\n",
       "      <td>-0.201771</td>\n",
       "      <td>6.903299e-12</td>\n",
       "      <td>-1.000000e+00</td>\n",
       "      <td>0.017933</td>\n",
       "      <td>0.999839</td>\n",
       "    </tr>\n",
       "    <tr>\n",
       "      <th>4</th>\n",
       "      <td>999.88</td>\n",
       "      <td>-5.69</td>\n",
       "      <td>267.48</td>\n",
       "      <td>-7.00</td>\n",
       "      <td>90.40</td>\n",
       "      <td>3.99</td>\n",
       "      <td>3.61</td>\n",
       "      <td>0.38</td>\n",
       "      <td>2.25</td>\n",
       "      <td>3.61</td>\n",
       "      <td>1300.51</td>\n",
       "      <td>-0.825870</td>\n",
       "      <td>0.828758</td>\n",
       "      <td>-1.327039</td>\n",
       "      <td>1.331679</td>\n",
       "      <td>-7.071068e-01</td>\n",
       "      <td>-7.071068e-01</td>\n",
       "      <td>0.020083</td>\n",
       "      <td>0.999798</td>\n",
       "    </tr>\n",
       "    <tr>\n",
       "      <th>...</th>\n",
       "      <td>...</td>\n",
       "      <td>...</td>\n",
       "      <td>...</td>\n",
       "      <td>...</td>\n",
       "      <td>...</td>\n",
       "      <td>...</td>\n",
       "      <td>...</td>\n",
       "      <td>...</td>\n",
       "      <td>...</td>\n",
       "      <td>...</td>\n",
       "      <td>...</td>\n",
       "      <td>...</td>\n",
       "      <td>...</td>\n",
       "      <td>...</td>\n",
       "      <td>...</td>\n",
       "      <td>...</td>\n",
       "      <td>...</td>\n",
       "      <td>...</td>\n",
       "      <td>...</td>\n",
       "    </tr>\n",
       "    <tr>\n",
       "      <th>23358</th>\n",
       "      <td>1006.23</td>\n",
       "      <td>-6.31</td>\n",
       "      <td>266.37</td>\n",
       "      <td>-8.42</td>\n",
       "      <td>84.90</td>\n",
       "      <td>3.81</td>\n",
       "      <td>3.23</td>\n",
       "      <td>0.57</td>\n",
       "      <td>2.00</td>\n",
       "      <td>3.21</td>\n",
       "      <td>1312.01</td>\n",
       "      <td>-1.279930</td>\n",
       "      <td>-0.013404</td>\n",
       "      <td>-1.839899</td>\n",
       "      <td>-0.019268</td>\n",
       "      <td>6.755902e-01</td>\n",
       "      <td>-7.372773e-01</td>\n",
       "      <td>-0.000268</td>\n",
       "      <td>1.000000</td>\n",
       "    </tr>\n",
       "    <tr>\n",
       "      <th>23359</th>\n",
       "      <td>1004.62</td>\n",
       "      <td>-0.71</td>\n",
       "      <td>272.09</td>\n",
       "      <td>-5.97</td>\n",
       "      <td>67.37</td>\n",
       "      <td>5.80</td>\n",
       "      <td>3.91</td>\n",
       "      <td>1.89</td>\n",
       "      <td>2.42</td>\n",
       "      <td>3.89</td>\n",
       "      <td>1282.65</td>\n",
       "      <td>-0.976457</td>\n",
       "      <td>-0.412471</td>\n",
       "      <td>-1.916066</td>\n",
       "      <td>-0.809378</td>\n",
       "      <td>-4.361939e-02</td>\n",
       "      <td>-9.990482e-01</td>\n",
       "      <td>0.001883</td>\n",
       "      <td>0.999998</td>\n",
       "    </tr>\n",
       "    <tr>\n",
       "      <th>23360</th>\n",
       "      <td>1003.09</td>\n",
       "      <td>4.97</td>\n",
       "      <td>277.88</td>\n",
       "      <td>-3.04</td>\n",
       "      <td>56.03</td>\n",
       "      <td>8.71</td>\n",
       "      <td>4.88</td>\n",
       "      <td>3.83</td>\n",
       "      <td>3.03</td>\n",
       "      <td>4.86</td>\n",
       "      <td>1254.09</td>\n",
       "      <td>-0.403185</td>\n",
       "      <td>-0.359224</td>\n",
       "      <td>-0.776504</td>\n",
       "      <td>-0.691840</td>\n",
       "      <td>-7.372773e-01</td>\n",
       "      <td>-6.755902e-01</td>\n",
       "      <td>0.004033</td>\n",
       "      <td>0.999992</td>\n",
       "    </tr>\n",
       "    <tr>\n",
       "      <th>23361</th>\n",
       "      <td>1002.27</td>\n",
       "      <td>-0.42</td>\n",
       "      <td>272.56</td>\n",
       "      <td>-4.92</td>\n",
       "      <td>71.50</td>\n",
       "      <td>5.92</td>\n",
       "      <td>4.23</td>\n",
       "      <td>1.69</td>\n",
       "      <td>2.63</td>\n",
       "      <td>4.22</td>\n",
       "      <td>1278.14</td>\n",
       "      <td>-0.266024</td>\n",
       "      <td>-0.350473</td>\n",
       "      <td>-0.604599</td>\n",
       "      <td>-0.796530</td>\n",
       "      <td>-9.990482e-01</td>\n",
       "      <td>4.361939e-02</td>\n",
       "      <td>0.006183</td>\n",
       "      <td>0.999981</td>\n",
       "    </tr>\n",
       "    <tr>\n",
       "      <th>23362</th>\n",
       "      <td>1001.19</td>\n",
       "      <td>-2.75</td>\n",
       "      <td>270.32</td>\n",
       "      <td>-6.90</td>\n",
       "      <td>72.90</td>\n",
       "      <td>4.99</td>\n",
       "      <td>3.64</td>\n",
       "      <td>1.35</td>\n",
       "      <td>2.26</td>\n",
       "      <td>3.63</td>\n",
       "      <td>1288.02</td>\n",
       "      <td>-0.661501</td>\n",
       "      <td>0.257908</td>\n",
       "      <td>-1.453438</td>\n",
       "      <td>0.566672</td>\n",
       "      <td>-6.755902e-01</td>\n",
       "      <td>7.372773e-01</td>\n",
       "      <td>0.008334</td>\n",
       "      <td>0.999965</td>\n",
       "    </tr>\n",
       "  </tbody>\n",
       "</table>\n",
       "<p>23363 rows × 19 columns</p>\n",
       "</div>"
      ],
      "text/plain": [
       "       p (mbar)  T (degC)  Tpot (K)  Tdew (degC)  rh (%)  VPmax (mbar)  \\\n",
       "0        996.84     -8.81    264.59        -9.66   93.50          3.13   \n",
       "1        997.71     -9.67    263.66       -10.62   92.70          2.93   \n",
       "2        999.69     -7.66    265.52        -8.84   91.20          3.43   \n",
       "3       1000.30     -6.87    266.27        -8.28   89.60          3.64   \n",
       "4        999.88     -5.69    267.48        -7.00   90.40          3.99   \n",
       "...         ...       ...       ...          ...     ...           ...   \n",
       "23358   1006.23     -6.31    266.37        -8.42   84.90          3.81   \n",
       "23359   1004.62     -0.71    272.09        -5.97   67.37          5.80   \n",
       "23360   1003.09      4.97    277.88        -3.04   56.03          8.71   \n",
       "23361   1002.27     -0.42    272.56        -4.92   71.50          5.92   \n",
       "23362   1001.19     -2.75    270.32        -6.90   72.90          4.99   \n",
       "\n",
       "       VPact (mbar)  VPdef (mbar)  sh (g/kg)  H2OC (mmol/mol)  rho (g/m**3)  \\\n",
       "0              2.93          0.20       1.83             2.94       1312.18   \n",
       "1              2.71          0.21       1.69             2.72       1317.71   \n",
       "2              3.13          0.30       1.95             3.13       1310.14   \n",
       "3              3.27          0.38       2.03             3.26       1306.98   \n",
       "4              3.61          0.38       2.25             3.61       1300.51   \n",
       "...             ...           ...        ...              ...           ...   \n",
       "23358          3.23          0.57       2.00             3.21       1312.01   \n",
       "23359          3.91          1.89       2.42             3.89       1282.65   \n",
       "23360          4.88          3.83       3.03             4.86       1254.09   \n",
       "23361          4.23          1.69       2.63             4.22       1278.14   \n",
       "23362          3.64          1.35       2.26             3.63       1288.02   \n",
       "\n",
       "             Wx        Wy    max Wx    max Wy       Day_sin       Day_cos  \\\n",
       "0     -0.175527  0.039879 -0.614344  0.139576  7.071068e-01  7.071068e-01   \n",
       "1     -0.041452  0.027960 -0.414519  0.279596  1.000000e+00  4.339955e-12   \n",
       "2     -0.314796 -0.128466 -0.583298 -0.238040  7.071068e-01 -7.071068e-01   \n",
       "3     -1.834577 -0.141163 -2.622249 -0.201771  6.903299e-12 -1.000000e+00   \n",
       "4     -0.825870  0.828758 -1.327039  1.331679 -7.071068e-01 -7.071068e-01   \n",
       "...         ...       ...       ...       ...           ...           ...   \n",
       "23358 -1.279930 -0.013404 -1.839899 -0.019268  6.755902e-01 -7.372773e-01   \n",
       "23359 -0.976457 -0.412471 -1.916066 -0.809378 -4.361939e-02 -9.990482e-01   \n",
       "23360 -0.403185 -0.359224 -0.776504 -0.691840 -7.372773e-01 -6.755902e-01   \n",
       "23361 -0.266024 -0.350473 -0.604599 -0.796530 -9.990482e-01  4.361939e-02   \n",
       "23362 -0.661501  0.257908 -1.453438  0.566672 -6.755902e-01  7.372773e-01   \n",
       "\n",
       "       Year_sin  Year_cos  \n",
       "0      0.011483  0.999934  \n",
       "1      0.013633  0.999907  \n",
       "2      0.015783  0.999875  \n",
       "3      0.017933  0.999839  \n",
       "4      0.020083  0.999798  \n",
       "...         ...       ...  \n",
       "23358 -0.000268  1.000000  \n",
       "23359  0.001883  0.999998  \n",
       "23360  0.004033  0.999992  \n",
       "23361  0.006183  0.999981  \n",
       "23362  0.008334  0.999965  \n",
       "\n",
       "[23363 rows x 19 columns]"
      ]
     },
     "execution_count": 15,
     "metadata": {},
     "output_type": "execute_result"
    }
   ],
   "source": [
    "url = \"https://wagon-public-datasets.s3.amazonaws.com/deep_learning_datasets/weather_every_three_hours_engineered.csv\"\n",
    "df = pd.read_csv(url).drop(columns = ['Unnamed: 0'])\n",
    "df"
   ]
  },
  {
   "cell_type": "markdown",
   "id": "5f606a98",
   "metadata": {},
   "source": [
    "👆 In the preprocessed dataset, we have :\n",
    "- $23$k rows  (~ 8 years of weather data)\n",
    "- $19$ features composed of:\n",
    "    - $1$ <font color=green>**target**</font> (we will use the past values of the temperature as a feature)\n",
    "    - $18$ <font color=orange>**past covariates**</font> (= features which past values are known)\n",
    "    - $0$ <font color=blue>**future covariates**</font> (= features which future values are known, e.g. public holidays)\n",
    "\n",
    "    \n",
    "<img src='https://github.com/lewagon/data-images/blob/master/DL/time-series-covariates.png?raw=true'>\n",
    "\n",
    "👨🏻‍🏫 This weather dataset is a DataFrame (dimension = 2) which is a single Time Series from the beginning of 2009 to the end 2016 with records every 3 hours.\n",
    "\n",
    "* `df.shape = (n_timesteps, n_features) = (23363, 19)`\n",
    "\n",
    "<details>\n",
    "    <summary>We have in total 8 years of data</summary>\n",
    "\n",
    "$ \\frac{23363 records}{365 \\frac{days}{year} \\times 24 \\frac{hours}{day} \\times \\frac{1 record}{3 hours}} = \\frac{23363 records}{2920 \\frac{records}{year}} = 8 years = (2016 - 2009 + 1 ) years$\n",
    "    \n",
    "</details>\n",
    "\n",
    "🎯 The goal is to predict the temperature in 3, 6, 9, 12, ... hours using the past values."
   ]
  },
  {
   "cell_type": "code",
   "execution_count": 16,
   "id": "e56b90fb",
   "metadata": {
    "vscode": {
     "languageId": "python"
    }
   },
   "outputs": [],
   "source": [
    "# Let's define the global variables of our dataset\n",
    "TARGET = 'T (degC)'\n",
    "N_TARGETS = 1\n",
    "N_FEATURES = 19"
   ]
  },
  {
   "cell_type": "markdown",
   "id": "5c37111f",
   "metadata": {},
   "source": [
    "### (0.0.2) Visualising your Time Series"
   ]
  },
  {
   "cell_type": "markdown",
   "id": "fd35b436",
   "metadata": {},
   "source": [
    "📈  Here is the ***evolution of some features over time***:\n",
    "* `T (degC)` (temperature)\n",
    "* `p (mbar)` (atmospheric pressure)\n",
    "* `rho (g/m**3)` (atmospheric density)\n",
    "\n"
   ]
  },
  {
   "cell_type": "code",
   "execution_count": 17,
   "id": "bbacd54e",
   "metadata": {
    "scrolled": true,
    "vscode": {
     "languageId": "python"
    }
   },
   "outputs": [
    {
     "data": {
      "image/png": "[encoded data removed]",
      "text/plain": [
       "<Figure size 640x480 with 3 Axes>"
      ]
     },
     "metadata": {},
     "output_type": "display_data"
    }
   ],
   "source": [
    "plot_cols = [TARGET, 'p (mbar)', 'rho (g/m**3)']   # a list with 3 columns of the original df\n",
    "plot_features = df[plot_cols]                    # creates new df Plot_features passing the filter [plot_cols]\n",
    "plot_features.index = df.index                # indices of plot_features will be the same as df\n",
    "plot_features.plot(subplots = True);         # plot the DataFrame plot_features"
   ]
  },
  {
   "cell_type": "code",
   "execution_count": 18,
   "id": "6d4c0a07",
   "metadata": {},
   "outputs": [
    {
     "data": {
      "text/plain": [
       "['T (degC)', 'p (mbar)', 'rho (g/m**3)']"
      ]
     },
     "execution_count": 18,
     "metadata": {},
     "output_type": "execute_result"
    }
   ],
   "source": [
    "plot_cols  # just inspecting the variable"
   ]
  },
  {
   "cell_type": "code",
   "execution_count": 19,
   "id": "7eca0cc3",
   "metadata": {},
   "outputs": [
    {
     "data": {
      "text/html": [
       "<div>\n",
       "<style scoped>\n",
       "    .dataframe tbody tr th:only-of-type {\n",
       "        vertical-align: middle;\n",
       "    }\n",
       "\n",
       "    .dataframe tbody tr th {\n",
       "        vertical-align: top;\n",
       "    }\n",
       "\n",
       "    .dataframe thead th {\n",
       "        text-align: right;\n",
       "    }\n",
       "</style>\n",
       "<table border=\"1\" class=\"dataframe\">\n",
       "  <thead>\n",
       "    <tr style=\"text-align: right;\">\n",
       "      <th></th>\n",
       "      <th>T (degC)</th>\n",
       "      <th>p (mbar)</th>\n",
       "      <th>rho (g/m**3)</th>\n",
       "    </tr>\n",
       "  </thead>\n",
       "  <tbody>\n",
       "    <tr>\n",
       "      <th>0</th>\n",
       "      <td>-8.81</td>\n",
       "      <td>996.84</td>\n",
       "      <td>1312.18</td>\n",
       "    </tr>\n",
       "    <tr>\n",
       "      <th>1</th>\n",
       "      <td>-9.67</td>\n",
       "      <td>997.71</td>\n",
       "      <td>1317.71</td>\n",
       "    </tr>\n",
       "    <tr>\n",
       "      <th>2</th>\n",
       "      <td>-7.66</td>\n",
       "      <td>999.69</td>\n",
       "      <td>1310.14</td>\n",
       "    </tr>\n",
       "    <tr>\n",
       "      <th>3</th>\n",
       "      <td>-6.87</td>\n",
       "      <td>1000.30</td>\n",
       "      <td>1306.98</td>\n",
       "    </tr>\n",
       "    <tr>\n",
       "      <th>4</th>\n",
       "      <td>-5.69</td>\n",
       "      <td>999.88</td>\n",
       "      <td>1300.51</td>\n",
       "    </tr>\n",
       "    <tr>\n",
       "      <th>...</th>\n",
       "      <td>...</td>\n",
       "      <td>...</td>\n",
       "      <td>...</td>\n",
       "    </tr>\n",
       "    <tr>\n",
       "      <th>23358</th>\n",
       "      <td>-6.31</td>\n",
       "      <td>1006.23</td>\n",
       "      <td>1312.01</td>\n",
       "    </tr>\n",
       "    <tr>\n",
       "      <th>23359</th>\n",
       "      <td>-0.71</td>\n",
       "      <td>1004.62</td>\n",
       "      <td>1282.65</td>\n",
       "    </tr>\n",
       "    <tr>\n",
       "      <th>23360</th>\n",
       "      <td>4.97</td>\n",
       "      <td>1003.09</td>\n",
       "      <td>1254.09</td>\n",
       "    </tr>\n",
       "    <tr>\n",
       "      <th>23361</th>\n",
       "      <td>-0.42</td>\n",
       "      <td>1002.27</td>\n",
       "      <td>1278.14</td>\n",
       "    </tr>\n",
       "    <tr>\n",
       "      <th>23362</th>\n",
       "      <td>-2.75</td>\n",
       "      <td>1001.19</td>\n",
       "      <td>1288.02</td>\n",
       "    </tr>\n",
       "  </tbody>\n",
       "</table>\n",
       "<p>23363 rows × 3 columns</p>\n",
       "</div>"
      ],
      "text/plain": [
       "       T (degC)  p (mbar)  rho (g/m**3)\n",
       "0         -8.81    996.84       1312.18\n",
       "1         -9.67    997.71       1317.71\n",
       "2         -7.66    999.69       1310.14\n",
       "3         -6.87   1000.30       1306.98\n",
       "4         -5.69    999.88       1300.51\n",
       "...         ...       ...           ...\n",
       "23358     -6.31   1006.23       1312.01\n",
       "23359     -0.71   1004.62       1282.65\n",
       "23360      4.97   1003.09       1254.09\n",
       "23361     -0.42   1002.27       1278.14\n",
       "23362     -2.75   1001.19       1288.02\n",
       "\n",
       "[23363 rows x 3 columns]"
      ]
     },
     "execution_count": 19,
     "metadata": {},
     "output_type": "execute_result"
    }
   ],
   "source": [
    "plot_features  # just inspecting the variable"
   ]
  },
  {
   "cell_type": "code",
   "execution_count": 20,
   "id": "237ae8a5",
   "metadata": {
    "vscode": {
     "languageId": "python"
    }
   },
   "outputs": [
    {
     "data": {
      "image/png": "[encoded data removed]",
      "text/plain": [
       "<Figure size 640x480 with 3 Axes>"
      ]
     },
     "metadata": {},
     "output_type": "display_data"
    }
   ],
   "source": [
    "zoomed_slice = slice(1000,1100)  # slice(start, stop, step) returns a slice object that is used to slice any sequence \n",
    "                                #(string, tuple, list, range, or bytes).\n",
    "\n",
    "plot_features = df.loc[zoomed_slice, plot_cols]  # reassign plot_features to only a few rows (zoomed_slice) \n",
    "plot_features.plot(subplots = True);                      #  and columns (plot_cols)of the original df"
   ]
  },
  {
   "cell_type": "markdown",
   "id": "4c96eb9d",
   "metadata": {},
   "source": [
    "# (1) Prepare the dataset"
   ]
  },
  {
   "cell_type": "markdown",
   "id": "2ba4947d",
   "metadata": {},
   "source": [
    "##  (1.0) The big picture"
   ]
  },
  {
   "cell_type": "markdown",
   "id": "5bdae376",
   "metadata": {},
   "source": [
    "<b><u>Step 1: Cross-Validation in Time Series [FOLDS] </u></b>\n",
    "\n",
    "* Starting from this single Time Series, we will create <font color=\"#c91ac9\">**FOLDS**</font>...\n",
    "* ... and train/evaluate our LSTM on these different <font color=\"#c91ac9\">**FOLDS**</font> to conclude about the robustness of the neural network\n",
    "* It is very common to create ***hundreds*** of <font color=\"#c91ac9\">**FOLDS**</font> in Time Series forecasting, in order to cover all types of external conditions: e.g.\n",
    "    - crash market periods 📉\n",
    "    - bull markets 📈\n",
    "    - atone markets 😴, etc...\n",
    "\n",
    "<b><u>Step 2: Holdout method within each fold [TRAIN-TEST SPLIT]</u></b>\n",
    "\n",
    "* For each <font color=\"#c91ac9\">**FOLD**</font>, we will do a TRAIN-TEST SPLIT to:\n",
    "    * <font color=blue>**fit**</font> the model on the <font color=blue>**train**</font> set \n",
    "    * and <font color=\"#ff8005\">**evaluate**</font> it on the <font color=\"#ff8005\">**test**</font> set\n",
    "    * Always split the train set **chronologically** before the test set!\n",
    "\n",
    "👇 The first two steps can be summarized in the following image that contains 4 FOLDS:\n",
    "\n",
    "<img src=\"https://i.sstatic.net/padg4.gif\" alt=\"Time Series Cross Validation\" width=\"500\" height=\"500\">\n",
    "![image.png](attachment:image.png)\n",
    "\n",
    "\n",
    "<b><u>Step 3: Sampling SEQUENCES in both the train set and the test set</u></b>\n",
    "\n",
    "In each <font color=blue>**train**</font> set and each <font color=\"#ff8005\">**test**</font> set, we will create <font color=magenta>**random sequences**</font> as illustrated down below 👇:\n",
    "\n",
    "<img src=\"https://bit.ly/3Ri8Vfd\" alt=\"Sequences in each fold\" width=\"500\" height=\"500\"> \n",
    "\n"
   ]
  },
  {
   "attachments": {
    "image-2.png": {
     "image/png": "[encoded data removed]"
    }
   },
   "cell_type": "markdown",
   "id": "347f41f2",
   "metadata": {},
   "source": [
    "![image-2.png](attachment:image-2.png)"
   ]
  },
  {
   "attachments": {
    "image.png": {
     "image/png": "[encoded data removed]"
    }
   },
   "cell_type": "markdown",
   "id": "e72a6e0a",
   "metadata": {},
   "source": [
    "![image.png](attachment:image.png)"
   ]
  },
  {
   "cell_type": "markdown",
   "id": "6a0c2349",
   "metadata": {},
   "source": [
    "## (1.1) 💻 Creating  <font color=\"#c91ac9\">**FOLDS**</font> for cross-validation\n",
    "\n",
    "Each of them with shape `(FOLD_LENGTH, n_features)` "
   ]
  },
  {
   "cell_type": "markdown",
   "id": "74ceaad7",
   "metadata": {},
   "source": [
    "🌐 Let's define some global variables that we will use for our tests everywhere in this notebook:"
   ]
  },
  {
   "cell_type": "code",
   "execution_count": 21,
   "id": "da0d06a1",
   "metadata": {
    "vscode": {
     "languageId": "python"
    }
   },
   "outputs": [],
   "source": [
    "# --------------------------------------------------- #\n",
    "# Let's consider FOLDS with a length of 3 years       #\n",
    "# (2 years will be used for train, 1 for test!)       #\n",
    "# --------------------------------------------------- #\n",
    "\n",
    "FOLD_LENGTH = 8*365 * 3 # every 3 hrs x 8 = 24h       # 8 times a day * for 365 days (1 year) * for 3 years\n",
    "                        # three years\n",
    "\n",
    "# --------------------------------------------------- #\n",
    "# Let's consider FOLDS starting every trimester       #\n",
    "# --------------------------------------------------- #\n",
    "    \n",
    "FOLD_STRIDE = 8*91 # every 3 hrs x 8 = 24h            # 8 times a day for 91 days (1 trimester)\n",
    "                   # 1 quarter = 91 days\n",
    "\n",
    "# --------------------------------------------------- #\n",
    "# Let's consider a train-test-split ratio of 2/3      #\n",
    "# --------------------------------------------------- #\n",
    "\n",
    "TRAIN_TEST_RATIO = 0.66                               # 2 years train, 1 year test"
   ]
  },
  {
   "cell_type": "markdown",
   "id": "4783b80f",
   "metadata": {},
   "source": [
    "💻 ❓ **Question (<font color=\"#c91ac9\">FOLDS</font>)** ❓\n",
    "\n",
    "Code the function `get_folds` below that we will use to create folds  `folds = get_folds(df, FOLD_LENGTH, FOLD_STRIDE)`"
   ]
  },
  {
   "cell_type": "code",
   "execution_count": 22,
   "id": "931268f4",
   "metadata": {
    "vscode": {
     "languageId": "python"
    }
   },
   "outputs": [],
   "source": [
    "def get_folds(\n",
    "    df: pd.DataFrame,\n",
    "    fold_length: int,\n",
    "    fold_stride: int) -> List[pd.DataFrame]:\n",
    "    '''\n",
    "    This function slides through the Time Series dataframe of shape (n_timesteps, n_features) to create folds\n",
    "    - of equal `fold_length`\n",
    "    - using `fold_stride` between each fold\n",
    "    \n",
    "    Returns a list of folds, each as a DataFrame\n",
    "    '''\n",
    "    # YOUR CODE HERE\n",
    "    folds = []\n",
    "    for idx in range(0, len(df)-fold_length, fold_stride): # --> also possible to get rid of the break \n",
    "    #for idx in range(0, len(df), fold_stride):   # range(start, stop, step): for each idx in our rows at every 91 days\n",
    "        # Exits the loop as soon as the last fold index would exceed the last index\n",
    "        #if (idx + fold_length) > len(df):\n",
    "            #break\n",
    "        fold = df.iloc[idx:idx + fold_length, :]  # select from row idx til last row of the fold (3 years), all the columns\n",
    "        folds.append(fold)   # append the 3 year fold to folds\n",
    "    return folds"
   ]
  },
  {
   "cell_type": "markdown",
   "id": "7da91705",
   "metadata": {},
   "source": [
    "🧪 ***Test your code***"
   ]
  },
  {
   "cell_type": "code",
   "execution_count": 23,
   "id": "3d3b46db",
   "metadata": {
    "vscode": {
     "languageId": "python"
    }
   },
   "outputs": [
    {
     "name": "stdout",
     "output_type": "stream",
     "text": [
      "The function generated 21 folds.\n",
      "Each fold has a shape equal to (8760, 19).\n"
     ]
    }
   ],
   "source": [
    "folds = get_folds(df, FOLD_LENGTH, FOLD_STRIDE)\n",
    "\n",
    "print(f'The function generated {len(folds)} folds.')\n",
    "print(f'Each fold has a shape equal to {folds[0].shape}.')"
   ]
  },
  {
   "cell_type": "code",
   "execution_count": 24,
   "id": "568ed065",
   "metadata": {
    "vscode": {
     "languageId": "python"
    }
   },
   "outputs": [
    {
     "ename": "NameError",
     "evalue": "Could not find /tests directory in any parent folder",
     "output_type": "error",
     "traceback": [
      "\u001b[0;31m---------------------------------------------------------------------------\u001b[0m",
      "\u001b[0;31mNameError\u001b[0m                                 Traceback (most recent call last)",
      "Cell \u001b[0;32mIn[24], line 6\u001b[0m\n\u001b[1;32m      1\u001b[0m \u001b[38;5;28;01mfrom\u001b[39;00m \u001b[38;5;21;01mnbresult\u001b[39;00m \u001b[38;5;28;01mimport\u001b[39;00m ChallengeResult\n\u001b[1;32m      3\u001b[0m result \u001b[38;5;241m=\u001b[39m ChallengeResult(\u001b[38;5;124m'\u001b[39m\u001b[38;5;124mfolds\u001b[39m\u001b[38;5;124m'\u001b[39m,\n\u001b[1;32m      4\u001b[0m                          number_of_folds \u001b[38;5;241m=\u001b[39m \u001b[38;5;28mlen\u001b[39m(folds),\n\u001b[1;32m      5\u001b[0m                          fold_shape \u001b[38;5;241m=\u001b[39m folds[\u001b[38;5;241m0\u001b[39m]\u001b[38;5;241m.\u001b[39mshape)\n\u001b[0;32m----> 6\u001b[0m \u001b[43mresult\u001b[49m\u001b[38;5;241;43m.\u001b[39;49m\u001b[43mwrite\u001b[49m\u001b[43m(\u001b[49m\u001b[43m)\u001b[49m\n\u001b[1;32m      7\u001b[0m \u001b[38;5;28mprint\u001b[39m(result\u001b[38;5;241m.\u001b[39mcheck())\n",
      "File \u001b[0;32m~/.pyenv/versions/3.10.6/envs/watt_squad/lib/python3.10/site-packages/nbresult/__init__.py:45\u001b[0m, in \u001b[0;36mChallengeResult.write\u001b[0;34m(self)\u001b[0m\n\u001b[1;32m     43\u001b[0m \u001b[38;5;28;01mdef\u001b[39;00m \u001b[38;5;21mwrite\u001b[39m(\u001b[38;5;28mself\u001b[39m):\n\u001b[1;32m     44\u001b[0m \u001b[38;5;250m    \u001b[39m\u001b[38;5;124;03m\"\"\"Write down values from initialize to result.pickle\"\"\"\u001b[39;00m\n\u001b[0;32m---> 45\u001b[0m     tests_path \u001b[38;5;241m=\u001b[39m \u001b[38;5;28;43mself\u001b[39;49m\u001b[38;5;241;43m.\u001b[39;49m\u001b[43m_locate_tests\u001b[49m\u001b[43m(\u001b[49m\u001b[43m)\u001b[49m\n\u001b[1;32m     47\u001b[0m     \u001b[38;5;28;01mif\u001b[39;00m sys\u001b[38;5;241m.\u001b[39mgetsizeof(\u001b[38;5;28mself\u001b[39m) \u001b[38;5;241m>\u001b[39m \u001b[38;5;241m10_000\u001b[39m:\n\u001b[1;32m     48\u001b[0m         \u001b[38;5;28;01mraise\u001b[39;00m \u001b[38;5;167;01mValueError\u001b[39;00m(\u001b[38;5;124mf\u001b[39m\u001b[38;5;124m\"\"\"\u001b[39m\u001b[38;5;124mCheck the arguments of your ChallengeResult\u001b[39m\n\u001b[1;32m     49\u001b[0m \u001b[38;5;124m            \u001b[39m\u001b[38;5;132;01m{\u001b[39;00m\u001b[38;5;28mself\u001b[39m\u001b[38;5;241m.\u001b[39mname\u001b[38;5;132;01m}\u001b[39;00m\u001b[38;5;124m, one is way too big.\u001b[39m\u001b[38;5;124m\"\"\"\u001b[39m)\n",
      "File \u001b[0;32m~/.pyenv/versions/3.10.6/envs/watt_squad/lib/python3.10/site-packages/nbresult/__init__.py:33\u001b[0m, in \u001b[0;36mChallengeResult._locate_tests\u001b[0;34m(self)\u001b[0m\n\u001b[1;32m     31\u001b[0m     cwd \u001b[38;5;241m=\u001b[39m os\u001b[38;5;241m.\u001b[39mpath\u001b[38;5;241m.\u001b[39mdirname(cwd)\n\u001b[1;32m     32\u001b[0m     \u001b[38;5;28;01mif\u001b[39;00m cwd \u001b[38;5;241m==\u001b[39m os\u001b[38;5;241m.\u001b[39msep:\n\u001b[0;32m---> 33\u001b[0m         \u001b[38;5;28;01mraise\u001b[39;00m \u001b[38;5;167;01mNameError\u001b[39;00m(\n\u001b[1;32m     34\u001b[0m             \u001b[38;5;124m\"\u001b[39m\u001b[38;5;124mCould not find /tests directory in any parent folder\u001b[39m\u001b[38;5;124m\"\u001b[39m)\n\u001b[1;32m     36\u001b[0m tests_path \u001b[38;5;241m=\u001b[39m os\u001b[38;5;241m.\u001b[39mpath\u001b[38;5;241m.\u001b[39mjoin(cwd, \u001b[38;5;124m'\u001b[39m\u001b[38;5;124mtests\u001b[39m\u001b[38;5;124m'\u001b[39m)\n\u001b[1;32m     38\u001b[0m \u001b[38;5;28;01mif\u001b[39;00m \u001b[38;5;28mself\u001b[39m\u001b[38;5;241m.\u001b[39msubdir \u001b[38;5;129;01mis\u001b[39;00m \u001b[38;5;129;01mnot\u001b[39;00m \u001b[38;5;28;01mNone\u001b[39;00m:\n",
      "\u001b[0;31mNameError\u001b[0m: Could not find /tests directory in any parent folder"
     ]
    }
   ],
   "source": [
    "from nbresult import ChallengeResult\n",
    "\n",
    "result = ChallengeResult('folds',\n",
    "                         number_of_folds = len(folds),\n",
    "                         fold_shape = folds[0].shape)\n",
    "result.write()\n",
    "print(result.check())"
   ]
  },
  {
   "cell_type": "markdown",
   "id": "2d353d74",
   "metadata": {},
   "source": [
    "☝️ This amount of <font color=\"#c91ac9\">**FOLDS**</font> should be enough to cross-validate our model correctly !"
   ]
  },
  {
   "cell_type": "markdown",
   "id": "3f14445d",
   "metadata": {},
   "source": [
    "## (1.2) 💻 Temporal <font color=blue>**Train**</font>/<font color=\"#ff8005\">**Test**</font> Split"
   ]
  },
  {
   "cell_type": "markdown",
   "id": "68f09694",
   "metadata": {},
   "source": [
    "👩🏻‍🏫 Let's focus on one fold for the moment."
   ]
  },
  {
   "cell_type": "code",
   "execution_count": null,
   "id": "c77b82ad",
   "metadata": {
    "vscode": {
     "languageId": "python"
    }
   },
   "outputs": [],
   "source": [
    "fold = folds[0]\n",
    "fold"
   ]
  },
  {
   "cell_type": "markdown",
   "id": "eedfc7ad",
   "metadata": {},
   "source": [
    "☝️ We want to split this fold **chronologically** into:\n",
    "\n",
    "- a <font color=blue>train</font> dataframe\n",
    "- a <font color=\"#ff8005\">test</font> dataframe\n",
    "\n",
    "that will contain all the data we need to be able to sample many `(X_i, y_i)` pairs in each dataframe in a next step! "
   ]
  },
  {
   "cell_type": "markdown",
   "id": "ca77c3e2",
   "metadata": {},
   "source": [
    "The `INPUT_LENGTH` of each `X_i` is going to be equal to 2 weeks (it is quite a common period for weather forecasting)"
   ]
  },
  {
   "cell_type": "code",
   "execution_count": null,
   "id": "765a30f7",
   "metadata": {
    "vscode": {
     "languageId": "python"
    }
   },
   "outputs": [],
   "source": [
    "# 8 measurements per day for 14 days\n",
    "INPUT_LENGTH = 8 * 14 # records every 3 hours x 8 = 24 hours\n",
    "                      # two weeks"
   ]
  },
  {
   "cell_type": "markdown",
   "id": "876707ba",
   "metadata": {},
   "source": [
    "💻 ❓ **Question (temporal <font color=blue>train</font>-<font color=orange>test</font> split)** ❓\n",
    "\n",
    "Code the function `train_test_split` down below which:\n",
    "- <i>(input)</i> given a `fold` (like above), a `train_test_ratio` (e.g 0.8) and an `input_length` (fixed)\n",
    "- <i>(output)</i> a tuple of (`fold_train`, `fold_test`) dataframes\n",
    "\n",
    "\n",
    "<details>\n",
    "    <summary><i>Hints to avoid data leakage</i></summary>\n",
    "\n",
    "- `fold_train` last index will become the last `y_train` later on\n",
    "- `fold_test` first index will be used to create the first `X_test`\n",
    "- To avoid data leakage, `y_train_last` should be JUST before `y_test_first`\n",
    "\n",
    "<img src=\"https://github.com/lewagon/data-images/blob/master/DL/explanations_for_train_test_split_temporal.png?raw=true\" alt=\"train_test_split_temporal\" width=\"500\" height=\"500\"> \n",
    "    \n",
    "</details>    "
   ]
  },
  {
   "cell_type": "code",
   "execution_count": null,
   "id": "0c474948",
   "metadata": {
    "vscode": {
     "languageId": "python"
    }
   },
   "outputs": [],
   "source": [
    "def train_test_split(fold:pd.DataFrame,\n",
    "                     train_test_ratio: float,\n",
    "                     input_length: int) -> Tuple[pd.DataFrame]:\n",
    "    '''\n",
    "    Returns a train dataframe and a test dataframe (fold_train, fold_test)\n",
    "    from which one can sample (X,y) sequences.\n",
    "    df_train should contain all the timesteps until round(train_test_ratio * len(fold))   \n",
    "    '''\n",
    "    # YOUR CODE HERE\n",
    "    # TRAIN SET\n",
    "    # ======================\n",
    "    last_train_idx = round(train_test_ratio * len(fold))  # 0.66 * number of rows in the fold (66% of the fold for train)\n",
    "    fold_train = fold.iloc[0:last_train_idx, :]   # 1st until last row of train set, all columns\n",
    "\n",
    "    # TEST SET\n",
    "    # ======================    \n",
    "    first_test_idx = last_train_idx - input_length  # last row of train set - 2 weeks --> test set starts 2 weeks \n",
    "                                                                    # before train set ends --> overlap (not a problem with X)\n",
    "    fold_test = fold.iloc[first_test_idx:, :]   # 1st until last row of test set, all columns\n",
    "\n",
    "    return (fold_train, fold_test)"
   ]
  },
  {
   "cell_type": "code",
   "execution_count": null,
   "id": "5b141903",
   "metadata": {
    "vscode": {
     "languageId": "python"
    }
   },
   "outputs": [],
   "source": [
    "(fold_train, fold_test) = train_test_split(fold, TRAIN_TEST_RATIO, INPUT_LENGTH)"
   ]
  },
  {
   "cell_type": "code",
   "execution_count": null,
   "id": "60963763",
   "metadata": {},
   "outputs": [],
   "source": [
    "fold_train"
   ]
  },
  {
   "cell_type": "markdown",
   "id": "51aa4766",
   "metadata": {},
   "source": [
    "🧪 ***Test your code***"
   ]
  },
  {
   "cell_type": "code",
   "execution_count": null,
   "id": "df66295e",
   "metadata": {
    "vscode": {
     "languageId": "python"
    }
   },
   "outputs": [],
   "source": [
    "from nbresult import ChallengeResult\n",
    "\n",
    "result = ChallengeResult('holdout',\n",
    "                         train_index_start = fold_train.index.start,\n",
    "                         train_index_stop = fold_train.index.stop,\n",
    "                         test_index_start = fold_test.index.start,\n",
    "                         test_index_stop = fold_test.index.stop)\n",
    "result.write()\n",
    "print(result.check())\n",
    "\n",
    "\n",
    "# from nbresult import ChallengeResult\n",
    "\n",
    "# result = ChallengeResult('holdout',\n",
    "#                          train_index_start = fold_train.index[0],\n",
    "#                          train_index_stop = fold_train.index[-1],\n",
    "#                          test_index_start = fold_test.index[0],\n",
    "#                          test_index_stop = fold_test.index[-1])\n",
    "# result.write()\n",
    "# print(result.check())"
   ]
  },
  {
   "cell_type": "markdown",
   "id": "396d88c8",
   "metadata": {},
   "source": [
    "## (1.3) 💻 Create (X, y) sequences"
   ]
  },
  {
   "cell_type": "markdown",
   "id": "b8d18516",
   "metadata": {},
   "source": [
    "Now that we have splitted our fold into a <font color=\"blue\">train</font> set and a <font color=\"#ff8005\">test</font> set, it is time to:\n",
    "- 🏋 sample lots of sequences $(X_i, y_i)$ on which the model will be <font color=\"blue\">trained</font>\n",
    "- 👩🏻‍🏫 sample lots of sequences $(X_i, y_i)$ on which the model will be <font color=\"#ff8005\">evaluated</font>\n",
    "\n",
    "<img src=\"https://bit.ly/3Ri8Vfd\" alt=\"Sequences in each fold\" width=\"300\" height=\"300\"> \n",
    "\n",
    "🎯 Our goal is to create 3D-arrays `(X_train, y_train)` and `(X_test, y_test)` containing all the SEQUENCES we need from this fold:\n",
    "\n",
    "* `X_train.shape = (n_samples_train, input_length, n_features)`\n",
    "* `y_train.shape = (n_samples_train, output_length, n_targets)`\n",
    "\n",
    "👉 Notice that we are now dealing with **3D arrays** instead of **2D DataFrames** time-series\n",
    "\n",
    "<img src=\"https://bit.ly/3bOhKNj\" alt=\"3d arrays time series\" width=\"1200\" height=\"800\"> "
   ]
  },
  {
   "cell_type": "code",
   "execution_count": null,
   "id": "3c5c22c7",
   "metadata": {
    "vscode": {
     "languageId": "python"
    }
   },
   "outputs": [],
   "source": [
    "# INPUT X\n",
    "print(f'N_FEATURES = {N_FEATURES}')\n",
    "print(f'INPUT_LENGTH = {INPUT_LENGTH} timesteps = {int(INPUT_LENGTH/8)} days = {int(INPUT_LENGTH/8/7)} weeks')"
   ]
  },
  {
   "cell_type": "markdown",
   "id": "0d75e4da",
   "metadata": {},
   "source": [
    "☝️ `X` is the **input** of our model. \n",
    "- It contains $19$ features: the past values of the <font color=green>**target**</font> + $18$ <font color=orange>**past-covariates**</font>\n",
    "- Each sequence has a length equal to $112$ timesteps (=$2$ weeks)"
   ]
  },
  {
   "cell_type": "code",
   "execution_count": null,
   "id": "83466acb",
   "metadata": {
    "vscode": {
     "languageId": "python"
    }
   },
   "outputs": [],
   "source": [
    "# TARGET Y\n",
    "print(f'N_TARGETS = {N_TARGETS}')\n",
    "\n",
    "# Let's only predict 1 value ahead of us\n",
    "OUTPUT_LENGTH = 1\n",
    "print(f'OUTPUT_LENGTH = {OUTPUT_LENGTH}')"
   ]
  },
  {
   "cell_type": "markdown",
   "id": "b49f186f",
   "metadata": {},
   "source": [
    "☝️ `y` is the <font color=green>**target**</font> that we want to predic:t\n",
    "- It is the value at the single next timestep (= 3 hours later)\n",
    "- We could also predict `OUTPUT_LENGTH > 1`, i.e several values in the future _(3 hours later, 6 hours later, 9 hours later, ...)_ but let's keep it simple here and just try to predict the next point (in 3 hours)"
   ]
  },
  {
   "cell_type": "markdown",
   "id": "b64772ad",
   "metadata": {},
   "source": [
    "💡 To create these SEQUENCES within the <font color=\"blue\">train</font> set and the <font color=\"#ff8005\">test</font> set, you have several options, among them:\n",
    "- 🎲 <u><i>Option 1</i></u>: creating these sequences by randomly sampling $(X_i, y_i)$ from <font color=\"blue\">fold_train</font> and <font color=\"#ff8005\">fold_test</font>.\n",
    "- ⌚️ <u><i>Option 2</i></u>: scanning a fold chronologically and create all the possible pairs $(X_i, y_i)$. \n",
    " \n",
    "\n",
    "👉 Let's focus on the first option: random sampling\n",
    "\n",
    "🎁 If you want to scan the folds chronologically, we provided the solution in the section and you can come back to it later\n"
   ]
  },
  {
   "cell_type": "markdown",
   "id": "d5dc156f",
   "metadata": {},
   "source": [
    "### (1.2.1) 💻 Option 1: Create (X, y) by random sampling in each split"
   ]
  },
  {
   "cell_type": "markdown",
   "id": "ba6eaf4c",
   "metadata": {},
   "source": [
    "👇 We will code:\n",
    "\n",
    "* 1️⃣ a function `get_Xi_yi` to generate a single sequence randomly from within a fold\n",
    "\n",
    "* 2️⃣ a function `get_X_y` to generate 3D-arrays containing multiple sequences from a fold, calling the first function `get_Xi_yi` many times over"
   ]
  },
  {
   "cell_type": "markdown",
   "id": "e5d1d23e",
   "metadata": {},
   "source": [
    "#### (1.2.2.1) 💻 Generating one random sequence"
   ]
  },
  {
   "cell_type": "markdown",
   "id": "d8361bd4",
   "metadata": {},
   "source": [
    "<img src=\"https://github.com/lewagon/data-images/blob/master/DL/get_xi_yi.png?raw=true\" alt=\"one sequence\" width=\"400\" height=\"400\"> "
   ]
  },
  {
   "cell_type": "markdown",
   "id": "a54bf737",
   "metadata": {},
   "source": [
    "💻 ❓ **Question (extracting a random sequence from a fold)** ❓\n",
    "\n",
    "Code the function `get_Xi_yi` down below which:\n",
    "- <i>(input)</i> given a fold, an `input_length` and an `output_length`\n",
    "- <i>(output)</i> returns a sequence $(X_i,y_i)$"
   ]
  },
  {
   "cell_type": "code",
   "execution_count": null,
   "id": "a3aa5c0a",
   "metadata": {
    "vscode": {
     "languageId": "python"
    }
   },
   "outputs": [],
   "source": [
    "def get_Xi_yi(\n",
    "    fold:pd.DataFrame, \n",
    "    input_length:int,  # 112\n",
    "    output_length:int):  # 1\n",
    "    '''\n",
    "    - given a fold, it returns one sequence (X_i, y_i)\n",
    "    - with the starting point of the sequence being chosen at random\n",
    "    '''\n",
    "    # YOUR CODE\n",
    "    first_possible_start = 0                                    # the +1 accounts for the index, that is exclusive.\n",
    "    last_possible_start = len(fold) - (input_length + output_length) + 1    # It can start as long as there are still \n",
    "                                                                             # 112 + 1 days after the 1st day.\n",
    "    random_start = np.random.randint(first_possible_start, last_possible_start)  # np.random to pick a day inside \n",
    "                                                                                    # the possible interval.\n",
    "    X_i = fold.iloc[random_start:random_start+input_length]   \n",
    "    y_i = fold.iloc[random_start+input_length:\n",
    "                  random_start+input_length+output_length][[TARGET]]  # creates a pd.DataFrame for the target y\n",
    "    \n",
    "    return (X_i, y_i)"
   ]
  },
  {
   "cell_type": "code",
   "execution_count": null,
   "id": "316d3d6c",
   "metadata": {},
   "outputs": [],
   "source": [
    "#0+112 # we get index 112 and as last index is exclusive, we have 112 rows"
   ]
  },
  {
   "cell_type": "code",
   "execution_count": null,
   "id": "3633847d",
   "metadata": {},
   "outputs": [],
   "source": [
    "# last_possible_start = len(fold_train) - (INPUT_LENGTH + OUTPUT_LENGTH) + 1  # +1 to account for the index that is exclusive\n",
    "# last_possible_start+112"
   ]
  },
  {
   "cell_type": "code",
   "execution_count": null,
   "id": "f90f420b",
   "metadata": {},
   "outputs": [],
   "source": [
    "#5781-112"
   ]
  },
  {
   "cell_type": "code",
   "execution_count": null,
   "id": "1909fb88",
   "metadata": {},
   "outputs": [],
   "source": [
    "# fold_train[5779:5781+1]"
   ]
  },
  {
   "cell_type": "code",
   "execution_count": null,
   "id": "04092704",
   "metadata": {},
   "outputs": [],
   "source": [
    "fold_train"
   ]
  },
  {
   "cell_type": "code",
   "execution_count": null,
   "id": "bd2fa2f9",
   "metadata": {},
   "outputs": [],
   "source": [
    "#fold_train.iloc[last_possible_start:last_possible_start+14]"
   ]
  },
  {
   "cell_type": "code",
   "execution_count": null,
   "id": "09f43397",
   "metadata": {},
   "outputs": [],
   "source": [
    "#100 - (10+1) + 1"
   ]
  },
  {
   "cell_type": "markdown",
   "id": "011faa96",
   "metadata": {},
   "source": [
    "🧪 ***Test your code below***"
   ]
  },
  {
   "cell_type": "code",
   "execution_count": null,
   "id": "fdf0e9e5",
   "metadata": {
    "vscode": {
     "languageId": "python"
    }
   },
   "outputs": [],
   "source": [
    "X_train_i, y_train_i = get_Xi_yi(fold_train, INPUT_LENGTH, OUTPUT_LENGTH)\n",
    "X_test_i, y_test_i = get_Xi_yi(fold_test, INPUT_LENGTH, OUTPUT_LENGTH)"
   ]
  },
  {
   "cell_type": "code",
   "execution_count": null,
   "id": "f04da685",
   "metadata": {
    "vscode": {
     "languageId": "python"
    }
   },
   "outputs": [],
   "source": [
    "from nbresult import ChallengeResult\n",
    "\n",
    "result = ChallengeResult('sequence',\n",
    "                         x_train_i_shape = X_train_i.shape,\n",
    "                         y_train_i_shape = y_train_i.shape,\n",
    "                         x_test_i_shape = X_test_i.shape,\n",
    "                         y_test_i_shape = y_test_i.shape)\n",
    "result.write()\n",
    "print(result.check())"
   ]
  },
  {
   "cell_type": "code",
   "execution_count": null,
   "id": "600ff916",
   "metadata": {
    "vscode": {
     "languageId": "python"
    }
   },
   "outputs": [],
   "source": [
    "# Advanced check 😈 \n",
    "# You should not allow some truncated (X_i,y_i) pairs to be generating,\n",
    "# should you start sampling too close from the end of the fold... !\n",
    "\n",
    "X_last, y_last = get_Xi_yi(fold_test, input_length=len(fold_test)-1, output_length=OUTPUT_LENGTH)\n",
    "assert y_last.values == fold_test.iloc[-1,:][TARGET]"
   ]
  },
  {
   "cell_type": "markdown",
   "id": "60fd94b0",
   "metadata": {},
   "source": [
    "#### (1.2.2.2) 💻 Generating multiple random sequences"
   ]
  },
  {
   "cell_type": "markdown",
   "id": "b3ee5955",
   "metadata": {},
   "source": [
    "<img src=\"https://bit.ly/3Ri8Vfd\" alt=\"Sequences in each fold\" width=\"500\" height=\"500\"> "
   ]
  },
  {
   "cell_type": "markdown",
   "id": "e0544a82",
   "metadata": {},
   "source": [
    "💻 ❓ **Question (extracting multiple random sequence from a fold)** ❓\n",
    "\n",
    "Code the function `get_X_y` down below which:\n",
    "- <i>(input)</i> given a fold, a `number_of_sequences` an `input_length` and an `output_length`\n",
    "- <i>(output)</i> returns $(X,y)$ \n",
    "\n",
    "_Don't forget to use the `get_Xi_yi` function that you have just coded!_"
   ]
  },
  {
   "cell_type": "code",
   "execution_count": null,
   "id": "2bdc74db",
   "metadata": {
    "vscode": {
     "languageId": "python"
    }
   },
   "outputs": [],
   "source": [
    "def get_X_y(\n",
    "    fold:pd.DataFrame,\n",
    "    number_of_sequences:int,\n",
    "    input_length:int,\n",
    "    output_length:int\n",
    "):\n",
    "    # YOUR CODE HERE\n",
    "    X, y = [], []  # lists for the sequences for X and y\n",
    "\n",
    "    for i in range(number_of_sequences):\n",
    "        (Xi, yi) = get_Xi_yi(fold, input_length, output_length)   # calls the previous function to generate sequences X + y\n",
    "        X.append(Xi)\n",
    "        y.append(yi)\n",
    "        \n",
    "    return np.array(X), np.array(y)"
   ]
  },
  {
   "cell_type": "markdown",
   "id": "ddb4e967",
   "metadata": {},
   "source": [
    "🧪 ***Test your code***"
   ]
  },
  {
   "cell_type": "code",
   "execution_count": null,
   "id": "802d3198",
   "metadata": {
    "vscode": {
     "languageId": "python"
    }
   },
   "outputs": [],
   "source": [
    "N_TRAIN = 6666 # number_of_sequences_train\n",
    "N_TEST =  3333 # number_of_sequences_test\n",
    "\n",
    "X_train, y_train = get_X_y(fold_train, N_TRAIN, INPUT_LENGTH, OUTPUT_LENGTH)\n",
    "X_test, y_test = get_X_y(fold_test, N_TEST, INPUT_LENGTH, OUTPUT_LENGTH)"
   ]
  },
  {
   "cell_type": "code",
   "execution_count": null,
   "id": "bef76839",
   "metadata": {
    "vscode": {
     "languageId": "python"
    }
   },
   "outputs": [],
   "source": [
    "from nbresult import ChallengeResult\n",
    "\n",
    "result = ChallengeResult('multiple_sequences',\n",
    "                         x_train_shape = X_train.shape,\n",
    "                         y_train_shape = y_train.shape,\n",
    "                         x_test_shape = X_test.shape,\n",
    "                         y_test_shape = y_test.shape)\n",
    "result.write()\n",
    "print(result.check())"
   ]
  },
  {
   "cell_type": "markdown",
   "id": "8713ea9b",
   "metadata": {
    "heading_collapsed": true
   },
   "source": [
    "### (1.2.2) (Don't read this now, keep for later) 🎁 Option 2: Scanning  chronologically"
   ]
  },
  {
   "cell_type": "markdown",
   "id": "e82b92aa",
   "metadata": {
    "hidden": true
   },
   "source": [
    "As stated earlier, there are multiple ways to extract sequences from a fold. \n",
    "\n",
    "- 🎲 In the previous section, you coded:\n",
    "    - `get_Xi_yi` which randomly samples _one_ sequence \n",
    "    - and `get_X_y` which randomly generates _multiple_ sequences\n",
    "\n",
    "- ⌚️ In this section, we provide you a unique function `get_X_y_strides`.\n",
    "    - It scans a fold chronologically based on:\n",
    "         - an `input_length` (let's still use `INPUT_LENGTH = 8 * 14`, i.e. two weeks) \n",
    "         - and a `sequence_stride` (think about a one-dimensional convolutional operation!)"
   ]
  },
  {
   "cell_type": "markdown",
   "id": "a439f673",
   "metadata": {
    "hidden": true
   },
   "source": [
    "👉 Let's scan the fold with a temporal stride of 3 hours (the minimum one):"
   ]
  },
  {
   "cell_type": "code",
   "execution_count": null,
   "id": "91e5ea4a",
   "metadata": {
    "hidden": true,
    "vscode": {
     "languageId": "python"
    }
   },
   "outputs": [],
   "source": [
    "SEQUENCE_STRIDE = 1"
   ]
  },
  {
   "cell_type": "code",
   "execution_count": null,
   "id": "97a2b285",
   "metadata": {
    "hidden": true,
    "vscode": {
     "languageId": "python"
    }
   },
   "outputs": [],
   "source": [
    "def get_X_y_strides(fold: pd.DataFrame, input_length: int, output_length: int, sequence_stride: int):\n",
    "    '''\n",
    "    - slides through a `fold` Time Series (2D array) to create sequences of equal\n",
    "        * `input_length` for X,\n",
    "        * `output_length` for y,\n",
    "    using a temporal gap `sequence_stride` between each sequence\n",
    "    - returns a list of sequences, each as a 2D-array time series\n",
    "    '''\n",
    "\n",
    "    X, y = [], []\n",
    "\n",
    "    for i in range(0, len(fold), sequence_stride):\n",
    "        # Exits the loop as soon as the last fold index would exceed the last index\n",
    "        if (i + input_length + output_length) >= len(fold):\n",
    "            break\n",
    "        X_i = fold.iloc[i:i + input_length, :]\n",
    "        y_i = fold.iloc[i + input_length:i + input_length + output_length, :][[TARGET]] # index + length of sequence until index + length of seq. + length of target\n",
    "        X.append(X_i)\n",
    "        y.append(y_i)\n",
    "\n",
    "    return np.array(X), np.array(y)"
   ]
  },
  {
   "cell_type": "code",
   "execution_count": null,
   "id": "a325b494",
   "metadata": {
    "hidden": true,
    "vscode": {
     "languageId": "python"
    }
   },
   "outputs": [],
   "source": [
    "def get_X_y_strides(fold: pd.DataFrame, input_length: int, output_length: int, sequence_stride: int):\n",
    "    '''\n",
    "    - slides through a `fold` Time Series (2D array) to create sequences of equal\n",
    "        * `input_length` for X,\n",
    "        * `output_length` for y,\n",
    "    using a temporal gap `sequence_stride` between each sequence\n",
    "    - returns a list of sequences, each as a 2D-array time series\n",
    "    '''\n",
    "\n",
    "    X, y = [], []\n",
    "\n",
    "    for i in range(0, len(fold), sequence_stride):\n",
    "        # Exits the loop as soon as the last fold index would exceed the last index\n",
    "        if (i + input_length + output_length) >= len(fold):\n",
    "            break\n",
    "        X_i = fold.iloc[i:i + input_length, :]\n",
    "        y_i = fold.iloc[i + input_length:i + input_length + output_length, :][[TARGET]] # index + length of sequence until index + length of seq. + length of target\n",
    "        X.append(X_i)\n",
    "        y.append(y_i)\n",
    "\n",
    "    return np.array(X), np.array(y)"
   ]
  },
  {
   "cell_type": "markdown",
   "id": "853434c6",
   "metadata": {
    "hidden": true
   },
   "source": [
    "🧑🏻‍🎓 Some clarifications about scanning a fold sequentially :"
   ]
  },
  {
   "cell_type": "code",
   "execution_count": null,
   "id": "214e21e4",
   "metadata": {
    "hidden": true,
    "vscode": {
     "languageId": "python"
    }
   },
   "outputs": [],
   "source": [
    "print(\"FOLD_LENGTH\") \n",
    "print(f\"= {FOLD_LENGTH} timesteps\")\n",
    "print(f\"= {int(FOLD_LENGTH/8)} days\") # 8 records per day, every 3 hours\n",
    "print(f\"= {int(FOLD_LENGTH/8/7)} weeks\")"
   ]
  },
  {
   "cell_type": "code",
   "execution_count": null,
   "id": "d69173a4",
   "metadata": {
    "hidden": true,
    "vscode": {
     "languageId": "python"
    }
   },
   "outputs": [],
   "source": [
    "X_train, y_train = get_X_y_strides(fold_train, INPUT_LENGTH, OUTPUT_LENGTH, SEQUENCE_STRIDE)\n",
    "X_test, y_test = get_X_y_strides(fold_test, INPUT_LENGTH, OUTPUT_LENGTH, SEQUENCE_STRIDE)\n",
    "\n",
    "print(X_train.shape)\n",
    "print(y_train.shape)"
   ]
  },
  {
   "cell_type": "markdown",
   "id": "ea8484e7",
   "metadata": {
    "hidden": true
   },
   "source": [
    "👇 Illustration down below if *SEQUENCE_STRIDE = 1 week*\n",
    "\n",
    "<img src=\"https://github.com/lewagon/data-images/blob/master/DL/scanning_a_time_series_chronologically_v3.png?raw=true\">"
   ]
  },
  {
   "cell_type": "markdown",
   "id": "3a6de560",
   "metadata": {},
   "source": [
    "# (2) 💻 Modelling"
   ]
  },
  {
   "cell_type": "markdown",
   "id": "23292db0",
   "metadata": {},
   "source": [
    "**The MAE as a metrics to monitor the temperature prediction**"
   ]
  },
  {
   "cell_type": "markdown",
   "id": "12b5127f",
   "metadata": {},
   "source": [
    "The Mean Absolute Error seems to be a reasonable metrics to evaluate a model's capability to predict the temperature:\n",
    "\n",
    "$$ MAE = \\frac{1}{n_{samples}} \\times \\sum_{i = 1}^{n_{samples}} |y_{true}^{(i)} - y_{pred}^{(i)}|$$"
   ]
  },
  {
   "cell_type": "markdown",
   "id": "050bf343",
   "metadata": {},
   "source": [
    "* Use MAE when errors can be penalized proportionally to their size\n",
    "\n",
    "Example: weather forecast, where an error of 4 degrees is simply twice as bad as an error of 2 degrees"
   ]
  },
  {
   "cell_type": "markdown",
   "id": "c9dd1f59",
   "metadata": {},
   "source": [
    "## (2.1) 💻 A Recurrent Neural Network: the `LSTM`\n",
    "\n",
    "🚀 It is time to design a Recurrent Neural Network and hopefully beat the baseline 💪 !"
   ]
  },
  {
   "cell_type": "markdown",
   "id": "4e6e36bc",
   "metadata": {},
   "source": [
    "💻 ❓ **Question (RNN)** ❓ \n",
    "\n",
    "- Create a function `init_model` which builds and compiles a simple Recurrent Neural Network with an LSTM layer\n",
    "- Don't forget to normalize your data with a [📚 Normalization layer](https://www.tensorflow.org/api_docs/python/tf/keras/layers/Normalization)"
   ]
  },
  {
   "cell_type": "code",
   "execution_count": 31,
   "id": "68d4fb31",
   "metadata": {},
   "outputs": [
    {
     "data": {
      "text/plain": [
       "(6666, 1, 1)"
      ]
     },
     "execution_count": 31,
     "metadata": {},
     "output_type": "execute_result"
    }
   ],
   "source": [
    "y_train.shape"
   ]
  },
  {
   "cell_type": "code",
   "execution_count": 32,
   "id": "66b7fd69",
   "metadata": {
    "vscode": {
     "languageId": "python"
    }
   },
   "outputs": [],
   "source": [
    "from tensorflow.keras import models\n",
    "from tensorflow.keras import layers\n",
    "from tensorflow.keras import optimizers, metrics\n",
    "from tensorflow.keras.regularizers import L1L2\n",
    "from tensorflow.keras.layers.experimental.preprocessing import Normalization\n",
    "\n",
    "def init_model(X_train, y_train):\n",
    "    \n",
    "    # YOUR CODE HERE\n",
    "    \n",
    "    # 0 - Normalization\n",
    "    # ======================    \n",
    "    normalizer = Normalization()   # Instantiate a normalizer (Standard Scaler)\n",
    "    normalizer.adapt(X_train)      # trains the normalizer\n",
    "    \n",
    "    # 1 - RNN architecture\n",
    "    # ======================    \n",
    "    model = models.Sequential()\n",
    "    ## 1.0 - All the rows will be standardized through the already adapted normalization layer\n",
    "    model.add(normalizer)\n",
    "    ## 1.1 - Recurrent Layer\n",
    "    model.add(layers.LSTM(64, \n",
    "                          activation='tanh', \n",
    "                          return_sequences = False,\n",
    "                          kernel_regularizer=L1L2(l1=0.05, l2=0.05),\n",
    "                          ))\n",
    "    ## 1.2 - Predictive Dense Layers\n",
    "    output_length = y_train.shape[1]\n",
    "    model.add(layers.Dense(output_length, activation='linear'))  \n",
    "\n",
    "    # 2 - Compiler\n",
    "    # ======================    \n",
    "    adam = optimizers.Adam(learning_rate=0.02)    \n",
    "    model.compile(loss='mse', optimizer=adam, metrics=[\"mae\"])\n",
    "    \n",
    "    return model"
   ]
  },
  {
   "cell_type": "code",
   "execution_count": 33,
   "id": "15faef32",
   "metadata": {
    "vscode": {
     "languageId": "python"
    }
   },
   "outputs": [
    {
     "name": "stdout",
     "output_type": "stream",
     "text": [
      "Model: \"sequential\"\n",
      "_________________________________________________________________\n",
      " Layer (type)                Output Shape              Param #   \n",
      "=================================================================\n",
      " normalization (Normalizati  (None, None, 19)          39        \n",
      " on)                                                             \n",
      "                                                                 \n",
      " lstm (LSTM)                 (None, 64)                21504     \n",
      "                                                                 \n",
      " dense (Dense)               (None, 1)                 65        \n",
      "                                                                 \n",
      "=================================================================\n",
      "Total params: 21608 (84.41 KB)\n",
      "Trainable params: 21569 (84.25 KB)\n",
      "Non-trainable params: 39 (160.00 Byte)\n",
      "_________________________________________________________________\n"
     ]
    }
   ],
   "source": [
    "model = init_model(X_train, y_train)\n",
    "model.summary()"
   ]
  },
  {
   "cell_type": "markdown",
   "id": "69ff23ef",
   "metadata": {},
   "source": [
    "🛠 🎁 📉 We coded a function `plot_history` for you to visualize the training of your RNN over epochs. This function shows both the evolution of the loss function (MSE) and metrics (MAE)."
   ]
  },
  {
   "cell_type": "code",
   "execution_count": 34,
   "id": "bfdd9be8",
   "metadata": {
    "vscode": {
     "languageId": "python"
    }
   },
   "outputs": [],
   "source": [
    "def plot_history(history):\n",
    "    \n",
    "    fig, ax = plt.subplots(1,2, figsize=(20,7))\n",
    "    # --- LOSS: MSE --- \n",
    "    ax[0].plot(history.history['loss'])\n",
    "    ax[0].plot(history.history['val_loss'])\n",
    "    ax[0].set_title('MSE')\n",
    "    ax[0].set_ylabel('Loss')\n",
    "    ax[0].set_xlabel('Epoch')\n",
    "    ax[0].legend(['Train', 'Validation'], loc='best')\n",
    "    ax[0].grid(axis=\"x\",linewidth=0.5)\n",
    "    ax[0].grid(axis=\"y\",linewidth=0.5)\n",
    "    \n",
    "    # --- METRICS:MAE ---\n",
    "    \n",
    "    ax[1].plot(history.history['mae'])\n",
    "    ax[1].plot(history.history['val_mae'])\n",
    "    ax[1].set_title('MAE')\n",
    "    ax[1].set_ylabel('MAE')\n",
    "    ax[1].set_xlabel('Epoch')\n",
    "    ax[1].legend(['Train', 'Validation'], loc='best')\n",
    "    ax[1].grid(axis=\"x\",linewidth=0.5)\n",
    "    ax[1].grid(axis=\"y\",linewidth=0.5)\n",
    "                        \n",
    "    return ax"
   ]
  },
  {
   "cell_type": "markdown",
   "id": "5c34049b",
   "metadata": {},
   "source": [
    "💻 ❓ **Questions (training and evaluating)** ❓\n",
    "\n",
    "- Code the `fit_model()` method that \n",
    "    - <i>(input)</i> given `model`\n",
    "    - <i>(output)</i> returns the fitted model through a tuple `(model, history)` \n",
    "- Then:\n",
    "    - Initialize an RNN model with the `init_model` function\n",
    "    - <font color=blue>Train</font> the model\n",
    "    - <font color=orange>Evaluate</font> it on the test set"
   ]
  },
  {
   "cell_type": "code",
   "execution_count": 35,
   "id": "9148dfa1",
   "metadata": {
    "tags": [
     "challengify"
    ],
    "vscode": {
     "languageId": "python"
    }
   },
   "outputs": [],
   "source": [
    "# YOUR CODE HERE\n",
    "from tensorflow.keras.callbacks import EarlyStopping\n",
    "\n",
    "def fit_model(model: tf.keras.Model, verbose=1) -> Tuple[tf.keras.Model, dict]:\n",
    "\n",
    "    es = EarlyStopping(monitor = \"val_loss\",\n",
    "                      patience = 3,\n",
    "                      mode = \"min\",\n",
    "                      restore_best_weights = True)\n",
    "\n",
    "\n",
    "    history = model.fit(X_train, y_train,\n",
    "                        validation_split = 0.3,\n",
    "                        shuffle = False,     # the order matters!!!\n",
    "                        batch_size = 32,\n",
    "                        epochs = 50,\n",
    "                        callbacks = [es],\n",
    "                        verbose = verbose)\n",
    "\n",
    "    return model, history   # returns a tuple: (model, dict(history))"
   ]
  },
  {
   "cell_type": "code",
   "execution_count": 36,
   "id": "f9214a28",
   "metadata": {
    "vscode": {
     "languageId": "python"
    }
   },
   "outputs": [
    {
     "name": "stdout",
     "output_type": "stream",
     "text": [
      "Model: \"sequential_1\"\n",
      "_________________________________________________________________\n",
      " Layer (type)                Output Shape              Param #   \n",
      "=================================================================\n",
      " normalization_1 (Normaliza  (None, None, 19)          39        \n",
      " tion)                                                           \n",
      "                                                                 \n",
      " lstm_1 (LSTM)               (None, 64)                21504     \n",
      "                                                                 \n",
      " dense_1 (Dense)             (None, 1)                 65        \n",
      "                                                                 \n",
      "=================================================================\n",
      "Total params: 21608 (84.41 KB)\n",
      "Trainable params: 21569 (84.25 KB)\n",
      "Non-trainable params: 39 (160.00 Byte)\n",
      "_________________________________________________________________\n",
      "Epoch 1/50\n",
      "146/146 [==============================] - 29s 163ms/step - loss: 18.6956 - mae: 2.2556 - val_loss: 6.5169 - val_mae: 1.5584\n",
      "Epoch 2/50\n",
      "146/146 [==============================] - 20s 136ms/step - loss: 5.2889 - mae: 1.3461 - val_loss: 5.0321 - val_mae: 1.3957\n",
      "Epoch 3/50\n",
      "146/146 [==============================] - 18s 126ms/step - loss: 4.6496 - mae: 1.2796 - val_loss: 4.5093 - val_mae: 1.2757\n",
      "Epoch 4/50\n",
      "146/146 [==============================] - 19s 130ms/step - loss: 4.4488 - mae: 1.2461 - val_loss: 4.0175 - val_mae: 1.1608\n",
      "Epoch 5/50\n",
      "146/146 [==============================] - 24s 163ms/step - loss: 4.1914 - mae: 1.1961 - val_loss: 4.1706 - val_mae: 1.2271\n",
      "Epoch 6/50\n",
      "146/146 [==============================] - 27s 181ms/step - loss: 4.2068 - mae: 1.1918 - val_loss: 3.9571 - val_mae: 1.1922\n",
      "Epoch 7/50\n",
      "146/146 [==============================] - 18s 125ms/step - loss: 4.1752 - mae: 1.1719 - val_loss: 4.0613 - val_mae: 1.2176\n",
      "Epoch 8/50\n",
      "146/146 [==============================] - 22s 151ms/step - loss: 3.9396 - mae: 1.1447 - val_loss: 3.7456 - val_mae: 1.1465\n",
      "Epoch 9/50\n",
      "146/146 [==============================] - 27s 183ms/step - loss: 4.0356 - mae: 1.1436 - val_loss: 3.7686 - val_mae: 1.1251\n",
      "Epoch 10/50\n",
      "146/146 [==============================] - 21s 146ms/step - loss: 3.7606 - mae: 1.1051 - val_loss: 3.5228 - val_mae: 1.0784\n",
      "Epoch 11/50\n",
      "146/146 [==============================] - 20s 140ms/step - loss: 3.7264 - mae: 1.1024 - val_loss: 3.4898 - val_mae: 1.0611\n",
      "Epoch 12/50\n",
      "146/146 [==============================] - 22s 148ms/step - loss: 3.6558 - mae: 1.0942 - val_loss: 3.4732 - val_mae: 1.0451\n",
      "Epoch 13/50\n",
      "146/146 [==============================] - 22s 148ms/step - loss: 3.7447 - mae: 1.1045 - val_loss: 3.4472 - val_mae: 1.0576\n",
      "Epoch 14/50\n",
      "146/146 [==============================] - 19s 132ms/step - loss: 3.6085 - mae: 1.0740 - val_loss: 3.5194 - val_mae: 1.0753\n",
      "Epoch 15/50\n",
      "146/146 [==============================] - 22s 150ms/step - loss: 3.7438 - mae: 1.0944 - val_loss: 3.3680 - val_mae: 1.0545\n",
      "Epoch 16/50\n",
      "146/146 [==============================] - 25s 171ms/step - loss: 28.7369 - mae: 1.5887 - val_loss: 205.7954 - val_mae: 2.6843\n",
      "Epoch 17/50\n",
      "146/146 [==============================] - 25s 171ms/step - loss: 139.3070 - mae: 1.8604 - val_loss: 83.3094 - val_mae: 1.5169\n",
      "Epoch 18/50\n",
      "146/146 [==============================] - 23s 155ms/step - loss: 58.9677 - mae: 1.4661 - val_loss: 40.4521 - val_mae: 1.3382\n"
     ]
    }
   ],
   "source": [
    "# 1 - Initialising the RNN model\n",
    "# ====================================\n",
    "\n",
    "model = init_model(X_train, y_train)\n",
    "model.summary()\n",
    "\n",
    "# 2 - Training\n",
    "# ====================================\n",
    "model, history = fit_model(model)"
   ]
  },
  {
   "cell_type": "code",
   "execution_count": 40,
   "id": "8cce481a",
   "metadata": {
    "vscode": {
     "languageId": "python"
    }
   },
   "outputs": [
    {
     "data": {
      "image/png": "[encoded data removed]",
      "text/plain": [
       "<Figure size 1440x504 with 2 Axes>"
      ]
     },
     "metadata": {
      "needs_background": "light"
     },
     "output_type": "display_data"
    }
   ],
   "source": [
    "plot_history(history);"
   ]
  },
  {
   "cell_type": "code",
   "execution_count": 41,
   "id": "1ab3ad94",
   "metadata": {
    "vscode": {
     "languageId": "python"
    }
   },
   "outputs": [
    {
     "name": "stdout",
     "output_type": "stream",
     "text": [
      "105/105 [==============================] - 5s 47ms/step - loss: 4.2178 - mae: 1.2453\n",
      "The LSTM MAE on the test set is equal to 1.25 Celsius degrees\n"
     ]
    }
   ],
   "source": [
    "# 3 - Evaluation\n",
    "# ====================================\n",
    "res = model.evaluate(X_test, y_test)\n",
    "print(f\"The LSTM MAE on the test set is equal to {round(res[1],2)} Celsius degrees\")"
   ]
  },
  {
   "cell_type": "markdown",
   "id": "4449db5c",
   "metadata": {},
   "source": [
    "## (2.2) 💻 A Baseline Model to compare our LSTM with!"
   ]
  },
  {
   "cell_type": "markdown",
   "id": "a33a6d16",
   "metadata": {},
   "source": [
    "👉 In Time Series, an \"intuitive\" baseline model is to predict the **last seen value** for the future value(s) you want to forecast, as illustrated down below!\n",
    "\n",
    "<img src = \"https://github.com/lewagon/data-images/blob/master/DL/rnn_time_series_no_horizon.png?raw=true\" width = 600, height = 300>"
   ]
  },
  {
   "cell_type": "markdown",
   "id": "f235ce9b",
   "metadata": {},
   "source": [
    "💻 ❓ **Question (Last Seen Value Baseline Model)** ❓ \n",
    "\n",
    "Create a new method `init_baseline` that initializes and compiles a baseline model in a similar way to the LSTM.\n",
    "\n",
    "- The baseline should be as a [📚 Keras Lambda Layer](https://www.tensorflow.org/api_docs/python/tf/keras/layers/Lambda)\n",
    "- It should not even need a `fit` because it should have 0 trainable params\n",
    "- Then, compute the MAE for this FOLD and compare it with the MAE you obtained on the test set after training the LSTM \n",
    " \n",
    "<details>\n",
    "    <summary markdown='span'>💡 <i>Hint</i></summary>\n",
    "\n",
    "- Remember that `X_train[:,:,1]` is your temperature time-series (it's the second column in your `fold`) \n",
    "</details>\n"
   ]
  },
  {
   "cell_type": "code",
   "execution_count": 37,
   "id": "c7a46a7c",
   "metadata": {
    "vscode": {
     "languageId": "python"
    }
   },
   "outputs": [],
   "source": [
    "from tensorflow.keras.layers import Lambda  # Wraps arbitrary expressions as a Layer object\n",
    "\n",
    "def init_baseline():\n",
    "\n",
    "    # YOUR CODE HERE\n",
    "    model = models.Sequential() \n",
    "    # a layer to take the last value of the sequence and output it\n",
    "    model.add(layers.Lambda(lambda x: x[:,-1,1,None]))  # all sequences, last day, 1 feature (temperature)\n",
    "    \n",
    "\n",
    "    adam = optimizers.Adam(learning_rate=0.02)\n",
    "    model.compile(loss='mse', optimizer=adam, metrics=[\"mae\"])\n",
    "\n",
    "    return model"
   ]
  },
  {
   "cell_type": "code",
   "execution_count": 42,
   "id": "a86e2466",
   "metadata": {
    "vscode": {
     "languageId": "python"
    }
   },
   "outputs": [
    {
     "name": "stdout",
     "output_type": "stream",
     "text": [
      "105/105 [==============================] - 1s 4ms/step - loss: 7.9834 - mae: 2.0978\n",
      "- The Baseline MAE on the test set is equal to 2.1 Celsius degrees\n"
     ]
    }
   ],
   "source": [
    "baseline_model = init_baseline()\n",
    "baseline_score = baseline_model.evaluate(X_test, y_test)\n",
    "print(f\"- The Baseline MAE on the test set is equal to {round(baseline_score[1],2)} Celsius degrees\")"
   ]
  },
  {
   "cell_type": "code",
   "execution_count": 43,
   "id": "5b5f02be",
   "metadata": {
    "vscode": {
     "languageId": "python"
    }
   },
   "outputs": [
    {
     "name": "stdout",
     "output_type": "stream",
     "text": [
      "- The LSTM MAE on the test set is equal to 1.25 Celsius degrees\n",
      "🔥 Improvement of the LSTM model over the baseline (on this fold for the test set) = : 40.64 % 🔥\n"
     ]
    }
   ],
   "source": [
    "print(f\"- The LSTM MAE on the test set is equal to {round(res[1],2)} Celsius degrees\")\n",
    "print(f\"🔥 Improvement of the LSTM model over the baseline (on this fold for the test set) = : {round((1 - (res[1]/baseline_score[1]))*100,2)} % 🔥\")"
   ]
  },
  {
   "cell_type": "markdown",
   "id": "a819feaa",
   "metadata": {},
   "source": [
    "## (2.3) 💻 Cross-Validation"
   ]
  },
  {
   "cell_type": "markdown",
   "id": "4c611d5f",
   "metadata": {},
   "source": [
    "Remember **\"The big picture\"** ? \n",
    "\n",
    "<br>\n",
    "\n",
    "<details>\n",
    "    <summary markdown='span'><i>The big picture</i></summary>\n",
    "\n",
    "\n",
    "<b><u>Step 1: Cross-Validation in Time Series [FOLDS] </u></b>\n",
    "\n",
    "* Starting from this single Time Series, we will create <font color=\"#c91ac9\">**FOLDS**</font>...\n",
    "* ... and train/evaluate our LSTM on these different <font color=\"#c91ac9\">**FOLDS**</font> to conclude about the robustness of the neural network\n",
    "* It is very common to create ***hundreds*** of <font color=\"#c91ac9\">**FOLDS**</font> in Time Series forecasting, so as to cover all type of external conditions: e.g.\n",
    "    - crash market periods 📉\n",
    "    - bull markets 📈\n",
    "    - atone markets 😴, etc...\n",
    "\n",
    "<b><u>Step 2: Holdout method within each fold [TRAIN-TEST SPLIT]</u></b>\n",
    "\n",
    "* For each <font color=\"#c91ac9\">**FOLD**</font>, we will do a TRAIN-TEST SPLIT to:\n",
    "    * <font color=blue>**fit**</font> the model on the <font color=blue>**train**</font> set \n",
    "    * and <font color=\"#ff8005\">**evaluate**</font> it on the <font color=\"#ff8005\">**test**</font> set\n",
    "    * Always split the train set **chronologically** before the test set!\n",
    "\n",
    "👇 The first two steps can be summarized in the following image that contains 4 FOLDS:\n",
    "\n",
    "<img src=\"https://bit.ly/3yLoa92\" alt=\"Time Series Cross Validation\" width=\"500\" height=\"500\">\n",
    "\n",
    "\n",
    "<b><u>Step 3: Sampling SEQUENCES in both the train set and the test set</u></b>\n",
    "\n",
    "In each <font color=blue>**train**</font> set and each <font color=\"#ff8005\">**test**</font> set, we will create <font color=magenta>**random sequences**</font> as illustrated down below 👇:\n",
    "\n",
    "<img src=\"https://bit.ly/3Ri8Vfd\" alt=\"Sequences in each fold\" width=\"500\" height=\"500\"> \n",
    "\n",
    "\n",
    "</details>\n",
    "\n",
    "❗️ ***Warnings*** ❗️\n",
    "\n",
    "* Keep in mind that we did <u><i>step 2</i></u> (<font color=\"blue\">train</font>/<font color=\"orange\">test</font> split) and <u><i>step 3</i></u> (get_X_y) only **<font color=\"#c91ac9\">for one single FOLD</font>**. \n",
    "* ***If we want to ensure the robustness of a model, we need to <font color=\"\">cross-validate the model on <font color=\"#c91ac9\">ALL the folds</font>!***\n"
   ]
  },
  {
   "cell_type": "code",
   "execution_count": null,
   "id": "3c1f3692",
   "metadata": {
    "vscode": {
     "languageId": "python"
    }
   },
   "outputs": [],
   "source": [
    "# Reminders of the global variables in this notebook\n",
    "\n",
    "print(f'N_FEATURES = {N_FEATURES}') \n",
    "print(f'N_TARGETS = {N_TARGETS}') \n",
    "print('')\n",
    "print(f'FOLD_LENGTH = {FOLD_LENGTH}')\n",
    "print(f'FOLD_STRIDE = {FOLD_STRIDE}')\n",
    "print(f'TRAIN_TEST_RATIO = {TRAIN_TEST_RATIO}')\n",
    "print('')\n",
    "print(f'N_TRAIN = {N_TRAIN}')\n",
    "print(f'N_TEST = {N_TEST}')\n",
    "print(f'INPUT_LENGTH = {INPUT_LENGTH}')\n",
    "print(f'OUTPUT_LENGTH = {OUTPUT_LENGTH}')\n"
   ]
  },
  {
   "cell_type": "code",
   "execution_count": null,
   "id": "a1467463",
   "metadata": {
    "vscode": {
     "languageId": "python"
    }
   },
   "outputs": [],
   "source": [
    "# Remember how many folds do we have ?\n",
    "folds = get_folds(df, FOLD_LENGTH, FOLD_STRIDE)\n",
    "\n",
    "print(f\"WARNING, we have {len(folds)} FOLDS, so you may want to run the cross-validation of the RNN on Colab.\")"
   ]
  },
  {
   "cell_type": "markdown",
   "id": "8d84f3c0",
   "metadata": {},
   "source": [
    "💻 **❓ Cross validate your baseline and your model in a for-loop!❓**\n",
    "\n",
    "Re-using your previously defined methods\n",
    "- `get_folds`\n",
    "- `train_test_split`\n",
    "- `get_X_y`\n",
    "- `init_model`\n",
    "- `init_baseline`"
   ]
  },
  {
   "cell_type": "code",
   "execution_count": 43,
   "id": "66cc49a1",
   "metadata": {
    "vscode": {
     "languageId": "python"
    }
   },
   "outputs": [],
   "source": [
    "from tensorflow.keras.callbacks import EarlyStopping\n",
    "\n",
    "def cross_validate_baseline_and_lstm():\n",
    "    '''\n",
    "    This function cross-validates \n",
    "    - the \"last seen value\" baseline model\n",
    "    - the RNN model\n",
    "    '''\n",
    "    \n",
    "    list_of_mae_baseline_model = []\n",
    "    list_of_mae_recurrent_model = []\n",
    "    \n",
    "    # 0 - Creating folds\n",
    "    # =========================================    \n",
    "    folds = get_folds(df, FOLD_LENGTH, FOLD_STRIDE)  # function we coded to get the folds\n",
    "    \n",
    "    for fold_id, fold in enumerate(folds):\n",
    "        \n",
    "        # 1 - Train/Test split the current fold\n",
    "        # =========================================\n",
    "        (fold_train, fold_test) = train_test_split(fold, TRAIN_TEST_RATIO, INPUT_LENGTH) # function we coded to split train/test                                 \n",
    "\n",
    "        X_train, y_train = get_X_y(fold_train, N_TRAIN, INPUT_LENGTH, OUTPUT_LENGTH)  # function we coded to get multiple\n",
    "        X_test, y_test = get_X_y(fold_test, N_TEST, INPUT_LENGTH, OUTPUT_LENGTH)       # sequences from a fold\n",
    "        \n",
    "        # 2 - Modelling\n",
    "        # =========================================\n",
    "        \n",
    "        ##### Baseline Model\n",
    "        baseline_model = init_baseline()\n",
    "        mae_baseline = baseline_model.evaluate(X_test, y_test, verbose=0)[1]   # evaluating baseline model (metric)\n",
    "        list_of_mae_baseline_model.append(mae_baseline)\n",
    "        print(\"-\"*50)\n",
    "        print(f\"MAE baseline fold n°{fold_id} = {round(mae_baseline, 2)}\")\n",
    "\n",
    "        ##### LSTM Model\n",
    "        model = init_model(X_train, y_train)\n",
    "        es = EarlyStopping(monitor = \"val_mae\",\n",
    "                           mode = \"min\",\n",
    "                           patience = 2, \n",
    "                           restore_best_weights = True)\n",
    "        history = model.fit(X_train, y_train,\n",
    "                            validation_split = 0.3,\n",
    "                            shuffle = False,\n",
    "                            batch_size = 32,\n",
    "                            epochs = 50,\n",
    "                            callbacks = [es],\n",
    "                            verbose = 0)\n",
    "        res = model.evaluate(X_test, y_test, verbose=0)    # evaluating LSTM (metric)\n",
    "        mae_lstm = res[1]\n",
    "        list_of_mae_recurrent_model.append(mae_lstm)\n",
    "        print(f\"MAE LSTM fold n°{fold_id} = {round(mae_lstm, 2)}\")\n",
    "        \n",
    "        ##### Comparison LSTM vs Baseline for the current fold\n",
    "        print(f\"🏋🏽‍♂️ improvement over baseline: {round((1 - (mae_lstm/mae_baseline))*100,2)} % \\n\")\n",
    "\n",
    "    return list_of_mae_baseline_model, list_of_mae_recurrent_model"
   ]
  },
  {
   "cell_type": "code",
   "execution_count": 42,
   "id": "df03310c",
   "metadata": {
    "vscode": {
     "languageId": "python"
    }
   },
   "outputs": [
    {
     "name": "stdout",
     "output_type": "stream",
     "text": [
      "--------------------------------------------------\n",
      "MAE baseline fold n°0 = 2.08\n",
      "MAE LSTM fold n°0 = 1.2\n",
      "🏋🏽‍♂️ improvement over baseline: 42.58 % \n",
      "\n",
      "--------------------------------------------------\n",
      "MAE baseline fold n°1 = 2.03\n",
      "MAE LSTM fold n°1 = 1.45\n",
      "🏋🏽‍♂️ improvement over baseline: 28.25 % \n",
      "\n",
      "--------------------------------------------------\n",
      "MAE baseline fold n°2 = 1.9\n",
      "MAE LSTM fold n°2 = 1.59\n",
      "🏋🏽‍♂️ improvement over baseline: 16.31 % \n",
      "\n",
      "--------------------------------------------------\n",
      "MAE baseline fold n°3 = 2.03\n",
      "MAE LSTM fold n°3 = 1.28\n",
      "🏋🏽‍♂️ improvement over baseline: 36.86 % \n",
      "\n",
      "--------------------------------------------------\n",
      "MAE baseline fold n°4 = 1.8\n",
      "MAE LSTM fold n°4 = 1.29\n",
      "🏋🏽‍♂️ improvement over baseline: 28.25 % \n",
      "\n",
      "--------------------------------------------------\n",
      "MAE baseline fold n°5 = 1.84\n",
      "MAE LSTM fold n°5 = 1.16\n",
      "🏋🏽‍♂️ improvement over baseline: 36.78 % \n",
      "\n",
      "--------------------------------------------------\n",
      "MAE baseline fold n°6 = 1.64\n",
      "MAE LSTM fold n°6 = 1.19\n",
      "🏋🏽‍♂️ improvement over baseline: 27.24 % \n",
      "\n",
      "--------------------------------------------------\n",
      "MAE baseline fold n°7 = 1.7\n",
      "MAE LSTM fold n°7 = 1.04\n",
      "🏋🏽‍♂️ improvement over baseline: 38.53 % \n",
      "\n",
      "--------------------------------------------------\n",
      "MAE baseline fold n°8 = 1.64\n",
      "MAE LSTM fold n°8 = 1.25\n",
      "🏋🏽‍♂️ improvement over baseline: 23.59 % \n",
      "\n",
      "--------------------------------------------------\n",
      "MAE baseline fold n°9 = 1.81\n",
      "MAE LSTM fold n°9 = 1.32\n",
      "🏋🏽‍♂️ improvement over baseline: 27.12 % \n",
      "\n",
      "--------------------------------------------------\n",
      "MAE baseline fold n°10 = 1.91\n",
      "MAE LSTM fold n°10 = 1.13\n",
      "🏋🏽‍♂️ improvement over baseline: 40.73 % \n",
      "\n",
      "--------------------------------------------------\n",
      "MAE baseline fold n°11 = 1.83\n",
      "MAE LSTM fold n°11 = 1.23\n",
      "🏋🏽‍♂️ improvement over baseline: 32.84 % \n",
      "\n",
      "--------------------------------------------------\n",
      "MAE baseline fold n°12 = 1.82\n",
      "MAE LSTM fold n°12 = 1.26\n",
      "🏋🏽‍♂️ improvement over baseline: 30.59 % \n",
      "\n",
      "--------------------------------------------------\n",
      "MAE baseline fold n°13 = 1.75\n",
      "MAE LSTM fold n°13 = 1.41\n",
      "🏋🏽‍♂️ improvement over baseline: 19.24 % \n",
      "\n",
      "--------------------------------------------------\n",
      "MAE baseline fold n°14 = 1.83\n",
      "MAE LSTM fold n°14 = 1.19\n",
      "🏋🏽‍♂️ improvement over baseline: 34.91 % \n",
      "\n",
      "--------------------------------------------------\n",
      "MAE baseline fold n°15 = 1.88\n",
      "MAE LSTM fold n°15 = 1.22\n",
      "🏋🏽‍♂️ improvement over baseline: 35.33 % \n",
      "\n",
      "--------------------------------------------------\n",
      "MAE baseline fold n°16 = 1.92\n",
      "MAE LSTM fold n°16 = 1.28\n",
      "🏋🏽‍♂️ improvement over baseline: 33.04 % \n",
      "\n",
      "--------------------------------------------------\n",
      "MAE baseline fold n°17 = 1.82\n",
      "MAE LSTM fold n°17 = 1.33\n",
      "🏋🏽‍♂️ improvement over baseline: 26.58 % \n",
      "\n",
      "--------------------------------------------------\n",
      "MAE baseline fold n°18 = 1.81\n",
      "MAE LSTM fold n°18 = 1.17\n",
      "🏋🏽‍♂️ improvement over baseline: 35.42 % \n",
      "\n",
      "--------------------------------------------------\n",
      "MAE baseline fold n°19 = 1.84\n",
      "MAE LSTM fold n°19 = 1.15\n",
      "🏋🏽‍♂️ improvement over baseline: 37.43 % \n",
      "\n",
      "--------------------------------------------------\n",
      "MAE baseline fold n°20 = 1.75\n",
      "MAE LSTM fold n°20 = 1.2\n",
      "🏋🏽‍♂️ improvement over baseline: 31.75 % \n",
      "\n",
      "CPU times: user 1h 42min 21s, sys: 45min 42s, total: 2h 28min 4s\n",
      "Wall time: 38min 35s\n"
     ]
    }
   ],
   "source": [
    "%%time\n",
    "# WARNING : it takes 75 minutes to run this cell \n",
    "mae_baselines, mae_lstms = cross_validate_baseline_and_lstm()"
   ]
  },
  {
   "cell_type": "code",
   "execution_count": 43,
   "id": "6257263a",
   "metadata": {
    "vscode": {
     "languageId": "python"
    }
   },
   "outputs": [
    {
     "name": "stdout",
     "output_type": "stream",
     "text": [
      "average percentage improvement over baseline = 32.0%\n"
     ]
    }
   ],
   "source": [
    "print(f\"average percentage improvement over baseline = {round(np.mean(1 - (np.array(mae_lstms)/np.array(mae_baselines))),2)*100}%\")"
   ]
  },
  {
   "cell_type": "markdown",
   "id": "c56c3947",
   "metadata": {},
   "source": [
    "## Acknowledgments"
   ]
  },
  {
   "cell_type": "markdown",
   "id": "37240459",
   "metadata": {},
   "source": [
    "* This challenge was truly inspired by the `Time Series Forecasting` tutorial from `Google>Tensorflow>Keras`\n",
    "* The technical functions were inspired by Bruno Lajoie's [data-template package about Time Series](https://github.com/lewagon/data-templates/tree/main/project-boilerplates)"
   ]
  },
  {
   "cell_type": "markdown",
   "id": "a0ed4b90",
   "metadata": {
    "heading_collapsed": true
   },
   "source": [
    "# (Bonus) The original dataset "
   ]
  },
  {
   "cell_type": "markdown",
   "id": "6781c826",
   "metadata": {
    "hidden": true
   },
   "source": [
    "🥋 If you want to practice your feature engineering skills, feel free to come back to this challenge later, download the original dataset and work on it."
   ]
  },
  {
   "cell_type": "code",
   "execution_count": 44,
   "id": "945e9a1d",
   "metadata": {
    "hidden": true,
    "vscode": {
     "languageId": "python"
    }
   },
   "outputs": [
    {
     "name": "stdout",
     "output_type": "stream",
     "text": [
      "raw.shape = (420551, 15)\n"
     ]
    },
    {
     "data": {
      "text/html": [
       "<div>\n",
       "<style scoped>\n",
       "    .dataframe tbody tr th:only-of-type {\n",
       "        vertical-align: middle;\n",
       "    }\n",
       "\n",
       "    .dataframe tbody tr th {\n",
       "        vertical-align: top;\n",
       "    }\n",
       "\n",
       "    .dataframe thead th {\n",
       "        text-align: right;\n",
       "    }\n",
       "</style>\n",
       "<table border=\"1\" class=\"dataframe\">\n",
       "  <thead>\n",
       "    <tr style=\"text-align: right;\">\n",
       "      <th></th>\n",
       "      <th>Date Time</th>\n",
       "      <th>p (mbar)</th>\n",
       "      <th>T (degC)</th>\n",
       "      <th>Tpot (K)</th>\n",
       "      <th>Tdew (degC)</th>\n",
       "      <th>rh (%)</th>\n",
       "      <th>VPmax (mbar)</th>\n",
       "      <th>VPact (mbar)</th>\n",
       "      <th>VPdef (mbar)</th>\n",
       "      <th>sh (g/kg)</th>\n",
       "      <th>H2OC (mmol/mol)</th>\n",
       "      <th>rho (g/m**3)</th>\n",
       "      <th>wv (m/s)</th>\n",
       "      <th>max. wv (m/s)</th>\n",
       "      <th>wd (deg)</th>\n",
       "    </tr>\n",
       "  </thead>\n",
       "  <tbody>\n",
       "    <tr>\n",
       "      <th>0</th>\n",
       "      <td>01.01.2009 00:10:00</td>\n",
       "      <td>996.52</td>\n",
       "      <td>-8.02</td>\n",
       "      <td>265.40</td>\n",
       "      <td>-8.90</td>\n",
       "      <td>93.3</td>\n",
       "      <td>3.33</td>\n",
       "      <td>3.11</td>\n",
       "      <td>0.22</td>\n",
       "      <td>1.94</td>\n",
       "      <td>3.12</td>\n",
       "      <td>1307.75</td>\n",
       "      <td>1.03</td>\n",
       "      <td>1.75</td>\n",
       "      <td>152.3</td>\n",
       "    </tr>\n",
       "    <tr>\n",
       "      <th>1</th>\n",
       "      <td>01.01.2009 00:20:00</td>\n",
       "      <td>996.57</td>\n",
       "      <td>-8.41</td>\n",
       "      <td>265.01</td>\n",
       "      <td>-9.28</td>\n",
       "      <td>93.4</td>\n",
       "      <td>3.23</td>\n",
       "      <td>3.02</td>\n",
       "      <td>0.21</td>\n",
       "      <td>1.89</td>\n",
       "      <td>3.03</td>\n",
       "      <td>1309.80</td>\n",
       "      <td>0.72</td>\n",
       "      <td>1.50</td>\n",
       "      <td>136.1</td>\n",
       "    </tr>\n",
       "    <tr>\n",
       "      <th>2</th>\n",
       "      <td>01.01.2009 00:30:00</td>\n",
       "      <td>996.53</td>\n",
       "      <td>-8.51</td>\n",
       "      <td>264.91</td>\n",
       "      <td>-9.31</td>\n",
       "      <td>93.9</td>\n",
       "      <td>3.21</td>\n",
       "      <td>3.01</td>\n",
       "      <td>0.20</td>\n",
       "      <td>1.88</td>\n",
       "      <td>3.02</td>\n",
       "      <td>1310.24</td>\n",
       "      <td>0.19</td>\n",
       "      <td>0.63</td>\n",
       "      <td>171.6</td>\n",
       "    </tr>\n",
       "    <tr>\n",
       "      <th>3</th>\n",
       "      <td>01.01.2009 00:40:00</td>\n",
       "      <td>996.51</td>\n",
       "      <td>-8.31</td>\n",
       "      <td>265.12</td>\n",
       "      <td>-9.07</td>\n",
       "      <td>94.2</td>\n",
       "      <td>3.26</td>\n",
       "      <td>3.07</td>\n",
       "      <td>0.19</td>\n",
       "      <td>1.92</td>\n",
       "      <td>3.08</td>\n",
       "      <td>1309.19</td>\n",
       "      <td>0.34</td>\n",
       "      <td>0.50</td>\n",
       "      <td>198.0</td>\n",
       "    </tr>\n",
       "    <tr>\n",
       "      <th>4</th>\n",
       "      <td>01.01.2009 00:50:00</td>\n",
       "      <td>996.51</td>\n",
       "      <td>-8.27</td>\n",
       "      <td>265.15</td>\n",
       "      <td>-9.04</td>\n",
       "      <td>94.1</td>\n",
       "      <td>3.27</td>\n",
       "      <td>3.08</td>\n",
       "      <td>0.19</td>\n",
       "      <td>1.92</td>\n",
       "      <td>3.09</td>\n",
       "      <td>1309.00</td>\n",
       "      <td>0.32</td>\n",
       "      <td>0.63</td>\n",
       "      <td>214.3</td>\n",
       "    </tr>\n",
       "  </tbody>\n",
       "</table>\n",
       "</div>"
      ],
      "text/plain": [
       "             Date Time  p (mbar)  T (degC)  Tpot (K)  Tdew (degC)  rh (%)  \\\n",
       "0  01.01.2009 00:10:00    996.52     -8.02    265.40        -8.90    93.3   \n",
       "1  01.01.2009 00:20:00    996.57     -8.41    265.01        -9.28    93.4   \n",
       "2  01.01.2009 00:30:00    996.53     -8.51    264.91        -9.31    93.9   \n",
       "3  01.01.2009 00:40:00    996.51     -8.31    265.12        -9.07    94.2   \n",
       "4  01.01.2009 00:50:00    996.51     -8.27    265.15        -9.04    94.1   \n",
       "\n",
       "   VPmax (mbar)  VPact (mbar)  VPdef (mbar)  sh (g/kg)  H2OC (mmol/mol)  \\\n",
       "0          3.33          3.11          0.22       1.94             3.12   \n",
       "1          3.23          3.02          0.21       1.89             3.03   \n",
       "2          3.21          3.01          0.20       1.88             3.02   \n",
       "3          3.26          3.07          0.19       1.92             3.08   \n",
       "4          3.27          3.08          0.19       1.92             3.09   \n",
       "\n",
       "   rho (g/m**3)  wv (m/s)  max. wv (m/s)  wd (deg)  \n",
       "0       1307.75      1.03           1.75     152.3  \n",
       "1       1309.80      0.72           1.50     136.1  \n",
       "2       1310.24      0.19           0.63     171.6  \n",
       "3       1309.19      0.34           0.50     198.0  \n",
       "4       1309.00      0.32           0.63     214.3  "
      ]
     },
     "metadata": {},
     "output_type": "display_data"
    }
   ],
   "source": [
    "#########################################################\n",
    "# Uncomment later -not today- to download the original  #\n",
    "# dataset and try to perform the features engineering   #\n",
    "# by yourself                                           #\n",
    "#########################################################\n",
    "\n",
    "\n",
    "zip_path = tf.keras.utils.get_file(\n",
    "    origin='https://storage.googleapis.com/tensorflow/tf-keras-datasets/jena_climate_2009_2016.csv.zip',\n",
    "    fname='jena_climate_2009_2016.csv.zip',\n",
    "    extract=True)\n",
    "csv_path, _ = os.path.splitext(zip_path)\n",
    "\n",
    "raw = pd.read_csv(csv_path)\n",
    "\n",
    "print(f\"raw.shape = {raw.shape}\")\n",
    "display(raw.head())"
   ]
  },
  {
   "cell_type": "code",
   "execution_count": 45,
   "id": "3b5f0b6c",
   "metadata": {
    "hidden": true,
    "vscode": {
     "languageId": "python"
    }
   },
   "outputs": [
    {
     "name": "stdout",
     "output_type": "stream",
     "text": [
      "<class 'pandas.core.frame.DataFrame'>\n",
      "RangeIndex: 420551 entries, 0 to 420550\n",
      "Data columns (total 15 columns):\n",
      " #   Column           Non-Null Count   Dtype  \n",
      "---  ------           --------------   -----  \n",
      " 0   Date Time        420551 non-null  object \n",
      " 1   p (mbar)         420551 non-null  float64\n",
      " 2   T (degC)         420551 non-null  float64\n",
      " 3   Tpot (K)         420551 non-null  float64\n",
      " 4   Tdew (degC)      420551 non-null  float64\n",
      " 5   rh (%)           420551 non-null  float64\n",
      " 6   VPmax (mbar)     420551 non-null  float64\n",
      " 7   VPact (mbar)     420551 non-null  float64\n",
      " 8   VPdef (mbar)     420551 non-null  float64\n",
      " 9   sh (g/kg)        420551 non-null  float64\n",
      " 10  H2OC (mmol/mol)  420551 non-null  float64\n",
      " 11  rho (g/m**3)     420551 non-null  float64\n",
      " 12  wv (m/s)         420551 non-null  float64\n",
      " 13  max. wv (m/s)    420551 non-null  float64\n",
      " 14  wd (deg)         420551 non-null  float64\n",
      "dtypes: float64(14), object(1)\n",
      "memory usage: 48.1+ MB\n"
     ]
    }
   ],
   "source": [
    "# Inspecting each feature to detect their type and null values\n",
    "raw.info()"
   ]
  },
  {
   "cell_type": "code",
   "execution_count": 46,
   "id": "e6d23e85",
   "metadata": {
    "hidden": true,
    "vscode": {
     "languageId": "python"
    }
   },
   "outputs": [
    {
     "data": {
      "text/html": [
       "<div>\n",
       "<style scoped>\n",
       "    .dataframe tbody tr th:only-of-type {\n",
       "        vertical-align: middle;\n",
       "    }\n",
       "\n",
       "    .dataframe tbody tr th {\n",
       "        vertical-align: top;\n",
       "    }\n",
       "\n",
       "    .dataframe thead th {\n",
       "        text-align: right;\n",
       "    }\n",
       "</style>\n",
       "<table border=\"1\" class=\"dataframe\">\n",
       "  <thead>\n",
       "    <tr style=\"text-align: right;\">\n",
       "      <th></th>\n",
       "      <th>Date Time</th>\n",
       "      <th>p (mbar)</th>\n",
       "      <th>T (degC)</th>\n",
       "      <th>Tpot (K)</th>\n",
       "      <th>Tdew (degC)</th>\n",
       "      <th>rh (%)</th>\n",
       "      <th>VPmax (mbar)</th>\n",
       "      <th>VPact (mbar)</th>\n",
       "      <th>VPdef (mbar)</th>\n",
       "      <th>sh (g/kg)</th>\n",
       "      <th>H2OC (mmol/mol)</th>\n",
       "      <th>rho (g/m**3)</th>\n",
       "      <th>wv (m/s)</th>\n",
       "      <th>max. wv (m/s)</th>\n",
       "      <th>wd (deg)</th>\n",
       "    </tr>\n",
       "  </thead>\n",
       "  <tbody>\n",
       "    <tr>\n",
       "      <th>5</th>\n",
       "      <td>01.01.2009 01:00:00</td>\n",
       "      <td>996.50</td>\n",
       "      <td>-8.05</td>\n",
       "      <td>265.38</td>\n",
       "      <td>-8.78</td>\n",
       "      <td>94.4</td>\n",
       "      <td>3.33</td>\n",
       "      <td>3.14</td>\n",
       "      <td>0.19</td>\n",
       "      <td>1.96</td>\n",
       "      <td>3.15</td>\n",
       "      <td>1307.86</td>\n",
       "      <td>0.21</td>\n",
       "      <td>0.63</td>\n",
       "      <td>192.7</td>\n",
       "    </tr>\n",
       "    <tr>\n",
       "      <th>11</th>\n",
       "      <td>01.01.2009 02:00:00</td>\n",
       "      <td>996.62</td>\n",
       "      <td>-8.88</td>\n",
       "      <td>264.54</td>\n",
       "      <td>-9.77</td>\n",
       "      <td>93.2</td>\n",
       "      <td>3.12</td>\n",
       "      <td>2.90</td>\n",
       "      <td>0.21</td>\n",
       "      <td>1.81</td>\n",
       "      <td>2.91</td>\n",
       "      <td>1312.25</td>\n",
       "      <td>0.25</td>\n",
       "      <td>0.63</td>\n",
       "      <td>190.3</td>\n",
       "    </tr>\n",
       "    <tr>\n",
       "      <th>17</th>\n",
       "      <td>01.01.2009 03:00:00</td>\n",
       "      <td>996.84</td>\n",
       "      <td>-8.81</td>\n",
       "      <td>264.59</td>\n",
       "      <td>-9.66</td>\n",
       "      <td>93.5</td>\n",
       "      <td>3.13</td>\n",
       "      <td>2.93</td>\n",
       "      <td>0.20</td>\n",
       "      <td>1.83</td>\n",
       "      <td>2.94</td>\n",
       "      <td>1312.18</td>\n",
       "      <td>0.18</td>\n",
       "      <td>0.63</td>\n",
       "      <td>167.2</td>\n",
       "    </tr>\n",
       "    <tr>\n",
       "      <th>23</th>\n",
       "      <td>01.01.2009 04:00:00</td>\n",
       "      <td>996.99</td>\n",
       "      <td>-9.05</td>\n",
       "      <td>264.34</td>\n",
       "      <td>-10.02</td>\n",
       "      <td>92.6</td>\n",
       "      <td>3.07</td>\n",
       "      <td>2.85</td>\n",
       "      <td>0.23</td>\n",
       "      <td>1.78</td>\n",
       "      <td>2.85</td>\n",
       "      <td>1313.61</td>\n",
       "      <td>0.10</td>\n",
       "      <td>0.38</td>\n",
       "      <td>240.0</td>\n",
       "    </tr>\n",
       "    <tr>\n",
       "      <th>29</th>\n",
       "      <td>01.01.2009 05:00:00</td>\n",
       "      <td>997.46</td>\n",
       "      <td>-9.63</td>\n",
       "      <td>263.72</td>\n",
       "      <td>-10.65</td>\n",
       "      <td>92.2</td>\n",
       "      <td>2.94</td>\n",
       "      <td>2.71</td>\n",
       "      <td>0.23</td>\n",
       "      <td>1.69</td>\n",
       "      <td>2.71</td>\n",
       "      <td>1317.19</td>\n",
       "      <td>0.40</td>\n",
       "      <td>0.88</td>\n",
       "      <td>157.0</td>\n",
       "    </tr>\n",
       "  </tbody>\n",
       "</table>\n",
       "</div>"
      ],
      "text/plain": [
       "              Date Time  p (mbar)  T (degC)  Tpot (K)  Tdew (degC)  rh (%)  \\\n",
       "5   01.01.2009 01:00:00    996.50     -8.05    265.38        -8.78    94.4   \n",
       "11  01.01.2009 02:00:00    996.62     -8.88    264.54        -9.77    93.2   \n",
       "17  01.01.2009 03:00:00    996.84     -8.81    264.59        -9.66    93.5   \n",
       "23  01.01.2009 04:00:00    996.99     -9.05    264.34       -10.02    92.6   \n",
       "29  01.01.2009 05:00:00    997.46     -9.63    263.72       -10.65    92.2   \n",
       "\n",
       "    VPmax (mbar)  VPact (mbar)  VPdef (mbar)  sh (g/kg)  H2OC (mmol/mol)  \\\n",
       "5           3.33          3.14          0.19       1.96             3.15   \n",
       "11          3.12          2.90          0.21       1.81             2.91   \n",
       "17          3.13          2.93          0.20       1.83             2.94   \n",
       "23          3.07          2.85          0.23       1.78             2.85   \n",
       "29          2.94          2.71          0.23       1.69             2.71   \n",
       "\n",
       "    rho (g/m**3)  wv (m/s)  max. wv (m/s)  wd (deg)  \n",
       "5        1307.86      0.21           0.63     192.7  \n",
       "11       1312.25      0.25           0.63     190.3  \n",
       "17       1312.18      0.18           0.63     167.2  \n",
       "23       1313.61      0.10           0.38     240.0  \n",
       "29       1317.19      0.40           0.88     157.0  "
      ]
     },
     "execution_count": 46,
     "metadata": {},
     "output_type": "execute_result"
    }
   ],
   "source": [
    "# Slice [start:stop:step], \n",
    "# starting from index 5, take every 6th record\n",
    "# to get only hourly records\n",
    "\n",
    "# YOUR CODE HERE\n",
    "df = raw[5::6].copy()\n",
    "df.head()"
   ]
  },
  {
   "cell_type": "code",
   "execution_count": 47,
   "id": "44858dd2",
   "metadata": {
    "hidden": true,
    "vscode": {
     "languageId": "python"
    }
   },
   "outputs": [],
   "source": [
    "# Convert the \"Date Time\" column to a datetime format\n",
    "\n",
    "# YOUR CODE HERE\n",
    "df[\"Date Time\"] = pd.to_datetime(df[\"Date Time\"])"
   ]
  },
  {
   "cell_type": "code",
   "execution_count": 48,
   "id": "4dde3fa5",
   "metadata": {
    "hidden": true,
    "vscode": {
     "languageId": "python"
    }
   },
   "outputs": [
    {
     "data": {
      "text/html": [
       "<div>\n",
       "<style scoped>\n",
       "    .dataframe tbody tr th:only-of-type {\n",
       "        vertical-align: middle;\n",
       "    }\n",
       "\n",
       "    .dataframe tbody tr th {\n",
       "        vertical-align: top;\n",
       "    }\n",
       "\n",
       "    .dataframe thead th {\n",
       "        text-align: right;\n",
       "    }\n",
       "</style>\n",
       "<table border=\"1\" class=\"dataframe\">\n",
       "  <thead>\n",
       "    <tr style=\"text-align: right;\">\n",
       "      <th></th>\n",
       "      <th>count</th>\n",
       "      <th>mean</th>\n",
       "      <th>std</th>\n",
       "      <th>min</th>\n",
       "      <th>25%</th>\n",
       "      <th>50%</th>\n",
       "      <th>75%</th>\n",
       "      <th>max</th>\n",
       "    </tr>\n",
       "  </thead>\n",
       "  <tbody>\n",
       "    <tr>\n",
       "      <th>p (mbar)</th>\n",
       "      <td>70091.0</td>\n",
       "      <td>989.21</td>\n",
       "      <td>8.36</td>\n",
       "      <td>913.60</td>\n",
       "      <td>984.20</td>\n",
       "      <td>989.57</td>\n",
       "      <td>994.72</td>\n",
       "      <td>1015.29</td>\n",
       "    </tr>\n",
       "    <tr>\n",
       "      <th>T (degC)</th>\n",
       "      <td>70091.0</td>\n",
       "      <td>9.45</td>\n",
       "      <td>8.42</td>\n",
       "      <td>-22.76</td>\n",
       "      <td>3.35</td>\n",
       "      <td>9.41</td>\n",
       "      <td>15.48</td>\n",
       "      <td>37.28</td>\n",
       "    </tr>\n",
       "    <tr>\n",
       "      <th>Tpot (K)</th>\n",
       "      <td>70091.0</td>\n",
       "      <td>283.49</td>\n",
       "      <td>8.50</td>\n",
       "      <td>250.85</td>\n",
       "      <td>277.44</td>\n",
       "      <td>283.46</td>\n",
       "      <td>289.53</td>\n",
       "      <td>311.21</td>\n",
       "    </tr>\n",
       "    <tr>\n",
       "      <th>Tdew (degC)</th>\n",
       "      <td>70091.0</td>\n",
       "      <td>4.96</td>\n",
       "      <td>6.73</td>\n",
       "      <td>-24.80</td>\n",
       "      <td>0.24</td>\n",
       "      <td>5.21</td>\n",
       "      <td>10.08</td>\n",
       "      <td>23.06</td>\n",
       "    </tr>\n",
       "    <tr>\n",
       "      <th>rh (%)</th>\n",
       "      <td>70091.0</td>\n",
       "      <td>76.01</td>\n",
       "      <td>16.47</td>\n",
       "      <td>13.88</td>\n",
       "      <td>65.21</td>\n",
       "      <td>79.30</td>\n",
       "      <td>89.40</td>\n",
       "      <td>100.00</td>\n",
       "    </tr>\n",
       "    <tr>\n",
       "      <th>VPmax (mbar)</th>\n",
       "      <td>70091.0</td>\n",
       "      <td>13.58</td>\n",
       "      <td>7.74</td>\n",
       "      <td>0.97</td>\n",
       "      <td>7.77</td>\n",
       "      <td>11.82</td>\n",
       "      <td>17.61</td>\n",
       "      <td>63.77</td>\n",
       "    </tr>\n",
       "    <tr>\n",
       "      <th>VPact (mbar)</th>\n",
       "      <td>70091.0</td>\n",
       "      <td>9.53</td>\n",
       "      <td>4.18</td>\n",
       "      <td>0.81</td>\n",
       "      <td>6.22</td>\n",
       "      <td>8.86</td>\n",
       "      <td>12.36</td>\n",
       "      <td>28.25</td>\n",
       "    </tr>\n",
       "    <tr>\n",
       "      <th>VPdef (mbar)</th>\n",
       "      <td>70091.0</td>\n",
       "      <td>4.04</td>\n",
       "      <td>4.90</td>\n",
       "      <td>0.00</td>\n",
       "      <td>0.87</td>\n",
       "      <td>2.19</td>\n",
       "      <td>5.30</td>\n",
       "      <td>46.01</td>\n",
       "    </tr>\n",
       "    <tr>\n",
       "      <th>sh (g/kg)</th>\n",
       "      <td>70091.0</td>\n",
       "      <td>6.02</td>\n",
       "      <td>2.66</td>\n",
       "      <td>0.51</td>\n",
       "      <td>3.92</td>\n",
       "      <td>5.59</td>\n",
       "      <td>7.80</td>\n",
       "      <td>18.07</td>\n",
       "    </tr>\n",
       "    <tr>\n",
       "      <th>H2OC (mmol/mol)</th>\n",
       "      <td>70091.0</td>\n",
       "      <td>9.64</td>\n",
       "      <td>4.23</td>\n",
       "      <td>0.81</td>\n",
       "      <td>6.29</td>\n",
       "      <td>8.96</td>\n",
       "      <td>12.49</td>\n",
       "      <td>28.74</td>\n",
       "    </tr>\n",
       "    <tr>\n",
       "      <th>rho (g/m**3)</th>\n",
       "      <td>70091.0</td>\n",
       "      <td>1216.06</td>\n",
       "      <td>39.97</td>\n",
       "      <td>1059.45</td>\n",
       "      <td>1187.47</td>\n",
       "      <td>1213.80</td>\n",
       "      <td>1242.76</td>\n",
       "      <td>1393.54</td>\n",
       "    </tr>\n",
       "    <tr>\n",
       "      <th>wv (m/s)</th>\n",
       "      <td>70091.0</td>\n",
       "      <td>1.70</td>\n",
       "      <td>65.45</td>\n",
       "      <td>-9999.00</td>\n",
       "      <td>0.99</td>\n",
       "      <td>1.76</td>\n",
       "      <td>2.86</td>\n",
       "      <td>14.01</td>\n",
       "    </tr>\n",
       "    <tr>\n",
       "      <th>max. wv (m/s)</th>\n",
       "      <td>70091.0</td>\n",
       "      <td>2.96</td>\n",
       "      <td>75.60</td>\n",
       "      <td>-9999.00</td>\n",
       "      <td>1.76</td>\n",
       "      <td>2.98</td>\n",
       "      <td>4.74</td>\n",
       "      <td>23.50</td>\n",
       "    </tr>\n",
       "    <tr>\n",
       "      <th>wd (deg)</th>\n",
       "      <td>70091.0</td>\n",
       "      <td>174.79</td>\n",
       "      <td>86.62</td>\n",
       "      <td>0.00</td>\n",
       "      <td>125.30</td>\n",
       "      <td>198.10</td>\n",
       "      <td>234.00</td>\n",
       "      <td>360.00</td>\n",
       "    </tr>\n",
       "  </tbody>\n",
       "</table>\n",
       "</div>"
      ],
      "text/plain": [
       "                   count     mean    std      min      25%      50%      75%  \\\n",
       "p (mbar)         70091.0   989.21   8.36   913.60   984.20   989.57   994.72   \n",
       "T (degC)         70091.0     9.45   8.42   -22.76     3.35     9.41    15.48   \n",
       "Tpot (K)         70091.0   283.49   8.50   250.85   277.44   283.46   289.53   \n",
       "Tdew (degC)      70091.0     4.96   6.73   -24.80     0.24     5.21    10.08   \n",
       "rh (%)           70091.0    76.01  16.47    13.88    65.21    79.30    89.40   \n",
       "VPmax (mbar)     70091.0    13.58   7.74     0.97     7.77    11.82    17.61   \n",
       "VPact (mbar)     70091.0     9.53   4.18     0.81     6.22     8.86    12.36   \n",
       "VPdef (mbar)     70091.0     4.04   4.90     0.00     0.87     2.19     5.30   \n",
       "sh (g/kg)        70091.0     6.02   2.66     0.51     3.92     5.59     7.80   \n",
       "H2OC (mmol/mol)  70091.0     9.64   4.23     0.81     6.29     8.96    12.49   \n",
       "rho (g/m**3)     70091.0  1216.06  39.97  1059.45  1187.47  1213.80  1242.76   \n",
       "wv (m/s)         70091.0     1.70  65.45 -9999.00     0.99     1.76     2.86   \n",
       "max. wv (m/s)    70091.0     2.96  75.60 -9999.00     1.76     2.98     4.74   \n",
       "wd (deg)         70091.0   174.79  86.62     0.00   125.30   198.10   234.00   \n",
       "\n",
       "                     max  \n",
       "p (mbar)         1015.29  \n",
       "T (degC)           37.28  \n",
       "Tpot (K)          311.21  \n",
       "Tdew (degC)        23.06  \n",
       "rh (%)            100.00  \n",
       "VPmax (mbar)       63.77  \n",
       "VPact (mbar)       28.25  \n",
       "VPdef (mbar)       46.01  \n",
       "sh (g/kg)          18.07  \n",
       "H2OC (mmol/mol)    28.74  \n",
       "rho (g/m**3)     1393.54  \n",
       "wv (m/s)           14.01  \n",
       "max. wv (m/s)      23.50  \n",
       "wd (deg)          360.00  "
      ]
     },
     "execution_count": 48,
     "metadata": {},
     "output_type": "execute_result"
    }
   ],
   "source": [
    "# Describe the dataset\n",
    "\n",
    "# YOUR CODE HERE\n",
    "round(df.describe().transpose(),2)"
   ]
  },
  {
   "cell_type": "code",
   "execution_count": 49,
   "id": "9aa9b4a5",
   "metadata": {
    "hidden": true,
    "vscode": {
     "languageId": "python"
    }
   },
   "outputs": [],
   "source": [
    "## Fixing the wv, look at the absurd values and replace them with zero\n",
    "\n",
    "# YOUR CODE HERE\n",
    "wv = df['wv (m/s)']\n",
    "bad_wv = (wv == -9999.0)\n",
    "df.loc[bad_wv, 'wv (m/s)'] = 0.0\n",
    "\n",
    "\n",
    "## Fixing the max wv\n",
    "\n",
    "# YOUR CODE HERE\n",
    "max_wv = df['max. wv (m/s)']\n",
    "bad_max_wv = max_wv == -9999.0\n",
    "df.loc[bad_max_wv, 'max. wv (m/s)'] = 0.0"
   ]
  },
  {
   "cell_type": "code",
   "execution_count": 50,
   "id": "20fafcb0",
   "metadata": {
    "hidden": true,
    "vscode": {
     "languageId": "python"
    }
   },
   "outputs": [
    {
     "name": "stdout",
     "output_type": "stream",
     "text": [
      "--------------------------------------------------\n",
      "Working with angles...\n"
     ]
    },
    {
     "data": {
      "image/png": "[encoded data removed]",
      "text/plain": [
       "<Figure size 432x288 with 2 Axes>"
      ]
     },
     "metadata": {
      "needs_background": "light"
     },
     "output_type": "display_data"
    },
    {
     "name": "stdout",
     "output_type": "stream",
     "text": [
      "--------------------------------------------------\n",
      "Working with wind vectors\n"
     ]
    },
    {
     "data": {
      "image/png": "[encoded data removed]",
      "text/plain": [
       "<Figure size 432x288 with 2 Axes>"
      ]
     },
     "metadata": {
      "needs_background": "light"
     },
     "output_type": "display_data"
    }
   ],
   "source": [
    "# Wind : Wd degrees from 0 to 360 egrees\n",
    "# Angles do not make good models inputs because 0 and 360 should be \"close\"\n",
    "\n",
    "print('-'*50)\n",
    "print(\"Working with angles...\")\n",
    "\n",
    "plt.hist2d(df['wd (deg)'], df['wv (m/s)'], \n",
    "           bins=(50, 50), \n",
    "           vmax=400)\n",
    "plt.colorbar()\n",
    "plt.xlabel('Wind Direction [deg]')\n",
    "plt.ylabel('Wind Velocity [m/s]')\n",
    "plt.show()\n",
    "\n",
    "# It is much easier for the model to interpret\n",
    "# the wind direction and the wind velocity through a vector\n",
    "\n",
    "\n",
    "# Convert degrees to radians and store the values into wd_rad\n",
    "# YOUR CODE HERE\n",
    "wd_rad = df.pop('wd (deg)')*np.pi / 180\n",
    "\n",
    "# Calculate the wind x and y components and store then in two new columns\n",
    "# `Wx` and `Wy`\n",
    "# YOUR CODE HERE\n",
    "wv = df.pop('wv (m/s)')\n",
    "df['Wx'] = wv*np.cos(wd_rad)\n",
    "df['Wy'] = wv*np.sin(wd_rad)\n",
    "\n",
    "# Calculate the max wind x and y components and store then in two new columns\n",
    "# `max Wx` and `max Wy`\n",
    "# YOUR CODE HERE\n",
    "max_wv = df.pop('max. wv (m/s)')\n",
    "df['max Wx'] = max_wv*np.cos(wd_rad)\n",
    "df['max Wy'] = max_wv*np.sin(wd_rad)\n",
    "\n",
    "print('-'*50)\n",
    "print(\"Working with wind vectors\")\n",
    "\n",
    "plt.hist2d(df['Wx'], df['Wy'], \n",
    "           bins=(50, 50), vmax=400)\n",
    "plt.colorbar()\n",
    "plt.xlabel('Wind X [m/s]')\n",
    "plt.ylabel('Wind Y [m/s]')\n",
    "ax = plt.gca()\n",
    "ax.axis('tight')\n",
    "plt.show()"
   ]
  },
  {
   "cell_type": "code",
   "execution_count": 51,
   "id": "71d5bfd6",
   "metadata": {
    "hidden": true,
    "vscode": {
     "languageId": "python"
    }
   },
   "outputs": [],
   "source": [
    "# Similarly to the wind direction, the time in seconds is not a useful model input\n",
    "# The weather dataset has clear daily and yearly periodicities\n",
    "# Using sine and cosine functions, we can compute:\n",
    "# - the time of the day\n",
    "# - the time of the year\n",
    "\n",
    "# YOUR CODE HERE\n",
    "\n",
    "# Collecting the timestamps\n",
    "datetime_df = pd.to_datetime(df.pop('Date Time'), format='%d.%m.%Y %H:%M:%S')\n",
    "timestamps_s = datetime_df.map(pd.Timestamp.timestamp)\n",
    "timestamps_s\n",
    "\n",
    "# 24 hours x 60 minutes/hour x 60 seconds/minute\n",
    "day = 24*60*60 \n",
    "# 1 year in days\n",
    "year = (365.2425)*day\n",
    "\n",
    "# Day periodicity\n",
    "df['Day_sin'] = np.sin(timestamps_s * (2 * np.pi / day))\n",
    "df['Day_cos'] = np.cos(timestamps_s * (2 * np.pi / day))\n",
    "\n",
    "# Year periodicity\n",
    "df['Year_sin'] = np.sin(timestamps_s * (2 * np.pi / year))\n",
    "df['Year_cos'] = np.cos(timestamps_s * (2 * np.pi / year))"
   ]
  },
  {
   "cell_type": "code",
   "execution_count": 52,
   "id": "0622d648",
   "metadata": {
    "hidden": true,
    "vscode": {
     "languageId": "python"
    }
   },
   "outputs": [
    {
     "data": {
      "text/html": [
       "<div>\n",
       "<style scoped>\n",
       "    .dataframe tbody tr th:only-of-type {\n",
       "        vertical-align: middle;\n",
       "    }\n",
       "\n",
       "    .dataframe tbody tr th {\n",
       "        vertical-align: top;\n",
       "    }\n",
       "\n",
       "    .dataframe thead th {\n",
       "        text-align: right;\n",
       "    }\n",
       "</style>\n",
       "<table border=\"1\" class=\"dataframe\">\n",
       "  <thead>\n",
       "    <tr style=\"text-align: right;\">\n",
       "      <th></th>\n",
       "      <th>p (mbar)</th>\n",
       "      <th>T (degC)</th>\n",
       "      <th>Tpot (K)</th>\n",
       "      <th>Tdew (degC)</th>\n",
       "      <th>rh (%)</th>\n",
       "      <th>VPmax (mbar)</th>\n",
       "      <th>VPact (mbar)</th>\n",
       "      <th>VPdef (mbar)</th>\n",
       "      <th>sh (g/kg)</th>\n",
       "      <th>H2OC (mmol/mol)</th>\n",
       "      <th>rho (g/m**3)</th>\n",
       "      <th>Wx</th>\n",
       "      <th>Wy</th>\n",
       "      <th>max Wx</th>\n",
       "      <th>max Wy</th>\n",
       "      <th>Day_sin</th>\n",
       "      <th>Day_cos</th>\n",
       "      <th>Year_sin</th>\n",
       "      <th>Year_cos</th>\n",
       "    </tr>\n",
       "  </thead>\n",
       "  <tbody>\n",
       "    <tr>\n",
       "      <th>0</th>\n",
       "      <td>996.84</td>\n",
       "      <td>-8.81</td>\n",
       "      <td>264.59</td>\n",
       "      <td>-9.66</td>\n",
       "      <td>93.50</td>\n",
       "      <td>3.13</td>\n",
       "      <td>2.93</td>\n",
       "      <td>0.20</td>\n",
       "      <td>1.83</td>\n",
       "      <td>2.94</td>\n",
       "      <td>1312.18</td>\n",
       "      <td>-0.175527</td>\n",
       "      <td>0.039879</td>\n",
       "      <td>-0.614344</td>\n",
       "      <td>0.139576</td>\n",
       "      <td>7.071068e-01</td>\n",
       "      <td>7.071068e-01</td>\n",
       "      <td>0.011483</td>\n",
       "      <td>0.999934</td>\n",
       "    </tr>\n",
       "    <tr>\n",
       "      <th>1</th>\n",
       "      <td>997.71</td>\n",
       "      <td>-9.67</td>\n",
       "      <td>263.66</td>\n",
       "      <td>-10.62</td>\n",
       "      <td>92.70</td>\n",
       "      <td>2.93</td>\n",
       "      <td>2.71</td>\n",
       "      <td>0.21</td>\n",
       "      <td>1.69</td>\n",
       "      <td>2.72</td>\n",
       "      <td>1317.71</td>\n",
       "      <td>-0.041452</td>\n",
       "      <td>0.027960</td>\n",
       "      <td>-0.414519</td>\n",
       "      <td>0.279596</td>\n",
       "      <td>1.000000e+00</td>\n",
       "      <td>4.339955e-12</td>\n",
       "      <td>0.013633</td>\n",
       "      <td>0.999907</td>\n",
       "    </tr>\n",
       "    <tr>\n",
       "      <th>2</th>\n",
       "      <td>999.69</td>\n",
       "      <td>-7.66</td>\n",
       "      <td>265.52</td>\n",
       "      <td>-8.84</td>\n",
       "      <td>91.20</td>\n",
       "      <td>3.43</td>\n",
       "      <td>3.13</td>\n",
       "      <td>0.30</td>\n",
       "      <td>1.95</td>\n",
       "      <td>3.13</td>\n",
       "      <td>1310.14</td>\n",
       "      <td>-0.314796</td>\n",
       "      <td>-0.128466</td>\n",
       "      <td>-0.583298</td>\n",
       "      <td>-0.238040</td>\n",
       "      <td>7.071068e-01</td>\n",
       "      <td>-7.071068e-01</td>\n",
       "      <td>0.015783</td>\n",
       "      <td>0.999875</td>\n",
       "    </tr>\n",
       "    <tr>\n",
       "      <th>3</th>\n",
       "      <td>1000.30</td>\n",
       "      <td>-6.87</td>\n",
       "      <td>266.27</td>\n",
       "      <td>-8.28</td>\n",
       "      <td>89.60</td>\n",
       "      <td>3.64</td>\n",
       "      <td>3.27</td>\n",
       "      <td>0.38</td>\n",
       "      <td>2.03</td>\n",
       "      <td>3.26</td>\n",
       "      <td>1306.98</td>\n",
       "      <td>-1.834577</td>\n",
       "      <td>-0.141163</td>\n",
       "      <td>-2.622249</td>\n",
       "      <td>-0.201771</td>\n",
       "      <td>6.903299e-12</td>\n",
       "      <td>-1.000000e+00</td>\n",
       "      <td>0.017933</td>\n",
       "      <td>0.999839</td>\n",
       "    </tr>\n",
       "    <tr>\n",
       "      <th>4</th>\n",
       "      <td>999.88</td>\n",
       "      <td>-5.69</td>\n",
       "      <td>267.48</td>\n",
       "      <td>-7.00</td>\n",
       "      <td>90.40</td>\n",
       "      <td>3.99</td>\n",
       "      <td>3.61</td>\n",
       "      <td>0.38</td>\n",
       "      <td>2.25</td>\n",
       "      <td>3.61</td>\n",
       "      <td>1300.51</td>\n",
       "      <td>-0.825870</td>\n",
       "      <td>0.828758</td>\n",
       "      <td>-1.327039</td>\n",
       "      <td>1.331679</td>\n",
       "      <td>-7.071068e-01</td>\n",
       "      <td>-7.071068e-01</td>\n",
       "      <td>0.020083</td>\n",
       "      <td>0.999798</td>\n",
       "    </tr>\n",
       "    <tr>\n",
       "      <th>...</th>\n",
       "      <td>...</td>\n",
       "      <td>...</td>\n",
       "      <td>...</td>\n",
       "      <td>...</td>\n",
       "      <td>...</td>\n",
       "      <td>...</td>\n",
       "      <td>...</td>\n",
       "      <td>...</td>\n",
       "      <td>...</td>\n",
       "      <td>...</td>\n",
       "      <td>...</td>\n",
       "      <td>...</td>\n",
       "      <td>...</td>\n",
       "      <td>...</td>\n",
       "      <td>...</td>\n",
       "      <td>...</td>\n",
       "      <td>...</td>\n",
       "      <td>...</td>\n",
       "      <td>...</td>\n",
       "    </tr>\n",
       "    <tr>\n",
       "      <th>23358</th>\n",
       "      <td>1006.23</td>\n",
       "      <td>-6.31</td>\n",
       "      <td>266.37</td>\n",
       "      <td>-8.42</td>\n",
       "      <td>84.90</td>\n",
       "      <td>3.81</td>\n",
       "      <td>3.23</td>\n",
       "      <td>0.57</td>\n",
       "      <td>2.00</td>\n",
       "      <td>3.21</td>\n",
       "      <td>1312.01</td>\n",
       "      <td>-1.279930</td>\n",
       "      <td>-0.013404</td>\n",
       "      <td>-1.839899</td>\n",
       "      <td>-0.019268</td>\n",
       "      <td>6.755902e-01</td>\n",
       "      <td>-7.372773e-01</td>\n",
       "      <td>-0.000268</td>\n",
       "      <td>1.000000</td>\n",
       "    </tr>\n",
       "    <tr>\n",
       "      <th>23359</th>\n",
       "      <td>1004.62</td>\n",
       "      <td>-0.71</td>\n",
       "      <td>272.09</td>\n",
       "      <td>-5.97</td>\n",
       "      <td>67.37</td>\n",
       "      <td>5.80</td>\n",
       "      <td>3.91</td>\n",
       "      <td>1.89</td>\n",
       "      <td>2.42</td>\n",
       "      <td>3.89</td>\n",
       "      <td>1282.65</td>\n",
       "      <td>-0.976457</td>\n",
       "      <td>-0.412471</td>\n",
       "      <td>-1.916066</td>\n",
       "      <td>-0.809378</td>\n",
       "      <td>-4.361939e-02</td>\n",
       "      <td>-9.990482e-01</td>\n",
       "      <td>0.001883</td>\n",
       "      <td>0.999998</td>\n",
       "    </tr>\n",
       "    <tr>\n",
       "      <th>23360</th>\n",
       "      <td>1003.09</td>\n",
       "      <td>4.97</td>\n",
       "      <td>277.88</td>\n",
       "      <td>-3.04</td>\n",
       "      <td>56.03</td>\n",
       "      <td>8.71</td>\n",
       "      <td>4.88</td>\n",
       "      <td>3.83</td>\n",
       "      <td>3.03</td>\n",
       "      <td>4.86</td>\n",
       "      <td>1254.09</td>\n",
       "      <td>-0.403185</td>\n",
       "      <td>-0.359224</td>\n",
       "      <td>-0.776504</td>\n",
       "      <td>-0.691840</td>\n",
       "      <td>-7.372773e-01</td>\n",
       "      <td>-6.755902e-01</td>\n",
       "      <td>0.004033</td>\n",
       "      <td>0.999992</td>\n",
       "    </tr>\n",
       "    <tr>\n",
       "      <th>23361</th>\n",
       "      <td>1002.27</td>\n",
       "      <td>-0.42</td>\n",
       "      <td>272.56</td>\n",
       "      <td>-4.92</td>\n",
       "      <td>71.50</td>\n",
       "      <td>5.92</td>\n",
       "      <td>4.23</td>\n",
       "      <td>1.69</td>\n",
       "      <td>2.63</td>\n",
       "      <td>4.22</td>\n",
       "      <td>1278.14</td>\n",
       "      <td>-0.266024</td>\n",
       "      <td>-0.350473</td>\n",
       "      <td>-0.604599</td>\n",
       "      <td>-0.796530</td>\n",
       "      <td>-9.990482e-01</td>\n",
       "      <td>4.361939e-02</td>\n",
       "      <td>0.006183</td>\n",
       "      <td>0.999981</td>\n",
       "    </tr>\n",
       "    <tr>\n",
       "      <th>23362</th>\n",
       "      <td>1001.19</td>\n",
       "      <td>-2.75</td>\n",
       "      <td>270.32</td>\n",
       "      <td>-6.90</td>\n",
       "      <td>72.90</td>\n",
       "      <td>4.99</td>\n",
       "      <td>3.64</td>\n",
       "      <td>1.35</td>\n",
       "      <td>2.26</td>\n",
       "      <td>3.63</td>\n",
       "      <td>1288.02</td>\n",
       "      <td>-0.661501</td>\n",
       "      <td>0.257908</td>\n",
       "      <td>-1.453438</td>\n",
       "      <td>0.566672</td>\n",
       "      <td>-6.755902e-01</td>\n",
       "      <td>7.372773e-01</td>\n",
       "      <td>0.008334</td>\n",
       "      <td>0.999965</td>\n",
       "    </tr>\n",
       "  </tbody>\n",
       "</table>\n",
       "<p>23363 rows × 19 columns</p>\n",
       "</div>"
      ],
      "text/plain": [
       "       p (mbar)  T (degC)  Tpot (K)  Tdew (degC)  rh (%)  VPmax (mbar)  \\\n",
       "0        996.84     -8.81    264.59        -9.66   93.50          3.13   \n",
       "1        997.71     -9.67    263.66       -10.62   92.70          2.93   \n",
       "2        999.69     -7.66    265.52        -8.84   91.20          3.43   \n",
       "3       1000.30     -6.87    266.27        -8.28   89.60          3.64   \n",
       "4        999.88     -5.69    267.48        -7.00   90.40          3.99   \n",
       "...         ...       ...       ...          ...     ...           ...   \n",
       "23358   1006.23     -6.31    266.37        -8.42   84.90          3.81   \n",
       "23359   1004.62     -0.71    272.09        -5.97   67.37          5.80   \n",
       "23360   1003.09      4.97    277.88        -3.04   56.03          8.71   \n",
       "23361   1002.27     -0.42    272.56        -4.92   71.50          5.92   \n",
       "23362   1001.19     -2.75    270.32        -6.90   72.90          4.99   \n",
       "\n",
       "       VPact (mbar)  VPdef (mbar)  sh (g/kg)  H2OC (mmol/mol)  rho (g/m**3)  \\\n",
       "0              2.93          0.20       1.83             2.94       1312.18   \n",
       "1              2.71          0.21       1.69             2.72       1317.71   \n",
       "2              3.13          0.30       1.95             3.13       1310.14   \n",
       "3              3.27          0.38       2.03             3.26       1306.98   \n",
       "4              3.61          0.38       2.25             3.61       1300.51   \n",
       "...             ...           ...        ...              ...           ...   \n",
       "23358          3.23          0.57       2.00             3.21       1312.01   \n",
       "23359          3.91          1.89       2.42             3.89       1282.65   \n",
       "23360          4.88          3.83       3.03             4.86       1254.09   \n",
       "23361          4.23          1.69       2.63             4.22       1278.14   \n",
       "23362          3.64          1.35       2.26             3.63       1288.02   \n",
       "\n",
       "             Wx        Wy    max Wx    max Wy       Day_sin       Day_cos  \\\n",
       "0     -0.175527  0.039879 -0.614344  0.139576  7.071068e-01  7.071068e-01   \n",
       "1     -0.041452  0.027960 -0.414519  0.279596  1.000000e+00  4.339955e-12   \n",
       "2     -0.314796 -0.128466 -0.583298 -0.238040  7.071068e-01 -7.071068e-01   \n",
       "3     -1.834577 -0.141163 -2.622249 -0.201771  6.903299e-12 -1.000000e+00   \n",
       "4     -0.825870  0.828758 -1.327039  1.331679 -7.071068e-01 -7.071068e-01   \n",
       "...         ...       ...       ...       ...           ...           ...   \n",
       "23358 -1.279930 -0.013404 -1.839899 -0.019268  6.755902e-01 -7.372773e-01   \n",
       "23359 -0.976457 -0.412471 -1.916066 -0.809378 -4.361939e-02 -9.990482e-01   \n",
       "23360 -0.403185 -0.359224 -0.776504 -0.691840 -7.372773e-01 -6.755902e-01   \n",
       "23361 -0.266024 -0.350473 -0.604599 -0.796530 -9.990482e-01  4.361939e-02   \n",
       "23362 -0.661501  0.257908 -1.453438  0.566672 -6.755902e-01  7.372773e-01   \n",
       "\n",
       "       Year_sin  Year_cos  \n",
       "0      0.011483  0.999934  \n",
       "1      0.013633  0.999907  \n",
       "2      0.015783  0.999875  \n",
       "3      0.017933  0.999839  \n",
       "4      0.020083  0.999798  \n",
       "...         ...       ...  \n",
       "23358 -0.000268  1.000000  \n",
       "23359  0.001883  0.999998  \n",
       "23360  0.004033  0.999992  \n",
       "23361  0.006183  0.999981  \n",
       "23362  0.008334  0.999965  \n",
       "\n",
       "[23363 rows x 19 columns]"
      ]
     },
     "execution_count": 52,
     "metadata": {},
     "output_type": "execute_result"
    }
   ],
   "source": [
    "# Select every 3 hours \n",
    "\n",
    "# YOUR CODE HERE\n",
    "df = df[2::3].reset_index(drop = True)\n",
    "df"
   ]
  }
 ],
 "metadata": {
  "kernelspec": {
   "display_name": "Python 3 (ipykernel)",
   "language": "python",
   "name": "python3"
  },
  "language_info": {
   "codemirror_mode": {
    "name": "ipython",
    "version": 3
   },
   "file_extension": ".py",
   "mimetype": "text/x-python",
   "name": "python",
   "nbconvert_exporter": "python",
   "pygments_lexer": "ipython3",
   "version": "3.10.6"
  },
  "toc": {
   "base_numbering": 1,
   "nav_menu": {},
   "number_sections": true,
   "sideBar": true,
   "skip_h1_title": false,
   "title_cell": "Table of Contents",
   "title_sidebar": "Contents",
   "toc_cell": false,
   "toc_position": {},
   "toc_section_display": true,
   "toc_window_display": false
  }
 },
 "nbformat": 4,
 "nbformat_minor": 5
}
