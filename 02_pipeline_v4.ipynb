{
 "cells": [
  {
   "cell_type": "code",
   "execution_count": 1,
   "id": "8d37693c-c8f6-418b-a102-0d6399fba0f7",
   "metadata": {},
   "outputs": [],
   "source": [
    "import pandas as pd\n",
    "import numpy as np\n",
    "\n",
    "from sklearn.pipeline import make_pipeline\n",
    "from sklearn.pipeline import make_union\n",
    "from sklearn.compose import make_column_transformer\n",
    "\n",
    "from sklearn.preprocessing import RobustScaler\n",
    "from sklearn.preprocessing import StandardScaler\n",
    "from sklearn.preprocessing import OneHotEncoder\n",
    "from sklearn.preprocessing import MinMaxScaler\n",
    "from sklearn.preprocessing import FunctionTransformer"
   ]
  },
  {
   "cell_type": "code",
   "execution_count": 28,
   "id": "adb9a035-915a-4c92-a774-e4bf84b4b4c3",
   "metadata": {},
   "outputs": [],
   "source": [
    "data = pd.read_csv(\"raw_data/train.csv\")"
   ]
  },
  {
   "cell_type": "code",
   "execution_count": 3,
   "id": "27efb045-d57c-4117-9c20-9423479c73a1",
   "metadata": {},
   "outputs": [],
   "source": [
    "f_logs = [\n",
    "    'precip_1h:mm', \n",
    "    'prob_precip_1h:p', \n",
    "    'clear_sky_rad:W',\n",
    "    'clear_sky_energy_1h:J',\n",
    "    'diffuse_rad:W', \n",
    "    'diffuse_rad_1h:Wh', \n",
    "    'direct_rad:W',\n",
    "    'direct_rad_1h:Wh', \n",
    "    'global_rad:W', \n",
    "    'global_rad_1h:Wh',\n",
    "    'wind_speed_2m:ms',\n",
    "    'wind_speed_10m:ms', \n",
    "    'wind_speed_50m:ms',\n",
    "    'wind_speed_100m:ms'\n",
    "]\n",
    "f_time = ['time']\n",
    "f_degree = ['sun_azimuth:d', 'wind_dir_2m:d', 'wind_dir_10m:d', 'wind_dir_50m:d', 'wind_dir_100m:d']\n",
    "f_ohe = ['precip_type:idx']\n",
    "f_only_scaling = [\n",
    "    't_10m:C',\n",
    "    't_50m:C',\n",
    "    't_100m:C',\n",
    "    'sun_elevation:d',\n",
    "    'sunshine_duration_1h:min',\n",
    "    'low_cloud_cover:p', \n",
    "    'medium_cloud_cover:p', \n",
    "    'high_cloud_cover:p',\n",
    "    'total_cloud_cover:p', \n",
    "    'effective_cloud_cover:p',\n",
    "    'relative_humidity_2m:p', \n",
    "    'relative_humidity_10m:p',\n",
    "    'relative_humidity_50m:p',\n",
    "    'relative_humidity_100m:p',\n",
    "    'dew_point_2m:C',\n",
    "    'dew_point_10m:C', \n",
    "    'dew_point_50m:C',\n",
    "    'dew_point_100m:C',\n",
    "    'temp'\n",
    "]"
   ]
  },
  {
   "cell_type": "markdown",
   "id": "1af4042c-4ce4-433c-850c-f1232dc0698b",
   "metadata": {},
   "source": [
    "## Custom Functions "
   ]
  },
  {
   "cell_type": "code",
   "execution_count": 25,
   "id": "308bd463-1edc-442a-ac15-a07703e58a17",
   "metadata": {},
   "outputs": [],
   "source": [
    "def log_transformed(data):\n",
    "    for col in f_logs:\n",
    "        data[col] = np.log(data[col] + 1e-5)\n",
    "        data = data.drop(columns=[col])\n",
    "    return data"
   ]
  },
  {
   "cell_type": "code",
   "execution_count": 21,
   "id": "f7cf9e89-b6a7-4698-a99b-47bd3a89ef34",
   "metadata": {},
   "outputs": [],
   "source": [
    "# log_transformed(data)"
   ]
  },
  {
   "cell_type": "code",
   "execution_count": 17,
   "id": "28664e89-33d7-4711-ba91-b581fe65273b",
   "metadata": {},
   "outputs": [],
   "source": [
    "def time_transformed(data):\n",
    "    \"\"\"takes a df of datetime features and splits it into three features each: hour, month, season\"\"\"\n",
    "    # feature = pd.to_datetime(data.time, format='%Y/%m/%d %H:%M:%S')\n",
    "    feature = pd.to_datetime(data.time)\n",
    "    \n",
    "    hour = feature.dt.hour\n",
    "    month  = feature.dt.month\n",
    "\n",
    "    def assign_season(month):\n",
    "        if month in [3, 4, 5]:\n",
    "            return 1  # Spring\n",
    "        elif month in [6, 7, 8]:\n",
    "            return 2  # Summer\n",
    "        elif month in [9, 10, 11]:\n",
    "            return 3  # Fall\n",
    "        else:  # December, January, February\n",
    "            return 4  # Winter\n",
    "\n",
    "    season = month.apply(assign_season)\n",
    "    hour_sine = np.sin(2 * np.pi * hour / 24)\n",
    "    hour_cosine = np.cos(2 * np.pi * hour / 24)\n",
    "    month_sine = np.sin(2 * np.pi * month / 12)\n",
    "    month_cosine = np.cos(2 * np.pi * month / 12)\n",
    "    season_sine = np.sin(2 * np.pi * season / 4)\n",
    "    season_cosine = np.cos(2 * np.pi * season / 4)\n",
    "\n",
    "    # df = pd.DataFrame({\n",
    "    #     \"hour_sine\": hour_sine, \n",
    "    #     \"hour_cosine\": hour_cosine, \n",
    "    #     \"month_sine\": month_sine, \n",
    "    #     \"month_cosine\": month_cosine, \n",
    "    #     \"season_sine\": season_sine, \n",
    "    #     \"season_cosine\": season_cosine})\n",
    "\n",
    "    data[\"hour_sine\"] = hour_sine\n",
    "    data[\"hour_cosine\"] = hour_cosine\n",
    "    data[\"month_sine\"] = month_sine\n",
    "    data[\"month_cosine\"] = month_cosine\n",
    "    data[\"season_sine\"] = season_sine\n",
    "    data[\"season_cosine\"] = season_cosine\n",
    "\n",
    "    data = data.drop(columns=[\"time\"])\n",
    "\n",
    "    return data"
   ]
  },
  {
   "cell_type": "code",
   "execution_count": 14,
   "id": "bf60be05-3c04-41a3-b517-33bfd06240f1",
   "metadata": {},
   "outputs": [],
   "source": [
    "# time_transformed(data)"
   ]
  },
  {
   "cell_type": "code",
   "execution_count": 15,
   "id": "c9aee520-98d9-445d-8308-21a1c07520dd",
   "metadata": {},
   "outputs": [],
   "source": [
    "def degree_transformed(data):\n",
    "    \"\"\" takes a df 'data' of features with degree units (eg angles) and creates a sin and cos column to make it cyclical\"\"\"\n",
    "    df = pd.DataFrame({})\n",
    "    \n",
    "    for col in f_degree: #list(data.columns):\n",
    "        sin_column = np.sin(2 * np.pi * data[col]/360)\n",
    "        cos_column = np.cos(2 * np.pi * data[col]/360)\n",
    "\n",
    "        data[f\"sin_{col}\"] = sin_column\n",
    "        data[f\"cos_{col}\"] = cos_column\n",
    "\n",
    "    return data"
   ]
  },
  {
   "cell_type": "code",
   "execution_count": 22,
   "id": "65fcd5c8-ce25-459a-b747-24e4ba7d418d",
   "metadata": {},
   "outputs": [],
   "source": [
    "# degree_transformed(data)"
   ]
  },
  {
   "cell_type": "markdown",
   "id": "48cdaf06-d253-421d-8e67-1a8814362892",
   "metadata": {},
   "source": [
    "# Pipeline building"
   ]
  },
  {
   "cell_type": "code",
   "execution_count": 56,
   "id": "0768fb24-e00c-4de9-885b-f03053127c22",
   "metadata": {},
   "outputs": [],
   "source": [
    "data = pd.read_csv(\"raw_data/train.csv\")"
   ]
  },
  {
   "cell_type": "code",
   "execution_count": 57,
   "id": "7d084527-cd8d-41e0-9e2a-cf827a74057c",
   "metadata": {
    "scrolled": true
   },
   "outputs": [],
   "source": [
    "# data = log_transformed(data)\n",
    "# data = time_transformed(data)\n",
    "# data = degree_transformed(data)\n",
    "\n",
    "data = degree_transformed(time_transformed(log_transformed(data)))"
   ]
  },
  {
   "cell_type": "code",
   "execution_count": 58,
   "id": "18f538ce-9556-4719-9af6-b2f08abfb978",
   "metadata": {},
   "outputs": [],
   "source": [
    "all_col = list(data.columns)"
   ]
  },
  {
   "cell_type": "code",
   "execution_count": 59,
   "id": "b6026a15-8035-4d48-a31d-68188c5e4ef8",
   "metadata": {},
   "outputs": [],
   "source": [
    "drop_col = ['pv_production',\n",
    "            'wind_production',\n",
    "            'consumption',\n",
    "            'spot_market_price',\n",
    "            'precip_type:idx']"
   ]
  },
  {
   "cell_type": "code",
   "execution_count": 60,
   "id": "b8b2686d-b2c4-41bc-85fd-d8052bcb4cc6",
   "metadata": {},
   "outputs": [],
   "source": [
    "scale_col = [col for col in all_col if col not in drop_col and f_ohe]"
   ]
  },
  {
   "cell_type": "code",
   "execution_count": 61,
   "id": "64be9328-30fd-4e0c-9211-aca0875b82b1",
   "metadata": {},
   "outputs": [],
   "source": [
    "# scale_col"
   ]
  },
  {
   "cell_type": "code",
   "execution_count": 62,
   "id": "6e0ac591-0b11-476c-8132-6ab81bb339e6",
   "metadata": {},
   "outputs": [],
   "source": [
    "minmax = MinMaxScaler()\n",
    "ohe = OneHotEncoder(handle_unknown='ignore', sparse_output = False)"
   ]
  },
  {
   "cell_type": "code",
   "execution_count": 64,
   "id": "5b2fff95-af34-4efc-9bcd-3c088ab378d1",
   "metadata": {},
   "outputs": [],
   "source": [
    "preproc = make_column_transformer(\n",
    "    (ohe, f_ohe),\n",
    "    (minmax, scale_col),\n",
    "    remainder = \"drop\"\n",
    ")"
   ]
  },
  {
   "cell_type": "code",
   "execution_count": 65,
   "id": "7094c5e9-5086-461f-8a2d-1cd6748d90fc",
   "metadata": {},
   "outputs": [],
   "source": [
    "data_transformed = preproc.fit_transform(data)"
   ]
  },
  {
   "cell_type": "code",
   "execution_count": 66,
   "id": "5229742f-96d2-490b-a156-f0b5121c778b",
   "metadata": {},
   "outputs": [],
   "source": [
    "data_transformed = pd.DataFrame(data_transformed, columns=preproc.get_feature_names_out())"
   ]
  },
  {
   "cell_type": "code",
   "execution_count": 68,
   "id": "8b4d6714-d339-4a72-a239-5d15f848fddd",
   "metadata": {},
   "outputs": [
    {
     "data": {
      "text/plain": [
       "Index(['onehotencoder__precip_type:idx_0.0',\n",
       "       'onehotencoder__precip_type:idx_1.0',\n",
       "       'onehotencoder__precip_type:idx_2.0',\n",
       "       'onehotencoder__precip_type:idx_3.0',\n",
       "       'minmaxscaler__sunshine_duration_1h:min', 'minmaxscaler__sun_azimuth:d',\n",
       "       'minmaxscaler__sun_elevation:d', 'minmaxscaler__low_cloud_cover:p',\n",
       "       'minmaxscaler__medium_cloud_cover:p',\n",
       "       'minmaxscaler__high_cloud_cover:p', 'minmaxscaler__total_cloud_cover:p',\n",
       "       'minmaxscaler__effective_cloud_cover:p', 'minmaxscaler__temp',\n",
       "       'minmaxscaler__relative_humidity_2m:p', 'minmaxscaler__dew_point_2m:C',\n",
       "       'minmaxscaler__wind_dir_2m:d', 'minmaxscaler__t_10m:C',\n",
       "       'minmaxscaler__relative_humidity_10m:p',\n",
       "       'minmaxscaler__dew_point_10m:C', 'minmaxscaler__wind_dir_10m:d',\n",
       "       'minmaxscaler__t_50m:C', 'minmaxscaler__relative_humidity_50m:p',\n",
       "       'minmaxscaler__dew_point_50m:C', 'minmaxscaler__wind_dir_50m:d',\n",
       "       'minmaxscaler__t_100m:C', 'minmaxscaler__relative_humidity_100m:p',\n",
       "       'minmaxscaler__dew_point_100m:C', 'minmaxscaler__wind_dir_100m:d',\n",
       "       'minmaxscaler__hour_sine', 'minmaxscaler__hour_cosine',\n",
       "       'minmaxscaler__month_sine', 'minmaxscaler__month_cosine',\n",
       "       'minmaxscaler__season_sine', 'minmaxscaler__season_cosine',\n",
       "       'minmaxscaler__sin_sun_azimuth:d', 'minmaxscaler__cos_sun_azimuth:d',\n",
       "       'minmaxscaler__sin_wind_dir_2m:d', 'minmaxscaler__cos_wind_dir_2m:d',\n",
       "       'minmaxscaler__sin_wind_dir_10m:d', 'minmaxscaler__cos_wind_dir_10m:d',\n",
       "       'minmaxscaler__sin_wind_dir_50m:d', 'minmaxscaler__cos_wind_dir_50m:d',\n",
       "       'minmaxscaler__sin_wind_dir_100m:d',\n",
       "       'minmaxscaler__cos_wind_dir_100m:d'],\n",
       "      dtype='object')"
      ]
     },
     "execution_count": 68,
     "metadata": {},
     "output_type": "execute_result"
    }
   ],
   "source": [
    "data_transformed.columns"
   ]
  }
 ],
 "metadata": {
  "kernelspec": {
   "display_name": "Python 3 (ipykernel)",
   "language": "python",
   "name": "python3"
  },
  "language_info": {
   "codemirror_mode": {
    "name": "ipython",
    "version": 3
   },
   "file_extension": ".py",
   "mimetype": "text/x-python",
   "name": "python",
   "nbconvert_exporter": "python",
   "pygments_lexer": "ipython3",
   "version": "3.10.6"
  }
 },
 "nbformat": 4,
 "nbformat_minor": 5
}
