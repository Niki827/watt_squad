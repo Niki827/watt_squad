{
 "cells": [
  {
   "cell_type": "code",
   "execution_count": 5,
   "id": "170fe036-2c47-4f2d-adad-6bfee7e1e716",
   "metadata": {},
   "outputs": [],
   "source": [
    "import pandas as pd\n",
    "import seaborn as sns\n",
    "import matplotlib.pyplot as plt"
   ]
  },
  {
   "cell_type": "code",
   "execution_count": 3,
   "id": "7298d1bc-ce1d-4b25-8453-607f32b09695",
   "metadata": {},
   "outputs": [],
   "source": [
    "athens = pd.read_csv('/Users/niki/code/Niki827/watt_squad/eu_sidehustle/data/03_aggregated/Athens_aggregated.csv')"
   ]
  },
  {
   "cell_type": "code",
   "execution_count": 4,
   "id": "d2976198-4f52-4e01-bad7-8eee218e15ef",
   "metadata": {},
   "outputs": [
    {
     "data": {
      "text/html": [
       "<div>\n",
       "<style scoped>\n",
       "    .dataframe tbody tr th:only-of-type {\n",
       "        vertical-align: middle;\n",
       "    }\n",
       "\n",
       "    .dataframe tbody tr th {\n",
       "        vertical-align: top;\n",
       "    }\n",
       "\n",
       "    .dataframe thead th {\n",
       "        text-align: right;\n",
       "    }\n",
       "</style>\n",
       "<table border=\"1\" class=\"dataframe\">\n",
       "  <thead>\n",
       "    <tr style=\"text-align: right;\">\n",
       "      <th></th>\n",
       "      <th>pv_output</th>\n",
       "      <th>direct_irradiance</th>\n",
       "      <th>diffuse_irradiance</th>\n",
       "      <th>reflected_irradiance</th>\n",
       "      <th>sun_height</th>\n",
       "      <th>temp</th>\n",
       "      <th>wind_speed</th>\n",
       "    </tr>\n",
       "  </thead>\n",
       "  <tbody>\n",
       "    <tr>\n",
       "      <th>count</th>\n",
       "      <td>6939.000000</td>\n",
       "      <td>6939.000000</td>\n",
       "      <td>6939.000000</td>\n",
       "      <td>6939.000000</td>\n",
       "      <td>6939.000000</td>\n",
       "      <td>6939.000000</td>\n",
       "      <td>6939.000000</td>\n",
       "    </tr>\n",
       "    <tr>\n",
       "      <th>mean</th>\n",
       "      <td>3.679088</td>\n",
       "      <td>3.146075</td>\n",
       "      <td>1.469901</td>\n",
       "      <td>0.074797</td>\n",
       "      <td>15.601586</td>\n",
       "      <td>12.578405</td>\n",
       "      <td>2.032006</td>\n",
       "    </tr>\n",
       "    <tr>\n",
       "      <th>std</th>\n",
       "      <td>1.647822</td>\n",
       "      <td>1.979121</td>\n",
       "      <td>0.518879</td>\n",
       "      <td>0.038655</td>\n",
       "      <td>6.416980</td>\n",
       "      <td>9.659885</td>\n",
       "      <td>0.760619</td>\n",
       "    </tr>\n",
       "    <tr>\n",
       "      <th>min</th>\n",
       "      <td>0.031080</td>\n",
       "      <td>0.000000</td>\n",
       "      <td>0.101800</td>\n",
       "      <td>0.002080</td>\n",
       "      <td>6.405000</td>\n",
       "      <td>-17.572500</td>\n",
       "      <td>0.453750</td>\n",
       "    </tr>\n",
       "    <tr>\n",
       "      <th>25%</th>\n",
       "      <td>2.413695</td>\n",
       "      <td>1.317045</td>\n",
       "      <td>1.110040</td>\n",
       "      <td>0.043600</td>\n",
       "      <td>9.262917</td>\n",
       "      <td>4.440833</td>\n",
       "      <td>1.485208</td>\n",
       "    </tr>\n",
       "    <tr>\n",
       "      <th>50%</th>\n",
       "      <td>4.120750</td>\n",
       "      <td>3.350640</td>\n",
       "      <td>1.437730</td>\n",
       "      <td>0.073300</td>\n",
       "      <td>15.579167</td>\n",
       "      <td>13.425833</td>\n",
       "      <td>1.896667</td>\n",
       "    </tr>\n",
       "    <tr>\n",
       "      <th>75%</th>\n",
       "      <td>4.949585</td>\n",
       "      <td>4.827185</td>\n",
       "      <td>1.813770</td>\n",
       "      <td>0.107240</td>\n",
       "      <td>21.964167</td>\n",
       "      <td>21.311875</td>\n",
       "      <td>2.449792</td>\n",
       "    </tr>\n",
       "    <tr>\n",
       "      <th>max</th>\n",
       "      <td>6.966530</td>\n",
       "      <td>6.982970</td>\n",
       "      <td>3.269820</td>\n",
       "      <td>0.158470</td>\n",
       "      <td>24.785833</td>\n",
       "      <td>31.502083</td>\n",
       "      <td>5.815833</td>\n",
       "    </tr>\n",
       "  </tbody>\n",
       "</table>\n",
       "</div>"
      ],
      "text/plain": [
       "         pv_output  direct_irradiance  diffuse_irradiance  \\\n",
       "count  6939.000000        6939.000000         6939.000000   \n",
       "mean      3.679088           3.146075            1.469901   \n",
       "std       1.647822           1.979121            0.518879   \n",
       "min       0.031080           0.000000            0.101800   \n",
       "25%       2.413695           1.317045            1.110040   \n",
       "50%       4.120750           3.350640            1.437730   \n",
       "75%       4.949585           4.827185            1.813770   \n",
       "max       6.966530           6.982970            3.269820   \n",
       "\n",
       "       reflected_irradiance   sun_height         temp   wind_speed  \n",
       "count           6939.000000  6939.000000  6939.000000  6939.000000  \n",
       "mean               0.074797    15.601586    12.578405     2.032006  \n",
       "std                0.038655     6.416980     9.659885     0.760619  \n",
       "min                0.002080     6.405000   -17.572500     0.453750  \n",
       "25%                0.043600     9.262917     4.440833     1.485208  \n",
       "50%                0.073300    15.579167    13.425833     1.896667  \n",
       "75%                0.107240    21.964167    21.311875     2.449792  \n",
       "max                0.158470    24.785833    31.502083     5.815833  "
      ]
     },
     "execution_count": 4,
     "metadata": {},
     "output_type": "execute_result"
    }
   ],
   "source": [
    "athens.describe()"
   ]
  },
  {
   "cell_type": "code",
   "execution_count": 21,
   "id": "bce43c84-9002-4e9f-b0b0-9efeff79f038",
   "metadata": {},
   "outputs": [],
   "source": [
    "athens_preprocessed = pd.read_csv('/Users/niki/code/Niki827/watt_squad/eu_sidehustle/data/04_preprocessed/Athens_preprocessed.csv')"
   ]
  },
  {
   "cell_type": "markdown",
   "id": "4014b1cc-958b-4aed-afb3-80078d950720",
   "metadata": {},
   "source": [
    "# Exploratory Data Analysis"
   ]
  },
  {
   "cell_type": "code",
   "execution_count": 26,
   "id": "92a75c5b-4903-4a1d-832c-46be5bd77104",
   "metadata": {},
   "outputs": [
    {
     "data": {
      "text/plain": [
       "<Axes: xlabel='pv_output', ylabel='Count'>"
      ]
     },
     "execution_count": 26,
     "metadata": {},
     "output_type": "execute_result"
    },
    {
     "data": {
      "image/png": "[encoded data removed]",
      "text/plain": [
       "<Figure size 640x480 with 1 Axes>"
      ]
     },
     "metadata": {},
     "output_type": "display_data"
    }
   ],
   "source": [
    "sns.histplot(athens_preprocessed['pv_output'])"
   ]
  },
  {
   "cell_type": "code",
   "execution_count": 27,
   "id": "53152426-e4a5-415c-93f0-49175379c18d",
   "metadata": {},
   "outputs": [
    {
     "data": {
      "text/plain": [
       "<Axes: ylabel='pv_output'>"
      ]
     },
     "execution_count": 27,
     "metadata": {},
     "output_type": "execute_result"
    },
    {
     "data": {
      "image/png": "[encoded data removed]",
      "text/plain": [
       "<Figure size 640x480 with 1 Axes>"
      ]
     },
     "metadata": {},
     "output_type": "display_data"
    }
   ],
   "source": [
    "sns.boxplot(athens_preprocessed['pv_output'])"
   ]
  }
 ],
 "metadata": {
  "kernelspec": {
   "display_name": "Python 3 (ipykernel)",
   "language": "python",
   "name": "python3"
  },
  "language_info": {
   "codemirror_mode": {
    "name": "ipython",
    "version": 3
   },
   "file_extension": ".py",
   "mimetype": "text/x-python",
   "name": "python",
   "nbconvert_exporter": "python",
   "pygments_lexer": "ipython3",
   "version": "3.10.6"
  }
 },
 "nbformat": 4,
 "nbformat_minor": 5
}
