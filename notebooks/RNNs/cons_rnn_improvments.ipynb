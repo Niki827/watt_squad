{
 "cells": [
  {
   "cell_type": "markdown",
   "id": "483a4193-7880-4ec5-a8a9-756a88d9f873",
   "metadata": {
    "id": "483a4193-7880-4ec5-a8a9-756a88d9f873"
   },
   "source": [
    "# First RNN"
   ]
  },
  {
   "cell_type": "code",
   "execution_count": 67,
   "id": "127ac35c-c02e-4fca-b7b0-2775da368859",
   "metadata": {},
   "outputs": [],
   "source": [
    "import numpy as np\n",
    "import pandas as pd\n",
    "import matplotlib.pyplot as plt\n",
    "import seaborn as sns\n",
    "from typing import Dict, List, Tuple, Sequence"
   ]
  },
  {
   "cell_type": "code",
   "execution_count": null,
   "id": "wpKIcDsev49q",
   "metadata": {
    "colab": {
     "base_uri": "https://localhost:8080/"
    },
    "executionInfo": {
     "elapsed": 17032,
     "status": "ok",
     "timestamp": 1732804064470,
     "user": {
      "displayName": "Carl Bechtolsheim",
      "userId": "09155195766587467337"
     },
     "user_tz": -60
    },
    "id": "wpKIcDsev49q",
    "outputId": "8868fd4c-e25e-4e4a-edb6-5f942203fb89"
   },
   "outputs": [],
   "source": [
    "from google.colab import drive\n",
    "drive.mount('/content/drive')"
   ]
  },
  {
   "cell_type": "code",
   "execution_count": 110,
   "id": "67c347f6-fbe0-4aea-a378-fa114806c9ae",
   "metadata": {},
   "outputs": [],
   "source": [
    "import pandas as pd\n",
    "train_data = pd.read_csv(\"/Users/carlbechtolsheim/code/Niki827/watt_squad/raw_data/train.csv\")\n",
    "test_data = pd.read_csv(\"/Users/carlbechtolsheim/code/Niki827/watt_squad/raw_data/test.csv\")"
   ]
  },
  {
   "cell_type": "code",
   "execution_count": 111,
   "id": "35c3f956-ec95-4b8d-a181-dd7703841f8d",
   "metadata": {},
   "outputs": [
    {
     "data": {
      "text/plain": [
       "Index(['time', 'pv_production', 'wind_production', 'consumption',\n",
       "       'spot_market_price', 'precip_1h:mm', 'precip_type:idx',\n",
       "       'prob_precip_1h:p', 'clear_sky_rad:W', 'clear_sky_energy_1h:J',\n",
       "       'diffuse_rad:W', 'diffuse_rad_1h:Wh', 'direct_rad:W',\n",
       "       'direct_rad_1h:Wh', 'global_rad:W', 'global_rad_1h:Wh',\n",
       "       'sunshine_duration_1h:min', 'sun_azimuth:d', 'sun_elevation:d',\n",
       "       'low_cloud_cover:p', 'medium_cloud_cover:p', 'high_cloud_cover:p',\n",
       "       'total_cloud_cover:p', 'effective_cloud_cover:p', 'temp',\n",
       "       'relative_humidity_2m:p', 'dew_point_2m:C', 'wind_speed_2m:ms',\n",
       "       'wind_dir_2m:d', 't_10m:C', 'relative_humidity_10m:p',\n",
       "       'dew_point_10m:C', 'wind_speed_10m:ms', 'wind_dir_10m:d', 't_50m:C',\n",
       "       'relative_humidity_50m:p', 'dew_point_50m:C', 'wind_speed_50m:ms',\n",
       "       'wind_dir_50m:d', 't_100m:C', 'relative_humidity_100m:p',\n",
       "       'dew_point_100m:C', 'wind_speed_100m:ms', 'wind_dir_100m:d'],\n",
       "      dtype='object')"
      ]
     },
     "execution_count": 111,
     "metadata": {},
     "output_type": "execute_result"
    }
   ],
   "source": [
    "train_data.columns"
   ]
  },
  {
   "cell_type": "markdown",
   "id": "600b960d-91d8-4267-840c-dc76f705c866",
   "metadata": {
    "id": "600b960d-91d8-4267-840c-dc76f705c866"
   },
   "source": [
    "## Data preprocessing"
   ]
  },
  {
   "cell_type": "code",
   "execution_count": 69,
   "id": "a9ae50ea-2702-43e7-8b54-d3fc21af8dc9",
   "metadata": {},
   "outputs": [],
   "source": [
    "import pandas as pd\n",
    "import numpy as np\n",
    "\n",
    "from sklearn.pipeline import make_pipeline\n",
    "from sklearn.compose import make_column_transformer\n",
    "\n",
    "from sklearn.preprocessing import RobustScaler\n",
    "from sklearn.preprocessing import StandardScaler\n",
    "from sklearn.preprocessing import OneHotEncoder\n",
    "from sklearn.preprocessing import MinMaxScaler\n",
    "from sklearn.preprocessing import FunctionTransformer\n",
    "\n",
    "## lists of features:\n",
    "\n",
    "\n",
    "# f_time = ['time']\n",
    "\n",
    "\n",
    "## our custom functions:\n",
    "\n",
    "def log_transformed(data):\n",
    "    \"\"\" replaces values in columns in a dataframe with the log values \"\"\"\n",
    "    f_logs = [\n",
    "    'precip_1h:mm',\n",
    "    'prob_precip_1h:p',\n",
    "    'clear_sky_rad:W',\n",
    "    'clear_sky_energy_1h:J',\n",
    "    'diffuse_rad:W',\n",
    "    'diffuse_rad_1h:Wh',\n",
    "    'direct_rad:W',\n",
    "    'direct_rad_1h:Wh',\n",
    "    'global_rad:W',\n",
    "    'global_rad_1h:Wh',\n",
    "    'wind_speed_2m:ms',\n",
    "    'wind_speed_10m:ms',\n",
    "    'wind_speed_50m:ms',\n",
    "    'wind_speed_100m:ms'\n",
    "]\n",
    "    for col in f_logs:\n",
    "        data[col] = np.log(data[col] + 1e-5)\n",
    "    return data\n",
    "\n",
    "def time_transformed(data):\n",
    "    \"\"\"takes a df and splits the 'time' feature into three features: hour, month, season;\n",
    "    drops the original time column\"\"\"\n",
    "\n",
    "    feature = pd.to_datetime(data.time)\n",
    "\n",
    "    hour = feature.dt.hour\n",
    "    month  = feature.dt.month\n",
    "\n",
    "    def assign_season(month):\n",
    "        if month in [3, 4, 5]:\n",
    "            return 1  # Spring\n",
    "        elif month in [6, 7, 8]:\n",
    "            return 2  # Summer\n",
    "        elif month in [9, 10, 11]:\n",
    "            return 3  # Fall\n",
    "        else:  # December, January, February\n",
    "            return 4  # Winter\n",
    "\n",
    "    season = month.apply(assign_season)\n",
    "    hour_sine = np.sin(2 * np.pi * hour / 24)\n",
    "    hour_cosine = np.cos(2 * np.pi * hour / 24)\n",
    "    month_sine = np.sin(2 * np.pi * month / 12)\n",
    "    month_cosine = np.cos(2 * np.pi * month / 12)\n",
    "    season_sine = np.sin(2 * np.pi * season / 4)\n",
    "    season_cosine = np.cos(2 * np.pi * season / 4)\n",
    "\n",
    "    data[\"hour_sine\"] = hour_sine\n",
    "    data[\"hour_cosine\"] = hour_cosine\n",
    "    data[\"month_sine\"] = month_sine\n",
    "    data[\"month_cosine\"] = month_cosine\n",
    "    data[\"season_sine\"] = season_sine\n",
    "    data[\"season_cosine\"] = season_cosine\n",
    "\n",
    "    data = data.drop(columns=[\"time\"])\n",
    "\n",
    "    return data\n",
    "\n",
    "def degree_transformed(data):\n",
    "    \"\"\" takes a df 'data' and takes the features with degree units (in the specific list f_degree);\n",
    "    creates a sin and cos column for each to make them cyclical. drops the original columns\"\"\"\n",
    "\n",
    "    f_degree = ['sun_azimuth:d', 'wind_dir_2m:d', 'wind_dir_10m:d', 'wind_dir_50m:d', 'wind_dir_100m:d']\n",
    "\n",
    "    for col in f_degree:\n",
    "        sin_column = np.sin(2 * np.pi * data[col]/360)\n",
    "        cos_column = np.cos(2 * np.pi * data[col]/360)\n",
    "\n",
    "        data[f\"sin_{col}\"] = sin_column\n",
    "        data[f\"cos_{col}\"] = cos_column\n",
    "        data = data.drop(columns=[col])\n",
    "\n",
    "    return data\n",
    "\n",
    "def transform_data(data):\n",
    "    \"\"\" applies the above three functions to the input dataframe \"\"\"\n",
    "    data = degree_transformed(time_transformed(log_transformed(data)))\n",
    "\n",
    "    all_col = list(data.columns)\n",
    "\n",
    "    # defining the columns we don't want in our X_train\n",
    "    drop_col = ['pv_production',\n",
    "            'wind_production',\n",
    "            'consumption',\n",
    "            'spot_market_price',\n",
    "            'precip_type:idx']\n",
    "\n",
    "    f_ohe = ['precip_type:idx']\n",
    "\n",
    "    scale_col = [col for col in all_col if col not in drop_col and f_ohe]\n",
    "\n",
    "    # defining our scalers\n",
    "    minmax = MinMaxScaler()\n",
    "    ohe = OneHotEncoder(handle_unknown='ignore', sparse_output = False)\n",
    "\n",
    "\n",
    "    # our preproc pipline\n",
    "    preproc = make_column_transformer(\n",
    "        (ohe, f_ohe),\n",
    "        (minmax, scale_col),\n",
    "        remainder = \"drop\"\n",
    "    )\n",
    "\n",
    "    data_transformed = preproc.fit_transform(data)\n",
    "    data_transformed = pd.DataFrame(data_transformed, columns=preproc.get_feature_names_out())\n",
    "    data_transformed['onehotencoder__precip_type:idx_2.0'] = 0\n",
    "\n",
    "    print('➡️ preprocessing done')\n",
    "    return data_transformed\n",
    "\n",
    "\n",
    "\n",
    "# ## building the pipeline\n",
    "\n",
    "# data = pd.read_csv(\"raw_data/train.csv\")\n",
    "\n",
    "# # calling our custom functions on our dataframe\n",
    "# data_ft = degree_transformed(time_transformed(log_transformed(data)))\n",
    "\n",
    "# all_col = list(data_ft.columns)\n",
    "\n",
    "# # defining the columns we don't want in our X_train\n",
    "# drop_col = ['pv_production',\n",
    "#             'wind_production',\n",
    "#             'consumption',\n",
    "#             'spot_market_price',\n",
    "#             'precip_type:idx']\n",
    "\n",
    "# # defining the columns we want to scale\n",
    "# scale_col = [col for col in all_col if col not in drop_col and f_ohe]\n",
    "\n",
    "# # defining our scalers\n",
    "# minmax = MinMaxScaler()\n",
    "# ohe = OneHotEncoder(handle_unknown='ignore', sparse_output = False)\n",
    "\n",
    "# # our preproc pipline\n",
    "# preproc = make_column_transformer(\n",
    "#     (ohe, f_ohe),\n",
    "#     (minmax, scale_col),\n",
    "#     remainder = \"drop\"\n",
    "# )\n",
    "\n",
    "# data_transformed = preproc.fit_transform(data_ft)\n",
    "# data_transformed = pd.DataFrame(data_transformed, columns=preproc.get_feature_names_out())\n"
   ]
  },
  {
   "cell_type": "code",
   "execution_count": 70,
   "id": "9ccdc438-d97c-448a-8ae9-ac610718e08e",
   "metadata": {},
   "outputs": [
    {
     "name": "stdout",
     "output_type": "stream",
     "text": [
      "➡️ preprocessing done\n",
      "➡️ preprocessing done\n"
     ]
    }
   ],
   "source": [
    "# creating y_train and y_test\n",
    "y_train = train_data['consumption'].copy()\n",
    "y_test = test_data['consumption'].copy()\n",
    "\n",
    "# creating X_train and X_test\n",
    "X_train = train_data\n",
    "X_train = X_train.drop(columns=['pv_production', 'wind_production', 'consumption', 'spot_market_price'])\n",
    "X_test = test_data\n",
    "X_test = X_test.drop(columns=['pv_production', 'wind_production', 'consumption', 'spot_market_price'])\n",
    "\n",
    "# Preprocessing features\n",
    "X_train_transformed = transform_data(X_train)\n",
    "X_test_transformed = transform_data(X_test)"
   ]
  },
  {
   "cell_type": "code",
   "execution_count": 71,
   "id": "3f412ef3-81bc-4feb-8e77-9501ec76ee4b",
   "metadata": {},
   "outputs": [],
   "source": [
    "TARGET = 'consumption'"
   ]
  },
  {
   "cell_type": "code",
   "execution_count": 72,
   "id": "78914b5b-f523-4bcd-bec7-6d7e2deec7bc",
   "metadata": {},
   "outputs": [
    {
     "data": {
      "text/plain": [
       "count    9515.000000\n",
       "mean       20.262091\n",
       "std         8.311275\n",
       "min         0.048396\n",
       "25%        14.757704\n",
       "50%        18.817098\n",
       "75%        23.716080\n",
       "max        70.366622\n",
       "Name: consumption, dtype: float64"
      ]
     },
     "execution_count": 72,
     "metadata": {},
     "output_type": "execute_result"
    }
   ],
   "source": [
    "y_train.describe()"
   ]
  },
  {
   "cell_type": "code",
   "execution_count": 73,
   "id": "297fc070-160f-46c1-bf3b-45855046d6f7",
   "metadata": {},
   "outputs": [],
   "source": [
    "df = X_train_transformed.copy()"
   ]
  },
  {
   "cell_type": "code",
   "execution_count": 74,
   "id": "89e04fc2-d0f4-493e-8b50-58db7939c1f2",
   "metadata": {},
   "outputs": [],
   "source": [
    "df['consumption'] = y_train"
   ]
  },
  {
   "cell_type": "code",
   "execution_count": 9,
   "id": "8375c2fe-59a6-4f9f-97fa-a51fc4ccc46e",
   "metadata": {
    "scrolled": true
   },
   "outputs": [
    {
     "data": {
      "text/html": [
       "<div>\n",
       "<style scoped>\n",
       "    .dataframe tbody tr th:only-of-type {\n",
       "        vertical-align: middle;\n",
       "    }\n",
       "\n",
       "    .dataframe tbody tr th {\n",
       "        vertical-align: top;\n",
       "    }\n",
       "\n",
       "    .dataframe thead th {\n",
       "        text-align: right;\n",
       "    }\n",
       "</style>\n",
       "<table border=\"1\" class=\"dataframe\">\n",
       "  <thead>\n",
       "    <tr style=\"text-align: right;\">\n",
       "      <th></th>\n",
       "      <th>onehotencoder__precip_type:idx_0.0</th>\n",
       "      <th>onehotencoder__precip_type:idx_1.0</th>\n",
       "      <th>onehotencoder__precip_type:idx_2.0</th>\n",
       "      <th>onehotencoder__precip_type:idx_3.0</th>\n",
       "      <th>minmaxscaler__precip_1h:mm</th>\n",
       "      <th>minmaxscaler__prob_precip_1h:p</th>\n",
       "      <th>minmaxscaler__clear_sky_rad:W</th>\n",
       "      <th>minmaxscaler__clear_sky_energy_1h:J</th>\n",
       "      <th>minmaxscaler__diffuse_rad:W</th>\n",
       "      <th>minmaxscaler__diffuse_rad_1h:Wh</th>\n",
       "      <th>...</th>\n",
       "      <th>minmaxscaler__cos_sun_azimuth:d</th>\n",
       "      <th>minmaxscaler__sin_wind_dir_2m:d</th>\n",
       "      <th>minmaxscaler__cos_wind_dir_2m:d</th>\n",
       "      <th>minmaxscaler__sin_wind_dir_10m:d</th>\n",
       "      <th>minmaxscaler__cos_wind_dir_10m:d</th>\n",
       "      <th>minmaxscaler__sin_wind_dir_50m:d</th>\n",
       "      <th>minmaxscaler__cos_wind_dir_50m:d</th>\n",
       "      <th>minmaxscaler__sin_wind_dir_100m:d</th>\n",
       "      <th>minmaxscaler__cos_wind_dir_100m:d</th>\n",
       "      <th>consumption</th>\n",
       "    </tr>\n",
       "  </thead>\n",
       "  <tbody>\n",
       "    <tr>\n",
       "      <th>0</th>\n",
       "      <td>1.0</td>\n",
       "      <td>0.0</td>\n",
       "      <td>0</td>\n",
       "      <td>0.0</td>\n",
       "      <td>0.0</td>\n",
       "      <td>0.0</td>\n",
       "      <td>0.757424</td>\n",
       "      <td>0.854846</td>\n",
       "      <td>0.781999</td>\n",
       "      <td>0.815432</td>\n",
       "      <td>...</td>\n",
       "      <td>0.038568</td>\n",
       "      <td>0.045382</td>\n",
       "      <td>0.291860</td>\n",
       "      <td>0.045382</td>\n",
       "      <td>0.291860</td>\n",
       "      <td>0.042169</td>\n",
       "      <td>0.299026</td>\n",
       "      <td>0.038731</td>\n",
       "      <td>0.307049</td>\n",
       "      <td>26.514689</td>\n",
       "    </tr>\n",
       "    <tr>\n",
       "      <th>1</th>\n",
       "      <td>1.0</td>\n",
       "      <td>0.0</td>\n",
       "      <td>0</td>\n",
       "      <td>0.0</td>\n",
       "      <td>0.0</td>\n",
       "      <td>0.0</td>\n",
       "      <td>0.000000</td>\n",
       "      <td>0.779972</td>\n",
       "      <td>0.000000</td>\n",
       "      <td>0.742604</td>\n",
       "      <td>...</td>\n",
       "      <td>0.095955</td>\n",
       "      <td>0.023405</td>\n",
       "      <td>0.348815</td>\n",
       "      <td>0.023405</td>\n",
       "      <td>0.348815</td>\n",
       "      <td>0.023669</td>\n",
       "      <td>0.347984</td>\n",
       "      <td>0.024203</td>\n",
       "      <td>0.346324</td>\n",
       "      <td>28.326960</td>\n",
       "    </tr>\n",
       "    <tr>\n",
       "      <th>2</th>\n",
       "      <td>1.0</td>\n",
       "      <td>0.0</td>\n",
       "      <td>0</td>\n",
       "      <td>0.0</td>\n",
       "      <td>0.0</td>\n",
       "      <td>0.0</td>\n",
       "      <td>0.000000</td>\n",
       "      <td>0.000000</td>\n",
       "      <td>0.000000</td>\n",
       "      <td>0.000000</td>\n",
       "      <td>...</td>\n",
       "      <td>0.173244</td>\n",
       "      <td>0.018654</td>\n",
       "      <td>0.364700</td>\n",
       "      <td>0.018654</td>\n",
       "      <td>0.364700</td>\n",
       "      <td>0.019129</td>\n",
       "      <td>0.363021</td>\n",
       "      <td>0.019853</td>\n",
       "      <td>0.360507</td>\n",
       "      <td>23.682207</td>\n",
       "    </tr>\n",
       "    <tr>\n",
       "      <th>3</th>\n",
       "      <td>1.0</td>\n",
       "      <td>0.0</td>\n",
       "      <td>0</td>\n",
       "      <td>0.0</td>\n",
       "      <td>0.0</td>\n",
       "      <td>0.0</td>\n",
       "      <td>0.000000</td>\n",
       "      <td>0.000000</td>\n",
       "      <td>0.000000</td>\n",
       "      <td>0.000000</td>\n",
       "      <td>...</td>\n",
       "      <td>0.265584</td>\n",
       "      <td>0.017037</td>\n",
       "      <td>0.370590</td>\n",
       "      <td>0.017037</td>\n",
       "      <td>0.370590</td>\n",
       "      <td>0.017952</td>\n",
       "      <td>0.367222</td>\n",
       "      <td>0.018891</td>\n",
       "      <td>0.363862</td>\n",
       "      <td>25.354782</td>\n",
       "    </tr>\n",
       "    <tr>\n",
       "      <th>4</th>\n",
       "      <td>1.0</td>\n",
       "      <td>0.0</td>\n",
       "      <td>0</td>\n",
       "      <td>0.0</td>\n",
       "      <td>0.0</td>\n",
       "      <td>0.0</td>\n",
       "      <td>0.000000</td>\n",
       "      <td>0.000000</td>\n",
       "      <td>0.000000</td>\n",
       "      <td>0.000000</td>\n",
       "      <td>...</td>\n",
       "      <td>0.369241</td>\n",
       "      <td>0.031970</td>\n",
       "      <td>0.324079</td>\n",
       "      <td>0.031970</td>\n",
       "      <td>0.324079</td>\n",
       "      <td>0.031664</td>\n",
       "      <td>0.324897</td>\n",
       "      <td>0.031056</td>\n",
       "      <td>0.326534</td>\n",
       "      <td>23.861942</td>\n",
       "    </tr>\n",
       "    <tr>\n",
       "      <th>...</th>\n",
       "      <td>...</td>\n",
       "      <td>...</td>\n",
       "      <td>...</td>\n",
       "      <td>...</td>\n",
       "      <td>...</td>\n",
       "      <td>...</td>\n",
       "      <td>...</td>\n",
       "      <td>...</td>\n",
       "      <td>...</td>\n",
       "      <td>...</td>\n",
       "      <td>...</td>\n",
       "      <td>...</td>\n",
       "      <td>...</td>\n",
       "      <td>...</td>\n",
       "      <td>...</td>\n",
       "      <td>...</td>\n",
       "      <td>...</td>\n",
       "      <td>...</td>\n",
       "      <td>...</td>\n",
       "      <td>...</td>\n",
       "      <td>...</td>\n",
       "    </tr>\n",
       "    <tr>\n",
       "      <th>9510</th>\n",
       "      <td>1.0</td>\n",
       "      <td>0.0</td>\n",
       "      <td>0</td>\n",
       "      <td>0.0</td>\n",
       "      <td>0.0</td>\n",
       "      <td>0.0</td>\n",
       "      <td>0.000000</td>\n",
       "      <td>0.000000</td>\n",
       "      <td>0.000000</td>\n",
       "      <td>0.000000</td>\n",
       "      <td>...</td>\n",
       "      <td>0.600413</td>\n",
       "      <td>0.142764</td>\n",
       "      <td>0.150168</td>\n",
       "      <td>0.142764</td>\n",
       "      <td>0.150168</td>\n",
       "      <td>0.110331</td>\n",
       "      <td>0.186698</td>\n",
       "      <td>0.074594</td>\n",
       "      <td>0.237266</td>\n",
       "      <td>44.422658</td>\n",
       "    </tr>\n",
       "    <tr>\n",
       "      <th>9511</th>\n",
       "      <td>1.0</td>\n",
       "      <td>0.0</td>\n",
       "      <td>0</td>\n",
       "      <td>0.0</td>\n",
       "      <td>0.0</td>\n",
       "      <td>0.0</td>\n",
       "      <td>0.000000</td>\n",
       "      <td>0.000000</td>\n",
       "      <td>0.000000</td>\n",
       "      <td>0.000000</td>\n",
       "      <td>...</td>\n",
       "      <td>0.720968</td>\n",
       "      <td>0.183310</td>\n",
       "      <td>0.113080</td>\n",
       "      <td>0.183310</td>\n",
       "      <td>0.113080</td>\n",
       "      <td>0.147064</td>\n",
       "      <td>0.145830</td>\n",
       "      <td>0.107072</td>\n",
       "      <td>0.190797</td>\n",
       "      <td>45.167707</td>\n",
       "    </tr>\n",
       "    <tr>\n",
       "      <th>9512</th>\n",
       "      <td>1.0</td>\n",
       "      <td>0.0</td>\n",
       "      <td>0</td>\n",
       "      <td>0.0</td>\n",
       "      <td>0.0</td>\n",
       "      <td>0.0</td>\n",
       "      <td>0.000000</td>\n",
       "      <td>0.000000</td>\n",
       "      <td>0.000000</td>\n",
       "      <td>0.000000</td>\n",
       "      <td>...</td>\n",
       "      <td>0.836329</td>\n",
       "      <td>0.187379</td>\n",
       "      <td>0.109785</td>\n",
       "      <td>0.187379</td>\n",
       "      <td>0.109785</td>\n",
       "      <td>0.149545</td>\n",
       "      <td>0.143375</td>\n",
       "      <td>0.107612</td>\n",
       "      <td>0.190112</td>\n",
       "      <td>32.476198</td>\n",
       "    </tr>\n",
       "    <tr>\n",
       "      <th>9513</th>\n",
       "      <td>1.0</td>\n",
       "      <td>0.0</td>\n",
       "      <td>0</td>\n",
       "      <td>0.0</td>\n",
       "      <td>0.0</td>\n",
       "      <td>0.0</td>\n",
       "      <td>0.000000</td>\n",
       "      <td>0.000000</td>\n",
       "      <td>0.000000</td>\n",
       "      <td>0.000000</td>\n",
       "      <td>...</td>\n",
       "      <td>0.933029</td>\n",
       "      <td>0.204697</td>\n",
       "      <td>0.096520</td>\n",
       "      <td>0.204697</td>\n",
       "      <td>0.096520</td>\n",
       "      <td>0.160279</td>\n",
       "      <td>0.133135</td>\n",
       "      <td>0.110878</td>\n",
       "      <td>0.186020</td>\n",
       "      <td>28.561791</td>\n",
       "    </tr>\n",
       "    <tr>\n",
       "      <th>9514</th>\n",
       "      <td>1.0</td>\n",
       "      <td>0.0</td>\n",
       "      <td>0</td>\n",
       "      <td>0.0</td>\n",
       "      <td>0.0</td>\n",
       "      <td>0.0</td>\n",
       "      <td>0.000000</td>\n",
       "      <td>0.000000</td>\n",
       "      <td>0.000000</td>\n",
       "      <td>0.000000</td>\n",
       "      <td>...</td>\n",
       "      <td>0.991201</td>\n",
       "      <td>0.235781</td>\n",
       "      <td>0.075514</td>\n",
       "      <td>0.235781</td>\n",
       "      <td>0.075514</td>\n",
       "      <td>0.187379</td>\n",
       "      <td>0.109785</td>\n",
       "      <td>0.133135</td>\n",
       "      <td>0.160280</td>\n",
       "      <td>27.148858</td>\n",
       "    </tr>\n",
       "  </tbody>\n",
       "</table>\n",
       "<p>9515 rows × 54 columns</p>\n",
       "</div>"
      ],
      "text/plain": [
       "      onehotencoder__precip_type:idx_0.0  onehotencoder__precip_type:idx_1.0  \\\n",
       "0                                    1.0                                 0.0   \n",
       "1                                    1.0                                 0.0   \n",
       "2                                    1.0                                 0.0   \n",
       "3                                    1.0                                 0.0   \n",
       "4                                    1.0                                 0.0   \n",
       "...                                  ...                                 ...   \n",
       "9510                                 1.0                                 0.0   \n",
       "9511                                 1.0                                 0.0   \n",
       "9512                                 1.0                                 0.0   \n",
       "9513                                 1.0                                 0.0   \n",
       "9514                                 1.0                                 0.0   \n",
       "\n",
       "      onehotencoder__precip_type:idx_2.0  onehotencoder__precip_type:idx_3.0  \\\n",
       "0                                      0                                 0.0   \n",
       "1                                      0                                 0.0   \n",
       "2                                      0                                 0.0   \n",
       "3                                      0                                 0.0   \n",
       "4                                      0                                 0.0   \n",
       "...                                  ...                                 ...   \n",
       "9510                                   0                                 0.0   \n",
       "9511                                   0                                 0.0   \n",
       "9512                                   0                                 0.0   \n",
       "9513                                   0                                 0.0   \n",
       "9514                                   0                                 0.0   \n",
       "\n",
       "      minmaxscaler__precip_1h:mm  minmaxscaler__prob_precip_1h:p  \\\n",
       "0                            0.0                             0.0   \n",
       "1                            0.0                             0.0   \n",
       "2                            0.0                             0.0   \n",
       "3                            0.0                             0.0   \n",
       "4                            0.0                             0.0   \n",
       "...                          ...                             ...   \n",
       "9510                         0.0                             0.0   \n",
       "9511                         0.0                             0.0   \n",
       "9512                         0.0                             0.0   \n",
       "9513                         0.0                             0.0   \n",
       "9514                         0.0                             0.0   \n",
       "\n",
       "      minmaxscaler__clear_sky_rad:W  minmaxscaler__clear_sky_energy_1h:J  \\\n",
       "0                          0.757424                             0.854846   \n",
       "1                          0.000000                             0.779972   \n",
       "2                          0.000000                             0.000000   \n",
       "3                          0.000000                             0.000000   \n",
       "4                          0.000000                             0.000000   \n",
       "...                             ...                                  ...   \n",
       "9510                       0.000000                             0.000000   \n",
       "9511                       0.000000                             0.000000   \n",
       "9512                       0.000000                             0.000000   \n",
       "9513                       0.000000                             0.000000   \n",
       "9514                       0.000000                             0.000000   \n",
       "\n",
       "      minmaxscaler__diffuse_rad:W  minmaxscaler__diffuse_rad_1h:Wh  ...  \\\n",
       "0                        0.781999                         0.815432  ...   \n",
       "1                        0.000000                         0.742604  ...   \n",
       "2                        0.000000                         0.000000  ...   \n",
       "3                        0.000000                         0.000000  ...   \n",
       "4                        0.000000                         0.000000  ...   \n",
       "...                           ...                              ...  ...   \n",
       "9510                     0.000000                         0.000000  ...   \n",
       "9511                     0.000000                         0.000000  ...   \n",
       "9512                     0.000000                         0.000000  ...   \n",
       "9513                     0.000000                         0.000000  ...   \n",
       "9514                     0.000000                         0.000000  ...   \n",
       "\n",
       "      minmaxscaler__cos_sun_azimuth:d  minmaxscaler__sin_wind_dir_2m:d  \\\n",
       "0                            0.038568                         0.045382   \n",
       "1                            0.095955                         0.023405   \n",
       "2                            0.173244                         0.018654   \n",
       "3                            0.265584                         0.017037   \n",
       "4                            0.369241                         0.031970   \n",
       "...                               ...                              ...   \n",
       "9510                         0.600413                         0.142764   \n",
       "9511                         0.720968                         0.183310   \n",
       "9512                         0.836329                         0.187379   \n",
       "9513                         0.933029                         0.204697   \n",
       "9514                         0.991201                         0.235781   \n",
       "\n",
       "      minmaxscaler__cos_wind_dir_2m:d  minmaxscaler__sin_wind_dir_10m:d  \\\n",
       "0                            0.291860                          0.045382   \n",
       "1                            0.348815                          0.023405   \n",
       "2                            0.364700                          0.018654   \n",
       "3                            0.370590                          0.017037   \n",
       "4                            0.324079                          0.031970   \n",
       "...                               ...                               ...   \n",
       "9510                         0.150168                          0.142764   \n",
       "9511                         0.113080                          0.183310   \n",
       "9512                         0.109785                          0.187379   \n",
       "9513                         0.096520                          0.204697   \n",
       "9514                         0.075514                          0.235781   \n",
       "\n",
       "      minmaxscaler__cos_wind_dir_10m:d  minmaxscaler__sin_wind_dir_50m:d  \\\n",
       "0                             0.291860                          0.042169   \n",
       "1                             0.348815                          0.023669   \n",
       "2                             0.364700                          0.019129   \n",
       "3                             0.370590                          0.017952   \n",
       "4                             0.324079                          0.031664   \n",
       "...                                ...                               ...   \n",
       "9510                          0.150168                          0.110331   \n",
       "9511                          0.113080                          0.147064   \n",
       "9512                          0.109785                          0.149545   \n",
       "9513                          0.096520                          0.160279   \n",
       "9514                          0.075514                          0.187379   \n",
       "\n",
       "      minmaxscaler__cos_wind_dir_50m:d  minmaxscaler__sin_wind_dir_100m:d  \\\n",
       "0                             0.299026                           0.038731   \n",
       "1                             0.347984                           0.024203   \n",
       "2                             0.363021                           0.019853   \n",
       "3                             0.367222                           0.018891   \n",
       "4                             0.324897                           0.031056   \n",
       "...                                ...                                ...   \n",
       "9510                          0.186698                           0.074594   \n",
       "9511                          0.145830                           0.107072   \n",
       "9512                          0.143375                           0.107612   \n",
       "9513                          0.133135                           0.110878   \n",
       "9514                          0.109785                           0.133135   \n",
       "\n",
       "      minmaxscaler__cos_wind_dir_100m:d  consumption  \n",
       "0                              0.307049    26.514689  \n",
       "1                              0.346324    28.326960  \n",
       "2                              0.360507    23.682207  \n",
       "3                              0.363862    25.354782  \n",
       "4                              0.326534    23.861942  \n",
       "...                                 ...          ...  \n",
       "9510                           0.237266    44.422658  \n",
       "9511                           0.190797    45.167707  \n",
       "9512                           0.190112    32.476198  \n",
       "9513                           0.186020    28.561791  \n",
       "9514                           0.160280    27.148858  \n",
       "\n",
       "[9515 rows x 54 columns]"
      ]
     },
     "execution_count": 9,
     "metadata": {},
     "output_type": "execute_result"
    }
   ],
   "source": [
    "df"
   ]
  },
  {
   "cell_type": "code",
   "execution_count": 10,
   "id": "b9c0396d-9f11-4f49-98b8-d8bc83766378",
   "metadata": {
    "scrolled": true
   },
   "outputs": [
    {
     "data": {
      "text/html": [
       "<div>\n",
       "<style scoped>\n",
       "    .dataframe tbody tr th:only-of-type {\n",
       "        vertical-align: middle;\n",
       "    }\n",
       "\n",
       "    .dataframe tbody tr th {\n",
       "        vertical-align: top;\n",
       "    }\n",
       "\n",
       "    .dataframe thead th {\n",
       "        text-align: right;\n",
       "    }\n",
       "</style>\n",
       "<table border=\"1\" class=\"dataframe\">\n",
       "  <thead>\n",
       "    <tr style=\"text-align: right;\">\n",
       "      <th></th>\n",
       "      <th>onehotencoder__precip_type:idx_0.0</th>\n",
       "      <th>onehotencoder__precip_type:idx_1.0</th>\n",
       "      <th>onehotencoder__precip_type:idx_2.0</th>\n",
       "      <th>onehotencoder__precip_type:idx_3.0</th>\n",
       "      <th>minmaxscaler__precip_1h:mm</th>\n",
       "      <th>minmaxscaler__prob_precip_1h:p</th>\n",
       "      <th>minmaxscaler__clear_sky_rad:W</th>\n",
       "      <th>minmaxscaler__clear_sky_energy_1h:J</th>\n",
       "      <th>minmaxscaler__diffuse_rad:W</th>\n",
       "      <th>minmaxscaler__diffuse_rad_1h:Wh</th>\n",
       "      <th>...</th>\n",
       "      <th>minmaxscaler__sin_sun_azimuth:d</th>\n",
       "      <th>minmaxscaler__cos_sun_azimuth:d</th>\n",
       "      <th>minmaxscaler__sin_wind_dir_2m:d</th>\n",
       "      <th>minmaxscaler__cos_wind_dir_2m:d</th>\n",
       "      <th>minmaxscaler__sin_wind_dir_10m:d</th>\n",
       "      <th>minmaxscaler__cos_wind_dir_10m:d</th>\n",
       "      <th>minmaxscaler__sin_wind_dir_50m:d</th>\n",
       "      <th>minmaxscaler__cos_wind_dir_50m:d</th>\n",
       "      <th>minmaxscaler__sin_wind_dir_100m:d</th>\n",
       "      <th>minmaxscaler__cos_wind_dir_100m:d</th>\n",
       "    </tr>\n",
       "  </thead>\n",
       "  <tbody>\n",
       "    <tr>\n",
       "      <th>0</th>\n",
       "      <td>1.0</td>\n",
       "      <td>0.0</td>\n",
       "      <td>0</td>\n",
       "      <td>0.0</td>\n",
       "      <td>0.0</td>\n",
       "      <td>0.0</td>\n",
       "      <td>0.757424</td>\n",
       "      <td>0.854846</td>\n",
       "      <td>0.781999</td>\n",
       "      <td>0.815432</td>\n",
       "      <td>...</td>\n",
       "      <td>0.307401</td>\n",
       "      <td>0.038568</td>\n",
       "      <td>0.045382</td>\n",
       "      <td>0.291860</td>\n",
       "      <td>0.045382</td>\n",
       "      <td>0.291860</td>\n",
       "      <td>0.042169</td>\n",
       "      <td>0.299026</td>\n",
       "      <td>0.038731</td>\n",
       "      <td>0.307049</td>\n",
       "    </tr>\n",
       "    <tr>\n",
       "      <th>1</th>\n",
       "      <td>1.0</td>\n",
       "      <td>0.0</td>\n",
       "      <td>0</td>\n",
       "      <td>0.0</td>\n",
       "      <td>0.0</td>\n",
       "      <td>0.0</td>\n",
       "      <td>0.000000</td>\n",
       "      <td>0.779972</td>\n",
       "      <td>0.000000</td>\n",
       "      <td>0.742604</td>\n",
       "      <td>...</td>\n",
       "      <td>0.205451</td>\n",
       "      <td>0.095955</td>\n",
       "      <td>0.023405</td>\n",
       "      <td>0.348815</td>\n",
       "      <td>0.023405</td>\n",
       "      <td>0.348815</td>\n",
       "      <td>0.023669</td>\n",
       "      <td>0.347984</td>\n",
       "      <td>0.024203</td>\n",
       "      <td>0.346324</td>\n",
       "    </tr>\n",
       "    <tr>\n",
       "      <th>2</th>\n",
       "      <td>1.0</td>\n",
       "      <td>0.0</td>\n",
       "      <td>0</td>\n",
       "      <td>0.0</td>\n",
       "      <td>0.0</td>\n",
       "      <td>0.0</td>\n",
       "      <td>0.000000</td>\n",
       "      <td>0.000000</td>\n",
       "      <td>0.000000</td>\n",
       "      <td>0.000000</td>\n",
       "      <td>...</td>\n",
       "      <td>0.121531</td>\n",
       "      <td>0.173244</td>\n",
       "      <td>0.018654</td>\n",
       "      <td>0.364700</td>\n",
       "      <td>0.018654</td>\n",
       "      <td>0.364700</td>\n",
       "      <td>0.019129</td>\n",
       "      <td>0.363021</td>\n",
       "      <td>0.019853</td>\n",
       "      <td>0.360507</td>\n",
       "    </tr>\n",
       "    <tr>\n",
       "      <th>3</th>\n",
       "      <td>1.0</td>\n",
       "      <td>0.0</td>\n",
       "      <td>0</td>\n",
       "      <td>0.0</td>\n",
       "      <td>0.0</td>\n",
       "      <td>0.0</td>\n",
       "      <td>0.000000</td>\n",
       "      <td>0.000000</td>\n",
       "      <td>0.000000</td>\n",
       "      <td>0.000000</td>\n",
       "      <td>...</td>\n",
       "      <td>0.058350</td>\n",
       "      <td>0.265584</td>\n",
       "      <td>0.017037</td>\n",
       "      <td>0.370590</td>\n",
       "      <td>0.017037</td>\n",
       "      <td>0.370590</td>\n",
       "      <td>0.017952</td>\n",
       "      <td>0.367222</td>\n",
       "      <td>0.018891</td>\n",
       "      <td>0.363862</td>\n",
       "    </tr>\n",
       "    <tr>\n",
       "      <th>4</th>\n",
       "      <td>1.0</td>\n",
       "      <td>0.0</td>\n",
       "      <td>0</td>\n",
       "      <td>0.0</td>\n",
       "      <td>0.0</td>\n",
       "      <td>0.0</td>\n",
       "      <td>0.000000</td>\n",
       "      <td>0.000000</td>\n",
       "      <td>0.000000</td>\n",
       "      <td>0.000000</td>\n",
       "      <td>...</td>\n",
       "      <td>0.017398</td>\n",
       "      <td>0.369241</td>\n",
       "      <td>0.031970</td>\n",
       "      <td>0.324079</td>\n",
       "      <td>0.031970</td>\n",
       "      <td>0.324079</td>\n",
       "      <td>0.031664</td>\n",
       "      <td>0.324897</td>\n",
       "      <td>0.031056</td>\n",
       "      <td>0.326534</td>\n",
       "    </tr>\n",
       "    <tr>\n",
       "      <th>...</th>\n",
       "      <td>...</td>\n",
       "      <td>...</td>\n",
       "      <td>...</td>\n",
       "      <td>...</td>\n",
       "      <td>...</td>\n",
       "      <td>...</td>\n",
       "      <td>...</td>\n",
       "      <td>...</td>\n",
       "      <td>...</td>\n",
       "      <td>...</td>\n",
       "      <td>...</td>\n",
       "      <td>...</td>\n",
       "      <td>...</td>\n",
       "      <td>...</td>\n",
       "      <td>...</td>\n",
       "      <td>...</td>\n",
       "      <td>...</td>\n",
       "      <td>...</td>\n",
       "      <td>...</td>\n",
       "      <td>...</td>\n",
       "      <td>...</td>\n",
       "    </tr>\n",
       "    <tr>\n",
       "      <th>9510</th>\n",
       "      <td>1.0</td>\n",
       "      <td>0.0</td>\n",
       "      <td>0</td>\n",
       "      <td>0.0</td>\n",
       "      <td>0.0</td>\n",
       "      <td>0.0</td>\n",
       "      <td>0.000000</td>\n",
       "      <td>0.000000</td>\n",
       "      <td>0.000000</td>\n",
       "      <td>0.000000</td>\n",
       "      <td>...</td>\n",
       "      <td>0.010188</td>\n",
       "      <td>0.600413</td>\n",
       "      <td>0.142764</td>\n",
       "      <td>0.150168</td>\n",
       "      <td>0.142764</td>\n",
       "      <td>0.150168</td>\n",
       "      <td>0.110331</td>\n",
       "      <td>0.186698</td>\n",
       "      <td>0.074594</td>\n",
       "      <td>0.237266</td>\n",
       "    </tr>\n",
       "    <tr>\n",
       "      <th>9511</th>\n",
       "      <td>1.0</td>\n",
       "      <td>0.0</td>\n",
       "      <td>0</td>\n",
       "      <td>0.0</td>\n",
       "      <td>0.0</td>\n",
       "      <td>0.0</td>\n",
       "      <td>0.000000</td>\n",
       "      <td>0.000000</td>\n",
       "      <td>0.000000</td>\n",
       "      <td>0.000000</td>\n",
       "      <td>...</td>\n",
       "      <td>0.051479</td>\n",
       "      <td>0.720968</td>\n",
       "      <td>0.183310</td>\n",
       "      <td>0.113080</td>\n",
       "      <td>0.183310</td>\n",
       "      <td>0.113080</td>\n",
       "      <td>0.147064</td>\n",
       "      <td>0.145830</td>\n",
       "      <td>0.107072</td>\n",
       "      <td>0.190797</td>\n",
       "    </tr>\n",
       "    <tr>\n",
       "      <th>9512</th>\n",
       "      <td>1.0</td>\n",
       "      <td>0.0</td>\n",
       "      <td>0</td>\n",
       "      <td>0.0</td>\n",
       "      <td>0.0</td>\n",
       "      <td>0.0</td>\n",
       "      <td>0.000000</td>\n",
       "      <td>0.000000</td>\n",
       "      <td>0.000000</td>\n",
       "      <td>0.000000</td>\n",
       "      <td>...</td>\n",
       "      <td>0.130026</td>\n",
       "      <td>0.836329</td>\n",
       "      <td>0.187379</td>\n",
       "      <td>0.109785</td>\n",
       "      <td>0.187379</td>\n",
       "      <td>0.109785</td>\n",
       "      <td>0.149545</td>\n",
       "      <td>0.143375</td>\n",
       "      <td>0.107612</td>\n",
       "      <td>0.190112</td>\n",
       "    </tr>\n",
       "    <tr>\n",
       "      <th>9513</th>\n",
       "      <td>1.0</td>\n",
       "      <td>0.0</td>\n",
       "      <td>0</td>\n",
       "      <td>0.0</td>\n",
       "      <td>0.0</td>\n",
       "      <td>0.0</td>\n",
       "      <td>0.000000</td>\n",
       "      <td>0.000000</td>\n",
       "      <td>0.000000</td>\n",
       "      <td>0.000000</td>\n",
       "      <td>...</td>\n",
       "      <td>0.250030</td>\n",
       "      <td>0.933029</td>\n",
       "      <td>0.204697</td>\n",
       "      <td>0.096520</td>\n",
       "      <td>0.204697</td>\n",
       "      <td>0.096520</td>\n",
       "      <td>0.160279</td>\n",
       "      <td>0.133135</td>\n",
       "      <td>0.110878</td>\n",
       "      <td>0.186020</td>\n",
       "    </tr>\n",
       "    <tr>\n",
       "      <th>9514</th>\n",
       "      <td>1.0</td>\n",
       "      <td>0.0</td>\n",
       "      <td>0</td>\n",
       "      <td>0.0</td>\n",
       "      <td>0.0</td>\n",
       "      <td>0.0</td>\n",
       "      <td>0.000000</td>\n",
       "      <td>0.000000</td>\n",
       "      <td>0.000000</td>\n",
       "      <td>0.000000</td>\n",
       "      <td>...</td>\n",
       "      <td>0.406609</td>\n",
       "      <td>0.991201</td>\n",
       "      <td>0.235781</td>\n",
       "      <td>0.075514</td>\n",
       "      <td>0.235781</td>\n",
       "      <td>0.075514</td>\n",
       "      <td>0.187379</td>\n",
       "      <td>0.109785</td>\n",
       "      <td>0.133135</td>\n",
       "      <td>0.160280</td>\n",
       "    </tr>\n",
       "  </tbody>\n",
       "</table>\n",
       "<p>9515 rows × 53 columns</p>\n",
       "</div>"
      ],
      "text/plain": [
       "      onehotencoder__precip_type:idx_0.0  onehotencoder__precip_type:idx_1.0  \\\n",
       "0                                    1.0                                 0.0   \n",
       "1                                    1.0                                 0.0   \n",
       "2                                    1.0                                 0.0   \n",
       "3                                    1.0                                 0.0   \n",
       "4                                    1.0                                 0.0   \n",
       "...                                  ...                                 ...   \n",
       "9510                                 1.0                                 0.0   \n",
       "9511                                 1.0                                 0.0   \n",
       "9512                                 1.0                                 0.0   \n",
       "9513                                 1.0                                 0.0   \n",
       "9514                                 1.0                                 0.0   \n",
       "\n",
       "      onehotencoder__precip_type:idx_2.0  onehotencoder__precip_type:idx_3.0  \\\n",
       "0                                      0                                 0.0   \n",
       "1                                      0                                 0.0   \n",
       "2                                      0                                 0.0   \n",
       "3                                      0                                 0.0   \n",
       "4                                      0                                 0.0   \n",
       "...                                  ...                                 ...   \n",
       "9510                                   0                                 0.0   \n",
       "9511                                   0                                 0.0   \n",
       "9512                                   0                                 0.0   \n",
       "9513                                   0                                 0.0   \n",
       "9514                                   0                                 0.0   \n",
       "\n",
       "      minmaxscaler__precip_1h:mm  minmaxscaler__prob_precip_1h:p  \\\n",
       "0                            0.0                             0.0   \n",
       "1                            0.0                             0.0   \n",
       "2                            0.0                             0.0   \n",
       "3                            0.0                             0.0   \n",
       "4                            0.0                             0.0   \n",
       "...                          ...                             ...   \n",
       "9510                         0.0                             0.0   \n",
       "9511                         0.0                             0.0   \n",
       "9512                         0.0                             0.0   \n",
       "9513                         0.0                             0.0   \n",
       "9514                         0.0                             0.0   \n",
       "\n",
       "      minmaxscaler__clear_sky_rad:W  minmaxscaler__clear_sky_energy_1h:J  \\\n",
       "0                          0.757424                             0.854846   \n",
       "1                          0.000000                             0.779972   \n",
       "2                          0.000000                             0.000000   \n",
       "3                          0.000000                             0.000000   \n",
       "4                          0.000000                             0.000000   \n",
       "...                             ...                                  ...   \n",
       "9510                       0.000000                             0.000000   \n",
       "9511                       0.000000                             0.000000   \n",
       "9512                       0.000000                             0.000000   \n",
       "9513                       0.000000                             0.000000   \n",
       "9514                       0.000000                             0.000000   \n",
       "\n",
       "      minmaxscaler__diffuse_rad:W  minmaxscaler__diffuse_rad_1h:Wh  ...  \\\n",
       "0                        0.781999                         0.815432  ...   \n",
       "1                        0.000000                         0.742604  ...   \n",
       "2                        0.000000                         0.000000  ...   \n",
       "3                        0.000000                         0.000000  ...   \n",
       "4                        0.000000                         0.000000  ...   \n",
       "...                           ...                              ...  ...   \n",
       "9510                     0.000000                         0.000000  ...   \n",
       "9511                     0.000000                         0.000000  ...   \n",
       "9512                     0.000000                         0.000000  ...   \n",
       "9513                     0.000000                         0.000000  ...   \n",
       "9514                     0.000000                         0.000000  ...   \n",
       "\n",
       "      minmaxscaler__sin_sun_azimuth:d  minmaxscaler__cos_sun_azimuth:d  \\\n",
       "0                            0.307401                         0.038568   \n",
       "1                            0.205451                         0.095955   \n",
       "2                            0.121531                         0.173244   \n",
       "3                            0.058350                         0.265584   \n",
       "4                            0.017398                         0.369241   \n",
       "...                               ...                              ...   \n",
       "9510                         0.010188                         0.600413   \n",
       "9511                         0.051479                         0.720968   \n",
       "9512                         0.130026                         0.836329   \n",
       "9513                         0.250030                         0.933029   \n",
       "9514                         0.406609                         0.991201   \n",
       "\n",
       "      minmaxscaler__sin_wind_dir_2m:d  minmaxscaler__cos_wind_dir_2m:d  \\\n",
       "0                            0.045382                         0.291860   \n",
       "1                            0.023405                         0.348815   \n",
       "2                            0.018654                         0.364700   \n",
       "3                            0.017037                         0.370590   \n",
       "4                            0.031970                         0.324079   \n",
       "...                               ...                              ...   \n",
       "9510                         0.142764                         0.150168   \n",
       "9511                         0.183310                         0.113080   \n",
       "9512                         0.187379                         0.109785   \n",
       "9513                         0.204697                         0.096520   \n",
       "9514                         0.235781                         0.075514   \n",
       "\n",
       "      minmaxscaler__sin_wind_dir_10m:d  minmaxscaler__cos_wind_dir_10m:d  \\\n",
       "0                             0.045382                          0.291860   \n",
       "1                             0.023405                          0.348815   \n",
       "2                             0.018654                          0.364700   \n",
       "3                             0.017037                          0.370590   \n",
       "4                             0.031970                          0.324079   \n",
       "...                                ...                               ...   \n",
       "9510                          0.142764                          0.150168   \n",
       "9511                          0.183310                          0.113080   \n",
       "9512                          0.187379                          0.109785   \n",
       "9513                          0.204697                          0.096520   \n",
       "9514                          0.235781                          0.075514   \n",
       "\n",
       "      minmaxscaler__sin_wind_dir_50m:d  minmaxscaler__cos_wind_dir_50m:d  \\\n",
       "0                             0.042169                          0.299026   \n",
       "1                             0.023669                          0.347984   \n",
       "2                             0.019129                          0.363021   \n",
       "3                             0.017952                          0.367222   \n",
       "4                             0.031664                          0.324897   \n",
       "...                                ...                               ...   \n",
       "9510                          0.110331                          0.186698   \n",
       "9511                          0.147064                          0.145830   \n",
       "9512                          0.149545                          0.143375   \n",
       "9513                          0.160279                          0.133135   \n",
       "9514                          0.187379                          0.109785   \n",
       "\n",
       "      minmaxscaler__sin_wind_dir_100m:d  minmaxscaler__cos_wind_dir_100m:d  \n",
       "0                              0.038731                           0.307049  \n",
       "1                              0.024203                           0.346324  \n",
       "2                              0.019853                           0.360507  \n",
       "3                              0.018891                           0.363862  \n",
       "4                              0.031056                           0.326534  \n",
       "...                                 ...                                ...  \n",
       "9510                           0.074594                           0.237266  \n",
       "9511                           0.107072                           0.190797  \n",
       "9512                           0.107612                           0.190112  \n",
       "9513                           0.110878                           0.186020  \n",
       "9514                           0.133135                           0.160280  \n",
       "\n",
       "[9515 rows x 53 columns]"
      ]
     },
     "execution_count": 10,
     "metadata": {},
     "output_type": "execute_result"
    }
   ],
   "source": [
    "X_train_transformed"
   ]
  },
  {
   "cell_type": "markdown",
   "id": "fb172a06-b16c-4f47-8bf5-cd38430cf8bc",
   "metadata": {},
   "source": [
    "### Wind feature importance"
   ]
  },
  {
   "cell_type": "code",
   "execution_count": 40,
   "id": "b1c97e60-e3b6-4db3-95f7-a42be6c8cfe5",
   "metadata": {},
   "outputs": [],
   "source": [
    "import pandas as pd\n",
    "import numpy as np\n",
    "from sklearn.model_selection import train_test_split\n",
    "from xgboost import XGBRegressor"
   ]
  },
  {
   "cell_type": "code",
   "execution_count": 41,
   "id": "945dc271-35cd-44b3-95a1-7be8f5a05b24",
   "metadata": {},
   "outputs": [],
   "source": [
    "XG_X_train_transformed, XG_X_val, XG_y_train, XG_y_val = train_test_split(\n",
    "X_train_transformed, y_train, test_size = 0.1, random_state = 42  # val = 10%\n",
    ")"
   ]
  },
  {
   "cell_type": "code",
   "execution_count": 42,
   "id": "4ea312bb-bea7-4ad1-85a8-9baacdb60692",
   "metadata": {
    "scrolled": true
   },
   "outputs": [
    {
     "name": "stdout",
     "output_type": "stream",
     "text": [
      "[0]\tvalidation_0-mae:18.74866\tvalidation_1-mae:19.21858\n",
      "[1]\tvalidation_0-mae:17.83222\tvalidation_1-mae:18.31128\n",
      "[2]\tvalidation_0-mae:16.95416\tvalidation_1-mae:17.43640\n",
      "[3]\tvalidation_0-mae:16.12614\tvalidation_1-mae:16.60806\n",
      "[4]\tvalidation_0-mae:15.33915\tvalidation_1-mae:15.81800\n",
      "[5]\tvalidation_0-mae:14.59095\tvalidation_1-mae:15.07884\n",
      "[6]\tvalidation_0-mae:13.88384\tvalidation_1-mae:14.37193\n",
      "[7]\tvalidation_0-mae:13.20659\tvalidation_1-mae:13.69707\n"
     ]
    },
    {
     "name": "stderr",
     "output_type": "stream",
     "text": [
      "/Users/carlbechtolsheim/.pyenv/versions/3.10.6/envs/watt_squad/lib/python3.10/site-packages/xgboost/sklearn.py:793: UserWarning: `early_stopping_rounds` in `fit` method is deprecated for better compatibility with scikit-learn, use `early_stopping_rounds` in constructor or`set_params` instead.\n",
      "  warnings.warn(\n"
     ]
    },
    {
     "name": "stdout",
     "output_type": "stream",
     "text": [
      "[8]\tvalidation_0-mae:12.56160\tvalidation_1-mae:13.05923\n",
      "[9]\tvalidation_0-mae:11.95466\tvalidation_1-mae:12.45021\n",
      "[10]\tvalidation_0-mae:11.37652\tvalidation_1-mae:11.87426\n",
      "[11]\tvalidation_0-mae:10.83037\tvalidation_1-mae:11.32417\n",
      "[12]\tvalidation_0-mae:10.31296\tvalidation_1-mae:10.81352\n",
      "[13]\tvalidation_0-mae:9.82377\tvalidation_1-mae:10.32227\n",
      "[14]\tvalidation_0-mae:9.35623\tvalidation_1-mae:9.85483\n",
      "[15]\tvalidation_0-mae:8.91674\tvalidation_1-mae:9.41439\n",
      "[16]\tvalidation_0-mae:8.50189\tvalidation_1-mae:9.00044\n",
      "[17]\tvalidation_0-mae:8.11077\tvalidation_1-mae:8.60586\n",
      "[18]\tvalidation_0-mae:7.74036\tvalidation_1-mae:8.24125\n",
      "[19]\tvalidation_0-mae:7.39620\tvalidation_1-mae:7.89545\n",
      "[20]\tvalidation_0-mae:7.06795\tvalidation_1-mae:7.56703\n",
      "[21]\tvalidation_0-mae:6.76201\tvalidation_1-mae:7.26454\n",
      "[22]\tvalidation_0-mae:6.47747\tvalidation_1-mae:6.97817\n",
      "[23]\tvalidation_0-mae:6.20549\tvalidation_1-mae:6.71336\n",
      "[24]\tvalidation_0-mae:5.95416\tvalidation_1-mae:6.47164\n",
      "[25]\tvalidation_0-mae:5.71907\tvalidation_1-mae:6.23458\n",
      "[26]\tvalidation_0-mae:5.50037\tvalidation_1-mae:6.01852\n",
      "[27]\tvalidation_0-mae:5.29601\tvalidation_1-mae:5.81242\n",
      "[28]\tvalidation_0-mae:5.10516\tvalidation_1-mae:5.62396\n",
      "[29]\tvalidation_0-mae:4.92723\tvalidation_1-mae:5.44565\n",
      "[30]\tvalidation_0-mae:4.76311\tvalidation_1-mae:5.28112\n",
      "[31]\tvalidation_0-mae:4.61244\tvalidation_1-mae:5.13440\n",
      "[32]\tvalidation_0-mae:4.47204\tvalidation_1-mae:4.99588\n",
      "[33]\tvalidation_0-mae:4.34094\tvalidation_1-mae:4.86484\n",
      "[34]\tvalidation_0-mae:4.21990\tvalidation_1-mae:4.74430\n",
      "[35]\tvalidation_0-mae:4.10843\tvalidation_1-mae:4.62956\n",
      "[36]\tvalidation_0-mae:4.00492\tvalidation_1-mae:4.52347\n",
      "[37]\tvalidation_0-mae:3.90929\tvalidation_1-mae:4.42837\n",
      "[38]\tvalidation_0-mae:3.81788\tvalidation_1-mae:4.32991\n",
      "[39]\tvalidation_0-mae:3.73578\tvalidation_1-mae:4.24466\n",
      "[40]\tvalidation_0-mae:3.66048\tvalidation_1-mae:4.16312\n",
      "[41]\tvalidation_0-mae:3.59003\tvalidation_1-mae:4.08901\n",
      "[42]\tvalidation_0-mae:3.52382\tvalidation_1-mae:4.02119\n",
      "[43]\tvalidation_0-mae:3.46412\tvalidation_1-mae:3.95620\n",
      "[44]\tvalidation_0-mae:3.40767\tvalidation_1-mae:3.89964\n",
      "[45]\tvalidation_0-mae:3.36004\tvalidation_1-mae:3.84895\n",
      "[46]\tvalidation_0-mae:3.31006\tvalidation_1-mae:3.79996\n",
      "[47]\tvalidation_0-mae:3.26564\tvalidation_1-mae:3.75535\n",
      "[48]\tvalidation_0-mae:3.22678\tvalidation_1-mae:3.71356\n",
      "[49]\tvalidation_0-mae:3.18975\tvalidation_1-mae:3.67695\n",
      "[50]\tvalidation_0-mae:3.15640\tvalidation_1-mae:3.64160\n",
      "[51]\tvalidation_0-mae:3.12380\tvalidation_1-mae:3.61025\n",
      "[52]\tvalidation_0-mae:3.09653\tvalidation_1-mae:3.58271\n",
      "[53]\tvalidation_0-mae:3.07073\tvalidation_1-mae:3.55652\n",
      "[54]\tvalidation_0-mae:3.04862\tvalidation_1-mae:3.53331\n",
      "[55]\tvalidation_0-mae:3.02616\tvalidation_1-mae:3.51173\n",
      "[56]\tvalidation_0-mae:3.00272\tvalidation_1-mae:3.48930\n",
      "[57]\tvalidation_0-mae:2.98326\tvalidation_1-mae:3.47248\n",
      "[58]\tvalidation_0-mae:2.96617\tvalidation_1-mae:3.45539\n",
      "[59]\tvalidation_0-mae:2.95028\tvalidation_1-mae:3.44099\n",
      "[60]\tvalidation_0-mae:2.93360\tvalidation_1-mae:3.42684\n",
      "[61]\tvalidation_0-mae:2.91701\tvalidation_1-mae:3.40806\n",
      "[62]\tvalidation_0-mae:2.90363\tvalidation_1-mae:3.39798\n",
      "[63]\tvalidation_0-mae:2.88993\tvalidation_1-mae:3.38499\n",
      "[64]\tvalidation_0-mae:2.87930\tvalidation_1-mae:3.37583\n",
      "[65]\tvalidation_0-mae:2.86946\tvalidation_1-mae:3.36801\n",
      "[66]\tvalidation_0-mae:2.85907\tvalidation_1-mae:3.35981\n",
      "[67]\tvalidation_0-mae:2.84998\tvalidation_1-mae:3.35078\n",
      "[68]\tvalidation_0-mae:2.84006\tvalidation_1-mae:3.34467\n",
      "[69]\tvalidation_0-mae:2.83100\tvalidation_1-mae:3.33919\n",
      "[70]\tvalidation_0-mae:2.82243\tvalidation_1-mae:3.33445\n",
      "[71]\tvalidation_0-mae:2.81437\tvalidation_1-mae:3.32874\n",
      "[72]\tvalidation_0-mae:2.80628\tvalidation_1-mae:3.32404\n",
      "[73]\tvalidation_0-mae:2.80055\tvalidation_1-mae:3.31858\n",
      "[74]\tvalidation_0-mae:2.79206\tvalidation_1-mae:3.31136\n",
      "[75]\tvalidation_0-mae:2.78697\tvalidation_1-mae:3.30742\n",
      "[76]\tvalidation_0-mae:2.77798\tvalidation_1-mae:3.30294\n",
      "[77]\tvalidation_0-mae:2.77233\tvalidation_1-mae:3.29940\n",
      "[78]\tvalidation_0-mae:2.76683\tvalidation_1-mae:3.29385\n",
      "[79]\tvalidation_0-mae:2.75962\tvalidation_1-mae:3.29025\n",
      "[80]\tvalidation_0-mae:2.75278\tvalidation_1-mae:3.28552\n",
      "[81]\tvalidation_0-mae:2.74713\tvalidation_1-mae:3.28281\n",
      "[82]\tvalidation_0-mae:2.74185\tvalidation_1-mae:3.28069\n",
      "[83]\tvalidation_0-mae:2.73786\tvalidation_1-mae:3.27762\n",
      "[84]\tvalidation_0-mae:2.72894\tvalidation_1-mae:3.27025\n",
      "[85]\tvalidation_0-mae:2.72368\tvalidation_1-mae:3.26839\n",
      "[86]\tvalidation_0-mae:2.71803\tvalidation_1-mae:3.26308\n",
      "[87]\tvalidation_0-mae:2.71042\tvalidation_1-mae:3.26084\n",
      "[88]\tvalidation_0-mae:2.70462\tvalidation_1-mae:3.25882\n",
      "[89]\tvalidation_0-mae:2.70122\tvalidation_1-mae:3.25748\n",
      "[90]\tvalidation_0-mae:2.69781\tvalidation_1-mae:3.25600\n",
      "[91]\tvalidation_0-mae:2.69268\tvalidation_1-mae:3.25321\n",
      "[92]\tvalidation_0-mae:2.69001\tvalidation_1-mae:3.25308\n",
      "[93]\tvalidation_0-mae:2.68518\tvalidation_1-mae:3.25195\n",
      "[94]\tvalidation_0-mae:2.68011\tvalidation_1-mae:3.25099\n",
      "[95]\tvalidation_0-mae:2.67758\tvalidation_1-mae:3.25170\n",
      "[96]\tvalidation_0-mae:2.67309\tvalidation_1-mae:3.25082\n",
      "[97]\tvalidation_0-mae:2.66897\tvalidation_1-mae:3.24862\n",
      "[98]\tvalidation_0-mae:2.66336\tvalidation_1-mae:3.24678\n",
      "[99]\tvalidation_0-mae:2.65940\tvalidation_1-mae:3.24745\n",
      "[100]\tvalidation_0-mae:2.65510\tvalidation_1-mae:3.24926\n",
      "[101]\tvalidation_0-mae:2.65062\tvalidation_1-mae:3.24856\n",
      "[102]\tvalidation_0-mae:2.64620\tvalidation_1-mae:3.24826\n",
      "➡️  model fitting done\n",
      "➡️  performed predictions\n"
     ]
    }
   ],
   "source": [
    "xgb_reg = XGBRegressor(\n",
    "    max_depth=7,                # Optimal value found\n",
    "    n_estimators=300,           # Optimal value found\n",
    "    learning_rate=0.05,         # Optimal value found\n",
    "    reg_alpha=0.05,             # Optimal value found\n",
    "    reg_lambda=20,              # Optimal value found\n",
    "    subsample=0.8,              # Optimal value found\n",
    "    colsample_bytree=0.8,       # Optimal value found\n",
    "    objective='reg:squarederror',\n",
    "    eval_metric=\"mae\",\n",
    "    random_state=42             # Ensuring reproducibility\n",
    ")\n",
    "\n",
    "# Fit the model on the training data\n",
    "xgb_reg.fit(\n",
    "    XG_X_train_transformed,\n",
    "    XG_y_train,\n",
    "    eval_set=[(XG_X_train_transformed, XG_y_train), (XG_X_val, XG_y_val)],\n",
    "    verbose=True,\n",
    "    early_stopping_rounds=5     # Retain early stopping\n",
    ")\n",
    "\n",
    "print(\"➡️  model fitting done\")\n",
    "\n",
    "# Make predictions\n",
    "y_pred = xgb_reg.predict(X_test_transformed)\n",
    "\n",
    "print(\"➡️  performed predictions\")"
   ]
  },
  {
   "cell_type": "code",
   "execution_count": 43,
   "id": "c183e9b4-cdc1-47f9-b79f-cc49766a5ede",
   "metadata": {},
   "outputs": [],
   "source": [
    "importance = xgb_reg.feature_importances_\n",
    "feature_names = X_train_transformed.columns\n",
    "importance_df = pd.DataFrame({'Feature': feature_names, 'Importance': importance})\n",
    "importance_df.sort_values(by='Importance', ascending=False, inplace=True)"
   ]
  },
  {
   "cell_type": "code",
   "execution_count": 44,
   "id": "065bf474-eb4e-4080-a0e3-f9e6af9550bc",
   "metadata": {
    "scrolled": true
   },
   "outputs": [
    {
     "data": {
      "text/html": [
       "<div>\n",
       "<style scoped>\n",
       "    .dataframe tbody tr th:only-of-type {\n",
       "        vertical-align: middle;\n",
       "    }\n",
       "\n",
       "    .dataframe tbody tr th {\n",
       "        vertical-align: top;\n",
       "    }\n",
       "\n",
       "    .dataframe thead th {\n",
       "        text-align: right;\n",
       "    }\n",
       "</style>\n",
       "<table border=\"1\" class=\"dataframe\">\n",
       "  <thead>\n",
       "    <tr style=\"text-align: right;\">\n",
       "      <th></th>\n",
       "      <th>Feature</th>\n",
       "      <th>Importance</th>\n",
       "    </tr>\n",
       "  </thead>\n",
       "  <tbody>\n",
       "    <tr>\n",
       "      <th>25</th>\n",
       "      <td>minmaxscaler__t_10m:C</td>\n",
       "      <td>0.145035</td>\n",
       "    </tr>\n",
       "    <tr>\n",
       "      <th>37</th>\n",
       "      <td>minmaxscaler__hour_sine</td>\n",
       "      <td>0.111843</td>\n",
       "    </tr>\n",
       "    <tr>\n",
       "      <th>33</th>\n",
       "      <td>minmaxscaler__t_100m:C</td>\n",
       "      <td>0.094134</td>\n",
       "    </tr>\n",
       "    <tr>\n",
       "      <th>23</th>\n",
       "      <td>minmaxscaler__dew_point_2m:C</td>\n",
       "      <td>0.090748</td>\n",
       "    </tr>\n",
       "    <tr>\n",
       "      <th>40</th>\n",
       "      <td>minmaxscaler__month_cosine</td>\n",
       "      <td>0.068513</td>\n",
       "    </tr>\n",
       "    <tr>\n",
       "      <th>27</th>\n",
       "      <td>minmaxscaler__dew_point_10m:C</td>\n",
       "      <td>0.065991</td>\n",
       "    </tr>\n",
       "    <tr>\n",
       "      <th>38</th>\n",
       "      <td>minmaxscaler__hour_cosine</td>\n",
       "      <td>0.034842</td>\n",
       "    </tr>\n",
       "    <tr>\n",
       "      <th>43</th>\n",
       "      <td>minmaxscaler__sin_sun_azimuth:d</td>\n",
       "      <td>0.032510</td>\n",
       "    </tr>\n",
       "    <tr>\n",
       "      <th>42</th>\n",
       "      <td>minmaxscaler__season_cosine</td>\n",
       "      <td>0.031608</td>\n",
       "    </tr>\n",
       "    <tr>\n",
       "      <th>21</th>\n",
       "      <td>minmaxscaler__temp</td>\n",
       "      <td>0.024068</td>\n",
       "    </tr>\n",
       "    <tr>\n",
       "      <th>29</th>\n",
       "      <td>minmaxscaler__t_50m:C</td>\n",
       "      <td>0.022447</td>\n",
       "    </tr>\n",
       "    <tr>\n",
       "      <th>35</th>\n",
       "      <td>minmaxscaler__dew_point_100m:C</td>\n",
       "      <td>0.020743</td>\n",
       "    </tr>\n",
       "    <tr>\n",
       "      <th>39</th>\n",
       "      <td>minmaxscaler__month_sine</td>\n",
       "      <td>0.019550</td>\n",
       "    </tr>\n",
       "    <tr>\n",
       "      <th>31</th>\n",
       "      <td>minmaxscaler__dew_point_50m:C</td>\n",
       "      <td>0.016565</td>\n",
       "    </tr>\n",
       "    <tr>\n",
       "      <th>44</th>\n",
       "      <td>minmaxscaler__cos_sun_azimuth:d</td>\n",
       "      <td>0.016477</td>\n",
       "    </tr>\n",
       "    <tr>\n",
       "      <th>41</th>\n",
       "      <td>minmaxscaler__season_sine</td>\n",
       "      <td>0.014098</td>\n",
       "    </tr>\n",
       "    <tr>\n",
       "      <th>34</th>\n",
       "      <td>minmaxscaler__relative_humidity_100m:p</td>\n",
       "      <td>0.014044</td>\n",
       "    </tr>\n",
       "    <tr>\n",
       "      <th>30</th>\n",
       "      <td>minmaxscaler__relative_humidity_50m:p</td>\n",
       "      <td>0.008421</td>\n",
       "    </tr>\n",
       "    <tr>\n",
       "      <th>48</th>\n",
       "      <td>minmaxscaler__cos_wind_dir_10m:d</td>\n",
       "      <td>0.008086</td>\n",
       "    </tr>\n",
       "    <tr>\n",
       "      <th>26</th>\n",
       "      <td>minmaxscaler__relative_humidity_10m:p</td>\n",
       "      <td>0.007433</td>\n",
       "    </tr>\n",
       "    <tr>\n",
       "      <th>52</th>\n",
       "      <td>minmaxscaler__cos_wind_dir_100m:d</td>\n",
       "      <td>0.006949</td>\n",
       "    </tr>\n",
       "    <tr>\n",
       "      <th>28</th>\n",
       "      <td>minmaxscaler__wind_speed_10m:ms</td>\n",
       "      <td>0.006623</td>\n",
       "    </tr>\n",
       "    <tr>\n",
       "      <th>13</th>\n",
       "      <td>minmaxscaler__global_rad_1h:Wh</td>\n",
       "      <td>0.006610</td>\n",
       "    </tr>\n",
       "    <tr>\n",
       "      <th>32</th>\n",
       "      <td>minmaxscaler__wind_speed_50m:ms</td>\n",
       "      <td>0.006315</td>\n",
       "    </tr>\n",
       "    <tr>\n",
       "      <th>7</th>\n",
       "      <td>minmaxscaler__clear_sky_energy_1h:J</td>\n",
       "      <td>0.006235</td>\n",
       "    </tr>\n",
       "    <tr>\n",
       "      <th>9</th>\n",
       "      <td>minmaxscaler__diffuse_rad_1h:Wh</td>\n",
       "      <td>0.006226</td>\n",
       "    </tr>\n",
       "    <tr>\n",
       "      <th>11</th>\n",
       "      <td>minmaxscaler__direct_rad_1h:Wh</td>\n",
       "      <td>0.006199</td>\n",
       "    </tr>\n",
       "    <tr>\n",
       "      <th>47</th>\n",
       "      <td>minmaxscaler__sin_wind_dir_10m:d</td>\n",
       "      <td>0.006169</td>\n",
       "    </tr>\n",
       "    <tr>\n",
       "      <th>50</th>\n",
       "      <td>minmaxscaler__cos_wind_dir_50m:d</td>\n",
       "      <td>0.006037</td>\n",
       "    </tr>\n",
       "    <tr>\n",
       "      <th>20</th>\n",
       "      <td>minmaxscaler__effective_cloud_cover:p</td>\n",
       "      <td>0.005993</td>\n",
       "    </tr>\n",
       "    <tr>\n",
       "      <th>46</th>\n",
       "      <td>minmaxscaler__cos_wind_dir_2m:d</td>\n",
       "      <td>0.005608</td>\n",
       "    </tr>\n",
       "    <tr>\n",
       "      <th>51</th>\n",
       "      <td>minmaxscaler__sin_wind_dir_100m:d</td>\n",
       "      <td>0.005606</td>\n",
       "    </tr>\n",
       "    <tr>\n",
       "      <th>36</th>\n",
       "      <td>minmaxscaler__wind_speed_100m:ms</td>\n",
       "      <td>0.005379</td>\n",
       "    </tr>\n",
       "    <tr>\n",
       "      <th>22</th>\n",
       "      <td>minmaxscaler__relative_humidity_2m:p</td>\n",
       "      <td>0.005024</td>\n",
       "    </tr>\n",
       "    <tr>\n",
       "      <th>14</th>\n",
       "      <td>minmaxscaler__sunshine_duration_1h:min</td>\n",
       "      <td>0.005006</td>\n",
       "    </tr>\n",
       "    <tr>\n",
       "      <th>19</th>\n",
       "      <td>minmaxscaler__total_cloud_cover:p</td>\n",
       "      <td>0.004992</td>\n",
       "    </tr>\n",
       "    <tr>\n",
       "      <th>15</th>\n",
       "      <td>minmaxscaler__sun_elevation:d</td>\n",
       "      <td>0.004982</td>\n",
       "    </tr>\n",
       "    <tr>\n",
       "      <th>18</th>\n",
       "      <td>minmaxscaler__high_cloud_cover:p</td>\n",
       "      <td>0.004787</td>\n",
       "    </tr>\n",
       "    <tr>\n",
       "      <th>16</th>\n",
       "      <td>minmaxscaler__low_cloud_cover:p</td>\n",
       "      <td>0.004624</td>\n",
       "    </tr>\n",
       "    <tr>\n",
       "      <th>49</th>\n",
       "      <td>minmaxscaler__sin_wind_dir_50m:d</td>\n",
       "      <td>0.004419</td>\n",
       "    </tr>\n",
       "    <tr>\n",
       "      <th>45</th>\n",
       "      <td>minmaxscaler__sin_wind_dir_2m:d</td>\n",
       "      <td>0.004404</td>\n",
       "    </tr>\n",
       "    <tr>\n",
       "      <th>10</th>\n",
       "      <td>minmaxscaler__direct_rad:W</td>\n",
       "      <td>0.004390</td>\n",
       "    </tr>\n",
       "    <tr>\n",
       "      <th>24</th>\n",
       "      <td>minmaxscaler__wind_speed_2m:ms</td>\n",
       "      <td>0.004133</td>\n",
       "    </tr>\n",
       "    <tr>\n",
       "      <th>12</th>\n",
       "      <td>minmaxscaler__global_rad:W</td>\n",
       "      <td>0.004013</td>\n",
       "    </tr>\n",
       "    <tr>\n",
       "      <th>17</th>\n",
       "      <td>minmaxscaler__medium_cloud_cover:p</td>\n",
       "      <td>0.003833</td>\n",
       "    </tr>\n",
       "    <tr>\n",
       "      <th>1</th>\n",
       "      <td>onehotencoder__precip_type:idx_1.0</td>\n",
       "      <td>0.003463</td>\n",
       "    </tr>\n",
       "    <tr>\n",
       "      <th>8</th>\n",
       "      <td>minmaxscaler__diffuse_rad:W</td>\n",
       "      <td>0.003336</td>\n",
       "    </tr>\n",
       "    <tr>\n",
       "      <th>6</th>\n",
       "      <td>minmaxscaler__clear_sky_rad:W</td>\n",
       "      <td>0.002894</td>\n",
       "    </tr>\n",
       "    <tr>\n",
       "      <th>0</th>\n",
       "      <td>onehotencoder__precip_type:idx_0.0</td>\n",
       "      <td>0.002546</td>\n",
       "    </tr>\n",
       "    <tr>\n",
       "      <th>4</th>\n",
       "      <td>minmaxscaler__precip_1h:mm</td>\n",
       "      <td>0.002466</td>\n",
       "    </tr>\n",
       "    <tr>\n",
       "      <th>5</th>\n",
       "      <td>minmaxscaler__prob_precip_1h:p</td>\n",
       "      <td>0.002046</td>\n",
       "    </tr>\n",
       "    <tr>\n",
       "      <th>3</th>\n",
       "      <td>onehotencoder__precip_type:idx_3.0</td>\n",
       "      <td>0.001536</td>\n",
       "    </tr>\n",
       "    <tr>\n",
       "      <th>2</th>\n",
       "      <td>onehotencoder__precip_type:idx_2.0</td>\n",
       "      <td>0.000000</td>\n",
       "    </tr>\n",
       "  </tbody>\n",
       "</table>\n",
       "</div>"
      ],
      "text/plain": [
       "                                   Feature  Importance\n",
       "25                   minmaxscaler__t_10m:C    0.145035\n",
       "37                 minmaxscaler__hour_sine    0.111843\n",
       "33                  minmaxscaler__t_100m:C    0.094134\n",
       "23            minmaxscaler__dew_point_2m:C    0.090748\n",
       "40              minmaxscaler__month_cosine    0.068513\n",
       "27           minmaxscaler__dew_point_10m:C    0.065991\n",
       "38               minmaxscaler__hour_cosine    0.034842\n",
       "43         minmaxscaler__sin_sun_azimuth:d    0.032510\n",
       "42             minmaxscaler__season_cosine    0.031608\n",
       "21                      minmaxscaler__temp    0.024068\n",
       "29                   minmaxscaler__t_50m:C    0.022447\n",
       "35          minmaxscaler__dew_point_100m:C    0.020743\n",
       "39                minmaxscaler__month_sine    0.019550\n",
       "31           minmaxscaler__dew_point_50m:C    0.016565\n",
       "44         minmaxscaler__cos_sun_azimuth:d    0.016477\n",
       "41               minmaxscaler__season_sine    0.014098\n",
       "34  minmaxscaler__relative_humidity_100m:p    0.014044\n",
       "30   minmaxscaler__relative_humidity_50m:p    0.008421\n",
       "48        minmaxscaler__cos_wind_dir_10m:d    0.008086\n",
       "26   minmaxscaler__relative_humidity_10m:p    0.007433\n",
       "52       minmaxscaler__cos_wind_dir_100m:d    0.006949\n",
       "28         minmaxscaler__wind_speed_10m:ms    0.006623\n",
       "13          minmaxscaler__global_rad_1h:Wh    0.006610\n",
       "32         minmaxscaler__wind_speed_50m:ms    0.006315\n",
       "7      minmaxscaler__clear_sky_energy_1h:J    0.006235\n",
       "9          minmaxscaler__diffuse_rad_1h:Wh    0.006226\n",
       "11          minmaxscaler__direct_rad_1h:Wh    0.006199\n",
       "47        minmaxscaler__sin_wind_dir_10m:d    0.006169\n",
       "50        minmaxscaler__cos_wind_dir_50m:d    0.006037\n",
       "20   minmaxscaler__effective_cloud_cover:p    0.005993\n",
       "46         minmaxscaler__cos_wind_dir_2m:d    0.005608\n",
       "51       minmaxscaler__sin_wind_dir_100m:d    0.005606\n",
       "36        minmaxscaler__wind_speed_100m:ms    0.005379\n",
       "22    minmaxscaler__relative_humidity_2m:p    0.005024\n",
       "14  minmaxscaler__sunshine_duration_1h:min    0.005006\n",
       "19       minmaxscaler__total_cloud_cover:p    0.004992\n",
       "15           minmaxscaler__sun_elevation:d    0.004982\n",
       "18        minmaxscaler__high_cloud_cover:p    0.004787\n",
       "16         minmaxscaler__low_cloud_cover:p    0.004624\n",
       "49        minmaxscaler__sin_wind_dir_50m:d    0.004419\n",
       "45         minmaxscaler__sin_wind_dir_2m:d    0.004404\n",
       "10              minmaxscaler__direct_rad:W    0.004390\n",
       "24          minmaxscaler__wind_speed_2m:ms    0.004133\n",
       "12              minmaxscaler__global_rad:W    0.004013\n",
       "17      minmaxscaler__medium_cloud_cover:p    0.003833\n",
       "1       onehotencoder__precip_type:idx_1.0    0.003463\n",
       "8              minmaxscaler__diffuse_rad:W    0.003336\n",
       "6            minmaxscaler__clear_sky_rad:W    0.002894\n",
       "0       onehotencoder__precip_type:idx_0.0    0.002546\n",
       "4               minmaxscaler__precip_1h:mm    0.002466\n",
       "5           minmaxscaler__prob_precip_1h:p    0.002046\n",
       "3       onehotencoder__precip_type:idx_3.0    0.001536\n",
       "2       onehotencoder__precip_type:idx_2.0    0.000000"
      ]
     },
     "execution_count": 44,
     "metadata": {},
     "output_type": "execute_result"
    }
   ],
   "source": [
    "importance_df"
   ]
  },
  {
   "cell_type": "code",
   "execution_count": 45,
   "id": "ae6ee0c0-4a4e-4a76-878c-d309b85fd9a3",
   "metadata": {},
   "outputs": [],
   "source": [
    "wind_columns_drop = list(importance_df[importance_df['Importance']<0.01]['Feature'])"
   ]
  },
  {
   "cell_type": "code",
   "execution_count": 46,
   "id": "718ca65a-911b-44f1-ac30-011eccd82bcd",
   "metadata": {
    "scrolled": true
   },
   "outputs": [
    {
     "data": {
      "text/plain": [
       "['minmaxscaler__relative_humidity_50m:p',\n",
       " 'minmaxscaler__cos_wind_dir_10m:d',\n",
       " 'minmaxscaler__relative_humidity_10m:p',\n",
       " 'minmaxscaler__cos_wind_dir_100m:d',\n",
       " 'minmaxscaler__wind_speed_10m:ms',\n",
       " 'minmaxscaler__global_rad_1h:Wh',\n",
       " 'minmaxscaler__wind_speed_50m:ms',\n",
       " 'minmaxscaler__clear_sky_energy_1h:J',\n",
       " 'minmaxscaler__diffuse_rad_1h:Wh',\n",
       " 'minmaxscaler__direct_rad_1h:Wh',\n",
       " 'minmaxscaler__sin_wind_dir_10m:d',\n",
       " 'minmaxscaler__cos_wind_dir_50m:d',\n",
       " 'minmaxscaler__effective_cloud_cover:p',\n",
       " 'minmaxscaler__cos_wind_dir_2m:d',\n",
       " 'minmaxscaler__sin_wind_dir_100m:d',\n",
       " 'minmaxscaler__wind_speed_100m:ms',\n",
       " 'minmaxscaler__relative_humidity_2m:p',\n",
       " 'minmaxscaler__sunshine_duration_1h:min',\n",
       " 'minmaxscaler__total_cloud_cover:p',\n",
       " 'minmaxscaler__sun_elevation:d',\n",
       " 'minmaxscaler__high_cloud_cover:p',\n",
       " 'minmaxscaler__low_cloud_cover:p',\n",
       " 'minmaxscaler__sin_wind_dir_50m:d',\n",
       " 'minmaxscaler__sin_wind_dir_2m:d',\n",
       " 'minmaxscaler__direct_rad:W',\n",
       " 'minmaxscaler__wind_speed_2m:ms',\n",
       " 'minmaxscaler__global_rad:W',\n",
       " 'minmaxscaler__medium_cloud_cover:p',\n",
       " 'onehotencoder__precip_type:idx_1.0',\n",
       " 'minmaxscaler__diffuse_rad:W',\n",
       " 'minmaxscaler__clear_sky_rad:W',\n",
       " 'onehotencoder__precip_type:idx_0.0',\n",
       " 'minmaxscaler__precip_1h:mm',\n",
       " 'minmaxscaler__prob_precip_1h:p',\n",
       " 'onehotencoder__precip_type:idx_3.0',\n",
       " 'onehotencoder__precip_type:idx_2.0']"
      ]
     },
     "execution_count": 46,
     "metadata": {},
     "output_type": "execute_result"
    }
   ],
   "source": [
    "wind_columns_drop"
   ]
  },
  {
   "cell_type": "code",
   "execution_count": 47,
   "id": "5af316d5-0b30-4179-95f5-31a44527f8e8",
   "metadata": {},
   "outputs": [],
   "source": [
    "df = df.drop(columns = wind_columns_drop).copy()"
   ]
  },
  {
   "cell_type": "code",
   "execution_count": 48,
   "id": "d26fb5f5-39d6-47aa-b312-31318ac3cc34",
   "metadata": {},
   "outputs": [
    {
     "data": {
      "text/html": [
       "<div>\n",
       "<style scoped>\n",
       "    .dataframe tbody tr th:only-of-type {\n",
       "        vertical-align: middle;\n",
       "    }\n",
       "\n",
       "    .dataframe tbody tr th {\n",
       "        vertical-align: top;\n",
       "    }\n",
       "\n",
       "    .dataframe thead th {\n",
       "        text-align: right;\n",
       "    }\n",
       "</style>\n",
       "<table border=\"1\" class=\"dataframe\">\n",
       "  <thead>\n",
       "    <tr style=\"text-align: right;\">\n",
       "      <th></th>\n",
       "      <th>minmaxscaler__temp</th>\n",
       "      <th>minmaxscaler__dew_point_2m:C</th>\n",
       "      <th>minmaxscaler__t_10m:C</th>\n",
       "      <th>minmaxscaler__dew_point_10m:C</th>\n",
       "      <th>minmaxscaler__t_50m:C</th>\n",
       "      <th>minmaxscaler__dew_point_50m:C</th>\n",
       "      <th>minmaxscaler__t_100m:C</th>\n",
       "      <th>minmaxscaler__relative_humidity_100m:p</th>\n",
       "      <th>minmaxscaler__dew_point_100m:C</th>\n",
       "      <th>minmaxscaler__hour_sine</th>\n",
       "      <th>minmaxscaler__hour_cosine</th>\n",
       "      <th>minmaxscaler__month_sine</th>\n",
       "      <th>minmaxscaler__month_cosine</th>\n",
       "      <th>minmaxscaler__season_sine</th>\n",
       "      <th>minmaxscaler__season_cosine</th>\n",
       "      <th>minmaxscaler__sin_sun_azimuth:d</th>\n",
       "      <th>minmaxscaler__cos_sun_azimuth:d</th>\n",
       "      <th>consumption</th>\n",
       "    </tr>\n",
       "  </thead>\n",
       "  <tbody>\n",
       "    <tr>\n",
       "      <th>0</th>\n",
       "      <td>0.534066</td>\n",
       "      <td>0.541787</td>\n",
       "      <td>0.527716</td>\n",
       "      <td>0.533724</td>\n",
       "      <td>0.521348</td>\n",
       "      <td>0.528529</td>\n",
       "      <td>0.518100</td>\n",
       "      <td>0.489060</td>\n",
       "      <td>0.531722</td>\n",
       "      <td>0.370590</td>\n",
       "      <td>0.017037</td>\n",
       "      <td>0.75</td>\n",
       "      <td>0.933013</td>\n",
       "      <td>0.5</td>\n",
       "      <td>1.0</td>\n",
       "      <td>0.307401</td>\n",
       "      <td>0.038568</td>\n",
       "      <td>26.514689</td>\n",
       "    </tr>\n",
       "    <tr>\n",
       "      <th>1</th>\n",
       "      <td>0.529670</td>\n",
       "      <td>0.547550</td>\n",
       "      <td>0.525499</td>\n",
       "      <td>0.539589</td>\n",
       "      <td>0.521348</td>\n",
       "      <td>0.534535</td>\n",
       "      <td>0.520362</td>\n",
       "      <td>0.494208</td>\n",
       "      <td>0.537764</td>\n",
       "      <td>0.250000</td>\n",
       "      <td>0.066987</td>\n",
       "      <td>0.75</td>\n",
       "      <td>0.933013</td>\n",
       "      <td>0.5</td>\n",
       "      <td>1.0</td>\n",
       "      <td>0.205451</td>\n",
       "      <td>0.095955</td>\n",
       "      <td>28.326960</td>\n",
       "    </tr>\n",
       "    <tr>\n",
       "      <th>2</th>\n",
       "      <td>0.534066</td>\n",
       "      <td>0.541787</td>\n",
       "      <td>0.529933</td>\n",
       "      <td>0.536657</td>\n",
       "      <td>0.523596</td>\n",
       "      <td>0.528529</td>\n",
       "      <td>0.520362</td>\n",
       "      <td>0.480051</td>\n",
       "      <td>0.531722</td>\n",
       "      <td>0.146447</td>\n",
       "      <td>0.146447</td>\n",
       "      <td>0.75</td>\n",
       "      <td>0.933013</td>\n",
       "      <td>0.5</td>\n",
       "      <td>1.0</td>\n",
       "      <td>0.121531</td>\n",
       "      <td>0.173244</td>\n",
       "      <td>23.682207</td>\n",
       "    </tr>\n",
       "    <tr>\n",
       "      <th>3</th>\n",
       "      <td>0.534066</td>\n",
       "      <td>0.559078</td>\n",
       "      <td>0.527716</td>\n",
       "      <td>0.554252</td>\n",
       "      <td>0.521348</td>\n",
       "      <td>0.549550</td>\n",
       "      <td>0.518100</td>\n",
       "      <td>0.528958</td>\n",
       "      <td>0.552870</td>\n",
       "      <td>0.066987</td>\n",
       "      <td>0.250000</td>\n",
       "      <td>0.75</td>\n",
       "      <td>0.933013</td>\n",
       "      <td>0.5</td>\n",
       "      <td>1.0</td>\n",
       "      <td>0.058350</td>\n",
       "      <td>0.265584</td>\n",
       "      <td>25.354782</td>\n",
       "    </tr>\n",
       "    <tr>\n",
       "      <th>4</th>\n",
       "      <td>0.505495</td>\n",
       "      <td>0.610951</td>\n",
       "      <td>0.501109</td>\n",
       "      <td>0.607038</td>\n",
       "      <td>0.494382</td>\n",
       "      <td>0.603604</td>\n",
       "      <td>0.490950</td>\n",
       "      <td>0.715573</td>\n",
       "      <td>0.607251</td>\n",
       "      <td>0.017037</td>\n",
       "      <td>0.370590</td>\n",
       "      <td>0.75</td>\n",
       "      <td>0.933013</td>\n",
       "      <td>0.5</td>\n",
       "      <td>1.0</td>\n",
       "      <td>0.017398</td>\n",
       "      <td>0.369241</td>\n",
       "      <td>23.861942</td>\n",
       "    </tr>\n",
       "    <tr>\n",
       "      <th>...</th>\n",
       "      <td>...</td>\n",
       "      <td>...</td>\n",
       "      <td>...</td>\n",
       "      <td>...</td>\n",
       "      <td>...</td>\n",
       "      <td>...</td>\n",
       "      <td>...</td>\n",
       "      <td>...</td>\n",
       "      <td>...</td>\n",
       "      <td>...</td>\n",
       "      <td>...</td>\n",
       "      <td>...</td>\n",
       "      <td>...</td>\n",
       "      <td>...</td>\n",
       "      <td>...</td>\n",
       "      <td>...</td>\n",
       "      <td>...</td>\n",
       "      <td>...</td>\n",
       "    </tr>\n",
       "    <tr>\n",
       "      <th>9510</th>\n",
       "      <td>0.268132</td>\n",
       "      <td>0.371758</td>\n",
       "      <td>0.263858</td>\n",
       "      <td>0.366569</td>\n",
       "      <td>0.260674</td>\n",
       "      <td>0.363363</td>\n",
       "      <td>0.260181</td>\n",
       "      <td>0.891892</td>\n",
       "      <td>0.371601</td>\n",
       "      <td>0.017037</td>\n",
       "      <td>0.629410</td>\n",
       "      <td>0.75</td>\n",
       "      <td>0.933013</td>\n",
       "      <td>0.5</td>\n",
       "      <td>1.0</td>\n",
       "      <td>0.010188</td>\n",
       "      <td>0.600413</td>\n",
       "      <td>44.422658</td>\n",
       "    </tr>\n",
       "    <tr>\n",
       "      <th>9511</th>\n",
       "      <td>0.257143</td>\n",
       "      <td>0.365994</td>\n",
       "      <td>0.252772</td>\n",
       "      <td>0.360704</td>\n",
       "      <td>0.253933</td>\n",
       "      <td>0.360360</td>\n",
       "      <td>0.255656</td>\n",
       "      <td>0.898327</td>\n",
       "      <td>0.368580</td>\n",
       "      <td>0.066987</td>\n",
       "      <td>0.750000</td>\n",
       "      <td>0.75</td>\n",
       "      <td>0.933013</td>\n",
       "      <td>0.5</td>\n",
       "      <td>1.0</td>\n",
       "      <td>0.051479</td>\n",
       "      <td>0.720968</td>\n",
       "      <td>45.167707</td>\n",
       "    </tr>\n",
       "    <tr>\n",
       "      <th>9512</th>\n",
       "      <td>0.252747</td>\n",
       "      <td>0.357349</td>\n",
       "      <td>0.248337</td>\n",
       "      <td>0.351906</td>\n",
       "      <td>0.251685</td>\n",
       "      <td>0.351351</td>\n",
       "      <td>0.255656</td>\n",
       "      <td>0.879022</td>\n",
       "      <td>0.362538</td>\n",
       "      <td>0.146447</td>\n",
       "      <td>0.853553</td>\n",
       "      <td>0.75</td>\n",
       "      <td>0.933013</td>\n",
       "      <td>0.5</td>\n",
       "      <td>1.0</td>\n",
       "      <td>0.130026</td>\n",
       "      <td>0.836329</td>\n",
       "      <td>32.476198</td>\n",
       "    </tr>\n",
       "    <tr>\n",
       "      <th>9513</th>\n",
       "      <td>0.246154</td>\n",
       "      <td>0.345821</td>\n",
       "      <td>0.243902</td>\n",
       "      <td>0.340176</td>\n",
       "      <td>0.249438</td>\n",
       "      <td>0.345345</td>\n",
       "      <td>0.253394</td>\n",
       "      <td>0.864865</td>\n",
       "      <td>0.353474</td>\n",
       "      <td>0.250000</td>\n",
       "      <td>0.933013</td>\n",
       "      <td>0.75</td>\n",
       "      <td>0.933013</td>\n",
       "      <td>0.5</td>\n",
       "      <td>1.0</td>\n",
       "      <td>0.250030</td>\n",
       "      <td>0.933029</td>\n",
       "      <td>28.561791</td>\n",
       "    </tr>\n",
       "    <tr>\n",
       "      <th>9514</th>\n",
       "      <td>0.237363</td>\n",
       "      <td>0.334294</td>\n",
       "      <td>0.235033</td>\n",
       "      <td>0.331378</td>\n",
       "      <td>0.242697</td>\n",
       "      <td>0.339339</td>\n",
       "      <td>0.251131</td>\n",
       "      <td>0.862291</td>\n",
       "      <td>0.350453</td>\n",
       "      <td>0.370590</td>\n",
       "      <td>0.982963</td>\n",
       "      <td>0.75</td>\n",
       "      <td>0.933013</td>\n",
       "      <td>0.5</td>\n",
       "      <td>1.0</td>\n",
       "      <td>0.406609</td>\n",
       "      <td>0.991201</td>\n",
       "      <td>27.148858</td>\n",
       "    </tr>\n",
       "  </tbody>\n",
       "</table>\n",
       "<p>9515 rows × 18 columns</p>\n",
       "</div>"
      ],
      "text/plain": [
       "      minmaxscaler__temp  minmaxscaler__dew_point_2m:C  minmaxscaler__t_10m:C  \\\n",
       "0               0.534066                      0.541787               0.527716   \n",
       "1               0.529670                      0.547550               0.525499   \n",
       "2               0.534066                      0.541787               0.529933   \n",
       "3               0.534066                      0.559078               0.527716   \n",
       "4               0.505495                      0.610951               0.501109   \n",
       "...                  ...                           ...                    ...   \n",
       "9510            0.268132                      0.371758               0.263858   \n",
       "9511            0.257143                      0.365994               0.252772   \n",
       "9512            0.252747                      0.357349               0.248337   \n",
       "9513            0.246154                      0.345821               0.243902   \n",
       "9514            0.237363                      0.334294               0.235033   \n",
       "\n",
       "      minmaxscaler__dew_point_10m:C  minmaxscaler__t_50m:C  \\\n",
       "0                          0.533724               0.521348   \n",
       "1                          0.539589               0.521348   \n",
       "2                          0.536657               0.523596   \n",
       "3                          0.554252               0.521348   \n",
       "4                          0.607038               0.494382   \n",
       "...                             ...                    ...   \n",
       "9510                       0.366569               0.260674   \n",
       "9511                       0.360704               0.253933   \n",
       "9512                       0.351906               0.251685   \n",
       "9513                       0.340176               0.249438   \n",
       "9514                       0.331378               0.242697   \n",
       "\n",
       "      minmaxscaler__dew_point_50m:C  minmaxscaler__t_100m:C  \\\n",
       "0                          0.528529                0.518100   \n",
       "1                          0.534535                0.520362   \n",
       "2                          0.528529                0.520362   \n",
       "3                          0.549550                0.518100   \n",
       "4                          0.603604                0.490950   \n",
       "...                             ...                     ...   \n",
       "9510                       0.363363                0.260181   \n",
       "9511                       0.360360                0.255656   \n",
       "9512                       0.351351                0.255656   \n",
       "9513                       0.345345                0.253394   \n",
       "9514                       0.339339                0.251131   \n",
       "\n",
       "      minmaxscaler__relative_humidity_100m:p  minmaxscaler__dew_point_100m:C  \\\n",
       "0                                   0.489060                        0.531722   \n",
       "1                                   0.494208                        0.537764   \n",
       "2                                   0.480051                        0.531722   \n",
       "3                                   0.528958                        0.552870   \n",
       "4                                   0.715573                        0.607251   \n",
       "...                                      ...                             ...   \n",
       "9510                                0.891892                        0.371601   \n",
       "9511                                0.898327                        0.368580   \n",
       "9512                                0.879022                        0.362538   \n",
       "9513                                0.864865                        0.353474   \n",
       "9514                                0.862291                        0.350453   \n",
       "\n",
       "      minmaxscaler__hour_sine  minmaxscaler__hour_cosine  \\\n",
       "0                    0.370590                   0.017037   \n",
       "1                    0.250000                   0.066987   \n",
       "2                    0.146447                   0.146447   \n",
       "3                    0.066987                   0.250000   \n",
       "4                    0.017037                   0.370590   \n",
       "...                       ...                        ...   \n",
       "9510                 0.017037                   0.629410   \n",
       "9511                 0.066987                   0.750000   \n",
       "9512                 0.146447                   0.853553   \n",
       "9513                 0.250000                   0.933013   \n",
       "9514                 0.370590                   0.982963   \n",
       "\n",
       "      minmaxscaler__month_sine  minmaxscaler__month_cosine  \\\n",
       "0                         0.75                    0.933013   \n",
       "1                         0.75                    0.933013   \n",
       "2                         0.75                    0.933013   \n",
       "3                         0.75                    0.933013   \n",
       "4                         0.75                    0.933013   \n",
       "...                        ...                         ...   \n",
       "9510                      0.75                    0.933013   \n",
       "9511                      0.75                    0.933013   \n",
       "9512                      0.75                    0.933013   \n",
       "9513                      0.75                    0.933013   \n",
       "9514                      0.75                    0.933013   \n",
       "\n",
       "      minmaxscaler__season_sine  minmaxscaler__season_cosine  \\\n",
       "0                           0.5                          1.0   \n",
       "1                           0.5                          1.0   \n",
       "2                           0.5                          1.0   \n",
       "3                           0.5                          1.0   \n",
       "4                           0.5                          1.0   \n",
       "...                         ...                          ...   \n",
       "9510                        0.5                          1.0   \n",
       "9511                        0.5                          1.0   \n",
       "9512                        0.5                          1.0   \n",
       "9513                        0.5                          1.0   \n",
       "9514                        0.5                          1.0   \n",
       "\n",
       "      minmaxscaler__sin_sun_azimuth:d  minmaxscaler__cos_sun_azimuth:d  \\\n",
       "0                            0.307401                         0.038568   \n",
       "1                            0.205451                         0.095955   \n",
       "2                            0.121531                         0.173244   \n",
       "3                            0.058350                         0.265584   \n",
       "4                            0.017398                         0.369241   \n",
       "...                               ...                              ...   \n",
       "9510                         0.010188                         0.600413   \n",
       "9511                         0.051479                         0.720968   \n",
       "9512                         0.130026                         0.836329   \n",
       "9513                         0.250030                         0.933029   \n",
       "9514                         0.406609                         0.991201   \n",
       "\n",
       "      consumption  \n",
       "0       26.514689  \n",
       "1       28.326960  \n",
       "2       23.682207  \n",
       "3       25.354782  \n",
       "4       23.861942  \n",
       "...           ...  \n",
       "9510    44.422658  \n",
       "9511    45.167707  \n",
       "9512    32.476198  \n",
       "9513    28.561791  \n",
       "9514    27.148858  \n",
       "\n",
       "[9515 rows x 18 columns]"
      ]
     },
     "execution_count": 48,
     "metadata": {},
     "output_type": "execute_result"
    }
   ],
   "source": [
    "df"
   ]
  },
  {
   "cell_type": "markdown",
   "id": "6e7914fd-5111-463d-9e90-6835b12875f6",
   "metadata": {
    "id": "6e7914fd-5111-463d-9e90-6835b12875f6"
   },
   "source": [
    "## Prepare the dataset"
   ]
  },
  {
   "cell_type": "markdown",
   "id": "52b5e3fe-a526-49e5-8932-7901292605f2",
   "metadata": {
    "id": "52b5e3fe-a526-49e5-8932-7901292605f2",
    "jp-MarkdownHeadingCollapsed": true
   },
   "source": [
    "### Folds"
   ]
  },
  {
   "cell_type": "code",
   "execution_count": null,
   "id": "1772f405-114e-44e7-83c5-f8368602a5fb",
   "metadata": {
    "id": "1772f405-114e-44e7-83c5-f8368602a5fb"
   },
   "outputs": [],
   "source": [
    "# --------------------------------------------------- #\n",
    "# Let's consider FOLDS with a length of 4 months      #\n",
    "# (3 years will be used for train, 1 for test!)       #\n",
    "# --------------------------------------------------- #\n",
    "\n",
    "FOLD_LENGTH = 24 * 7 * 16                             # 24 times a day * for 7 days * for 16 weeks\n",
    "\n",
    "\n",
    "# --------------------------------------------------- #\n",
    "# Let's consider FOLDS starting every 2 weeks         #\n",
    "# --------------------------------------------------- #\n",
    "\n",
    "FOLD_STRIDE = 24 * 7 * 2                              # 24 times a day for 2 weeks\n",
    "\n",
    "\n",
    "# --------------------------------------------------- #\n",
    "# Let's consider a train-test-split ratio of 2/3      #\n",
    "# --------------------------------------------------- #\n",
    "\n",
    "TRAIN_VAL_RATIO = 0.75                               # 3 month train, 1 month test"
   ]
  },
  {
   "cell_type": "code",
   "execution_count": null,
   "id": "b84ad4cb-b9b2-413c-9ab4-d1e5ba0b9444",
   "metadata": {
    "id": "b84ad4cb-b9b2-413c-9ab4-d1e5ba0b9444"
   },
   "outputs": [],
   "source": [
    "def get_folds(\n",
    "    df: pd.DataFrame,\n",
    "    fold_length: int,\n",
    "    fold_stride: int) -> List[pd.DataFrame]:\n",
    "    '''\n",
    "    This function slides through the Time Series dataframe of shape (n_timesteps, n_features) to create folds\n",
    "    - of equal `fold_length`\n",
    "    - using `fold_stride` between each fold\n",
    "\n",
    "    Returns a list of folds, each as a DataFrame\n",
    "    '''\n",
    "    # YOUR CODE HERE\n",
    "    folds = []\n",
    "    for idx in range(0, len(df)-fold_length, fold_stride): # --> also possible to get rid of the break\n",
    "    #for idx in range(0, len(df), fold_stride):   # range(start, stop, step): for each idx in our rows at every 91 days\n",
    "        # Exits the loop as soon as the last fold index would exceed the last index\n",
    "        #if (idx + fold_length) > len(df):\n",
    "            #break\n",
    "        fold = df.iloc[idx:idx + fold_length, :]  # select from row idx til last row of the fold (3 years), all the columns\n",
    "        folds.append(fold)   # append the 3 year fold to folds\n",
    "    return folds"
   ]
  },
  {
   "cell_type": "markdown",
   "id": "4d96050d-8e2c-4842-a78d-77cc1bf047ec",
   "metadata": {
    "id": "4d96050d-8e2c-4842-a78d-77cc1bf047ec",
    "jp-MarkdownHeadingCollapsed": true
   },
   "source": [
    "### Train-Val split"
   ]
  },
  {
   "cell_type": "code",
   "execution_count": null,
   "id": "c265d4f0-5553-4cd2-887b-f6b2a98513cf",
   "metadata": {
    "id": "c265d4f0-5553-4cd2-887b-f6b2a98513cf"
   },
   "outputs": [],
   "source": [
    "def train_val_split(fold:pd.DataFrame,\n",
    "                     train_val_ratio: float,\n",
    "                     input_length: int) -> Tuple[pd.DataFrame]:\n",
    "    '''\n",
    "    Returns a train dataframe and a test dataframe (fold_train, fold_test)\n",
    "    from which one can sample (X,y) sequences.\n",
    "    df_train should contain all the timesteps until round(train_test_ratio * len(fold))\n",
    "    '''\n",
    "    # YOUR CODE HERE\n",
    "    # TRAIN SET\n",
    "    # ======================\n",
    "    last_train_idx = round(train_val_ratio * len(fold))  # 0.66 * number of rows in the fold (66% of the fold for train)\n",
    "    fold_train = fold.iloc[0:last_train_idx, :]   # 1st until last row of train set, all columns\n",
    "\n",
    "    # TEST SET\n",
    "    # ======================\n",
    "    first_val_idx = last_train_idx - input_length  # last row of train set - 2 weeks --> test set starts 2 weeks\n",
    "                                                                    # before train set ends --> overlap (not a problem with X)\n",
    "    fold_val = fold.iloc[first_val_idx:, :]   # 1st until last row of val set, all columns\n",
    "\n",
    "    return (fold_train, fold_val)"
   ]
  },
  {
   "cell_type": "code",
   "execution_count": null,
   "id": "9b88a296-68ae-440e-beb5-eb02e7ee0cc2",
   "metadata": {
    "id": "9b88a296-68ae-440e-beb5-eb02e7ee0cc2"
   },
   "outputs": [],
   "source": [
    "(fold_train, fold_val) = train_val_split(folds[0], TRAIN_VAL_RATIO, INPUT_LENGTH)"
   ]
  },
  {
   "cell_type": "code",
   "execution_count": null,
   "id": "52f960ec-8a62-4add-9378-4e23cba0a58e",
   "metadata": {
    "id": "52f960ec-8a62-4add-9378-4e23cba0a58e"
   },
   "outputs": [],
   "source": [
    "#Five days as input & output length\n",
    "INPUT_LENGTH = 24 * 5 # records every hour x 24 hours\n",
    "                      # for 5 days\n",
    "OUTPUT_LENGTH = 12"
   ]
  },
  {
   "cell_type": "markdown",
   "id": "a9348eb1-0d90-4161-9a6d-a3f4950b4e82",
   "metadata": {
    "id": "a9348eb1-0d90-4161-9a6d-a3f4950b4e82"
   },
   "source": [
    "## Model"
   ]
  },
  {
   "cell_type": "markdown",
   "id": "305ae143-e1cd-4f54-b023-fda650d798a5",
   "metadata": {
    "id": "305ae143-e1cd-4f54-b023-fda650d798a5"
   },
   "source": [
    "### Prepare dataset for model training"
   ]
  },
  {
   "cell_type": "markdown",
   "id": "747d3239-fb39-4b38-b45d-343e6efcfc56",
   "metadata": {
    "id": "747d3239-fb39-4b38-b45d-343e6efcfc56"
   },
   "source": [
    "#### Train-Val split"
   ]
  },
  {
   "cell_type": "code",
   "execution_count": 75,
   "id": "21e83985-0188-4fca-a6d2-df476dd9215f",
   "metadata": {
    "executionInfo": {
     "elapsed": 197,
     "status": "ok",
     "timestamp": 1732804131605,
     "user": {
      "displayName": "Carl Bechtolsheim",
      "userId": "09155195766587467337"
     },
     "user_tz": -60
    },
    "id": "21e83985-0188-4fca-a6d2-df476dd9215f"
   },
   "outputs": [],
   "source": [
    "def train_val_split(df:pd.DataFrame,\n",
    "                     train_val_ratio: float,\n",
    "                     input_length: int) -> Tuple[pd.DataFrame]:\n",
    "    '''\n",
    "    Returns a train dataframe and a test dataframe (fold_train, fold_test)\n",
    "    from which one can sample (X,y) sequences.\n",
    "    df_train should contain all the timesteps until round(train_test_ratio * len(fold))\n",
    "    '''\n",
    "    # YOUR CODE HERE\n",
    "    # TRAIN SET\n",
    "    # ======================\n",
    "    last_train_idx = round(train_val_ratio * len(df))  # 0.66 * number of rows in the fold (66% of the fold for train)\n",
    "    fold_train = df.iloc[0:last_train_idx, :]   # 1st until last row of train set, all columns\n",
    "\n",
    "    # TEST SET\n",
    "    # ======================\n",
    "    first_val_idx = last_train_idx - input_length  # last row of train set - 2 weeks --> test set starts 2 weeks\n",
    "                                                                    # before train set ends --> overlap (not a problem with X)\n",
    "    fold_val = df.iloc[first_val_idx:, :]   # 1st until last row of val set, all columns\n",
    "\n",
    "    return (fold_train, fold_val)"
   ]
  },
  {
   "cell_type": "markdown",
   "id": "dec6c136-7156-412b-90d3-6219c30d4e98",
   "metadata": {
    "id": "dec6c136-7156-412b-90d3-6219c30d4e98"
   },
   "source": [
    "#### Sequences"
   ]
  },
  {
   "cell_type": "code",
   "execution_count": 76,
   "id": "45a92f3c-ec28-4484-a67e-6d17327daea4",
   "metadata": {
    "executionInfo": {
     "elapsed": 229,
     "status": "ok",
     "timestamp": 1732804135455,
     "user": {
      "displayName": "Carl Bechtolsheim",
      "userId": "09155195766587467337"
     },
     "user_tz": -60
    },
    "id": "45a92f3c-ec28-4484-a67e-6d17327daea4"
   },
   "outputs": [],
   "source": [
    "def get_Xi_yi(\n",
    "    df:pd.DataFrame,\n",
    "    input_length:int,  # 120\n",
    "    output_length:int):  # 120\n",
    "    '''\n",
    "    - given a fold, it returns one sequence (X_i, y_i)\n",
    "    - with the starting point of the sequence being chosen at random\n",
    "    '''\n",
    "    # YOUR CODE\n",
    "    first_possible_start = 0                                    # the +1 accounts for the index, that is exclusive.\n",
    "    last_possible_start = len(df) - (input_length + output_length) + 1    # It can start as long as there are still\n",
    "                                                                             # 120 + 1 days after the 1st day.\n",
    "    random_start = np.random.randint(first_possible_start, last_possible_start)  # np.random to pick a day inside\n",
    "                                                                                    # the possible interval.\n",
    "    X_i = df.iloc[random_start:random_start+input_length]\n",
    "\n",
    "    y_i = df.iloc[random_start+input_length:\n",
    "                  random_start+input_length+output_length][TARGET]  # creates a pd.DataFrame for the target y\n",
    "\n",
    "    return (X_i, y_i)"
   ]
  },
  {
   "cell_type": "code",
   "execution_count": 77,
   "id": "f08de9b8-bd38-407b-80f9-cbc75a368548",
   "metadata": {
    "executionInfo": {
     "elapsed": 304,
     "status": "ok",
     "timestamp": 1732804139213,
     "user": {
      "displayName": "Carl Bechtolsheim",
      "userId": "09155195766587467337"
     },
     "user_tz": -60
    },
    "id": "f08de9b8-bd38-407b-80f9-cbc75a368548"
   },
   "outputs": [],
   "source": [
    "def get_X_y(\n",
    "    df:pd.DataFrame,\n",
    "    number_of_sequences:int,\n",
    "    input_length:int,\n",
    "    output_length:int\n",
    "):\n",
    "    # YOUR CODE HERE\n",
    "    X, y = [], []  # lists for the sequences for X and y\n",
    "\n",
    "    for i in range(number_of_sequences):\n",
    "        (Xi, yi) = get_Xi_yi(df, input_length, output_length)   # calls the previous function to generate sequences X + y\n",
    "        X.append(Xi)\n",
    "        y.append(yi)\n",
    "\n",
    "    return np.array(X), np.array(y)"
   ]
  },
  {
   "cell_type": "code",
   "execution_count": 78,
   "id": "c51f6be7-5cb0-457f-96da-b4ed6f911588",
   "metadata": {
    "executionInfo": {
     "elapsed": 208,
     "status": "ok",
     "timestamp": 1732804134213,
     "user": {
      "displayName": "Carl Bechtolsheim",
      "userId": "09155195766587467337"
     },
     "user_tz": -60
    },
    "id": "c51f6be7-5cb0-457f-96da-b4ed6f911588"
   },
   "outputs": [],
   "source": [
    "#Five days as input & output length\n",
    "INPUT_LENGTH = 24 * 5 * 2 # records every hour x 24 hours\n",
    "                      # for 5 days\n",
    "OUTPUT_LENGTH = 24\n",
    "\n",
    "NUMBER_OF_SEQUENCES_TRAIN = int(len(df) * 0.9)\n",
    "NUMBER_OF_SEQUENCES_VAL = int(len(df) * 0.1)"
   ]
  },
  {
   "cell_type": "code",
   "execution_count": 79,
   "id": "c7846297-b8c9-43ea-9bf4-99265cd5efc5",
   "metadata": {
    "executionInfo": {
     "elapsed": 229,
     "status": "ok",
     "timestamp": 1732804137737,
     "user": {
      "displayName": "Carl Bechtolsheim",
      "userId": "09155195766587467337"
     },
     "user_tz": -60
    },
    "id": "c7846297-b8c9-43ea-9bf4-99265cd5efc5"
   },
   "outputs": [],
   "source": [
    "TRAIN_VAL_RATIO = 0.9\n",
    "df_train, df_val = train_val_split(df, TRAIN_VAL_RATIO, INPUT_LENGTH)\n",
    "\n"
   ]
  },
  {
   "cell_type": "code",
   "execution_count": 80,
   "id": "0315ca7f-5919-42f7-9620-46195607d9f4",
   "metadata": {
    "executionInfo": {
     "elapsed": 7500,
     "status": "ok",
     "timestamp": 1732804148356,
     "user": {
      "displayName": "Carl Bechtolsheim",
      "userId": "09155195766587467337"
     },
     "user_tz": -60
    },
    "id": "0315ca7f-5919-42f7-9620-46195607d9f4"
   },
   "outputs": [],
   "source": [
    "X_train, y_train = get_X_y(df_train, NUMBER_OF_SEQUENCES_TRAIN, INPUT_LENGTH, OUTPUT_LENGTH)\n",
    "X_val, y_val = get_X_y(df_val, NUMBER_OF_SEQUENCES_VAL, INPUT_LENGTH, OUTPUT_LENGTH)\n",
    "\n",
    "\n",
    "#Dropping the targets from the X (we dont want to train the model on the targets)\n",
    "X_train = X_train[:, :, :-1]\n",
    "X_val = X_val[:, :, :-1]"
   ]
  },
  {
   "cell_type": "markdown",
   "id": "fb38466f-66f8-44cb-a2a1-7a31502274ab",
   "metadata": {
    "id": "fb38466f-66f8-44cb-a2a1-7a31502274ab"
   },
   "source": [
    "##### Show data"
   ]
  },
  {
   "cell_type": "code",
   "execution_count": 81,
   "id": "623effa8-7791-469b-b7bb-b1122da7931f",
   "metadata": {
    "colab": {
     "base_uri": "https://localhost:8080/"
    },
    "executionInfo": {
     "elapsed": 216,
     "status": "ok",
     "timestamp": 1732804149788,
     "user": {
      "displayName": "Carl Bechtolsheim",
      "userId": "09155195766587467337"
     },
     "user_tz": -60
    },
    "id": "623effa8-7791-469b-b7bb-b1122da7931f",
    "outputId": "5ad24bea-82a5-4f42-96e9-e5407e47ca34"
   },
   "outputs": [
    {
     "data": {
      "text/plain": [
       "(8564, 54)"
      ]
     },
     "execution_count": 81,
     "metadata": {},
     "output_type": "execute_result"
    }
   ],
   "source": [
    "#Training set (splits the whole dataset into training and val set)\n",
    "df_train.shape"
   ]
  },
  {
   "cell_type": "code",
   "execution_count": 82,
   "id": "f73d8568-4871-43d0-ba4e-2f7e88ba6220",
   "metadata": {
    "colab": {
     "base_uri": "https://localhost:8080/"
    },
    "executionInfo": {
     "elapsed": 204,
     "status": "ok",
     "timestamp": 1732804152073,
     "user": {
      "displayName": "Carl Bechtolsheim",
      "userId": "09155195766587467337"
     },
     "user_tz": -60
    },
    "id": "f73d8568-4871-43d0-ba4e-2f7e88ba6220",
    "outputId": "2634aa90-15d2-4b01-ecff-f81be7e56377"
   },
   "outputs": [
    {
     "data": {
      "text/plain": [
       "(1191, 54)"
      ]
     },
     "execution_count": 82,
     "metadata": {},
     "output_type": "execute_result"
    }
   ],
   "source": [
    "#Validation set\n",
    "df_val.shape"
   ]
  },
  {
   "cell_type": "code",
   "execution_count": 83,
   "id": "4c910972-e5a6-4c3f-8e3c-a22e6914e976",
   "metadata": {
    "colab": {
     "base_uri": "https://localhost:8080/"
    },
    "executionInfo": {
     "elapsed": 214,
     "status": "ok",
     "timestamp": 1732804153291,
     "user": {
      "displayName": "Carl Bechtolsheim",
      "userId": "09155195766587467337"
     },
     "user_tz": -60
    },
    "id": "4c910972-e5a6-4c3f-8e3c-a22e6914e976",
    "outputId": "8beb9825-bd4b-4e1d-87d3-09300751839e"
   },
   "outputs": [
    {
     "data": {
      "text/plain": [
       "(8563, 240, 53)"
      ]
     },
     "execution_count": 83,
     "metadata": {},
     "output_type": "execute_result"
    }
   ],
   "source": [
    "#Sequences of features of df_train (Splits the training set into smaller sequences with each shape of (120, 53))\n",
    "# Train model on these features -> 53 features with 120 past hours\n",
    "X_train.shape"
   ]
  },
  {
   "cell_type": "code",
   "execution_count": 84,
   "id": "194d2870-1e62-4944-b62a-39a12d4b65bd",
   "metadata": {},
   "outputs": [],
   "source": [
    "y_train = np.expand_dims(y_train, axis=-1)"
   ]
  },
  {
   "cell_type": "code",
   "execution_count": 85,
   "id": "13c878a2-b7fa-416a-b2cb-34278e34f4af",
   "metadata": {
    "colab": {
     "base_uri": "https://localhost:8080/"
    },
    "executionInfo": {
     "elapsed": 2,
     "status": "ok",
     "timestamp": 1732804153894,
     "user": {
      "displayName": "Carl Bechtolsheim",
      "userId": "09155195766587467337"
     },
     "user_tz": -60
    },
    "id": "13c878a2-b7fa-416a-b2cb-34278e34f4af",
    "outputId": "cdfb92ff-08d9-439b-bdc8-d492fab30dcd"
   },
   "outputs": [
    {
     "data": {
      "text/plain": [
       "(8563, 24, 1)"
      ]
     },
     "execution_count": 85,
     "metadata": {},
     "output_type": "execute_result"
    }
   ],
   "source": [
    "#Sequences of corresponding targets of df_train (Splits the training set into smaller sequences with each shape of (120, 3))\n",
    "# Train model on these targets -> 3 targets with 12 next hours\n",
    "y_train.shape"
   ]
  },
  {
   "cell_type": "code",
   "execution_count": 86,
   "id": "e279d03b-c9bc-41a6-8a61-b284876d728d",
   "metadata": {
    "colab": {
     "base_uri": "https://localhost:8080/"
    },
    "executionInfo": {
     "elapsed": 204,
     "status": "ok",
     "timestamp": 1732804155213,
     "user": {
      "displayName": "Carl Bechtolsheim",
      "userId": "09155195766587467337"
     },
     "user_tz": -60
    },
    "id": "e279d03b-c9bc-41a6-8a61-b284876d728d",
    "outputId": "8f393ee9-7779-47b7-85a5-9f6847bf23be"
   },
   "outputs": [
    {
     "data": {
      "text/plain": [
       "(951, 240, 53)"
      ]
     },
     "execution_count": 86,
     "metadata": {},
     "output_type": "execute_result"
    }
   ],
   "source": [
    "#Sequences of features of df_val (Splits the val set into 750 sequences with each shape of (120, 53))\n",
    "X_val.shape"
   ]
  },
  {
   "cell_type": "code",
   "execution_count": 87,
   "id": "76473506-7b40-4192-b545-ffaef1b1f317",
   "metadata": {},
   "outputs": [],
   "source": [
    "y_val = np.expand_dims(y_val, axis=-1)"
   ]
  },
  {
   "cell_type": "code",
   "execution_count": 88,
   "id": "043cd715-e7fa-41d6-a298-c38b4bd14f77",
   "metadata": {
    "colab": {
     "base_uri": "https://localhost:8080/"
    },
    "executionInfo": {
     "elapsed": 204,
     "status": "ok",
     "timestamp": 1732804155989,
     "user": {
      "displayName": "Carl Bechtolsheim",
      "userId": "09155195766587467337"
     },
     "user_tz": -60
    },
    "id": "043cd715-e7fa-41d6-a298-c38b4bd14f77",
    "outputId": "f447b183-c5f2-4d02-b303-3cdbc9afc1d1"
   },
   "outputs": [
    {
     "data": {
      "text/plain": [
       "(951, 24, 1)"
      ]
     },
     "execution_count": 88,
     "metadata": {},
     "output_type": "execute_result"
    }
   ],
   "source": [
    "#Sequences of corresponding targets of df_val (Splits the val set into 750 sequences with each shape of (120, 3))\n",
    "y_val.shape"
   ]
  },
  {
   "cell_type": "code",
   "execution_count": 89,
   "id": "4f9e952b-49e2-42f5-9158-7f644e5c978a",
   "metadata": {},
   "outputs": [
    {
     "data": {
      "text/plain": [
       "(240, 53)"
      ]
     },
     "execution_count": 89,
     "metadata": {},
     "output_type": "execute_result"
    }
   ],
   "source": [
    "X_train.shape[1:]"
   ]
  },
  {
   "cell_type": "markdown",
   "id": "65b7f0e0-6fde-48ba-bbcd-8bebcfb18a97",
   "metadata": {
    "id": "65b7f0e0-6fde-48ba-bbcd-8bebcfb18a97",
    "jp-MarkdownHeadingCollapsed": true
   },
   "source": [
    "##### How do the dfs look like?"
   ]
  },
  {
   "cell_type": "code",
   "execution_count": null,
   "id": "a5f14745-32d0-4bf0-afbb-d20a7884cdf5",
   "metadata": {
    "id": "a5f14745-32d0-4bf0-afbb-d20a7884cdf5",
    "outputId": "a742ec96-9001-4523-8c84-5ed324d9ccdf",
    "scrolled": true
   },
   "outputs": [],
   "source": [
    "df_train"
   ]
  },
  {
   "cell_type": "code",
   "execution_count": null,
   "id": "e3c05f8c-28f5-4951-9454-5f3a839c5ce9",
   "metadata": {
    "id": "e3c05f8c-28f5-4951-9454-5f3a839c5ce9",
    "outputId": "6cd1a49e-b49c-4f56-8b12-860ed9137294",
    "scrolled": true
   },
   "outputs": [],
   "source": [
    "df_val"
   ]
  },
  {
   "cell_type": "code",
   "execution_count": null,
   "id": "d04eb7fc-41ad-4eb4-8bb7-ab14c907cc0b",
   "metadata": {
    "id": "d04eb7fc-41ad-4eb4-8bb7-ab14c907cc0b",
    "outputId": "43f78895-a30e-4d19-9fc1-0fc3b8c80caf",
    "scrolled": true
   },
   "outputs": [],
   "source": [
    "X_train"
   ]
  },
  {
   "cell_type": "code",
   "execution_count": null,
   "id": "8071b848-cc72-481a-a8dc-e1f2f4807c00",
   "metadata": {
    "id": "8071b848-cc72-481a-a8dc-e1f2f4807c00",
    "outputId": "6625c5eb-a4e4-42a1-bfca-9f801967ab62",
    "scrolled": true
   },
   "outputs": [],
   "source": [
    "y_train"
   ]
  },
  {
   "cell_type": "code",
   "execution_count": null,
   "id": "5e3d7aa2-666b-4e1f-8aaa-96157878c060",
   "metadata": {
    "id": "5e3d7aa2-666b-4e1f-8aaa-96157878c060",
    "outputId": "c2c913d0-2298-4a81-d1b4-64ae243a2bb5",
    "scrolled": true
   },
   "outputs": [],
   "source": [
    "X_val"
   ]
  },
  {
   "cell_type": "code",
   "execution_count": null,
   "id": "3109faf3-3c96-4b29-a300-28e790aa1645",
   "metadata": {
    "id": "3109faf3-3c96-4b29-a300-28e790aa1645",
    "outputId": "b190c73f-82a2-4183-810e-f2f547d531f2",
    "scrolled": true
   },
   "outputs": [],
   "source": [
    "y_val"
   ]
  },
  {
   "cell_type": "markdown",
   "id": "9940b09b-b8d9-483d-8631-2f96c4f58306",
   "metadata": {
    "id": "9940b09b-b8d9-483d-8631-2f96c4f58306",
    "jp-MarkdownHeadingCollapsed": true
   },
   "source": [
    "### Train model on mini sequences"
   ]
  },
  {
   "cell_type": "code",
   "execution_count": null,
   "id": "54bdcac0-0dc9-472f-917d-81db5a2bc430",
   "metadata": {
    "executionInfo": {
     "elapsed": 1051,
     "status": "ok",
     "timestamp": 1732798005450,
     "user": {
      "displayName": "Carl Bechtolsheim",
      "userId": "09155195766587467337"
     },
     "user_tz": -60
    },
    "id": "54bdcac0-0dc9-472f-917d-81db5a2bc430"
   },
   "outputs": [],
   "source": [
    "from tensorflow.keras import models\n",
    "from tensorflow.keras import layers\n",
    "from tensorflow.keras import optimizers, metrics\n",
    "from tensorflow.keras.regularizers import L1L2\n",
    "\n",
    "def init_model(X_train, y_train):\n",
    "\n",
    "    # 1 - RNN architecture\n",
    "    # ======================\n",
    "    model = models.Sequential()\n",
    "\n",
    "    ## 1.1 - Recurrent Layer\n",
    "    model.add(layers.LSTM(64,\n",
    "                          activation='tanh',\n",
    "                          return_sequences = True,\n",
    "                          input_shape=(120, 53)\n",
    "\n",
    "                         ))\n",
    "\n",
    "    model.add(layers.LSTM(units=32, activation='tanh'))\n",
    "\n",
    "    ## 1.2 Hidden layer\n",
    "    model.add(layers.Dense(10, activation=\"linear\"))\n",
    "\n",
    "    ## 1.2 - Predictive Dense Layers\n",
    "    output_length = y_train.shape[1]\n",
    "    model.add(layers.Dense(output_length*3, activation='linear'))  # Flatten the output\n",
    "    model.add(layers.Reshape((output_length, 3)))  # Reshape to (12, 3)\n",
    "\n",
    "\n",
    "    # 2 - Compiler\n",
    "    # ======================\n",
    "    adam = optimizers.Adam(learning_rate=0.005)\n",
    "    model.compile(loss='mse', optimizer=adam, metrics=[\"mae\"])\n",
    "\n",
    "    return model"
   ]
  },
  {
   "cell_type": "code",
   "execution_count": null,
   "id": "e1f13808-1de1-4329-942a-28a3999a614e",
   "metadata": {
    "executionInfo": {
     "elapsed": 378,
     "status": "ok",
     "timestamp": 1732797742772,
     "user": {
      "displayName": "Carl Bechtolsheim",
      "userId": "09155195766587467337"
     },
     "user_tz": -60
    },
    "id": "e1f13808-1de1-4329-942a-28a3999a614e"
   },
   "outputs": [],
   "source": [
    "from tensorflow.keras import models\n",
    "from tensorflow.keras import layers\n",
    "from tensorflow.keras import optimizers, metrics\n",
    "from tensorflow.keras.regularizers import L1L2\n",
    "\n",
    "def init_model(X_train, y_train):\n",
    "\n",
    "    # 1 - RNN architecture\n",
    "    # ======================\n",
    "    model = models.Sequential()\n",
    "\n",
    "    ## 1.1 - Recurrent Layers\n",
    "    model.add(layers.LSTM(64,\n",
    "                          activation='tanh',\n",
    "                          return_sequences=True,  # Keep output for each time step\n",
    "                          input_shape=(120, 53)))\n",
    "\n",
    "    model.add(layers.LSTM(32,\n",
    "                          activation='tanh',\n",
    "                          return_sequences=True))  # Keep the sequence dimension\n",
    "\n",
    "    ## 1.2 - Hidden Dense Layer\n",
    "    model.add(layers.TimeDistributed(layers.Dense(64, activation=\"relu\")))  # Apply to each time step\n",
    "\n",
    "    ## 1.3 - Predictive Dense Layer\n",
    "    output_length = y_train.shape[1]  # 12 future steps\n",
    "    num_targets = y_train.shape[2]    # 3 targets\n",
    "    model.add(layers.TimeDistributed(layers.Dense(num_targets, activation='linear')))  # Directly output 3 targets\n",
    "\n",
    "    # 2 - Compiler\n",
    "    # ======================\n",
    "    adam = optimizers.Adam(learning_rate=0.005)\n",
    "    model.compile(loss='mse', optimizer=adam, metrics=[\"mae\"])\n",
    "\n",
    "    return model\n"
   ]
  },
  {
   "cell_type": "code",
   "execution_count": null,
   "id": "0p9w-eQnzjJo",
   "metadata": {
    "executionInfo": {
     "elapsed": 656,
     "status": "ok",
     "timestamp": 1732798933139,
     "user": {
      "displayName": "Carl Bechtolsheim",
      "userId": "09155195766587467337"
     },
     "user_tz": -60
    },
    "id": "0p9w-eQnzjJo"
   },
   "outputs": [],
   "source": [
    "from tensorflow.keras.metrics import MeanAbsoluteError\n",
    "from tensorflow.keras import regularizers\n",
    "\n",
    "\n",
    "def init_model(X_train, y_train):\n",
    "\n",
    "    # 1 - RNN architecture\n",
    "    # ======================\n",
    "    model = models.Sequential()\n",
    "\n",
    "    ## 1.1 - Recurrent Layers\n",
    "    model.add(layers.LSTM(32,\n",
    "                          activation='tanh',\n",
    "                          return_sequences=True,\n",
    "                          input_shape=(120, 53),\n",
    "                          kernel_regularizer=regularizers.l2(0.01)))\n",
    "\n",
    "    model.add(layers.Dropout(0.3))\n",
    "\n",
    "    model.add(layers.LSTM(16, activation='tanh', return_sequences=True))\n",
    "\n",
    "    ## 1.2 - Slice the output to focus only on the last 12 time steps\n",
    "    model.add(layers.Lambda(lambda x: x[:, -12:, :]))  # Keep only the last 12 time steps\n",
    "\n",
    "    ## 1.3 - Hidden Dense Layer\n",
    "    model.add(layers.TimeDistributed(layers.Dense(64, activation=\"relu\")))\n",
    "\n",
    "    ## 1.4 - Predictive Dense Layer\n",
    "    num_targets = y_train.shape[2]    # 3 targets\n",
    "    model.add(layers.TimeDistributed(layers.Dense(num_targets, activation='linear')))\n",
    "\n",
    "    # 2 - Compiler\n",
    "    # ======================\n",
    "    adam = optimizers.Adam(learning_rate=0.005)\n",
    "    model.compile(loss='mse',\n",
    "                  optimizer=adam,\n",
    "                  metrics=[\n",
    "                      MeanAbsoluteError(name=\"mae_target_1\"),\n",
    "                      MeanAbsoluteError(name=\"mae_target_2\"),\n",
    "                      MeanAbsoluteError(name=\"mae_target_3\")\n",
    "                  ])\n",
    "\n",
    "\n",
    "    return model\n"
   ]
  },
  {
   "cell_type": "code",
   "execution_count": null,
   "id": "5042b4c8-4dd0-4bd1-87e6-208d22332a1d",
   "metadata": {
    "colab": {
     "base_uri": "https://localhost:8080/",
     "height": 289
    },
    "executionInfo": {
     "elapsed": 1030,
     "status": "ok",
     "timestamp": 1732798023785,
     "user": {
      "displayName": "Carl Bechtolsheim",
      "userId": "09155195766587467337"
     },
     "user_tz": -60
    },
    "id": "5042b4c8-4dd0-4bd1-87e6-208d22332a1d",
    "outputId": "7437d3e2-f865-4f53-ca59-5aea31dd87fe"
   },
   "outputs": [],
   "source": [
    "model = init_model(X_train, y_train)\n",
    "model.summary()"
   ]
  },
  {
   "cell_type": "code",
   "execution_count": null,
   "id": "1769cea7-9880-4747-8ffd-c08b9a58fcab",
   "metadata": {
    "executionInfo": {
     "elapsed": 437,
     "status": "ok",
     "timestamp": 1732798634964,
     "user": {
      "displayName": "Carl Bechtolsheim",
      "userId": "09155195766587467337"
     },
     "user_tz": -60
    },
    "id": "1769cea7-9880-4747-8ffd-c08b9a58fcab"
   },
   "outputs": [],
   "source": [
    "from tensorflow.keras.callbacks import EarlyStopping\n",
    "import tensorflow as tf\n",
    "from typing import Tuple\n",
    "\n",
    "def fit_model(model: tf.keras.Model, verbose=1) -> Tuple[tf.keras.Model, dict]:\n",
    "\n",
    "    es = EarlyStopping(monitor = \"val_loss\",\n",
    "                      patience = 15,\n",
    "                      mode = \"min\",\n",
    "                      restore_best_weights = True)\n",
    "\n",
    "\n",
    "    history = model.fit(X_train, y_train,\n",
    "                        validation_data=(X_val, y_val),\n",
    "                        shuffle = False,\n",
    "                        batch_size = 32,\n",
    "                        epochs = 500,\n",
    "                        callbacks = [es],\n",
    "                        verbose = verbose)\n",
    "\n",
    "    return model, history"
   ]
  },
  {
   "cell_type": "code",
   "execution_count": null,
   "id": "2d33aa42-5532-4297-a98a-9349e3dac019",
   "metadata": {
    "colab": {
     "base_uri": "https://localhost:8080/",
     "height": 1000
    },
    "executionInfo": {
     "elapsed": 142497,
     "status": "ok",
     "timestamp": 1732798255054,
     "user": {
      "displayName": "Carl Bechtolsheim",
      "userId": "09155195766587467337"
     },
     "user_tz": -60
    },
    "id": "2d33aa42-5532-4297-a98a-9349e3dac019",
    "outputId": "11b97888-8122-40a1-d623-fce07a27f8a5"
   },
   "outputs": [],
   "source": [
    "model = init_model(X_train, y_train)\n",
    "model.summary()\n",
    "\n",
    "# 2 - Training\n",
    "# ====================================\n",
    "model, history = fit_model(model)"
   ]
  },
  {
   "cell_type": "code",
   "execution_count": null,
   "id": "ZsQcZ3wp02yt",
   "metadata": {
    "colab": {
     "base_uri": "https://localhost:8080/",
     "height": 963
    },
    "executionInfo": {
     "elapsed": 37783,
     "status": "ok",
     "timestamp": 1732798974627,
     "user": {
      "displayName": "Carl Bechtolsheim",
      "userId": "09155195766587467337"
     },
     "user_tz": -60
    },
    "id": "ZsQcZ3wp02yt",
    "outputId": "c500178d-244e-41ee-9b76-2b675f84a9a7"
   },
   "outputs": [],
   "source": [
    "model = init_model(X_train, y_train)\n",
    "model.summary()\n",
    "\n",
    "# 2 - Training\n",
    "# ====================================\n",
    "model, history = fit_model(model)"
   ]
  },
  {
   "cell_type": "code",
   "execution_count": null,
   "id": "8ddb1964-b96b-4266-9c0b-4c590b159ff4",
   "metadata": {
    "id": "8ddb1964-b96b-4266-9c0b-4c590b159ff4"
   },
   "outputs": [],
   "source": []
  },
  {
   "cell_type": "markdown",
   "id": "iaLSFGQn4M4f",
   "metadata": {
    "id": "iaLSFGQn4M4f"
   },
   "source": [
    "#### One model for each feature"
   ]
  },
  {
   "cell_type": "markdown",
   "id": "UeND6u805Bi-",
   "metadata": {
    "id": "UeND6u805Bi-",
    "jp-MarkdownHeadingCollapsed": true
   },
   "source": [
    "##### PV"
   ]
  },
  {
   "cell_type": "code",
   "execution_count": null,
   "id": "51857488-265e-4c47-9099-7bfcfc046f99",
   "metadata": {
    "colab": {
     "base_uri": "https://localhost:8080/"
    },
    "executionInfo": {
     "elapsed": 851,
     "status": "ok",
     "timestamp": 1732799229501,
     "user": {
      "displayName": "Carl Bechtolsheim",
      "userId": "09155195766587467337"
     },
     "user_tz": -60
    },
    "id": "51857488-265e-4c47-9099-7bfcfc046f99",
    "outputId": "8c31f9ae-6260-4e09-df1e-1e1b737c4e8b"
   },
   "outputs": [],
   "source": [
    "y_train.shape"
   ]
  },
  {
   "cell_type": "code",
   "execution_count": null,
   "id": "444f4376-d0b9-4248-95f9-97496cf3ecf4",
   "metadata": {
    "colab": {
     "base_uri": "https://localhost:8080/"
    },
    "executionInfo": {
     "elapsed": 904,
     "status": "ok",
     "timestamp": 1732799252283,
     "user": {
      "displayName": "Carl Bechtolsheim",
      "userId": "09155195766587467337"
     },
     "user_tz": -60
    },
    "id": "444f4376-d0b9-4248-95f9-97496cf3ecf4",
    "outputId": "54901bb1-5737-4596-e129-63261e6fc521"
   },
   "outputs": [],
   "source": [
    "y_train[:, :, 0].shape"
   ]
  },
  {
   "cell_type": "code",
   "execution_count": null,
   "id": "KyMm2j-A4mxc",
   "metadata": {
    "executionInfo": {
     "elapsed": 2,
     "status": "ok",
     "timestamp": 1732801403926,
     "user": {
      "displayName": "Carl Bechtolsheim",
      "userId": "09155195766587467337"
     },
     "user_tz": -60
    },
    "id": "KyMm2j-A4mxc"
   },
   "outputs": [],
   "source": [
    "y_train_pv = y_train[:, :, 0]"
   ]
  },
  {
   "cell_type": "code",
   "execution_count": null,
   "id": "4rtI6Z_H4uNL",
   "metadata": {
    "executionInfo": {
     "elapsed": 4,
     "status": "ok",
     "timestamp": 1732801404351,
     "user": {
      "displayName": "Carl Bechtolsheim",
      "userId": "09155195766587467337"
     },
     "user_tz": -60
    },
    "id": "4rtI6Z_H4uNL"
   },
   "outputs": [],
   "source": [
    "y_train_pv = np.expand_dims(y_train_pv, axis=-1)"
   ]
  },
  {
   "cell_type": "code",
   "execution_count": null,
   "id": "kIjXNBb24u6c",
   "metadata": {
    "colab": {
     "base_uri": "https://localhost:8080/"
    },
    "executionInfo": {
     "elapsed": 3,
     "status": "ok",
     "timestamp": 1732801404351,
     "user": {
      "displayName": "Carl Bechtolsheim",
      "userId": "09155195766587467337"
     },
     "user_tz": -60
    },
    "id": "kIjXNBb24u6c",
    "outputId": "314bdb6f-013d-4a1e-b659-446471c90b6e"
   },
   "outputs": [],
   "source": [
    "y_train_pv.shape"
   ]
  },
  {
   "cell_type": "code",
   "execution_count": null,
   "id": "_dgPQFPj4vKM",
   "metadata": {
    "executionInfo": {
     "elapsed": 3,
     "status": "ok",
     "timestamp": 1732801406352,
     "user": {
      "displayName": "Carl Bechtolsheim",
      "userId": "09155195766587467337"
     },
     "user_tz": -60
    },
    "id": "_dgPQFPj4vKM"
   },
   "outputs": [],
   "source": [
    "y_val_pv = y_val[:,:,0]"
   ]
  },
  {
   "cell_type": "code",
   "execution_count": null,
   "id": "jbIOR9vf4vzR",
   "metadata": {
    "executionInfo": {
     "elapsed": 2,
     "status": "ok",
     "timestamp": 1732801406352,
     "user": {
      "displayName": "Carl Bechtolsheim",
      "userId": "09155195766587467337"
     },
     "user_tz": -60
    },
    "id": "jbIOR9vf4vzR"
   },
   "outputs": [],
   "source": [
    "y_val_pv = np.expand_dims(y_val_pv, axis=-1)"
   ]
  },
  {
   "cell_type": "code",
   "execution_count": null,
   "id": "mq97jt944vmz",
   "metadata": {
    "colab": {
     "base_uri": "https://localhost:8080/"
    },
    "executionInfo": {
     "elapsed": 3,
     "status": "ok",
     "timestamp": 1732801407102,
     "user": {
      "displayName": "Carl Bechtolsheim",
      "userId": "09155195766587467337"
     },
     "user_tz": -60
    },
    "id": "mq97jt944vmz",
    "outputId": "ad31cceb-fb1b-4aae-8cc4-4ad7d79f312f"
   },
   "outputs": [],
   "source": [
    "y_val_pv.shape"
   ]
  },
  {
   "cell_type": "code",
   "execution_count": null,
   "id": "flpYccB95aUz",
   "metadata": {
    "executionInfo": {
     "elapsed": 1005,
     "status": "ok",
     "timestamp": 1732801412001,
     "user": {
      "displayName": "Carl Bechtolsheim",
      "userId": "09155195766587467337"
     },
     "user_tz": -60
    },
    "id": "flpYccB95aUz"
   },
   "outputs": [],
   "source": [
    "from tensorflow.keras.metrics import MeanAbsoluteError\n",
    "from tensorflow.keras import regularizers\n",
    "\n",
    "\n",
    "def init_model(X_train, y_train):\n",
    "\n",
    "    # 1 - RNN architecture\n",
    "    # ======================\n",
    "    model = models.Sequential()\n",
    "\n",
    "    ## 1.1 - Recurrent Layers\n",
    "    model.add(layers.LSTM(32,\n",
    "                          activation='tanh',\n",
    "                          return_sequences=True,\n",
    "                          input_shape=(120, 53),\n",
    "                          kernel_regularizer=regularizers.l2(0.01)))\n",
    "\n",
    "    model.add(layers.Dropout(0.3))\n",
    "\n",
    "    model.add(layers.LSTM(16, activation='tanh', return_sequences=True))\n",
    "\n",
    "    ## 1.2 - Slice the output to focus only on the last 12 time steps\n",
    "    model.add(layers.Lambda(lambda x: x[:, -12:, :]))  # Keep only the last 12 time steps\n",
    "\n",
    "    ## 1.3 - Hidden Dense Layer\n",
    "    model.add(layers.TimeDistributed(layers.Dense(64, activation=\"relu\")))\n",
    "\n",
    "    ## 1.4 - Predictive Dense Layer\n",
    "    model.add(layers.TimeDistributed(layers.Dense(1, activation='linear')))\n",
    "\n",
    "    # 2 - Compiler\n",
    "    # ======================\n",
    "    adam = optimizers.Adam(learning_rate=0.005)\n",
    "    model.compile(loss='mse',\n",
    "                  optimizer=adam,\n",
    "                  metrics=['mae'\n",
    "                  ])\n",
    "\n",
    "\n",
    "    return model"
   ]
  },
  {
   "cell_type": "code",
   "execution_count": null,
   "id": "CuJag3iJ5aSi",
   "metadata": {
    "executionInfo": {
     "elapsed": 408,
     "status": "ok",
     "timestamp": 1732799654276,
     "user": {
      "displayName": "Carl Bechtolsheim",
      "userId": "09155195766587467337"
     },
     "user_tz": -60
    },
    "id": "CuJag3iJ5aSi"
   },
   "outputs": [],
   "source": [
    "from tensorflow.keras.callbacks import EarlyStopping\n",
    "import tensorflow as tf\n",
    "from typing import Tuple\n",
    "\n",
    "def fit_model(model: tf.keras.Model, verbose=1) -> Tuple[tf.keras.Model, dict]:\n",
    "\n",
    "    es = EarlyStopping(monitor = \"val_loss\",\n",
    "                      patience = 15,\n",
    "                      mode = \"min\",\n",
    "                      restore_best_weights = True)\n",
    "\n",
    "\n",
    "    history = model.fit(X_train, y_train_pv,\n",
    "                        validation_data=(X_val, y_val_pv),\n",
    "                        shuffle = False,\n",
    "                        batch_size = 32,\n",
    "                        epochs = 500,\n",
    "                        callbacks = [es],\n",
    "                        verbose = verbose)\n",
    "\n",
    "    return model, history"
   ]
  },
  {
   "cell_type": "code",
   "execution_count": null,
   "id": "qF6wVlHk5aQH",
   "metadata": {
    "colab": {
     "base_uri": "https://localhost:8080/",
     "height": 1000
    },
    "executionInfo": {
     "elapsed": 50861,
     "status": "ok",
     "timestamp": 1732799724800,
     "user": {
      "displayName": "Carl Bechtolsheim",
      "userId": "09155195766587467337"
     },
     "user_tz": -60
    },
    "id": "qF6wVlHk5aQH",
    "outputId": "5dbc2216-675c-40c2-ebb7-07c37a654238"
   },
   "outputs": [],
   "source": [
    "model = init_model(X_train, y_train_pv)\n",
    "model.summary()\n",
    "\n",
    "# 2 - Training\n",
    "# ====================================\n",
    "model, history = fit_model(model)"
   ]
  },
  {
   "cell_type": "code",
   "execution_count": null,
   "id": "srWds4an5aNo",
   "metadata": {
    "id": "srWds4an5aNo"
   },
   "outputs": [],
   "source": []
  },
  {
   "cell_type": "markdown",
   "id": "aX6Q490G6kH0",
   "metadata": {
    "id": "aX6Q490G6kH0"
   },
   "source": [
    "## Consumption"
   ]
  },
  {
   "cell_type": "code",
   "execution_count": null,
   "id": "8d1b1046-6c4d-4dfc-80d4-57cc7b44e396",
   "metadata": {},
   "outputs": [],
   "source": [
    "y_train.shape"
   ]
  },
  {
   "cell_type": "code",
   "execution_count": 90,
   "id": "IlfeMv9i7MXd",
   "metadata": {
    "executionInfo": {
     "elapsed": 583,
     "status": "ok",
     "timestamp": 1732801432655,
     "user": {
      "displayName": "Carl Bechtolsheim",
      "userId": "09155195766587467337"
     },
     "user_tz": -60
    },
    "id": "IlfeMv9i7MXd"
   },
   "outputs": [],
   "source": [
    "from tensorflow.keras.metrics import MeanAbsoluteError\n",
    "from tensorflow.keras import regularizers\n",
    "from tensorflow.keras import models\n",
    "from tensorflow.keras import layers\n",
    "from tensorflow.keras import optimizers, metrics\n",
    "from tensorflow.keras.regularizers import L1L2\n",
    "\n",
    "input_shape = X_train.shape[1:]\n",
    "def init_model(X_train, y_train):\n",
    "\n",
    "    # 1 - RNN architecture\n",
    "    # ======================\n",
    "    model = models.Sequential()\n",
    "\n",
    "    ## 1.1 - Recurrent Layers\n",
    "    model.add(layers.LSTM(32,\n",
    "                          activation='tanh',\n",
    "                          return_sequences=True,\n",
    "                          input_shape=input_shape,\n",
    "                          kernel_regularizer=regularizers.l2(0.02)))\n",
    "\n",
    "    model.add(layers.Dropout(0.3))\n",
    "\n",
    "    model.add(layers.LSTM(16, activation='tanh', return_sequences=True))\n",
    "\n",
    "\n",
    "    ## 1.2 - Slice the output to focus only on the last 12 time steps\n",
    "    model.add(layers.Lambda(lambda x: x[:, -24:, :]))  # Keep only the last 12 time steps\n",
    "\n",
    "    ## 1.3 - Hidden Dense Layer\n",
    "    model.add(layers.TimeDistributed(layers.Dense(32, activation=\"relu\")))\n",
    "\n",
    "    ## 1.4 - Predictive Dense Layer\n",
    "    model.add(layers.TimeDistributed(layers.Dense(1, activation='linear')))\n",
    "\n",
    "    # 2 - Compiler\n",
    "    # ======================\n",
    "    adam = optimizers.Adam(learning_rate=0.005)\n",
    "    model.compile(loss='mse',\n",
    "                  optimizer=adam,\n",
    "                  metrics=['mae'\n",
    "                  ])\n",
    "\n",
    "\n",
    "    return model"
   ]
  },
  {
   "cell_type": "code",
   "execution_count": 91,
   "id": "6Ss1v50D7N1I",
   "metadata": {
    "executionInfo": {
     "elapsed": 795,
     "status": "ok",
     "timestamp": 1732801167059,
     "user": {
      "displayName": "Carl Bechtolsheim",
      "userId": "09155195766587467337"
     },
     "user_tz": -60
    },
    "id": "6Ss1v50D7N1I"
   },
   "outputs": [],
   "source": [
    "from tensorflow.keras.callbacks import EarlyStopping\n",
    "import tensorflow as tf\n",
    "from typing import Tuple\n",
    "\n",
    "def fit_model(model: tf.keras.Model, verbose=1) -> Tuple[tf.keras.Model, dict]:\n",
    "\n",
    "    es = EarlyStopping(monitor = \"val_loss\",\n",
    "                      patience = 15,\n",
    "                      mode = \"min\",\n",
    "                      restore_best_weights = True)\n",
    "\n",
    "\n",
    "    history = model.fit(X_train, y_train,\n",
    "                        validation_data=(X_val, y_val),\n",
    "                        shuffle = False,\n",
    "                        batch_size = 32,\n",
    "                        epochs = 500,\n",
    "                        callbacks = [es],\n",
    "                        verbose = verbose)\n",
    "\n",
    "    return model, history"
   ]
  },
  {
   "cell_type": "code",
   "execution_count": 92,
   "id": "47f8a94d-263c-418b-a4dc-95d836cb69e5",
   "metadata": {},
   "outputs": [
    {
     "name": "stdout",
     "output_type": "stream",
     "text": [
      "Model: \"sequential_2\"\n",
      "_________________________________________________________________\n",
      " Layer (type)                Output Shape              Param #   \n",
      "=================================================================\n",
      " lstm_4 (LSTM)               (None, 240, 32)           11008     \n",
      "                                                                 \n",
      " dropout_2 (Dropout)         (None, 240, 32)           0         \n",
      "                                                                 \n",
      " lstm_5 (LSTM)               (None, 240, 16)           3136      \n",
      "                                                                 \n",
      " lambda_2 (Lambda)           (None, 24, 16)            0         \n",
      "                                                                 \n",
      " time_distributed_4 (TimeDis  (None, 24, 32)           544       \n",
      " tributed)                                                       \n",
      "                                                                 \n",
      " time_distributed_5 (TimeDis  (None, 24, 1)            33        \n",
      " tributed)                                                       \n",
      "                                                                 \n",
      "=================================================================\n",
      "Total params: 14,721\n",
      "Trainable params: 14,721\n",
      "Non-trainable params: 0\n",
      "_________________________________________________________________\n",
      "Epoch 1/500\n",
      "268/268 [==============================] - 42s 130ms/step - loss: 78.7381 - mae: 6.1808 - val_loss: 193.9332 - val_mae: 10.5904\n",
      "Epoch 2/500\n",
      "268/268 [==============================] - 52s 189ms/step - loss: 45.1828 - mae: 4.3999 - val_loss: 98.8459 - val_mae: 6.3262\n",
      "Epoch 3/500\n",
      "268/268 [==============================] - 34s 127ms/step - loss: 31.3410 - mae: 3.5864 - val_loss: 80.1305 - val_mae: 6.0737\n",
      "Epoch 4/500\n",
      "268/268 [==============================] - 32s 118ms/step - loss: 26.9146 - mae: 3.3048 - val_loss: 88.1169 - val_mae: 6.5423\n",
      "Epoch 5/500\n",
      "268/268 [==============================] - 30s 113ms/step - loss: 25.3462 - mae: 3.2075 - val_loss: 92.7294 - val_mae: 6.6279\n",
      "Epoch 6/500\n",
      "268/268 [==============================] - 32s 118ms/step - loss: 24.3275 - mae: 3.1457 - val_loss: 91.5809 - val_mae: 6.4272\n",
      "Epoch 7/500\n",
      "268/268 [==============================] - 25s 93ms/step - loss: 23.8141 - mae: 3.1161 - val_loss: 96.5548 - val_mae: 6.6797\n",
      "Epoch 8/500\n",
      "268/268 [==============================] - 25s 92ms/step - loss: 22.5088 - mae: 3.0305 - val_loss: 97.7234 - val_mae: 6.5925\n",
      "Epoch 9/500\n",
      "268/268 [==============================] - 24s 90ms/step - loss: 21.5412 - mae: 2.9781 - val_loss: 97.7901 - val_mae: 6.3862\n",
      "Epoch 10/500\n",
      "268/268 [==============================] - 25s 93ms/step - loss: 21.3547 - mae: 2.9374 - val_loss: 100.5856 - val_mae: 6.6219\n",
      "Epoch 11/500\n",
      "268/268 [==============================] - 29s 108ms/step - loss: 20.4873 - mae: 2.8981 - val_loss: 98.6101 - val_mae: 6.7022\n",
      "Epoch 12/500\n",
      "268/268 [==============================] - 35s 132ms/step - loss: 19.6938 - mae: 2.8465 - val_loss: 101.1274 - val_mae: 6.7519\n",
      "Epoch 13/500\n",
      "268/268 [==============================] - 28s 103ms/step - loss: 19.2429 - mae: 2.8244 - val_loss: 88.5938 - val_mae: 5.9926\n",
      "Epoch 14/500\n",
      "268/268 [==============================] - 27s 99ms/step - loss: 18.2190 - mae: 2.7617 - val_loss: 97.8730 - val_mae: 6.6759\n",
      "Epoch 15/500\n",
      "268/268 [==============================] - 25s 93ms/step - loss: 18.4506 - mae: 2.7717 - val_loss: 104.6872 - val_mae: 6.8029\n",
      "Epoch 16/500\n",
      "268/268 [==============================] - 25s 94ms/step - loss: 17.3407 - mae: 2.7057 - val_loss: 97.8744 - val_mae: 6.4395\n",
      "Epoch 17/500\n",
      "268/268 [==============================] - 26s 97ms/step - loss: 18.8834 - mae: 2.7808 - val_loss: 100.9772 - val_mae: 6.5261\n",
      "Epoch 18/500\n",
      "268/268 [==============================] - 24s 89ms/step - loss: 16.8946 - mae: 2.6599 - val_loss: 94.4873 - val_mae: 6.4068\n"
     ]
    }
   ],
   "source": [
    "model = init_model(X_train, y_train)\n",
    "model.summary()\n",
    "\n",
    "# 2 - Training\n",
    "# ====================================\n",
    "model, history = fit_model(model)"
   ]
  },
  {
   "cell_type": "code",
   "execution_count": 33,
   "id": "c539dd23-eb1d-4473-97b9-e4344dcb3b26",
   "metadata": {},
   "outputs": [
    {
     "name": "stderr",
     "output_type": "stream",
     "text": [
      "2024-12-02 15:58:23.281695: I tensorflow/core/platform/cpu_feature_guard.cc:193] This TensorFlow binary is optimized with oneAPI Deep Neural Network Library (oneDNN) to use the following CPU instructions in performance-critical operations:  AVX2 FMA\n",
      "To enable them in other operations, rebuild TensorFlow with the appropriate compiler flags.\n"
     ]
    },
    {
     "name": "stdout",
     "output_type": "stream",
     "text": [
      "Model: \"sequential\"\n",
      "_________________________________________________________________\n",
      " Layer (type)                Output Shape              Param #   \n",
      "=================================================================\n",
      " lstm (LSTM)                 (None, 240, 32)           11008     \n",
      "                                                                 \n",
      " dropout (Dropout)           (None, 240, 32)           0         \n",
      "                                                                 \n",
      " lstm_1 (LSTM)               (None, 240, 16)           3136      \n",
      "                                                                 \n",
      " lambda (Lambda)             (None, 24, 16)            0         \n",
      "                                                                 \n",
      " time_distributed (TimeDistr  (None, 24, 32)           544       \n",
      " ibuted)                                                         \n",
      "                                                                 \n",
      " time_distributed_1 (TimeDis  (None, 24, 1)            33        \n",
      " tributed)                                                       \n",
      "                                                                 \n",
      "=================================================================\n",
      "Total params: 14,721\n",
      "Trainable params: 14,721\n",
      "Non-trainable params: 0\n",
      "_________________________________________________________________\n",
      "Epoch 1/500\n",
      "268/268 [==============================] - 63s 210ms/step - loss: 75.4560 - mae: 6.0368 - val_loss: 188.7526 - val_mae: 10.5018\n",
      "Epoch 2/500\n",
      "268/268 [==============================] - 56s 208ms/step - loss: 48.9613 - mae: 4.6789 - val_loss: 86.7773 - val_mae: 5.6142\n",
      "Epoch 3/500\n",
      "268/268 [==============================] - 51s 190ms/step - loss: 32.7468 - mae: 3.6695 - val_loss: 80.3145 - val_mae: 5.8170\n",
      "Epoch 4/500\n",
      "268/268 [==============================] - 49s 181ms/step - loss: 28.2517 - mae: 3.4012 - val_loss: 83.6810 - val_mae: 6.2629\n",
      "Epoch 5/500\n",
      "268/268 [==============================] - 50s 188ms/step - loss: 26.9245 - mae: 3.2960 - val_loss: 94.4213 - val_mae: 7.2192\n",
      "Epoch 6/500\n",
      "268/268 [==============================] - 50s 188ms/step - loss: 25.6364 - mae: 3.2061 - val_loss: 99.6860 - val_mae: 6.9135\n",
      "Epoch 7/500\n",
      "268/268 [==============================] - 53s 199ms/step - loss: 25.0998 - mae: 3.1749 - val_loss: 99.3349 - val_mae: 6.7705\n",
      "Epoch 8/500\n",
      "268/268 [==============================] - 48s 181ms/step - loss: 23.9842 - mae: 3.1102 - val_loss: 96.3395 - val_mae: 6.5193\n",
      "Epoch 9/500\n",
      "268/268 [==============================] - 55s 205ms/step - loss: 23.2041 - mae: 3.0544 - val_loss: 93.4723 - val_mae: 6.4408\n",
      "Epoch 10/500\n",
      "268/268 [==============================] - 54s 202ms/step - loss: 22.5471 - mae: 3.0189 - val_loss: 95.0445 - val_mae: 6.3784\n",
      "Epoch 11/500\n",
      "268/268 [==============================] - 45s 168ms/step - loss: 21.5422 - mae: 2.9691 - val_loss: 98.3800 - val_mae: 6.5052\n",
      "Epoch 12/500\n",
      "268/268 [==============================] - 45s 170ms/step - loss: 20.2960 - mae: 2.9034 - val_loss: 90.6345 - val_mae: 6.0684\n",
      "Epoch 13/500\n",
      "268/268 [==============================] - 52s 195ms/step - loss: 19.8330 - mae: 2.8866 - val_loss: 101.3050 - val_mae: 6.7034\n",
      "Epoch 14/500\n",
      "268/268 [==============================] - 35s 131ms/step - loss: 18.6645 - mae: 2.8197 - val_loss: 88.8372 - val_mae: 5.9495\n",
      "Epoch 15/500\n",
      "268/268 [==============================] - 46s 171ms/step - loss: 20.9200 - mae: 2.9180 - val_loss: 158.9400 - val_mae: 10.1002\n",
      "Epoch 16/500\n",
      "268/268 [==============================] - 39s 145ms/step - loss: 28.0335 - mae: 3.3270 - val_loss: 96.0290 - val_mae: 6.4497\n",
      "Epoch 17/500\n",
      "268/268 [==============================] - 40s 151ms/step - loss: 23.0478 - mae: 3.0379 - val_loss: 94.3229 - val_mae: 6.2087\n",
      "Epoch 18/500\n",
      "268/268 [==============================] - 38s 141ms/step - loss: 22.0917 - mae: 2.9886 - val_loss: 95.2997 - val_mae: 6.2233\n"
     ]
    }
   ],
   "source": [
    "model = init_model(X_train, y_train)\n",
    "model.summary()\n",
    "\n",
    "# 2 - Training\n",
    "# ====================================\n",
    "model, history = fit_model(model)"
   ]
  },
  {
   "cell_type": "code",
   "execution_count": 98,
   "id": "c469e5e8-263a-405b-a591-99d7ad879a33",
   "metadata": {},
   "outputs": [],
   "source": [
    "x_temp = X_val[0]"
   ]
  },
  {
   "cell_type": "code",
   "execution_count": 103,
   "id": "f6c24ec9-3277-4877-a663-7cf4f65fe255",
   "metadata": {},
   "outputs": [],
   "source": [
    "x_temp = np.expand_dims(x_temp, axis=0)"
   ]
  },
  {
   "cell_type": "code",
   "execution_count": 104,
   "id": "9a0137a6-5678-4a09-87c1-67f0c8f97fb9",
   "metadata": {},
   "outputs": [
    {
     "data": {
      "text/plain": [
       "(1, 240, 53)"
      ]
     },
     "execution_count": 104,
     "metadata": {},
     "output_type": "execute_result"
    }
   ],
   "source": [
    "x_temp.shape"
   ]
  },
  {
   "cell_type": "code",
   "execution_count": 108,
   "id": "023007b6-5dd9-4814-b27e-6eb6d9daf9af",
   "metadata": {},
   "outputs": [
    {
     "name": "stdout",
     "output_type": "stream",
     "text": [
      "1/1 [==============================] - 0s 104ms/step\n"
     ]
    }
   ],
   "source": [
    "pred = model.predict(x_temp)"
   ]
  },
  {
   "cell_type": "code",
   "execution_count": 109,
   "id": "30b1d6a2-406c-4fd6-9627-6aada795f35a",
   "metadata": {},
   "outputs": [
    {
     "data": {
      "text/plain": [
       "array([[26.542133],\n",
       "       [24.893875],\n",
       "       [24.1705  ],\n",
       "       [23.999874],\n",
       "       [23.873137],\n",
       "       [24.307968],\n",
       "       [25.709177],\n",
       "       [27.953548],\n",
       "       [33.35124 ],\n",
       "       [36.658524],\n",
       "       [35.119118],\n",
       "       [30.864096],\n",
       "       [26.67113 ],\n",
       "       [23.850672],\n",
       "       [22.142677],\n",
       "       [21.160099],\n",
       "       [20.61352 ],\n",
       "       [20.344252],\n",
       "       [20.35854 ],\n",
       "       [20.779062],\n",
       "       [21.855276],\n",
       "       [23.639765],\n",
       "       [25.492186],\n",
       "       [26.796862]], dtype=float32)"
      ]
     },
     "execution_count": 109,
     "metadata": {},
     "output_type": "execute_result"
    }
   ],
   "source": [
    "pred[0]"
   ]
  },
  {
   "cell_type": "code",
   "execution_count": null,
   "id": "3d3e42a9-1898-4417-9ac2-0702aaa28362",
   "metadata": {},
   "outputs": [],
   "source": [
    "y_train.shape"
   ]
  },
  {
   "cell_type": "code",
   "execution_count": null,
   "id": "79d45d35-54f2-4fc4-aa61-720e6cf45863",
   "metadata": {},
   "outputs": [],
   "source": [
    "y_test[:12]"
   ]
  },
  {
   "cell_type": "code",
   "execution_count": null,
   "id": "b3b843c4-cbeb-4b39-9f83-8cbe5d7222f7",
   "metadata": {},
   "outputs": [],
   "source": [
    "test_data"
   ]
  },
  {
   "cell_type": "markdown",
   "id": "z6_JbAq4BXRM",
   "metadata": {
    "id": "z6_JbAq4BXRM"
   },
   "source": [
    "##### Consumption"
   ]
  },
  {
   "cell_type": "code",
   "execution_count": null,
   "id": "S3Q5NXNg7Nvb",
   "metadata": {
    "colab": {
     "base_uri": "https://localhost:8080/"
    },
    "executionInfo": {
     "elapsed": 836,
     "status": "ok",
     "timestamp": 1732801626618,
     "user": {
      "displayName": "Carl Bechtolsheim",
      "userId": "09155195766587467337"
     },
     "user_tz": -60
    },
    "id": "S3Q5NXNg7Nvb",
    "outputId": "3a4d36cc-9ccd-4fa1-88c0-9764d4593f7c"
   },
   "outputs": [],
   "source": [
    "y_train_cons = y_train[:, :, 1]\n",
    "y_train_cons = np.expand_dims(y_train_cons, axis=-1)\n",
    "y_train_cons.shape"
   ]
  },
  {
   "cell_type": "code",
   "execution_count": null,
   "id": "KJZEcqd57Nrw",
   "metadata": {
    "colab": {
     "base_uri": "https://localhost:8080/"
    },
    "executionInfo": {
     "elapsed": 4,
     "status": "ok",
     "timestamp": 1732801627177,
     "user": {
      "displayName": "Carl Bechtolsheim",
      "userId": "09155195766587467337"
     },
     "user_tz": -60
    },
    "id": "KJZEcqd57Nrw",
    "outputId": "6624e9c7-2863-4a96-b6ba-bb4caeed890b"
   },
   "outputs": [],
   "source": [
    "y_val_cons = y_val[:,:,1]\n",
    "y_val_cons = np.expand_dims(y_val_cons, axis=-1)\n",
    "y_val_cons.shape"
   ]
  },
  {
   "cell_type": "code",
   "execution_count": null,
   "id": "--_ShJOb7Nh3",
   "metadata": {
    "id": "--_ShJOb7Nh3"
   },
   "outputs": [],
   "source": [
    "def init_model(X_train, y_train):\n",
    "\n",
    "    # 1 - RNN architecture\n",
    "    # ======================\n",
    "    model = models.Sequential()\n",
    "\n",
    "    ## 1.1 - Recurrent Layers\n",
    "    model.add(layers.LSTM(32,\n",
    "                          activation='tanh',\n",
    "                          return_sequences=True,\n",
    "                          input_shape=(120, 53),\n",
    "                          kernel_regularizer=regularizers.l2(0.01)))\n",
    "\n",
    "    model.add(layers.Dropout(0.3))\n",
    "\n",
    "    model.add(layers.LSTM(16, activation='tanh', return_sequences=True))\n",
    "\n",
    "    ## 1.2 - Slice the output to focus only on the last 12 time steps\n",
    "    model.add(layers.Lambda(lambda x: x[:, -12:, :]))  # Keep only the last 12 time steps\n",
    "\n",
    "    ## 1.3 - Hidden Dense Layer\n",
    "    model.add(layers.TimeDistributed(layers.Dense(64, activation=\"relu\")))\n",
    "\n",
    "    ## 1.4 - Predictive Dense Layer\n",
    "    model.add(layers.TimeDistributed(layers.Dense(1, activation='linear')))\n",
    "\n",
    "    # 2 - Compiler\n",
    "    # ======================\n",
    "    adam = optimizers.Adam(learning_rate=0.005)\n",
    "    model.compile(loss='mse',\n",
    "                  optimizer=adam,\n",
    "                  metrics=['mae'\n",
    "                  ])\n",
    "\n",
    "\n",
    "    return model"
   ]
  },
  {
   "cell_type": "code",
   "execution_count": null,
   "id": "22Pg2ThoBsby",
   "metadata": {
    "executionInfo": {
     "elapsed": 562,
     "status": "ok",
     "timestamp": 1732801682399,
     "user": {
      "displayName": "Carl Bechtolsheim",
      "userId": "09155195766587467337"
     },
     "user_tz": -60
    },
    "id": "22Pg2ThoBsby"
   },
   "outputs": [],
   "source": [
    "from tensorflow.keras.callbacks import EarlyStopping\n",
    "import tensorflow as tf\n",
    "from typing import Tuple\n",
    "\n",
    "def fit_model(model: tf.keras.Model, verbose=1) -> Tuple[tf.keras.Model, dict]:\n",
    "\n",
    "    es = EarlyStopping(monitor = \"val_loss\",\n",
    "                      patience = 30,\n",
    "                      mode = \"min\",\n",
    "                      restore_best_weights = True)\n",
    "\n",
    "\n",
    "    history = model.fit(X_train, y_train_cons,\n",
    "                        validation_data=(X_val, y_val_cons),\n",
    "                        shuffle = False,\n",
    "                        batch_size = 32,\n",
    "                        epochs = 500,\n",
    "                        callbacks = [es],\n",
    "                        verbose = verbose)\n",
    "\n",
    "    return model, history"
   ]
  },
  {
   "cell_type": "code",
   "execution_count": null,
   "id": "VlbjJs2nBsMN",
   "metadata": {
    "colab": {
     "base_uri": "https://localhost:8080/",
     "height": 1000
    },
    "executionInfo": {
     "elapsed": 65235,
     "status": "ok",
     "timestamp": 1732801751963,
     "user": {
      "displayName": "Carl Bechtolsheim",
      "userId": "09155195766587467337"
     },
     "user_tz": -60
    },
    "id": "VlbjJs2nBsMN",
    "outputId": "982a0259-50a3-4346-bcbf-b0d45e758001"
   },
   "outputs": [],
   "source": [
    "model = init_model(X_train, y_train_cons)\n",
    "model.summary()\n",
    "\n",
    "# 2 - Training\n",
    "# ====================================\n",
    "model, history = fit_model(model)"
   ]
  },
  {
   "cell_type": "code",
   "execution_count": null,
   "id": "FbRugbeoNNFV",
   "metadata": {
    "colab": {
     "base_uri": "https://localhost:8080/"
    },
    "executionInfo": {
     "elapsed": 239,
     "status": "ok",
     "timestamp": 1732804670285,
     "user": {
      "displayName": "Carl Bechtolsheim",
      "userId": "09155195766587467337"
     },
     "user_tz": -60
    },
    "id": "FbRugbeoNNFV",
    "outputId": "399d35ff-5cd9-4329-bd2d-20f6e3a363ca"
   },
   "outputs": [],
   "source": [
    "X_train_transformed.columns"
   ]
  },
  {
   "cell_type": "markdown",
   "id": "36ce572a-3f3e-4927-bd5f-2c2c993180cf",
   "metadata": {
    "id": "36ce572a-3f3e-4927-bd5f-2c2c993180cf"
   },
   "source": [
    "## Cross Validation"
   ]
  },
  {
   "cell_type": "markdown",
   "id": "63bdd2ce-cd35-4c2e-b6de-965cb3e5ea1d",
   "metadata": {
    "id": "63bdd2ce-cd35-4c2e-b6de-965cb3e5ea1d",
    "jp-MarkdownHeadingCollapsed": true
   },
   "source": [
    "### Sequences"
   ]
  },
  {
   "cell_type": "code",
   "execution_count": null,
   "id": "849d50a4-d7a7-465b-94bc-d72ae3619eba",
   "metadata": {
    "id": "849d50a4-d7a7-465b-94bc-d72ae3619eba",
    "jp-MarkdownHeadingCollapsed": true
   },
   "outputs": [],
   "source": [
    "def get_Xi_yi(\n",
    "    df:pd.DataFrame,\n",
    "    input_length:int,  # 120\n",
    "    output_length:int):  # 120\n",
    "    '''\n",
    "    - given a fold, it returns one sequence (X_i, y_i)\n",
    "    - with the starting point of the sequence being chosen at random\n",
    "    '''\n",
    "    # YOUR CODE\n",
    "    first_possible_start = 0                                    # the +1 accounts for the index, that is exclusive.\n",
    "    last_possible_start = len(df) - (input_length + output_length) + 1    # It can start as long as there are still\n",
    "                                                                             # 120 + 1 days after the 1st day.\n",
    "    random_start = np.random.randint(first_possible_start, last_possible_start)  # np.random to pick a day inside\n",
    "                                                                                    # the possible interval.\n",
    "    X_i = df.iloc[random_start:random_start+input_length]\n",
    "\n",
    "    y_i = df.iloc[random_start+input_length:\n",
    "                  random_start+input_length+output_length][TARGET]  # creates a pd.DataFrame for the target y\n",
    "\n",
    "    return (X_i, y_i)"
   ]
  },
  {
   "cell_type": "code",
   "execution_count": null,
   "id": "0fb46021-c48c-4ee2-b4c1-51a0b70fec06",
   "metadata": {
    "id": "0fb46021-c48c-4ee2-b4c1-51a0b70fec06"
   },
   "outputs": [],
   "source": [
    "#Testing if the function works\n",
    "Xi, Yi = get_Xi_yi(\n",
    "    fold=folds[0],\n",
    "    input_length=INPUT_LENGTH,\n",
    "    output_length=OUTPUT_LENGTH)"
   ]
  },
  {
   "cell_type": "code",
   "execution_count": null,
   "id": "5fb67dd7-9f79-45d5-80a1-6085fb9c94af",
   "metadata": {
    "id": "5fb67dd7-9f79-45d5-80a1-6085fb9c94af",
    "outputId": "c2c69bed-0248-402a-d3a4-e9a0e820837f"
   },
   "outputs": [],
   "source": [
    "Xi.shape"
   ]
  },
  {
   "cell_type": "code",
   "execution_count": null,
   "id": "b6c34fa2-93c2-4735-9f4a-0d48ca451a89",
   "metadata": {
    "id": "b6c34fa2-93c2-4735-9f4a-0d48ca451a89"
   },
   "outputs": [],
   "source": [
    "### In the recap they choose a number which is bigger than the number of rows in the fold -> does that mean there are duplications???!!!\n",
    "NUMBER_OF_SEQUENCES_TRAIN = (FOLD_LENGTH - (INPUT_LENGTH + OUTPUT_LENGTH))\n",
    "NUMBER_OF_SEQUENCES_VAL = (FOLD_LENGTH - (INPUT_LENGTH + OUTPUT_LENGTH))"
   ]
  },
  {
   "cell_type": "code",
   "execution_count": null,
   "id": "dda9aaf8-433c-436f-b3cc-61ec9570a2a3",
   "metadata": {
    "id": "dda9aaf8-433c-436f-b3cc-61ec9570a2a3"
   },
   "outputs": [],
   "source": [
    "NUMBER_OF_SEQUENCES_TRAIN = len(df) - (INPUT_LENGTH + OUTPUT_LENGTH)"
   ]
  },
  {
   "cell_type": "code",
   "execution_count": null,
   "id": "8d002851-8789-4af1-80bb-186604bd996c",
   "metadata": {
    "id": "8d002851-8789-4af1-80bb-186604bd996c",
    "outputId": "2db23ae0-302b-4439-d1dc-d6c8708ad8f2"
   },
   "outputs": [],
   "source": [
    "NUMBER_OF_SEQUENCES_TRAIN"
   ]
  },
  {
   "cell_type": "code",
   "execution_count": null,
   "id": "76a660f3-f72d-48b0-becb-aa4b5f274eaf",
   "metadata": {
    "id": "76a660f3-f72d-48b0-becb-aa4b5f274eaf"
   },
   "outputs": [],
   "source": [
    "def get_X_y(\n",
    "    df:pd.DataFrame,\n",
    "    number_of_sequences:int,\n",
    "    input_length:int,\n",
    "    output_length:int\n",
    "):\n",
    "    # YOUR CODE HERE\n",
    "    X, y = [], []  # lists for the sequences for X and y\n",
    "\n",
    "    for i in range(number_of_sequences):\n",
    "        (Xi, yi) = get_Xi_yi(df, input_length, output_length)   # calls the previous function to generate sequences X + y\n",
    "        X.append(Xi)\n",
    "        y.append(yi)\n",
    "\n",
    "    return np.array(X), np.array(y)"
   ]
  },
  {
   "cell_type": "code",
   "execution_count": null,
   "id": "c90bc4c3-e937-4593-9238-15b42ec28c4e",
   "metadata": {
    "id": "c90bc4c3-e937-4593-9238-15b42ec28c4e"
   },
   "outputs": [],
   "source": [
    "seq = get_X_y(df, NUMBER_OF_SEQUENCES_TRAIN, INPUT_LENGTH, OUTPUT_LENGTH)"
   ]
  },
  {
   "cell_type": "code",
   "execution_count": null,
   "id": "273f1f71-5bcb-4af2-9130-3f12467524dd",
   "metadata": {
    "id": "273f1f71-5bcb-4af2-9130-3f12467524dd",
    "outputId": "0098b2da-f3ca-406e-d3e7-3da40dd9572d"
   },
   "outputs": [],
   "source": [
    "seq[1].shape"
   ]
  },
  {
   "cell_type": "code",
   "execution_count": null,
   "id": "033c2c97-0046-4162-b0f7-7a69a28659ce",
   "metadata": {
    "id": "033c2c97-0046-4162-b0f7-7a69a28659ce",
    "outputId": "5abc239a-1010-458a-fed8-a80258197712"
   },
   "outputs": [],
   "source": [
    "X_train.shape"
   ]
  },
  {
   "cell_type": "code",
   "execution_count": null,
   "id": "d0b0e386-e604-48d8-979c-72a44975943d",
   "metadata": {
    "id": "d0b0e386-e604-48d8-979c-72a44975943d",
    "outputId": "f0c96f33-eb30-4425-f0cc-8f9d42e70501"
   },
   "outputs": [],
   "source": [
    "y_train.shape"
   ]
  },
  {
   "cell_type": "code",
   "execution_count": null,
   "id": "7c32e3a8-e5f5-485f-87eb-2d408720a82b",
   "metadata": {
    "id": "7c32e3a8-e5f5-485f-87eb-2d408720a82b"
   },
   "outputs": [],
   "source": [
    "y_temp = y_train[:,:,0]"
   ]
  },
  {
   "cell_type": "code",
   "execution_count": null,
   "id": "7deaa3e5-f280-4a61-94f7-9a78733887f9",
   "metadata": {
    "id": "7deaa3e5-f280-4a61-94f7-9a78733887f9"
   },
   "outputs": [],
   "source": [
    "y_temp = np.expand_dims(y_temp, axis=-1)"
   ]
  },
  {
   "cell_type": "code",
   "execution_count": null,
   "id": "cab19882-f93d-4fdb-9dd9-881f1c4f4b92",
   "metadata": {
    "id": "cab19882-f93d-4fdb-9dd9-881f1c4f4b92",
    "outputId": "71700b72-a322-416b-c850-b612d91ce470"
   },
   "outputs": [],
   "source": [
    "y_temp.shape"
   ]
  },
  {
   "cell_type": "code",
   "execution_count": null,
   "id": "f32b6b77-9d57-4fd8-807a-bc360f452b5f",
   "metadata": {
    "id": "f32b6b77-9d57-4fd8-807a-bc360f452b5f"
   },
   "outputs": [],
   "source": [
    "from tensorflow.keras.callbacks import EarlyStopping\n",
    "\n",
    "def cross_validate_baseline_and_lstm():\n",
    "    '''\n",
    "    This function cross-validates\n",
    "    - the \"last seen value\" baseline model\n",
    "    - the RNN model\n",
    "    '''\n",
    "\n",
    "    list_of_mae_baseline_model = []\n",
    "    list_of_mae_recurrent_model = []\n",
    "\n",
    "    # 0 - Creating folds\n",
    "    # =========================================\n",
    "    folds = get_folds(df, FOLD_LENGTH, FOLD_STRIDE)  # function we coded to get the folds\n",
    "\n",
    "    for fold_id, fold in enumerate(folds):\n",
    "\n",
    "        # 1 - Train/val split the current fold\n",
    "        # =========================================\n",
    "        (fold_train, fold_val) = train_val_split(fold, TRAIN_VAL_RATIO, INPUT_LENGTH) # function we coded to split train/val\n",
    "\n",
    "        X_train, y_train = get_X_y(fold_train, NUMBER_OF_SEQUENCES_TRAIN, INPUT_LENGTH, OUTPUT_LENGTH)  # function we coded to get multiple\n",
    "        X_val, y_val = get_X_y(fold_val, NUMBER_OF_SEQUENCES_TRAIN, INPUT_LENGTH, OUTPUT_LENGTH)       # sequences from a fold\n",
    "\n",
    "        # 2 - Modelling\n",
    "        # =========================================\n",
    "\n",
    "        ##### Baseline Model\n",
    "        baseline_model = init_baseline()\n",
    "        mae_baseline = baseline_model.evaluate(X_val, y_val, verbose=0)[1]   # evaluating baseline model (metric)\n",
    "        list_of_mae_baseline_model.append(mae_baseline)\n",
    "        print(\"-\"*50)\n",
    "        print(f\"MAE baseline fold n°{fold_id} = {round(mae_baseline, 2)}\")\n",
    "\n",
    "        ##### LSTM Model\n",
    "        model = init_model(X_train, y_train)\n",
    "        es = EarlyStopping(monitor = \"val_mae\",\n",
    "                           mode = \"min\",\n",
    "                           patience = 3,\n",
    "                           restore_best_weights = True)\n",
    "\n",
    "        history = model.fit(X_train, y_train,\n",
    "                            validation_split = 0.3,\n",
    "                            shuffle = False,\n",
    "                            batch_size = 32,\n",
    "                            epochs = 50,\n",
    "                            callbacks = [es],\n",
    "                            verbose = 0)\n",
    "        res = model.evaluate(X_val, y_val, verbose=0)    # evaluating LSTM (metric)\n",
    "        mae_lstm = res[1]\n",
    "        list_of_mae_recurrent_model.append(mae_lstm)\n",
    "        print(f\"MAE LSTM fold n°{fold_id} = {round(mae_lstm, 2)}\")\n",
    "\n",
    "        ##### Comparison LSTM vs Baseline for the current fold\n",
    "        print(f\"🏋🏽‍♂️ improvement over baseline: {round((1 - (mae_lstm/mae_baseline))*100,2)} % \\n\")\n",
    "\n",
    "    return list_of_mae_baseline_model, list_of_mae_recurrent_model"
   ]
  },
  {
   "cell_type": "code",
   "execution_count": null,
   "id": "fb8145e9-bc06-4c5a-b499-83f9fa9ec969",
   "metadata": {
    "id": "fb8145e9-bc06-4c5a-b499-83f9fa9ec969"
   },
   "outputs": [],
   "source": [
    "###NOT IMPORTANT NOW\n",
    "\n",
    "fold_length = 24 * 7 * 16    # 24 hours * 7 days * 16 weeks (4 months)\n",
    "fold_stride = 24 * 7 * 2     # 24 hours * 7 days * 2 weeks\n",
    "train_test_ratio = 0.66"
   ]
  },
  {
   "cell_type": "code",
   "execution_count": null,
   "id": "91d7e63d-8700-4db6-a7a8-96674c88d4e4",
   "metadata": {
    "id": "91d7e63d-8700-4db6-a7a8-96674c88d4e4"
   },
   "outputs": [],
   "source": [
    "def get_folds(\n",
    "    df: pd.DataFrame,\n",
    "    fold_length: int,\n",
    "    fold_stride: int) -> List[pd.DataFrame]:\n",
    "    '''\n",
    "    This function slides through the Time Series dataframe of shape (n_timesteps, n_features) to create folds\n",
    "    - of equal `fold_length`\n",
    "    - using `fold_stride` between each fold\n",
    "\n",
    "    Returns a list of folds, each as a DataFrame\n",
    "    '''\n",
    "    # YOUR CODE HERE\n",
    "    folds = []\n",
    "    for idx in range(0, len(df)-fold_length, fold_stride): # --> also possible to get rid of the break\n",
    "    #for idx in range(0, len(df), fold_stride):   # range(start, stop, step): for each idx in our rows at every 91 days\n",
    "        # Exits the loop as soon as the last fold index would exceed the last index\n",
    "        #if (idx + fold_length) > len(df):\n",
    "            #break\n",
    "        fold = df.iloc[idx:idx + fold_length, :]  # select from row idx til last row of the fold (3 years), all the columns\n",
    "        folds.append(fold)   # append the 3 year fold to folds\n",
    "    return folds"
   ]
  }
 ],
 "metadata": {
  "accelerator": "GPU",
  "colab": {
   "collapsed_sections": [
    "52b5e3fe-a526-49e5-8932-7901292605f2",
    "4d96050d-8e2c-4842-a78d-77cc1bf047ec",
    "65b7f0e0-6fde-48ba-bbcd-8bebcfb18a97",
    "36ce572a-3f3e-4927-bd5f-2c2c993180cf"
   ],
   "gpuType": "T4",
   "provenance": []
  },
  "kernelspec": {
   "display_name": "Python 3 (ipykernel)",
   "language": "python",
   "name": "python3"
  },
  "language_info": {
   "codemirror_mode": {
    "name": "ipython",
    "version": 3
   },
   "file_extension": ".py",
   "mimetype": "text/x-python",
   "name": "python",
   "nbconvert_exporter": "python",
   "pygments_lexer": "ipython3",
   "version": "3.10.6"
  }
 },
 "nbformat": 4,
 "nbformat_minor": 5
}
