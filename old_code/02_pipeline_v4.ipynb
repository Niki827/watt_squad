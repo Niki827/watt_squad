{
 "cells": [
  {
   "cell_type": "code",
   "execution_count": 1,
   "id": "8d37693c-c8f6-418b-a102-0d6399fba0f7",
   "metadata": {},
   "outputs": [],
   "source": [
    "import pandas as pd\n",
    "import numpy as np\n",
    "\n",
    "from sklearn.pipeline import make_pipeline\n",
    "from sklearn.pipeline import make_union\n",
    "from sklearn.compose import make_column_transformer\n",
    "\n",
    "from sklearn.preprocessing import RobustScaler\n",
    "from sklearn.preprocessing import StandardScaler\n",
    "from sklearn.preprocessing import OneHotEncoder\n",
    "from sklearn.preprocessing import MinMaxScaler\n",
    "from sklearn.preprocessing import FunctionTransformer"
   ]
  },
  {
   "cell_type": "code",
   "execution_count": 2,
   "id": "adb9a035-915a-4c92-a774-e4bf84b4b4c3",
   "metadata": {},
   "outputs": [],
   "source": [
    "data = pd.read_csv(\"raw_data/train.csv\")"
   ]
  },
  {
   "cell_type": "code",
   "execution_count": 3,
   "id": "27efb045-d57c-4117-9c20-9423479c73a1",
   "metadata": {},
   "outputs": [],
   "source": [
    "f_logs = [\n",
    "    'precip_1h:mm', \n",
    "    'prob_precip_1h:p', \n",
    "    'clear_sky_rad:W',\n",
    "    'clear_sky_energy_1h:J',\n",
    "    'diffuse_rad:W', \n",
    "    'diffuse_rad_1h:Wh', \n",
    "    'direct_rad:W',\n",
    "    'direct_rad_1h:Wh', \n",
    "    'global_rad:W', \n",
    "    'global_rad_1h:Wh',\n",
    "    'wind_speed_2m:ms',\n",
    "    'wind_speed_10m:ms', \n",
    "    'wind_speed_50m:ms',\n",
    "    'wind_speed_100m:ms'\n",
    "]\n",
    "f_time = ['time']\n",
    "f_degree = ['sun_azimuth:d', 'wind_dir_2m:d', 'wind_dir_10m:d', 'wind_dir_50m:d', 'wind_dir_100m:d']\n",
    "f_ohe = ['precip_type:idx']\n",
    "f_only_scaling = [\n",
    "    't_10m:C',\n",
    "    't_50m:C',\n",
    "    't_100m:C',\n",
    "    'sun_elevation:d',\n",
    "    'sunshine_duration_1h:min',\n",
    "    'low_cloud_cover:p', \n",
    "    'medium_cloud_cover:p', \n",
    "    'high_cloud_cover:p',\n",
    "    'total_cloud_cover:p', \n",
    "    'effective_cloud_cover:p',\n",
    "    'relative_humidity_2m:p', \n",
    "    'relative_humidity_10m:p',\n",
    "    'relative_humidity_50m:p',\n",
    "    'relative_humidity_100m:p',\n",
    "    'dew_point_2m:C',\n",
    "    'dew_point_10m:C', \n",
    "    'dew_point_50m:C',\n",
    "    'dew_point_100m:C',\n",
    "    'temp'\n",
    "]"
   ]
  },
  {
   "cell_type": "markdown",
   "id": "1af4042c-4ce4-433c-850c-f1232dc0698b",
   "metadata": {},
   "source": [
    "## Custom Functions "
   ]
  },
  {
   "cell_type": "code",
   "execution_count": 4,
   "id": "91e9b2e1-8bfd-4de2-a45c-ee7eed89093d",
   "metadata": {},
   "outputs": [],
   "source": [
    "data = pd.read_csv(\"raw_data/train.csv\")"
   ]
  },
  {
   "cell_type": "code",
   "execution_count": 5,
   "id": "308bd463-1edc-442a-ac15-a07703e58a17",
   "metadata": {},
   "outputs": [],
   "source": [
    "def log_transformed(data):\n",
    "    \"\"\" replaces values in columns in a dataframe with the log values \"\"\"\n",
    "    for col in f_logs:\n",
    "        data[col] = np.log(data[col] + 1e-5)\n",
    "    return data"
   ]
  },
  {
   "cell_type": "code",
   "execution_count": 6,
   "id": "f7cf9e89-b6a7-4698-a99b-47bd3a89ef34",
   "metadata": {},
   "outputs": [
    {
     "data": {
      "text/plain": [
       "44"
      ]
     },
     "execution_count": 6,
     "metadata": {},
     "output_type": "execute_result"
    }
   ],
   "source": [
    "len(log_transformed(data).columns)"
   ]
  },
  {
   "cell_type": "code",
   "execution_count": 7,
   "id": "28664e89-33d7-4711-ba91-b581fe65273b",
   "metadata": {},
   "outputs": [],
   "source": [
    "def time_transformed(data):\n",
    "    \"\"\"takes a df of datetime features and splits it into three features each: hour, month, season\"\"\"\n",
    "    # feature = pd.to_datetime(data.time, format='%Y/%m/%d %H:%M:%S')\n",
    "    feature = pd.to_datetime(data.time)\n",
    "    \n",
    "    hour = feature.dt.hour\n",
    "    month  = feature.dt.month\n",
    "\n",
    "    def assign_season(month):\n",
    "        if month in [3, 4, 5]:\n",
    "            return 1  # Spring\n",
    "        elif month in [6, 7, 8]:\n",
    "            return 2  # Summer\n",
    "        elif month in [9, 10, 11]:\n",
    "            return 3  # Fall\n",
    "        else:  # December, January, February\n",
    "            return 4  # Winter\n",
    "\n",
    "    season = month.apply(assign_season)\n",
    "    hour_sine = np.sin(2 * np.pi * hour / 24)\n",
    "    hour_cosine = np.cos(2 * np.pi * hour / 24)\n",
    "    month_sine = np.sin(2 * np.pi * month / 12)\n",
    "    month_cosine = np.cos(2 * np.pi * month / 12)\n",
    "    season_sine = np.sin(2 * np.pi * season / 4)\n",
    "    season_cosine = np.cos(2 * np.pi * season / 4)\n",
    "\n",
    "    # df = pd.DataFrame({\n",
    "    #     \"hour_sine\": hour_sine, \n",
    "    #     \"hour_cosine\": hour_cosine, \n",
    "    #     \"month_sine\": month_sine, \n",
    "    #     \"month_cosine\": month_cosine, \n",
    "    #     \"season_sine\": season_sine, \n",
    "    #     \"season_cosine\": season_cosine})\n",
    "\n",
    "    data[\"hour_sine\"] = hour_sine\n",
    "    data[\"hour_cosine\"] = hour_cosine\n",
    "    data[\"month_sine\"] = month_sine\n",
    "    data[\"month_cosine\"] = month_cosine\n",
    "    data[\"season_sine\"] = season_sine\n",
    "    data[\"season_cosine\"] = season_cosine\n",
    "\n",
    "    data = data.drop(columns=[\"time\"])\n",
    "\n",
    "    return data"
   ]
  },
  {
   "cell_type": "code",
   "execution_count": 8,
   "id": "bf60be05-3c04-41a3-b517-33bfd06240f1",
   "metadata": {},
   "outputs": [
    {
     "data": {
      "text/plain": [
       "49"
      ]
     },
     "execution_count": 8,
     "metadata": {},
     "output_type": "execute_result"
    }
   ],
   "source": [
    "len(time_transformed(data).columns)"
   ]
  },
  {
   "cell_type": "code",
   "execution_count": 9,
   "id": "0459cadb-55e0-4af9-ad61-93f1ba025a66",
   "metadata": {},
   "outputs": [],
   "source": [
    "data = time_transformed(data)"
   ]
  },
  {
   "cell_type": "code",
   "execution_count": 10,
   "id": "c9aee520-98d9-445d-8308-21a1c07520dd",
   "metadata": {},
   "outputs": [],
   "source": [
    "def degree_transformed(data):\n",
    "    \"\"\" takes a df 'data' of features with degree units (eg angles) and creates a sin and cos column to make it cyclical\"\"\"\n",
    "    \n",
    "    for col in f_degree: #list(data.columns):\n",
    "        sin_column = np.sin(2 * np.pi * data[col]/360)\n",
    "        cos_column = np.cos(2 * np.pi * data[col]/360)\n",
    "\n",
    "        data[f\"sin_{col}\"] = sin_column\n",
    "        data[f\"cos_{col}\"] = cos_column\n",
    "        data = data.drop(columns=[col])\n",
    "\n",
    "    return data"
   ]
  },
  {
   "cell_type": "code",
   "execution_count": 11,
   "id": "65fcd5c8-ce25-459a-b747-24e4ba7d418d",
   "metadata": {},
   "outputs": [
    {
     "data": {
      "text/plain": [
       "54"
      ]
     },
     "execution_count": 11,
     "metadata": {},
     "output_type": "execute_result"
    }
   ],
   "source": [
    "len(degree_transformed(data).columns)"
   ]
  },
  {
   "cell_type": "code",
   "execution_count": 12,
   "id": "f65f9d1f-7c9a-4578-8e02-4c6b30e0cc91",
   "metadata": {},
   "outputs": [
    {
     "data": {
      "text/plain": [
       "Index(['pv_production', 'wind_production', 'consumption', 'spot_market_price',\n",
       "       'precip_1h:mm', 'precip_type:idx', 'prob_precip_1h:p',\n",
       "       'clear_sky_rad:W', 'clear_sky_energy_1h:J', 'diffuse_rad:W',\n",
       "       'diffuse_rad_1h:Wh', 'direct_rad:W', 'direct_rad_1h:Wh', 'global_rad:W',\n",
       "       'global_rad_1h:Wh', 'sunshine_duration_1h:min', 'sun_elevation:d',\n",
       "       'low_cloud_cover:p', 'medium_cloud_cover:p', 'high_cloud_cover:p',\n",
       "       'total_cloud_cover:p', 'effective_cloud_cover:p', 'temp',\n",
       "       'relative_humidity_2m:p', 'dew_point_2m:C', 'wind_speed_2m:ms',\n",
       "       't_10m:C', 'relative_humidity_10m:p', 'dew_point_10m:C',\n",
       "       'wind_speed_10m:ms', 't_50m:C', 'relative_humidity_50m:p',\n",
       "       'dew_point_50m:C', 'wind_speed_50m:ms', 't_100m:C',\n",
       "       'relative_humidity_100m:p', 'dew_point_100m:C', 'wind_speed_100m:ms',\n",
       "       'hour_sine', 'hour_cosine', 'month_sine', 'month_cosine', 'season_sine',\n",
       "       'season_cosine', 'sin_sun_azimuth:d', 'cos_sun_azimuth:d',\n",
       "       'sin_wind_dir_2m:d', 'cos_wind_dir_2m:d', 'sin_wind_dir_10m:d',\n",
       "       'cos_wind_dir_10m:d', 'sin_wind_dir_50m:d', 'cos_wind_dir_50m:d',\n",
       "       'sin_wind_dir_100m:d', 'cos_wind_dir_100m:d'],\n",
       "      dtype='object')"
      ]
     },
     "execution_count": 12,
     "metadata": {},
     "output_type": "execute_result"
    }
   ],
   "source": [
    "degree_transformed(data).columns"
   ]
  },
  {
   "cell_type": "code",
   "execution_count": 13,
   "id": "37335b7e-991b-4932-9e0a-12d797f71a72",
   "metadata": {},
   "outputs": [],
   "source": [
    "# WE WANT 54 COLUMNS"
   ]
  },
  {
   "cell_type": "code",
   "execution_count": 14,
   "id": "ab35ed08-1a6b-423e-b974-d41ea64751eb",
   "metadata": {},
   "outputs": [
    {
     "data": {
      "text/plain": [
       "5"
      ]
     },
     "execution_count": 14,
     "metadata": {},
     "output_type": "execute_result"
    }
   ],
   "source": [
    "len(f_degree)"
   ]
  },
  {
   "cell_type": "markdown",
   "id": "48cdaf06-d253-421d-8e67-1a8814362892",
   "metadata": {},
   "source": [
    "# Pipeline building"
   ]
  },
  {
   "cell_type": "code",
   "execution_count": 15,
   "id": "0768fb24-e00c-4de9-885b-f03053127c22",
   "metadata": {},
   "outputs": [],
   "source": [
    "data = pd.read_csv(\"raw_data/train.csv\")"
   ]
  },
  {
   "cell_type": "code",
   "execution_count": 16,
   "id": "7ccabaff-7648-44ff-86dc-3af7978de909",
   "metadata": {},
   "outputs": [
    {
     "data": {
      "text/plain": [
       "44"
      ]
     },
     "execution_count": 16,
     "metadata": {},
     "output_type": "execute_result"
    }
   ],
   "source": [
    "og_col = list(data.columns)\n",
    "len(og_col)"
   ]
  },
  {
   "cell_type": "code",
   "execution_count": 17,
   "id": "7d084527-cd8d-41e0-9e2a-cf827a74057c",
   "metadata": {
    "scrolled": true
   },
   "outputs": [],
   "source": [
    "# data = log_transformed(data)\n",
    "# data = time_transformed(data)\n",
    "# data = degree_transformed(data)\n",
    "\n",
    "data_ft = degree_transformed(time_transformed(log_transformed(data)))"
   ]
  },
  {
   "cell_type": "code",
   "execution_count": 18,
   "id": "18f538ce-9556-4719-9af6-b2f08abfb978",
   "metadata": {},
   "outputs": [],
   "source": [
    "all_col = list(data_ft.columns)"
   ]
  },
  {
   "cell_type": "code",
   "execution_count": 19,
   "id": "cea9e485-3584-4d16-bdae-d2695c80d221",
   "metadata": {},
   "outputs": [
    {
     "data": {
      "text/plain": [
       "54"
      ]
     },
     "execution_count": 19,
     "metadata": {},
     "output_type": "execute_result"
    }
   ],
   "source": [
    "len(all_col)"
   ]
  },
  {
   "cell_type": "code",
   "execution_count": 20,
   "id": "ac9416ce-166a-420f-9a98-48791f2c3729",
   "metadata": {},
   "outputs": [
    {
     "data": {
      "text/plain": [
       "['pv_production',\n",
       " 'wind_production',\n",
       " 'consumption',\n",
       " 'spot_market_price',\n",
       " 'precip_1h:mm',\n",
       " 'precip_type:idx',\n",
       " 'prob_precip_1h:p',\n",
       " 'clear_sky_rad:W',\n",
       " 'clear_sky_energy_1h:J',\n",
       " 'diffuse_rad:W',\n",
       " 'diffuse_rad_1h:Wh',\n",
       " 'direct_rad:W',\n",
       " 'direct_rad_1h:Wh',\n",
       " 'global_rad:W',\n",
       " 'global_rad_1h:Wh',\n",
       " 'sunshine_duration_1h:min',\n",
       " 'sun_elevation:d',\n",
       " 'low_cloud_cover:p',\n",
       " 'medium_cloud_cover:p',\n",
       " 'high_cloud_cover:p',\n",
       " 'total_cloud_cover:p',\n",
       " 'effective_cloud_cover:p',\n",
       " 'temp',\n",
       " 'relative_humidity_2m:p',\n",
       " 'dew_point_2m:C',\n",
       " 'wind_speed_2m:ms',\n",
       " 't_10m:C',\n",
       " 'relative_humidity_10m:p',\n",
       " 'dew_point_10m:C',\n",
       " 'wind_speed_10m:ms',\n",
       " 't_50m:C',\n",
       " 'relative_humidity_50m:p',\n",
       " 'dew_point_50m:C',\n",
       " 'wind_speed_50m:ms',\n",
       " 't_100m:C',\n",
       " 'relative_humidity_100m:p',\n",
       " 'dew_point_100m:C',\n",
       " 'wind_speed_100m:ms',\n",
       " 'hour_sine',\n",
       " 'hour_cosine',\n",
       " 'month_sine',\n",
       " 'month_cosine',\n",
       " 'season_sine',\n",
       " 'season_cosine',\n",
       " 'sin_sun_azimuth:d',\n",
       " 'cos_sun_azimuth:d',\n",
       " 'sin_wind_dir_2m:d',\n",
       " 'cos_wind_dir_2m:d',\n",
       " 'sin_wind_dir_10m:d',\n",
       " 'cos_wind_dir_10m:d',\n",
       " 'sin_wind_dir_50m:d',\n",
       " 'cos_wind_dir_50m:d',\n",
       " 'sin_wind_dir_100m:d',\n",
       " 'cos_wind_dir_100m:d']"
      ]
     },
     "execution_count": 20,
     "metadata": {},
     "output_type": "execute_result"
    }
   ],
   "source": [
    "all_col"
   ]
  },
  {
   "cell_type": "code",
   "execution_count": 21,
   "id": "a6a11cdb-d734-4939-be27-90e36787ff06",
   "metadata": {},
   "outputs": [],
   "source": [
    "# diffs = [col for col in og_col if col not in all_col]"
   ]
  },
  {
   "cell_type": "code",
   "execution_count": 22,
   "id": "b6026a15-8035-4d48-a31d-68188c5e4ef8",
   "metadata": {},
   "outputs": [],
   "source": [
    "drop_col = ['pv_production',\n",
    "            'wind_production',\n",
    "            'consumption',\n",
    "            'spot_market_price',\n",
    "            'precip_type:idx']"
   ]
  },
  {
   "cell_type": "code",
   "execution_count": 23,
   "id": "b8b2686d-b2c4-41bc-85fd-d8052bcb4cc6",
   "metadata": {},
   "outputs": [],
   "source": [
    "scale_col = [col for col in all_col if col not in drop_col and f_ohe]"
   ]
  },
  {
   "cell_type": "code",
   "execution_count": 24,
   "id": "64be9328-30fd-4e0c-9211-aca0875b82b1",
   "metadata": {},
   "outputs": [
    {
     "data": {
      "text/plain": [
       "49"
      ]
     },
     "execution_count": 24,
     "metadata": {},
     "output_type": "execute_result"
    }
   ],
   "source": [
    "len(scale_col)"
   ]
  },
  {
   "cell_type": "code",
   "execution_count": 25,
   "id": "6e0ac591-0b11-476c-8132-6ab81bb339e6",
   "metadata": {},
   "outputs": [],
   "source": [
    "minmax = MinMaxScaler()\n",
    "ohe = OneHotEncoder(handle_unknown='ignore', sparse_output = False)"
   ]
  },
  {
   "cell_type": "code",
   "execution_count": 26,
   "id": "5b2fff95-af34-4efc-9bcd-3c088ab378d1",
   "metadata": {},
   "outputs": [],
   "source": [
    "preproc = make_column_transformer(\n",
    "    (ohe, f_ohe),\n",
    "    (minmax, scale_col),\n",
    "    remainder = \"drop\"\n",
    ")"
   ]
  },
  {
   "cell_type": "code",
   "execution_count": 27,
   "id": "7094c5e9-5086-461f-8a2d-1cd6748d90fc",
   "metadata": {},
   "outputs": [],
   "source": [
    "data_transformed = preproc.fit_transform(data_ft)"
   ]
  },
  {
   "cell_type": "code",
   "execution_count": 28,
   "id": "5229742f-96d2-490b-a156-f0b5121c778b",
   "metadata": {},
   "outputs": [],
   "source": [
    "data_transformed = pd.DataFrame(data_transformed, columns=preproc.get_feature_names_out())"
   ]
  },
  {
   "cell_type": "code",
   "execution_count": 29,
   "id": "df506e4f-47f6-49ad-8774-0bffd43ea194",
   "metadata": {},
   "outputs": [
    {
     "data": {
      "text/plain": [
       "53"
      ]
     },
     "execution_count": 29,
     "metadata": {},
     "output_type": "execute_result"
    }
   ],
   "source": [
    "len(data_transformed.columns)"
   ]
  },
  {
   "cell_type": "code",
   "execution_count": 30,
   "id": "8b4d6714-d339-4a72-a239-5d15f848fddd",
   "metadata": {
    "scrolled": true
   },
   "outputs": [
    {
     "data": {
      "text/plain": [
       "Index(['onehotencoder__precip_type:idx_0.0',\n",
       "       'onehotencoder__precip_type:idx_1.0',\n",
       "       'onehotencoder__precip_type:idx_2.0',\n",
       "       'onehotencoder__precip_type:idx_3.0', 'minmaxscaler__precip_1h:mm',\n",
       "       'minmaxscaler__prob_precip_1h:p', 'minmaxscaler__clear_sky_rad:W',\n",
       "       'minmaxscaler__clear_sky_energy_1h:J', 'minmaxscaler__diffuse_rad:W',\n",
       "       'minmaxscaler__diffuse_rad_1h:Wh', 'minmaxscaler__direct_rad:W',\n",
       "       'minmaxscaler__direct_rad_1h:Wh', 'minmaxscaler__global_rad:W',\n",
       "       'minmaxscaler__global_rad_1h:Wh',\n",
       "       'minmaxscaler__sunshine_duration_1h:min',\n",
       "       'minmaxscaler__sun_elevation:d', 'minmaxscaler__low_cloud_cover:p',\n",
       "       'minmaxscaler__medium_cloud_cover:p',\n",
       "       'minmaxscaler__high_cloud_cover:p', 'minmaxscaler__total_cloud_cover:p',\n",
       "       'minmaxscaler__effective_cloud_cover:p', 'minmaxscaler__temp',\n",
       "       'minmaxscaler__relative_humidity_2m:p', 'minmaxscaler__dew_point_2m:C',\n",
       "       'minmaxscaler__wind_speed_2m:ms', 'minmaxscaler__t_10m:C',\n",
       "       'minmaxscaler__relative_humidity_10m:p',\n",
       "       'minmaxscaler__dew_point_10m:C', 'minmaxscaler__wind_speed_10m:ms',\n",
       "       'minmaxscaler__t_50m:C', 'minmaxscaler__relative_humidity_50m:p',\n",
       "       'minmaxscaler__dew_point_50m:C', 'minmaxscaler__wind_speed_50m:ms',\n",
       "       'minmaxscaler__t_100m:C', 'minmaxscaler__relative_humidity_100m:p',\n",
       "       'minmaxscaler__dew_point_100m:C', 'minmaxscaler__wind_speed_100m:ms',\n",
       "       'minmaxscaler__hour_sine', 'minmaxscaler__hour_cosine',\n",
       "       'minmaxscaler__month_sine', 'minmaxscaler__month_cosine',\n",
       "       'minmaxscaler__season_sine', 'minmaxscaler__season_cosine',\n",
       "       'minmaxscaler__sin_sun_azimuth:d', 'minmaxscaler__cos_sun_azimuth:d',\n",
       "       'minmaxscaler__sin_wind_dir_2m:d', 'minmaxscaler__cos_wind_dir_2m:d',\n",
       "       'minmaxscaler__sin_wind_dir_10m:d', 'minmaxscaler__cos_wind_dir_10m:d',\n",
       "       'minmaxscaler__sin_wind_dir_50m:d', 'minmaxscaler__cos_wind_dir_50m:d',\n",
       "       'minmaxscaler__sin_wind_dir_100m:d',\n",
       "       'minmaxscaler__cos_wind_dir_100m:d'],\n",
       "      dtype='object')"
      ]
     },
     "execution_count": 30,
     "metadata": {},
     "output_type": "execute_result"
    }
   ],
   "source": [
    "data_transformed.columns"
   ]
  },
  {
   "cell_type": "code",
   "execution_count": 31,
   "id": "e58d0b96-2311-49e8-8156-6efbc85353fe",
   "metadata": {},
   "outputs": [
    {
     "data": {
      "text/html": [
       "<div>\n",
       "<style scoped>\n",
       "    .dataframe tbody tr th:only-of-type {\n",
       "        vertical-align: middle;\n",
       "    }\n",
       "\n",
       "    .dataframe tbody tr th {\n",
       "        vertical-align: top;\n",
       "    }\n",
       "\n",
       "    .dataframe thead th {\n",
       "        text-align: right;\n",
       "    }\n",
       "</style>\n",
       "<table border=\"1\" class=\"dataframe\">\n",
       "  <thead>\n",
       "    <tr style=\"text-align: right;\">\n",
       "      <th></th>\n",
       "      <th>onehotencoder__precip_type:idx_0.0</th>\n",
       "      <th>onehotencoder__precip_type:idx_1.0</th>\n",
       "      <th>onehotencoder__precip_type:idx_2.0</th>\n",
       "      <th>onehotencoder__precip_type:idx_3.0</th>\n",
       "      <th>minmaxscaler__precip_1h:mm</th>\n",
       "      <th>minmaxscaler__prob_precip_1h:p</th>\n",
       "      <th>minmaxscaler__clear_sky_rad:W</th>\n",
       "      <th>minmaxscaler__clear_sky_energy_1h:J</th>\n",
       "      <th>minmaxscaler__diffuse_rad:W</th>\n",
       "      <th>minmaxscaler__diffuse_rad_1h:Wh</th>\n",
       "      <th>...</th>\n",
       "      <th>minmaxscaler__sin_sun_azimuth:d</th>\n",
       "      <th>minmaxscaler__cos_sun_azimuth:d</th>\n",
       "      <th>minmaxscaler__sin_wind_dir_2m:d</th>\n",
       "      <th>minmaxscaler__cos_wind_dir_2m:d</th>\n",
       "      <th>minmaxscaler__sin_wind_dir_10m:d</th>\n",
       "      <th>minmaxscaler__cos_wind_dir_10m:d</th>\n",
       "      <th>minmaxscaler__sin_wind_dir_50m:d</th>\n",
       "      <th>minmaxscaler__cos_wind_dir_50m:d</th>\n",
       "      <th>minmaxscaler__sin_wind_dir_100m:d</th>\n",
       "      <th>minmaxscaler__cos_wind_dir_100m:d</th>\n",
       "    </tr>\n",
       "  </thead>\n",
       "  <tbody>\n",
       "    <tr>\n",
       "      <th>0</th>\n",
       "      <td>1.0</td>\n",
       "      <td>0.0</td>\n",
       "      <td>0.0</td>\n",
       "      <td>0.0</td>\n",
       "      <td>0.0</td>\n",
       "      <td>0.0</td>\n",
       "      <td>0.757424</td>\n",
       "      <td>0.854846</td>\n",
       "      <td>0.781999</td>\n",
       "      <td>0.815432</td>\n",
       "      <td>...</td>\n",
       "      <td>0.307401</td>\n",
       "      <td>0.038568</td>\n",
       "      <td>0.045382</td>\n",
       "      <td>0.291860</td>\n",
       "      <td>0.045382</td>\n",
       "      <td>0.291860</td>\n",
       "      <td>0.042169</td>\n",
       "      <td>0.299026</td>\n",
       "      <td>0.038731</td>\n",
       "      <td>0.307049</td>\n",
       "    </tr>\n",
       "    <tr>\n",
       "      <th>1</th>\n",
       "      <td>1.0</td>\n",
       "      <td>0.0</td>\n",
       "      <td>0.0</td>\n",
       "      <td>0.0</td>\n",
       "      <td>0.0</td>\n",
       "      <td>0.0</td>\n",
       "      <td>0.000000</td>\n",
       "      <td>0.779972</td>\n",
       "      <td>0.000000</td>\n",
       "      <td>0.742604</td>\n",
       "      <td>...</td>\n",
       "      <td>0.205451</td>\n",
       "      <td>0.095955</td>\n",
       "      <td>0.023405</td>\n",
       "      <td>0.348815</td>\n",
       "      <td>0.023405</td>\n",
       "      <td>0.348815</td>\n",
       "      <td>0.023669</td>\n",
       "      <td>0.347984</td>\n",
       "      <td>0.024203</td>\n",
       "      <td>0.346324</td>\n",
       "    </tr>\n",
       "    <tr>\n",
       "      <th>2</th>\n",
       "      <td>1.0</td>\n",
       "      <td>0.0</td>\n",
       "      <td>0.0</td>\n",
       "      <td>0.0</td>\n",
       "      <td>0.0</td>\n",
       "      <td>0.0</td>\n",
       "      <td>0.000000</td>\n",
       "      <td>0.000000</td>\n",
       "      <td>0.000000</td>\n",
       "      <td>0.000000</td>\n",
       "      <td>...</td>\n",
       "      <td>0.121531</td>\n",
       "      <td>0.173244</td>\n",
       "      <td>0.018654</td>\n",
       "      <td>0.364700</td>\n",
       "      <td>0.018654</td>\n",
       "      <td>0.364700</td>\n",
       "      <td>0.019129</td>\n",
       "      <td>0.363021</td>\n",
       "      <td>0.019853</td>\n",
       "      <td>0.360507</td>\n",
       "    </tr>\n",
       "    <tr>\n",
       "      <th>3</th>\n",
       "      <td>1.0</td>\n",
       "      <td>0.0</td>\n",
       "      <td>0.0</td>\n",
       "      <td>0.0</td>\n",
       "      <td>0.0</td>\n",
       "      <td>0.0</td>\n",
       "      <td>0.000000</td>\n",
       "      <td>0.000000</td>\n",
       "      <td>0.000000</td>\n",
       "      <td>0.000000</td>\n",
       "      <td>...</td>\n",
       "      <td>0.058350</td>\n",
       "      <td>0.265584</td>\n",
       "      <td>0.017037</td>\n",
       "      <td>0.370590</td>\n",
       "      <td>0.017037</td>\n",
       "      <td>0.370590</td>\n",
       "      <td>0.017952</td>\n",
       "      <td>0.367222</td>\n",
       "      <td>0.018891</td>\n",
       "      <td>0.363862</td>\n",
       "    </tr>\n",
       "    <tr>\n",
       "      <th>4</th>\n",
       "      <td>1.0</td>\n",
       "      <td>0.0</td>\n",
       "      <td>0.0</td>\n",
       "      <td>0.0</td>\n",
       "      <td>0.0</td>\n",
       "      <td>0.0</td>\n",
       "      <td>0.000000</td>\n",
       "      <td>0.000000</td>\n",
       "      <td>0.000000</td>\n",
       "      <td>0.000000</td>\n",
       "      <td>...</td>\n",
       "      <td>0.017398</td>\n",
       "      <td>0.369241</td>\n",
       "      <td>0.031970</td>\n",
       "      <td>0.324079</td>\n",
       "      <td>0.031970</td>\n",
       "      <td>0.324079</td>\n",
       "      <td>0.031664</td>\n",
       "      <td>0.324897</td>\n",
       "      <td>0.031056</td>\n",
       "      <td>0.326534</td>\n",
       "    </tr>\n",
       "    <tr>\n",
       "      <th>...</th>\n",
       "      <td>...</td>\n",
       "      <td>...</td>\n",
       "      <td>...</td>\n",
       "      <td>...</td>\n",
       "      <td>...</td>\n",
       "      <td>...</td>\n",
       "      <td>...</td>\n",
       "      <td>...</td>\n",
       "      <td>...</td>\n",
       "      <td>...</td>\n",
       "      <td>...</td>\n",
       "      <td>...</td>\n",
       "      <td>...</td>\n",
       "      <td>...</td>\n",
       "      <td>...</td>\n",
       "      <td>...</td>\n",
       "      <td>...</td>\n",
       "      <td>...</td>\n",
       "      <td>...</td>\n",
       "      <td>...</td>\n",
       "      <td>...</td>\n",
       "    </tr>\n",
       "    <tr>\n",
       "      <th>9510</th>\n",
       "      <td>1.0</td>\n",
       "      <td>0.0</td>\n",
       "      <td>0.0</td>\n",
       "      <td>0.0</td>\n",
       "      <td>0.0</td>\n",
       "      <td>0.0</td>\n",
       "      <td>0.000000</td>\n",
       "      <td>0.000000</td>\n",
       "      <td>0.000000</td>\n",
       "      <td>0.000000</td>\n",
       "      <td>...</td>\n",
       "      <td>0.010188</td>\n",
       "      <td>0.600413</td>\n",
       "      <td>0.142764</td>\n",
       "      <td>0.150168</td>\n",
       "      <td>0.142764</td>\n",
       "      <td>0.150168</td>\n",
       "      <td>0.110331</td>\n",
       "      <td>0.186698</td>\n",
       "      <td>0.074594</td>\n",
       "      <td>0.237266</td>\n",
       "    </tr>\n",
       "    <tr>\n",
       "      <th>9511</th>\n",
       "      <td>1.0</td>\n",
       "      <td>0.0</td>\n",
       "      <td>0.0</td>\n",
       "      <td>0.0</td>\n",
       "      <td>0.0</td>\n",
       "      <td>0.0</td>\n",
       "      <td>0.000000</td>\n",
       "      <td>0.000000</td>\n",
       "      <td>0.000000</td>\n",
       "      <td>0.000000</td>\n",
       "      <td>...</td>\n",
       "      <td>0.051479</td>\n",
       "      <td>0.720968</td>\n",
       "      <td>0.183310</td>\n",
       "      <td>0.113080</td>\n",
       "      <td>0.183310</td>\n",
       "      <td>0.113080</td>\n",
       "      <td>0.147064</td>\n",
       "      <td>0.145830</td>\n",
       "      <td>0.107072</td>\n",
       "      <td>0.190797</td>\n",
       "    </tr>\n",
       "    <tr>\n",
       "      <th>9512</th>\n",
       "      <td>1.0</td>\n",
       "      <td>0.0</td>\n",
       "      <td>0.0</td>\n",
       "      <td>0.0</td>\n",
       "      <td>0.0</td>\n",
       "      <td>0.0</td>\n",
       "      <td>0.000000</td>\n",
       "      <td>0.000000</td>\n",
       "      <td>0.000000</td>\n",
       "      <td>0.000000</td>\n",
       "      <td>...</td>\n",
       "      <td>0.130026</td>\n",
       "      <td>0.836329</td>\n",
       "      <td>0.187379</td>\n",
       "      <td>0.109785</td>\n",
       "      <td>0.187379</td>\n",
       "      <td>0.109785</td>\n",
       "      <td>0.149545</td>\n",
       "      <td>0.143375</td>\n",
       "      <td>0.107612</td>\n",
       "      <td>0.190112</td>\n",
       "    </tr>\n",
       "    <tr>\n",
       "      <th>9513</th>\n",
       "      <td>1.0</td>\n",
       "      <td>0.0</td>\n",
       "      <td>0.0</td>\n",
       "      <td>0.0</td>\n",
       "      <td>0.0</td>\n",
       "      <td>0.0</td>\n",
       "      <td>0.000000</td>\n",
       "      <td>0.000000</td>\n",
       "      <td>0.000000</td>\n",
       "      <td>0.000000</td>\n",
       "      <td>...</td>\n",
       "      <td>0.250030</td>\n",
       "      <td>0.933029</td>\n",
       "      <td>0.204697</td>\n",
       "      <td>0.096520</td>\n",
       "      <td>0.204697</td>\n",
       "      <td>0.096520</td>\n",
       "      <td>0.160279</td>\n",
       "      <td>0.133135</td>\n",
       "      <td>0.110878</td>\n",
       "      <td>0.186020</td>\n",
       "    </tr>\n",
       "    <tr>\n",
       "      <th>9514</th>\n",
       "      <td>1.0</td>\n",
       "      <td>0.0</td>\n",
       "      <td>0.0</td>\n",
       "      <td>0.0</td>\n",
       "      <td>0.0</td>\n",
       "      <td>0.0</td>\n",
       "      <td>0.000000</td>\n",
       "      <td>0.000000</td>\n",
       "      <td>0.000000</td>\n",
       "      <td>0.000000</td>\n",
       "      <td>...</td>\n",
       "      <td>0.406609</td>\n",
       "      <td>0.991201</td>\n",
       "      <td>0.235781</td>\n",
       "      <td>0.075514</td>\n",
       "      <td>0.235781</td>\n",
       "      <td>0.075514</td>\n",
       "      <td>0.187379</td>\n",
       "      <td>0.109785</td>\n",
       "      <td>0.133135</td>\n",
       "      <td>0.160280</td>\n",
       "    </tr>\n",
       "  </tbody>\n",
       "</table>\n",
       "<p>9515 rows × 53 columns</p>\n",
       "</div>"
      ],
      "text/plain": [
       "      onehotencoder__precip_type:idx_0.0  onehotencoder__precip_type:idx_1.0  \\\n",
       "0                                    1.0                                 0.0   \n",
       "1                                    1.0                                 0.0   \n",
       "2                                    1.0                                 0.0   \n",
       "3                                    1.0                                 0.0   \n",
       "4                                    1.0                                 0.0   \n",
       "...                                  ...                                 ...   \n",
       "9510                                 1.0                                 0.0   \n",
       "9511                                 1.0                                 0.0   \n",
       "9512                                 1.0                                 0.0   \n",
       "9513                                 1.0                                 0.0   \n",
       "9514                                 1.0                                 0.0   \n",
       "\n",
       "      onehotencoder__precip_type:idx_2.0  onehotencoder__precip_type:idx_3.0  \\\n",
       "0                                    0.0                                 0.0   \n",
       "1                                    0.0                                 0.0   \n",
       "2                                    0.0                                 0.0   \n",
       "3                                    0.0                                 0.0   \n",
       "4                                    0.0                                 0.0   \n",
       "...                                  ...                                 ...   \n",
       "9510                                 0.0                                 0.0   \n",
       "9511                                 0.0                                 0.0   \n",
       "9512                                 0.0                                 0.0   \n",
       "9513                                 0.0                                 0.0   \n",
       "9514                                 0.0                                 0.0   \n",
       "\n",
       "      minmaxscaler__precip_1h:mm  minmaxscaler__prob_precip_1h:p  \\\n",
       "0                            0.0                             0.0   \n",
       "1                            0.0                             0.0   \n",
       "2                            0.0                             0.0   \n",
       "3                            0.0                             0.0   \n",
       "4                            0.0                             0.0   \n",
       "...                          ...                             ...   \n",
       "9510                         0.0                             0.0   \n",
       "9511                         0.0                             0.0   \n",
       "9512                         0.0                             0.0   \n",
       "9513                         0.0                             0.0   \n",
       "9514                         0.0                             0.0   \n",
       "\n",
       "      minmaxscaler__clear_sky_rad:W  minmaxscaler__clear_sky_energy_1h:J  \\\n",
       "0                          0.757424                             0.854846   \n",
       "1                          0.000000                             0.779972   \n",
       "2                          0.000000                             0.000000   \n",
       "3                          0.000000                             0.000000   \n",
       "4                          0.000000                             0.000000   \n",
       "...                             ...                                  ...   \n",
       "9510                       0.000000                             0.000000   \n",
       "9511                       0.000000                             0.000000   \n",
       "9512                       0.000000                             0.000000   \n",
       "9513                       0.000000                             0.000000   \n",
       "9514                       0.000000                             0.000000   \n",
       "\n",
       "      minmaxscaler__diffuse_rad:W  minmaxscaler__diffuse_rad_1h:Wh  ...  \\\n",
       "0                        0.781999                         0.815432  ...   \n",
       "1                        0.000000                         0.742604  ...   \n",
       "2                        0.000000                         0.000000  ...   \n",
       "3                        0.000000                         0.000000  ...   \n",
       "4                        0.000000                         0.000000  ...   \n",
       "...                           ...                              ...  ...   \n",
       "9510                     0.000000                         0.000000  ...   \n",
       "9511                     0.000000                         0.000000  ...   \n",
       "9512                     0.000000                         0.000000  ...   \n",
       "9513                     0.000000                         0.000000  ...   \n",
       "9514                     0.000000                         0.000000  ...   \n",
       "\n",
       "      minmaxscaler__sin_sun_azimuth:d  minmaxscaler__cos_sun_azimuth:d  \\\n",
       "0                            0.307401                         0.038568   \n",
       "1                            0.205451                         0.095955   \n",
       "2                            0.121531                         0.173244   \n",
       "3                            0.058350                         0.265584   \n",
       "4                            0.017398                         0.369241   \n",
       "...                               ...                              ...   \n",
       "9510                         0.010188                         0.600413   \n",
       "9511                         0.051479                         0.720968   \n",
       "9512                         0.130026                         0.836329   \n",
       "9513                         0.250030                         0.933029   \n",
       "9514                         0.406609                         0.991201   \n",
       "\n",
       "      minmaxscaler__sin_wind_dir_2m:d  minmaxscaler__cos_wind_dir_2m:d  \\\n",
       "0                            0.045382                         0.291860   \n",
       "1                            0.023405                         0.348815   \n",
       "2                            0.018654                         0.364700   \n",
       "3                            0.017037                         0.370590   \n",
       "4                            0.031970                         0.324079   \n",
       "...                               ...                              ...   \n",
       "9510                         0.142764                         0.150168   \n",
       "9511                         0.183310                         0.113080   \n",
       "9512                         0.187379                         0.109785   \n",
       "9513                         0.204697                         0.096520   \n",
       "9514                         0.235781                         0.075514   \n",
       "\n",
       "      minmaxscaler__sin_wind_dir_10m:d  minmaxscaler__cos_wind_dir_10m:d  \\\n",
       "0                             0.045382                          0.291860   \n",
       "1                             0.023405                          0.348815   \n",
       "2                             0.018654                          0.364700   \n",
       "3                             0.017037                          0.370590   \n",
       "4                             0.031970                          0.324079   \n",
       "...                                ...                               ...   \n",
       "9510                          0.142764                          0.150168   \n",
       "9511                          0.183310                          0.113080   \n",
       "9512                          0.187379                          0.109785   \n",
       "9513                          0.204697                          0.096520   \n",
       "9514                          0.235781                          0.075514   \n",
       "\n",
       "      minmaxscaler__sin_wind_dir_50m:d  minmaxscaler__cos_wind_dir_50m:d  \\\n",
       "0                             0.042169                          0.299026   \n",
       "1                             0.023669                          0.347984   \n",
       "2                             0.019129                          0.363021   \n",
       "3                             0.017952                          0.367222   \n",
       "4                             0.031664                          0.324897   \n",
       "...                                ...                               ...   \n",
       "9510                          0.110331                          0.186698   \n",
       "9511                          0.147064                          0.145830   \n",
       "9512                          0.149545                          0.143375   \n",
       "9513                          0.160279                          0.133135   \n",
       "9514                          0.187379                          0.109785   \n",
       "\n",
       "      minmaxscaler__sin_wind_dir_100m:d  minmaxscaler__cos_wind_dir_100m:d  \n",
       "0                              0.038731                           0.307049  \n",
       "1                              0.024203                           0.346324  \n",
       "2                              0.019853                           0.360507  \n",
       "3                              0.018891                           0.363862  \n",
       "4                              0.031056                           0.326534  \n",
       "...                                 ...                                ...  \n",
       "9510                           0.074594                           0.237266  \n",
       "9511                           0.107072                           0.190797  \n",
       "9512                           0.107612                           0.190112  \n",
       "9513                           0.110878                           0.186020  \n",
       "9514                           0.133135                           0.160280  \n",
       "\n",
       "[9515 rows x 53 columns]"
      ]
     },
     "execution_count": 31,
     "metadata": {},
     "output_type": "execute_result"
    }
   ],
   "source": [
    "data_transformed"
   ]
  }
 ],
 "metadata": {
  "kernelspec": {
   "display_name": "Python 3 (ipykernel)",
   "language": "python",
   "name": "python3"
  },
  "language_info": {
   "codemirror_mode": {
    "name": "ipython",
    "version": 3
   },
   "file_extension": ".py",
   "mimetype": "text/x-python",
   "name": "python",
   "nbconvert_exporter": "python",
   "pygments_lexer": "ipython3",
   "version": "3.10.6"
  }
 },
 "nbformat": 4,
 "nbformat_minor": 5
}
