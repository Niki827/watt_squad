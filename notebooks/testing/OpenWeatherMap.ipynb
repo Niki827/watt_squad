{
 "cells": [
  {
   "cell_type": "code",
   "execution_count": 2,
   "id": "dffcdd2d-f1cb-4bba-b336-ac18c9f71515",
   "metadata": {},
   "outputs": [],
   "source": [
    "api_key = \"bc31ed29030a92462069b2bd82a34d5d\""
   ]
  },
  {
   "cell_type": "code",
   "execution_count": null,
   "id": "7e077a3f-c414-4733-979d-20ef49d9eac6",
   "metadata": {},
   "outputs": [],
   "source": [
    "http://api.openweathermap.org/geo/1.0/direct?q='Hamburg','{state code}',{country code}&limit=1&appid={api_key}"
   ]
  },
  {
   "cell_type": "code",
   "execution_count": null,
   "id": "1218aff5-4aad-4229-81ae-f34447c12608",
   "metadata": {},
   "outputs": [],
   "source": [
    "https://api.openweathermap.org/geo/1.0/direct?q=London&limit=5&appid=bc31ed29030a92462069b2bd82a34d5d"
   ]
  },
  {
   "cell_type": "markdown",
   "id": "35922c4c-dc99-4660-ad25-936381a259b6",
   "metadata": {},
   "source": [
    "# Fetch data from API"
   ]
  },
  {
   "cell_type": "code",
   "execution_count": 8,
   "id": "277a7d62-3ef8-4635-a65e-38034a4bb12c",
   "metadata": {},
   "outputs": [],
   "source": [
    "import requests\n",
    "api_key = \"bc31ed29030a92462069b2bd82a34d5d\"\n",
    "\n",
    "def fetch_lat_lon(city_name, api_key=api_key):\n",
    "    BASE_URI = 'https://api.openweathermap.org/geo/1.0/direct' # for lat and lon\n",
    "\n",
    "    params = {\n",
    "        \"q\": city_name,\n",
    "        \"limit\": 1,\n",
    "        \"appid\": api_key\n",
    "    }\n",
    "    result = requests.get(BASE_URI, params=params).json()\n",
    "    return result\n",
    "\n",
    "lat = fetch_lat_lon('London', api_key=api_key)[0]['lat']\n",
    "lon = fetch_lat_lon('London', api_key=api_key)[0]['lon']"
   ]
  },
  {
   "cell_type": "code",
   "execution_count": 9,
   "id": "0acee905-c817-43f2-8dd2-5c7f6351081b",
   "metadata": {},
   "outputs": [
    {
     "data": {
      "text/plain": [
       "51.5073219"
      ]
     },
     "execution_count": 9,
     "metadata": {},
     "output_type": "execute_result"
    }
   ],
   "source": [
    "lat"
   ]
  },
  {
   "cell_type": "code",
   "execution_count": 10,
   "id": "91317ba4-e1b5-4f7d-8ff3-90f02f028907",
   "metadata": {},
   "outputs": [
    {
     "data": {
      "text/plain": [
       "-0.1276474"
      ]
     },
     "execution_count": 10,
     "metadata": {},
     "output_type": "execute_result"
    }
   ],
   "source": [
    "lon"
   ]
  }
 ],
 "metadata": {
  "kernelspec": {
   "display_name": "Python 3 (ipykernel)",
   "language": "python",
   "name": "python3"
  },
  "language_info": {
   "codemirror_mode": {
    "name": "ipython",
    "version": 3
   },
   "file_extension": ".py",
   "mimetype": "text/x-python",
   "name": "python",
   "nbconvert_exporter": "python",
   "pygments_lexer": "ipython3",
   "version": "3.10.6"
  }
 },
 "nbformat": 4,
 "nbformat_minor": 5
}
