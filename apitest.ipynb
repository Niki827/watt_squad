{
 "cells": [
  {
   "cell_type": "code",
   "execution_count": 1,
   "metadata": {},
   "outputs": [
    {
     "name": "stdout",
     "output_type": "stream",
     "text": [
      "{'greeting': \"api works, you're a genius, go grab a drink\"}\n"
     ]
    }
   ],
   "source": [
    "import pandas as pd\n",
    "import requests\n",
    "\n",
    "url='http://localhost:8000'\n",
    "response = requests.get(url)\n",
    "print(response.json())"
   ]
  },
  {
   "cell_type": "code",
   "execution_count": 6,
   "metadata": {},
   "outputs": [
    {
     "data": {
      "text/plain": [
       "{'message': 'DataFrame received successfully',\n",
       " 'df': [{'time': '2021-02-22 17:00:00',\n",
       "   'pv_production': 0.0,\n",
       "   'wind_production': -0.28,\n",
       "   'consumption': 34.732453335,\n",
       "   'spot_market_price': 0.46203,\n",
       "   'precip_1h:mm': 0.54,\n",
       "   'precip_type:idx': 1.0,\n",
       "   'prob_precip_1h:p': 26.1,\n",
       "   'clear_sky_rad:W': 0.0,\n",
       "   'clear_sky_energy_1h:J': 1990.4,\n",
       "   'diffuse_rad:W': 0.0,\n",
       "   'diffuse_rad_1h:Wh': 1.479,\n",
       "   'direct_rad:W': 0.0,\n",
       "   'direct_rad_1h:Wh': 0.002,\n",
       "   'global_rad:W': 0.0,\n",
       "   'global_rad_1h:Wh': 1.482,\n",
       "   'sunshine_duration_1h:min': 0.4,\n",
       "   'sun_azimuth:d': 257.944,\n",
       "   'sun_elevation:d': -5.386,\n",
       "   'low_cloud_cover:p': 0.9,\n",
       "   'medium_cloud_cover:p': 97.3,\n",
       "   'high_cloud_cover:p': 99.2,\n",
       "   'total_cloud_cover:p': 100.0,\n",
       "   'effective_cloud_cover:p': 98.6,\n",
       "   'temp': 2.9,\n",
       "   'relative_humidity_2m:p': 89.8,\n",
       "   'dew_point_2m:C': 1.4,\n",
       "   'wind_speed_2m:ms': 2.4,\n",
       "   'wind_dir_2m:d': 80.3,\n",
       "   't_10m:C': 3.2,\n",
       "   'relative_humidity_10m:p': 89.0,\n",
       "   'dew_point_10m:C': 1.6,\n",
       "   'wind_speed_10m:ms': 3.4,\n",
       "   'wind_dir_10m:d': 80.3,\n",
       "   't_50m:C': 4.1,\n",
       "   'relative_humidity_50m:p': 86.2,\n",
       "   'dew_point_50m:C': 2.0,\n",
       "   'wind_speed_50m:ms': 4.7,\n",
       "   'wind_dir_50m:d': 92.8,\n",
       "   't_100m:C': 4.5,\n",
       "   'relative_humidity_100m:p': 83.9,\n",
       "   'dew_point_100m:C': 2.0,\n",
       "   'wind_speed_100m:ms': 5.5,\n",
       "   'wind_dir_100m:d': 108.4},\n",
       "  {'time': '2021-02-11 02:00:00',\n",
       "   'pv_production': 0.0,\n",
       "   'wind_production': 42.55,\n",
       "   'consumption': 51.18836667,\n",
       "   'spot_market_price': 0.5035,\n",
       "   'precip_1h:mm': 0.0,\n",
       "   'precip_type:idx': 0.0,\n",
       "   'prob_precip_1h:p': 1.0,\n",
       "   'clear_sky_rad:W': 0.0,\n",
       "   'clear_sky_energy_1h:J': 0.0,\n",
       "   'diffuse_rad:W': 0.0,\n",
       "   'diffuse_rad_1h:Wh': 0.0,\n",
       "   'direct_rad:W': 0.0,\n",
       "   'direct_rad_1h:Wh': 0.0,\n",
       "   'global_rad:W': 0.0,\n",
       "   'global_rad_1h:Wh': 0.0,\n",
       "   'sunshine_duration_1h:min': 0.0,\n",
       "   'sun_azimuth:d': 43.618,\n",
       "   'sun_elevation:d': -34.663,\n",
       "   'low_cloud_cover:p': 47.9,\n",
       "   'medium_cloud_cover:p': 0.0,\n",
       "   'high_cloud_cover:p': 0.0,\n",
       "   'total_cloud_cover:p': 47.9,\n",
       "   'effective_cloud_cover:p': 47.9,\n",
       "   'temp': -18.3,\n",
       "   'relative_humidity_2m:p': 91.7,\n",
       "   'dew_point_2m:C': -19.3,\n",
       "   'wind_speed_2m:ms': 1.5,\n",
       "   'wind_dir_2m:d': 175.6,\n",
       "   't_10m:C': -17.7,\n",
       "   'relative_humidity_10m:p': 88.3,\n",
       "   'dew_point_10m:C': -19.1,\n",
       "   'wind_speed_10m:ms': 2.1,\n",
       "   'wind_dir_10m:d': 175.6,\n",
       "   't_50m:C': -15.6,\n",
       "   'relative_humidity_50m:p': 77.4,\n",
       "   'dew_point_50m:C': -18.6,\n",
       "   'wind_speed_50m:ms': 2.7,\n",
       "   'wind_dir_50m:d': 173.7,\n",
       "   't_100m:C': -14.6,\n",
       "   'relative_humidity_100m:p': 71.5,\n",
       "   'dew_point_100m:C': -18.6,\n",
       "   'wind_speed_100m:ms': 2.8,\n",
       "   'wind_dir_100m:d': 171.3}]}"
      ]
     },
     "execution_count": 6,
     "metadata": {},
     "output_type": "execute_result"
    }
   ],
   "source": [
    "data = pd.read_csv(\"raw_data/test.csv\").sample(2)\n",
    "json_data = data.to_dict(orient='records')\n",
    "\n",
    "url='http://localhost:8000/predict'\n",
    "response = requests.post(url, json={\"data\": json_data})\n",
    "response.json()"
   ]
  },
  {
   "cell_type": "code",
   "execution_count": null,
   "metadata": {},
   "outputs": [],
   "source": []
  }
 ],
 "metadata": {
  "kernelspec": {
   "display_name": "watt_squad",
   "language": "python",
   "name": "python3"
  },
  "language_info": {
   "codemirror_mode": {
    "name": "ipython",
    "version": 3
   },
   "file_extension": ".py",
   "mimetype": "text/x-python",
   "name": "python",
   "nbconvert_exporter": "python",
   "pygments_lexer": "ipython3",
   "version": "3.10.6"
  }
 },
 "nbformat": 4,
 "nbformat_minor": 2
}
