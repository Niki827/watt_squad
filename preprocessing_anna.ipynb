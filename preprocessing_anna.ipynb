{
 "cells": [
  {
   "cell_type": "code",
   "execution_count": 1,
   "id": "d00fbec4-c87f-4f4c-93a8-05644888741c",
   "metadata": {},
   "outputs": [],
   "source": [
    "import pandas as pd\n",
    "import numpy as np\n",
    "import seaborn as sns\n",
    "import matplotlib.pyplot as plt"
   ]
  },
  {
   "cell_type": "code",
   "execution_count": 2,
   "id": "ca41c6a5-8738-49c9-93eb-a14a2a3ed239",
   "metadata": {},
   "outputs": [],
   "source": [
    "#%autoreload"
   ]
  },
  {
   "cell_type": "markdown",
   "id": "aaf9a4f2-8654-41a6-a54e-c1a7b4f5590f",
   "metadata": {},
   "source": [
    "## Data Import"
   ]
  },
  {
   "cell_type": "code",
   "execution_count": 3,
   "id": "c0f59239-4c7c-4fe9-badb-99881604c841",
   "metadata": {},
   "outputs": [],
   "source": [
    "df = pd.read_csv('raw_data/train.csv')"
   ]
  },
  {
   "cell_type": "code",
   "execution_count": 4,
   "id": "7fcefd2b-9129-4522-ac9a-eecee6762a4f",
   "metadata": {},
   "outputs": [
    {
     "data": {
      "text/html": [
       "<div>\n",
       "<style scoped>\n",
       "    .dataframe tbody tr th:only-of-type {\n",
       "        vertical-align: middle;\n",
       "    }\n",
       "\n",
       "    .dataframe tbody tr th {\n",
       "        vertical-align: top;\n",
       "    }\n",
       "\n",
       "    .dataframe thead th {\n",
       "        text-align: right;\n",
       "    }\n",
       "</style>\n",
       "<table border=\"1\" class=\"dataframe\">\n",
       "  <thead>\n",
       "    <tr style=\"text-align: right;\">\n",
       "      <th></th>\n",
       "      <th>time</th>\n",
       "      <th>pv_production</th>\n",
       "      <th>wind_production</th>\n",
       "      <th>consumption</th>\n",
       "      <th>spot_market_price</th>\n",
       "      <th>precip_1h:mm</th>\n",
       "      <th>precip_type:idx</th>\n",
       "      <th>prob_precip_1h:p</th>\n",
       "      <th>clear_sky_rad:W</th>\n",
       "      <th>clear_sky_energy_1h:J</th>\n",
       "      <th>...</th>\n",
       "      <th>t_50m:C</th>\n",
       "      <th>relative_humidity_50m:p</th>\n",
       "      <th>dew_point_50m:C</th>\n",
       "      <th>wind_speed_50m:ms</th>\n",
       "      <th>wind_dir_50m:d</th>\n",
       "      <th>t_100m:C</th>\n",
       "      <th>relative_humidity_100m:p</th>\n",
       "      <th>dew_point_100m:C</th>\n",
       "      <th>wind_speed_100m:ms</th>\n",
       "      <th>wind_dir_100m:d</th>\n",
       "    </tr>\n",
       "  </thead>\n",
       "  <tbody>\n",
       "    <tr>\n",
       "      <th>0</th>\n",
       "      <td>2020-01-01 13:00:00</td>\n",
       "      <td>0.0</td>\n",
       "      <td>40.59</td>\n",
       "      <td>26.514689</td>\n",
       "      <td>0.28969</td>\n",
       "      <td>0.0</td>\n",
       "      <td>0.0</td>\n",
       "      <td>1.0</td>\n",
       "      <td>10.0</td>\n",
       "      <td>64826.0</td>\n",
       "      <td>...</td>\n",
       "      <td>8.4</td>\n",
       "      <td>60.7</td>\n",
       "      <td>1.3</td>\n",
       "      <td>8.4</td>\n",
       "      <td>246.3</td>\n",
       "      <td>8.3</td>\n",
       "      <td>60.3</td>\n",
       "      <td>1.0</td>\n",
       "      <td>10.4</td>\n",
       "      <td>247.3</td>\n",
       "    </tr>\n",
       "    <tr>\n",
       "      <th>1</th>\n",
       "      <td>2020-01-01 14:00:00</td>\n",
       "      <td>0.0</td>\n",
       "      <td>67.86</td>\n",
       "      <td>28.326960</td>\n",
       "      <td>0.29561</td>\n",
       "      <td>0.0</td>\n",
       "      <td>0.0</td>\n",
       "      <td>1.0</td>\n",
       "      <td>0.0</td>\n",
       "      <td>8961.1</td>\n",
       "      <td>...</td>\n",
       "      <td>8.4</td>\n",
       "      <td>61.6</td>\n",
       "      <td>1.5</td>\n",
       "      <td>8.0</td>\n",
       "      <td>252.3</td>\n",
       "      <td>8.4</td>\n",
       "      <td>60.7</td>\n",
       "      <td>1.2</td>\n",
       "      <td>10.0</td>\n",
       "      <td>252.1</td>\n",
       "    </tr>\n",
       "    <tr>\n",
       "      <th>2</th>\n",
       "      <td>2020-01-01 15:00:00</td>\n",
       "      <td>0.0</td>\n",
       "      <td>116.68</td>\n",
       "      <td>23.682207</td>\n",
       "      <td>0.30044</td>\n",
       "      <td>0.0</td>\n",
       "      <td>0.0</td>\n",
       "      <td>1.0</td>\n",
       "      <td>0.0</td>\n",
       "      <td>0.0</td>\n",
       "      <td>...</td>\n",
       "      <td>8.5</td>\n",
       "      <td>60.3</td>\n",
       "      <td>1.3</td>\n",
       "      <td>9.6</td>\n",
       "      <td>254.1</td>\n",
       "      <td>8.4</td>\n",
       "      <td>59.6</td>\n",
       "      <td>1.0</td>\n",
       "      <td>11.7</td>\n",
       "      <td>253.8</td>\n",
       "    </tr>\n",
       "    <tr>\n",
       "      <th>3</th>\n",
       "      <td>2020-01-01 16:00:00</td>\n",
       "      <td>0.0</td>\n",
       "      <td>120.22</td>\n",
       "      <td>25.354782</td>\n",
       "      <td>0.29975</td>\n",
       "      <td>0.0</td>\n",
       "      <td>0.0</td>\n",
       "      <td>1.0</td>\n",
       "      <td>0.0</td>\n",
       "      <td>0.0</td>\n",
       "      <td>...</td>\n",
       "      <td>8.4</td>\n",
       "      <td>63.9</td>\n",
       "      <td>2.0</td>\n",
       "      <td>12.1</td>\n",
       "      <td>254.6</td>\n",
       "      <td>8.3</td>\n",
       "      <td>63.4</td>\n",
       "      <td>1.7</td>\n",
       "      <td>14.3</td>\n",
       "      <td>254.2</td>\n",
       "    </tr>\n",
       "    <tr>\n",
       "      <th>4</th>\n",
       "      <td>2020-01-01 17:00:00</td>\n",
       "      <td>0.0</td>\n",
       "      <td>109.86</td>\n",
       "      <td>23.861942</td>\n",
       "      <td>0.29650</td>\n",
       "      <td>0.0</td>\n",
       "      <td>0.0</td>\n",
       "      <td>1.0</td>\n",
       "      <td>0.0</td>\n",
       "      <td>0.0</td>\n",
       "      <td>...</td>\n",
       "      <td>7.2</td>\n",
       "      <td>78.9</td>\n",
       "      <td>3.8</td>\n",
       "      <td>11.7</td>\n",
       "      <td>249.5</td>\n",
       "      <td>7.1</td>\n",
       "      <td>77.9</td>\n",
       "      <td>3.5</td>\n",
       "      <td>13.9</td>\n",
       "      <td>249.7</td>\n",
       "    </tr>\n",
       "  </tbody>\n",
       "</table>\n",
       "<p>5 rows × 44 columns</p>\n",
       "</div>"
      ],
      "text/plain": [
       "                  time  pv_production  wind_production  consumption  \\\n",
       "0  2020-01-01 13:00:00            0.0            40.59    26.514689   \n",
       "1  2020-01-01 14:00:00            0.0            67.86    28.326960   \n",
       "2  2020-01-01 15:00:00            0.0           116.68    23.682207   \n",
       "3  2020-01-01 16:00:00            0.0           120.22    25.354782   \n",
       "4  2020-01-01 17:00:00            0.0           109.86    23.861942   \n",
       "\n",
       "   spot_market_price  precip_1h:mm  precip_type:idx  prob_precip_1h:p  \\\n",
       "0            0.28969           0.0              0.0               1.0   \n",
       "1            0.29561           0.0              0.0               1.0   \n",
       "2            0.30044           0.0              0.0               1.0   \n",
       "3            0.29975           0.0              0.0               1.0   \n",
       "4            0.29650           0.0              0.0               1.0   \n",
       "\n",
       "   clear_sky_rad:W  clear_sky_energy_1h:J  ...  t_50m:C  \\\n",
       "0             10.0                64826.0  ...      8.4   \n",
       "1              0.0                 8961.1  ...      8.4   \n",
       "2              0.0                    0.0  ...      8.5   \n",
       "3              0.0                    0.0  ...      8.4   \n",
       "4              0.0                    0.0  ...      7.2   \n",
       "\n",
       "   relative_humidity_50m:p  dew_point_50m:C  wind_speed_50m:ms  \\\n",
       "0                     60.7              1.3                8.4   \n",
       "1                     61.6              1.5                8.0   \n",
       "2                     60.3              1.3                9.6   \n",
       "3                     63.9              2.0               12.1   \n",
       "4                     78.9              3.8               11.7   \n",
       "\n",
       "   wind_dir_50m:d  t_100m:C  relative_humidity_100m:p  dew_point_100m:C  \\\n",
       "0           246.3       8.3                      60.3               1.0   \n",
       "1           252.3       8.4                      60.7               1.2   \n",
       "2           254.1       8.4                      59.6               1.0   \n",
       "3           254.6       8.3                      63.4               1.7   \n",
       "4           249.5       7.1                      77.9               3.5   \n",
       "\n",
       "   wind_speed_100m:ms  wind_dir_100m:d  \n",
       "0                10.4            247.3  \n",
       "1                10.0            252.1  \n",
       "2                11.7            253.8  \n",
       "3                14.3            254.2  \n",
       "4                13.9            249.7  \n",
       "\n",
       "[5 rows x 44 columns]"
      ]
     },
     "execution_count": 4,
     "metadata": {},
     "output_type": "execute_result"
    }
   ],
   "source": [
    "df.head(5)"
   ]
  },
  {
   "cell_type": "code",
   "execution_count": 5,
   "id": "5f75cbdb-db29-4f11-995d-e06be158e455",
   "metadata": {
    "scrolled": true
   },
   "outputs": [
    {
     "name": "stdout",
     "output_type": "stream",
     "text": [
      "<class 'pandas.core.frame.DataFrame'>\n",
      "RangeIndex: 9515 entries, 0 to 9514\n",
      "Data columns (total 44 columns):\n",
      " #   Column                    Non-Null Count  Dtype  \n",
      "---  ------                    --------------  -----  \n",
      " 0   time                      9515 non-null   object \n",
      " 1   pv_production             9515 non-null   float64\n",
      " 2   wind_production           9515 non-null   float64\n",
      " 3   consumption               9515 non-null   float64\n",
      " 4   spot_market_price         9515 non-null   float64\n",
      " 5   precip_1h:mm              9515 non-null   float64\n",
      " 6   precip_type:idx           9515 non-null   float64\n",
      " 7   prob_precip_1h:p          9515 non-null   float64\n",
      " 8   clear_sky_rad:W           9515 non-null   float64\n",
      " 9   clear_sky_energy_1h:J     9515 non-null   float64\n",
      " 10  diffuse_rad:W             9515 non-null   float64\n",
      " 11  diffuse_rad_1h:Wh         9515 non-null   float64\n",
      " 12  direct_rad:W              9515 non-null   float64\n",
      " 13  direct_rad_1h:Wh          9515 non-null   float64\n",
      " 14  global_rad:W              9515 non-null   float64\n",
      " 15  global_rad_1h:Wh          9515 non-null   float64\n",
      " 16  sunshine_duration_1h:min  9515 non-null   float64\n",
      " 17  sun_azimuth:d             9515 non-null   float64\n",
      " 18  sun_elevation:d           9515 non-null   float64\n",
      " 19  low_cloud_cover:p         9515 non-null   float64\n",
      " 20  medium_cloud_cover:p      9515 non-null   float64\n",
      " 21  high_cloud_cover:p        9515 non-null   float64\n",
      " 22  total_cloud_cover:p       9515 non-null   float64\n",
      " 23  effective_cloud_cover:p   9515 non-null   float64\n",
      " 24  temp                      9515 non-null   float64\n",
      " 25  relative_humidity_2m:p    9515 non-null   float64\n",
      " 26  dew_point_2m:C            9515 non-null   float64\n",
      " 27  wind_speed_2m:ms          9515 non-null   float64\n",
      " 28  wind_dir_2m:d             9515 non-null   float64\n",
      " 29  t_10m:C                   9515 non-null   float64\n",
      " 30  relative_humidity_10m:p   9515 non-null   float64\n",
      " 31  dew_point_10m:C           9515 non-null   float64\n",
      " 32  wind_speed_10m:ms         9515 non-null   float64\n",
      " 33  wind_dir_10m:d            9515 non-null   float64\n",
      " 34  t_50m:C                   9515 non-null   float64\n",
      " 35  relative_humidity_50m:p   9515 non-null   float64\n",
      " 36  dew_point_50m:C           9515 non-null   float64\n",
      " 37  wind_speed_50m:ms         9515 non-null   float64\n",
      " 38  wind_dir_50m:d            9515 non-null   float64\n",
      " 39  t_100m:C                  9515 non-null   float64\n",
      " 40  relative_humidity_100m:p  9515 non-null   float64\n",
      " 41  dew_point_100m:C          9515 non-null   float64\n",
      " 42  wind_speed_100m:ms        9515 non-null   float64\n",
      " 43  wind_dir_100m:d           9515 non-null   float64\n",
      "dtypes: float64(43), object(1)\n",
      "memory usage: 3.2+ MB\n"
     ]
    }
   ],
   "source": [
    "df.info()"
   ]
  },
  {
   "cell_type": "markdown",
   "id": "6ebbe29e-4a5e-41e9-9849-3b974ea1c7ed",
   "metadata": {},
   "source": [
    "# Split train test"
   ]
  },
  {
   "cell_type": "code",
   "execution_count": null,
   "id": "2181744e-ed7f-46fc-bd14-f950d789afef",
   "metadata": {},
   "outputs": [],
   "source": [
    "# # Defining the features and the target\n",
    "\n",
    "# X = data.drop(columns='charges')\n",
    "# y = data['charges']\n",
    "\n",
    "# # Train-Test split\n",
    "\n",
    "# from sklearn.model_selection import train_test_split\n",
    "\n",
    "# X_train, X_test, y_train, y_test = train_test_split(X, y, test_size = 0.20)\n",
    "# X_train.shape, X_test.shape, y_train.shape, y_test.shape"
   ]
  },
  {
   "cell_type": "markdown",
   "id": "782b54a7-18e5-4ab4-a3db-75546b008c20",
   "metadata": {
    "jp-MarkdownHeadingCollapsed": true
   },
   "source": [
    "# Preprocessing Pipelines"
   ]
  },
  {
   "cell_type": "markdown",
   "id": "f3ee0f06-6806-4970-9ef1-6ffa70baeca7",
   "metadata": {},
   "source": [
    "from sklearn.pipeline import Pipeline"
   ]
  },
  {
   "cell_type": "code",
   "execution_count": null,
   "id": "2ac2473d-c954-4d79-bcbf-6988ce8af2ef",
   "metadata": {},
   "outputs": [],
   "source": [
    "💻 Let's perform the following operations in parallel:\n",
    "🔢 Impute then scale numerical values\n",
    "🔠 Encode categorical values"
   ]
  },
  {
   "cell_type": "code",
   "execution_count": null,
   "id": "9e5a0b54-fc1b-4160-930d-9fe77655d7b8",
   "metadata": {},
   "outputs": [],
   "source": [
    "# # Preprocess \"age\"\n",
    "# from sklearn.pipeline import Pipeline\n",
    "# from sklearn.impute import SimpleImputer\n",
    "# from sklearn.preprocessing import StandardScaler\n",
    "\n",
    "# # Build the pipeline with the different steps\n",
    "# pipeline = Pipeline([\n",
    "#     ('imputer', SimpleImputer(strategy=\"median\")),\n",
    "#     ('standard_scaler', StandardScaler())\n",
    "# ])\n",
    "\n",
    "# pipeline.fit(X_train)\n",
    "# pipeline.transform(X_train)"
   ]
  },
  {
   "cell_type": "code",
   "execution_count": null,
   "id": "724631f2-c00d-49b2-8ab5-dcb7a202d625",
   "metadata": {},
   "outputs": [],
   "source": [
    "# from sklearn.compose import ColumnTransformer\n",
    "\n",
    "# from sklearn.pipeline import Pipeline\n",
    "# from sklearn.impute import SimpleImputer\n",
    "# from sklearn.preprocessing import StandardScaler\n",
    "\n",
    "# from sklearn.preprocessing import OneHotEncoder\n",
    "\n",
    "\n",
    "# # Impute then scale numerical values:\n",
    "# num_transformer = Pipeline([\n",
    "#     ('imputer', SimpleImputer(strategy=\"mean\")),\n",
    "#     ('standard_scaler', StandardScaler())\n",
    "# ])\n",
    "\n",
    "# # Encode categorical values\n",
    "# cat_transformer = OneHotEncoder(handle_unknown='ignore')\n",
    "\n",
    "# # Parallelize \"num_transformer\" and \"cat_transfomer\"\n",
    "# preprocessor = ColumnTransformer([\n",
    "#     ('num_transformer', num_transformer, ['age', 'bmi']),\n",
    "#     ('cat_transformer', cat_transformer, ['smoker', 'region'])\n",
    "# ])"
   ]
  },
  {
   "cell_type": "markdown",
   "id": "e3bc905c-ebf5-4a8b-bb7e-d43e9320620a",
   "metadata": {},
   "source": [
    "## Fit_transform on train set"
   ]
  },
  {
   "cell_type": "code",
   "execution_count": null,
   "id": "a0618a97-0187-4efe-9472-cf77ad37c78f",
   "metadata": {},
   "outputs": [],
   "source": [
    "\n",
    "# X_train_transformed = preprocessor.fit_transform(X_train)\n",
    "\n",
    "# print(\"Original training set\")\n",
    "# display(X_train.head(3))\n",
    "\n",
    "# print(\"Preprocessed training set\")\n",
    "# display(pd.DataFrame(X_train_transformed).head(3))"
   ]
  },
  {
   "cell_type": "markdown",
   "id": "a74dcf9f-1b74-4372-bd6c-d9dcf945d67c",
   "metadata": {},
   "source": [
    "## Fit_transform on train and test set"
   ]
  },
  {
   "cell_type": "code",
   "execution_count": null,
   "id": "af49cba7-68dd-44ea-bb7d-16f2b9d6347a",
   "metadata": {},
   "outputs": [],
   "source": [
    "#X_train_transformed = preprocessor.fit(X_train).transform(X_test)"
   ]
  },
  {
   "cell_type": "code",
   "execution_count": null,
   "id": "3e8b8290-1bae-4834-b5d0-ee48f4e6d45a",
   "metadata": {},
   "outputs": [],
   "source": [
    "# # Get your features' names\n",
    "# preprocessor.get_feature_names_out()\n",
    "# pd.DataFrame(\n",
    "#     X_train_transformed,\n",
    "#     columns=preprocessor.get_feature_names_out()\n",
    "# ).head()"
   ]
  },
  {
   "cell_type": "markdown",
   "id": "a73cd02b-50f9-4aef-a2a8-dc35b7fba1cb",
   "metadata": {},
   "source": [
    "remainder=passthrough - keep columns untouched"
   ]
  },
  {
   "cell_type": "code",
   "execution_count": null,
   "id": "b552afee-3a86-415a-9270-03cf65229d96",
   "metadata": {},
   "outputs": [],
   "source": [
    "# preprocessor = ColumnTransformer([\n",
    "#     ('num_transformer', num_transformer, ['age','bmi']),\n",
    "#     ('cat_transformer', cat_transformer, ['region','smoker'])],\n",
    "#     remainder='passthrough'\n",
    "# )\n",
    "\n",
    "# preprocessor"
   ]
  },
  {
   "cell_type": "code",
   "execution_count": null,
   "id": "b4fed89e-7850-4609-87a0-e841460ca666",
   "metadata": {},
   "outputs": [],
   "source": [
    "# num_transformer = make_pipeline(SimpleImputer(), StandardScaler())\n",
    "# cat_transformer = OneHotEncoder()\n",
    "\n",
    "# preproc_basic = make_column_transformer(\n",
    "#     (num_transformer, ['age', 'bmi']),\n",
    "#     (cat_transformer, ['smoker', 'region']),\n",
    "#     remainder='passthrough'\n",
    "# )\n",
    "\n",
    "# preproc_full = make_union(preproc_basic, bmi_age_ratio_constructor) # for custom feature engineering\n",
    "\n",
    "# preproc_full"
   ]
  },
  {
   "cell_type": "markdown",
   "id": "1810e07e-7975-48f5-af8f-6d2951895b21",
   "metadata": {},
   "source": [
    "# Data Exploration "
   ]
  },
  {
   "cell_type": "markdown",
   "id": "c5edc082-21b6-452c-aa88-cac97ba0d014",
   "metadata": {},
   "source": [
    "## Total cloud cover"
   ]
  },
  {
   "cell_type": "code",
   "execution_count": 25,
   "id": "24d99eea-0e65-4cec-b810-0c816b68b272",
   "metadata": {},
   "outputs": [
    {
     "data": {
      "text/plain": [
       "['clear_sky_energy_1h:J',\n",
       " 'clear_sky_rad:W',\n",
       " 'consumption',\n",
       " 'dew_point_100m:C',\n",
       " 'dew_point_10m:C',\n",
       " 'dew_point_2m:C',\n",
       " 'dew_point_50m:C',\n",
       " 'diffuse_rad:W',\n",
       " 'diffuse_rad_1h:Wh',\n",
       " 'direct_rad:W',\n",
       " 'direct_rad_1h:Wh',\n",
       " 'effective_cloud_cover:p',\n",
       " 'global_rad:W',\n",
       " 'global_rad_1h:Wh',\n",
       " 'high_cloud_cover:p',\n",
       " 'low_cloud_cover:p',\n",
       " 'medium_cloud_cover:p',\n",
       " 'precip_1h:mm',\n",
       " 'precip_type:idx',\n",
       " 'prob_precip_1h:p',\n",
       " 'pv_production',\n",
       " 'relative_humidity_100m:p',\n",
       " 'relative_humidity_10m:p',\n",
       " 'relative_humidity_2m:p',\n",
       " 'relative_humidity_50m:p',\n",
       " 'spot_market_price',\n",
       " 'sun_azimuth:d',\n",
       " 'sun_elevation:d',\n",
       " 'sunshine_duration_1h:min',\n",
       " 't_100m:C',\n",
       " 't_10m:C',\n",
       " 't_50m:C',\n",
       " 'temp',\n",
       " 'time',\n",
       " 'total_cloud_cover:p',\n",
       " 'wind_dir_100m:d',\n",
       " 'wind_dir_10m:d',\n",
       " 'wind_dir_2m:d',\n",
       " 'wind_dir_50m:d',\n",
       " 'wind_production',\n",
       " 'wind_speed_100m:ms',\n",
       " 'wind_speed_10m:ms',\n",
       " 'wind_speed_2m:ms',\n",
       " 'wind_speed_50m:ms']"
      ]
     },
     "execution_count": 25,
     "metadata": {},
     "output_type": "execute_result"
    }
   ],
   "source": [
    "sorted(df.columns)"
   ]
  },
  {
   "cell_type": "code",
   "execution_count": 10,
   "id": "cd48be46-a1d9-40cf-83cb-eedeed05ec97",
   "metadata": {},
   "outputs": [
    {
     "data": {
      "text/plain": [
       "count    9515.000000\n",
       "mean       73.717373\n",
       "std        33.829706\n",
       "min         0.000000\n",
       "25%        52.800000\n",
       "50%        93.000000\n",
       "75%        99.800000\n",
       "max       100.000000\n",
       "Name: total_cloud_cover:p, dtype: float64"
      ]
     },
     "execution_count": 10,
     "metadata": {},
     "output_type": "execute_result"
    }
   ],
   "source": [
    "df['total_cloud_cover:p'].describe()"
   ]
  },
  {
   "cell_type": "code",
   "execution_count": 11,
   "id": "24c87de0-79cc-474b-93e4-b21761d5edd8",
   "metadata": {},
   "outputs": [
    {
     "data": {
      "text/html": [
       "<div>\n",
       "<style scoped>\n",
       "    .dataframe tbody tr th:only-of-type {\n",
       "        vertical-align: middle;\n",
       "    }\n",
       "\n",
       "    .dataframe tbody tr th {\n",
       "        vertical-align: top;\n",
       "    }\n",
       "\n",
       "    .dataframe thead th {\n",
       "        text-align: right;\n",
       "    }\n",
       "</style>\n",
       "<table border=\"1\" class=\"dataframe\">\n",
       "  <thead>\n",
       "    <tr style=\"text-align: right;\">\n",
       "      <th></th>\n",
       "      <th>low_cloud_cover:p</th>\n",
       "      <th>medium_cloud_cover:p</th>\n",
       "      <th>high_cloud_cover:p</th>\n",
       "      <th>total_cloud_cover:p</th>\n",
       "      <th>effective_cloud_cover:p</th>\n",
       "    </tr>\n",
       "  </thead>\n",
       "  <tbody>\n",
       "    <tr>\n",
       "      <th>0</th>\n",
       "      <td>13.2</td>\n",
       "      <td>56.7</td>\n",
       "      <td>97.4</td>\n",
       "      <td>99.0</td>\n",
       "      <td>80.7</td>\n",
       "    </tr>\n",
       "    <tr>\n",
       "      <th>1</th>\n",
       "      <td>1.3</td>\n",
       "      <td>61.5</td>\n",
       "      <td>100.0</td>\n",
       "      <td>100.0</td>\n",
       "      <td>81.0</td>\n",
       "    </tr>\n",
       "    <tr>\n",
       "      <th>2</th>\n",
       "      <td>3.4</td>\n",
       "      <td>92.3</td>\n",
       "      <td>100.0</td>\n",
       "      <td>100.0</td>\n",
       "      <td>96.3</td>\n",
       "    </tr>\n",
       "    <tr>\n",
       "      <th>3</th>\n",
       "      <td>32.1</td>\n",
       "      <td>97.5</td>\n",
       "      <td>100.0</td>\n",
       "      <td>100.0</td>\n",
       "      <td>99.1</td>\n",
       "    </tr>\n",
       "    <tr>\n",
       "      <th>4</th>\n",
       "      <td>92.2</td>\n",
       "      <td>98.6</td>\n",
       "      <td>100.0</td>\n",
       "      <td>100.0</td>\n",
       "      <td>99.9</td>\n",
       "    </tr>\n",
       "    <tr>\n",
       "      <th>5</th>\n",
       "      <td>82.6</td>\n",
       "      <td>95.0</td>\n",
       "      <td>100.0</td>\n",
       "      <td>100.0</td>\n",
       "      <td>99.6</td>\n",
       "    </tr>\n",
       "    <tr>\n",
       "      <th>6</th>\n",
       "      <td>94.3</td>\n",
       "      <td>100.0</td>\n",
       "      <td>100.0</td>\n",
       "      <td>100.0</td>\n",
       "      <td>100.0</td>\n",
       "    </tr>\n",
       "    <tr>\n",
       "      <th>7</th>\n",
       "      <td>92.3</td>\n",
       "      <td>100.0</td>\n",
       "      <td>100.0</td>\n",
       "      <td>100.0</td>\n",
       "      <td>100.0</td>\n",
       "    </tr>\n",
       "    <tr>\n",
       "      <th>8</th>\n",
       "      <td>54.7</td>\n",
       "      <td>100.0</td>\n",
       "      <td>100.0</td>\n",
       "      <td>100.0</td>\n",
       "      <td>100.0</td>\n",
       "    </tr>\n",
       "    <tr>\n",
       "      <th>9</th>\n",
       "      <td>10.5</td>\n",
       "      <td>100.0</td>\n",
       "      <td>100.0</td>\n",
       "      <td>100.0</td>\n",
       "      <td>100.0</td>\n",
       "    </tr>\n",
       "  </tbody>\n",
       "</table>\n",
       "</div>"
      ],
      "text/plain": [
       "   low_cloud_cover:p  medium_cloud_cover:p  high_cloud_cover:p  \\\n",
       "0               13.2                  56.7                97.4   \n",
       "1                1.3                  61.5               100.0   \n",
       "2                3.4                  92.3               100.0   \n",
       "3               32.1                  97.5               100.0   \n",
       "4               92.2                  98.6               100.0   \n",
       "5               82.6                  95.0               100.0   \n",
       "6               94.3                 100.0               100.0   \n",
       "7               92.3                 100.0               100.0   \n",
       "8               54.7                 100.0               100.0   \n",
       "9               10.5                 100.0               100.0   \n",
       "\n",
       "   total_cloud_cover:p  effective_cloud_cover:p  \n",
       "0                 99.0                     80.7  \n",
       "1                100.0                     81.0  \n",
       "2                100.0                     96.3  \n",
       "3                100.0                     99.1  \n",
       "4                100.0                     99.9  \n",
       "5                100.0                     99.6  \n",
       "6                100.0                    100.0  \n",
       "7                100.0                    100.0  \n",
       "8                100.0                    100.0  \n",
       "9                100.0                    100.0  "
      ]
     },
     "execution_count": 11,
     "metadata": {},
     "output_type": "execute_result"
    }
   ],
   "source": [
    "df[['low_cloud_cover:p', 'medium_cloud_cover:p','high_cloud_cover:p', 'total_cloud_cover:p', 'effective_cloud_cover:p']].head(10)"
   ]
  },
  {
   "cell_type": "code",
   "execution_count": 12,
   "id": "e64963dc-a977-4428-a0b2-0262538b5ff8",
   "metadata": {},
   "outputs": [
    {
     "data": {
      "text/html": [
       "<div>\n",
       "<style scoped>\n",
       "    .dataframe tbody tr th:only-of-type {\n",
       "        vertical-align: middle;\n",
       "    }\n",
       "\n",
       "    .dataframe tbody tr th {\n",
       "        vertical-align: top;\n",
       "    }\n",
       "\n",
       "    .dataframe thead th {\n",
       "        text-align: right;\n",
       "    }\n",
       "</style>\n",
       "<table border=\"1\" class=\"dataframe\">\n",
       "  <thead>\n",
       "    <tr style=\"text-align: right;\">\n",
       "      <th></th>\n",
       "      <th>low_cloud_cover:p</th>\n",
       "      <th>medium_cloud_cover:p</th>\n",
       "      <th>high_cloud_cover:p</th>\n",
       "      <th>total_cloud_cover:p</th>\n",
       "      <th>effective_cloud_cover:p</th>\n",
       "    </tr>\n",
       "  </thead>\n",
       "  <tbody>\n",
       "    <tr>\n",
       "      <th>count</th>\n",
       "      <td>9515.000000</td>\n",
       "      <td>9515.000000</td>\n",
       "      <td>9515.000000</td>\n",
       "      <td>9515.000000</td>\n",
       "      <td>9515.000000</td>\n",
       "    </tr>\n",
       "    <tr>\n",
       "      <th>mean</th>\n",
       "      <td>30.421881</td>\n",
       "      <td>49.207651</td>\n",
       "      <td>43.867241</td>\n",
       "      <td>73.717373</td>\n",
       "      <td>66.967399</td>\n",
       "    </tr>\n",
       "    <tr>\n",
       "      <th>std</th>\n",
       "      <td>33.466052</td>\n",
       "      <td>39.684695</td>\n",
       "      <td>42.520553</td>\n",
       "      <td>33.829706</td>\n",
       "      <td>33.886983</td>\n",
       "    </tr>\n",
       "    <tr>\n",
       "      <th>min</th>\n",
       "      <td>0.000000</td>\n",
       "      <td>0.000000</td>\n",
       "      <td>0.000000</td>\n",
       "      <td>0.000000</td>\n",
       "      <td>0.000000</td>\n",
       "    </tr>\n",
       "    <tr>\n",
       "      <th>25%</th>\n",
       "      <td>0.400000</td>\n",
       "      <td>3.600000</td>\n",
       "      <td>0.000000</td>\n",
       "      <td>52.800000</td>\n",
       "      <td>44.000000</td>\n",
       "    </tr>\n",
       "    <tr>\n",
       "      <th>50%</th>\n",
       "      <td>17.200000</td>\n",
       "      <td>49.600000</td>\n",
       "      <td>31.800000</td>\n",
       "      <td>93.000000</td>\n",
       "      <td>79.100000</td>\n",
       "    </tr>\n",
       "    <tr>\n",
       "      <th>75%</th>\n",
       "      <td>53.350000</td>\n",
       "      <td>92.500000</td>\n",
       "      <td>93.800000</td>\n",
       "      <td>99.800000</td>\n",
       "      <td>98.200000</td>\n",
       "    </tr>\n",
       "    <tr>\n",
       "      <th>max</th>\n",
       "      <td>100.000000</td>\n",
       "      <td>100.000000</td>\n",
       "      <td>100.000000</td>\n",
       "      <td>100.000000</td>\n",
       "      <td>100.000000</td>\n",
       "    </tr>\n",
       "  </tbody>\n",
       "</table>\n",
       "</div>"
      ],
      "text/plain": [
       "       low_cloud_cover:p  medium_cloud_cover:p  high_cloud_cover:p  \\\n",
       "count        9515.000000           9515.000000         9515.000000   \n",
       "mean           30.421881             49.207651           43.867241   \n",
       "std            33.466052             39.684695           42.520553   \n",
       "min             0.000000              0.000000            0.000000   \n",
       "25%             0.400000              3.600000            0.000000   \n",
       "50%            17.200000             49.600000           31.800000   \n",
       "75%            53.350000             92.500000           93.800000   \n",
       "max           100.000000            100.000000          100.000000   \n",
       "\n",
       "       total_cloud_cover:p  effective_cloud_cover:p  \n",
       "count          9515.000000              9515.000000  \n",
       "mean             73.717373                66.967399  \n",
       "std              33.829706                33.886983  \n",
       "min               0.000000                 0.000000  \n",
       "25%              52.800000                44.000000  \n",
       "50%              93.000000                79.100000  \n",
       "75%              99.800000                98.200000  \n",
       "max             100.000000               100.000000  "
      ]
     },
     "execution_count": 12,
     "metadata": {},
     "output_type": "execute_result"
    }
   ],
   "source": [
    "df[['low_cloud_cover:p', 'medium_cloud_cover:p','high_cloud_cover:p', 'total_cloud_cover:p', 'effective_cloud_cover:p']].describe()"
   ]
  },
  {
   "cell_type": "code",
   "execution_count": 13,
   "id": "04de7aa1-af99-4462-895a-2d791475262f",
   "metadata": {},
   "outputs": [
    {
     "data": {
      "image/png": "[encoded data removed]",
      "text/plain": [
       "<Figure size 1500x500 with 5 Axes>"
      ]
     },
     "metadata": {},
     "output_type": "display_data"
    }
   ],
   "source": [
    "fig, axes = plt.subplots(1, 5, figsize=(15, 5))  # 1 row, 5 columns\n",
    "\n",
    "axes[0].hist(df['total_cloud_cover:p'], bins=30, color='orange', alpha=0.7)\n",
    "axes[0].set_title('total_cloud_cover')\n",
    "\n",
    "axes[1].hist(df['low_cloud_cover:p'], bins=30, color='blue', alpha=0.7)\n",
    "axes[1].set_title('low_cloud_cover')\n",
    "\n",
    "axes[2].hist(df['medium_cloud_cover:p'], bins=30, color='green', alpha=0.7)\n",
    "axes[2].set_title('medium_cloud_cover')\n",
    "\n",
    "axes[3].hist(df['high_cloud_cover:p'], bins=30, color='red', alpha=0.7)\n",
    "axes[3].set_title('high_cloud_cover')\n",
    "\n",
    "axes[4].hist(df['effective_cloud_cover:p'], bins=30, color='black', alpha=0.7)\n",
    "axes[4].set_title('effective_cloud_cover')\n",
    "\n",
    "plt.tight_layout()\n",
    "plt.show()\n"
   ]
  },
  {
   "cell_type": "code",
   "execution_count": 14,
   "id": "3daaa15b-ea8e-441e-a032-eb13a19880a1",
   "metadata": {},
   "outputs": [
    {
     "data": {
      "image/png": "[encoded data removed]",
      "text/plain": [
       "<Figure size 1500x500 with 5 Axes>"
      ]
     },
     "metadata": {},
     "output_type": "display_data"
    }
   ],
   "source": [
    "fig, axes = plt.subplots(1, 5, figsize=(15, 5))  # 1 row, 5 columns\n",
    "\n",
    "axes[0].boxplot(df['total_cloud_cover:p'])\n",
    "axes[0].set_title('total_cloud_cover')\n",
    "\n",
    "axes[1].boxplot(df['low_cloud_cover:p'])\n",
    "axes[1].set_title('low_cloud_cover')\n",
    "\n",
    "axes[2].boxplot(df['medium_cloud_cover:p'])\n",
    "axes[2].set_title('medium_cloud_cover')\n",
    "\n",
    "axes[3].boxplot(df['high_cloud_cover:p'])\n",
    "axes[3].set_title('high_cloud_cover')\n",
    "\n",
    "axes[4].boxplot(df['effective_cloud_cover:p'])\n",
    "axes[4].set_title('effective_cloud_cover')\n",
    "\n",
    "plt.tight_layout()\n",
    "plt.show()\n"
   ]
  },
  {
   "cell_type": "markdown",
   "id": "7ac68993-9583-4933-a206-5d6df1de7f62",
   "metadata": {},
   "source": [
    "## Sun elevation"
   ]
  },
  {
   "cell_type": "code",
   "execution_count": 15,
   "id": "9eece560-68be-4033-8b61-35b4fc1833e7",
   "metadata": {},
   "outputs": [
    {
     "data": {
      "text/plain": [
       "count    9515.000000\n",
       "mean       -1.281287\n",
       "std        24.429422\n",
       "min       -49.944000\n",
       "25%       -18.737500\n",
       "50%        -1.010000\n",
       "75%        15.566000\n",
       "max        49.879000\n",
       "Name: sun_elevation:d, dtype: float64"
      ]
     },
     "execution_count": 15,
     "metadata": {},
     "output_type": "execute_result"
    }
   ],
   "source": [
    "df['sun_elevation:d'].describe()"
   ]
  },
  {
   "cell_type": "code",
   "execution_count": 16,
   "id": "e32f3803-2632-48b8-8dca-0bf373cc3df1",
   "metadata": {},
   "outputs": [
    {
     "data": {
      "text/plain": [
       "Text(0.5, 1.0, 'sun_elevation')"
      ]
     },
     "execution_count": 16,
     "metadata": {},
     "output_type": "execute_result"
    },
    {
     "data": {
      "image/png": "[encoded data removed]",
      "text/plain": [
       "<Figure size 1500x500 with 2 Axes>"
      ]
     },
     "metadata": {},
     "output_type": "display_data"
    }
   ],
   "source": [
    "fig, axes = plt.subplots(1, 2, figsize=(15, 5))  # 1 row, 5 columns\n",
    "\n",
    "axes[0].boxplot(df['sun_elevation:d'])\n",
    "axes[0].set_title('sun_elevation')"
   ]
  },
  {
   "cell_type": "code",
   "execution_count": 17,
   "id": "47334a6b-6a71-4006-bb9e-a395c97f59d1",
   "metadata": {},
   "outputs": [
    {
     "data": {
      "text/plain": [
       "Text(0.5, 1.0, 'sun_elevation')"
      ]
     },
     "execution_count": 17,
     "metadata": {},
     "output_type": "execute_result"
    },
    {
     "data": {
      "image/png": "[encoded data removed]",
      "text/plain": [
       "<Figure size 1500x500 with 2 Axes>"
      ]
     },
     "metadata": {},
     "output_type": "display_data"
    }
   ],
   "source": [
    "fig, axes = plt.subplots(1, 2, figsize=(15, 5))  # 1 row, 5 columns\n",
    "\n",
    "axes[0].hist(df['sun_elevation:d'], bins=30, color='blue', alpha=0.7)\n",
    "axes[0].set_title('sun_elevation')"
   ]
  },
  {
   "cell_type": "markdown",
   "id": "913f793c-4846-4b7a-b2d1-c5f48c7db91b",
   "metadata": {},
   "source": [
    "## Temp in Celicus at 10, 50 or 100 meters above ground"
   ]
  },
  {
   "cell_type": "code",
   "execution_count": 21,
   "id": "b600f81a-b2f7-449e-8709-d00404c610a0",
   "metadata": {},
   "outputs": [
    {
     "data": {
      "text/plain": [
       "count    9515.000000\n",
       "mean        5.662186\n",
       "std         7.075424\n",
       "min       -15.500000\n",
       "25%         1.200000\n",
       "50%         4.600000\n",
       "75%        10.300000\n",
       "max        29.600000\n",
       "Name: t_10m:C, dtype: float64"
      ]
     },
     "execution_count": 21,
     "metadata": {},
     "output_type": "execute_result"
    }
   ],
   "source": [
    "df['t_10m:C'].describe()"
   ]
  },
  {
   "cell_type": "code",
   "execution_count": 23,
   "id": "e30b65cf-dd10-41ef-929e-7a980f6cebdd",
   "metadata": {},
   "outputs": [
    {
     "data": {
      "image/png": "[encoded data removed]",
      "text/plain": [
       "<Figure size 1500x500 with 3 Axes>"
      ]
     },
     "metadata": {},
     "output_type": "display_data"
    }
   ],
   "source": [
    "fig, axes = plt.subplots(1, 3, figsize=(15, 5))  # 1 row, 5 columns\n",
    "\n",
    "axes[0].hist(df['t_10m:C'], bins=30, color='orange', alpha=0.7)\n",
    "axes[0].set_title('t_10m:C')\n",
    "\n",
    "axes[1].hist(df['t_50m:C'], bins=30, color='blue', alpha=0.7)\n",
    "axes[1].set_title('t_50m:C')\n",
    "\n",
    "axes[2].hist(df['t_100m:C'], bins=30, color='green', alpha=0.7)\n",
    "axes[2].set_title('t_100m:C')\n",
    "\n",
    "plt.tight_layout()\n",
    "plt.show()"
   ]
  },
  {
   "cell_type": "code",
   "execution_count": 24,
   "id": "dd3e2fc4-8e64-4e68-a1c7-9725c9d703fc",
   "metadata": {},
   "outputs": [
    {
     "data": {
      "image/png": "[encoded data removed]",
      "text/plain": [
       "<Figure size 1500x500 with 3 Axes>"
      ]
     },
     "metadata": {},
     "output_type": "display_data"
    }
   ],
   "source": [
    "fig, axes = plt.subplots(1, 3, figsize=(15, 5))  # 1 row, 5 columns\n",
    "\n",
    "axes[0].boxplot(df['t_10m:C'])\n",
    "axes[0].set_title('t_10m:C')\n",
    "\n",
    "axes[1].boxplot(df['t_50m:C'])\n",
    "axes[1].set_title('t_50m:C')\n",
    "\n",
    "axes[2].boxplot(df['t_100m:C'])\n",
    "axes[2].set_title('t_100m:C')\n",
    "\n",
    "\n",
    "plt.tight_layout()\n",
    "plt.show()\n"
   ]
  },
  {
   "cell_type": "code",
   "execution_count": 26,
   "id": "c4da0e9e-4209-47af-9ea2-91d36d0dcfd4",
   "metadata": {},
   "outputs": [
    {
     "name": "stdout",
     "output_type": "stream",
     "text": [
      "Original DataFrame:\n",
      "       t_10m:C  t_50m:C  t_100m:C\n",
      "0         8.3      8.4       8.3\n",
      "1         8.2      8.4       8.4\n",
      "2         8.4      8.5       8.4\n",
      "3         8.3      8.4       8.3\n",
      "4         7.1      7.2       7.1\n",
      "...       ...      ...       ...\n",
      "9510     -3.6     -3.2      -3.1\n",
      "9511     -4.1     -3.5      -3.3\n",
      "9512     -4.3     -3.6      -3.3\n",
      "9513     -4.5     -3.7      -3.4\n",
      "9514     -4.9     -4.0      -3.5\n",
      "\n",
      "[9515 rows x 3 columns]\n",
      "\n",
      "Scaled DataFrame:\n",
      "        t_10m:C   t_50m:C  t_100m:C\n",
      "0     0.406593  0.422222  0.417582\n",
      "1     0.395604  0.422222  0.428571\n",
      "2     0.417582  0.433333  0.428571\n",
      "3     0.406593  0.422222  0.417582\n",
      "4     0.274725  0.288889  0.285714\n",
      "...        ...       ...       ...\n",
      "9510 -0.901099 -0.866667 -0.835165\n",
      "9511 -0.956044 -0.900000 -0.857143\n",
      "9512 -0.978022 -0.911111 -0.857143\n",
      "9513 -1.000000 -0.922222 -0.868132\n",
      "9514 -1.043956 -0.955556 -0.879121\n",
      "\n",
      "[9515 rows x 3 columns]\n"
     ]
    }
   ],
   "source": [
    "import pandas as pd\n",
    "from sklearn.preprocessing import RobustScaler\n",
    "\n",
    "\n",
    "df = df[['t_10m:C', 't_50m:C', 't_100m:C']]\n",
    "\n",
    "# Initialize the scaler\n",
    "scaler = RobustScaler()\n",
    "\n",
    "# Fit and transform selected columns\n",
    "columns_to_scale = ['t_10m:C', 't_50m:C', 't_100m:C']\n",
    "df_scaled = df.copy()  # To keep the original data intact\n",
    "df_scaled[columns_to_scale] = scaler.fit_transform(df[columns_to_scale])\n",
    "\n",
    "print(\"Original DataFrame:\\n\", df)\n",
    "print(\"\\nScaled DataFrame:\\n\", df_scaled)\n"
   ]
  },
  {
   "cell_type": "code",
   "execution_count": null,
   "id": "f2fab73a-487e-4c98-9ac6-7eb10a2708c8",
   "metadata": {},
   "outputs": [],
   "source": []
  }
 ],
 "metadata": {
  "kernelspec": {
   "display_name": "Python 3 (ipykernel)",
   "language": "python",
   "name": "python3"
  },
  "language_info": {
   "codemirror_mode": {
    "name": "ipython",
    "version": 3
   },
   "file_extension": ".py",
   "mimetype": "text/x-python",
   "name": "python",
   "nbconvert_exporter": "python",
   "pygments_lexer": "ipython3",
   "version": "3.10.6"
  }
 },
 "nbformat": 4,
 "nbformat_minor": 5
}
