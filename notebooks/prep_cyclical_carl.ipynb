{
 "cells": [
  {
   "cell_type": "code",
   "execution_count": null,
   "id": "20701497-2d59-4980-97ec-24fac4a21063",
   "metadata": {},
   "outputs": [],
   "source": []
  }
 ],
 "metadata": {
  "kernelspec": {
   "display_name": "",
   "name": ""
  },
  "language_info": {
   "name": ""
  }
 },
 "nbformat": 4,
 "nbformat_minor": 5
}
