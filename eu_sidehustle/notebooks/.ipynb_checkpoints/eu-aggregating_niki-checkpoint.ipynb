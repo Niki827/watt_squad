{
 "cells": [
  {
   "cell_type": "markdown",
   "id": "4282a4d7-81f5-45fe-845c-db4a5bb6517e",
   "metadata": {
    "jp-MarkdownHeadingCollapsed": true
   },
   "source": [
    "# Loading data"
   ]
  },
  {
   "cell_type": "code",
   "execution_count": 31,
   "id": "6d79b4a1-c3b6-46cf-9953-f5fb4e861be8",
   "metadata": {},
   "outputs": [],
   "source": [
    "import pandas as pd"
   ]
  },
  {
   "cell_type": "code",
   "execution_count": 18,
   "id": "d7bd767e-1dd7-4f02-8715-e9f1ac6812f4",
   "metadata": {},
   "outputs": [],
   "source": [
    "athens = pd.read_csv(f'/Users/niki/code/Niki827/watt_squad/eu_data/Athens.csv')\n",
    "berlin = pd.read_csv(f'/Users/niki/code/Niki827/watt_squad/eu_data/Berlin.csv')\n",
    "london = pd.read_csv(f'/Users/niki/code/Niki827/watt_squad/eu_data/London.csv')\n",
    "madrid = pd.read_csv(f'/Users/niki/code/Niki827/watt_squad/eu_data/Madrid.csv')\n",
    "paris = pd.read_csv(f'/Users/niki/code/Niki827/watt_squad/eu_data/Paris.csv')"
   ]
  },
  {
   "cell_type": "code",
   "execution_count": null,
   "id": "39e188bf-7c38-440d-9230-1e062c598ccb",
   "metadata": {},
   "outputs": [],
   "source": [
    "dfs = {}"
   ]
  },
  {
   "cell_type": "markdown",
   "id": "e282d244-b233-4abb-af37-8ef5fe1075a5",
   "metadata": {},
   "source": [
    "# Aggregating data"
   ]
  },
  {
   "cell_type": "code",
   "execution_count": 32,
   "id": "e866f1a9-808f-418a-80bc-e65280372137",
   "metadata": {},
   "outputs": [
    {
     "name": "stdout",
     "output_type": "stream",
     "text": [
      "All data aggregated and saved successfully!\n"
     ]
    }
   ],
   "source": [
    "import pandas as pd\n",
    "import os\n",
    "\n",
    "# Define the path to the data folder\n",
    "data_path = '/Users/niki/code/Niki827/watt_squad/eu_data/'\n",
    "\n",
    "# List of cities (corresponding to CSV filenames)\n",
    "cities = ['Athens', 'Berlin', 'London', 'Madrid', 'Paris']\n",
    "\n",
    "# Dictionary to store DataFrames\n",
    "dfs = {}\n",
    "\n",
    "# Load all CSVs into the dictionary\n",
    "for city in cities:\n",
    "    file_path = os.path.join(data_path, f'{city}.csv')\n",
    "    dfs[city] = pd.read_csv(file_path)\n",
    "\n",
    "# Define the aggregation function\n",
    "def aggregate_data(df):\n",
    "    # Convert 'time' to datetime and create 'date' column\n",
    "    df['time'] = pd.to_datetime(df['time'], format='%Y%m%d:%H%M')  # Adjust format if needed\n",
    "    df['date'] = df['time'].dt.date  # Extract the date for aggregation\n",
    "\n",
    "    # Convert 'P' to 'pv_output' in kWh and sum daily\n",
    "    df['pv_output'] = (df['P'] / 1000) * 1  # Convert W to kWh assuming 1-hour intervals\n",
    "    daily_pv_output = df.groupby('date')['pv_output'].sum().reset_index()\n",
    "\n",
    "    # Convert irradiance values (Gb(i), Gd(i), Gr(i)) to energy in kWh/m^2 and sum daily\n",
    "    for col, new_col in {'Gb(i)': 'direct_irradiance', 'Gd(i)': 'diffuse_irradiance', 'Gr(i)': 'reflected_irradiance'}.items():\n",
    "        df[new_col] = (df[col] * 1) / 1000  # Multiply by time interval (1 hour) and convert to kWh/m^2\n",
    "        df[new_col] = df[new_col].fillna(0)  # Handle NaN values\n",
    "\n",
    "    daily_irradiance = df.groupby('date')[['direct_irradiance', 'diffuse_irradiance', 'reflected_irradiance']].sum().reset_index()\n",
    "\n",
    "    # Average daily values for sun height, temperature, and wind speed\n",
    "    daily_averages = df.groupby('date')[['H_sun', 'T2m', 'WS10m']].mean().reset_index()\n",
    "    daily_averages.rename(columns={\n",
    "        'H_sun': 'sun_height',\n",
    "        'T2m': 'temp',\n",
    "        'WS10m': 'wind_speed'\n",
    "    }, inplace=True)\n",
    "\n",
    "    # Merge all daily data\n",
    "    final_daily_data = pd.merge(daily_pv_output, daily_irradiance, on='date')\n",
    "    final_daily_data = pd.merge(final_daily_data, daily_averages, on='date')\n",
    "\n",
    "    # Select the required columns\n",
    "    final_daily_data = final_daily_data[['date', 'pv_output', 'direct_irradiance', 'diffuse_irradiance',\n",
    "                                         'reflected_irradiance', 'sun_height', 'temp', 'wind_speed']]\n",
    "\n",
    "    return final_daily_data\n",
    "\n",
    "# Process each DataFrame and store the results back into the dictionary\n",
    "aggregated_dfs = {}\n",
    "for city, df in dfs.items():\n",
    "    aggregated_dfs[city] = aggregate_data(df)\n",
    "\n",
    "# Save each aggregated DataFrame to a new CSV file\n",
    "output_path = '/Users/niki/code/Niki827/watt_squad/eu_data/aggregated/'\n",
    "os.makedirs(output_path, exist_ok=True)\n",
    "\n",
    "for city, aggregated_df in aggregated_dfs.items():\n",
    "    aggregated_df.to_csv(os.path.join(output_path, f'{city}_aggregated.csv'), index=False)\n",
    "\n",
    "print(\"All data aggregated and saved successfully!\")"
   ]
  }
 ],
 "metadata": {
  "kernelspec": {
   "display_name": "Python 3 (ipykernel)",
   "language": "python",
   "name": "python3"
  },
  "language_info": {
   "codemirror_mode": {
    "name": "ipython",
    "version": 3
   },
   "file_extension": ".py",
   "mimetype": "text/x-python",
   "name": "python",
   "nbconvert_exporter": "python",
   "pygments_lexer": "ipython3",
   "version": "3.10.6"
  }
 },
 "nbformat": 4,
 "nbformat_minor": 5
}
