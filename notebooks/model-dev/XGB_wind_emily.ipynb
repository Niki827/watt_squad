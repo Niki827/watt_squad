{
 "cells": [
  {
   "cell_type": "markdown",
   "id": "f6395701-657a-42b4-9e7d-59ab2e6cbeb2",
   "metadata": {},
   "source": [
    "# Using XGBoost with Preprocessed Features for Wind Production"
   ]
  },
  {
   "cell_type": "code",
   "execution_count": 1,
   "id": "2cc453a4-6ea5-419a-b668-f02d7e4b6d18",
   "metadata": {},
   "outputs": [],
   "source": [
    "import pandas as pd\n",
    "import numpy as np\n",
    "import seaborn as sns\n",
    "from wattsquad.ml_logic import preproc\n",
    "import matplotlib.pyplot as plt\n",
    "from xgboost import XGBRegressor\n"
   ]
  },
  {
   "cell_type": "markdown",
   "id": "4ccc13a4-bfbe-4f6c-8df0-fa2b53b2a177",
   "metadata": {},
   "source": [
    "### Importing and preprocessing data"
   ]
  },
  {
   "cell_type": "code",
   "execution_count": 2,
   "id": "b46d659a-f9ef-4981-a03b-abdd690fcf34",
   "metadata": {},
   "outputs": [],
   "source": [
    "train = pd.read_csv(\"../../raw_data/train.csv\")"
   ]
  },
  {
   "cell_type": "code",
   "execution_count": 3,
   "id": "c3e6b1f8-c7d3-4ac8-b2e5-92aa68ba381b",
   "metadata": {},
   "outputs": [
    {
     "name": "stdout",
     "output_type": "stream",
     "text": [
      "➡️ preprocessing done\n"
     ]
    }
   ],
   "source": [
    "X_train_transformed = preproc.transform_data(train)"
   ]
  },
  {
   "cell_type": "code",
   "execution_count": 4,
   "id": "f925a5ba-4fa5-45a7-899f-05c0ecf25b03",
   "metadata": {},
   "outputs": [],
   "source": [
    "test = pd.read_csv(\"../../raw_data/test.csv\")"
   ]
  },
  {
   "cell_type": "code",
   "execution_count": 5,
   "id": "78dae963-e989-4403-ada9-e208e945fff2",
   "metadata": {},
   "outputs": [
    {
     "name": "stdout",
     "output_type": "stream",
     "text": [
      "➡️ preprocessing done\n"
     ]
    }
   ],
   "source": [
    "X_test_transformed = preproc.transform_data(test)"
   ]
  },
  {
   "cell_type": "code",
   "execution_count": 6,
   "id": "0ddced1e-290e-41e3-a6d3-394981575caa",
   "metadata": {},
   "outputs": [],
   "source": [
    "y_train = train['wind_production']"
   ]
  },
  {
   "cell_type": "code",
   "execution_count": 7,
   "id": "d16f7903-9881-45ec-8e30-47018ab57bfd",
   "metadata": {},
   "outputs": [],
   "source": [
    "y_test = test['wind_production']"
   ]
  },
  {
   "cell_type": "markdown",
   "id": "a54919c3-1172-4199-8a46-a6739b43d5b0",
   "metadata": {},
   "source": [
    "### removing wind outliers"
   ]
  },
  {
   "cell_type": "code",
   "execution_count": 8,
   "id": "2c6974b2-3db8-4f4f-94a9-19c13da53f9c",
   "metadata": {},
   "outputs": [],
   "source": [
    "wind_train = train.copy()"
   ]
  },
  {
   "cell_type": "code",
   "execution_count": 9,
   "id": "618fc7fb-e3a6-4969-9164-ea45b0eccb86",
   "metadata": {},
   "outputs": [],
   "source": [
    "wind_train.loc[wind_train[\"wind_production\"] < -100, \"wind_production\"] = 21"
   ]
  },
  {
   "cell_type": "code",
   "execution_count": 10,
   "id": "a9d9fe25-a7b7-41f9-b03b-65d29e457ddf",
   "metadata": {},
   "outputs": [
    {
     "data": {
      "text/plain": [
       "count    9515.000000\n",
       "mean       21.379504\n",
       "std        37.237138\n",
       "min        -1.280000\n",
       "25%        -0.260000\n",
       "50%         2.380000\n",
       "75%        26.040000\n",
       "max       225.500000\n",
       "Name: wind_production, dtype: float64"
      ]
     },
     "execution_count": 10,
     "metadata": {},
     "output_type": "execute_result"
    }
   ],
   "source": [
    "wind_train[\"wind_production\"].describe()"
   ]
  },
  {
   "cell_type": "code",
   "execution_count": 11,
   "id": "59ac3a1d-d8e7-4117-85b8-cc4087b7e42b",
   "metadata": {},
   "outputs": [],
   "source": [
    "y_train = wind_train['wind_production']"
   ]
  },
  {
   "cell_type": "code",
   "execution_count": 12,
   "id": "5dae57f5-2064-438f-bc14-2470c8bc13ef",
   "metadata": {},
   "outputs": [
    {
     "data": {
      "text/plain": [
       "count    9515.000000\n",
       "mean       21.379504\n",
       "std        37.237138\n",
       "min        -1.280000\n",
       "25%        -0.260000\n",
       "50%         2.380000\n",
       "75%        26.040000\n",
       "max       225.500000\n",
       "Name: wind_production, dtype: float64"
      ]
     },
     "execution_count": 12,
     "metadata": {},
     "output_type": "execute_result"
    }
   ],
   "source": [
    "y_train.describe()"
   ]
  },
  {
   "cell_type": "markdown",
   "id": "b1d7870b-17ac-4dec-ab76-414eef3b56c2",
   "metadata": {},
   "source": [
    "### Creating X_val and y_val for wind production"
   ]
  },
  {
   "cell_type": "code",
   "execution_count": 13,
   "id": "53576b8c-9106-46b6-9792-9094bfc0a824",
   "metadata": {},
   "outputs": [],
   "source": [
    "# from sklearn.model_selection import train_test_split\n",
    "\n",
    "# # Use the same function above for the validation set\n",
    "# X_train_transformed, X_val, y_train, y_val = train_test_split(\n",
    "#     X_train_transformed, y_train, test_size = 0.1, random_state = 42  # val = 10%\n",
    "# )"
   ]
  },
  {
   "cell_type": "code",
   "execution_count": 14,
   "id": "0224d7eb-d6a3-46e2-92ab-9afccc8a8e20",
   "metadata": {},
   "outputs": [],
   "source": [
    "# X_train_transformed"
   ]
  },
  {
   "cell_type": "markdown",
   "id": "97950355-d8e3-4106-b269-3f706892f5f7",
   "metadata": {},
   "source": [
    "## Randomized search"
   ]
  },
  {
   "cell_type": "code",
   "execution_count": 15,
   "id": "c65a4df9-369d-4495-b82f-a398897d6b11",
   "metadata": {
    "scrolled": true
   },
   "outputs": [],
   "source": [
    "# from sklearn.model_selection import RandomizedSearchCV\n",
    "# from xgboost import XGBRegressor\n",
    "# import numpy as np\n",
    "\n",
    "# # Define the parameter grid\n",
    "# param_dist = {\n",
    "#     'max_depth': [5, 7, 9],                     # Maximum depth of trees\n",
    "#     'n_estimators': [100, 300, 500, 700],       # Number of boosting rounds\n",
    "#     'learning_rate': [0.01, 0.05, 0.1],         # Learning rate (shrinkage)\n",
    "#     'reg_alpha': [0, 0.01, 0.05, 0.1],          # L1 regularization term\n",
    "#     'reg_lambda': [1, 10, 20, 50],              # L2 regularization term\n",
    "#     'subsample': [0.7, 0.8, 0.9, 1.0],          # Fraction of samples per tree\n",
    "#     'colsample_bytree': [0.7, 0.8, 0.9, 1.0],   # Fraction of features per tree\n",
    "#     'min_child_weight': [1, 3, 5],              # Minimum sum of weights for child nodes\n",
    "#     'gamma': [0, 1, 5],                         # Minimum loss reduction for split\n",
    "# }\n",
    "\n",
    "# # Initialize the model\n",
    "# xgb_model = XGBRegressor(\n",
    "#     objective='reg:squarederror',\n",
    "#     eval_metric='mae',\n",
    "#     random_state=42  # Ensuring reproducibility\n",
    "# )\n",
    "\n",
    "# # Set up RandomizedSearchCV\n",
    "# random_search = RandomizedSearchCV(\n",
    "#     estimator=xgb_model,\n",
    "#     param_distributions=param_dist,\n",
    "#     n_iter=50,                # Number of parameter combinations to try\n",
    "#     scoring='neg_mean_absolute_error',  # Metric to optimize\n",
    "#     cv=3,                     # 3-fold cross-validation\n",
    "#     verbose=2,                # Print progress\n",
    "#     random_state=42,          # Reproducibility\n",
    "#     n_jobs=-1                 # Use all available cores\n",
    "# )\n",
    "\n",
    "# # Perform the search\n",
    "# random_search.fit(X_train_transformed, y_train)\n",
    "\n",
    "# # Display the best parameters and score\n",
    "# print(\"Best Parameters:\", random_search.best_params_)\n",
    "# print(\"Best MAE Score:\", -random_search.best_score_)\n",
    "\n",
    "# # Retrieve the best model\n",
    "# best_model = random_search.best_estimator_\n",
    "\n",
    "# # # Save the best model if necessary\n",
    "# # import joblib\n",
    "# # joblib.dump(best_model, 'best_xgb_model.pkl')\n"
   ]
  },
  {
   "cell_type": "code",
   "execution_count": 16,
   "id": "0ff4e975-acc5-40b2-b53d-baf0583c653c",
   "metadata": {},
   "outputs": [
    {
     "data": {
      "text/plain": [
       "count    841.000000\n",
       "mean      20.086468\n",
       "std       27.797933\n",
       "min       -0.850000\n",
       "25%       -0.260000\n",
       "50%        9.440000\n",
       "75%       30.890000\n",
       "max      195.570000\n",
       "Name: wind_production, dtype: float64"
      ]
     },
     "execution_count": 16,
     "metadata": {},
     "output_type": "execute_result"
    }
   ],
   "source": [
    "y_test.describe()"
   ]
  },
  {
   "cell_type": "markdown",
   "id": "883086a1-9168-4988-b277-a780d35bea57",
   "metadata": {},
   "source": [
    "# Stacking models"
   ]
  },
  {
   "cell_type": "code",
   "execution_count": 17,
   "id": "7f35a891-cb26-4686-9f2c-00b9125fad08",
   "metadata": {},
   "outputs": [],
   "source": [
    "# X_train_transformed.info()"
   ]
  },
  {
   "cell_type": "code",
   "execution_count": 18,
   "id": "8a01665d-76eb-47b2-89a6-011cd04d7c90",
   "metadata": {},
   "outputs": [],
   "source": [
    "# X_test_transformed.info()"
   ]
  },
  {
   "cell_type": "code",
   "execution_count": 19,
   "id": "b29ff5a6-862a-4b01-9292-0eac58e43984",
   "metadata": {},
   "outputs": [
    {
     "data": {
      "text/html": [
       "<div>\n",
       "<style scoped>\n",
       "    .dataframe tbody tr th:only-of-type {\n",
       "        vertical-align: middle;\n",
       "    }\n",
       "\n",
       "    .dataframe tbody tr th {\n",
       "        vertical-align: top;\n",
       "    }\n",
       "\n",
       "    .dataframe thead th {\n",
       "        text-align: right;\n",
       "    }\n",
       "</style>\n",
       "<table border=\"1\" class=\"dataframe\">\n",
       "  <thead>\n",
       "    <tr style=\"text-align: right;\">\n",
       "      <th></th>\n",
       "      <th>onehotencoder__precip_type:idx_0.0</th>\n",
       "      <th>onehotencoder__precip_type:idx_1.0</th>\n",
       "      <th>onehotencoder__precip_type:idx_2.0</th>\n",
       "      <th>onehotencoder__precip_type:idx_3.0</th>\n",
       "      <th>minmaxscaler__precip_1h:mm</th>\n",
       "      <th>minmaxscaler__prob_precip_1h:p</th>\n",
       "      <th>minmaxscaler__clear_sky_rad:W</th>\n",
       "      <th>minmaxscaler__clear_sky_energy_1h:J</th>\n",
       "      <th>minmaxscaler__diffuse_rad:W</th>\n",
       "      <th>minmaxscaler__diffuse_rad_1h:Wh</th>\n",
       "      <th>...</th>\n",
       "      <th>minmaxscaler__sin_sun_azimuth:d</th>\n",
       "      <th>minmaxscaler__cos_sun_azimuth:d</th>\n",
       "      <th>minmaxscaler__sin_wind_dir_2m:d</th>\n",
       "      <th>minmaxscaler__cos_wind_dir_2m:d</th>\n",
       "      <th>minmaxscaler__sin_wind_dir_10m:d</th>\n",
       "      <th>minmaxscaler__cos_wind_dir_10m:d</th>\n",
       "      <th>minmaxscaler__sin_wind_dir_50m:d</th>\n",
       "      <th>minmaxscaler__cos_wind_dir_50m:d</th>\n",
       "      <th>minmaxscaler__sin_wind_dir_100m:d</th>\n",
       "      <th>minmaxscaler__cos_wind_dir_100m:d</th>\n",
       "    </tr>\n",
       "  </thead>\n",
       "  <tbody>\n",
       "    <tr>\n",
       "      <th>0</th>\n",
       "      <td>1.0</td>\n",
       "      <td>0.0</td>\n",
       "      <td>0</td>\n",
       "      <td>0.0</td>\n",
       "      <td>0.0</td>\n",
       "      <td>0.0</td>\n",
       "      <td>0.0</td>\n",
       "      <td>0.0</td>\n",
       "      <td>0.0</td>\n",
       "      <td>0.0</td>\n",
       "      <td>...</td>\n",
       "      <td>0.567417</td>\n",
       "      <td>0.999371</td>\n",
       "      <td>0.278462</td>\n",
       "      <td>0.051756</td>\n",
       "      <td>0.278462</td>\n",
       "      <td>0.051756</td>\n",
       "      <td>0.221852</td>\n",
       "      <td>0.086114</td>\n",
       "      <td>0.157726</td>\n",
       "      <td>0.137618</td>\n",
       "    </tr>\n",
       "    <tr>\n",
       "      <th>1</th>\n",
       "      <td>1.0</td>\n",
       "      <td>0.0</td>\n",
       "      <td>0</td>\n",
       "      <td>0.0</td>\n",
       "      <td>0.0</td>\n",
       "      <td>0.0</td>\n",
       "      <td>0.0</td>\n",
       "      <td>0.0</td>\n",
       "      <td>0.0</td>\n",
       "      <td>0.0</td>\n",
       "      <td>...</td>\n",
       "      <td>0.727718</td>\n",
       "      <td>0.948728</td>\n",
       "      <td>0.343002</td>\n",
       "      <td>0.025287</td>\n",
       "      <td>0.343002</td>\n",
       "      <td>0.025287</td>\n",
       "      <td>0.283957</td>\n",
       "      <td>0.050017</td>\n",
       "      <td>0.214643</td>\n",
       "      <td>0.090813</td>\n",
       "    </tr>\n",
       "    <tr>\n",
       "      <th>2</th>\n",
       "      <td>1.0</td>\n",
       "      <td>0.0</td>\n",
       "      <td>0</td>\n",
       "      <td>0.0</td>\n",
       "      <td>0.0</td>\n",
       "      <td>0.0</td>\n",
       "      <td>0.0</td>\n",
       "      <td>0.0</td>\n",
       "      <td>0.0</td>\n",
       "      <td>0.0</td>\n",
       "      <td>...</td>\n",
       "      <td>0.853800</td>\n",
       "      <td>0.856272</td>\n",
       "      <td>0.352978</td>\n",
       "      <td>0.022103</td>\n",
       "      <td>0.352978</td>\n",
       "      <td>0.022103</td>\n",
       "      <td>0.298227</td>\n",
       "      <td>0.043328</td>\n",
       "      <td>0.234301</td>\n",
       "      <td>0.077625</td>\n",
       "    </tr>\n",
       "    <tr>\n",
       "      <th>3</th>\n",
       "      <td>1.0</td>\n",
       "      <td>0.0</td>\n",
       "      <td>0</td>\n",
       "      <td>0.0</td>\n",
       "      <td>0.0</td>\n",
       "      <td>0.0</td>\n",
       "      <td>0.0</td>\n",
       "      <td>0.0</td>\n",
       "      <td>0.0</td>\n",
       "      <td>0.0</td>\n",
       "      <td>...</td>\n",
       "      <td>0.938619</td>\n",
       "      <td>0.742218</td>\n",
       "      <td>0.373119</td>\n",
       "      <td>0.016365</td>\n",
       "      <td>0.373119</td>\n",
       "      <td>0.016365</td>\n",
       "      <td>0.315127</td>\n",
       "      <td>0.036107</td>\n",
       "      <td>0.246983</td>\n",
       "      <td>0.069810</td>\n",
       "    </tr>\n",
       "    <tr>\n",
       "      <th>4</th>\n",
       "      <td>1.0</td>\n",
       "      <td>0.0</td>\n",
       "      <td>0</td>\n",
       "      <td>0.0</td>\n",
       "      <td>0.0</td>\n",
       "      <td>0.0</td>\n",
       "      <td>0.0</td>\n",
       "      <td>0.0</td>\n",
       "      <td>0.0</td>\n",
       "      <td>0.0</td>\n",
       "      <td>...</td>\n",
       "      <td>0.985423</td>\n",
       "      <td>0.621220</td>\n",
       "      <td>0.422643</td>\n",
       "      <td>0.006019</td>\n",
       "      <td>0.422643</td>\n",
       "      <td>0.006019</td>\n",
       "      <td>0.373965</td>\n",
       "      <td>0.016452</td>\n",
       "      <td>0.314317</td>\n",
       "      <td>0.036312</td>\n",
       "    </tr>\n",
       "  </tbody>\n",
       "</table>\n",
       "<p>5 rows × 53 columns</p>\n",
       "</div>"
      ],
      "text/plain": [
       "   onehotencoder__precip_type:idx_0.0  onehotencoder__precip_type:idx_1.0  \\\n",
       "0                                 1.0                                 0.0   \n",
       "1                                 1.0                                 0.0   \n",
       "2                                 1.0                                 0.0   \n",
       "3                                 1.0                                 0.0   \n",
       "4                                 1.0                                 0.0   \n",
       "\n",
       "   onehotencoder__precip_type:idx_2.0  onehotencoder__precip_type:idx_3.0  \\\n",
       "0                                   0                                 0.0   \n",
       "1                                   0                                 0.0   \n",
       "2                                   0                                 0.0   \n",
       "3                                   0                                 0.0   \n",
       "4                                   0                                 0.0   \n",
       "\n",
       "   minmaxscaler__precip_1h:mm  minmaxscaler__prob_precip_1h:p  \\\n",
       "0                         0.0                             0.0   \n",
       "1                         0.0                             0.0   \n",
       "2                         0.0                             0.0   \n",
       "3                         0.0                             0.0   \n",
       "4                         0.0                             0.0   \n",
       "\n",
       "   minmaxscaler__clear_sky_rad:W  minmaxscaler__clear_sky_energy_1h:J  \\\n",
       "0                            0.0                                  0.0   \n",
       "1                            0.0                                  0.0   \n",
       "2                            0.0                                  0.0   \n",
       "3                            0.0                                  0.0   \n",
       "4                            0.0                                  0.0   \n",
       "\n",
       "   minmaxscaler__diffuse_rad:W  minmaxscaler__diffuse_rad_1h:Wh  ...  \\\n",
       "0                          0.0                              0.0  ...   \n",
       "1                          0.0                              0.0  ...   \n",
       "2                          0.0                              0.0  ...   \n",
       "3                          0.0                              0.0  ...   \n",
       "4                          0.0                              0.0  ...   \n",
       "\n",
       "   minmaxscaler__sin_sun_azimuth:d  minmaxscaler__cos_sun_azimuth:d  \\\n",
       "0                         0.567417                         0.999371   \n",
       "1                         0.727718                         0.948728   \n",
       "2                         0.853800                         0.856272   \n",
       "3                         0.938619                         0.742218   \n",
       "4                         0.985423                         0.621220   \n",
       "\n",
       "   minmaxscaler__sin_wind_dir_2m:d  minmaxscaler__cos_wind_dir_2m:d  \\\n",
       "0                         0.278462                         0.051756   \n",
       "1                         0.343002                         0.025287   \n",
       "2                         0.352978                         0.022103   \n",
       "3                         0.373119                         0.016365   \n",
       "4                         0.422643                         0.006019   \n",
       "\n",
       "   minmaxscaler__sin_wind_dir_10m:d  minmaxscaler__cos_wind_dir_10m:d  \\\n",
       "0                          0.278462                          0.051756   \n",
       "1                          0.343002                          0.025287   \n",
       "2                          0.352978                          0.022103   \n",
       "3                          0.373119                          0.016365   \n",
       "4                          0.422643                          0.006019   \n",
       "\n",
       "   minmaxscaler__sin_wind_dir_50m:d  minmaxscaler__cos_wind_dir_50m:d  \\\n",
       "0                          0.221852                          0.086114   \n",
       "1                          0.283957                          0.050017   \n",
       "2                          0.298227                          0.043328   \n",
       "3                          0.315127                          0.036107   \n",
       "4                          0.373965                          0.016452   \n",
       "\n",
       "   minmaxscaler__sin_wind_dir_100m:d  minmaxscaler__cos_wind_dir_100m:d  \n",
       "0                           0.157726                           0.137618  \n",
       "1                           0.214643                           0.090813  \n",
       "2                           0.234301                           0.077625  \n",
       "3                           0.246983                           0.069810  \n",
       "4                           0.314317                           0.036312  \n",
       "\n",
       "[5 rows x 53 columns]"
      ]
     },
     "execution_count": 19,
     "metadata": {},
     "output_type": "execute_result"
    }
   ],
   "source": [
    "\n",
    "# Identify the column to move and its target position\n",
    "# column_to_move = df.columns[51]  # 52nd column (zero-based index is 51)\n",
    "# target_position = 1  # Move to the 2nd column (zero-based index is 1)\n",
    "\n",
    "# Reorder columns\n",
    "columns = list(X_test_transformed.columns)\n",
    "columns.remove(X_test_transformed.columns[52])\n",
    "columns.insert(2, X_test_transformed.columns[52])\n",
    "\n",
    "# Apply the new order to the DataFrame\n",
    "X_test_transformed = X_test_transformed[columns]\n",
    "\n",
    "# Check result\n",
    "X_test_transformed.head()\n"
   ]
  },
  {
   "cell_type": "code",
   "execution_count": 20,
   "id": "7379a0fe-f262-4fc9-8c26-9bf78f82c7ac",
   "metadata": {},
   "outputs": [
    {
     "name": "stdout",
     "output_type": "stream",
     "text": [
      "Mean Absolute Error: 19.6543\n"
     ]
    }
   ],
   "source": [
    "from sklearn.ensemble import StackingRegressor\n",
    "from sklearn.ensemble import RandomForestRegressor\n",
    "from sklearn.linear_model import Ridge, LinearRegression\n",
    "from sklearn.model_selection import train_test_split\n",
    "from sklearn.metrics import mean_absolute_error\n",
    "import xgboost as xgb\n",
    "import numpy as np\n",
    "\n",
    "# # Example Data (replace with your dataset)\n",
    "# from sklearn.datasets import fetch_california_housing\n",
    "# data = fetch_california_housing()\n",
    "# X, y = data.data, data.target\n",
    "\n",
    "# # Train-test split\n",
    "# X_train, X_test, y_train, y_test = train_test_split(X, y, test_size=0.2, random_state=42)\n",
    "\n",
    "# Define Base Models\n",
    "xgb_model = xgb.XGBRegressor(\n",
    "    n_estimators=500,\n",
    "    max_depth=9,\n",
    "    learning_rate=0.05,\n",
    "    gamma=5,\n",
    "    colsample_bytree=1.0,\n",
    "    subsample=0.9,\n",
    "    reg_alpha=0.05,\n",
    "    reg_lambda=10,\n",
    "    random_state=42\n",
    ")\n",
    "rf_model = RandomForestRegressor(n_estimators=200, random_state=42)\n",
    "ridge_model = Ridge(alpha=1.0)\n",
    "\n",
    "# Define Meta-Model\n",
    "meta_model = LinearRegression()\n",
    "\n",
    "# Create Stacking Regressor\n",
    "stacking_regressor = StackingRegressor(\n",
    "    estimators=[\n",
    "        ('xgb', xgb_model),\n",
    "        ('rf', rf_model),\n",
    "        ('ridge', ridge_model)\n",
    "    ],\n",
    "    final_estimator=meta_model,\n",
    "    n_jobs=-1\n",
    ")\n",
    "\n",
    "# Train the Stacking Regressor\n",
    "stacking_regressor.fit(X_train_transformed, y_train)\n",
    "\n",
    "# Make Predictions\n",
    "y_pred = stacking_regressor.predict(X_test_transformed)\n",
    "\n",
    "# Evaluate Performance\n",
    "mae = mean_absolute_error(y_test, y_pred)\n",
    "print(f\"Mean Absolute Error: {mae:.4f}\")\n"
   ]
  },
  {
   "cell_type": "code",
   "execution_count": null,
   "id": "5d428dd2-8998-4448-a59b-80d88bf6dbad",
   "metadata": {},
   "outputs": [],
   "source": [
    "baseline_mae = ((abs(y_train-y_train.mean())).mean())\n",
    "baseline_mae"
   ]
  },
  {
   "cell_type": "code",
   "execution_count": null,
   "id": "90133670-30a3-40b1-be10-5673b14de746",
   "metadata": {},
   "outputs": [],
   "source": [
    "model_mae = ((abs(y_val-y_pred)).mean())\n",
    "model_mae"
   ]
  },
  {
   "cell_type": "code",
   "execution_count": null,
   "id": "53b2458e-f6ce-4761-a2b3-1648a3f2d1db",
   "metadata": {},
   "outputs": [],
   "source": [
    "plt.figure(figsize=(10, 6))  # Set the figure size\n",
    "\n",
    "# Plot the 'pv_forecast' column\n",
    "plt.plot(y_pred, label='Wind Forecast', color='blue', linestyle='-')\n",
    "\n",
    "# Plot the 'pv_production' column\n",
    "plt.plot(test['wind_production'], label='Wind Production', color='orange', linestyle='--')\n",
    "\n",
    "# Add labels, legend, and title\n",
    "plt.xlabel('Time (hours)')\n",
    "plt.ylabel('Wind production (kWh/h)')\n",
    "plt.title('Wind Forecast vs Wind Production')\n",
    "plt.legend()\n",
    "\n",
    "# Display the plot\n",
    "plt.show()"
   ]
  },
  {
   "cell_type": "markdown",
   "id": "e520a5b1-817a-448e-ae57-dc758064dea7",
   "metadata": {},
   "source": [
    "# XGBoost\n",
    "## Setting up the model "
   ]
  },
  {
   "cell_type": "code",
   "execution_count": null,
   "id": "55152cb1-ed31-48f4-a2c0-21e79ff4c83e",
   "metadata": {
    "scrolled": true
   },
   "outputs": [],
   "source": [
    "# # nb optimal values refer to solar\n",
    "\n",
    "# # Initialize the model with the best parameters from grid search\n",
    "# xgb_reg = XGBRegressor(\n",
    "#     max_depth=7,                # Optimal value found\n",
    "#     n_estimators=300,           # Optimal value found\n",
    "#     learning_rate=0.05,         # Optimal value found\n",
    "#     reg_alpha=0.05,             # Optimal value found\n",
    "#     reg_lambda=20,              # Optimal value found\n",
    "#     subsample=0.8,              # Optimal value found\n",
    "#     colsample_bytree=0.8,       # Optimal value found\n",
    "#     objective='reg:squarederror',\n",
    "#     eval_metric=\"mae\",\n",
    "#     random_state=42             # Ensuring reproducibility\n",
    "# )\n",
    "\n",
    "# # Fit the model on the training data\n",
    "# xgb_reg.fit(\n",
    "#     X_train_transformed, \n",
    "#     y_train,\n",
    "#     eval_set=[(X_train_transformed, y_train), (X_val, y_val)],\n",
    "#     early_stopping_rounds=5     # Retain early stopping\n",
    "# )\n",
    "\n",
    "# # Make predictions\n",
    "# y_pred = xgb_reg.predict(X_test_transformed) # predicted wind production"
   ]
  },
  {
   "cell_type": "markdown",
   "id": "f262e3bf-55ca-4be2-80b0-6b34abf47b4d",
   "metadata": {},
   "source": [
    "## Plotting best model forecasts vs. actual wind production"
   ]
  },
  {
   "cell_type": "code",
   "execution_count": null,
   "id": "2acabac6-22a5-4465-8354-4e2759e1f15d",
   "metadata": {},
   "outputs": [],
   "source": [
    "# plt.figure(figsize=(10, 6))  # Set the figure size\n",
    "\n",
    "# # Plot the 'pv_forecast' column\n",
    "# plt.plot(y_pred, label='Wind Forecast', color='blue', linestyle='-')\n",
    "\n",
    "# # Plot the 'pv_production' column\n",
    "# plt.plot(test['wind_production'], label='Wind Production', color='orange', linestyle='--')\n",
    "\n",
    "# # Add labels, legend, and title\n",
    "# plt.xlabel('Time (hours)')\n",
    "# plt.ylabel('Wind production (kWh/h)')\n",
    "# plt.title('Wind Forecast vs Wind Production')\n",
    "# plt.legend()\n",
    "\n",
    "# # Display the plot\n",
    "# plt.show()"
   ]
  },
  {
   "cell_type": "code",
   "execution_count": null,
   "id": "0d59c4cd-0344-41cb-858e-1930fe479572",
   "metadata": {},
   "outputs": [],
   "source": [
    "# train[\"wind_production\"].describe()"
   ]
  },
  {
   "cell_type": "code",
   "execution_count": null,
   "id": "0b1c3a4f-9a98-413e-993f-b8ca1e32717f",
   "metadata": {},
   "outputs": [],
   "source": [
    "# sns.histplot(data=y_train)"
   ]
  },
  {
   "cell_type": "code",
   "execution_count": null,
   "id": "659a88e9-f9a3-40b1-86e8-bfca6c443eaf",
   "metadata": {},
   "outputs": [],
   "source": [
    "# len(X_train_transformed)"
   ]
  },
  {
   "cell_type": "code",
   "execution_count": null,
   "id": "d2c6fb72-eeb7-4fb0-be00-2e8514b31dd0",
   "metadata": {},
   "outputs": [],
   "source": [
    "# from sklearn.model_selection import train_test_split\n",
    "\n",
    "# # Use the same function above for the validation set\n",
    "# X_train_transformed, X_val, y_train, y_val = train_test_split(\n",
    "#     X_train_transformed, y_train, test_size = 0.1, random_state = 42  # val = 10%\n",
    "# )"
   ]
  },
  {
   "cell_type": "code",
   "execution_count": null,
   "id": "f7df376a-1705-4410-8b5b-49bfe56037e1",
   "metadata": {
    "scrolled": true
   },
   "outputs": [],
   "source": [
    "# # nb optimal values refer to solar\n",
    "\n",
    "# # Initialize the model with the best parameters from grid search\n",
    "# xgb_reg = XGBRegressor(\n",
    "#     max_depth=7,                # Optimal value found\n",
    "#     n_estimators=300,           # Optimal value found\n",
    "#     learning_rate=0.05,         # Optimal value found\n",
    "#     reg_alpha=0.05,             # Optimal value found\n",
    "#     reg_lambda=20,              # Optimal value found\n",
    "#     subsample=0.8,              # Optimal value found\n",
    "#     colsample_bytree=0.8,       # Optimal value found\n",
    "#     objective='reg:squarederror',\n",
    "#     eval_metric=\"mae\",\n",
    "#     random_state=42             # Ensuring reproducibility\n",
    "# )\n",
    "\n",
    "# # Fit the model on the training data\n",
    "# xgb_reg.fit(\n",
    "#     X_train_transformed, \n",
    "#     y_train,\n",
    "#     eval_set=[(X_train_transformed, y_train), (X_val, y_val)],\n",
    "#     early_stopping_rounds=20     # Retain early stopping\n",
    "# )\n",
    "\n",
    "# # Make predictions\n",
    "# y_pred = xgb_reg.predict(X_test_transformed) # predicted wind production"
   ]
  },
  {
   "cell_type": "code",
   "execution_count": null,
   "id": "641296ff-bb9b-44d4-902e-73fda29e69b1",
   "metadata": {},
   "outputs": [],
   "source": [
    "# plt.figure(figsize=(10, 6))  # Set the figure size\n",
    "\n",
    "# # Plot the 'pv_forecast' column\n",
    "# plt.plot(y_pred, label='Wind Forecast', color='blue', linestyle='-')\n",
    "\n",
    "# # Plot the 'pv_production' column\n",
    "# plt.plot(test['wind_production'], label='Wind Production', color='orange', linestyle='--')\n",
    "\n",
    "# # Add labels, legend, and title\n",
    "# plt.xlabel('Time (hours)')\n",
    "# plt.ylabel('Wind production (kWh/h)')\n",
    "# plt.title('Wind Forecast vs Wind Production')\n",
    "# plt.legend()\n",
    "\n",
    "# # Display the plot\n",
    "# plt.show()"
   ]
  }
 ],
 "metadata": {
  "kernelspec": {
   "display_name": "Python 3 (ipykernel)",
   "language": "python",
   "name": "python3"
  },
  "language_info": {
   "codemirror_mode": {
    "name": "ipython",
    "version": 3
   },
   "file_extension": ".py",
   "mimetype": "text/x-python",
   "name": "python",
   "nbconvert_exporter": "python",
   "pygments_lexer": "ipython3",
   "version": "3.10.6"
  }
 },
 "nbformat": 4,
 "nbformat_minor": 5
}
