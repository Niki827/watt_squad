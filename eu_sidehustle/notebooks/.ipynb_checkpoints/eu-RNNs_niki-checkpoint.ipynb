{
 "cells": [
  {
   "cell_type": "markdown",
   "id": "27b4ee95-3e8a-4dfd-83e3-1ff8ebd408ca",
   "metadata": {},
   "source": [
    "# mini sequences"
   ]
  },
  {
   "cell_type": "code",
   "execution_count": null,
   "id": "b18dfce9-9679-4069-b48a-d24f610e4168",
   "metadata": {},
   "outputs": [],
   "source": [
    "# macht mehrere sequences indem sie die funktion darunter called\n",
    "def get_X_y"
   ]
  },
  {
   "cell_type": "code",
   "execution_count": null,
   "id": "336d1838-c44f-480f-a25c-09b4db78c201",
   "metadata": {},
   "outputs": [],
   "source": [
    "# macht eine sequence\n",
    "def get Xi_yi()"
   ]
  },
  {
   "cell_type": "markdown",
   "id": "3b35ce17-241e-4c98-ab46-bf6454be850a",
   "metadata": {},
   "source": [
    "# Import libraries"
   ]
  },
  {
   "cell_type": "code",
   "execution_count": 1,
   "id": "a222d6f8-0229-4239-b3fc-89dc68b4413a",
   "metadata": {},
   "outputs": [],
   "source": [
    "# Data manipulation\n",
    "import numpy as np\n",
    "import pandas as pd\n",
    "pd.set_option(\"display.max_columns\", None)\n",
    "\n",
    "# Data Visualiation\n",
    "import matplotlib.pyplot as plt\n",
    "import seaborn as sns\n",
    "\n",
    "# System\n",
    "import os\n",
    "\n",
    "# Deep Learning\n",
    "import tensorflow as tf"
   ]
  },
  {
   "cell_type": "code",
   "execution_count": 2,
   "id": "1e5c69a9-c282-4e26-86cb-8813c9ef9e00",
   "metadata": {},
   "outputs": [],
   "source": [
    "from typing import Dict, List, Tuple, Sequence"
   ]
  },
  {
   "cell_type": "markdown",
   "id": "b1765783-af9b-45b6-8d2c-8c5789ac3d3f",
   "metadata": {},
   "source": [
    "# Import data"
   ]
  },
  {
   "cell_type": "code",
   "execution_count": 20,
   "id": "225e25ec-e391-4d41-b11c-b7f677fa3111",
   "metadata": {},
   "outputs": [],
   "source": [
    "path = \"/Users/niki/code/Niki827/watt_squad/eu_sidehustle/aggregating_preprocessing/data/04_preprocessed\""
   ]
  },
  {
   "cell_type": "code",
   "execution_count": 21,
   "id": "f9c5bb41-67b2-40c3-8af3-1711cbf05b2e",
   "metadata": {},
   "outputs": [],
   "source": [
    "athens = pd.read_csv(f'{path}/Athens_preprocessed.csv')"
   ]
  },
  {
   "cell_type": "code",
   "execution_count": 22,
   "id": "f9b080d8-a397-4964-aadf-7b48d367ab2d",
   "metadata": {},
   "outputs": [],
   "source": [
    "berlin = pd.read_csv(f'{path}/Berlin_preprocessed.csv')"
   ]
  },
  {
   "cell_type": "code",
   "execution_count": 23,
   "id": "ed4643cc-7ce4-408a-b3cd-cbe55fd8c2da",
   "metadata": {},
   "outputs": [],
   "source": [
    "london = pd.read_csv(f'{path}/London_preprocessed.csv')"
   ]
  },
  {
   "cell_type": "code",
   "execution_count": 24,
   "id": "bdbc60eb-1f22-4124-ae28-369cfa452f4e",
   "metadata": {},
   "outputs": [],
   "source": [
    "madrid = pd.read_csv(f'{path}/Madrid_preprocessed.csv')"
   ]
  },
  {
   "cell_type": "code",
   "execution_count": 25,
   "id": "33d4e6b7-e240-4637-94af-a0763f231586",
   "metadata": {},
   "outputs": [],
   "source": [
    "paris = pd.read_csv(f'{path}/Paris_preprocessed.csv')"
   ]
  },
  {
   "cell_type": "markdown",
   "id": "5f60d711-9109-411d-a85e-778ab857cbd2",
   "metadata": {},
   "source": [
    "## Inspect data"
   ]
  },
  {
   "cell_type": "code",
   "execution_count": 26,
   "id": "d092533e-685e-4d18-bb0a-c93555745003",
   "metadata": {},
   "outputs": [
    {
     "data": {
      "text/html": [
       "<div>\n",
       "<style scoped>\n",
       "    .dataframe tbody tr th:only-of-type {\n",
       "        vertical-align: middle;\n",
       "    }\n",
       "\n",
       "    .dataframe tbody tr th {\n",
       "        vertical-align: top;\n",
       "    }\n",
       "\n",
       "    .dataframe thead th {\n",
       "        text-align: right;\n",
       "    }\n",
       "</style>\n",
       "<table border=\"1\" class=\"dataframe\">\n",
       "  <thead>\n",
       "    <tr style=\"text-align: right;\">\n",
       "      <th></th>\n",
       "      <th>pv_output</th>\n",
       "      <th>direct_irradiance</th>\n",
       "      <th>diffuse_irradiance</th>\n",
       "      <th>reflected_irradiance</th>\n",
       "      <th>sun_height</th>\n",
       "      <th>temp</th>\n",
       "      <th>wind_speed</th>\n",
       "      <th>Year_sin</th>\n",
       "      <th>Year_cos</th>\n",
       "    </tr>\n",
       "  </thead>\n",
       "  <tbody>\n",
       "    <tr>\n",
       "      <th>0</th>\n",
       "      <td>0.18438</td>\n",
       "      <td>0.005371</td>\n",
       "      <td>0.065585</td>\n",
       "      <td>0.031635</td>\n",
       "      <td>0.006396</td>\n",
       "      <td>0.365736</td>\n",
       "      <td>0.331266</td>\n",
       "      <td>1.721336e-02</td>\n",
       "      <td>0.999852</td>\n",
       "    </tr>\n",
       "    <tr>\n",
       "      <th>1</th>\n",
       "      <td>2.55676</td>\n",
       "      <td>0.332888</td>\n",
       "      <td>0.188187</td>\n",
       "      <td>0.137603</td>\n",
       "      <td>0.007762</td>\n",
       "      <td>0.318815</td>\n",
       "      <td>0.431817</td>\n",
       "      <td>3.442161e-02</td>\n",
       "      <td>0.999407</td>\n",
       "    </tr>\n",
       "    <tr>\n",
       "      <th>2</th>\n",
       "      <td>2.25707</td>\n",
       "      <td>0.287603</td>\n",
       "      <td>0.181857</td>\n",
       "      <td>0.127422</td>\n",
       "      <td>0.009273</td>\n",
       "      <td>0.290491</td>\n",
       "      <td>0.318518</td>\n",
       "      <td>5.161967e-02</td>\n",
       "      <td>0.998667</td>\n",
       "    </tr>\n",
       "    <tr>\n",
       "      <th>3</th>\n",
       "      <td>2.77577</td>\n",
       "      <td>0.364820</td>\n",
       "      <td>0.198938</td>\n",
       "      <td>0.151992</td>\n",
       "      <td>0.010888</td>\n",
       "      <td>0.251810</td>\n",
       "      <td>0.337021</td>\n",
       "      <td>6.880243e-02</td>\n",
       "      <td>0.997630</td>\n",
       "    </tr>\n",
       "    <tr>\n",
       "      <th>4</th>\n",
       "      <td>0.08309</td>\n",
       "      <td>0.000897</td>\n",
       "      <td>0.033462</td>\n",
       "      <td>0.015843</td>\n",
       "      <td>0.012606</td>\n",
       "      <td>0.356150</td>\n",
       "      <td>0.406667</td>\n",
       "      <td>8.596480e-02</td>\n",
       "      <td>0.996298</td>\n",
       "    </tr>\n",
       "    <tr>\n",
       "      <th>...</th>\n",
       "      <td>...</td>\n",
       "      <td>...</td>\n",
       "      <td>...</td>\n",
       "      <td>...</td>\n",
       "      <td>...</td>\n",
       "      <td>...</td>\n",
       "      <td>...</td>\n",
       "      <td>...</td>\n",
       "      <td>...</td>\n",
       "    </tr>\n",
       "    <tr>\n",
       "      <th>6934</th>\n",
       "      <td>2.03699</td>\n",
       "      <td>0.232890</td>\n",
       "      <td>0.227027</td>\n",
       "      <td>0.130902</td>\n",
       "      <td>0.001408</td>\n",
       "      <td>0.391161</td>\n",
       "      <td>0.478298</td>\n",
       "      <td>-6.880243e-02</td>\n",
       "      <td>0.997630</td>\n",
       "    </tr>\n",
       "    <tr>\n",
       "      <th>6935</th>\n",
       "      <td>1.26006</td>\n",
       "      <td>0.150560</td>\n",
       "      <td>0.133012</td>\n",
       "      <td>0.083684</td>\n",
       "      <td>0.002091</td>\n",
       "      <td>0.417086</td>\n",
       "      <td>0.548688</td>\n",
       "      <td>-5.161967e-02</td>\n",
       "      <td>0.998667</td>\n",
       "    </tr>\n",
       "    <tr>\n",
       "      <th>6936</th>\n",
       "      <td>0.43408</td>\n",
       "      <td>0.028270</td>\n",
       "      <td>0.108200</td>\n",
       "      <td>0.053192</td>\n",
       "      <td>0.002877</td>\n",
       "      <td>0.401442</td>\n",
       "      <td>0.559403</td>\n",
       "      <td>-3.442161e-02</td>\n",
       "      <td>0.999407</td>\n",
       "    </tr>\n",
       "    <tr>\n",
       "      <th>6937</th>\n",
       "      <td>0.28637</td>\n",
       "      <td>0.009971</td>\n",
       "      <td>0.092319</td>\n",
       "      <td>0.044569</td>\n",
       "      <td>0.003871</td>\n",
       "      <td>0.387687</td>\n",
       "      <td>0.454388</td>\n",
       "      <td>-1.721336e-02</td>\n",
       "      <td>0.999852</td>\n",
       "    </tr>\n",
       "    <tr>\n",
       "      <th>6938</th>\n",
       "      <td>2.70492</td>\n",
       "      <td>0.354811</td>\n",
       "      <td>0.192590</td>\n",
       "      <td>0.140149</td>\n",
       "      <td>0.004906</td>\n",
       "      <td>0.381749</td>\n",
       "      <td>0.770822</td>\n",
       "      <td>6.432491e-16</td>\n",
       "      <td>1.000000</td>\n",
       "    </tr>\n",
       "  </tbody>\n",
       "</table>\n",
       "<p>6939 rows × 9 columns</p>\n",
       "</div>"
      ],
      "text/plain": [
       "      pv_output  direct_irradiance  diffuse_irradiance  reflected_irradiance  \\\n",
       "0       0.18438           0.005371            0.065585              0.031635   \n",
       "1       2.55676           0.332888            0.188187              0.137603   \n",
       "2       2.25707           0.287603            0.181857              0.127422   \n",
       "3       2.77577           0.364820            0.198938              0.151992   \n",
       "4       0.08309           0.000897            0.033462              0.015843   \n",
       "...         ...                ...                 ...                   ...   \n",
       "6934    2.03699           0.232890            0.227027              0.130902   \n",
       "6935    1.26006           0.150560            0.133012              0.083684   \n",
       "6936    0.43408           0.028270            0.108200              0.053192   \n",
       "6937    0.28637           0.009971            0.092319              0.044569   \n",
       "6938    2.70492           0.354811            0.192590              0.140149   \n",
       "\n",
       "      sun_height      temp  wind_speed      Year_sin  Year_cos  \n",
       "0       0.006396  0.365736    0.331266  1.721336e-02  0.999852  \n",
       "1       0.007762  0.318815    0.431817  3.442161e-02  0.999407  \n",
       "2       0.009273  0.290491    0.318518  5.161967e-02  0.998667  \n",
       "3       0.010888  0.251810    0.337021  6.880243e-02  0.997630  \n",
       "4       0.012606  0.356150    0.406667  8.596480e-02  0.996298  \n",
       "...          ...       ...         ...           ...       ...  \n",
       "6934    0.001408  0.391161    0.478298 -6.880243e-02  0.997630  \n",
       "6935    0.002091  0.417086    0.548688 -5.161967e-02  0.998667  \n",
       "6936    0.002877  0.401442    0.559403 -3.442161e-02  0.999407  \n",
       "6937    0.003871  0.387687    0.454388 -1.721336e-02  0.999852  \n",
       "6938    0.004906  0.381749    0.770822  6.432491e-16  1.000000  \n",
       "\n",
       "[6939 rows x 9 columns]"
      ]
     },
     "execution_count": 26,
     "metadata": {},
     "output_type": "execute_result"
    }
   ],
   "source": [
    "paris"
   ]
  }
 ],
 "metadata": {
  "kernelspec": {
   "display_name": "Python 3 (ipykernel)",
   "language": "python",
   "name": "python3"
  },
  "language_info": {
   "codemirror_mode": {
    "name": "ipython",
    "version": 3
   },
   "file_extension": ".py",
   "mimetype": "text/x-python",
   "name": "python",
   "nbconvert_exporter": "python",
   "pygments_lexer": "ipython3",
   "version": "3.10.6"
  }
 },
 "nbformat": 4,
 "nbformat_minor": 5
}
