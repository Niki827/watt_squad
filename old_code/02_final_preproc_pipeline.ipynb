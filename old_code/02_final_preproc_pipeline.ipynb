{
 "cells": [
  {
   "cell_type": "code",
   "execution_count": 1,
   "id": "f118363f-566d-47a1-8a18-0f6eda2027af",
   "metadata": {},
   "outputs": [],
   "source": [
    "import pandas as pd\n",
    "import numpy as np\n",
    "\n",
    "from sklearn.pipeline import make_pipeline\n",
    "from sklearn.pipeline import make_union\n",
    "from sklearn.compose import make_column_transformer\n",
    "\n",
    "from sklearn.preprocessing import RobustScaler\n",
    "from sklearn.preprocessing import StandardScaler\n",
    "from sklearn.preprocessing import OneHotEncoder\n",
    "from sklearn.preprocessing import MinMaxScaler\n",
    "from sklearn.preprocessing import FunctionTransformer"
   ]
  },
  {
   "cell_type": "markdown",
   "id": "f590b19b-ed3d-40ac-ae2e-4ad63ddaa473",
   "metadata": {},
   "source": [
    "## Lists of features"
   ]
  },
  {
   "cell_type": "code",
   "execution_count": 3,
   "id": "b4a0027c-a08d-4ac6-8be0-a6af6531e6aa",
   "metadata": {},
   "outputs": [],
   "source": [
    "f_logs = [\n",
    "    'precip_1h:mm', \n",
    "    'prob_precip_1h:p', \n",
    "    'clear_sky_rad:W',\n",
    "    'clear_sky_energy_1h:J',\n",
    "    'diffuse_rad:W', \n",
    "    'diffuse_rad_1h:Wh', \n",
    "    'direct_rad:W',\n",
    "    'direct_rad_1h:Wh', \n",
    "    'global_rad:W', \n",
    "    'global_rad_1h:Wh',\n",
    "    'wind_speed_2m:ms',\n",
    "    'wind_speed_10m:ms', \n",
    "    'wind_speed_50m:ms',\n",
    "    'wind_speed_100m:ms'\n",
    "]\n",
    "f_time = ['time']\n",
    "f_degree = ['sun_azimuth:d', 'wind_dir_2m:d', 'wind_dir_10m:d', 'wind_dir_50m:d', 'wind_dir_100m:d']\n",
    "f_ohe = ['precip_type:idx']"
   ]
  },
  {
   "cell_type": "markdown",
   "id": "700b2717-96d7-463c-bd91-85c9160ca589",
   "metadata": {},
   "source": [
    "## Custom Functions "
   ]
  },
  {
   "cell_type": "code",
   "execution_count": 4,
   "id": "1a3ff0da-fe67-46fb-b7d0-4a7ee532cf6a",
   "metadata": {},
   "outputs": [],
   "source": [
    "def log_transformed(data):\n",
    "    \"\"\" replaces values in columns in a dataframe with the log values \"\"\"\n",
    "    for col in f_logs:\n",
    "        data[col] = np.log(data[col] + 1e-5)\n",
    "    return data"
   ]
  },
  {
   "cell_type": "code",
   "execution_count": 5,
   "id": "a963077e-0127-40fd-9876-0d7b16f3e33f",
   "metadata": {},
   "outputs": [],
   "source": [
    "def time_transformed(data):\n",
    "    \"\"\"takes a df and splits the 'time' feature into three features: hour, month, season; \n",
    "    drops the original time column\"\"\"\n",
    "\n",
    "    feature = pd.to_datetime(data.time)\n",
    "    \n",
    "    hour = feature.dt.hour\n",
    "    month  = feature.dt.month\n",
    "\n",
    "    def assign_season(month):\n",
    "        if month in [3, 4, 5]:\n",
    "            return 1  # Spring\n",
    "        elif month in [6, 7, 8]:\n",
    "            return 2  # Summer\n",
    "        elif month in [9, 10, 11]:\n",
    "            return 3  # Fall\n",
    "        else:  # December, January, February\n",
    "            return 4  # Winter\n",
    "\n",
    "    season = month.apply(assign_season)\n",
    "    hour_sine = np.sin(2 * np.pi * hour / 24)\n",
    "    hour_cosine = np.cos(2 * np.pi * hour / 24)\n",
    "    month_sine = np.sin(2 * np.pi * month / 12)\n",
    "    month_cosine = np.cos(2 * np.pi * month / 12)\n",
    "    season_sine = np.sin(2 * np.pi * season / 4)\n",
    "    season_cosine = np.cos(2 * np.pi * season / 4)\n",
    "\n",
    "    data[\"hour_sine\"] = hour_sine\n",
    "    data[\"hour_cosine\"] = hour_cosine\n",
    "    data[\"month_sine\"] = month_sine\n",
    "    data[\"month_cosine\"] = month_cosine\n",
    "    data[\"season_sine\"] = season_sine\n",
    "    data[\"season_cosine\"] = season_cosine\n",
    "\n",
    "    data = data.drop(columns=[\"time\"])\n",
    "\n",
    "    return data"
   ]
  },
  {
   "cell_type": "code",
   "execution_count": 6,
   "id": "e6628dd4-6a06-493b-b123-8ecfc1ec0204",
   "metadata": {},
   "outputs": [],
   "source": [
    "def degree_transformed(data):\n",
    "    \"\"\" takes a df 'data' and takes the features with degree units (in the specific list f_degree);\n",
    "    creates a sin and cos column for each to make them cyclical. drops the original columns\"\"\"\n",
    "    \n",
    "    for col in f_degree: #list(data.columns):\n",
    "        sin_column = np.sin(2 * np.pi * data[col]/360)\n",
    "        cos_column = np.cos(2 * np.pi * data[col]/360)\n",
    "\n",
    "        data[f\"sin_{col}\"] = sin_column\n",
    "        data[f\"cos_{col}\"] = cos_column\n",
    "        data = data.drop(columns=[col])\n",
    "\n",
    "    return data"
   ]
  },
  {
   "cell_type": "markdown",
   "id": "debe44e6-2f9b-473c-9099-584610563a2e",
   "metadata": {},
   "source": [
    "# Pipeline building"
   ]
  },
  {
   "cell_type": "code",
   "execution_count": 7,
   "id": "cfa73a65-54eb-45d2-be32-ee36226de127",
   "metadata": {},
   "outputs": [],
   "source": [
    "data = pd.read_csv(\"raw_data/train.csv\")"
   ]
  },
  {
   "cell_type": "code",
   "execution_count": 8,
   "id": "29a04c3d-8bc1-435a-a99b-f286ccf70b3d",
   "metadata": {},
   "outputs": [],
   "source": [
    "# calling our custom functions on our dataframe \n",
    "data_ft = degree_transformed(time_transformed(log_transformed(data)))"
   ]
  },
  {
   "cell_type": "code",
   "execution_count": 10,
   "id": "f2e62a05-fd65-4d77-96e4-e717e00e14da",
   "metadata": {},
   "outputs": [],
   "source": [
    "all_col = list(data_ft.columns)"
   ]
  },
  {
   "cell_type": "code",
   "execution_count": 11,
   "id": "960fb96c-3fe9-4991-8085-9a984bc6135a",
   "metadata": {},
   "outputs": [],
   "source": [
    "# defining the columns we don't want in our X_train\n",
    "drop_col = ['pv_production',\n",
    "            'wind_production',\n",
    "            'consumption',\n",
    "            'spot_market_price',\n",
    "            'precip_type:idx']"
   ]
  },
  {
   "cell_type": "code",
   "execution_count": 12,
   "id": "424b26f8-d8de-4bc4-81a9-7d4ef6c5debe",
   "metadata": {},
   "outputs": [],
   "source": [
    "# defining the columns we want to scale\n",
    "scale_col = [col for col in all_col if col not in drop_col and f_ohe]"
   ]
  },
  {
   "cell_type": "code",
   "execution_count": 13,
   "id": "21f3a890-dcd3-4729-974e-71e92c4cfbbd",
   "metadata": {},
   "outputs": [],
   "source": [
    "# defining our scalers\n",
    "minmax = MinMaxScaler()\n",
    "ohe = OneHotEncoder(handle_unknown='ignore', sparse_output = False)"
   ]
  },
  {
   "cell_type": "code",
   "execution_count": 15,
   "id": "b8221dd0-02d0-4b6e-a75e-82c6c54b5764",
   "metadata": {},
   "outputs": [],
   "source": [
    "# our preproc pipline\n",
    "preproc = make_column_transformer(\n",
    "    (ohe, f_ohe),\n",
    "    (minmax, scale_col),\n",
    "    remainder = \"drop\"\n",
    ")"
   ]
  },
  {
   "cell_type": "code",
   "execution_count": 16,
   "id": "0ec99cde-edcf-4ce3-8d31-d76e813d29ed",
   "metadata": {},
   "outputs": [],
   "source": [
    "data_transformed = preproc.fit_transform(data_ft)\n",
    "data_transformed = pd.DataFrame(data_transformed, columns=preproc.get_feature_names_out())"
   ]
  },
  {
   "cell_type": "code",
   "execution_count": 18,
   "id": "498a9fd3-30f6-4b7e-9a13-ea13f58d7ad4",
   "metadata": {},
   "outputs": [],
   "source": [
    "# data_transformed"
   ]
  }
 ],
 "metadata": {
  "kernelspec": {
   "display_name": "Python 3 (ipykernel)",
   "language": "python",
   "name": "python3"
  },
  "language_info": {
   "codemirror_mode": {
    "name": "ipython",
    "version": 3
   },
   "file_extension": ".py",
   "mimetype": "text/x-python",
   "name": "python",
   "nbconvert_exporter": "python",
   "pygments_lexer": "ipython3",
   "version": "3.10.6"
  }
 },
 "nbformat": 4,
 "nbformat_minor": 5
}
