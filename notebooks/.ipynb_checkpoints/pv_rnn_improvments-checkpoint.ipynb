{
 "cells": [
  {
   "cell_type": "markdown",
   "id": "483a4193-7880-4ec5-a8a9-756a88d9f873",
   "metadata": {
    "id": "483a4193-7880-4ec5-a8a9-756a88d9f873"
   },
   "source": [
    "# First RNN"
   ]
  },
  {
   "cell_type": "code",
   "execution_count": 1,
   "id": "127ac35c-c02e-4fca-b7b0-2775da368859",
   "metadata": {},
   "outputs": [],
   "source": [
    "import numpy as np\n",
    "import pandas as pd\n",
    "import matplotlib.pyplot as plt\n",
    "import seaborn as sns\n",
    "from typing import Dict, List, Tuple, Sequence"
   ]
  },
  {
   "cell_type": "code",
   "execution_count": 3,
   "id": "wpKIcDsev49q",
   "metadata": {
    "colab": {
     "base_uri": "https://localhost:8080/"
    },
    "executionInfo": {
     "elapsed": 17032,
     "status": "ok",
     "timestamp": 1732804064470,
     "user": {
      "displayName": "Carl Bechtolsheim",
      "userId": "09155195766587467337"
     },
     "user_tz": -60
    },
    "id": "wpKIcDsev49q",
    "outputId": "8868fd4c-e25e-4e4a-edb6-5f942203fb89"
   },
   "outputs": [
    {
     "name": "stdout",
     "output_type": "stream",
     "text": [
      "Mounted at /content/drive\n"
     ]
    }
   ],
   "source": [
    "from google.colab import drive\n",
    "drive.mount('/content/drive')"
   ]
  },
  {
   "cell_type": "code",
   "execution_count": 2,
   "id": "67c347f6-fbe0-4aea-a378-fa114806c9ae",
   "metadata": {},
   "outputs": [],
   "source": [
    "import pandas as pd\n",
    "train_data = pd.read_csv(\"/Users/carlbechtolsheim/code/Niki827/watt_squad/raw_data/train.csv\")\n",
    "test_data = pd.read_csv(\"/Users/carlbechtolsheim/code/Niki827/watt_squad/raw_data/test.csv\")"
   ]
  },
  {
   "cell_type": "markdown",
   "id": "600b960d-91d8-4267-840c-dc76f705c866",
   "metadata": {
    "id": "600b960d-91d8-4267-840c-dc76f705c866"
   },
   "source": [
    "## Data preprocessing"
   ]
  },
  {
   "cell_type": "code",
   "execution_count": 3,
   "id": "a9ae50ea-2702-43e7-8b54-d3fc21af8dc9",
   "metadata": {},
   "outputs": [],
   "source": [
    "import pandas as pd\n",
    "import numpy as np\n",
    "\n",
    "from sklearn.pipeline import make_pipeline\n",
    "from sklearn.compose import make_column_transformer\n",
    "\n",
    "from sklearn.preprocessing import RobustScaler\n",
    "from sklearn.preprocessing import StandardScaler\n",
    "from sklearn.preprocessing import OneHotEncoder\n",
    "from sklearn.preprocessing import MinMaxScaler\n",
    "from sklearn.preprocessing import FunctionTransformer\n",
    "\n",
    "## lists of features:\n",
    "\n",
    "\n",
    "# f_time = ['time']\n",
    "\n",
    "\n",
    "## our custom functions:\n",
    "\n",
    "def log_transformed(data):\n",
    "    \"\"\" replaces values in columns in a dataframe with the log values \"\"\"\n",
    "    f_logs = [\n",
    "    'precip_1h:mm',\n",
    "    'prob_precip_1h:p',\n",
    "    'clear_sky_rad:W',\n",
    "    'clear_sky_energy_1h:J',\n",
    "    'diffuse_rad:W',\n",
    "    'diffuse_rad_1h:Wh',\n",
    "    'direct_rad:W',\n",
    "    'direct_rad_1h:Wh',\n",
    "    'global_rad:W',\n",
    "    'global_rad_1h:Wh',\n",
    "    'wind_speed_2m:ms',\n",
    "    'wind_speed_10m:ms',\n",
    "    'wind_speed_50m:ms',\n",
    "    'wind_speed_100m:ms'\n",
    "]\n",
    "    for col in f_logs:\n",
    "        data[col] = np.log(data[col] + 1e-5)\n",
    "    return data\n",
    "\n",
    "def time_transformed(data):\n",
    "    \"\"\"takes a df and splits the 'time' feature into three features: hour, month, season;\n",
    "    drops the original time column\"\"\"\n",
    "\n",
    "    feature = pd.to_datetime(data.time)\n",
    "\n",
    "    hour = feature.dt.hour\n",
    "    month  = feature.dt.month\n",
    "\n",
    "    def assign_season(month):\n",
    "        if month in [3, 4, 5]:\n",
    "            return 1  # Spring\n",
    "        elif month in [6, 7, 8]:\n",
    "            return 2  # Summer\n",
    "        elif month in [9, 10, 11]:\n",
    "            return 3  # Fall\n",
    "        else:  # December, January, February\n",
    "            return 4  # Winter\n",
    "\n",
    "    season = month.apply(assign_season)\n",
    "    hour_sine = np.sin(2 * np.pi * hour / 24)\n",
    "    hour_cosine = np.cos(2 * np.pi * hour / 24)\n",
    "    month_sine = np.sin(2 * np.pi * month / 12)\n",
    "    month_cosine = np.cos(2 * np.pi * month / 12)\n",
    "    season_sine = np.sin(2 * np.pi * season / 4)\n",
    "    season_cosine = np.cos(2 * np.pi * season / 4)\n",
    "\n",
    "    data[\"hour_sine\"] = hour_sine\n",
    "    data[\"hour_cosine\"] = hour_cosine\n",
    "    data[\"month_sine\"] = month_sine\n",
    "    data[\"month_cosine\"] = month_cosine\n",
    "    data[\"season_sine\"] = season_sine\n",
    "    data[\"season_cosine\"] = season_cosine\n",
    "\n",
    "    data = data.drop(columns=[\"time\"])\n",
    "\n",
    "    return data\n",
    "\n",
    "def degree_transformed(data):\n",
    "    \"\"\" takes a df 'data' and takes the features with degree units (in the specific list f_degree);\n",
    "    creates a sin and cos column for each to make them cyclical. drops the original columns\"\"\"\n",
    "\n",
    "    f_degree = ['sun_azimuth:d', 'wind_dir_2m:d', 'wind_dir_10m:d', 'wind_dir_50m:d', 'wind_dir_100m:d']\n",
    "\n",
    "    for col in f_degree:\n",
    "        sin_column = np.sin(2 * np.pi * data[col]/360)\n",
    "        cos_column = np.cos(2 * np.pi * data[col]/360)\n",
    "\n",
    "        data[f\"sin_{col}\"] = sin_column\n",
    "        data[f\"cos_{col}\"] = cos_column\n",
    "        data = data.drop(columns=[col])\n",
    "\n",
    "    return data\n",
    "\n",
    "def transform_data(data):\n",
    "    \"\"\" applies the above three functions to the input dataframe \"\"\"\n",
    "    data = degree_transformed(time_transformed(log_transformed(data)))\n",
    "\n",
    "    all_col = list(data.columns)\n",
    "\n",
    "    # defining the columns we don't want in our X_train\n",
    "    drop_col = ['pv_production',\n",
    "            'wind_production',\n",
    "            'consumption',\n",
    "            'spot_market_price',\n",
    "            'precip_type:idx']\n",
    "\n",
    "    f_ohe = ['precip_type:idx']\n",
    "\n",
    "    scale_col = [col for col in all_col if col not in drop_col and f_ohe]\n",
    "\n",
    "    # defining our scalers\n",
    "    minmax = MinMaxScaler()\n",
    "    ohe = OneHotEncoder(handle_unknown='ignore', sparse_output = False)\n",
    "\n",
    "\n",
    "    # our preproc pipline\n",
    "    preproc = make_column_transformer(\n",
    "        (ohe, f_ohe),\n",
    "        (minmax, scale_col),\n",
    "        remainder = \"drop\"\n",
    "    )\n",
    "\n",
    "    data_transformed = preproc.fit_transform(data)\n",
    "    data_transformed = pd.DataFrame(data_transformed, columns=preproc.get_feature_names_out())\n",
    "    data_transformed['onehotencoder__precip_type:idx_2.0'] = 0\n",
    "\n",
    "    print('➡️ preprocessing done')\n",
    "    return data_transformed\n",
    "\n",
    "\n",
    "\n",
    "# ## building the pipeline\n",
    "\n",
    "# data = pd.read_csv(\"raw_data/train.csv\")\n",
    "\n",
    "# # calling our custom functions on our dataframe\n",
    "# data_ft = degree_transformed(time_transformed(log_transformed(data)))\n",
    "\n",
    "# all_col = list(data_ft.columns)\n",
    "\n",
    "# # defining the columns we don't want in our X_train\n",
    "# drop_col = ['pv_production',\n",
    "#             'wind_production',\n",
    "#             'consumption',\n",
    "#             'spot_market_price',\n",
    "#             'precip_type:idx']\n",
    "\n",
    "# # defining the columns we want to scale\n",
    "# scale_col = [col for col in all_col if col not in drop_col and f_ohe]\n",
    "\n",
    "# # defining our scalers\n",
    "# minmax = MinMaxScaler()\n",
    "# ohe = OneHotEncoder(handle_unknown='ignore', sparse_output = False)\n",
    "\n",
    "# # our preproc pipline\n",
    "# preproc = make_column_transformer(\n",
    "#     (ohe, f_ohe),\n",
    "#     (minmax, scale_col),\n",
    "#     remainder = \"drop\"\n",
    "# )\n",
    "\n",
    "# data_transformed = preproc.fit_transform(data_ft)\n",
    "# data_transformed = pd.DataFrame(data_transformed, columns=preproc.get_feature_names_out())\n"
   ]
  },
  {
   "cell_type": "code",
   "execution_count": 48,
   "id": "9ccdc438-d97c-448a-8ae9-ac610718e08e",
   "metadata": {},
   "outputs": [
    {
     "name": "stdout",
     "output_type": "stream",
     "text": [
      "➡️ preprocessing done\n",
      "➡️ preprocessing done\n"
     ]
    }
   ],
   "source": [
    "# creating y_train and y_test\n",
    "y_train = train_data['pv_production'].copy()\n",
    "y_test = test_data['pv_production'].copy()\n",
    "\n",
    "# creating X_train and X_test\n",
    "X_train = train_data\n",
    "X_train = X_train.drop(columns=['pv_production', 'wind_production', 'consumption', 'spot_market_price'])\n",
    "X_test = test_data\n",
    "X_test = X_test.drop(columns=['pv_production', 'wind_production', 'consumption', 'spot_market_price'])\n",
    "\n",
    "# Preprocessing features\n",
    "X_train_transformed = transform_data(X_train)\n",
    "X_test_transformed = transform_data(X_test)"
   ]
  },
  {
   "cell_type": "code",
   "execution_count": 49,
   "id": "3f412ef3-81bc-4feb-8e77-9501ec76ee4b",
   "metadata": {},
   "outputs": [],
   "source": [
    "TARGET = 'pv_production'"
   ]
  },
  {
   "cell_type": "code",
   "execution_count": 50,
   "id": "78914b5b-f523-4bcd-bec7-6d7e2deec7bc",
   "metadata": {},
   "outputs": [
    {
     "data": {
      "text/plain": [
       "count    9515.000000\n",
       "mean        7.654312\n",
       "std        15.673519\n",
       "min         0.000000\n",
       "25%         0.000000\n",
       "50%         0.000000\n",
       "75%         6.411375\n",
       "max        79.855834\n",
       "Name: pv_production, dtype: float64"
      ]
     },
     "execution_count": 50,
     "metadata": {},
     "output_type": "execute_result"
    }
   ],
   "source": [
    "y_train.describe()"
   ]
  },
  {
   "cell_type": "code",
   "execution_count": 49,
   "id": "90175c6e-4f57-4a70-b42b-50ace6f1ef31",
   "metadata": {},
   "outputs": [],
   "source": [
    "y_train[y_train<-3] = 0"
   ]
  },
  {
   "cell_type": "code",
   "execution_count": 50,
   "id": "86874d66-818d-4586-bad4-c6bda1f12d02",
   "metadata": {},
   "outputs": [
    {
     "data": {
      "text/plain": [
       "Series([], Name: consumption, dtype: float64)"
      ]
     },
     "execution_count": 50,
     "metadata": {},
     "output_type": "execute_result"
    }
   ],
   "source": [
    "y_train[y_train<-3]"
   ]
  },
  {
   "cell_type": "code",
   "execution_count": 51,
   "id": "297fc070-160f-46c1-bf3b-45855046d6f7",
   "metadata": {},
   "outputs": [],
   "source": [
    "df = X_train_transformed.copy()"
   ]
  },
  {
   "cell_type": "code",
   "execution_count": 52,
   "id": "89e04fc2-d0f4-493e-8b50-58db7939c1f2",
   "metadata": {},
   "outputs": [],
   "source": [
    "df[TARGET] = y_train"
   ]
  },
  {
   "cell_type": "code",
   "execution_count": 53,
   "id": "8375c2fe-59a6-4f9f-97fa-a51fc4ccc46e",
   "metadata": {
    "scrolled": true
   },
   "outputs": [
    {
     "data": {
      "text/html": [
       "<div>\n",
       "<style scoped>\n",
       "    .dataframe tbody tr th:only-of-type {\n",
       "        vertical-align: middle;\n",
       "    }\n",
       "\n",
       "    .dataframe tbody tr th {\n",
       "        vertical-align: top;\n",
       "    }\n",
       "\n",
       "    .dataframe thead th {\n",
       "        text-align: right;\n",
       "    }\n",
       "</style>\n",
       "<table border=\"1\" class=\"dataframe\">\n",
       "  <thead>\n",
       "    <tr style=\"text-align: right;\">\n",
       "      <th></th>\n",
       "      <th>onehotencoder__precip_type:idx_0.0</th>\n",
       "      <th>onehotencoder__precip_type:idx_1.0</th>\n",
       "      <th>onehotencoder__precip_type:idx_2.0</th>\n",
       "      <th>onehotencoder__precip_type:idx_3.0</th>\n",
       "      <th>minmaxscaler__precip_1h:mm</th>\n",
       "      <th>minmaxscaler__prob_precip_1h:p</th>\n",
       "      <th>minmaxscaler__clear_sky_rad:W</th>\n",
       "      <th>minmaxscaler__clear_sky_energy_1h:J</th>\n",
       "      <th>minmaxscaler__diffuse_rad:W</th>\n",
       "      <th>minmaxscaler__diffuse_rad_1h:Wh</th>\n",
       "      <th>...</th>\n",
       "      <th>minmaxscaler__cos_sun_azimuth:d</th>\n",
       "      <th>minmaxscaler__sin_wind_dir_2m:d</th>\n",
       "      <th>minmaxscaler__cos_wind_dir_2m:d</th>\n",
       "      <th>minmaxscaler__sin_wind_dir_10m:d</th>\n",
       "      <th>minmaxscaler__cos_wind_dir_10m:d</th>\n",
       "      <th>minmaxscaler__sin_wind_dir_50m:d</th>\n",
       "      <th>minmaxscaler__cos_wind_dir_50m:d</th>\n",
       "      <th>minmaxscaler__sin_wind_dir_100m:d</th>\n",
       "      <th>minmaxscaler__cos_wind_dir_100m:d</th>\n",
       "      <th>pv_production</th>\n",
       "    </tr>\n",
       "  </thead>\n",
       "  <tbody>\n",
       "    <tr>\n",
       "      <th>0</th>\n",
       "      <td>1.0</td>\n",
       "      <td>0.0</td>\n",
       "      <td>0</td>\n",
       "      <td>0.0</td>\n",
       "      <td>0.0</td>\n",
       "      <td>0.0</td>\n",
       "      <td>0.757424</td>\n",
       "      <td>0.854846</td>\n",
       "      <td>0.781999</td>\n",
       "      <td>0.815432</td>\n",
       "      <td>...</td>\n",
       "      <td>0.038568</td>\n",
       "      <td>0.045382</td>\n",
       "      <td>0.291860</td>\n",
       "      <td>0.045382</td>\n",
       "      <td>0.291860</td>\n",
       "      <td>0.042169</td>\n",
       "      <td>0.299026</td>\n",
       "      <td>0.038731</td>\n",
       "      <td>0.307049</td>\n",
       "      <td>0.0</td>\n",
       "    </tr>\n",
       "    <tr>\n",
       "      <th>1</th>\n",
       "      <td>1.0</td>\n",
       "      <td>0.0</td>\n",
       "      <td>0</td>\n",
       "      <td>0.0</td>\n",
       "      <td>0.0</td>\n",
       "      <td>0.0</td>\n",
       "      <td>0.000000</td>\n",
       "      <td>0.779972</td>\n",
       "      <td>0.000000</td>\n",
       "      <td>0.742604</td>\n",
       "      <td>...</td>\n",
       "      <td>0.095955</td>\n",
       "      <td>0.023405</td>\n",
       "      <td>0.348815</td>\n",
       "      <td>0.023405</td>\n",
       "      <td>0.348815</td>\n",
       "      <td>0.023669</td>\n",
       "      <td>0.347984</td>\n",
       "      <td>0.024203</td>\n",
       "      <td>0.346324</td>\n",
       "      <td>0.0</td>\n",
       "    </tr>\n",
       "    <tr>\n",
       "      <th>2</th>\n",
       "      <td>1.0</td>\n",
       "      <td>0.0</td>\n",
       "      <td>0</td>\n",
       "      <td>0.0</td>\n",
       "      <td>0.0</td>\n",
       "      <td>0.0</td>\n",
       "      <td>0.000000</td>\n",
       "      <td>0.000000</td>\n",
       "      <td>0.000000</td>\n",
       "      <td>0.000000</td>\n",
       "      <td>...</td>\n",
       "      <td>0.173244</td>\n",
       "      <td>0.018654</td>\n",
       "      <td>0.364700</td>\n",
       "      <td>0.018654</td>\n",
       "      <td>0.364700</td>\n",
       "      <td>0.019129</td>\n",
       "      <td>0.363021</td>\n",
       "      <td>0.019853</td>\n",
       "      <td>0.360507</td>\n",
       "      <td>0.0</td>\n",
       "    </tr>\n",
       "    <tr>\n",
       "      <th>3</th>\n",
       "      <td>1.0</td>\n",
       "      <td>0.0</td>\n",
       "      <td>0</td>\n",
       "      <td>0.0</td>\n",
       "      <td>0.0</td>\n",
       "      <td>0.0</td>\n",
       "      <td>0.000000</td>\n",
       "      <td>0.000000</td>\n",
       "      <td>0.000000</td>\n",
       "      <td>0.000000</td>\n",
       "      <td>...</td>\n",
       "      <td>0.265584</td>\n",
       "      <td>0.017037</td>\n",
       "      <td>0.370590</td>\n",
       "      <td>0.017037</td>\n",
       "      <td>0.370590</td>\n",
       "      <td>0.017952</td>\n",
       "      <td>0.367222</td>\n",
       "      <td>0.018891</td>\n",
       "      <td>0.363862</td>\n",
       "      <td>0.0</td>\n",
       "    </tr>\n",
       "    <tr>\n",
       "      <th>4</th>\n",
       "      <td>1.0</td>\n",
       "      <td>0.0</td>\n",
       "      <td>0</td>\n",
       "      <td>0.0</td>\n",
       "      <td>0.0</td>\n",
       "      <td>0.0</td>\n",
       "      <td>0.000000</td>\n",
       "      <td>0.000000</td>\n",
       "      <td>0.000000</td>\n",
       "      <td>0.000000</td>\n",
       "      <td>...</td>\n",
       "      <td>0.369241</td>\n",
       "      <td>0.031970</td>\n",
       "      <td>0.324079</td>\n",
       "      <td>0.031970</td>\n",
       "      <td>0.324079</td>\n",
       "      <td>0.031664</td>\n",
       "      <td>0.324897</td>\n",
       "      <td>0.031056</td>\n",
       "      <td>0.326534</td>\n",
       "      <td>0.0</td>\n",
       "    </tr>\n",
       "    <tr>\n",
       "      <th>...</th>\n",
       "      <td>...</td>\n",
       "      <td>...</td>\n",
       "      <td>...</td>\n",
       "      <td>...</td>\n",
       "      <td>...</td>\n",
       "      <td>...</td>\n",
       "      <td>...</td>\n",
       "      <td>...</td>\n",
       "      <td>...</td>\n",
       "      <td>...</td>\n",
       "      <td>...</td>\n",
       "      <td>...</td>\n",
       "      <td>...</td>\n",
       "      <td>...</td>\n",
       "      <td>...</td>\n",
       "      <td>...</td>\n",
       "      <td>...</td>\n",
       "      <td>...</td>\n",
       "      <td>...</td>\n",
       "      <td>...</td>\n",
       "      <td>...</td>\n",
       "    </tr>\n",
       "    <tr>\n",
       "      <th>9510</th>\n",
       "      <td>1.0</td>\n",
       "      <td>0.0</td>\n",
       "      <td>0</td>\n",
       "      <td>0.0</td>\n",
       "      <td>0.0</td>\n",
       "      <td>0.0</td>\n",
       "      <td>0.000000</td>\n",
       "      <td>0.000000</td>\n",
       "      <td>0.000000</td>\n",
       "      <td>0.000000</td>\n",
       "      <td>...</td>\n",
       "      <td>0.600413</td>\n",
       "      <td>0.142764</td>\n",
       "      <td>0.150168</td>\n",
       "      <td>0.142764</td>\n",
       "      <td>0.150168</td>\n",
       "      <td>0.110331</td>\n",
       "      <td>0.186698</td>\n",
       "      <td>0.074594</td>\n",
       "      <td>0.237266</td>\n",
       "      <td>0.0</td>\n",
       "    </tr>\n",
       "    <tr>\n",
       "      <th>9511</th>\n",
       "      <td>1.0</td>\n",
       "      <td>0.0</td>\n",
       "      <td>0</td>\n",
       "      <td>0.0</td>\n",
       "      <td>0.0</td>\n",
       "      <td>0.0</td>\n",
       "      <td>0.000000</td>\n",
       "      <td>0.000000</td>\n",
       "      <td>0.000000</td>\n",
       "      <td>0.000000</td>\n",
       "      <td>...</td>\n",
       "      <td>0.720968</td>\n",
       "      <td>0.183310</td>\n",
       "      <td>0.113080</td>\n",
       "      <td>0.183310</td>\n",
       "      <td>0.113080</td>\n",
       "      <td>0.147064</td>\n",
       "      <td>0.145830</td>\n",
       "      <td>0.107072</td>\n",
       "      <td>0.190797</td>\n",
       "      <td>0.0</td>\n",
       "    </tr>\n",
       "    <tr>\n",
       "      <th>9512</th>\n",
       "      <td>1.0</td>\n",
       "      <td>0.0</td>\n",
       "      <td>0</td>\n",
       "      <td>0.0</td>\n",
       "      <td>0.0</td>\n",
       "      <td>0.0</td>\n",
       "      <td>0.000000</td>\n",
       "      <td>0.000000</td>\n",
       "      <td>0.000000</td>\n",
       "      <td>0.000000</td>\n",
       "      <td>...</td>\n",
       "      <td>0.836329</td>\n",
       "      <td>0.187379</td>\n",
       "      <td>0.109785</td>\n",
       "      <td>0.187379</td>\n",
       "      <td>0.109785</td>\n",
       "      <td>0.149545</td>\n",
       "      <td>0.143375</td>\n",
       "      <td>0.107612</td>\n",
       "      <td>0.190112</td>\n",
       "      <td>0.0</td>\n",
       "    </tr>\n",
       "    <tr>\n",
       "      <th>9513</th>\n",
       "      <td>1.0</td>\n",
       "      <td>0.0</td>\n",
       "      <td>0</td>\n",
       "      <td>0.0</td>\n",
       "      <td>0.0</td>\n",
       "      <td>0.0</td>\n",
       "      <td>0.000000</td>\n",
       "      <td>0.000000</td>\n",
       "      <td>0.000000</td>\n",
       "      <td>0.000000</td>\n",
       "      <td>...</td>\n",
       "      <td>0.933029</td>\n",
       "      <td>0.204697</td>\n",
       "      <td>0.096520</td>\n",
       "      <td>0.204697</td>\n",
       "      <td>0.096520</td>\n",
       "      <td>0.160279</td>\n",
       "      <td>0.133135</td>\n",
       "      <td>0.110878</td>\n",
       "      <td>0.186020</td>\n",
       "      <td>0.0</td>\n",
       "    </tr>\n",
       "    <tr>\n",
       "      <th>9514</th>\n",
       "      <td>1.0</td>\n",
       "      <td>0.0</td>\n",
       "      <td>0</td>\n",
       "      <td>0.0</td>\n",
       "      <td>0.0</td>\n",
       "      <td>0.0</td>\n",
       "      <td>0.000000</td>\n",
       "      <td>0.000000</td>\n",
       "      <td>0.000000</td>\n",
       "      <td>0.000000</td>\n",
       "      <td>...</td>\n",
       "      <td>0.991201</td>\n",
       "      <td>0.235781</td>\n",
       "      <td>0.075514</td>\n",
       "      <td>0.235781</td>\n",
       "      <td>0.075514</td>\n",
       "      <td>0.187379</td>\n",
       "      <td>0.109785</td>\n",
       "      <td>0.133135</td>\n",
       "      <td>0.160280</td>\n",
       "      <td>0.0</td>\n",
       "    </tr>\n",
       "  </tbody>\n",
       "</table>\n",
       "<p>9515 rows × 54 columns</p>\n",
       "</div>"
      ],
      "text/plain": [
       "      onehotencoder__precip_type:idx_0.0  onehotencoder__precip_type:idx_1.0  \\\n",
       "0                                    1.0                                 0.0   \n",
       "1                                    1.0                                 0.0   \n",
       "2                                    1.0                                 0.0   \n",
       "3                                    1.0                                 0.0   \n",
       "4                                    1.0                                 0.0   \n",
       "...                                  ...                                 ...   \n",
       "9510                                 1.0                                 0.0   \n",
       "9511                                 1.0                                 0.0   \n",
       "9512                                 1.0                                 0.0   \n",
       "9513                                 1.0                                 0.0   \n",
       "9514                                 1.0                                 0.0   \n",
       "\n",
       "      onehotencoder__precip_type:idx_2.0  onehotencoder__precip_type:idx_3.0  \\\n",
       "0                                      0                                 0.0   \n",
       "1                                      0                                 0.0   \n",
       "2                                      0                                 0.0   \n",
       "3                                      0                                 0.0   \n",
       "4                                      0                                 0.0   \n",
       "...                                  ...                                 ...   \n",
       "9510                                   0                                 0.0   \n",
       "9511                                   0                                 0.0   \n",
       "9512                                   0                                 0.0   \n",
       "9513                                   0                                 0.0   \n",
       "9514                                   0                                 0.0   \n",
       "\n",
       "      minmaxscaler__precip_1h:mm  minmaxscaler__prob_precip_1h:p  \\\n",
       "0                            0.0                             0.0   \n",
       "1                            0.0                             0.0   \n",
       "2                            0.0                             0.0   \n",
       "3                            0.0                             0.0   \n",
       "4                            0.0                             0.0   \n",
       "...                          ...                             ...   \n",
       "9510                         0.0                             0.0   \n",
       "9511                         0.0                             0.0   \n",
       "9512                         0.0                             0.0   \n",
       "9513                         0.0                             0.0   \n",
       "9514                         0.0                             0.0   \n",
       "\n",
       "      minmaxscaler__clear_sky_rad:W  minmaxscaler__clear_sky_energy_1h:J  \\\n",
       "0                          0.757424                             0.854846   \n",
       "1                          0.000000                             0.779972   \n",
       "2                          0.000000                             0.000000   \n",
       "3                          0.000000                             0.000000   \n",
       "4                          0.000000                             0.000000   \n",
       "...                             ...                                  ...   \n",
       "9510                       0.000000                             0.000000   \n",
       "9511                       0.000000                             0.000000   \n",
       "9512                       0.000000                             0.000000   \n",
       "9513                       0.000000                             0.000000   \n",
       "9514                       0.000000                             0.000000   \n",
       "\n",
       "      minmaxscaler__diffuse_rad:W  minmaxscaler__diffuse_rad_1h:Wh  ...  \\\n",
       "0                        0.781999                         0.815432  ...   \n",
       "1                        0.000000                         0.742604  ...   \n",
       "2                        0.000000                         0.000000  ...   \n",
       "3                        0.000000                         0.000000  ...   \n",
       "4                        0.000000                         0.000000  ...   \n",
       "...                           ...                              ...  ...   \n",
       "9510                     0.000000                         0.000000  ...   \n",
       "9511                     0.000000                         0.000000  ...   \n",
       "9512                     0.000000                         0.000000  ...   \n",
       "9513                     0.000000                         0.000000  ...   \n",
       "9514                     0.000000                         0.000000  ...   \n",
       "\n",
       "      minmaxscaler__cos_sun_azimuth:d  minmaxscaler__sin_wind_dir_2m:d  \\\n",
       "0                            0.038568                         0.045382   \n",
       "1                            0.095955                         0.023405   \n",
       "2                            0.173244                         0.018654   \n",
       "3                            0.265584                         0.017037   \n",
       "4                            0.369241                         0.031970   \n",
       "...                               ...                              ...   \n",
       "9510                         0.600413                         0.142764   \n",
       "9511                         0.720968                         0.183310   \n",
       "9512                         0.836329                         0.187379   \n",
       "9513                         0.933029                         0.204697   \n",
       "9514                         0.991201                         0.235781   \n",
       "\n",
       "      minmaxscaler__cos_wind_dir_2m:d  minmaxscaler__sin_wind_dir_10m:d  \\\n",
       "0                            0.291860                          0.045382   \n",
       "1                            0.348815                          0.023405   \n",
       "2                            0.364700                          0.018654   \n",
       "3                            0.370590                          0.017037   \n",
       "4                            0.324079                          0.031970   \n",
       "...                               ...                               ...   \n",
       "9510                         0.150168                          0.142764   \n",
       "9511                         0.113080                          0.183310   \n",
       "9512                         0.109785                          0.187379   \n",
       "9513                         0.096520                          0.204697   \n",
       "9514                         0.075514                          0.235781   \n",
       "\n",
       "      minmaxscaler__cos_wind_dir_10m:d  minmaxscaler__sin_wind_dir_50m:d  \\\n",
       "0                             0.291860                          0.042169   \n",
       "1                             0.348815                          0.023669   \n",
       "2                             0.364700                          0.019129   \n",
       "3                             0.370590                          0.017952   \n",
       "4                             0.324079                          0.031664   \n",
       "...                                ...                               ...   \n",
       "9510                          0.150168                          0.110331   \n",
       "9511                          0.113080                          0.147064   \n",
       "9512                          0.109785                          0.149545   \n",
       "9513                          0.096520                          0.160279   \n",
       "9514                          0.075514                          0.187379   \n",
       "\n",
       "      minmaxscaler__cos_wind_dir_50m:d  minmaxscaler__sin_wind_dir_100m:d  \\\n",
       "0                             0.299026                           0.038731   \n",
       "1                             0.347984                           0.024203   \n",
       "2                             0.363021                           0.019853   \n",
       "3                             0.367222                           0.018891   \n",
       "4                             0.324897                           0.031056   \n",
       "...                                ...                                ...   \n",
       "9510                          0.186698                           0.074594   \n",
       "9511                          0.145830                           0.107072   \n",
       "9512                          0.143375                           0.107612   \n",
       "9513                          0.133135                           0.110878   \n",
       "9514                          0.109785                           0.133135   \n",
       "\n",
       "      minmaxscaler__cos_wind_dir_100m:d  pv_production  \n",
       "0                              0.307049            0.0  \n",
       "1                              0.346324            0.0  \n",
       "2                              0.360507            0.0  \n",
       "3                              0.363862            0.0  \n",
       "4                              0.326534            0.0  \n",
       "...                                 ...            ...  \n",
       "9510                           0.237266            0.0  \n",
       "9511                           0.190797            0.0  \n",
       "9512                           0.190112            0.0  \n",
       "9513                           0.186020            0.0  \n",
       "9514                           0.160280            0.0  \n",
       "\n",
       "[9515 rows x 54 columns]"
      ]
     },
     "execution_count": 53,
     "metadata": {},
     "output_type": "execute_result"
    }
   ],
   "source": [
    "df"
   ]
  },
  {
   "cell_type": "code",
   "execution_count": 21,
   "id": "b9c0396d-9f11-4f49-98b8-d8bc83766378",
   "metadata": {
    "scrolled": true
   },
   "outputs": [
    {
     "data": {
      "text/html": [
       "<div>\n",
       "<style scoped>\n",
       "    .dataframe tbody tr th:only-of-type {\n",
       "        vertical-align: middle;\n",
       "    }\n",
       "\n",
       "    .dataframe tbody tr th {\n",
       "        vertical-align: top;\n",
       "    }\n",
       "\n",
       "    .dataframe thead th {\n",
       "        text-align: right;\n",
       "    }\n",
       "</style>\n",
       "<table border=\"1\" class=\"dataframe\">\n",
       "  <thead>\n",
       "    <tr style=\"text-align: right;\">\n",
       "      <th></th>\n",
       "      <th>onehotencoder__precip_type:idx_0.0</th>\n",
       "      <th>onehotencoder__precip_type:idx_1.0</th>\n",
       "      <th>onehotencoder__precip_type:idx_2.0</th>\n",
       "      <th>onehotencoder__precip_type:idx_3.0</th>\n",
       "      <th>minmaxscaler__precip_1h:mm</th>\n",
       "      <th>minmaxscaler__prob_precip_1h:p</th>\n",
       "      <th>minmaxscaler__clear_sky_rad:W</th>\n",
       "      <th>minmaxscaler__clear_sky_energy_1h:J</th>\n",
       "      <th>minmaxscaler__diffuse_rad:W</th>\n",
       "      <th>minmaxscaler__diffuse_rad_1h:Wh</th>\n",
       "      <th>...</th>\n",
       "      <th>minmaxscaler__sin_sun_azimuth:d</th>\n",
       "      <th>minmaxscaler__cos_sun_azimuth:d</th>\n",
       "      <th>minmaxscaler__sin_wind_dir_2m:d</th>\n",
       "      <th>minmaxscaler__cos_wind_dir_2m:d</th>\n",
       "      <th>minmaxscaler__sin_wind_dir_10m:d</th>\n",
       "      <th>minmaxscaler__cos_wind_dir_10m:d</th>\n",
       "      <th>minmaxscaler__sin_wind_dir_50m:d</th>\n",
       "      <th>minmaxscaler__cos_wind_dir_50m:d</th>\n",
       "      <th>minmaxscaler__sin_wind_dir_100m:d</th>\n",
       "      <th>minmaxscaler__cos_wind_dir_100m:d</th>\n",
       "    </tr>\n",
       "  </thead>\n",
       "  <tbody>\n",
       "    <tr>\n",
       "      <th>0</th>\n",
       "      <td>1.0</td>\n",
       "      <td>0.0</td>\n",
       "      <td>0</td>\n",
       "      <td>0.0</td>\n",
       "      <td>0.0</td>\n",
       "      <td>0.0</td>\n",
       "      <td>0.757424</td>\n",
       "      <td>0.854846</td>\n",
       "      <td>0.781999</td>\n",
       "      <td>0.815432</td>\n",
       "      <td>...</td>\n",
       "      <td>0.307401</td>\n",
       "      <td>0.038568</td>\n",
       "      <td>0.045382</td>\n",
       "      <td>0.291860</td>\n",
       "      <td>0.045382</td>\n",
       "      <td>0.291860</td>\n",
       "      <td>0.042169</td>\n",
       "      <td>0.299026</td>\n",
       "      <td>0.038731</td>\n",
       "      <td>0.307049</td>\n",
       "    </tr>\n",
       "    <tr>\n",
       "      <th>1</th>\n",
       "      <td>1.0</td>\n",
       "      <td>0.0</td>\n",
       "      <td>0</td>\n",
       "      <td>0.0</td>\n",
       "      <td>0.0</td>\n",
       "      <td>0.0</td>\n",
       "      <td>0.000000</td>\n",
       "      <td>0.779972</td>\n",
       "      <td>0.000000</td>\n",
       "      <td>0.742604</td>\n",
       "      <td>...</td>\n",
       "      <td>0.205451</td>\n",
       "      <td>0.095955</td>\n",
       "      <td>0.023405</td>\n",
       "      <td>0.348815</td>\n",
       "      <td>0.023405</td>\n",
       "      <td>0.348815</td>\n",
       "      <td>0.023669</td>\n",
       "      <td>0.347984</td>\n",
       "      <td>0.024203</td>\n",
       "      <td>0.346324</td>\n",
       "    </tr>\n",
       "    <tr>\n",
       "      <th>2</th>\n",
       "      <td>1.0</td>\n",
       "      <td>0.0</td>\n",
       "      <td>0</td>\n",
       "      <td>0.0</td>\n",
       "      <td>0.0</td>\n",
       "      <td>0.0</td>\n",
       "      <td>0.000000</td>\n",
       "      <td>0.000000</td>\n",
       "      <td>0.000000</td>\n",
       "      <td>0.000000</td>\n",
       "      <td>...</td>\n",
       "      <td>0.121531</td>\n",
       "      <td>0.173244</td>\n",
       "      <td>0.018654</td>\n",
       "      <td>0.364700</td>\n",
       "      <td>0.018654</td>\n",
       "      <td>0.364700</td>\n",
       "      <td>0.019129</td>\n",
       "      <td>0.363021</td>\n",
       "      <td>0.019853</td>\n",
       "      <td>0.360507</td>\n",
       "    </tr>\n",
       "    <tr>\n",
       "      <th>3</th>\n",
       "      <td>1.0</td>\n",
       "      <td>0.0</td>\n",
       "      <td>0</td>\n",
       "      <td>0.0</td>\n",
       "      <td>0.0</td>\n",
       "      <td>0.0</td>\n",
       "      <td>0.000000</td>\n",
       "      <td>0.000000</td>\n",
       "      <td>0.000000</td>\n",
       "      <td>0.000000</td>\n",
       "      <td>...</td>\n",
       "      <td>0.058350</td>\n",
       "      <td>0.265584</td>\n",
       "      <td>0.017037</td>\n",
       "      <td>0.370590</td>\n",
       "      <td>0.017037</td>\n",
       "      <td>0.370590</td>\n",
       "      <td>0.017952</td>\n",
       "      <td>0.367222</td>\n",
       "      <td>0.018891</td>\n",
       "      <td>0.363862</td>\n",
       "    </tr>\n",
       "    <tr>\n",
       "      <th>4</th>\n",
       "      <td>1.0</td>\n",
       "      <td>0.0</td>\n",
       "      <td>0</td>\n",
       "      <td>0.0</td>\n",
       "      <td>0.0</td>\n",
       "      <td>0.0</td>\n",
       "      <td>0.000000</td>\n",
       "      <td>0.000000</td>\n",
       "      <td>0.000000</td>\n",
       "      <td>0.000000</td>\n",
       "      <td>...</td>\n",
       "      <td>0.017398</td>\n",
       "      <td>0.369241</td>\n",
       "      <td>0.031970</td>\n",
       "      <td>0.324079</td>\n",
       "      <td>0.031970</td>\n",
       "      <td>0.324079</td>\n",
       "      <td>0.031664</td>\n",
       "      <td>0.324897</td>\n",
       "      <td>0.031056</td>\n",
       "      <td>0.326534</td>\n",
       "    </tr>\n",
       "    <tr>\n",
       "      <th>...</th>\n",
       "      <td>...</td>\n",
       "      <td>...</td>\n",
       "      <td>...</td>\n",
       "      <td>...</td>\n",
       "      <td>...</td>\n",
       "      <td>...</td>\n",
       "      <td>...</td>\n",
       "      <td>...</td>\n",
       "      <td>...</td>\n",
       "      <td>...</td>\n",
       "      <td>...</td>\n",
       "      <td>...</td>\n",
       "      <td>...</td>\n",
       "      <td>...</td>\n",
       "      <td>...</td>\n",
       "      <td>...</td>\n",
       "      <td>...</td>\n",
       "      <td>...</td>\n",
       "      <td>...</td>\n",
       "      <td>...</td>\n",
       "      <td>...</td>\n",
       "    </tr>\n",
       "    <tr>\n",
       "      <th>9510</th>\n",
       "      <td>1.0</td>\n",
       "      <td>0.0</td>\n",
       "      <td>0</td>\n",
       "      <td>0.0</td>\n",
       "      <td>0.0</td>\n",
       "      <td>0.0</td>\n",
       "      <td>0.000000</td>\n",
       "      <td>0.000000</td>\n",
       "      <td>0.000000</td>\n",
       "      <td>0.000000</td>\n",
       "      <td>...</td>\n",
       "      <td>0.010188</td>\n",
       "      <td>0.600413</td>\n",
       "      <td>0.142764</td>\n",
       "      <td>0.150168</td>\n",
       "      <td>0.142764</td>\n",
       "      <td>0.150168</td>\n",
       "      <td>0.110331</td>\n",
       "      <td>0.186698</td>\n",
       "      <td>0.074594</td>\n",
       "      <td>0.237266</td>\n",
       "    </tr>\n",
       "    <tr>\n",
       "      <th>9511</th>\n",
       "      <td>1.0</td>\n",
       "      <td>0.0</td>\n",
       "      <td>0</td>\n",
       "      <td>0.0</td>\n",
       "      <td>0.0</td>\n",
       "      <td>0.0</td>\n",
       "      <td>0.000000</td>\n",
       "      <td>0.000000</td>\n",
       "      <td>0.000000</td>\n",
       "      <td>0.000000</td>\n",
       "      <td>...</td>\n",
       "      <td>0.051479</td>\n",
       "      <td>0.720968</td>\n",
       "      <td>0.183310</td>\n",
       "      <td>0.113080</td>\n",
       "      <td>0.183310</td>\n",
       "      <td>0.113080</td>\n",
       "      <td>0.147064</td>\n",
       "      <td>0.145830</td>\n",
       "      <td>0.107072</td>\n",
       "      <td>0.190797</td>\n",
       "    </tr>\n",
       "    <tr>\n",
       "      <th>9512</th>\n",
       "      <td>1.0</td>\n",
       "      <td>0.0</td>\n",
       "      <td>0</td>\n",
       "      <td>0.0</td>\n",
       "      <td>0.0</td>\n",
       "      <td>0.0</td>\n",
       "      <td>0.000000</td>\n",
       "      <td>0.000000</td>\n",
       "      <td>0.000000</td>\n",
       "      <td>0.000000</td>\n",
       "      <td>...</td>\n",
       "      <td>0.130026</td>\n",
       "      <td>0.836329</td>\n",
       "      <td>0.187379</td>\n",
       "      <td>0.109785</td>\n",
       "      <td>0.187379</td>\n",
       "      <td>0.109785</td>\n",
       "      <td>0.149545</td>\n",
       "      <td>0.143375</td>\n",
       "      <td>0.107612</td>\n",
       "      <td>0.190112</td>\n",
       "    </tr>\n",
       "    <tr>\n",
       "      <th>9513</th>\n",
       "      <td>1.0</td>\n",
       "      <td>0.0</td>\n",
       "      <td>0</td>\n",
       "      <td>0.0</td>\n",
       "      <td>0.0</td>\n",
       "      <td>0.0</td>\n",
       "      <td>0.000000</td>\n",
       "      <td>0.000000</td>\n",
       "      <td>0.000000</td>\n",
       "      <td>0.000000</td>\n",
       "      <td>...</td>\n",
       "      <td>0.250030</td>\n",
       "      <td>0.933029</td>\n",
       "      <td>0.204697</td>\n",
       "      <td>0.096520</td>\n",
       "      <td>0.204697</td>\n",
       "      <td>0.096520</td>\n",
       "      <td>0.160279</td>\n",
       "      <td>0.133135</td>\n",
       "      <td>0.110878</td>\n",
       "      <td>0.186020</td>\n",
       "    </tr>\n",
       "    <tr>\n",
       "      <th>9514</th>\n",
       "      <td>1.0</td>\n",
       "      <td>0.0</td>\n",
       "      <td>0</td>\n",
       "      <td>0.0</td>\n",
       "      <td>0.0</td>\n",
       "      <td>0.0</td>\n",
       "      <td>0.000000</td>\n",
       "      <td>0.000000</td>\n",
       "      <td>0.000000</td>\n",
       "      <td>0.000000</td>\n",
       "      <td>...</td>\n",
       "      <td>0.406609</td>\n",
       "      <td>0.991201</td>\n",
       "      <td>0.235781</td>\n",
       "      <td>0.075514</td>\n",
       "      <td>0.235781</td>\n",
       "      <td>0.075514</td>\n",
       "      <td>0.187379</td>\n",
       "      <td>0.109785</td>\n",
       "      <td>0.133135</td>\n",
       "      <td>0.160280</td>\n",
       "    </tr>\n",
       "  </tbody>\n",
       "</table>\n",
       "<p>9515 rows × 53 columns</p>\n",
       "</div>"
      ],
      "text/plain": [
       "      onehotencoder__precip_type:idx_0.0  onehotencoder__precip_type:idx_1.0  \\\n",
       "0                                    1.0                                 0.0   \n",
       "1                                    1.0                                 0.0   \n",
       "2                                    1.0                                 0.0   \n",
       "3                                    1.0                                 0.0   \n",
       "4                                    1.0                                 0.0   \n",
       "...                                  ...                                 ...   \n",
       "9510                                 1.0                                 0.0   \n",
       "9511                                 1.0                                 0.0   \n",
       "9512                                 1.0                                 0.0   \n",
       "9513                                 1.0                                 0.0   \n",
       "9514                                 1.0                                 0.0   \n",
       "\n",
       "      onehotencoder__precip_type:idx_2.0  onehotencoder__precip_type:idx_3.0  \\\n",
       "0                                      0                                 0.0   \n",
       "1                                      0                                 0.0   \n",
       "2                                      0                                 0.0   \n",
       "3                                      0                                 0.0   \n",
       "4                                      0                                 0.0   \n",
       "...                                  ...                                 ...   \n",
       "9510                                   0                                 0.0   \n",
       "9511                                   0                                 0.0   \n",
       "9512                                   0                                 0.0   \n",
       "9513                                   0                                 0.0   \n",
       "9514                                   0                                 0.0   \n",
       "\n",
       "      minmaxscaler__precip_1h:mm  minmaxscaler__prob_precip_1h:p  \\\n",
       "0                            0.0                             0.0   \n",
       "1                            0.0                             0.0   \n",
       "2                            0.0                             0.0   \n",
       "3                            0.0                             0.0   \n",
       "4                            0.0                             0.0   \n",
       "...                          ...                             ...   \n",
       "9510                         0.0                             0.0   \n",
       "9511                         0.0                             0.0   \n",
       "9512                         0.0                             0.0   \n",
       "9513                         0.0                             0.0   \n",
       "9514                         0.0                             0.0   \n",
       "\n",
       "      minmaxscaler__clear_sky_rad:W  minmaxscaler__clear_sky_energy_1h:J  \\\n",
       "0                          0.757424                             0.854846   \n",
       "1                          0.000000                             0.779972   \n",
       "2                          0.000000                             0.000000   \n",
       "3                          0.000000                             0.000000   \n",
       "4                          0.000000                             0.000000   \n",
       "...                             ...                                  ...   \n",
       "9510                       0.000000                             0.000000   \n",
       "9511                       0.000000                             0.000000   \n",
       "9512                       0.000000                             0.000000   \n",
       "9513                       0.000000                             0.000000   \n",
       "9514                       0.000000                             0.000000   \n",
       "\n",
       "      minmaxscaler__diffuse_rad:W  minmaxscaler__diffuse_rad_1h:Wh  ...  \\\n",
       "0                        0.781999                         0.815432  ...   \n",
       "1                        0.000000                         0.742604  ...   \n",
       "2                        0.000000                         0.000000  ...   \n",
       "3                        0.000000                         0.000000  ...   \n",
       "4                        0.000000                         0.000000  ...   \n",
       "...                           ...                              ...  ...   \n",
       "9510                     0.000000                         0.000000  ...   \n",
       "9511                     0.000000                         0.000000  ...   \n",
       "9512                     0.000000                         0.000000  ...   \n",
       "9513                     0.000000                         0.000000  ...   \n",
       "9514                     0.000000                         0.000000  ...   \n",
       "\n",
       "      minmaxscaler__sin_sun_azimuth:d  minmaxscaler__cos_sun_azimuth:d  \\\n",
       "0                            0.307401                         0.038568   \n",
       "1                            0.205451                         0.095955   \n",
       "2                            0.121531                         0.173244   \n",
       "3                            0.058350                         0.265584   \n",
       "4                            0.017398                         0.369241   \n",
       "...                               ...                              ...   \n",
       "9510                         0.010188                         0.600413   \n",
       "9511                         0.051479                         0.720968   \n",
       "9512                         0.130026                         0.836329   \n",
       "9513                         0.250030                         0.933029   \n",
       "9514                         0.406609                         0.991201   \n",
       "\n",
       "      minmaxscaler__sin_wind_dir_2m:d  minmaxscaler__cos_wind_dir_2m:d  \\\n",
       "0                            0.045382                         0.291860   \n",
       "1                            0.023405                         0.348815   \n",
       "2                            0.018654                         0.364700   \n",
       "3                            0.017037                         0.370590   \n",
       "4                            0.031970                         0.324079   \n",
       "...                               ...                              ...   \n",
       "9510                         0.142764                         0.150168   \n",
       "9511                         0.183310                         0.113080   \n",
       "9512                         0.187379                         0.109785   \n",
       "9513                         0.204697                         0.096520   \n",
       "9514                         0.235781                         0.075514   \n",
       "\n",
       "      minmaxscaler__sin_wind_dir_10m:d  minmaxscaler__cos_wind_dir_10m:d  \\\n",
       "0                             0.045382                          0.291860   \n",
       "1                             0.023405                          0.348815   \n",
       "2                             0.018654                          0.364700   \n",
       "3                             0.017037                          0.370590   \n",
       "4                             0.031970                          0.324079   \n",
       "...                                ...                               ...   \n",
       "9510                          0.142764                          0.150168   \n",
       "9511                          0.183310                          0.113080   \n",
       "9512                          0.187379                          0.109785   \n",
       "9513                          0.204697                          0.096520   \n",
       "9514                          0.235781                          0.075514   \n",
       "\n",
       "      minmaxscaler__sin_wind_dir_50m:d  minmaxscaler__cos_wind_dir_50m:d  \\\n",
       "0                             0.042169                          0.299026   \n",
       "1                             0.023669                          0.347984   \n",
       "2                             0.019129                          0.363021   \n",
       "3                             0.017952                          0.367222   \n",
       "4                             0.031664                          0.324897   \n",
       "...                                ...                               ...   \n",
       "9510                          0.110331                          0.186698   \n",
       "9511                          0.147064                          0.145830   \n",
       "9512                          0.149545                          0.143375   \n",
       "9513                          0.160279                          0.133135   \n",
       "9514                          0.187379                          0.109785   \n",
       "\n",
       "      minmaxscaler__sin_wind_dir_100m:d  minmaxscaler__cos_wind_dir_100m:d  \n",
       "0                              0.038731                           0.307049  \n",
       "1                              0.024203                           0.346324  \n",
       "2                              0.019853                           0.360507  \n",
       "3                              0.018891                           0.363862  \n",
       "4                              0.031056                           0.326534  \n",
       "...                                 ...                                ...  \n",
       "9510                           0.074594                           0.237266  \n",
       "9511                           0.107072                           0.190797  \n",
       "9512                           0.107612                           0.190112  \n",
       "9513                           0.110878                           0.186020  \n",
       "9514                           0.133135                           0.160280  \n",
       "\n",
       "[9515 rows x 53 columns]"
      ]
     },
     "execution_count": 21,
     "metadata": {},
     "output_type": "execute_result"
    }
   ],
   "source": [
    "X_train_transformed"
   ]
  },
  {
   "cell_type": "markdown",
   "id": "fb172a06-b16c-4f47-8bf5-cd38430cf8bc",
   "metadata": {},
   "source": [
    "### Wind feature importance"
   ]
  },
  {
   "cell_type": "code",
   "execution_count": 54,
   "id": "b1c97e60-e3b6-4db3-95f7-a42be6c8cfe5",
   "metadata": {},
   "outputs": [],
   "source": [
    "import pandas as pd\n",
    "import numpy as np\n",
    "from sklearn.model_selection import train_test_split\n",
    "from xgboost import XGBRegressor"
   ]
  },
  {
   "cell_type": "code",
   "execution_count": 55,
   "id": "945dc271-35cd-44b3-95a1-7be8f5a05b24",
   "metadata": {},
   "outputs": [],
   "source": [
    "XG_X_train_transformed, XG_X_val, XG_y_train, XG_y_val = train_test_split(\n",
    "X_train_transformed, y_train, test_size = 0.1, random_state = 42  # val = 10%\n",
    ")"
   ]
  },
  {
   "cell_type": "code",
   "execution_count": 56,
   "id": "4ea312bb-bea7-4ad1-85a8-9baacdb60692",
   "metadata": {
    "scrolled": true
   },
   "outputs": [
    {
     "name": "stdout",
     "output_type": "stream",
     "text": [
      "[0]\tvalidation_0-mae:7.47285\tvalidation_1-mae:6.73216\n",
      "[1]\tvalidation_0-mae:7.15147\tvalidation_1-mae:6.45590\n",
      "[2]\tvalidation_0-mae:6.85235\tvalidation_1-mae:6.19019\n",
      "[3]\tvalidation_0-mae:6.57044\tvalidation_1-mae:5.94318\n",
      "[4]\tvalidation_0-mae:6.30595\tvalidation_1-mae:5.71224\n",
      "[5]\tvalidation_0-mae:6.05732\tvalidation_1-mae:5.50811\n",
      "[6]\tvalidation_0-mae:5.82059\tvalidation_1-mae:5.31344\n",
      "[7]\tvalidation_0-mae:5.60057\tvalidation_1-mae:5.13484\n",
      "[8]\tvalidation_0-mae:5.39475\tvalidation_1-mae:4.96788\n"
     ]
    },
    {
     "name": "stderr",
     "output_type": "stream",
     "text": [
      "/Users/carlbechtolsheim/.pyenv/versions/3.10.6/envs/watt_squad/lib/python3.10/site-packages/xgboost/sklearn.py:793: UserWarning: `early_stopping_rounds` in `fit` method is deprecated for better compatibility with scikit-learn, use `early_stopping_rounds` in constructor or`set_params` instead.\n",
      "  warnings.warn(\n"
     ]
    },
    {
     "name": "stdout",
     "output_type": "stream",
     "text": [
      "[9]\tvalidation_0-mae:5.20249\tvalidation_1-mae:4.81732\n",
      "[10]\tvalidation_0-mae:5.02190\tvalidation_1-mae:4.68070\n",
      "[11]\tvalidation_0-mae:4.85558\tvalidation_1-mae:4.55690\n",
      "[12]\tvalidation_0-mae:4.70233\tvalidation_1-mae:4.43845\n",
      "[13]\tvalidation_0-mae:4.56206\tvalidation_1-mae:4.32705\n",
      "[14]\tvalidation_0-mae:4.42592\tvalidation_1-mae:4.22274\n",
      "[15]\tvalidation_0-mae:4.30253\tvalidation_1-mae:4.13365\n",
      "[16]\tvalidation_0-mae:4.18660\tvalidation_1-mae:4.05241\n",
      "[17]\tvalidation_0-mae:4.07856\tvalidation_1-mae:3.98743\n",
      "[18]\tvalidation_0-mae:3.97860\tvalidation_1-mae:3.91172\n",
      "[19]\tvalidation_0-mae:3.88108\tvalidation_1-mae:3.84508\n",
      "[20]\tvalidation_0-mae:3.79132\tvalidation_1-mae:3.78620\n",
      "[21]\tvalidation_0-mae:3.70447\tvalidation_1-mae:3.72353\n",
      "[22]\tvalidation_0-mae:3.62387\tvalidation_1-mae:3.66811\n",
      "[23]\tvalidation_0-mae:3.54815\tvalidation_1-mae:3.62193\n",
      "[24]\tvalidation_0-mae:3.47422\tvalidation_1-mae:3.57443\n",
      "[25]\tvalidation_0-mae:3.40480\tvalidation_1-mae:3.52453\n",
      "[26]\tvalidation_0-mae:3.33608\tvalidation_1-mae:3.47617\n",
      "[27]\tvalidation_0-mae:3.27565\tvalidation_1-mae:3.43751\n",
      "[28]\tvalidation_0-mae:3.21795\tvalidation_1-mae:3.39466\n",
      "[29]\tvalidation_0-mae:3.16606\tvalidation_1-mae:3.36218\n",
      "[30]\tvalidation_0-mae:3.11442\tvalidation_1-mae:3.33222\n",
      "[31]\tvalidation_0-mae:3.06754\tvalidation_1-mae:3.30061\n",
      "[32]\tvalidation_0-mae:3.01997\tvalidation_1-mae:3.27443\n",
      "[33]\tvalidation_0-mae:2.97381\tvalidation_1-mae:3.24945\n",
      "[34]\tvalidation_0-mae:2.92943\tvalidation_1-mae:3.22476\n",
      "[35]\tvalidation_0-mae:2.88892\tvalidation_1-mae:3.20399\n",
      "[36]\tvalidation_0-mae:2.84664\tvalidation_1-mae:3.18271\n",
      "[37]\tvalidation_0-mae:2.81005\tvalidation_1-mae:3.16095\n",
      "[38]\tvalidation_0-mae:2.77204\tvalidation_1-mae:3.13528\n",
      "[39]\tvalidation_0-mae:2.74024\tvalidation_1-mae:3.11557\n",
      "[40]\tvalidation_0-mae:2.70667\tvalidation_1-mae:3.09598\n",
      "[41]\tvalidation_0-mae:2.67425\tvalidation_1-mae:3.08141\n",
      "[42]\tvalidation_0-mae:2.64598\tvalidation_1-mae:3.06429\n",
      "[43]\tvalidation_0-mae:2.61258\tvalidation_1-mae:3.04751\n",
      "[44]\tvalidation_0-mae:2.58481\tvalidation_1-mae:3.03637\n",
      "[45]\tvalidation_0-mae:2.56033\tvalidation_1-mae:3.02628\n",
      "[46]\tvalidation_0-mae:2.53339\tvalidation_1-mae:3.01210\n",
      "[47]\tvalidation_0-mae:2.50866\tvalidation_1-mae:3.00136\n",
      "[48]\tvalidation_0-mae:2.48332\tvalidation_1-mae:2.99106\n",
      "[49]\tvalidation_0-mae:2.46108\tvalidation_1-mae:2.98210\n",
      "[50]\tvalidation_0-mae:2.43349\tvalidation_1-mae:2.97147\n",
      "[51]\tvalidation_0-mae:2.41108\tvalidation_1-mae:2.95915\n",
      "[52]\tvalidation_0-mae:2.38999\tvalidation_1-mae:2.95290\n",
      "[53]\tvalidation_0-mae:2.36773\tvalidation_1-mae:2.94318\n",
      "[54]\tvalidation_0-mae:2.34617\tvalidation_1-mae:2.93869\n",
      "[55]\tvalidation_0-mae:2.32583\tvalidation_1-mae:2.92908\n",
      "[56]\tvalidation_0-mae:2.30779\tvalidation_1-mae:2.92051\n",
      "[57]\tvalidation_0-mae:2.28783\tvalidation_1-mae:2.91393\n",
      "[58]\tvalidation_0-mae:2.27004\tvalidation_1-mae:2.90532\n",
      "[59]\tvalidation_0-mae:2.24984\tvalidation_1-mae:2.89450\n",
      "[60]\tvalidation_0-mae:2.23442\tvalidation_1-mae:2.88953\n",
      "[61]\tvalidation_0-mae:2.21490\tvalidation_1-mae:2.88064\n",
      "[62]\tvalidation_0-mae:2.19678\tvalidation_1-mae:2.87373\n",
      "[63]\tvalidation_0-mae:2.17853\tvalidation_1-mae:2.86503\n",
      "[64]\tvalidation_0-mae:2.16126\tvalidation_1-mae:2.86196\n",
      "[65]\tvalidation_0-mae:2.14563\tvalidation_1-mae:2.85430\n",
      "[66]\tvalidation_0-mae:2.12887\tvalidation_1-mae:2.84907\n",
      "[67]\tvalidation_0-mae:2.11458\tvalidation_1-mae:2.84527\n",
      "[68]\tvalidation_0-mae:2.09985\tvalidation_1-mae:2.83859\n",
      "[69]\tvalidation_0-mae:2.08516\tvalidation_1-mae:2.83110\n",
      "[70]\tvalidation_0-mae:2.07290\tvalidation_1-mae:2.82499\n",
      "[71]\tvalidation_0-mae:2.06487\tvalidation_1-mae:2.82353\n",
      "[72]\tvalidation_0-mae:2.05019\tvalidation_1-mae:2.81665\n",
      "[73]\tvalidation_0-mae:2.03940\tvalidation_1-mae:2.81536\n",
      "[74]\tvalidation_0-mae:2.02640\tvalidation_1-mae:2.81293\n",
      "[75]\tvalidation_0-mae:2.01606\tvalidation_1-mae:2.80789\n",
      "[76]\tvalidation_0-mae:2.00283\tvalidation_1-mae:2.80138\n",
      "[77]\tvalidation_0-mae:1.99277\tvalidation_1-mae:2.80325\n",
      "[78]\tvalidation_0-mae:1.98492\tvalidation_1-mae:2.80292\n",
      "[79]\tvalidation_0-mae:1.97506\tvalidation_1-mae:2.79725\n",
      "[80]\tvalidation_0-mae:1.96117\tvalidation_1-mae:2.79698\n",
      "[81]\tvalidation_0-mae:1.95072\tvalidation_1-mae:2.79108\n",
      "[82]\tvalidation_0-mae:1.94406\tvalidation_1-mae:2.79144\n",
      "[83]\tvalidation_0-mae:1.93406\tvalidation_1-mae:2.79056\n",
      "[84]\tvalidation_0-mae:1.92399\tvalidation_1-mae:2.79136\n",
      "[85]\tvalidation_0-mae:1.91456\tvalidation_1-mae:2.78577\n",
      "[86]\tvalidation_0-mae:1.90748\tvalidation_1-mae:2.78802\n",
      "[87]\tvalidation_0-mae:1.89855\tvalidation_1-mae:2.78725\n",
      "[88]\tvalidation_0-mae:1.89220\tvalidation_1-mae:2.78719\n",
      "[89]\tvalidation_0-mae:1.88397\tvalidation_1-mae:2.79093\n",
      "[90]\tvalidation_0-mae:1.87745\tvalidation_1-mae:2.79158\n",
      "➡️  model fitting done\n",
      "➡️  performed predictions\n"
     ]
    }
   ],
   "source": [
    "xgb_reg = XGBRegressor(\n",
    "    max_depth=7,                # Optimal value found\n",
    "    n_estimators=300,           # Optimal value found\n",
    "    learning_rate=0.05,         # Optimal value found\n",
    "    reg_alpha=0.05,             # Optimal value found\n",
    "    reg_lambda=20,              # Optimal value found\n",
    "    subsample=0.8,              # Optimal value found\n",
    "    colsample_bytree=0.8,       # Optimal value found\n",
    "    objective='reg:squarederror',\n",
    "    eval_metric=\"mae\",\n",
    "    random_state=42             # Ensuring reproducibility\n",
    ")\n",
    "\n",
    "# Fit the model on the training data\n",
    "xgb_reg.fit(\n",
    "    XG_X_train_transformed,\n",
    "    XG_y_train,\n",
    "    eval_set=[(XG_X_train_transformed, XG_y_train), (XG_X_val, XG_y_val)],\n",
    "    verbose=True,\n",
    "    early_stopping_rounds=5     # Retain early stopping\n",
    ")\n",
    "\n",
    "print(\"➡️  model fitting done\")\n",
    "\n",
    "# Make predictions\n",
    "y_pred = xgb_reg.predict(X_test_transformed)\n",
    "\n",
    "print(\"➡️  performed predictions\")"
   ]
  },
  {
   "cell_type": "code",
   "execution_count": 57,
   "id": "e49d321e-b5e4-43ec-9370-545d4cc0b3bc",
   "metadata": {},
   "outputs": [
    {
     "data": {
      "text/plain": [
       "0       0.0\n",
       "1       0.0\n",
       "2       0.0\n",
       "3       0.0\n",
       "4       0.0\n",
       "       ... \n",
       "9510    0.0\n",
       "9511    0.0\n",
       "9512    0.0\n",
       "9513    0.0\n",
       "9514    0.0\n",
       "Name: pv_production, Length: 9515, dtype: float64"
      ]
     },
     "execution_count": 57,
     "metadata": {},
     "output_type": "execute_result"
    }
   ],
   "source": [
    "y_train"
   ]
  },
  {
   "cell_type": "code",
   "execution_count": 58,
   "id": "c183e9b4-cdc1-47f9-b79f-cc49766a5ede",
   "metadata": {},
   "outputs": [],
   "source": [
    "importance = xgb_reg.feature_importances_\n",
    "feature_names = X_train_transformed.columns\n",
    "importance_df = pd.DataFrame({'Feature': feature_names, 'Importance': importance})\n",
    "importance_df.sort_values(by='Importance', ascending=False, inplace=True)"
   ]
  },
  {
   "cell_type": "code",
   "execution_count": 59,
   "id": "065bf474-eb4e-4080-a0e3-f9e6af9550bc",
   "metadata": {
    "scrolled": true
   },
   "outputs": [
    {
     "data": {
      "text/html": [
       "<div>\n",
       "<style scoped>\n",
       "    .dataframe tbody tr th:only-of-type {\n",
       "        vertical-align: middle;\n",
       "    }\n",
       "\n",
       "    .dataframe tbody tr th {\n",
       "        vertical-align: top;\n",
       "    }\n",
       "\n",
       "    .dataframe thead th {\n",
       "        text-align: right;\n",
       "    }\n",
       "</style>\n",
       "<table border=\"1\" class=\"dataframe\">\n",
       "  <thead>\n",
       "    <tr style=\"text-align: right;\">\n",
       "      <th></th>\n",
       "      <th>Feature</th>\n",
       "      <th>Importance</th>\n",
       "    </tr>\n",
       "  </thead>\n",
       "  <tbody>\n",
       "    <tr>\n",
       "      <th>12</th>\n",
       "      <td>minmaxscaler__global_rad:W</td>\n",
       "      <td>0.411079</td>\n",
       "    </tr>\n",
       "    <tr>\n",
       "      <th>10</th>\n",
       "      <td>minmaxscaler__direct_rad:W</td>\n",
       "      <td>0.219816</td>\n",
       "    </tr>\n",
       "    <tr>\n",
       "      <th>13</th>\n",
       "      <td>minmaxscaler__global_rad_1h:Wh</td>\n",
       "      <td>0.028506</td>\n",
       "    </tr>\n",
       "    <tr>\n",
       "      <th>44</th>\n",
       "      <td>minmaxscaler__cos_sun_azimuth:d</td>\n",
       "      <td>0.021546</td>\n",
       "    </tr>\n",
       "    <tr>\n",
       "      <th>8</th>\n",
       "      <td>minmaxscaler__diffuse_rad:W</td>\n",
       "      <td>0.017814</td>\n",
       "    </tr>\n",
       "    <tr>\n",
       "      <th>17</th>\n",
       "      <td>minmaxscaler__medium_cloud_cover:p</td>\n",
       "      <td>0.013041</td>\n",
       "    </tr>\n",
       "    <tr>\n",
       "      <th>37</th>\n",
       "      <td>minmaxscaler__hour_sine</td>\n",
       "      <td>0.010516</td>\n",
       "    </tr>\n",
       "    <tr>\n",
       "      <th>51</th>\n",
       "      <td>minmaxscaler__sin_wind_dir_100m:d</td>\n",
       "      <td>0.010082</td>\n",
       "    </tr>\n",
       "    <tr>\n",
       "      <th>38</th>\n",
       "      <td>minmaxscaler__hour_cosine</td>\n",
       "      <td>0.009273</td>\n",
       "    </tr>\n",
       "    <tr>\n",
       "      <th>40</th>\n",
       "      <td>minmaxscaler__month_cosine</td>\n",
       "      <td>0.008691</td>\n",
       "    </tr>\n",
       "    <tr>\n",
       "      <th>49</th>\n",
       "      <td>minmaxscaler__sin_wind_dir_50m:d</td>\n",
       "      <td>0.008554</td>\n",
       "    </tr>\n",
       "    <tr>\n",
       "      <th>31</th>\n",
       "      <td>minmaxscaler__dew_point_50m:C</td>\n",
       "      <td>0.008321</td>\n",
       "    </tr>\n",
       "    <tr>\n",
       "      <th>15</th>\n",
       "      <td>minmaxscaler__sun_elevation:d</td>\n",
       "      <td>0.008222</td>\n",
       "    </tr>\n",
       "    <tr>\n",
       "      <th>35</th>\n",
       "      <td>minmaxscaler__dew_point_100m:C</td>\n",
       "      <td>0.007657</td>\n",
       "    </tr>\n",
       "    <tr>\n",
       "      <th>39</th>\n",
       "      <td>minmaxscaler__month_sine</td>\n",
       "      <td>0.007596</td>\n",
       "    </tr>\n",
       "    <tr>\n",
       "      <th>19</th>\n",
       "      <td>minmaxscaler__total_cloud_cover:p</td>\n",
       "      <td>0.007476</td>\n",
       "    </tr>\n",
       "    <tr>\n",
       "      <th>43</th>\n",
       "      <td>minmaxscaler__sin_sun_azimuth:d</td>\n",
       "      <td>0.007470</td>\n",
       "    </tr>\n",
       "    <tr>\n",
       "      <th>33</th>\n",
       "      <td>minmaxscaler__t_100m:C</td>\n",
       "      <td>0.007435</td>\n",
       "    </tr>\n",
       "    <tr>\n",
       "      <th>29</th>\n",
       "      <td>minmaxscaler__t_50m:C</td>\n",
       "      <td>0.007308</td>\n",
       "    </tr>\n",
       "    <tr>\n",
       "      <th>18</th>\n",
       "      <td>minmaxscaler__high_cloud_cover:p</td>\n",
       "      <td>0.007103</td>\n",
       "    </tr>\n",
       "    <tr>\n",
       "      <th>25</th>\n",
       "      <td>minmaxscaler__t_10m:C</td>\n",
       "      <td>0.006900</td>\n",
       "    </tr>\n",
       "    <tr>\n",
       "      <th>21</th>\n",
       "      <td>minmaxscaler__temp</td>\n",
       "      <td>0.006741</td>\n",
       "    </tr>\n",
       "    <tr>\n",
       "      <th>32</th>\n",
       "      <td>minmaxscaler__wind_speed_50m:ms</td>\n",
       "      <td>0.006740</td>\n",
       "    </tr>\n",
       "    <tr>\n",
       "      <th>34</th>\n",
       "      <td>minmaxscaler__relative_humidity_100m:p</td>\n",
       "      <td>0.006636</td>\n",
       "    </tr>\n",
       "    <tr>\n",
       "      <th>26</th>\n",
       "      <td>minmaxscaler__relative_humidity_10m:p</td>\n",
       "      <td>0.006602</td>\n",
       "    </tr>\n",
       "    <tr>\n",
       "      <th>28</th>\n",
       "      <td>minmaxscaler__wind_speed_10m:ms</td>\n",
       "      <td>0.006454</td>\n",
       "    </tr>\n",
       "    <tr>\n",
       "      <th>1</th>\n",
       "      <td>onehotencoder__precip_type:idx_1.0</td>\n",
       "      <td>0.006436</td>\n",
       "    </tr>\n",
       "    <tr>\n",
       "      <th>20</th>\n",
       "      <td>minmaxscaler__effective_cloud_cover:p</td>\n",
       "      <td>0.006421</td>\n",
       "    </tr>\n",
       "    <tr>\n",
       "      <th>30</th>\n",
       "      <td>minmaxscaler__relative_humidity_50m:p</td>\n",
       "      <td>0.006270</td>\n",
       "    </tr>\n",
       "    <tr>\n",
       "      <th>45</th>\n",
       "      <td>minmaxscaler__sin_wind_dir_2m:d</td>\n",
       "      <td>0.006262</td>\n",
       "    </tr>\n",
       "    <tr>\n",
       "      <th>16</th>\n",
       "      <td>minmaxscaler__low_cloud_cover:p</td>\n",
       "      <td>0.006227</td>\n",
       "    </tr>\n",
       "    <tr>\n",
       "      <th>50</th>\n",
       "      <td>minmaxscaler__cos_wind_dir_50m:d</td>\n",
       "      <td>0.006216</td>\n",
       "    </tr>\n",
       "    <tr>\n",
       "      <th>36</th>\n",
       "      <td>minmaxscaler__wind_speed_100m:ms</td>\n",
       "      <td>0.005889</td>\n",
       "    </tr>\n",
       "    <tr>\n",
       "      <th>4</th>\n",
       "      <td>minmaxscaler__precip_1h:mm</td>\n",
       "      <td>0.005844</td>\n",
       "    </tr>\n",
       "    <tr>\n",
       "      <th>11</th>\n",
       "      <td>minmaxscaler__direct_rad_1h:Wh</td>\n",
       "      <td>0.005740</td>\n",
       "    </tr>\n",
       "    <tr>\n",
       "      <th>47</th>\n",
       "      <td>minmaxscaler__sin_wind_dir_10m:d</td>\n",
       "      <td>0.005630</td>\n",
       "    </tr>\n",
       "    <tr>\n",
       "      <th>0</th>\n",
       "      <td>onehotencoder__precip_type:idx_0.0</td>\n",
       "      <td>0.005499</td>\n",
       "    </tr>\n",
       "    <tr>\n",
       "      <th>46</th>\n",
       "      <td>minmaxscaler__cos_wind_dir_2m:d</td>\n",
       "      <td>0.005399</td>\n",
       "    </tr>\n",
       "    <tr>\n",
       "      <th>41</th>\n",
       "      <td>minmaxscaler__season_sine</td>\n",
       "      <td>0.005348</td>\n",
       "    </tr>\n",
       "    <tr>\n",
       "      <th>6</th>\n",
       "      <td>minmaxscaler__clear_sky_rad:W</td>\n",
       "      <td>0.005267</td>\n",
       "    </tr>\n",
       "    <tr>\n",
       "      <th>27</th>\n",
       "      <td>minmaxscaler__dew_point_10m:C</td>\n",
       "      <td>0.005241</td>\n",
       "    </tr>\n",
       "    <tr>\n",
       "      <th>5</th>\n",
       "      <td>minmaxscaler__prob_precip_1h:p</td>\n",
       "      <td>0.005210</td>\n",
       "    </tr>\n",
       "    <tr>\n",
       "      <th>24</th>\n",
       "      <td>minmaxscaler__wind_speed_2m:ms</td>\n",
       "      <td>0.005175</td>\n",
       "    </tr>\n",
       "    <tr>\n",
       "      <th>48</th>\n",
       "      <td>minmaxscaler__cos_wind_dir_10m:d</td>\n",
       "      <td>0.005065</td>\n",
       "    </tr>\n",
       "    <tr>\n",
       "      <th>23</th>\n",
       "      <td>minmaxscaler__dew_point_2m:C</td>\n",
       "      <td>0.004910</td>\n",
       "    </tr>\n",
       "    <tr>\n",
       "      <th>52</th>\n",
       "      <td>minmaxscaler__cos_wind_dir_100m:d</td>\n",
       "      <td>0.004888</td>\n",
       "    </tr>\n",
       "    <tr>\n",
       "      <th>14</th>\n",
       "      <td>minmaxscaler__sunshine_duration_1h:min</td>\n",
       "      <td>0.004707</td>\n",
       "    </tr>\n",
       "    <tr>\n",
       "      <th>22</th>\n",
       "      <td>minmaxscaler__relative_humidity_2m:p</td>\n",
       "      <td>0.004535</td>\n",
       "    </tr>\n",
       "    <tr>\n",
       "      <th>42</th>\n",
       "      <td>minmaxscaler__season_cosine</td>\n",
       "      <td>0.003580</td>\n",
       "    </tr>\n",
       "    <tr>\n",
       "      <th>9</th>\n",
       "      <td>minmaxscaler__diffuse_rad_1h:Wh</td>\n",
       "      <td>0.003177</td>\n",
       "    </tr>\n",
       "    <tr>\n",
       "      <th>7</th>\n",
       "      <td>minmaxscaler__clear_sky_energy_1h:J</td>\n",
       "      <td>0.003020</td>\n",
       "    </tr>\n",
       "    <tr>\n",
       "      <th>3</th>\n",
       "      <td>onehotencoder__precip_type:idx_3.0</td>\n",
       "      <td>0.000465</td>\n",
       "    </tr>\n",
       "    <tr>\n",
       "      <th>2</th>\n",
       "      <td>onehotencoder__precip_type:idx_2.0</td>\n",
       "      <td>0.000000</td>\n",
       "    </tr>\n",
       "  </tbody>\n",
       "</table>\n",
       "</div>"
      ],
      "text/plain": [
       "                                   Feature  Importance\n",
       "12              minmaxscaler__global_rad:W    0.411079\n",
       "10              minmaxscaler__direct_rad:W    0.219816\n",
       "13          minmaxscaler__global_rad_1h:Wh    0.028506\n",
       "44         minmaxscaler__cos_sun_azimuth:d    0.021546\n",
       "8              minmaxscaler__diffuse_rad:W    0.017814\n",
       "17      minmaxscaler__medium_cloud_cover:p    0.013041\n",
       "37                 minmaxscaler__hour_sine    0.010516\n",
       "51       minmaxscaler__sin_wind_dir_100m:d    0.010082\n",
       "38               minmaxscaler__hour_cosine    0.009273\n",
       "40              minmaxscaler__month_cosine    0.008691\n",
       "49        minmaxscaler__sin_wind_dir_50m:d    0.008554\n",
       "31           minmaxscaler__dew_point_50m:C    0.008321\n",
       "15           minmaxscaler__sun_elevation:d    0.008222\n",
       "35          minmaxscaler__dew_point_100m:C    0.007657\n",
       "39                minmaxscaler__month_sine    0.007596\n",
       "19       minmaxscaler__total_cloud_cover:p    0.007476\n",
       "43         minmaxscaler__sin_sun_azimuth:d    0.007470\n",
       "33                  minmaxscaler__t_100m:C    0.007435\n",
       "29                   minmaxscaler__t_50m:C    0.007308\n",
       "18        minmaxscaler__high_cloud_cover:p    0.007103\n",
       "25                   minmaxscaler__t_10m:C    0.006900\n",
       "21                      minmaxscaler__temp    0.006741\n",
       "32         minmaxscaler__wind_speed_50m:ms    0.006740\n",
       "34  minmaxscaler__relative_humidity_100m:p    0.006636\n",
       "26   minmaxscaler__relative_humidity_10m:p    0.006602\n",
       "28         minmaxscaler__wind_speed_10m:ms    0.006454\n",
       "1       onehotencoder__precip_type:idx_1.0    0.006436\n",
       "20   minmaxscaler__effective_cloud_cover:p    0.006421\n",
       "30   minmaxscaler__relative_humidity_50m:p    0.006270\n",
       "45         minmaxscaler__sin_wind_dir_2m:d    0.006262\n",
       "16         minmaxscaler__low_cloud_cover:p    0.006227\n",
       "50        minmaxscaler__cos_wind_dir_50m:d    0.006216\n",
       "36        minmaxscaler__wind_speed_100m:ms    0.005889\n",
       "4               minmaxscaler__precip_1h:mm    0.005844\n",
       "11          minmaxscaler__direct_rad_1h:Wh    0.005740\n",
       "47        minmaxscaler__sin_wind_dir_10m:d    0.005630\n",
       "0       onehotencoder__precip_type:idx_0.0    0.005499\n",
       "46         minmaxscaler__cos_wind_dir_2m:d    0.005399\n",
       "41               minmaxscaler__season_sine    0.005348\n",
       "6            minmaxscaler__clear_sky_rad:W    0.005267\n",
       "27           minmaxscaler__dew_point_10m:C    0.005241\n",
       "5           minmaxscaler__prob_precip_1h:p    0.005210\n",
       "24          minmaxscaler__wind_speed_2m:ms    0.005175\n",
       "48        minmaxscaler__cos_wind_dir_10m:d    0.005065\n",
       "23            minmaxscaler__dew_point_2m:C    0.004910\n",
       "52       minmaxscaler__cos_wind_dir_100m:d    0.004888\n",
       "14  minmaxscaler__sunshine_duration_1h:min    0.004707\n",
       "22    minmaxscaler__relative_humidity_2m:p    0.004535\n",
       "42             minmaxscaler__season_cosine    0.003580\n",
       "9          minmaxscaler__diffuse_rad_1h:Wh    0.003177\n",
       "7      minmaxscaler__clear_sky_energy_1h:J    0.003020\n",
       "3       onehotencoder__precip_type:idx_3.0    0.000465\n",
       "2       onehotencoder__precip_type:idx_2.0    0.000000"
      ]
     },
     "execution_count": 59,
     "metadata": {},
     "output_type": "execute_result"
    }
   ],
   "source": [
    "importance_df"
   ]
  },
  {
   "cell_type": "code",
   "execution_count": 60,
   "id": "ae6ee0c0-4a4e-4a76-878c-d309b85fd9a3",
   "metadata": {},
   "outputs": [],
   "source": [
    "wind_columns_drop = list(importance_df[importance_df['Importance']<0.008]['Feature'])"
   ]
  },
  {
   "cell_type": "code",
   "execution_count": 81,
   "id": "fccae02b-bb73-4fa6-8619-ca19229295ff",
   "metadata": {},
   "outputs": [
    {
     "data": {
      "text/plain": [
       "40"
      ]
     },
     "execution_count": 81,
     "metadata": {},
     "output_type": "execute_result"
    }
   ],
   "source": [
    "len(wind_columns_drop)"
   ]
  },
  {
   "cell_type": "code",
   "execution_count": 61,
   "id": "5af316d5-0b30-4179-95f5-31a44527f8e8",
   "metadata": {},
   "outputs": [],
   "source": [
    "df = df.drop(columns = wind_columns_drop).copy()"
   ]
  },
  {
   "cell_type": "code",
   "execution_count": 62,
   "id": "d26fb5f5-39d6-47aa-b312-31318ac3cc34",
   "metadata": {},
   "outputs": [
    {
     "data": {
      "text/html": [
       "<div>\n",
       "<style scoped>\n",
       "    .dataframe tbody tr th:only-of-type {\n",
       "        vertical-align: middle;\n",
       "    }\n",
       "\n",
       "    .dataframe tbody tr th {\n",
       "        vertical-align: top;\n",
       "    }\n",
       "\n",
       "    .dataframe thead th {\n",
       "        text-align: right;\n",
       "    }\n",
       "</style>\n",
       "<table border=\"1\" class=\"dataframe\">\n",
       "  <thead>\n",
       "    <tr style=\"text-align: right;\">\n",
       "      <th></th>\n",
       "      <th>minmaxscaler__diffuse_rad:W</th>\n",
       "      <th>minmaxscaler__direct_rad:W</th>\n",
       "      <th>minmaxscaler__global_rad:W</th>\n",
       "      <th>minmaxscaler__global_rad_1h:Wh</th>\n",
       "      <th>minmaxscaler__sun_elevation:d</th>\n",
       "      <th>minmaxscaler__medium_cloud_cover:p</th>\n",
       "      <th>minmaxscaler__dew_point_50m:C</th>\n",
       "      <th>minmaxscaler__hour_sine</th>\n",
       "      <th>minmaxscaler__hour_cosine</th>\n",
       "      <th>minmaxscaler__month_cosine</th>\n",
       "      <th>minmaxscaler__cos_sun_azimuth:d</th>\n",
       "      <th>minmaxscaler__sin_wind_dir_50m:d</th>\n",
       "      <th>minmaxscaler__sin_wind_dir_100m:d</th>\n",
       "      <th>pv_production</th>\n",
       "    </tr>\n",
       "  </thead>\n",
       "  <tbody>\n",
       "    <tr>\n",
       "      <th>0</th>\n",
       "      <td>0.781999</td>\n",
       "      <td>0.571465</td>\n",
       "      <td>0.746423</td>\n",
       "      <td>0.782939</td>\n",
       "      <td>0.513809</td>\n",
       "      <td>0.567</td>\n",
       "      <td>0.528529</td>\n",
       "      <td>0.370590</td>\n",
       "      <td>0.017037</td>\n",
       "      <td>0.933013</td>\n",
       "      <td>0.038568</td>\n",
       "      <td>0.042169</td>\n",
       "      <td>0.038731</td>\n",
       "      <td>0.0</td>\n",
       "    </tr>\n",
       "    <tr>\n",
       "      <th>1</th>\n",
       "      <td>0.000000</td>\n",
       "      <td>0.000000</td>\n",
       "      <td>0.000000</td>\n",
       "      <td>0.708139</td>\n",
       "      <td>0.480791</td>\n",
       "      <td>0.615</td>\n",
       "      <td>0.534535</td>\n",
       "      <td>0.250000</td>\n",
       "      <td>0.066987</td>\n",
       "      <td>0.933013</td>\n",
       "      <td>0.095955</td>\n",
       "      <td>0.023669</td>\n",
       "      <td>0.024203</td>\n",
       "      <td>0.0</td>\n",
       "    </tr>\n",
       "    <tr>\n",
       "      <th>2</th>\n",
       "      <td>0.000000</td>\n",
       "      <td>0.000000</td>\n",
       "      <td>0.000000</td>\n",
       "      <td>0.000000</td>\n",
       "      <td>0.435200</td>\n",
       "      <td>0.923</td>\n",
       "      <td>0.528529</td>\n",
       "      <td>0.146447</td>\n",
       "      <td>0.146447</td>\n",
       "      <td>0.933013</td>\n",
       "      <td>0.173244</td>\n",
       "      <td>0.019129</td>\n",
       "      <td>0.019853</td>\n",
       "      <td>0.0</td>\n",
       "    </tr>\n",
       "    <tr>\n",
       "      <th>3</th>\n",
       "      <td>0.000000</td>\n",
       "      <td>0.000000</td>\n",
       "      <td>0.000000</td>\n",
       "      <td>0.000000</td>\n",
       "      <td>0.379682</td>\n",
       "      <td>0.975</td>\n",
       "      <td>0.549550</td>\n",
       "      <td>0.066987</td>\n",
       "      <td>0.250000</td>\n",
       "      <td>0.933013</td>\n",
       "      <td>0.265584</td>\n",
       "      <td>0.017952</td>\n",
       "      <td>0.018891</td>\n",
       "      <td>0.0</td>\n",
       "    </tr>\n",
       "    <tr>\n",
       "      <th>4</th>\n",
       "      <td>0.000000</td>\n",
       "      <td>0.000000</td>\n",
       "      <td>0.000000</td>\n",
       "      <td>0.000000</td>\n",
       "      <td>0.317121</td>\n",
       "      <td>0.986</td>\n",
       "      <td>0.603604</td>\n",
       "      <td>0.017037</td>\n",
       "      <td>0.370590</td>\n",
       "      <td>0.933013</td>\n",
       "      <td>0.369241</td>\n",
       "      <td>0.031664</td>\n",
       "      <td>0.031056</td>\n",
       "      <td>0.0</td>\n",
       "    </tr>\n",
       "    <tr>\n",
       "      <th>...</th>\n",
       "      <td>...</td>\n",
       "      <td>...</td>\n",
       "      <td>...</td>\n",
       "      <td>...</td>\n",
       "      <td>...</td>\n",
       "      <td>...</td>\n",
       "      <td>...</td>\n",
       "      <td>...</td>\n",
       "      <td>...</td>\n",
       "      <td>...</td>\n",
       "      <td>...</td>\n",
       "      <td>...</td>\n",
       "      <td>...</td>\n",
       "      <td>...</td>\n",
       "    </tr>\n",
       "    <tr>\n",
       "      <th>9510</th>\n",
       "      <td>0.000000</td>\n",
       "      <td>0.000000</td>\n",
       "      <td>0.000000</td>\n",
       "      <td>0.000000</td>\n",
       "      <td>0.248420</td>\n",
       "      <td>0.041</td>\n",
       "      <td>0.363363</td>\n",
       "      <td>0.017037</td>\n",
       "      <td>0.629410</td>\n",
       "      <td>0.933013</td>\n",
       "      <td>0.600413</td>\n",
       "      <td>0.110331</td>\n",
       "      <td>0.074594</td>\n",
       "      <td>0.0</td>\n",
       "    </tr>\n",
       "    <tr>\n",
       "      <th>9511</th>\n",
       "      <td>0.000000</td>\n",
       "      <td>0.000000</td>\n",
       "      <td>0.000000</td>\n",
       "      <td>0.000000</td>\n",
       "      <td>0.184787</td>\n",
       "      <td>0.018</td>\n",
       "      <td>0.360360</td>\n",
       "      <td>0.066987</td>\n",
       "      <td>0.750000</td>\n",
       "      <td>0.933013</td>\n",
       "      <td>0.720968</td>\n",
       "      <td>0.147064</td>\n",
       "      <td>0.107072</td>\n",
       "      <td>0.0</td>\n",
       "    </tr>\n",
       "    <tr>\n",
       "      <th>9512</th>\n",
       "      <td>0.000000</td>\n",
       "      <td>0.000000</td>\n",
       "      <td>0.000000</td>\n",
       "      <td>0.000000</td>\n",
       "      <td>0.129159</td>\n",
       "      <td>0.249</td>\n",
       "      <td>0.351351</td>\n",
       "      <td>0.146447</td>\n",
       "      <td>0.853553</td>\n",
       "      <td>0.933013</td>\n",
       "      <td>0.836329</td>\n",
       "      <td>0.149545</td>\n",
       "      <td>0.107612</td>\n",
       "      <td>0.0</td>\n",
       "    </tr>\n",
       "    <tr>\n",
       "      <th>9513</th>\n",
       "      <td>0.000000</td>\n",
       "      <td>0.000000</td>\n",
       "      <td>0.000000</td>\n",
       "      <td>0.000000</td>\n",
       "      <td>0.086904</td>\n",
       "      <td>0.216</td>\n",
       "      <td>0.345345</td>\n",
       "      <td>0.250000</td>\n",
       "      <td>0.933013</td>\n",
       "      <td>0.933013</td>\n",
       "      <td>0.933029</td>\n",
       "      <td>0.160279</td>\n",
       "      <td>0.110878</td>\n",
       "      <td>0.0</td>\n",
       "    </tr>\n",
       "    <tr>\n",
       "      <th>9514</th>\n",
       "      <td>0.000000</td>\n",
       "      <td>0.000000</td>\n",
       "      <td>0.000000</td>\n",
       "      <td>0.000000</td>\n",
       "      <td>0.063432</td>\n",
       "      <td>0.244</td>\n",
       "      <td>0.339339</td>\n",
       "      <td>0.370590</td>\n",
       "      <td>0.982963</td>\n",
       "      <td>0.933013</td>\n",
       "      <td>0.991201</td>\n",
       "      <td>0.187379</td>\n",
       "      <td>0.133135</td>\n",
       "      <td>0.0</td>\n",
       "    </tr>\n",
       "  </tbody>\n",
       "</table>\n",
       "<p>9515 rows × 14 columns</p>\n",
       "</div>"
      ],
      "text/plain": [
       "      minmaxscaler__diffuse_rad:W  minmaxscaler__direct_rad:W  \\\n",
       "0                        0.781999                    0.571465   \n",
       "1                        0.000000                    0.000000   \n",
       "2                        0.000000                    0.000000   \n",
       "3                        0.000000                    0.000000   \n",
       "4                        0.000000                    0.000000   \n",
       "...                           ...                         ...   \n",
       "9510                     0.000000                    0.000000   \n",
       "9511                     0.000000                    0.000000   \n",
       "9512                     0.000000                    0.000000   \n",
       "9513                     0.000000                    0.000000   \n",
       "9514                     0.000000                    0.000000   \n",
       "\n",
       "      minmaxscaler__global_rad:W  minmaxscaler__global_rad_1h:Wh  \\\n",
       "0                       0.746423                        0.782939   \n",
       "1                       0.000000                        0.708139   \n",
       "2                       0.000000                        0.000000   \n",
       "3                       0.000000                        0.000000   \n",
       "4                       0.000000                        0.000000   \n",
       "...                          ...                             ...   \n",
       "9510                    0.000000                        0.000000   \n",
       "9511                    0.000000                        0.000000   \n",
       "9512                    0.000000                        0.000000   \n",
       "9513                    0.000000                        0.000000   \n",
       "9514                    0.000000                        0.000000   \n",
       "\n",
       "      minmaxscaler__sun_elevation:d  minmaxscaler__medium_cloud_cover:p  \\\n",
       "0                          0.513809                               0.567   \n",
       "1                          0.480791                               0.615   \n",
       "2                          0.435200                               0.923   \n",
       "3                          0.379682                               0.975   \n",
       "4                          0.317121                               0.986   \n",
       "...                             ...                                 ...   \n",
       "9510                       0.248420                               0.041   \n",
       "9511                       0.184787                               0.018   \n",
       "9512                       0.129159                               0.249   \n",
       "9513                       0.086904                               0.216   \n",
       "9514                       0.063432                               0.244   \n",
       "\n",
       "      minmaxscaler__dew_point_50m:C  minmaxscaler__hour_sine  \\\n",
       "0                          0.528529                 0.370590   \n",
       "1                          0.534535                 0.250000   \n",
       "2                          0.528529                 0.146447   \n",
       "3                          0.549550                 0.066987   \n",
       "4                          0.603604                 0.017037   \n",
       "...                             ...                      ...   \n",
       "9510                       0.363363                 0.017037   \n",
       "9511                       0.360360                 0.066987   \n",
       "9512                       0.351351                 0.146447   \n",
       "9513                       0.345345                 0.250000   \n",
       "9514                       0.339339                 0.370590   \n",
       "\n",
       "      minmaxscaler__hour_cosine  minmaxscaler__month_cosine  \\\n",
       "0                      0.017037                    0.933013   \n",
       "1                      0.066987                    0.933013   \n",
       "2                      0.146447                    0.933013   \n",
       "3                      0.250000                    0.933013   \n",
       "4                      0.370590                    0.933013   \n",
       "...                         ...                         ...   \n",
       "9510                   0.629410                    0.933013   \n",
       "9511                   0.750000                    0.933013   \n",
       "9512                   0.853553                    0.933013   \n",
       "9513                   0.933013                    0.933013   \n",
       "9514                   0.982963                    0.933013   \n",
       "\n",
       "      minmaxscaler__cos_sun_azimuth:d  minmaxscaler__sin_wind_dir_50m:d  \\\n",
       "0                            0.038568                          0.042169   \n",
       "1                            0.095955                          0.023669   \n",
       "2                            0.173244                          0.019129   \n",
       "3                            0.265584                          0.017952   \n",
       "4                            0.369241                          0.031664   \n",
       "...                               ...                               ...   \n",
       "9510                         0.600413                          0.110331   \n",
       "9511                         0.720968                          0.147064   \n",
       "9512                         0.836329                          0.149545   \n",
       "9513                         0.933029                          0.160279   \n",
       "9514                         0.991201                          0.187379   \n",
       "\n",
       "      minmaxscaler__sin_wind_dir_100m:d  pv_production  \n",
       "0                              0.038731            0.0  \n",
       "1                              0.024203            0.0  \n",
       "2                              0.019853            0.0  \n",
       "3                              0.018891            0.0  \n",
       "4                              0.031056            0.0  \n",
       "...                                 ...            ...  \n",
       "9510                           0.074594            0.0  \n",
       "9511                           0.107072            0.0  \n",
       "9512                           0.107612            0.0  \n",
       "9513                           0.110878            0.0  \n",
       "9514                           0.133135            0.0  \n",
       "\n",
       "[9515 rows x 14 columns]"
      ]
     },
     "execution_count": 62,
     "metadata": {},
     "output_type": "execute_result"
    }
   ],
   "source": [
    "df"
   ]
  },
  {
   "cell_type": "markdown",
   "id": "6e7914fd-5111-463d-9e90-6835b12875f6",
   "metadata": {
    "id": "6e7914fd-5111-463d-9e90-6835b12875f6"
   },
   "source": [
    "## Prepare the dataset"
   ]
  },
  {
   "cell_type": "markdown",
   "id": "52b5e3fe-a526-49e5-8932-7901292605f2",
   "metadata": {
    "id": "52b5e3fe-a526-49e5-8932-7901292605f2",
    "jp-MarkdownHeadingCollapsed": true
   },
   "source": [
    "### Folds"
   ]
  },
  {
   "cell_type": "code",
   "execution_count": 308,
   "id": "1772f405-114e-44e7-83c5-f8368602a5fb",
   "metadata": {
    "id": "1772f405-114e-44e7-83c5-f8368602a5fb"
   },
   "outputs": [],
   "source": [
    "# --------------------------------------------------- #\n",
    "# Let's consider FOLDS with a length of 4 months      #\n",
    "# (3 years will be used for train, 1 for test!)       #\n",
    "# --------------------------------------------------- #\n",
    "\n",
    "FOLD_LENGTH = 24 * 7 * 16                             # 24 times a day * for 7 days * for 16 weeks\n",
    "\n",
    "\n",
    "# --------------------------------------------------- #\n",
    "# Let's consider FOLDS starting every 2 weeks         #\n",
    "# --------------------------------------------------- #\n",
    "\n",
    "FOLD_STRIDE = 24 * 7 * 2                              # 24 times a day for 2 weeks\n",
    "\n",
    "\n",
    "# --------------------------------------------------- #\n",
    "# Let's consider a train-test-split ratio of 2/3      #\n",
    "# --------------------------------------------------- #\n",
    "\n",
    "TRAIN_VAL_RATIO = 0.75                               # 3 month train, 1 month test"
   ]
  },
  {
   "cell_type": "code",
   "execution_count": null,
   "id": "b84ad4cb-b9b2-413c-9ab4-d1e5ba0b9444",
   "metadata": {
    "id": "b84ad4cb-b9b2-413c-9ab4-d1e5ba0b9444"
   },
   "outputs": [],
   "source": [
    "def get_folds(\n",
    "    df: pd.DataFrame,\n",
    "    fold_length: int,\n",
    "    fold_stride: int) -> List[pd.DataFrame]:\n",
    "    '''\n",
    "    This function slides through the Time Series dataframe of shape (n_timesteps, n_features) to create folds\n",
    "    - of equal `fold_length`\n",
    "    - using `fold_stride` between each fold\n",
    "\n",
    "    Returns a list of folds, each as a DataFrame\n",
    "    '''\n",
    "    # YOUR CODE HERE\n",
    "    folds = []\n",
    "    for idx in range(0, len(df)-fold_length, fold_stride): # --> also possible to get rid of the break\n",
    "    #for idx in range(0, len(df), fold_stride):   # range(start, stop, step): for each idx in our rows at every 91 days\n",
    "        # Exits the loop as soon as the last fold index would exceed the last index\n",
    "        #if (idx + fold_length) > len(df):\n",
    "            #break\n",
    "        fold = df.iloc[idx:idx + fold_length, :]  # select from row idx til last row of the fold (3 years), all the columns\n",
    "        folds.append(fold)   # append the 3 year fold to folds\n",
    "    return folds"
   ]
  },
  {
   "cell_type": "markdown",
   "id": "4d96050d-8e2c-4842-a78d-77cc1bf047ec",
   "metadata": {
    "id": "4d96050d-8e2c-4842-a78d-77cc1bf047ec",
    "jp-MarkdownHeadingCollapsed": true
   },
   "source": [
    "### Train-Val split"
   ]
  },
  {
   "cell_type": "code",
   "execution_count": null,
   "id": "c265d4f0-5553-4cd2-887b-f6b2a98513cf",
   "metadata": {
    "id": "c265d4f0-5553-4cd2-887b-f6b2a98513cf"
   },
   "outputs": [],
   "source": [
    "def train_val_split(fold:pd.DataFrame,\n",
    "                     train_val_ratio: float,\n",
    "                     input_length: int) -> Tuple[pd.DataFrame]:\n",
    "    '''\n",
    "    Returns a train dataframe and a test dataframe (fold_train, fold_test)\n",
    "    from which one can sample (X,y) sequences.\n",
    "    df_train should contain all the timesteps until round(train_test_ratio * len(fold))\n",
    "    '''\n",
    "    # YOUR CODE HERE\n",
    "    # TRAIN SET\n",
    "    # ======================\n",
    "    last_train_idx = round(train_val_ratio * len(fold))  # 0.66 * number of rows in the fold (66% of the fold for train)\n",
    "    fold_train = fold.iloc[0:last_train_idx, :]   # 1st until last row of train set, all columns\n",
    "\n",
    "    # TEST SET\n",
    "    # ======================\n",
    "    first_val_idx = last_train_idx - input_length  # last row of train set - 2 weeks --> test set starts 2 weeks\n",
    "                                                                    # before train set ends --> overlap (not a problem with X)\n",
    "    fold_val = fold.iloc[first_val_idx:, :]   # 1st until last row of val set, all columns\n",
    "\n",
    "    return (fold_train, fold_val)"
   ]
  },
  {
   "cell_type": "code",
   "execution_count": null,
   "id": "9b88a296-68ae-440e-beb5-eb02e7ee0cc2",
   "metadata": {
    "id": "9b88a296-68ae-440e-beb5-eb02e7ee0cc2"
   },
   "outputs": [],
   "source": [
    "(fold_train, fold_val) = train_val_split(folds[0], TRAIN_VAL_RATIO, INPUT_LENGTH)"
   ]
  },
  {
   "cell_type": "code",
   "execution_count": null,
   "id": "52f960ec-8a62-4add-9378-4e23cba0a58e",
   "metadata": {
    "id": "52f960ec-8a62-4add-9378-4e23cba0a58e"
   },
   "outputs": [],
   "source": [
    "#Five days as input & output length\n",
    "INPUT_LENGTH = 24 * 5 # records every hour x 24 hours\n",
    "                      # for 5 days\n",
    "OUTPUT_LENGTH = 12"
   ]
  },
  {
   "cell_type": "markdown",
   "id": "a9348eb1-0d90-4161-9a6d-a3f4950b4e82",
   "metadata": {
    "id": "a9348eb1-0d90-4161-9a6d-a3f4950b4e82"
   },
   "source": [
    "## Model"
   ]
  },
  {
   "cell_type": "markdown",
   "id": "305ae143-e1cd-4f54-b023-fda650d798a5",
   "metadata": {
    "id": "305ae143-e1cd-4f54-b023-fda650d798a5"
   },
   "source": [
    "### Prepare dataset for model training"
   ]
  },
  {
   "cell_type": "markdown",
   "id": "747d3239-fb39-4b38-b45d-343e6efcfc56",
   "metadata": {
    "id": "747d3239-fb39-4b38-b45d-343e6efcfc56"
   },
   "source": [
    "#### Train-Val split"
   ]
  },
  {
   "cell_type": "code",
   "execution_count": 63,
   "id": "21e83985-0188-4fca-a6d2-df476dd9215f",
   "metadata": {
    "executionInfo": {
     "elapsed": 197,
     "status": "ok",
     "timestamp": 1732804131605,
     "user": {
      "displayName": "Carl Bechtolsheim",
      "userId": "09155195766587467337"
     },
     "user_tz": -60
    },
    "id": "21e83985-0188-4fca-a6d2-df476dd9215f"
   },
   "outputs": [],
   "source": [
    "def train_val_split(df:pd.DataFrame,\n",
    "                     train_val_ratio: float,\n",
    "                     input_length: int) -> Tuple[pd.DataFrame]:\n",
    "    '''\n",
    "    Returns a train dataframe and a test dataframe (fold_train, fold_test)\n",
    "    from which one can sample (X,y) sequences.\n",
    "    df_train should contain all the timesteps until round(train_test_ratio * len(fold))\n",
    "    '''\n",
    "    # YOUR CODE HERE\n",
    "    # TRAIN SET\n",
    "    # ======================\n",
    "    last_train_idx = round(train_val_ratio * len(df))  # 0.66 * number of rows in the fold (66% of the fold for train)\n",
    "    fold_train = df.iloc[0:last_train_idx, :]   # 1st until last row of train set, all columns\n",
    "\n",
    "    # TEST SET\n",
    "    # ======================\n",
    "    first_val_idx = last_train_idx - input_length  # last row of train set - 2 weeks --> test set starts 2 weeks\n",
    "                                                                    # before train set ends --> overlap (not a problem with X)\n",
    "    fold_val = df.iloc[first_val_idx:, :]   # 1st until last row of val set, all columns\n",
    "\n",
    "    return (fold_train, fold_val)"
   ]
  },
  {
   "cell_type": "markdown",
   "id": "dec6c136-7156-412b-90d3-6219c30d4e98",
   "metadata": {
    "id": "dec6c136-7156-412b-90d3-6219c30d4e98"
   },
   "source": [
    "#### Sequences"
   ]
  },
  {
   "cell_type": "code",
   "execution_count": 87,
   "id": "45a92f3c-ec28-4484-a67e-6d17327daea4",
   "metadata": {
    "executionInfo": {
     "elapsed": 229,
     "status": "ok",
     "timestamp": 1732804135455,
     "user": {
      "displayName": "Carl Bechtolsheim",
      "userId": "09155195766587467337"
     },
     "user_tz": -60
    },
    "id": "45a92f3c-ec28-4484-a67e-6d17327daea4"
   },
   "outputs": [],
   "source": [
    "def get_Xi_yi(\n",
    "    df:pd.DataFrame,\n",
    "    input_length:int,  # 120\n",
    "    output_length:int,\n",
    "    target: str\n",
    "):  # 120\n",
    "    '''\n",
    "    - given a fold, it returns one sequence (X_i, y_i)\n",
    "    - with the starting point of the sequence being chosen at random\n",
    "    '''\n",
    "    # YOUR CODE\n",
    "    first_possible_start = 0                                    # the +1 accounts for the index, that is exclusive.\n",
    "    last_possible_start = len(df) - (input_length + output_length) + 1    # It can start as long as there are still\n",
    "                                                                             # 120 + 12 days after the 1st day.\n",
    "    random_start = np.random.randint(first_possible_start, last_possible_start)  # np.random to pick a day inside\n",
    "                                                                                    # the possible interval.\n",
    "    X_i = df.iloc[random_start:random_start+input_length]\n",
    "\n",
    "    y_i = df.iloc[random_start+input_length:\n",
    "                  random_start+input_length+output_length][target]  # creates a pd.DataFrame for the target y\n",
    "\n",
    "    return (X_i, y_i)"
   ]
  },
  {
   "cell_type": "code",
   "execution_count": 88,
   "id": "f08de9b8-bd38-407b-80f9-cbc75a368548",
   "metadata": {
    "executionInfo": {
     "elapsed": 304,
     "status": "ok",
     "timestamp": 1732804139213,
     "user": {
      "displayName": "Carl Bechtolsheim",
      "userId": "09155195766587467337"
     },
     "user_tz": -60
    },
    "id": "f08de9b8-bd38-407b-80f9-cbc75a368548"
   },
   "outputs": [],
   "source": [
    "def get_X_y(\n",
    "    df:pd.DataFrame,\n",
    "    number_of_sequences:int,\n",
    "    input_length:int,\n",
    "    output_length:int,\n",
    "    target: str\n",
    "):\n",
    "    # YOUR CODE HERE\n",
    "    X, y = [], []  # lists for the sequences for X and y\n",
    "\n",
    "    for i in range(number_of_sequences):\n",
    "        (Xi, yi) = get_Xi_yi(df, input_length, output_length, target)   # calls the previous function to generate sequences X + y\n",
    "        X.append(Xi)\n",
    "        y.append(yi)\n",
    "\n",
    "    return np.array(X), np.array(y)"
   ]
  },
  {
   "cell_type": "code",
   "execution_count": 66,
   "id": "c51f6be7-5cb0-457f-96da-b4ed6f911588",
   "metadata": {
    "executionInfo": {
     "elapsed": 208,
     "status": "ok",
     "timestamp": 1732804134213,
     "user": {
      "displayName": "Carl Bechtolsheim",
      "userId": "09155195766587467337"
     },
     "user_tz": -60
    },
    "id": "c51f6be7-5cb0-457f-96da-b4ed6f911588"
   },
   "outputs": [],
   "source": [
    "#Five days as input & output length\n",
    "INPUT_LENGTH = 24 * 5 # records every hour x 24 hours\n",
    "                      # for 5 days\n",
    "OUTPUT_LENGTH = 12\n",
    "\n",
    "NUMBER_OF_SEQUENCES_TRAIN = int(len(df) * 0.9)\n",
    "NUMBER_OF_SEQUENCES_VAL = int(len(df) * 0.1)"
   ]
  },
  {
   "cell_type": "code",
   "execution_count": 67,
   "id": "c7846297-b8c9-43ea-9bf4-99265cd5efc5",
   "metadata": {
    "executionInfo": {
     "elapsed": 229,
     "status": "ok",
     "timestamp": 1732804137737,
     "user": {
      "displayName": "Carl Bechtolsheim",
      "userId": "09155195766587467337"
     },
     "user_tz": -60
    },
    "id": "c7846297-b8c9-43ea-9bf4-99265cd5efc5"
   },
   "outputs": [],
   "source": [
    "TRAIN_VAL_RATIO = 0.9\n",
    "df_train, df_val = train_val_split(df, TRAIN_VAL_RATIO, INPUT_LENGTH)\n",
    "\n"
   ]
  },
  {
   "cell_type": "code",
   "execution_count": 90,
   "id": "0315ca7f-5919-42f7-9620-46195607d9f4",
   "metadata": {
    "executionInfo": {
     "elapsed": 7500,
     "status": "ok",
     "timestamp": 1732804148356,
     "user": {
      "displayName": "Carl Bechtolsheim",
      "userId": "09155195766587467337"
     },
     "user_tz": -60
    },
    "id": "0315ca7f-5919-42f7-9620-46195607d9f4"
   },
   "outputs": [],
   "source": [
    "X_train, y_train = get_X_y(df_train, NUMBER_OF_SEQUENCES_TRAIN, INPUT_LENGTH, OUTPUT_LENGTH, TARGET)\n",
    "X_val, y_val = get_X_y(df_val, NUMBER_OF_SEQUENCES_VAL, INPUT_LENGTH, OUTPUT_LENGTH, TARGET)\n",
    "\n",
    "\n",
    "#Dropping the targets from the X (we dont want to train the model on the targets)\n",
    "X_train = X_train[:, :, :-1]\n",
    "X_val = X_val[:, :, :-1]"
   ]
  },
  {
   "cell_type": "code",
   "execution_count": 94,
   "id": "e876e6bb-c05b-4622-ae4f-e07ece351126",
   "metadata": {},
   "outputs": [
    {
     "data": {
      "text/plain": [
       "(8563, 120, 14)"
      ]
     },
     "execution_count": 94,
     "metadata": {},
     "output_type": "execute_result"
    }
   ],
   "source": [
    "X_train.shape"
   ]
  },
  {
   "cell_type": "markdown",
   "id": "fb38466f-66f8-44cb-a2a1-7a31502274ab",
   "metadata": {
    "id": "fb38466f-66f8-44cb-a2a1-7a31502274ab"
   },
   "source": [
    "##### Show data"
   ]
  },
  {
   "cell_type": "code",
   "execution_count": 91,
   "id": "623effa8-7791-469b-b7bb-b1122da7931f",
   "metadata": {
    "colab": {
     "base_uri": "https://localhost:8080/"
    },
    "executionInfo": {
     "elapsed": 216,
     "status": "ok",
     "timestamp": 1732804149788,
     "user": {
      "displayName": "Carl Bechtolsheim",
      "userId": "09155195766587467337"
     },
     "user_tz": -60
    },
    "id": "623effa8-7791-469b-b7bb-b1122da7931f",
    "outputId": "5ad24bea-82a5-4f42-96e9-e5407e47ca34"
   },
   "outputs": [
    {
     "data": {
      "text/plain": [
       "(8564, 14)"
      ]
     },
     "execution_count": 91,
     "metadata": {},
     "output_type": "execute_result"
    }
   ],
   "source": [
    "#Training set (splits the whole dataset into training and val set)\n",
    "df_train.shape"
   ]
  },
  {
   "cell_type": "code",
   "execution_count": 70,
   "id": "f73d8568-4871-43d0-ba4e-2f7e88ba6220",
   "metadata": {
    "colab": {
     "base_uri": "https://localhost:8080/"
    },
    "executionInfo": {
     "elapsed": 204,
     "status": "ok",
     "timestamp": 1732804152073,
     "user": {
      "displayName": "Carl Bechtolsheim",
      "userId": "09155195766587467337"
     },
     "user_tz": -60
    },
    "id": "f73d8568-4871-43d0-ba4e-2f7e88ba6220",
    "outputId": "2634aa90-15d2-4b01-ecff-f81be7e56377"
   },
   "outputs": [
    {
     "data": {
      "text/plain": [
       "(1071, 14)"
      ]
     },
     "execution_count": 70,
     "metadata": {},
     "output_type": "execute_result"
    }
   ],
   "source": [
    "#Validation set\n",
    "df_val.shape"
   ]
  },
  {
   "cell_type": "code",
   "execution_count": 71,
   "id": "4c910972-e5a6-4c3f-8e3c-a22e6914e976",
   "metadata": {
    "colab": {
     "base_uri": "https://localhost:8080/"
    },
    "executionInfo": {
     "elapsed": 214,
     "status": "ok",
     "timestamp": 1732804153291,
     "user": {
      "displayName": "Carl Bechtolsheim",
      "userId": "09155195766587467337"
     },
     "user_tz": -60
    },
    "id": "4c910972-e5a6-4c3f-8e3c-a22e6914e976",
    "outputId": "8beb9825-bd4b-4e1d-87d3-09300751839e"
   },
   "outputs": [
    {
     "data": {
      "text/plain": [
       "(8563, 120, 13)"
      ]
     },
     "execution_count": 71,
     "metadata": {},
     "output_type": "execute_result"
    }
   ],
   "source": [
    "#Sequences of features of df_train (Splits the training set into smaller sequences with each shape of (120, 53))\n",
    "# Train model on these features -> 53 features with 120 past hours\n",
    "X_train.shape"
   ]
  },
  {
   "cell_type": "code",
   "execution_count": 72,
   "id": "194d2870-1e62-4944-b62a-39a12d4b65bd",
   "metadata": {},
   "outputs": [],
   "source": [
    "y_train = np.expand_dims(y_train, axis=-1)"
   ]
  },
  {
   "cell_type": "code",
   "execution_count": 73,
   "id": "13c878a2-b7fa-416a-b2cb-34278e34f4af",
   "metadata": {
    "colab": {
     "base_uri": "https://localhost:8080/"
    },
    "executionInfo": {
     "elapsed": 2,
     "status": "ok",
     "timestamp": 1732804153894,
     "user": {
      "displayName": "Carl Bechtolsheim",
      "userId": "09155195766587467337"
     },
     "user_tz": -60
    },
    "id": "13c878a2-b7fa-416a-b2cb-34278e34f4af",
    "outputId": "cdfb92ff-08d9-439b-bdc8-d492fab30dcd"
   },
   "outputs": [
    {
     "data": {
      "text/plain": [
       "(8563, 12, 1)"
      ]
     },
     "execution_count": 73,
     "metadata": {},
     "output_type": "execute_result"
    }
   ],
   "source": [
    "#Sequences of corresponding targets of df_train (Splits the training set into smaller sequences with each shape of (120, 3))\n",
    "# Train model on these targets -> 3 targets with 12 next hours\n",
    "y_train.shape"
   ]
  },
  {
   "cell_type": "code",
   "execution_count": 74,
   "id": "e279d03b-c9bc-41a6-8a61-b284876d728d",
   "metadata": {
    "colab": {
     "base_uri": "https://localhost:8080/"
    },
    "executionInfo": {
     "elapsed": 204,
     "status": "ok",
     "timestamp": 1732804155213,
     "user": {
      "displayName": "Carl Bechtolsheim",
      "userId": "09155195766587467337"
     },
     "user_tz": -60
    },
    "id": "e279d03b-c9bc-41a6-8a61-b284876d728d",
    "outputId": "8f393ee9-7779-47b7-85a5-9f6847bf23be"
   },
   "outputs": [
    {
     "data": {
      "text/plain": [
       "(951, 120, 13)"
      ]
     },
     "execution_count": 74,
     "metadata": {},
     "output_type": "execute_result"
    }
   ],
   "source": [
    "#Sequences of features of df_val (Splits the val set into 750 sequences with each shape of (120, 53))\n",
    "X_val.shape"
   ]
  },
  {
   "cell_type": "code",
   "execution_count": 75,
   "id": "76473506-7b40-4192-b545-ffaef1b1f317",
   "metadata": {},
   "outputs": [],
   "source": [
    "y_val = np.expand_dims(y_val, axis=-1)"
   ]
  },
  {
   "cell_type": "code",
   "execution_count": 76,
   "id": "043cd715-e7fa-41d6-a298-c38b4bd14f77",
   "metadata": {
    "colab": {
     "base_uri": "https://localhost:8080/"
    },
    "executionInfo": {
     "elapsed": 204,
     "status": "ok",
     "timestamp": 1732804155989,
     "user": {
      "displayName": "Carl Bechtolsheim",
      "userId": "09155195766587467337"
     },
     "user_tz": -60
    },
    "id": "043cd715-e7fa-41d6-a298-c38b4bd14f77",
    "outputId": "f447b183-c5f2-4d02-b303-3cdbc9afc1d1"
   },
   "outputs": [
    {
     "data": {
      "text/plain": [
       "(951, 12, 1)"
      ]
     },
     "execution_count": 76,
     "metadata": {},
     "output_type": "execute_result"
    }
   ],
   "source": [
    "#Sequences of corresponding targets of df_val (Splits the val set into 750 sequences with each shape of (120, 3))\n",
    "y_val.shape"
   ]
  },
  {
   "cell_type": "code",
   "execution_count": 77,
   "id": "4f9e952b-49e2-42f5-9158-7f644e5c978a",
   "metadata": {},
   "outputs": [
    {
     "data": {
      "text/plain": [
       "(120, 13)"
      ]
     },
     "execution_count": 77,
     "metadata": {},
     "output_type": "execute_result"
    }
   ],
   "source": [
    "X_train.shape[1:]"
   ]
  },
  {
   "cell_type": "markdown",
   "id": "65b7f0e0-6fde-48ba-bbcd-8bebcfb18a97",
   "metadata": {
    "id": "65b7f0e0-6fde-48ba-bbcd-8bebcfb18a97",
    "jp-MarkdownHeadingCollapsed": true
   },
   "source": [
    "##### How do the dfs look like?"
   ]
  },
  {
   "cell_type": "code",
   "execution_count": 44,
   "id": "a5f14745-32d0-4bf0-afbb-d20a7884cdf5",
   "metadata": {
    "id": "a5f14745-32d0-4bf0-afbb-d20a7884cdf5",
    "outputId": "a742ec96-9001-4523-8c84-5ed324d9ccdf",
    "scrolled": true
   },
   "outputs": [
    {
     "data": {
      "text/html": [
       "<div>\n",
       "<style scoped>\n",
       "    .dataframe tbody tr th:only-of-type {\n",
       "        vertical-align: middle;\n",
       "    }\n",
       "\n",
       "    .dataframe tbody tr th {\n",
       "        vertical-align: top;\n",
       "    }\n",
       "\n",
       "    .dataframe thead th {\n",
       "        text-align: right;\n",
       "    }\n",
       "</style>\n",
       "<table border=\"1\" class=\"dataframe\">\n",
       "  <thead>\n",
       "    <tr style=\"text-align: right;\">\n",
       "      <th></th>\n",
       "      <th>onehotencoder__precip_type:idx_0.0</th>\n",
       "      <th>onehotencoder__precip_type:idx_1.0</th>\n",
       "      <th>onehotencoder__precip_type:idx_2.0</th>\n",
       "      <th>onehotencoder__precip_type:idx_3.0</th>\n",
       "      <th>minmaxscaler__precip_1h:mm</th>\n",
       "      <th>minmaxscaler__prob_precip_1h:p</th>\n",
       "      <th>minmaxscaler__clear_sky_rad:W</th>\n",
       "      <th>minmaxscaler__clear_sky_energy_1h:J</th>\n",
       "      <th>minmaxscaler__diffuse_rad:W</th>\n",
       "      <th>minmaxscaler__diffuse_rad_1h:Wh</th>\n",
       "      <th>...</th>\n",
       "      <th>minmaxscaler__cos_sun_azimuth:d</th>\n",
       "      <th>minmaxscaler__sin_wind_dir_2m:d</th>\n",
       "      <th>minmaxscaler__cos_wind_dir_2m:d</th>\n",
       "      <th>minmaxscaler__sin_wind_dir_10m:d</th>\n",
       "      <th>minmaxscaler__cos_wind_dir_10m:d</th>\n",
       "      <th>minmaxscaler__sin_wind_dir_50m:d</th>\n",
       "      <th>minmaxscaler__cos_wind_dir_50m:d</th>\n",
       "      <th>minmaxscaler__sin_wind_dir_100m:d</th>\n",
       "      <th>minmaxscaler__cos_wind_dir_100m:d</th>\n",
       "      <th>pv_production</th>\n",
       "    </tr>\n",
       "  </thead>\n",
       "  <tbody>\n",
       "    <tr>\n",
       "      <th>0</th>\n",
       "      <td>1.0</td>\n",
       "      <td>0.0</td>\n",
       "      <td>0</td>\n",
       "      <td>0.0</td>\n",
       "      <td>0.0</td>\n",
       "      <td>0.0</td>\n",
       "      <td>0.757424</td>\n",
       "      <td>0.854846</td>\n",
       "      <td>0.781999</td>\n",
       "      <td>0.815432</td>\n",
       "      <td>...</td>\n",
       "      <td>0.038568</td>\n",
       "      <td>0.045382</td>\n",
       "      <td>0.291860</td>\n",
       "      <td>0.045382</td>\n",
       "      <td>0.291860</td>\n",
       "      <td>0.042169</td>\n",
       "      <td>0.299026</td>\n",
       "      <td>0.038731</td>\n",
       "      <td>0.307049</td>\n",
       "      <td>0.0</td>\n",
       "    </tr>\n",
       "    <tr>\n",
       "      <th>1</th>\n",
       "      <td>1.0</td>\n",
       "      <td>0.0</td>\n",
       "      <td>0</td>\n",
       "      <td>0.0</td>\n",
       "      <td>0.0</td>\n",
       "      <td>0.0</td>\n",
       "      <td>0.000000</td>\n",
       "      <td>0.779972</td>\n",
       "      <td>0.000000</td>\n",
       "      <td>0.742604</td>\n",
       "      <td>...</td>\n",
       "      <td>0.095955</td>\n",
       "      <td>0.023405</td>\n",
       "      <td>0.348815</td>\n",
       "      <td>0.023405</td>\n",
       "      <td>0.348815</td>\n",
       "      <td>0.023669</td>\n",
       "      <td>0.347984</td>\n",
       "      <td>0.024203</td>\n",
       "      <td>0.346324</td>\n",
       "      <td>0.0</td>\n",
       "    </tr>\n",
       "    <tr>\n",
       "      <th>2</th>\n",
       "      <td>1.0</td>\n",
       "      <td>0.0</td>\n",
       "      <td>0</td>\n",
       "      <td>0.0</td>\n",
       "      <td>0.0</td>\n",
       "      <td>0.0</td>\n",
       "      <td>0.000000</td>\n",
       "      <td>0.000000</td>\n",
       "      <td>0.000000</td>\n",
       "      <td>0.000000</td>\n",
       "      <td>...</td>\n",
       "      <td>0.173244</td>\n",
       "      <td>0.018654</td>\n",
       "      <td>0.364700</td>\n",
       "      <td>0.018654</td>\n",
       "      <td>0.364700</td>\n",
       "      <td>0.019129</td>\n",
       "      <td>0.363021</td>\n",
       "      <td>0.019853</td>\n",
       "      <td>0.360507</td>\n",
       "      <td>0.0</td>\n",
       "    </tr>\n",
       "    <tr>\n",
       "      <th>3</th>\n",
       "      <td>1.0</td>\n",
       "      <td>0.0</td>\n",
       "      <td>0</td>\n",
       "      <td>0.0</td>\n",
       "      <td>0.0</td>\n",
       "      <td>0.0</td>\n",
       "      <td>0.000000</td>\n",
       "      <td>0.000000</td>\n",
       "      <td>0.000000</td>\n",
       "      <td>0.000000</td>\n",
       "      <td>...</td>\n",
       "      <td>0.265584</td>\n",
       "      <td>0.017037</td>\n",
       "      <td>0.370590</td>\n",
       "      <td>0.017037</td>\n",
       "      <td>0.370590</td>\n",
       "      <td>0.017952</td>\n",
       "      <td>0.367222</td>\n",
       "      <td>0.018891</td>\n",
       "      <td>0.363862</td>\n",
       "      <td>0.0</td>\n",
       "    </tr>\n",
       "    <tr>\n",
       "      <th>4</th>\n",
       "      <td>1.0</td>\n",
       "      <td>0.0</td>\n",
       "      <td>0</td>\n",
       "      <td>0.0</td>\n",
       "      <td>0.0</td>\n",
       "      <td>0.0</td>\n",
       "      <td>0.000000</td>\n",
       "      <td>0.000000</td>\n",
       "      <td>0.000000</td>\n",
       "      <td>0.000000</td>\n",
       "      <td>...</td>\n",
       "      <td>0.369241</td>\n",
       "      <td>0.031970</td>\n",
       "      <td>0.324079</td>\n",
       "      <td>0.031970</td>\n",
       "      <td>0.324079</td>\n",
       "      <td>0.031664</td>\n",
       "      <td>0.324897</td>\n",
       "      <td>0.031056</td>\n",
       "      <td>0.326534</td>\n",
       "      <td>0.0</td>\n",
       "    </tr>\n",
       "    <tr>\n",
       "      <th>...</th>\n",
       "      <td>...</td>\n",
       "      <td>...</td>\n",
       "      <td>...</td>\n",
       "      <td>...</td>\n",
       "      <td>...</td>\n",
       "      <td>...</td>\n",
       "      <td>...</td>\n",
       "      <td>...</td>\n",
       "      <td>...</td>\n",
       "      <td>...</td>\n",
       "      <td>...</td>\n",
       "      <td>...</td>\n",
       "      <td>...</td>\n",
       "      <td>...</td>\n",
       "      <td>...</td>\n",
       "      <td>...</td>\n",
       "      <td>...</td>\n",
       "      <td>...</td>\n",
       "      <td>...</td>\n",
       "      <td>...</td>\n",
       "      <td>...</td>\n",
       "    </tr>\n",
       "    <tr>\n",
       "      <th>8559</th>\n",
       "      <td>1.0</td>\n",
       "      <td>0.0</td>\n",
       "      <td>0</td>\n",
       "      <td>0.0</td>\n",
       "      <td>0.0</td>\n",
       "      <td>0.0</td>\n",
       "      <td>0.000000</td>\n",
       "      <td>0.000000</td>\n",
       "      <td>0.000000</td>\n",
       "      <td>0.000000</td>\n",
       "      <td>...</td>\n",
       "      <td>0.556187</td>\n",
       "      <td>0.063539</td>\n",
       "      <td>0.256070</td>\n",
       "      <td>0.063539</td>\n",
       "      <td>0.256070</td>\n",
       "      <td>0.046111</td>\n",
       "      <td>0.290274</td>\n",
       "      <td>0.027812</td>\n",
       "      <td>0.335569</td>\n",
       "      <td>0.0</td>\n",
       "    </tr>\n",
       "    <tr>\n",
       "      <th>8560</th>\n",
       "      <td>1.0</td>\n",
       "      <td>0.0</td>\n",
       "      <td>0</td>\n",
       "      <td>0.0</td>\n",
       "      <td>0.0</td>\n",
       "      <td>0.0</td>\n",
       "      <td>0.000000</td>\n",
       "      <td>0.000000</td>\n",
       "      <td>0.000000</td>\n",
       "      <td>0.000000</td>\n",
       "      <td>...</td>\n",
       "      <td>0.439065</td>\n",
       "      <td>0.039748</td>\n",
       "      <td>0.304634</td>\n",
       "      <td>0.039748</td>\n",
       "      <td>0.304634</td>\n",
       "      <td>0.029265</td>\n",
       "      <td>0.331453</td>\n",
       "      <td>0.018419</td>\n",
       "      <td>0.365543</td>\n",
       "      <td>0.0</td>\n",
       "    </tr>\n",
       "    <tr>\n",
       "      <th>8561</th>\n",
       "      <td>1.0</td>\n",
       "      <td>0.0</td>\n",
       "      <td>0</td>\n",
       "      <td>0.0</td>\n",
       "      <td>0.0</td>\n",
       "      <td>0.0</td>\n",
       "      <td>0.000000</td>\n",
       "      <td>0.000000</td>\n",
       "      <td>0.000000</td>\n",
       "      <td>0.000000</td>\n",
       "      <td>...</td>\n",
       "      <td>0.329718</td>\n",
       "      <td>0.023935</td>\n",
       "      <td>0.347152</td>\n",
       "      <td>0.023935</td>\n",
       "      <td>0.347152</td>\n",
       "      <td>0.013211</td>\n",
       "      <td>0.385825</td>\n",
       "      <td>0.004278</td>\n",
       "      <td>0.434740</td>\n",
       "      <td>0.0</td>\n",
       "    </tr>\n",
       "    <tr>\n",
       "      <th>8562</th>\n",
       "      <td>1.0</td>\n",
       "      <td>0.0</td>\n",
       "      <td>0</td>\n",
       "      <td>0.0</td>\n",
       "      <td>0.0</td>\n",
       "      <td>0.0</td>\n",
       "      <td>0.000000</td>\n",
       "      <td>0.000000</td>\n",
       "      <td>0.000000</td>\n",
       "      <td>0.000000</td>\n",
       "      <td>...</td>\n",
       "      <td>0.230074</td>\n",
       "      <td>0.010038</td>\n",
       "      <td>0.599684</td>\n",
       "      <td>0.010038</td>\n",
       "      <td>0.599684</td>\n",
       "      <td>0.014852</td>\n",
       "      <td>0.620961</td>\n",
       "      <td>0.022620</td>\n",
       "      <td>0.648692</td>\n",
       "      <td>0.0</td>\n",
       "    </tr>\n",
       "    <tr>\n",
       "      <th>8563</th>\n",
       "      <td>1.0</td>\n",
       "      <td>0.0</td>\n",
       "      <td>0</td>\n",
       "      <td>0.0</td>\n",
       "      <td>0.0</td>\n",
       "      <td>0.0</td>\n",
       "      <td>0.000000</td>\n",
       "      <td>0.000000</td>\n",
       "      <td>0.000000</td>\n",
       "      <td>0.000000</td>\n",
       "      <td>...</td>\n",
       "      <td>0.142958</td>\n",
       "      <td>0.003943</td>\n",
       "      <td>0.562667</td>\n",
       "      <td>0.003943</td>\n",
       "      <td>0.562667</td>\n",
       "      <td>0.007596</td>\n",
       "      <td>0.586825</td>\n",
       "      <td>0.013815</td>\n",
       "      <td>0.616727</td>\n",
       "      <td>0.0</td>\n",
       "    </tr>\n",
       "  </tbody>\n",
       "</table>\n",
       "<p>8564 rows × 54 columns</p>\n",
       "</div>"
      ],
      "text/plain": [
       "      onehotencoder__precip_type:idx_0.0  onehotencoder__precip_type:idx_1.0  \\\n",
       "0                                    1.0                                 0.0   \n",
       "1                                    1.0                                 0.0   \n",
       "2                                    1.0                                 0.0   \n",
       "3                                    1.0                                 0.0   \n",
       "4                                    1.0                                 0.0   \n",
       "...                                  ...                                 ...   \n",
       "8559                                 1.0                                 0.0   \n",
       "8560                                 1.0                                 0.0   \n",
       "8561                                 1.0                                 0.0   \n",
       "8562                                 1.0                                 0.0   \n",
       "8563                                 1.0                                 0.0   \n",
       "\n",
       "      onehotencoder__precip_type:idx_2.0  onehotencoder__precip_type:idx_3.0  \\\n",
       "0                                      0                                 0.0   \n",
       "1                                      0                                 0.0   \n",
       "2                                      0                                 0.0   \n",
       "3                                      0                                 0.0   \n",
       "4                                      0                                 0.0   \n",
       "...                                  ...                                 ...   \n",
       "8559                                   0                                 0.0   \n",
       "8560                                   0                                 0.0   \n",
       "8561                                   0                                 0.0   \n",
       "8562                                   0                                 0.0   \n",
       "8563                                   0                                 0.0   \n",
       "\n",
       "      minmaxscaler__precip_1h:mm  minmaxscaler__prob_precip_1h:p  \\\n",
       "0                            0.0                             0.0   \n",
       "1                            0.0                             0.0   \n",
       "2                            0.0                             0.0   \n",
       "3                            0.0                             0.0   \n",
       "4                            0.0                             0.0   \n",
       "...                          ...                             ...   \n",
       "8559                         0.0                             0.0   \n",
       "8560                         0.0                             0.0   \n",
       "8561                         0.0                             0.0   \n",
       "8562                         0.0                             0.0   \n",
       "8563                         0.0                             0.0   \n",
       "\n",
       "      minmaxscaler__clear_sky_rad:W  minmaxscaler__clear_sky_energy_1h:J  \\\n",
       "0                          0.757424                             0.854846   \n",
       "1                          0.000000                             0.779972   \n",
       "2                          0.000000                             0.000000   \n",
       "3                          0.000000                             0.000000   \n",
       "4                          0.000000                             0.000000   \n",
       "...                             ...                                  ...   \n",
       "8559                       0.000000                             0.000000   \n",
       "8560                       0.000000                             0.000000   \n",
       "8561                       0.000000                             0.000000   \n",
       "8562                       0.000000                             0.000000   \n",
       "8563                       0.000000                             0.000000   \n",
       "\n",
       "      minmaxscaler__diffuse_rad:W  minmaxscaler__diffuse_rad_1h:Wh  ...  \\\n",
       "0                        0.781999                         0.815432  ...   \n",
       "1                        0.000000                         0.742604  ...   \n",
       "2                        0.000000                         0.000000  ...   \n",
       "3                        0.000000                         0.000000  ...   \n",
       "4                        0.000000                         0.000000  ...   \n",
       "...                           ...                              ...  ...   \n",
       "8559                     0.000000                         0.000000  ...   \n",
       "8560                     0.000000                         0.000000  ...   \n",
       "8561                     0.000000                         0.000000  ...   \n",
       "8562                     0.000000                         0.000000  ...   \n",
       "8563                     0.000000                         0.000000  ...   \n",
       "\n",
       "      minmaxscaler__cos_sun_azimuth:d  minmaxscaler__sin_wind_dir_2m:d  \\\n",
       "0                            0.038568                         0.045382   \n",
       "1                            0.095955                         0.023405   \n",
       "2                            0.173244                         0.018654   \n",
       "3                            0.265584                         0.017037   \n",
       "4                            0.369241                         0.031970   \n",
       "...                               ...                              ...   \n",
       "8559                         0.556187                         0.063539   \n",
       "8560                         0.439065                         0.039748   \n",
       "8561                         0.329718                         0.023935   \n",
       "8562                         0.230074                         0.010038   \n",
       "8563                         0.142958                         0.003943   \n",
       "\n",
       "      minmaxscaler__cos_wind_dir_2m:d  minmaxscaler__sin_wind_dir_10m:d  \\\n",
       "0                            0.291860                          0.045382   \n",
       "1                            0.348815                          0.023405   \n",
       "2                            0.364700                          0.018654   \n",
       "3                            0.370590                          0.017037   \n",
       "4                            0.324079                          0.031970   \n",
       "...                               ...                               ...   \n",
       "8559                         0.256070                          0.063539   \n",
       "8560                         0.304634                          0.039748   \n",
       "8561                         0.347152                          0.023935   \n",
       "8562                         0.599684                          0.010038   \n",
       "8563                         0.562667                          0.003943   \n",
       "\n",
       "      minmaxscaler__cos_wind_dir_10m:d  minmaxscaler__sin_wind_dir_50m:d  \\\n",
       "0                             0.291860                          0.042169   \n",
       "1                             0.348815                          0.023669   \n",
       "2                             0.364700                          0.019129   \n",
       "3                             0.370590                          0.017952   \n",
       "4                             0.324079                          0.031664   \n",
       "...                                ...                               ...   \n",
       "8559                          0.256070                          0.046111   \n",
       "8560                          0.304634                          0.029265   \n",
       "8561                          0.347152                          0.013211   \n",
       "8562                          0.599684                          0.014852   \n",
       "8563                          0.562667                          0.007596   \n",
       "\n",
       "      minmaxscaler__cos_wind_dir_50m:d  minmaxscaler__sin_wind_dir_100m:d  \\\n",
       "0                             0.299026                           0.038731   \n",
       "1                             0.347984                           0.024203   \n",
       "2                             0.363021                           0.019853   \n",
       "3                             0.367222                           0.018891   \n",
       "4                             0.324897                           0.031056   \n",
       "...                                ...                                ...   \n",
       "8559                          0.290274                           0.027812   \n",
       "8560                          0.331453                           0.018419   \n",
       "8561                          0.385825                           0.004278   \n",
       "8562                          0.620961                           0.022620   \n",
       "8563                          0.586825                           0.013815   \n",
       "\n",
       "      minmaxscaler__cos_wind_dir_100m:d  pv_production  \n",
       "0                              0.307049            0.0  \n",
       "1                              0.346324            0.0  \n",
       "2                              0.360507            0.0  \n",
       "3                              0.363862            0.0  \n",
       "4                              0.326534            0.0  \n",
       "...                                 ...            ...  \n",
       "8559                           0.335569            0.0  \n",
       "8560                           0.365543            0.0  \n",
       "8561                           0.434740            0.0  \n",
       "8562                           0.648692            0.0  \n",
       "8563                           0.616727            0.0  \n",
       "\n",
       "[8564 rows x 54 columns]"
      ]
     },
     "execution_count": 44,
     "metadata": {},
     "output_type": "execute_result"
    }
   ],
   "source": [
    "df_train"
   ]
  },
  {
   "cell_type": "code",
   "execution_count": null,
   "id": "e3c05f8c-28f5-4951-9454-5f3a839c5ce9",
   "metadata": {
    "id": "e3c05f8c-28f5-4951-9454-5f3a839c5ce9",
    "outputId": "6cd1a49e-b49c-4f56-8b12-860ed9137294",
    "scrolled": true
   },
   "outputs": [
    {
     "data": {
      "text/html": [
       "<div>\n",
       "<style scoped>\n",
       "    .dataframe tbody tr th:only-of-type {\n",
       "        vertical-align: middle;\n",
       "    }\n",
       "\n",
       "    .dataframe tbody tr th {\n",
       "        vertical-align: top;\n",
       "    }\n",
       "\n",
       "    .dataframe thead th {\n",
       "        text-align: right;\n",
       "    }\n",
       "</style>\n",
       "<table border=\"1\" class=\"dataframe\">\n",
       "  <thead>\n",
       "    <tr style=\"text-align: right;\">\n",
       "      <th></th>\n",
       "      <th>minmaxscaler__hour_sine</th>\n",
       "      <th>minmaxscaler__hour_cosine</th>\n",
       "      <th>minmaxscaler__month_sine</th>\n",
       "      <th>minmaxscaler__month_cosine</th>\n",
       "      <th>minmaxscaler__season_sine</th>\n",
       "      <th>minmaxscaler__season_cosine</th>\n",
       "      <th>minmaxscaler__precip_1h:mm</th>\n",
       "      <th>minmaxscaler__prob_precip_1h:p</th>\n",
       "      <th>minmaxscaler__clear_sky_rad:W</th>\n",
       "      <th>minmaxscaler__clear_sky_energy_1h:J</th>\n",
       "      <th>...</th>\n",
       "      <th>robustscaler__wind_speed_10m:ms</th>\n",
       "      <th>robustscaler__wind_speed_50m:ms</th>\n",
       "      <th>robustscaler__wind_speed_100m:ms</th>\n",
       "      <th>onehotencoder__precip_type:idx_0.0</th>\n",
       "      <th>onehotencoder__precip_type:idx_1.0</th>\n",
       "      <th>onehotencoder__precip_type:idx_2.0</th>\n",
       "      <th>onehotencoder__precip_type:idx_3.0</th>\n",
       "      <th>pv_production</th>\n",
       "      <th>wind_production</th>\n",
       "      <th>consumption</th>\n",
       "    </tr>\n",
       "  </thead>\n",
       "  <tbody>\n",
       "    <tr>\n",
       "      <th>7016</th>\n",
       "      <td>0.146447</td>\n",
       "      <td>0.853553</td>\n",
       "      <td>0.066987</td>\n",
       "      <td>0.750000</td>\n",
       "      <td>0.0</td>\n",
       "      <td>0.5</td>\n",
       "      <td>0.0</td>\n",
       "      <td>0.0</td>\n",
       "      <td>0.0</td>\n",
       "      <td>0.0</td>\n",
       "      <td>...</td>\n",
       "      <td>-0.624904</td>\n",
       "      <td>-0.741295</td>\n",
       "      <td>-0.941294</td>\n",
       "      <td>1.0</td>\n",
       "      <td>0.0</td>\n",
       "      <td>0.0</td>\n",
       "      <td>0.0</td>\n",
       "      <td>0.0</td>\n",
       "      <td>9.84</td>\n",
       "      <td>27.835067</td>\n",
       "    </tr>\n",
       "    <tr>\n",
       "      <th>7017</th>\n",
       "      <td>0.250000</td>\n",
       "      <td>0.933013</td>\n",
       "      <td>0.066987</td>\n",
       "      <td>0.750000</td>\n",
       "      <td>0.0</td>\n",
       "      <td>0.5</td>\n",
       "      <td>0.0</td>\n",
       "      <td>0.0</td>\n",
       "      <td>0.0</td>\n",
       "      <td>0.0</td>\n",
       "      <td>...</td>\n",
       "      <td>-0.624904</td>\n",
       "      <td>-0.686177</td>\n",
       "      <td>-0.837521</td>\n",
       "      <td>1.0</td>\n",
       "      <td>0.0</td>\n",
       "      <td>0.0</td>\n",
       "      <td>0.0</td>\n",
       "      <td>0.0</td>\n",
       "      <td>12.59</td>\n",
       "      <td>19.498231</td>\n",
       "    </tr>\n",
       "    <tr>\n",
       "      <th>7018</th>\n",
       "      <td>0.370590</td>\n",
       "      <td>0.982963</td>\n",
       "      <td>0.066987</td>\n",
       "      <td>0.750000</td>\n",
       "      <td>0.0</td>\n",
       "      <td>0.5</td>\n",
       "      <td>0.0</td>\n",
       "      <td>0.0</td>\n",
       "      <td>0.0</td>\n",
       "      <td>0.0</td>\n",
       "      <td>...</td>\n",
       "      <td>-0.485613</td>\n",
       "      <td>-0.487358</td>\n",
       "      <td>-0.454837</td>\n",
       "      <td>1.0</td>\n",
       "      <td>0.0</td>\n",
       "      <td>0.0</td>\n",
       "      <td>0.0</td>\n",
       "      <td>0.0</td>\n",
       "      <td>22.86</td>\n",
       "      <td>16.549779</td>\n",
       "    </tr>\n",
       "    <tr>\n",
       "      <th>7019</th>\n",
       "      <td>0.500000</td>\n",
       "      <td>1.000000</td>\n",
       "      <td>0.066987</td>\n",
       "      <td>0.750000</td>\n",
       "      <td>0.0</td>\n",
       "      <td>0.5</td>\n",
       "      <td>0.0</td>\n",
       "      <td>0.0</td>\n",
       "      <td>0.0</td>\n",
       "      <td>0.0</td>\n",
       "      <td>...</td>\n",
       "      <td>-0.360275</td>\n",
       "      <td>-0.276690</td>\n",
       "      <td>-0.221841</td>\n",
       "      <td>1.0</td>\n",
       "      <td>0.0</td>\n",
       "      <td>0.0</td>\n",
       "      <td>0.0</td>\n",
       "      <td>0.0</td>\n",
       "      <td>6.29</td>\n",
       "      <td>20.053793</td>\n",
       "    </tr>\n",
       "    <tr>\n",
       "      <th>7020</th>\n",
       "      <td>0.629410</td>\n",
       "      <td>0.982963</td>\n",
       "      <td>0.066987</td>\n",
       "      <td>0.750000</td>\n",
       "      <td>0.0</td>\n",
       "      <td>0.5</td>\n",
       "      <td>0.0</td>\n",
       "      <td>0.0</td>\n",
       "      <td>0.0</td>\n",
       "      <td>0.0</td>\n",
       "      <td>...</td>\n",
       "      <td>-0.360275</td>\n",
       "      <td>-0.316057</td>\n",
       "      <td>-0.252573</td>\n",
       "      <td>1.0</td>\n",
       "      <td>0.0</td>\n",
       "      <td>0.0</td>\n",
       "      <td>0.0</td>\n",
       "      <td>0.0</td>\n",
       "      <td>8.44</td>\n",
       "      <td>20.168304</td>\n",
       "    </tr>\n",
       "    <tr>\n",
       "      <th>...</th>\n",
       "      <td>...</td>\n",
       "      <td>...</td>\n",
       "      <td>...</td>\n",
       "      <td>...</td>\n",
       "      <td>...</td>\n",
       "      <td>...</td>\n",
       "      <td>...</td>\n",
       "      <td>...</td>\n",
       "      <td>...</td>\n",
       "      <td>...</td>\n",
       "      <td>...</td>\n",
       "      <td>...</td>\n",
       "      <td>...</td>\n",
       "      <td>...</td>\n",
       "      <td>...</td>\n",
       "      <td>...</td>\n",
       "      <td>...</td>\n",
       "      <td>...</td>\n",
       "      <td>...</td>\n",
       "      <td>...</td>\n",
       "      <td>...</td>\n",
       "    </tr>\n",
       "    <tr>\n",
       "      <th>9510</th>\n",
       "      <td>0.017037</td>\n",
       "      <td>0.629410</td>\n",
       "      <td>0.750000</td>\n",
       "      <td>0.933013</td>\n",
       "      <td>0.5</td>\n",
       "      <td>1.0</td>\n",
       "      <td>0.0</td>\n",
       "      <td>0.0</td>\n",
       "      <td>0.0</td>\n",
       "      <td>0.0</td>\n",
       "      <td>...</td>\n",
       "      <td>0.205763</td>\n",
       "      <td>0.226072</td>\n",
       "      <td>0.252054</td>\n",
       "      <td>1.0</td>\n",
       "      <td>0.0</td>\n",
       "      <td>0.0</td>\n",
       "      <td>0.0</td>\n",
       "      <td>0.0</td>\n",
       "      <td>21.98</td>\n",
       "      <td>44.422658</td>\n",
       "    </tr>\n",
       "    <tr>\n",
       "      <th>9511</th>\n",
       "      <td>0.066987</td>\n",
       "      <td>0.750000</td>\n",
       "      <td>0.750000</td>\n",
       "      <td>0.933013</td>\n",
       "      <td>0.5</td>\n",
       "      <td>1.0</td>\n",
       "      <td>0.0</td>\n",
       "      <td>0.0</td>\n",
       "      <td>0.0</td>\n",
       "      <td>0.0</td>\n",
       "      <td>...</td>\n",
       "      <td>0.205763</td>\n",
       "      <td>0.251639</td>\n",
       "      <td>0.292863</td>\n",
       "      <td>1.0</td>\n",
       "      <td>0.0</td>\n",
       "      <td>0.0</td>\n",
       "      <td>0.0</td>\n",
       "      <td>0.0</td>\n",
       "      <td>9.60</td>\n",
       "      <td>45.167707</td>\n",
       "    </tr>\n",
       "    <tr>\n",
       "      <th>9512</th>\n",
       "      <td>0.146447</td>\n",
       "      <td>0.853553</td>\n",
       "      <td>0.750000</td>\n",
       "      <td>0.933013</td>\n",
       "      <td>0.5</td>\n",
       "      <td>1.0</td>\n",
       "      <td>0.0</td>\n",
       "      <td>0.0</td>\n",
       "      <td>0.0</td>\n",
       "      <td>0.0</td>\n",
       "      <td>...</td>\n",
       "      <td>0.127466</td>\n",
       "      <td>0.199967</td>\n",
       "      <td>0.252054</td>\n",
       "      <td>1.0</td>\n",
       "      <td>0.0</td>\n",
       "      <td>0.0</td>\n",
       "      <td>0.0</td>\n",
       "      <td>0.0</td>\n",
       "      <td>22.61</td>\n",
       "      <td>32.476198</td>\n",
       "    </tr>\n",
       "    <tr>\n",
       "      <th>9513</th>\n",
       "      <td>0.250000</td>\n",
       "      <td>0.933013</td>\n",
       "      <td>0.750000</td>\n",
       "      <td>0.933013</td>\n",
       "      <td>0.5</td>\n",
       "      <td>1.0</td>\n",
       "      <td>0.0</td>\n",
       "      <td>0.0</td>\n",
       "      <td>0.0</td>\n",
       "      <td>0.0</td>\n",
       "      <td>...</td>\n",
       "      <td>0.086402</td>\n",
       "      <td>0.146047</td>\n",
       "      <td>0.209862</td>\n",
       "      <td>1.0</td>\n",
       "      <td>0.0</td>\n",
       "      <td>0.0</td>\n",
       "      <td>0.0</td>\n",
       "      <td>0.0</td>\n",
       "      <td>21.70</td>\n",
       "      <td>28.561791</td>\n",
       "    </tr>\n",
       "    <tr>\n",
       "      <th>9514</th>\n",
       "      <td>0.370590</td>\n",
       "      <td>0.982963</td>\n",
       "      <td>0.750000</td>\n",
       "      <td>0.933013</td>\n",
       "      <td>0.5</td>\n",
       "      <td>1.0</td>\n",
       "      <td>0.0</td>\n",
       "      <td>0.0</td>\n",
       "      <td>0.0</td>\n",
       "      <td>0.0</td>\n",
       "      <td>...</td>\n",
       "      <td>0.000000</td>\n",
       "      <td>0.089675</td>\n",
       "      <td>0.166188</td>\n",
       "      <td>1.0</td>\n",
       "      <td>0.0</td>\n",
       "      <td>0.0</td>\n",
       "      <td>0.0</td>\n",
       "      <td>0.0</td>\n",
       "      <td>20.07</td>\n",
       "      <td>27.148858</td>\n",
       "    </tr>\n",
       "  </tbody>\n",
       "</table>\n",
       "<p>2499 rows × 56 columns</p>\n",
       "</div>"
      ],
      "text/plain": [
       "      minmaxscaler__hour_sine  minmaxscaler__hour_cosine  \\\n",
       "7016                 0.146447                   0.853553   \n",
       "7017                 0.250000                   0.933013   \n",
       "7018                 0.370590                   0.982963   \n",
       "7019                 0.500000                   1.000000   \n",
       "7020                 0.629410                   0.982963   \n",
       "...                       ...                        ...   \n",
       "9510                 0.017037                   0.629410   \n",
       "9511                 0.066987                   0.750000   \n",
       "9512                 0.146447                   0.853553   \n",
       "9513                 0.250000                   0.933013   \n",
       "9514                 0.370590                   0.982963   \n",
       "\n",
       "      minmaxscaler__month_sine  minmaxscaler__month_cosine  \\\n",
       "7016                  0.066987                    0.750000   \n",
       "7017                  0.066987                    0.750000   \n",
       "7018                  0.066987                    0.750000   \n",
       "7019                  0.066987                    0.750000   \n",
       "7020                  0.066987                    0.750000   \n",
       "...                        ...                         ...   \n",
       "9510                  0.750000                    0.933013   \n",
       "9511                  0.750000                    0.933013   \n",
       "9512                  0.750000                    0.933013   \n",
       "9513                  0.750000                    0.933013   \n",
       "9514                  0.750000                    0.933013   \n",
       "\n",
       "      minmaxscaler__season_sine  minmaxscaler__season_cosine  \\\n",
       "7016                        0.0                          0.5   \n",
       "7017                        0.0                          0.5   \n",
       "7018                        0.0                          0.5   \n",
       "7019                        0.0                          0.5   \n",
       "7020                        0.0                          0.5   \n",
       "...                         ...                          ...   \n",
       "9510                        0.5                          1.0   \n",
       "9511                        0.5                          1.0   \n",
       "9512                        0.5                          1.0   \n",
       "9513                        0.5                          1.0   \n",
       "9514                        0.5                          1.0   \n",
       "\n",
       "      minmaxscaler__precip_1h:mm  minmaxscaler__prob_precip_1h:p  \\\n",
       "7016                         0.0                             0.0   \n",
       "7017                         0.0                             0.0   \n",
       "7018                         0.0                             0.0   \n",
       "7019                         0.0                             0.0   \n",
       "7020                         0.0                             0.0   \n",
       "...                          ...                             ...   \n",
       "9510                         0.0                             0.0   \n",
       "9511                         0.0                             0.0   \n",
       "9512                         0.0                             0.0   \n",
       "9513                         0.0                             0.0   \n",
       "9514                         0.0                             0.0   \n",
       "\n",
       "      minmaxscaler__clear_sky_rad:W  minmaxscaler__clear_sky_energy_1h:J  ...  \\\n",
       "7016                            0.0                                  0.0  ...   \n",
       "7017                            0.0                                  0.0  ...   \n",
       "7018                            0.0                                  0.0  ...   \n",
       "7019                            0.0                                  0.0  ...   \n",
       "7020                            0.0                                  0.0  ...   \n",
       "...                             ...                                  ...  ...   \n",
       "9510                            0.0                                  0.0  ...   \n",
       "9511                            0.0                                  0.0  ...   \n",
       "9512                            0.0                                  0.0  ...   \n",
       "9513                            0.0                                  0.0  ...   \n",
       "9514                            0.0                                  0.0  ...   \n",
       "\n",
       "      robustscaler__wind_speed_10m:ms  robustscaler__wind_speed_50m:ms  \\\n",
       "7016                        -0.624904                        -0.741295   \n",
       "7017                        -0.624904                        -0.686177   \n",
       "7018                        -0.485613                        -0.487358   \n",
       "7019                        -0.360275                        -0.276690   \n",
       "7020                        -0.360275                        -0.316057   \n",
       "...                               ...                              ...   \n",
       "9510                         0.205763                         0.226072   \n",
       "9511                         0.205763                         0.251639   \n",
       "9512                         0.127466                         0.199967   \n",
       "9513                         0.086402                         0.146047   \n",
       "9514                         0.000000                         0.089675   \n",
       "\n",
       "      robustscaler__wind_speed_100m:ms  onehotencoder__precip_type:idx_0.0  \\\n",
       "7016                         -0.941294                                 1.0   \n",
       "7017                         -0.837521                                 1.0   \n",
       "7018                         -0.454837                                 1.0   \n",
       "7019                         -0.221841                                 1.0   \n",
       "7020                         -0.252573                                 1.0   \n",
       "...                                ...                                 ...   \n",
       "9510                          0.252054                                 1.0   \n",
       "9511                          0.292863                                 1.0   \n",
       "9512                          0.252054                                 1.0   \n",
       "9513                          0.209862                                 1.0   \n",
       "9514                          0.166188                                 1.0   \n",
       "\n",
       "      onehotencoder__precip_type:idx_1.0  onehotencoder__precip_type:idx_2.0  \\\n",
       "7016                                 0.0                                 0.0   \n",
       "7017                                 0.0                                 0.0   \n",
       "7018                                 0.0                                 0.0   \n",
       "7019                                 0.0                                 0.0   \n",
       "7020                                 0.0                                 0.0   \n",
       "...                                  ...                                 ...   \n",
       "9510                                 0.0                                 0.0   \n",
       "9511                                 0.0                                 0.0   \n",
       "9512                                 0.0                                 0.0   \n",
       "9513                                 0.0                                 0.0   \n",
       "9514                                 0.0                                 0.0   \n",
       "\n",
       "      onehotencoder__precip_type:idx_3.0  pv_production  wind_production  \\\n",
       "7016                                 0.0            0.0             9.84   \n",
       "7017                                 0.0            0.0            12.59   \n",
       "7018                                 0.0            0.0            22.86   \n",
       "7019                                 0.0            0.0             6.29   \n",
       "7020                                 0.0            0.0             8.44   \n",
       "...                                  ...            ...              ...   \n",
       "9510                                 0.0            0.0            21.98   \n",
       "9511                                 0.0            0.0             9.60   \n",
       "9512                                 0.0            0.0            22.61   \n",
       "9513                                 0.0            0.0            21.70   \n",
       "9514                                 0.0            0.0            20.07   \n",
       "\n",
       "      consumption  \n",
       "7016    27.835067  \n",
       "7017    19.498231  \n",
       "7018    16.549779  \n",
       "7019    20.053793  \n",
       "7020    20.168304  \n",
       "...           ...  \n",
       "9510    44.422658  \n",
       "9511    45.167707  \n",
       "9512    32.476198  \n",
       "9513    28.561791  \n",
       "9514    27.148858  \n",
       "\n",
       "[2499 rows x 56 columns]"
      ]
     },
     "execution_count": 39,
     "metadata": {},
     "output_type": "execute_result"
    }
   ],
   "source": [
    "df_val"
   ]
  },
  {
   "cell_type": "code",
   "execution_count": null,
   "id": "d04eb7fc-41ad-4eb4-8bb7-ab14c907cc0b",
   "metadata": {
    "id": "d04eb7fc-41ad-4eb4-8bb7-ab14c907cc0b",
    "outputId": "43f78895-a30e-4d19-9fc1-0fc3b8c80caf",
    "scrolled": true
   },
   "outputs": [
    {
     "data": {
      "text/plain": [
       "array([[[0.14644661, 0.85355339, 0.        , ..., 0.        ,\n",
       "         0.        , 0.        ],\n",
       "        [0.25      , 0.9330127 , 0.        , ..., 0.        ,\n",
       "         0.        , 0.        ],\n",
       "        [0.37059048, 0.98296291, 0.        , ..., 0.        ,\n",
       "         0.        , 0.        ],\n",
       "        ...,\n",
       "        [0.        , 0.5       , 0.0669873 , ..., 0.        ,\n",
       "         0.        , 0.        ],\n",
       "        [0.01703709, 0.62940952, 0.0669873 , ..., 0.        ,\n",
       "         0.        , 0.        ],\n",
       "        [0.0669873 , 0.75      , 0.0669873 , ..., 0.        ,\n",
       "         0.        , 0.        ]],\n",
       "\n",
       "       [[0.01703709, 0.37059048, 0.9330127 , ..., 0.        ,\n",
       "         0.        , 0.        ],\n",
       "        [0.        , 0.5       , 0.9330127 , ..., 0.        ,\n",
       "         0.        , 0.        ],\n",
       "        [0.01703709, 0.62940952, 0.9330127 , ..., 0.        ,\n",
       "         0.        , 0.        ],\n",
       "        ...,\n",
       "        [0.25      , 0.0669873 , 1.        , ..., 0.        ,\n",
       "         0.        , 0.        ],\n",
       "        [0.14644661, 0.14644661, 1.        , ..., 0.        ,\n",
       "         0.        , 0.        ],\n",
       "        [0.0669873 , 0.25      , 1.        , ..., 0.        ,\n",
       "         0.        , 0.        ]],\n",
       "\n",
       "       [[0.98296291, 0.37059048, 0.5       , ..., 0.        ,\n",
       "         0.        , 0.        ],\n",
       "        [0.9330127 , 0.25      , 0.5       , ..., 0.        ,\n",
       "         0.        , 0.        ],\n",
       "        [0.85355339, 0.14644661, 0.5       , ..., 0.        ,\n",
       "         0.        , 0.        ],\n",
       "        ...,\n",
       "        [0.9330127 , 0.75      , 0.5       , ..., 0.        ,\n",
       "         0.        , 0.        ],\n",
       "        [0.98296291, 0.62940952, 0.5       , ..., 0.        ,\n",
       "         0.        , 0.        ],\n",
       "        [1.        , 0.5       , 0.5       , ..., 0.        ,\n",
       "         0.        , 0.        ]],\n",
       "\n",
       "       ...,\n",
       "\n",
       "       [[0.25      , 0.0669873 , 0.5       , ..., 0.        ,\n",
       "         0.        , 0.        ],\n",
       "        [0.14644661, 0.14644661, 0.5       , ..., 0.        ,\n",
       "         0.        , 0.        ],\n",
       "        [0.0669873 , 0.25      , 0.5       , ..., 0.        ,\n",
       "         0.        , 0.        ],\n",
       "        ...,\n",
       "        [0.62940952, 0.01703709, 0.25      , ..., 0.        ,\n",
       "         0.        , 0.        ],\n",
       "        [0.5       , 0.        , 0.25      , ..., 0.        ,\n",
       "         0.        , 0.        ],\n",
       "        [0.37059048, 0.01703709, 0.25      , ..., 0.        ,\n",
       "         0.        , 0.        ]],\n",
       "\n",
       "       [[0.9330127 , 0.25      , 0.0669873 , ..., 0.        ,\n",
       "         0.        , 0.        ],\n",
       "        [0.85355339, 0.14644661, 0.0669873 , ..., 0.        ,\n",
       "         0.        , 0.        ],\n",
       "        [0.75      , 0.0669873 , 0.0669873 , ..., 0.        ,\n",
       "         0.        , 0.        ],\n",
       "        ...,\n",
       "        [0.98296291, 0.62940952, 0.        , ..., 0.        ,\n",
       "         0.        , 0.        ],\n",
       "        [1.        , 0.5       , 0.        , ..., 0.        ,\n",
       "         0.        , 0.        ],\n",
       "        [0.98296291, 0.37059048, 0.        , ..., 0.        ,\n",
       "         0.        , 0.        ]],\n",
       "\n",
       "       [[0.37059048, 0.98296291, 0.9330127 , ..., 0.        ,\n",
       "         0.        , 0.        ],\n",
       "        [0.5       , 1.        , 0.9330127 , ..., 0.        ,\n",
       "         0.        , 0.        ],\n",
       "        [0.62940952, 0.98296291, 0.9330127 , ..., 0.        ,\n",
       "         0.        , 0.        ],\n",
       "        ...,\n",
       "        [0.0669873 , 0.75      , 0.9330127 , ..., 0.        ,\n",
       "         0.        , 0.        ],\n",
       "        [0.14644661, 0.85355339, 0.9330127 , ..., 0.        ,\n",
       "         0.        , 0.        ],\n",
       "        [0.25      , 0.9330127 , 0.9330127 , ..., 0.        ,\n",
       "         0.        , 0.        ]]])"
      ]
     },
     "execution_count": 41,
     "metadata": {},
     "output_type": "execute_result"
    }
   ],
   "source": [
    "X_train"
   ]
  },
  {
   "cell_type": "code",
   "execution_count": null,
   "id": "8071b848-cc72-481a-a8dc-e1f2f4807c00",
   "metadata": {
    "id": "8071b848-cc72-481a-a8dc-e1f2f4807c00",
    "outputId": "6625c5eb-a4e4-42a1-bfca-9f801967ab62",
    "scrolled": true
   },
   "outputs": [
    {
     "data": {
      "text/plain": [
       "array([[[ 0.00000000e+00, -2.50000000e-01,  2.01589867e+01],\n",
       "        [ 0.00000000e+00, -2.40000000e-01,  1.14855933e+01],\n",
       "        [ 0.00000000e+00, -2.40000000e-01,  7.91753500e+00],\n",
       "        ...,\n",
       "        [ 4.69658320e+00,  3.20700000e+01,  1.91948489e+01],\n",
       "        [ 2.56067500e+01,  6.61500000e+01,  1.90871978e+01],\n",
       "        [ 4.03999160e+01,  4.54600000e+01,  1.92594511e+01]],\n",
       "\n",
       "       [[ 0.00000000e+00,  7.78800000e+01,  2.23920422e+01],\n",
       "        [ 0.00000000e+00,  9.82200000e+01,  5.81534222e+01],\n",
       "        [ 0.00000000e+00,  8.96200000e+01,  4.77380222e+01],\n",
       "        ...,\n",
       "        [ 0.00000000e+00,  2.49700000e+01,  2.66239356e+01],\n",
       "        [ 0.00000000e+00,  1.94200000e+01,  2.61866644e+01],\n",
       "        [ 0.00000000e+00,  1.48300000e+01,  2.51457422e+01]],\n",
       "\n",
       "       [[ 4.50604170e+01, -0.00000000e+00,  1.58383333e+01],\n",
       "        [ 5.72908340e+01, -0.00000000e+00,  1.24288600e+01],\n",
       "        [ 6.60800840e+01, -0.00000000e+00,  1.05990067e+01],\n",
       "        ...,\n",
       "        [ 2.58024170e+01, -0.00000000e+00,  1.29197167e+01],\n",
       "        [ 1.03434167e+01, -0.00000000e+00,  9.77987000e+00],\n",
       "        [ 3.01716660e+00, -0.00000000e+00,  3.04486489e+01]],\n",
       "\n",
       "       ...,\n",
       "\n",
       "       [[ 2.06230835e+01,  9.10000000e-01,  1.69735089e+01],\n",
       "        [ 1.48365835e+01,  3.62000000e+00,  1.31780889e+01],\n",
       "        [ 1.29342500e+01,  8.17000000e+00,  1.34274933e+01],\n",
       "        ...,\n",
       "        [ 0.00000000e+00, -2.00000000e-01,  1.29723267e+01],\n",
       "        [ 0.00000000e+00, -3.00000000e-01,  1.68503911e+01],\n",
       "        [ 1.20000000e-02,  3.07000000e+00,  1.80578000e+01]],\n",
       "\n",
       "       [[ 2.42275000e+01, -3.10000000e-01,  2.01194311e+01],\n",
       "        [ 4.91891660e+01, -2.90000000e-01,  1.20616744e+01],\n",
       "        [ 4.54227500e+01, -2.50000000e-01,  1.40974033e+01],\n",
       "        ...,\n",
       "        [ 1.01100000e+00, -2.80000000e-01,  2.09679378e+01],\n",
       "        [ 0.00000000e+00, -2.40000000e-01,  2.01342222e+01],\n",
       "        [ 0.00000000e+00, -2.80000000e-01,  1.51661878e+01]],\n",
       "\n",
       "       [[ 0.00000000e+00, -2.60000000e-01,  1.08750178e+01],\n",
       "        [ 0.00000000e+00,  2.00000000e-01,  1.41750778e+01],\n",
       "        [ 0.00000000e+00, -2.70000000e-01,  1.33153600e+01],\n",
       "        ...,\n",
       "        [ 2.26820835e+01, -2.40000000e-01,  2.04604778e+01],\n",
       "        [ 1.88896665e+01,  1.17600000e+01,  1.89212444e+01],\n",
       "        [ 1.93712500e+01,  1.37000000e+01,  1.63492989e+01]]])"
      ]
     },
     "execution_count": 43,
     "metadata": {},
     "output_type": "execute_result"
    }
   ],
   "source": [
    "y_train"
   ]
  },
  {
   "cell_type": "code",
   "execution_count": null,
   "id": "5e3d7aa2-666b-4e1f-8aaa-96157878c060",
   "metadata": {
    "id": "5e3d7aa2-666b-4e1f-8aaa-96157878c060",
    "outputId": "c2c913d0-2298-4a81-d1b4-64ae243a2bb5",
    "scrolled": true
   },
   "outputs": [
    {
     "data": {
      "text/plain": [
       "array([[[0.62940952, 0.98296291, 0.5       , ..., 0.        ,\n",
       "         0.        , 0.        ],\n",
       "        [0.75      , 0.9330127 , 0.5       , ..., 0.        ,\n",
       "         0.        , 0.        ],\n",
       "        [0.85355339, 0.85355339, 0.5       , ..., 0.        ,\n",
       "         0.        , 0.        ],\n",
       "        ...,\n",
       "        [0.25      , 0.9330127 , 0.5       , ..., 0.        ,\n",
       "         0.        , 0.        ],\n",
       "        [0.37059048, 0.98296291, 0.5       , ..., 0.        ,\n",
       "         0.        , 0.        ],\n",
       "        [0.5       , 1.        , 0.5       , ..., 0.        ,\n",
       "         0.        , 0.        ]],\n",
       "\n",
       "       [[0.25      , 0.9330127 , 0.25      , ..., 0.        ,\n",
       "         0.        , 0.        ],\n",
       "        [0.37059048, 0.98296291, 0.25      , ..., 0.        ,\n",
       "         0.        , 0.        ],\n",
       "        [0.5       , 1.        , 0.25      , ..., 0.        ,\n",
       "         0.        , 0.        ],\n",
       "        ...,\n",
       "        [0.01703709, 0.62940952, 0.25      , ..., 0.        ,\n",
       "         0.        , 0.        ],\n",
       "        [0.0669873 , 0.75      , 0.25      , ..., 0.        ,\n",
       "         0.        , 0.        ],\n",
       "        [0.14644661, 0.85355339, 0.25      , ..., 0.        ,\n",
       "         0.        , 0.        ]],\n",
       "\n",
       "       [[0.98296291, 0.37059048, 0.25      , ..., 0.        ,\n",
       "         0.        , 0.        ],\n",
       "        [0.9330127 , 0.25      , 0.25      , ..., 0.        ,\n",
       "         0.        , 0.        ],\n",
       "        [0.85355339, 0.14644661, 0.25      , ..., 0.        ,\n",
       "         0.        , 0.        ],\n",
       "        ...,\n",
       "        [0.9330127 , 0.75      , 0.25      , ..., 1.        ,\n",
       "         0.        , 0.        ],\n",
       "        [0.98296291, 0.62940952, 0.25      , ..., 0.        ,\n",
       "         0.        , 0.        ],\n",
       "        [1.        , 0.5       , 0.25      , ..., 0.        ,\n",
       "         0.        , 0.        ]],\n",
       "\n",
       "       ...,\n",
       "\n",
       "       [[0.14644661, 0.85355339, 0.25      , ..., 1.        ,\n",
       "         0.        , 0.        ],\n",
       "        [0.25      , 0.9330127 , 0.25      , ..., 1.        ,\n",
       "         0.        , 0.        ],\n",
       "        [0.37059048, 0.98296291, 0.25      , ..., 1.        ,\n",
       "         0.        , 0.        ],\n",
       "        ...,\n",
       "        [0.        , 0.5       , 0.25      , ..., 0.        ,\n",
       "         0.        , 0.        ],\n",
       "        [0.01703709, 0.62940952, 0.25      , ..., 0.        ,\n",
       "         0.        , 0.        ],\n",
       "        [0.0669873 , 0.75      , 0.25      , ..., 0.        ,\n",
       "         0.        , 0.        ]],\n",
       "\n",
       "       [[0.25      , 0.0669873 , 0.75      , ..., 0.        ,\n",
       "         0.        , 0.        ],\n",
       "        [0.14644661, 0.14644661, 0.75      , ..., 0.        ,\n",
       "         0.        , 0.        ],\n",
       "        [0.0669873 , 0.25      , 0.75      , ..., 0.        ,\n",
       "         0.        , 0.        ],\n",
       "        ...,\n",
       "        [0.62940952, 0.01703709, 0.75      , ..., 0.        ,\n",
       "         0.        , 0.        ],\n",
       "        [0.5       , 0.        , 0.75      , ..., 0.        ,\n",
       "         0.        , 0.        ],\n",
       "        [0.37059048, 0.01703709, 0.75      , ..., 0.        ,\n",
       "         0.        , 0.        ]],\n",
       "\n",
       "       [[0.01703709, 0.62940952, 0.75      , ..., 0.        ,\n",
       "         0.        , 0.        ],\n",
       "        [0.0669873 , 0.75      , 0.75      , ..., 0.        ,\n",
       "         0.        , 0.        ],\n",
       "        [0.14644661, 0.85355339, 0.75      , ..., 0.        ,\n",
       "         0.        , 0.        ],\n",
       "        ...,\n",
       "        [0.0669873 , 0.25      , 0.75      , ..., 0.        ,\n",
       "         0.        , 0.        ],\n",
       "        [0.01703709, 0.37059048, 0.75      , ..., 0.        ,\n",
       "         0.        , 0.        ],\n",
       "        [0.        , 0.5       , 0.75      , ..., 0.        ,\n",
       "         0.        , 0.        ]]])"
      ]
     },
     "execution_count": 45,
     "metadata": {},
     "output_type": "execute_result"
    }
   ],
   "source": [
    "X_val"
   ]
  },
  {
   "cell_type": "code",
   "execution_count": null,
   "id": "3109faf3-3c96-4b29-a300-28e790aa1645",
   "metadata": {
    "id": "3109faf3-3c96-4b29-a300-28e790aa1645",
    "outputId": "b190c73f-82a2-4183-810e-f2f547d531f2",
    "scrolled": true
   },
   "outputs": [
    {
     "data": {
      "text/plain": [
       "array([[[ 0.00000000e+00,  2.06500000e+01,  2.00543022e+01],\n",
       "        [ 0.00000000e+00,  2.91900000e+01,  1.78826067e+01],\n",
       "        [ 0.00000000e+00,  2.46700000e+01,  1.98055756e+01],\n",
       "        ...,\n",
       "        [ 9.19167000e-02,  9.28000000e+00,  1.69353156e+01],\n",
       "        [ 3.33340000e-03,  8.01000000e+00,  1.75387989e+01],\n",
       "        [ 1.64083300e-01,  5.83000000e+00,  1.92496711e+01]],\n",
       "\n",
       "       [[ 0.00000000e+00, -3.10000000e-01,  1.74297622e+01],\n",
       "        [ 0.00000000e+00,  2.95000000e+00,  1.73931400e+01],\n",
       "        [ 0.00000000e+00,  2.38000000e+00,  1.73617000e+01],\n",
       "        ...,\n",
       "        [ 3.78182000e-02,  1.31200000e+01,  2.70674578e+01],\n",
       "        [ 6.45750000e-01,  5.44000000e+00,  2.97449111e+01],\n",
       "        [ 2.51175000e+00,  1.74000000e+00,  2.53388800e+01]],\n",
       "\n",
       "       [[ 0.00000000e+00, -4.00000000e-01,  2.71397933e+01],\n",
       "        [ 0.00000000e+00, -3.60000000e-01,  2.88521733e+01],\n",
       "        [ 3.37583400e-01, -4.70000000e-01,  2.85557200e+01],\n",
       "        ...,\n",
       "        [ 0.00000000e+00,  1.41900000e+01,  2.33989556e+01],\n",
       "        [ 0.00000000e+00,  1.27100000e+01,  2.02697733e+01],\n",
       "        [ 0.00000000e+00,  9.20000000e+00,  2.43316089e+01]],\n",
       "\n",
       "       ...,\n",
       "\n",
       "       [[ 0.00000000e+00,  1.49750000e+02,  2.63869956e+01],\n",
       "        [ 0.00000000e+00,  2.00090000e+02,  2.49212911e+01],\n",
       "        [ 0.00000000e+00,  1.89720000e+02,  2.16731444e+01],\n",
       "        ...,\n",
       "        [ 0.00000000e+00,  1.36250000e+02,  2.08156222e+01],\n",
       "        [ 0.00000000e+00,  4.98700000e+01,  2.98002133e+01],\n",
       "        [ 3.21667000e-02,  1.06000000e+00,  2.84213422e+01]],\n",
       "\n",
       "       [[ 0.00000000e+00, -5.70000000e-01,  4.05446978e+01],\n",
       "        [ 0.00000000e+00, -5.60000000e-01,  2.53434756e+01],\n",
       "        [ 0.00000000e+00, -5.40000000e-01,  2.64981956e+01],\n",
       "        ...,\n",
       "        [ 0.00000000e+00, -6.00000000e-01,  2.38590800e+01],\n",
       "        [ 0.00000000e+00, -6.00000000e-01,  2.75763933e+01],\n",
       "        [ 0.00000000e+00,  3.70000000e+00,  2.73158156e+01]],\n",
       "\n",
       "       [[ 0.00000000e+00,  9.41000000e+00,  4.54736844e+01],\n",
       "        [ 0.00000000e+00,  6.89000000e+00,  2.84455333e+01],\n",
       "        [ 0.00000000e+00,  4.56000000e+00,  2.14654089e+01],\n",
       "        ...,\n",
       "        [ 0.00000000e+00,  2.57000000e+00,  1.93167844e+01],\n",
       "        [ 0.00000000e+00, -2.60000000e-01,  1.90483356e+01],\n",
       "        [ 0.00000000e+00, -1.40000000e-01,  1.91125711e+01]]])"
      ]
     },
     "execution_count": 47,
     "metadata": {},
     "output_type": "execute_result"
    }
   ],
   "source": [
    "y_val"
   ]
  },
  {
   "cell_type": "markdown",
   "id": "9940b09b-b8d9-483d-8631-2f96c4f58306",
   "metadata": {
    "id": "9940b09b-b8d9-483d-8631-2f96c4f58306",
    "jp-MarkdownHeadingCollapsed": true
   },
   "source": [
    "### Train model on mini sequences"
   ]
  },
  {
   "cell_type": "code",
   "execution_count": 254,
   "id": "54bdcac0-0dc9-472f-917d-81db5a2bc430",
   "metadata": {
    "executionInfo": {
     "elapsed": 1051,
     "status": "ok",
     "timestamp": 1732798005450,
     "user": {
      "displayName": "Carl Bechtolsheim",
      "userId": "09155195766587467337"
     },
     "user_tz": -60
    },
    "id": "54bdcac0-0dc9-472f-917d-81db5a2bc430"
   },
   "outputs": [
    {
     "name": "stderr",
     "output_type": "stream",
     "text": [
      "2024-11-28 17:17:08.838379: I tensorflow/core/platform/cpu_feature_guard.cc:193] This TensorFlow binary is optimized with oneAPI Deep Neural Network Library (oneDNN) to use the following CPU instructions in performance-critical operations:  AVX2 FMA\n",
      "To enable them in other operations, rebuild TensorFlow with the appropriate compiler flags.\n"
     ]
    }
   ],
   "source": [
    "from tensorflow.keras import models\n",
    "from tensorflow.keras import layers\n",
    "from tensorflow.keras import optimizers, metrics\n",
    "from tensorflow.keras.regularizers import L1L2\n",
    "\n",
    "def init_model(X_train, y_train):\n",
    "\n",
    "    # 1 - RNN architecture\n",
    "    # ======================\n",
    "    model = models.Sequential()\n",
    "\n",
    "    ## 1.1 - Recurrent Layer\n",
    "    model.add(layers.LSTM(64,\n",
    "                          activation='tanh',\n",
    "                          return_sequences = True,\n",
    "                          input_shape=(120, 53)\n",
    "\n",
    "                         ))\n",
    "\n",
    "    model.add(layers.LSTM(units=32, activation='tanh'))\n",
    "\n",
    "    ## 1.2 Hidden layer\n",
    "    model.add(layers.Dense(10, activation=\"linear\"))\n",
    "\n",
    "    ## 1.2 - Predictive Dense Layers\n",
    "    output_length = y_train.shape[1]\n",
    "    model.add(layers.Dense(output_length*3, activation='linear'))  # Flatten the output\n",
    "    model.add(layers.Reshape((output_length, 3)))  # Reshape to (12, 3)\n",
    "\n",
    "\n",
    "    # 2 - Compiler\n",
    "    # ======================\n",
    "    adam = optimizers.Adam(learning_rate=0.005)\n",
    "    model.compile(loss='mse', optimizer=adam, metrics=[\"mae\"])\n",
    "\n",
    "    return model"
   ]
  },
  {
   "cell_type": "code",
   "execution_count": 38,
   "id": "e1f13808-1de1-4329-942a-28a3999a614e",
   "metadata": {
    "executionInfo": {
     "elapsed": 378,
     "status": "ok",
     "timestamp": 1732797742772,
     "user": {
      "displayName": "Carl Bechtolsheim",
      "userId": "09155195766587467337"
     },
     "user_tz": -60
    },
    "id": "e1f13808-1de1-4329-942a-28a3999a614e"
   },
   "outputs": [],
   "source": [
    "from tensorflow.keras import models\n",
    "from tensorflow.keras import layers\n",
    "from tensorflow.keras import optimizers, metrics\n",
    "from tensorflow.keras.regularizers import L1L2\n",
    "\n",
    "def init_model(X_train, y_train):\n",
    "\n",
    "    # 1 - RNN architecture\n",
    "    # ======================\n",
    "    model = models.Sequential()\n",
    "\n",
    "    ## 1.1 - Recurrent Layers\n",
    "    model.add(layers.LSTM(64,\n",
    "                          activation='tanh',\n",
    "                          return_sequences=True,  # Keep output for each time step\n",
    "                          input_shape=(120, 53)))\n",
    "\n",
    "    model.add(layers.LSTM(32,\n",
    "                          activation='tanh',\n",
    "                          return_sequences=True))  # Keep the sequence dimension\n",
    "\n",
    "    ## 1.2 - Hidden Dense Layer\n",
    "    model.add(layers.TimeDistributed(layers.Dense(64, activation=\"relu\")))  # Apply to each time step\n",
    "\n",
    "    ## 1.3 - Predictive Dense Layer\n",
    "    output_length = y_train.shape[1]  # 12 future steps\n",
    "    num_targets = y_train.shape[2]    # 3 targets\n",
    "    model.add(layers.TimeDistributed(layers.Dense(num_targets, activation='linear')))  # Directly output 3 targets\n",
    "\n",
    "    # 2 - Compiler\n",
    "    # ======================\n",
    "    adam = optimizers.Adam(learning_rate=0.005)\n",
    "    model.compile(loss='mse', optimizer=adam, metrics=[\"mae\"])\n",
    "\n",
    "    return model\n"
   ]
  },
  {
   "cell_type": "code",
   "execution_count": 57,
   "id": "0p9w-eQnzjJo",
   "metadata": {
    "executionInfo": {
     "elapsed": 656,
     "status": "ok",
     "timestamp": 1732798933139,
     "user": {
      "displayName": "Carl Bechtolsheim",
      "userId": "09155195766587467337"
     },
     "user_tz": -60
    },
    "id": "0p9w-eQnzjJo"
   },
   "outputs": [],
   "source": [
    "from tensorflow.keras.metrics import MeanAbsoluteError\n",
    "from tensorflow.keras import regularizers\n",
    "\n",
    "\n",
    "def init_model(X_train, y_train):\n",
    "\n",
    "    # 1 - RNN architecture\n",
    "    # ======================\n",
    "    model = models.Sequential()\n",
    "\n",
    "    ## 1.1 - Recurrent Layers\n",
    "    model.add(layers.LSTM(32,\n",
    "                          activation='tanh',\n",
    "                          return_sequences=True,\n",
    "                          input_shape=(120, 53),\n",
    "                          kernel_regularizer=regularizers.l2(0.01)))\n",
    "\n",
    "    model.add(layers.Dropout(0.3))\n",
    "\n",
    "    model.add(layers.LSTM(16, activation='tanh', return_sequences=True))\n",
    "\n",
    "    ## 1.2 - Slice the output to focus only on the last 12 time steps\n",
    "    model.add(layers.Lambda(lambda x: x[:, -12:, :]))  # Keep only the last 12 time steps\n",
    "\n",
    "    ## 1.3 - Hidden Dense Layer\n",
    "    model.add(layers.TimeDistributed(layers.Dense(64, activation=\"relu\")))\n",
    "\n",
    "    ## 1.4 - Predictive Dense Layer\n",
    "    num_targets = y_train.shape[2]    # 3 targets\n",
    "    model.add(layers.TimeDistributed(layers.Dense(num_targets, activation='linear')))\n",
    "\n",
    "    # 2 - Compiler\n",
    "    # ======================\n",
    "    adam = optimizers.Adam(learning_rate=0.005)\n",
    "    model.compile(loss='mse',\n",
    "                  optimizer=adam,\n",
    "                  metrics=[\n",
    "                      MeanAbsoluteError(name=\"mae_target_1\"),\n",
    "                      MeanAbsoluteError(name=\"mae_target_2\"),\n",
    "                      MeanAbsoluteError(name=\"mae_target_3\")\n",
    "                  ])\n",
    "\n",
    "\n",
    "    return model\n"
   ]
  },
  {
   "cell_type": "code",
   "execution_count": 45,
   "id": "5042b4c8-4dd0-4bd1-87e6-208d22332a1d",
   "metadata": {
    "colab": {
     "base_uri": "https://localhost:8080/",
     "height": 289
    },
    "executionInfo": {
     "elapsed": 1030,
     "status": "ok",
     "timestamp": 1732798023785,
     "user": {
      "displayName": "Carl Bechtolsheim",
      "userId": "09155195766587467337"
     },
     "user_tz": -60
    },
    "id": "5042b4c8-4dd0-4bd1-87e6-208d22332a1d",
    "outputId": "7437d3e2-f865-4f53-ca59-5aea31dd87fe"
   },
   "outputs": [
    {
     "data": {
      "text/html": [
       "<pre style=\"white-space:pre;overflow-x:auto;line-height:normal;font-family:Menlo,'DejaVu Sans Mono',consolas,'Courier New',monospace\"><span style=\"font-weight: bold\">Model: \"sequential_10\"</span>\n",
       "</pre>\n"
      ],
      "text/plain": [
       "\u001b[1mModel: \"sequential_10\"\u001b[0m\n"
      ]
     },
     "metadata": {},
     "output_type": "display_data"
    },
    {
     "data": {
      "text/html": [
       "<pre style=\"white-space:pre;overflow-x:auto;line-height:normal;font-family:Menlo,'DejaVu Sans Mono',consolas,'Courier New',monospace\">┏━━━━━━━━━━━━━━━━━━━━━━━━━━━━━━━━━━━━━━┳━━━━━━━━━━━━━━━━━━━━━━━━━━━━━┳━━━━━━━━━━━━━━━━━┓\n",
       "┃<span style=\"font-weight: bold\"> Layer (type)                         </span>┃<span style=\"font-weight: bold\"> Output Shape                </span>┃<span style=\"font-weight: bold\">         Param # </span>┃\n",
       "┡━━━━━━━━━━━━━━━━━━━━━━━━━━━━━━━━━━━━━━╇━━━━━━━━━━━━━━━━━━━━━━━━━━━━━╇━━━━━━━━━━━━━━━━━┩\n",
       "│ lstm_20 (<span style=\"color: #0087ff; text-decoration-color: #0087ff\">LSTM</span>)                       │ (<span style=\"color: #00d7ff; text-decoration-color: #00d7ff\">None</span>, <span style=\"color: #00af00; text-decoration-color: #00af00\">120</span>, <span style=\"color: #00af00; text-decoration-color: #00af00\">64</span>)             │          <span style=\"color: #00af00; text-decoration-color: #00af00\">30,208</span> │\n",
       "├──────────────────────────────────────┼─────────────────────────────┼─────────────────┤\n",
       "│ lstm_21 (<span style=\"color: #0087ff; text-decoration-color: #0087ff\">LSTM</span>)                       │ (<span style=\"color: #00d7ff; text-decoration-color: #00d7ff\">None</span>, <span style=\"color: #00af00; text-decoration-color: #00af00\">32</span>)                  │          <span style=\"color: #00af00; text-decoration-color: #00af00\">12,416</span> │\n",
       "├──────────────────────────────────────┼─────────────────────────────┼─────────────────┤\n",
       "│ dense_19 (<span style=\"color: #0087ff; text-decoration-color: #0087ff\">Dense</span>)                     │ (<span style=\"color: #00d7ff; text-decoration-color: #00d7ff\">None</span>, <span style=\"color: #00af00; text-decoration-color: #00af00\">10</span>)                  │             <span style=\"color: #00af00; text-decoration-color: #00af00\">330</span> │\n",
       "├──────────────────────────────────────┼─────────────────────────────┼─────────────────┤\n",
       "│ dense_20 (<span style=\"color: #0087ff; text-decoration-color: #0087ff\">Dense</span>)                     │ (<span style=\"color: #00d7ff; text-decoration-color: #00d7ff\">None</span>, <span style=\"color: #00af00; text-decoration-color: #00af00\">36</span>)                  │             <span style=\"color: #00af00; text-decoration-color: #00af00\">396</span> │\n",
       "├──────────────────────────────────────┼─────────────────────────────┼─────────────────┤\n",
       "│ reshape_3 (<span style=\"color: #0087ff; text-decoration-color: #0087ff\">Reshape</span>)                  │ (<span style=\"color: #00d7ff; text-decoration-color: #00d7ff\">None</span>, <span style=\"color: #00af00; text-decoration-color: #00af00\">12</span>, <span style=\"color: #00af00; text-decoration-color: #00af00\">3</span>)               │               <span style=\"color: #00af00; text-decoration-color: #00af00\">0</span> │\n",
       "└──────────────────────────────────────┴─────────────────────────────┴─────────────────┘\n",
       "</pre>\n"
      ],
      "text/plain": [
       "┏━━━━━━━━━━━━━━━━━━━━━━━━━━━━━━━━━━━━━━┳━━━━━━━━━━━━━━━━━━━━━━━━━━━━━┳━━━━━━━━━━━━━━━━━┓\n",
       "┃\u001b[1m \u001b[0m\u001b[1mLayer (type)                        \u001b[0m\u001b[1m \u001b[0m┃\u001b[1m \u001b[0m\u001b[1mOutput Shape               \u001b[0m\u001b[1m \u001b[0m┃\u001b[1m \u001b[0m\u001b[1m        Param #\u001b[0m\u001b[1m \u001b[0m┃\n",
       "┡━━━━━━━━━━━━━━━━━━━━━━━━━━━━━━━━━━━━━━╇━━━━━━━━━━━━━━━━━━━━━━━━━━━━━╇━━━━━━━━━━━━━━━━━┩\n",
       "│ lstm_20 (\u001b[38;5;33mLSTM\u001b[0m)                       │ (\u001b[38;5;45mNone\u001b[0m, \u001b[38;5;34m120\u001b[0m, \u001b[38;5;34m64\u001b[0m)             │          \u001b[38;5;34m30,208\u001b[0m │\n",
       "├──────────────────────────────────────┼─────────────────────────────┼─────────────────┤\n",
       "│ lstm_21 (\u001b[38;5;33mLSTM\u001b[0m)                       │ (\u001b[38;5;45mNone\u001b[0m, \u001b[38;5;34m32\u001b[0m)                  │          \u001b[38;5;34m12,416\u001b[0m │\n",
       "├──────────────────────────────────────┼─────────────────────────────┼─────────────────┤\n",
       "│ dense_19 (\u001b[38;5;33mDense\u001b[0m)                     │ (\u001b[38;5;45mNone\u001b[0m, \u001b[38;5;34m10\u001b[0m)                  │             \u001b[38;5;34m330\u001b[0m │\n",
       "├──────────────────────────────────────┼─────────────────────────────┼─────────────────┤\n",
       "│ dense_20 (\u001b[38;5;33mDense\u001b[0m)                     │ (\u001b[38;5;45mNone\u001b[0m, \u001b[38;5;34m36\u001b[0m)                  │             \u001b[38;5;34m396\u001b[0m │\n",
       "├──────────────────────────────────────┼─────────────────────────────┼─────────────────┤\n",
       "│ reshape_3 (\u001b[38;5;33mReshape\u001b[0m)                  │ (\u001b[38;5;45mNone\u001b[0m, \u001b[38;5;34m12\u001b[0m, \u001b[38;5;34m3\u001b[0m)               │               \u001b[38;5;34m0\u001b[0m │\n",
       "└──────────────────────────────────────┴─────────────────────────────┴─────────────────┘\n"
      ]
     },
     "metadata": {},
     "output_type": "display_data"
    },
    {
     "data": {
      "text/html": [
       "<pre style=\"white-space:pre;overflow-x:auto;line-height:normal;font-family:Menlo,'DejaVu Sans Mono',consolas,'Courier New',monospace\"><span style=\"font-weight: bold\"> Total params: </span><span style=\"color: #00af00; text-decoration-color: #00af00\">43,350</span> (169.34 KB)\n",
       "</pre>\n"
      ],
      "text/plain": [
       "\u001b[1m Total params: \u001b[0m\u001b[38;5;34m43,350\u001b[0m (169.34 KB)\n"
      ]
     },
     "metadata": {},
     "output_type": "display_data"
    },
    {
     "data": {
      "text/html": [
       "<pre style=\"white-space:pre;overflow-x:auto;line-height:normal;font-family:Menlo,'DejaVu Sans Mono',consolas,'Courier New',monospace\"><span style=\"font-weight: bold\"> Trainable params: </span><span style=\"color: #00af00; text-decoration-color: #00af00\">43,350</span> (169.34 KB)\n",
       "</pre>\n"
      ],
      "text/plain": [
       "\u001b[1m Trainable params: \u001b[0m\u001b[38;5;34m43,350\u001b[0m (169.34 KB)\n"
      ]
     },
     "metadata": {},
     "output_type": "display_data"
    },
    {
     "data": {
      "text/html": [
       "<pre style=\"white-space:pre;overflow-x:auto;line-height:normal;font-family:Menlo,'DejaVu Sans Mono',consolas,'Courier New',monospace\"><span style=\"font-weight: bold\"> Non-trainable params: </span><span style=\"color: #00af00; text-decoration-color: #00af00\">0</span> (0.00 B)\n",
       "</pre>\n"
      ],
      "text/plain": [
       "\u001b[1m Non-trainable params: \u001b[0m\u001b[38;5;34m0\u001b[0m (0.00 B)\n"
      ]
     },
     "metadata": {},
     "output_type": "display_data"
    }
   ],
   "source": [
    "model = init_model(X_train, y_train)\n",
    "model.summary()"
   ]
  },
  {
   "cell_type": "code",
   "execution_count": 52,
   "id": "1769cea7-9880-4747-8ffd-c08b9a58fcab",
   "metadata": {
    "executionInfo": {
     "elapsed": 437,
     "status": "ok",
     "timestamp": 1732798634964,
     "user": {
      "displayName": "Carl Bechtolsheim",
      "userId": "09155195766587467337"
     },
     "user_tz": -60
    },
    "id": "1769cea7-9880-4747-8ffd-c08b9a58fcab"
   },
   "outputs": [],
   "source": [
    "from tensorflow.keras.callbacks import EarlyStopping\n",
    "import tensorflow as tf\n",
    "from typing import Tuple\n",
    "\n",
    "def fit_model(model: tf.keras.Model, verbose=1) -> Tuple[tf.keras.Model, dict]:\n",
    "\n",
    "    es = EarlyStopping(monitor = \"val_loss\",\n",
    "                      patience = 15,\n",
    "                      mode = \"min\",\n",
    "                      restore_best_weights = True)\n",
    "\n",
    "\n",
    "    history = model.fit(X_train, y_train,\n",
    "                        validation_data=(X_val, y_val),\n",
    "                        shuffle = False,\n",
    "                        batch_size = 32,\n",
    "                        epochs = 500,\n",
    "                        callbacks = [es],\n",
    "                        verbose = verbose)\n",
    "\n",
    "    return model, history"
   ]
  },
  {
   "cell_type": "code",
   "execution_count": 48,
   "id": "2d33aa42-5532-4297-a98a-9349e3dac019",
   "metadata": {
    "colab": {
     "base_uri": "https://localhost:8080/",
     "height": 1000
    },
    "collapsed": true,
    "executionInfo": {
     "elapsed": 142497,
     "status": "ok",
     "timestamp": 1732798255054,
     "user": {
      "displayName": "Carl Bechtolsheim",
      "userId": "09155195766587467337"
     },
     "user_tz": -60
    },
    "id": "2d33aa42-5532-4297-a98a-9349e3dac019",
    "jupyter": {
     "outputs_hidden": true
    },
    "outputId": "11b97888-8122-40a1-d623-fce07a27f8a5"
   },
   "outputs": [
    {
     "name": "stderr",
     "output_type": "stream",
     "text": [
      "/usr/local/lib/python3.10/dist-packages/keras/src/layers/rnn/rnn.py:204: UserWarning: Do not pass an `input_shape`/`input_dim` argument to a layer. When using Sequential models, prefer using an `Input(shape)` object as the first layer in the model instead.\n",
      "  super().__init__(**kwargs)\n"
     ]
    },
    {
     "data": {
      "text/html": [
       "<pre style=\"white-space:pre;overflow-x:auto;line-height:normal;font-family:Menlo,'DejaVu Sans Mono',consolas,'Courier New',monospace\"><span style=\"font-weight: bold\">Model: \"sequential_12\"</span>\n",
       "</pre>\n"
      ],
      "text/plain": [
       "\u001b[1mModel: \"sequential_12\"\u001b[0m\n"
      ]
     },
     "metadata": {},
     "output_type": "display_data"
    },
    {
     "data": {
      "text/html": [
       "<pre style=\"white-space:pre;overflow-x:auto;line-height:normal;font-family:Menlo,'DejaVu Sans Mono',consolas,'Courier New',monospace\">┏━━━━━━━━━━━━━━━━━━━━━━━━━━━━━━━━━━━━━━┳━━━━━━━━━━━━━━━━━━━━━━━━━━━━━┳━━━━━━━━━━━━━━━━━┓\n",
       "┃<span style=\"font-weight: bold\"> Layer (type)                         </span>┃<span style=\"font-weight: bold\"> Output Shape                </span>┃<span style=\"font-weight: bold\">         Param # </span>┃\n",
       "┡━━━━━━━━━━━━━━━━━━━━━━━━━━━━━━━━━━━━━━╇━━━━━━━━━━━━━━━━━━━━━━━━━━━━━╇━━━━━━━━━━━━━━━━━┩\n",
       "│ lstm_24 (<span style=\"color: #0087ff; text-decoration-color: #0087ff\">LSTM</span>)                       │ (<span style=\"color: #00d7ff; text-decoration-color: #00d7ff\">None</span>, <span style=\"color: #00af00; text-decoration-color: #00af00\">120</span>, <span style=\"color: #00af00; text-decoration-color: #00af00\">64</span>)             │          <span style=\"color: #00af00; text-decoration-color: #00af00\">30,208</span> │\n",
       "├──────────────────────────────────────┼─────────────────────────────┼─────────────────┤\n",
       "│ lstm_25 (<span style=\"color: #0087ff; text-decoration-color: #0087ff\">LSTM</span>)                       │ (<span style=\"color: #00d7ff; text-decoration-color: #00d7ff\">None</span>, <span style=\"color: #00af00; text-decoration-color: #00af00\">32</span>)                  │          <span style=\"color: #00af00; text-decoration-color: #00af00\">12,416</span> │\n",
       "├──────────────────────────────────────┼─────────────────────────────┼─────────────────┤\n",
       "│ dense_23 (<span style=\"color: #0087ff; text-decoration-color: #0087ff\">Dense</span>)                     │ (<span style=\"color: #00d7ff; text-decoration-color: #00d7ff\">None</span>, <span style=\"color: #00af00; text-decoration-color: #00af00\">10</span>)                  │             <span style=\"color: #00af00; text-decoration-color: #00af00\">330</span> │\n",
       "├──────────────────────────────────────┼─────────────────────────────┼─────────────────┤\n",
       "│ dense_24 (<span style=\"color: #0087ff; text-decoration-color: #0087ff\">Dense</span>)                     │ (<span style=\"color: #00d7ff; text-decoration-color: #00d7ff\">None</span>, <span style=\"color: #00af00; text-decoration-color: #00af00\">36</span>)                  │             <span style=\"color: #00af00; text-decoration-color: #00af00\">396</span> │\n",
       "├──────────────────────────────────────┼─────────────────────────────┼─────────────────┤\n",
       "│ reshape_5 (<span style=\"color: #0087ff; text-decoration-color: #0087ff\">Reshape</span>)                  │ (<span style=\"color: #00d7ff; text-decoration-color: #00d7ff\">None</span>, <span style=\"color: #00af00; text-decoration-color: #00af00\">12</span>, <span style=\"color: #00af00; text-decoration-color: #00af00\">3</span>)               │               <span style=\"color: #00af00; text-decoration-color: #00af00\">0</span> │\n",
       "└──────────────────────────────────────┴─────────────────────────────┴─────────────────┘\n",
       "</pre>\n"
      ],
      "text/plain": [
       "┏━━━━━━━━━━━━━━━━━━━━━━━━━━━━━━━━━━━━━━┳━━━━━━━━━━━━━━━━━━━━━━━━━━━━━┳━━━━━━━━━━━━━━━━━┓\n",
       "┃\u001b[1m \u001b[0m\u001b[1mLayer (type)                        \u001b[0m\u001b[1m \u001b[0m┃\u001b[1m \u001b[0m\u001b[1mOutput Shape               \u001b[0m\u001b[1m \u001b[0m┃\u001b[1m \u001b[0m\u001b[1m        Param #\u001b[0m\u001b[1m \u001b[0m┃\n",
       "┡━━━━━━━━━━━━━━━━━━━━━━━━━━━━━━━━━━━━━━╇━━━━━━━━━━━━━━━━━━━━━━━━━━━━━╇━━━━━━━━━━━━━━━━━┩\n",
       "│ lstm_24 (\u001b[38;5;33mLSTM\u001b[0m)                       │ (\u001b[38;5;45mNone\u001b[0m, \u001b[38;5;34m120\u001b[0m, \u001b[38;5;34m64\u001b[0m)             │          \u001b[38;5;34m30,208\u001b[0m │\n",
       "├──────────────────────────────────────┼─────────────────────────────┼─────────────────┤\n",
       "│ lstm_25 (\u001b[38;5;33mLSTM\u001b[0m)                       │ (\u001b[38;5;45mNone\u001b[0m, \u001b[38;5;34m32\u001b[0m)                  │          \u001b[38;5;34m12,416\u001b[0m │\n",
       "├──────────────────────────────────────┼─────────────────────────────┼─────────────────┤\n",
       "│ dense_23 (\u001b[38;5;33mDense\u001b[0m)                     │ (\u001b[38;5;45mNone\u001b[0m, \u001b[38;5;34m10\u001b[0m)                  │             \u001b[38;5;34m330\u001b[0m │\n",
       "├──────────────────────────────────────┼─────────────────────────────┼─────────────────┤\n",
       "│ dense_24 (\u001b[38;5;33mDense\u001b[0m)                     │ (\u001b[38;5;45mNone\u001b[0m, \u001b[38;5;34m36\u001b[0m)                  │             \u001b[38;5;34m396\u001b[0m │\n",
       "├──────────────────────────────────────┼─────────────────────────────┼─────────────────┤\n",
       "│ reshape_5 (\u001b[38;5;33mReshape\u001b[0m)                  │ (\u001b[38;5;45mNone\u001b[0m, \u001b[38;5;34m12\u001b[0m, \u001b[38;5;34m3\u001b[0m)               │               \u001b[38;5;34m0\u001b[0m │\n",
       "└──────────────────────────────────────┴─────────────────────────────┴─────────────────┘\n"
      ]
     },
     "metadata": {},
     "output_type": "display_data"
    },
    {
     "data": {
      "text/html": [
       "<pre style=\"white-space:pre;overflow-x:auto;line-height:normal;font-family:Menlo,'DejaVu Sans Mono',consolas,'Courier New',monospace\"><span style=\"font-weight: bold\"> Total params: </span><span style=\"color: #00af00; text-decoration-color: #00af00\">43,350</span> (169.34 KB)\n",
       "</pre>\n"
      ],
      "text/plain": [
       "\u001b[1m Total params: \u001b[0m\u001b[38;5;34m43,350\u001b[0m (169.34 KB)\n"
      ]
     },
     "metadata": {},
     "output_type": "display_data"
    },
    {
     "data": {
      "text/html": [
       "<pre style=\"white-space:pre;overflow-x:auto;line-height:normal;font-family:Menlo,'DejaVu Sans Mono',consolas,'Courier New',monospace\"><span style=\"font-weight: bold\"> Trainable params: </span><span style=\"color: #00af00; text-decoration-color: #00af00\">43,350</span> (169.34 KB)\n",
       "</pre>\n"
      ],
      "text/plain": [
       "\u001b[1m Trainable params: \u001b[0m\u001b[38;5;34m43,350\u001b[0m (169.34 KB)\n"
      ]
     },
     "metadata": {},
     "output_type": "display_data"
    },
    {
     "data": {
      "text/html": [
       "<pre style=\"white-space:pre;overflow-x:auto;line-height:normal;font-family:Menlo,'DejaVu Sans Mono',consolas,'Courier New',monospace\"><span style=\"font-weight: bold\"> Non-trainable params: </span><span style=\"color: #00af00; text-decoration-color: #00af00\">0</span> (0.00 B)\n",
       "</pre>\n"
      ],
      "text/plain": [
       "\u001b[1m Non-trainable params: \u001b[0m\u001b[38;5;34m0\u001b[0m (0.00 B)\n"
      ]
     },
     "metadata": {},
     "output_type": "display_data"
    },
    {
     "name": "stdout",
     "output_type": "stream",
     "text": [
      "Epoch 1/500\n",
      "\u001b[1m71/71\u001b[0m \u001b[32m━━━━━━━━━━━━━━━━━━━━\u001b[0m\u001b[37m\u001b[0m \u001b[1m3s\u001b[0m 20ms/step - loss: 762.2496 - mae: 15.8275 - val_loss: 529.4869 - val_mae: 13.9109\n",
      "Epoch 2/500\n",
      "\u001b[1m71/71\u001b[0m \u001b[32m━━━━━━━━━━━━━━━━━━━━\u001b[0m\u001b[37m\u001b[0m \u001b[1m1s\u001b[0m 14ms/step - loss: 580.1478 - mae: 14.6266 - val_loss: 532.7062 - val_mae: 14.1112\n",
      "Epoch 3/500\n",
      "\u001b[1m71/71\u001b[0m \u001b[32m━━━━━━━━━━━━━━━━━━━━\u001b[0m\u001b[37m\u001b[0m \u001b[1m1s\u001b[0m 14ms/step - loss: 579.7707 - mae: 14.6867 - val_loss: 527.8139 - val_mae: 14.0395\n",
      "Epoch 4/500\n",
      "\u001b[1m71/71\u001b[0m \u001b[32m━━━━━━━━━━━━━━━━━━━━\u001b[0m\u001b[37m\u001b[0m \u001b[1m1s\u001b[0m 14ms/step - loss: 545.6751 - mae: 13.9649 - val_loss: 533.9302 - val_mae: 14.9059\n",
      "Epoch 5/500\n",
      "\u001b[1m71/71\u001b[0m \u001b[32m━━━━━━━━━━━━━━━━━━━━\u001b[0m\u001b[37m\u001b[0m \u001b[1m1s\u001b[0m 13ms/step - loss: 480.5840 - mae: 13.7800 - val_loss: 520.7446 - val_mae: 14.4100\n",
      "Epoch 6/500\n",
      "\u001b[1m71/71\u001b[0m \u001b[32m━━━━━━━━━━━━━━━━━━━━\u001b[0m\u001b[37m\u001b[0m \u001b[1m1s\u001b[0m 13ms/step - loss: 449.5996 - mae: 12.9849 - val_loss: 520.3669 - val_mae: 14.0889\n",
      "Epoch 7/500\n",
      "\u001b[1m71/71\u001b[0m \u001b[32m━━━━━━━━━━━━━━━━━━━━\u001b[0m\u001b[37m\u001b[0m \u001b[1m1s\u001b[0m 18ms/step - loss: 428.7595 - mae: 12.2206 - val_loss: 523.6530 - val_mae: 14.1173\n",
      "Epoch 8/500\n",
      "\u001b[1m71/71\u001b[0m \u001b[32m━━━━━━━━━━━━━━━━━━━━\u001b[0m\u001b[37m\u001b[0m \u001b[1m3s\u001b[0m 20ms/step - loss: 420.7937 - mae: 12.0337 - val_loss: 552.4555 - val_mae: 14.4345\n",
      "Epoch 9/500\n",
      "\u001b[1m71/71\u001b[0m \u001b[32m━━━━━━━━━━━━━━━━━━━━\u001b[0m\u001b[37m\u001b[0m \u001b[1m1s\u001b[0m 14ms/step - loss: 415.3530 - mae: 11.9713 - val_loss: 558.2667 - val_mae: 14.3987\n",
      "Epoch 10/500\n",
      "\u001b[1m71/71\u001b[0m \u001b[32m━━━━━━━━━━━━━━━━━━━━\u001b[0m\u001b[37m\u001b[0m \u001b[1m1s\u001b[0m 13ms/step - loss: 404.5562 - mae: 11.8671 - val_loss: 558.7985 - val_mae: 14.5849\n",
      "Epoch 11/500\n",
      "\u001b[1m71/71\u001b[0m \u001b[32m━━━━━━━━━━━━━━━━━━━━\u001b[0m\u001b[37m\u001b[0m \u001b[1m1s\u001b[0m 14ms/step - loss: 396.3020 - mae: 11.8235 - val_loss: 589.5616 - val_mae: 14.8193\n",
      "Epoch 12/500\n",
      "\u001b[1m71/71\u001b[0m \u001b[32m━━━━━━━━━━━━━━━━━━━━\u001b[0m\u001b[37m\u001b[0m \u001b[1m1s\u001b[0m 13ms/step - loss: 386.8272 - mae: 11.7473 - val_loss: 613.3486 - val_mae: 15.0499\n",
      "Epoch 13/500\n",
      "\u001b[1m71/71\u001b[0m \u001b[32m━━━━━━━━━━━━━━━━━━━━\u001b[0m\u001b[37m\u001b[0m \u001b[1m1s\u001b[0m 14ms/step - loss: 383.0792 - mae: 11.6697 - val_loss: 616.4153 - val_mae: 14.9756\n",
      "Epoch 14/500\n",
      "\u001b[1m71/71\u001b[0m \u001b[32m━━━━━━━━━━━━━━━━━━━━\u001b[0m\u001b[37m\u001b[0m \u001b[1m1s\u001b[0m 13ms/step - loss: 381.7191 - mae: 11.6503 - val_loss: 627.4141 - val_mae: 15.2293\n",
      "Epoch 15/500\n",
      "\u001b[1m71/71\u001b[0m \u001b[32m━━━━━━━━━━━━━━━━━━━━\u001b[0m\u001b[37m\u001b[0m \u001b[1m1s\u001b[0m 13ms/step - loss: 366.4944 - mae: 11.5512 - val_loss: 648.4567 - val_mae: 15.3221\n",
      "Epoch 16/500\n",
      "\u001b[1m71/71\u001b[0m \u001b[32m━━━━━━━━━━━━━━━━━━━━\u001b[0m\u001b[37m\u001b[0m \u001b[1m1s\u001b[0m 14ms/step - loss: 359.4427 - mae: 11.4631 - val_loss: 646.7106 - val_mae: 15.4103\n",
      "Epoch 17/500\n",
      "\u001b[1m71/71\u001b[0m \u001b[32m━━━━━━━━━━━━━━━━━━━━\u001b[0m\u001b[37m\u001b[0m \u001b[1m1s\u001b[0m 15ms/step - loss: 351.8621 - mae: 11.3914 - val_loss: 635.0274 - val_mae: 15.2726\n",
      "Epoch 18/500\n",
      "\u001b[1m71/71\u001b[0m \u001b[32m━━━━━━━━━━━━━━━━━━━━\u001b[0m\u001b[37m\u001b[0m \u001b[1m2s\u001b[0m 19ms/step - loss: 337.8277 - mae: 11.1636 - val_loss: 646.6686 - val_mae: 14.9710\n",
      "Epoch 19/500\n",
      "\u001b[1m71/71\u001b[0m \u001b[32m━━━━━━━━━━━━━━━━━━━━\u001b[0m\u001b[37m\u001b[0m \u001b[1m2s\u001b[0m 14ms/step - loss: 329.3257 - mae: 10.9109 - val_loss: 655.4910 - val_mae: 14.7135\n",
      "Epoch 20/500\n",
      "\u001b[1m71/71\u001b[0m \u001b[32m━━━━━━━━━━━━━━━━━━━━\u001b[0m\u001b[37m\u001b[0m \u001b[1m1s\u001b[0m 13ms/step - loss: 313.5392 - mae: 10.4350 - val_loss: 684.9791 - val_mae: 14.6155\n",
      "Epoch 21/500\n",
      "\u001b[1m71/71\u001b[0m \u001b[32m━━━━━━━━━━━━━━━━━━━━\u001b[0m\u001b[37m\u001b[0m \u001b[1m1s\u001b[0m 14ms/step - loss: 302.7714 - mae: 10.1155 - val_loss: 651.0674 - val_mae: 14.1167\n",
      "Epoch 22/500\n",
      "\u001b[1m71/71\u001b[0m \u001b[32m━━━━━━━━━━━━━━━━━━━━\u001b[0m\u001b[37m\u001b[0m \u001b[1m1s\u001b[0m 14ms/step - loss: 292.1350 - mae: 9.8374 - val_loss: 621.0689 - val_mae: 13.4686\n",
      "Epoch 23/500\n",
      "\u001b[1m71/71\u001b[0m \u001b[32m━━━━━━━━━━━━━━━━━━━━\u001b[0m\u001b[37m\u001b[0m \u001b[1m1s\u001b[0m 13ms/step - loss: 288.1796 - mae: 9.7521 - val_loss: 710.9360 - val_mae: 14.2256\n",
      "Epoch 24/500\n",
      "\u001b[1m71/71\u001b[0m \u001b[32m━━━━━━━━━━━━━━━━━━━━\u001b[0m\u001b[37m\u001b[0m \u001b[1m1s\u001b[0m 13ms/step - loss: 277.7492 - mae: 9.5777 - val_loss: 661.0802 - val_mae: 13.8082\n",
      "Epoch 25/500\n",
      "\u001b[1m71/71\u001b[0m \u001b[32m━━━━━━━━━━━━━━━━━━━━\u001b[0m\u001b[37m\u001b[0m \u001b[1m1s\u001b[0m 14ms/step - loss: 271.0756 - mae: 9.4895 - val_loss: 604.9096 - val_mae: 13.2739\n",
      "Epoch 26/500\n",
      "\u001b[1m71/71\u001b[0m \u001b[32m━━━━━━━━━━━━━━━━━━━━\u001b[0m\u001b[37m\u001b[0m \u001b[1m1s\u001b[0m 14ms/step - loss: 267.8234 - mae: 9.4428 - val_loss: 661.0990 - val_mae: 13.6188\n",
      "Epoch 27/500\n",
      "\u001b[1m71/71\u001b[0m \u001b[32m━━━━━━━━━━━━━━━━━━━━\u001b[0m\u001b[37m\u001b[0m \u001b[1m1s\u001b[0m 14ms/step - loss: 260.2682 - mae: 9.3131 - val_loss: 626.8367 - val_mae: 13.3791\n",
      "Epoch 28/500\n",
      "\u001b[1m71/71\u001b[0m \u001b[32m━━━━━━━━━━━━━━━━━━━━\u001b[0m\u001b[37m\u001b[0m \u001b[1m1s\u001b[0m 19ms/step - loss: 258.2804 - mae: 9.2718 - val_loss: 752.7181 - val_mae: 14.7191\n",
      "Epoch 29/500\n",
      "\u001b[1m71/71\u001b[0m \u001b[32m━━━━━━━━━━━━━━━━━━━━\u001b[0m\u001b[37m\u001b[0m \u001b[1m1s\u001b[0m 20ms/step - loss: 266.1422 - mae: 9.4394 - val_loss: 584.9978 - val_mae: 12.3942\n",
      "Epoch 30/500\n",
      "\u001b[1m71/71\u001b[0m \u001b[32m━━━━━━━━━━━━━━━━━━━━\u001b[0m\u001b[37m\u001b[0m \u001b[1m1s\u001b[0m 20ms/step - loss: 257.6671 - mae: 9.2287 - val_loss: 603.4365 - val_mae: 13.1545\n",
      "Epoch 31/500\n",
      "\u001b[1m71/71\u001b[0m \u001b[32m━━━━━━━━━━━━━━━━━━━━\u001b[0m\u001b[37m\u001b[0m \u001b[1m2s\u001b[0m 13ms/step - loss: 253.1886 - mae: 9.1724 - val_loss: 681.9728 - val_mae: 13.7981\n",
      "Epoch 32/500\n",
      "\u001b[1m71/71\u001b[0m \u001b[32m━━━━━━━━━━━━━━━━━━━━\u001b[0m\u001b[37m\u001b[0m \u001b[1m1s\u001b[0m 13ms/step - loss: 243.9569 - mae: 9.0616 - val_loss: 754.2606 - val_mae: 14.4366\n",
      "Epoch 33/500\n",
      "\u001b[1m71/71\u001b[0m \u001b[32m━━━━━━━━━━━━━━━━━━━━\u001b[0m\u001b[37m\u001b[0m \u001b[1m1s\u001b[0m 13ms/step - loss: 239.2475 - mae: 8.9868 - val_loss: 716.4174 - val_mae: 14.1664\n",
      "Epoch 34/500\n",
      "\u001b[1m71/71\u001b[0m \u001b[32m━━━━━━━━━━━━━━━━━━━━\u001b[0m\u001b[37m\u001b[0m \u001b[1m1s\u001b[0m 13ms/step - loss: 235.2446 - mae: 8.9312 - val_loss: 766.6668 - val_mae: 14.7802\n",
      "Epoch 35/500\n",
      "\u001b[1m71/71\u001b[0m \u001b[32m━━━━━━━━━━━━━━━━━━━━\u001b[0m\u001b[37m\u001b[0m \u001b[1m1s\u001b[0m 13ms/step - loss: 230.6199 - mae: 8.8368 - val_loss: 778.4532 - val_mae: 14.7973\n",
      "Epoch 36/500\n",
      "\u001b[1m71/71\u001b[0m \u001b[32m━━━━━━━━━━━━━━━━━━━━\u001b[0m\u001b[37m\u001b[0m \u001b[1m1s\u001b[0m 13ms/step - loss: 227.2647 - mae: 8.7739 - val_loss: 760.2271 - val_mae: 15.1732\n",
      "Epoch 37/500\n",
      "\u001b[1m71/71\u001b[0m \u001b[32m━━━━━━━━━━━━━━━━━━━━\u001b[0m\u001b[37m\u001b[0m \u001b[1m1s\u001b[0m 13ms/step - loss: 222.7419 - mae: 8.7042 - val_loss: 776.7976 - val_mae: 15.2059\n",
      "Epoch 38/500\n",
      "\u001b[1m71/71\u001b[0m \u001b[32m━━━━━━━━━━━━━━━━━━━━\u001b[0m\u001b[37m\u001b[0m \u001b[1m1s\u001b[0m 14ms/step - loss: 214.9912 - mae: 8.5763 - val_loss: 692.9037 - val_mae: 14.3121\n",
      "Epoch 39/500\n",
      "\u001b[1m71/71\u001b[0m \u001b[32m━━━━━━━━━━━━━━━━━━━━\u001b[0m\u001b[37m\u001b[0m \u001b[1m2s\u001b[0m 17ms/step - loss: 211.8637 - mae: 8.5451 - val_loss: 649.3354 - val_mae: 13.8926\n",
      "Epoch 40/500\n",
      "\u001b[1m71/71\u001b[0m \u001b[32m━━━━━━━━━━━━━━━━━━━━\u001b[0m\u001b[37m\u001b[0m \u001b[1m1s\u001b[0m 20ms/step - loss: 212.8019 - mae: 8.5714 - val_loss: 774.2065 - val_mae: 15.1313\n",
      "Epoch 41/500\n",
      "\u001b[1m71/71\u001b[0m \u001b[32m━━━━━━━━━━━━━━━━━━━━\u001b[0m\u001b[37m\u001b[0m \u001b[1m2s\u001b[0m 14ms/step - loss: 205.5888 - mae: 8.4285 - val_loss: 714.4977 - val_mae: 14.3688\n",
      "Epoch 42/500\n",
      "\u001b[1m71/71\u001b[0m \u001b[32m━━━━━━━━━━━━━━━━━━━━\u001b[0m\u001b[37m\u001b[0m \u001b[1m1s\u001b[0m 13ms/step - loss: 204.9844 - mae: 8.4833 - val_loss: 663.0911 - val_mae: 14.2114\n",
      "Epoch 43/500\n",
      "\u001b[1m71/71\u001b[0m \u001b[32m━━━━━━━━━━━━━━━━━━━━\u001b[0m\u001b[37m\u001b[0m \u001b[1m1s\u001b[0m 13ms/step - loss: 197.8049 - mae: 8.3371 - val_loss: 790.7497 - val_mae: 15.4353\n",
      "Epoch 44/500\n",
      "\u001b[1m71/71\u001b[0m \u001b[32m━━━━━━━━━━━━━━━━━━━━\u001b[0m\u001b[37m\u001b[0m \u001b[1m1s\u001b[0m 13ms/step - loss: 192.7877 - mae: 8.2690 - val_loss: 760.4597 - val_mae: 15.1130\n",
      "Epoch 45/500\n",
      "\u001b[1m71/71\u001b[0m \u001b[32m━━━━━━━━━━━━━━━━━━━━\u001b[0m\u001b[37m\u001b[0m \u001b[1m1s\u001b[0m 14ms/step - loss: 189.7789 - mae: 8.2845 - val_loss: 788.0078 - val_mae: 15.6205\n",
      "Epoch 46/500\n",
      "\u001b[1m71/71\u001b[0m \u001b[32m━━━━━━━━━━━━━━━━━━━━\u001b[0m\u001b[37m\u001b[0m \u001b[1m1s\u001b[0m 13ms/step - loss: 188.8167 - mae: 8.2609 - val_loss: 788.7842 - val_mae: 15.1849\n",
      "Epoch 47/500\n",
      "\u001b[1m71/71\u001b[0m \u001b[32m━━━━━━━━━━━━━━━━━━━━\u001b[0m\u001b[37m\u001b[0m \u001b[1m1s\u001b[0m 13ms/step - loss: 184.7971 - mae: 8.1942 - val_loss: 739.6937 - val_mae: 14.6446\n",
      "Epoch 48/500\n",
      "\u001b[1m71/71\u001b[0m \u001b[32m━━━━━━━━━━━━━━━━━━━━\u001b[0m\u001b[37m\u001b[0m \u001b[1m1s\u001b[0m 13ms/step - loss: 182.3626 - mae: 8.1567 - val_loss: 744.9456 - val_mae: 15.0143\n",
      "Epoch 49/500\n",
      "\u001b[1m71/71\u001b[0m \u001b[32m━━━━━━━━━━━━━━━━━━━━\u001b[0m\u001b[37m\u001b[0m \u001b[1m2s\u001b[0m 18ms/step - loss: 189.2320 - mae: 8.2965 - val_loss: 741.3324 - val_mae: 14.3467\n",
      "Epoch 50/500\n",
      "\u001b[1m71/71\u001b[0m \u001b[32m━━━━━━━━━━━━━━━━━━━━\u001b[0m\u001b[37m\u001b[0m \u001b[1m1s\u001b[0m 20ms/step - loss: 186.9076 - mae: 8.2488 - val_loss: 817.5258 - val_mae: 15.2208\n",
      "Epoch 51/500\n",
      "\u001b[1m71/71\u001b[0m \u001b[32m━━━━━━━━━━━━━━━━━━━━\u001b[0m\u001b[37m\u001b[0m \u001b[1m2s\u001b[0m 14ms/step - loss: 178.4651 - mae: 8.0762 - val_loss: 746.2400 - val_mae: 14.9627\n",
      "Epoch 52/500\n",
      "\u001b[1m71/71\u001b[0m \u001b[32m━━━━━━━━━━━━━━━━━━━━\u001b[0m\u001b[37m\u001b[0m \u001b[1m1s\u001b[0m 13ms/step - loss: 187.5275 - mae: 8.2123 - val_loss: 839.9669 - val_mae: 15.5695\n",
      "Epoch 53/500\n",
      "\u001b[1m71/71\u001b[0m \u001b[32m━━━━━━━━━━━━━━━━━━━━\u001b[0m\u001b[37m\u001b[0m \u001b[1m1s\u001b[0m 13ms/step - loss: 172.9305 - mae: 7.8659 - val_loss: 799.8001 - val_mae: 15.0299\n",
      "Epoch 54/500\n",
      "\u001b[1m71/71\u001b[0m \u001b[32m━━━━━━━━━━━━━━━━━━━━\u001b[0m\u001b[37m\u001b[0m \u001b[1m1s\u001b[0m 13ms/step - loss: 162.6485 - mae: 7.6240 - val_loss: 763.0726 - val_mae: 14.6006\n",
      "Epoch 55/500\n",
      "\u001b[1m71/71\u001b[0m \u001b[32m━━━━━━━━━━━━━━━━━━━━\u001b[0m\u001b[37m\u001b[0m \u001b[1m1s\u001b[0m 14ms/step - loss: 157.6791 - mae: 7.5300 - val_loss: 785.5508 - val_mae: 15.0213\n",
      "Epoch 56/500\n",
      "\u001b[1m71/71\u001b[0m \u001b[32m━━━━━━━━━━━━━━━━━━━━\u001b[0m\u001b[37m\u001b[0m \u001b[1m1s\u001b[0m 14ms/step - loss: 154.1646 - mae: 7.4380 - val_loss: 799.0438 - val_mae: 14.7531\n",
      "Epoch 57/500\n",
      "\u001b[1m71/71\u001b[0m \u001b[32m━━━━━━━━━━━━━━━━━━━━\u001b[0m\u001b[37m\u001b[0m \u001b[1m1s\u001b[0m 13ms/step - loss: 152.0525 - mae: 7.3820 - val_loss: 788.4095 - val_mae: 14.7249\n",
      "Epoch 58/500\n",
      "\u001b[1m71/71\u001b[0m \u001b[32m━━━━━━━━━━━━━━━━━━━━\u001b[0m\u001b[37m\u001b[0m \u001b[1m1s\u001b[0m 14ms/step - loss: 149.6206 - mae: 7.3303 - val_loss: 750.7562 - val_mae: 14.0124\n",
      "Epoch 59/500\n",
      "\u001b[1m71/71\u001b[0m \u001b[32m━━━━━━━━━━━━━━━━━━━━\u001b[0m\u001b[37m\u001b[0m \u001b[1m1s\u001b[0m 13ms/step - loss: 146.0562 - mae: 7.2188 - val_loss: 713.8681 - val_mae: 13.8238\n",
      "Epoch 60/500\n",
      "\u001b[1m71/71\u001b[0m \u001b[32m━━━━━━━━━━━━━━━━━━━━\u001b[0m\u001b[37m\u001b[0m \u001b[1m1s\u001b[0m 19ms/step - loss: 143.9275 - mae: 7.1775 - val_loss: 742.3696 - val_mae: 14.0780\n",
      "Epoch 61/500\n",
      "\u001b[1m71/71\u001b[0m \u001b[32m━━━━━━━━━━━━━━━━━━━━\u001b[0m\u001b[37m\u001b[0m \u001b[1m3s\u001b[0m 22ms/step - loss: 143.0308 - mae: 7.1654 - val_loss: 713.6257 - val_mae: 13.6038\n",
      "Epoch 62/500\n",
      "\u001b[1m71/71\u001b[0m \u001b[32m━━━━━━━━━━━━━━━━━━━━\u001b[0m\u001b[37m\u001b[0m \u001b[1m2s\u001b[0m 21ms/step - loss: 140.2969 - mae: 7.0790 - val_loss: 688.7412 - val_mae: 13.3663\n",
      "Epoch 63/500\n",
      "\u001b[1m71/71\u001b[0m \u001b[32m━━━━━━━━━━━━━━━━━━━━\u001b[0m\u001b[37m\u001b[0m \u001b[1m2s\u001b[0m 13ms/step - loss: 144.1178 - mae: 7.1636 - val_loss: 699.7783 - val_mae: 13.4850\n",
      "Epoch 64/500\n",
      "\u001b[1m71/71\u001b[0m \u001b[32m━━━━━━━━━━━━━━━━━━━━\u001b[0m\u001b[37m\u001b[0m \u001b[1m1s\u001b[0m 13ms/step - loss: 140.4784 - mae: 7.0741 - val_loss: 680.3046 - val_mae: 13.1889\n",
      "Epoch 65/500\n",
      "\u001b[1m71/71\u001b[0m \u001b[32m━━━━━━━━━━━━━━━━━━━━\u001b[0m\u001b[37m\u001b[0m \u001b[1m1s\u001b[0m 13ms/step - loss: 136.5474 - mae: 6.9860 - val_loss: 677.1089 - val_mae: 13.1130\n",
      "Epoch 66/500\n",
      "\u001b[1m71/71\u001b[0m \u001b[32m━━━━━━━━━━━━━━━━━━━━\u001b[0m\u001b[37m\u001b[0m \u001b[1m1s\u001b[0m 14ms/step - loss: 132.5075 - mae: 6.8676 - val_loss: 752.1661 - val_mae: 13.8087\n",
      "Epoch 67/500\n",
      "\u001b[1m71/71\u001b[0m \u001b[32m━━━━━━━━━━━━━━━━━━━━\u001b[0m\u001b[37m\u001b[0m \u001b[1m1s\u001b[0m 14ms/step - loss: 132.9322 - mae: 6.8458 - val_loss: 699.6519 - val_mae: 13.2729\n",
      "Epoch 68/500\n",
      "\u001b[1m71/71\u001b[0m \u001b[32m━━━━━━━━━━━━━━━━━━━━\u001b[0m\u001b[37m\u001b[0m \u001b[1m1s\u001b[0m 14ms/step - loss: 130.3612 - mae: 6.7965 - val_loss: 738.7641 - val_mae: 13.6127\n",
      "Epoch 69/500\n",
      "\u001b[1m71/71\u001b[0m \u001b[32m━━━━━━━━━━━━━━━━━━━━\u001b[0m\u001b[37m\u001b[0m \u001b[1m1s\u001b[0m 16ms/step - loss: 129.0890 - mae: 6.7428 - val_loss: 720.2272 - val_mae: 13.3682\n",
      "Epoch 70/500\n",
      "\u001b[1m71/71\u001b[0m \u001b[32m━━━━━━━━━━━━━━━━━━━━\u001b[0m\u001b[37m\u001b[0m \u001b[1m1s\u001b[0m 20ms/step - loss: 127.7841 - mae: 6.7162 - val_loss: 730.4052 - val_mae: 13.5535\n",
      "Epoch 71/500\n",
      "\u001b[1m71/71\u001b[0m \u001b[32m━━━━━━━━━━━━━━━━━━━━\u001b[0m\u001b[37m\u001b[0m \u001b[1m2s\u001b[0m 21ms/step - loss: 129.7159 - mae: 6.7691 - val_loss: 765.9833 - val_mae: 14.0248\n",
      "Epoch 72/500\n",
      "\u001b[1m71/71\u001b[0m \u001b[32m━━━━━━━━━━━━━━━━━━━━\u001b[0m\u001b[37m\u001b[0m \u001b[1m2s\u001b[0m 14ms/step - loss: 134.9705 - mae: 6.8963 - val_loss: 728.4347 - val_mae: 13.6964\n",
      "Epoch 73/500\n",
      "\u001b[1m71/71\u001b[0m \u001b[32m━━━━━━━━━━━━━━━━━━━━\u001b[0m\u001b[37m\u001b[0m \u001b[1m1s\u001b[0m 13ms/step - loss: 133.0440 - mae: 6.8519 - val_loss: 666.3496 - val_mae: 13.0895\n",
      "Epoch 74/500\n",
      "\u001b[1m71/71\u001b[0m \u001b[32m━━━━━━━━━━━━━━━━━━━━\u001b[0m\u001b[37m\u001b[0m \u001b[1m1s\u001b[0m 13ms/step - loss: 130.2297 - mae: 6.7579 - val_loss: 719.9471 - val_mae: 13.6552\n",
      "Epoch 75/500\n",
      "\u001b[1m71/71\u001b[0m \u001b[32m━━━━━━━━━━━━━━━━━━━━\u001b[0m\u001b[37m\u001b[0m \u001b[1m1s\u001b[0m 14ms/step - loss: 130.3876 - mae: 6.7618 - val_loss: 723.2563 - val_mae: 13.6558\n",
      "Epoch 76/500\n",
      "\u001b[1m71/71\u001b[0m \u001b[32m━━━━━━━━━━━━━━━━━━━━\u001b[0m\u001b[37m\u001b[0m \u001b[1m1s\u001b[0m 14ms/step - loss: 124.3644 - mae: 6.6146 - val_loss: 702.5505 - val_mae: 13.3089\n",
      "Epoch 77/500\n",
      "\u001b[1m71/71\u001b[0m \u001b[32m━━━━━━━━━━━━━━━━━━━━\u001b[0m\u001b[37m\u001b[0m \u001b[1m1s\u001b[0m 13ms/step - loss: 123.2525 - mae: 6.5698 - val_loss: 721.0261 - val_mae: 13.6094\n",
      "Epoch 78/500\n",
      "\u001b[1m71/71\u001b[0m \u001b[32m━━━━━━━━━━━━━━━━━━━━\u001b[0m\u001b[37m\u001b[0m \u001b[1m1s\u001b[0m 14ms/step - loss: 123.3316 - mae: 6.5842 - val_loss: 742.5577 - val_mae: 13.6962\n",
      "Epoch 79/500\n",
      "\u001b[1m71/71\u001b[0m \u001b[32m━━━━━━━━━━━━━━━━━━━━\u001b[0m\u001b[37m\u001b[0m \u001b[1m1s\u001b[0m 14ms/step - loss: 121.2032 - mae: 6.5458 - val_loss: 752.6964 - val_mae: 13.8624\n",
      "Epoch 80/500\n",
      "\u001b[1m71/71\u001b[0m \u001b[32m━━━━━━━━━━━━━━━━━━━━\u001b[0m\u001b[37m\u001b[0m \u001b[1m1s\u001b[0m 18ms/step - loss: 120.1984 - mae: 6.5021 - val_loss: 727.8221 - val_mae: 13.6529\n",
      "Epoch 81/500\n",
      "\u001b[1m71/71\u001b[0m \u001b[32m━━━━━━━━━━━━━━━━━━━━\u001b[0m\u001b[37m\u001b[0m \u001b[1m3s\u001b[0m 20ms/step - loss: 119.4233 - mae: 6.4659 - val_loss: 750.1924 - val_mae: 13.8035\n",
      "Epoch 82/500\n",
      "\u001b[1m71/71\u001b[0m \u001b[32m━━━━━━━━━━━━━━━━━━━━\u001b[0m\u001b[37m\u001b[0m \u001b[1m2s\u001b[0m 15ms/step - loss: 119.0389 - mae: 6.4635 - val_loss: 761.1088 - val_mae: 14.0566\n",
      "Epoch 83/500\n",
      "\u001b[1m71/71\u001b[0m \u001b[32m━━━━━━━━━━━━━━━━━━━━\u001b[0m\u001b[37m\u001b[0m \u001b[1m1s\u001b[0m 14ms/step - loss: 118.5745 - mae: 6.4476 - val_loss: 777.5616 - val_mae: 14.1831\n",
      "Epoch 84/500\n",
      "\u001b[1m71/71\u001b[0m \u001b[32m━━━━━━━━━━━━━━━━━━━━\u001b[0m\u001b[37m\u001b[0m \u001b[1m1s\u001b[0m 14ms/step - loss: 118.0449 - mae: 6.4246 - val_loss: 757.7990 - val_mae: 13.9363\n",
      "Epoch 85/500\n",
      "\u001b[1m71/71\u001b[0m \u001b[32m━━━━━━━━━━━━━━━━━━━━\u001b[0m\u001b[37m\u001b[0m \u001b[1m1s\u001b[0m 14ms/step - loss: 117.0704 - mae: 6.3977 - val_loss: 725.9466 - val_mae: 13.5892\n",
      "Epoch 86/500\n",
      "\u001b[1m71/71\u001b[0m \u001b[32m━━━━━━━━━━━━━━━━━━━━\u001b[0m\u001b[37m\u001b[0m \u001b[1m1s\u001b[0m 14ms/step - loss: 116.9490 - mae: 6.3806 - val_loss: 783.0245 - val_mae: 14.1458\n",
      "Epoch 87/500\n",
      "\u001b[1m71/71\u001b[0m \u001b[32m━━━━━━━━━━━━━━━━━━━━\u001b[0m\u001b[37m\u001b[0m \u001b[1m1s\u001b[0m 13ms/step - loss: 115.4826 - mae: 6.3389 - val_loss: 776.6594 - val_mae: 14.0436\n",
      "Epoch 88/500\n",
      "\u001b[1m71/71\u001b[0m \u001b[32m━━━━━━━━━━━━━━━━━━━━\u001b[0m\u001b[37m\u001b[0m \u001b[1m1s\u001b[0m 14ms/step - loss: 114.4761 - mae: 6.3074 - val_loss: 789.1490 - val_mae: 14.1531\n",
      "Epoch 89/500\n",
      "\u001b[1m71/71\u001b[0m \u001b[32m━━━━━━━━━━━━━━━━━━━━\u001b[0m\u001b[37m\u001b[0m \u001b[1m1s\u001b[0m 14ms/step - loss: 116.0969 - mae: 6.3583 - val_loss: 799.4343 - val_mae: 14.4774\n",
      "Epoch 90/500\n",
      "\u001b[1m71/71\u001b[0m \u001b[32m━━━━━━━━━━━━━━━━━━━━\u001b[0m\u001b[37m\u001b[0m \u001b[1m2s\u001b[0m 20ms/step - loss: 115.2018 - mae: 6.3187 - val_loss: 752.6325 - val_mae: 13.9782\n",
      "Epoch 91/500\n",
      "\u001b[1m71/71\u001b[0m \u001b[32m━━━━━━━━━━━━━━━━━━━━\u001b[0m\u001b[37m\u001b[0m \u001b[1m1s\u001b[0m 20ms/step - loss: 114.8277 - mae: 6.3277 - val_loss: 786.7808 - val_mae: 14.1489\n",
      "Epoch 92/500\n",
      "\u001b[1m71/71\u001b[0m \u001b[32m━━━━━━━━━━━━━━━━━━━━\u001b[0m\u001b[37m\u001b[0m \u001b[1m2s\u001b[0m 21ms/step - loss: 118.7370 - mae: 6.4057 - val_loss: 829.1896 - val_mae: 14.4063\n",
      "Epoch 93/500\n",
      "\u001b[1m71/71\u001b[0m \u001b[32m━━━━━━━━━━━━━━━━━━━━\u001b[0m\u001b[37m\u001b[0m \u001b[1m2s\u001b[0m 15ms/step - loss: 116.4550 - mae: 6.3436 - val_loss: 856.9421 - val_mae: 15.1121\n",
      "Epoch 94/500\n",
      "\u001b[1m71/71\u001b[0m \u001b[32m━━━━━━━━━━━━━━━━━━━━\u001b[0m\u001b[37m\u001b[0m \u001b[1m1s\u001b[0m 14ms/step - loss: 119.1456 - mae: 6.4245 - val_loss: 774.6254 - val_mae: 14.2726\n",
      "Epoch 95/500\n",
      "\u001b[1m71/71\u001b[0m \u001b[32m━━━━━━━━━━━━━━━━━━━━\u001b[0m\u001b[37m\u001b[0m \u001b[1m1s\u001b[0m 14ms/step - loss: 116.2714 - mae: 6.3434 - val_loss: 825.3517 - val_mae: 14.5832\n",
      "Epoch 96/500\n",
      "\u001b[1m71/71\u001b[0m \u001b[32m━━━━━━━━━━━━━━━━━━━━\u001b[0m\u001b[37m\u001b[0m \u001b[1m1s\u001b[0m 14ms/step - loss: 112.5843 - mae: 6.2261 - val_loss: 821.0826 - val_mae: 14.6027\n",
      "Epoch 97/500\n",
      "\u001b[1m71/71\u001b[0m \u001b[32m━━━━━━━━━━━━━━━━━━━━\u001b[0m\u001b[37m\u001b[0m \u001b[1m1s\u001b[0m 13ms/step - loss: 132.0446 - mae: 6.6730 - val_loss: 736.0494 - val_mae: 13.8296\n",
      "Epoch 98/500\n",
      "\u001b[1m71/71\u001b[0m \u001b[32m━━━━━━━━━━━━━━━━━━━━\u001b[0m\u001b[37m\u001b[0m \u001b[1m1s\u001b[0m 14ms/step - loss: 149.5969 - mae: 7.0690 - val_loss: 871.3635 - val_mae: 15.2040\n",
      "Epoch 99/500\n",
      "\u001b[1m71/71\u001b[0m \u001b[32m━━━━━━━━━━━━━━━━━━━━\u001b[0m\u001b[37m\u001b[0m \u001b[1m1s\u001b[0m 14ms/step - loss: 125.0674 - mae: 6.5381 - val_loss: 801.4042 - val_mae: 14.5244\n",
      "Epoch 100/500\n",
      "\u001b[1m71/71\u001b[0m \u001b[32m━━━━━━━━━━━━━━━━━━━━\u001b[0m\u001b[37m\u001b[0m \u001b[1m2s\u001b[0m 18ms/step - loss: 116.6487 - mae: 6.3483 - val_loss: 792.0053 - val_mae: 14.3153\n",
      "Epoch 101/500\n",
      "\u001b[1m71/71\u001b[0m \u001b[32m━━━━━━━━━━━━━━━━━━━━\u001b[0m\u001b[37m\u001b[0m \u001b[1m3s\u001b[0m 22ms/step - loss: 109.1267 - mae: 6.1616 - val_loss: 814.7827 - val_mae: 14.6435\n",
      "Epoch 102/500\n",
      "\u001b[1m71/71\u001b[0m \u001b[32m━━━━━━━━━━━━━━━━━━━━\u001b[0m\u001b[37m\u001b[0m \u001b[1m2s\u001b[0m 14ms/step - loss: 104.9818 - mae: 6.0763 - val_loss: 853.5534 - val_mae: 14.9348\n",
      "Epoch 103/500\n",
      "\u001b[1m71/71\u001b[0m \u001b[32m━━━━━━━━━━━━━━━━━━━━\u001b[0m\u001b[37m\u001b[0m \u001b[1m1s\u001b[0m 14ms/step - loss: 103.6835 - mae: 6.0401 - val_loss: 806.1596 - val_mae: 14.6255\n",
      "Epoch 104/500\n",
      "\u001b[1m71/71\u001b[0m \u001b[32m━━━━━━━━━━━━━━━━━━━━\u001b[0m\u001b[37m\u001b[0m \u001b[1m1s\u001b[0m 14ms/step - loss: 101.2469 - mae: 5.9858 - val_loss: 834.6027 - val_mae: 14.8304\n",
      "Epoch 105/500\n",
      "\u001b[1m71/71\u001b[0m \u001b[32m━━━━━━━━━━━━━━━━━━━━\u001b[0m\u001b[37m\u001b[0m \u001b[1m1s\u001b[0m 13ms/step - loss: 99.4899 - mae: 5.9386 - val_loss: 835.6418 - val_mae: 14.9161\n",
      "Epoch 106/500\n",
      "\u001b[1m71/71\u001b[0m \u001b[32m━━━━━━━━━━━━━━━━━━━━\u001b[0m\u001b[37m\u001b[0m \u001b[1m1s\u001b[0m 13ms/step - loss: 98.0141 - mae: 5.9007 - val_loss: 854.5319 - val_mae: 15.0652\n"
     ]
    }
   ],
   "source": [
    "model = init_model(X_train, y_train)\n",
    "model.summary()\n",
    "\n",
    "# 2 - Training\n",
    "# ====================================\n",
    "model, history = fit_model(model)"
   ]
  },
  {
   "cell_type": "code",
   "execution_count": 58,
   "id": "ZsQcZ3wp02yt",
   "metadata": {
    "colab": {
     "base_uri": "https://localhost:8080/",
     "height": 963
    },
    "executionInfo": {
     "elapsed": 37783,
     "status": "ok",
     "timestamp": 1732798974627,
     "user": {
      "displayName": "Carl Bechtolsheim",
      "userId": "09155195766587467337"
     },
     "user_tz": -60
    },
    "id": "ZsQcZ3wp02yt",
    "outputId": "c500178d-244e-41ee-9b76-2b675f84a9a7"
   },
   "outputs": [
    {
     "data": {
      "text/html": [
       "<pre style=\"white-space:pre;overflow-x:auto;line-height:normal;font-family:Menlo,'DejaVu Sans Mono',consolas,'Courier New',monospace\"><span style=\"font-weight: bold\">Model: \"sequential_16\"</span>\n",
       "</pre>\n"
      ],
      "text/plain": [
       "\u001b[1mModel: \"sequential_16\"\u001b[0m\n"
      ]
     },
     "metadata": {},
     "output_type": "display_data"
    },
    {
     "data": {
      "text/html": [
       "<pre style=\"white-space:pre;overflow-x:auto;line-height:normal;font-family:Menlo,'DejaVu Sans Mono',consolas,'Courier New',monospace\">┏━━━━━━━━━━━━━━━━━━━━━━━━━━━━━━━━━━━━━━┳━━━━━━━━━━━━━━━━━━━━━━━━━━━━━┳━━━━━━━━━━━━━━━━━┓\n",
       "┃<span style=\"font-weight: bold\"> Layer (type)                         </span>┃<span style=\"font-weight: bold\"> Output Shape                </span>┃<span style=\"font-weight: bold\">         Param # </span>┃\n",
       "┡━━━━━━━━━━━━━━━━━━━━━━━━━━━━━━━━━━━━━━╇━━━━━━━━━━━━━━━━━━━━━━━━━━━━━╇━━━━━━━━━━━━━━━━━┩\n",
       "│ lstm_30 (<span style=\"color: #0087ff; text-decoration-color: #0087ff\">LSTM</span>)                       │ (<span style=\"color: #00d7ff; text-decoration-color: #00d7ff\">None</span>, <span style=\"color: #00af00; text-decoration-color: #00af00\">120</span>, <span style=\"color: #00af00; text-decoration-color: #00af00\">32</span>)             │          <span style=\"color: #00af00; text-decoration-color: #00af00\">11,008</span> │\n",
       "├──────────────────────────────────────┼─────────────────────────────┼─────────────────┤\n",
       "│ dropout_1 (<span style=\"color: #0087ff; text-decoration-color: #0087ff\">Dropout</span>)                  │ (<span style=\"color: #00d7ff; text-decoration-color: #00d7ff\">None</span>, <span style=\"color: #00af00; text-decoration-color: #00af00\">120</span>, <span style=\"color: #00af00; text-decoration-color: #00af00\">32</span>)             │               <span style=\"color: #00af00; text-decoration-color: #00af00\">0</span> │\n",
       "├──────────────────────────────────────┼─────────────────────────────┼─────────────────┤\n",
       "│ lstm_31 (<span style=\"color: #0087ff; text-decoration-color: #0087ff\">LSTM</span>)                       │ (<span style=\"color: #00d7ff; text-decoration-color: #00d7ff\">None</span>, <span style=\"color: #00af00; text-decoration-color: #00af00\">120</span>, <span style=\"color: #00af00; text-decoration-color: #00af00\">16</span>)             │           <span style=\"color: #00af00; text-decoration-color: #00af00\">3,136</span> │\n",
       "├──────────────────────────────────────┼─────────────────────────────┼─────────────────┤\n",
       "│ lambda_4 (<span style=\"color: #0087ff; text-decoration-color: #0087ff\">Lambda</span>)                    │ (<span style=\"color: #00d7ff; text-decoration-color: #00d7ff\">None</span>, <span style=\"color: #00af00; text-decoration-color: #00af00\">12</span>, <span style=\"color: #00af00; text-decoration-color: #00af00\">16</span>)              │               <span style=\"color: #00af00; text-decoration-color: #00af00\">0</span> │\n",
       "├──────────────────────────────────────┼─────────────────────────────┼─────────────────┤\n",
       "│ time_distributed_17                  │ (<span style=\"color: #00d7ff; text-decoration-color: #00d7ff\">None</span>, <span style=\"color: #00af00; text-decoration-color: #00af00\">12</span>, <span style=\"color: #00af00; text-decoration-color: #00af00\">64</span>)              │           <span style=\"color: #00af00; text-decoration-color: #00af00\">1,088</span> │\n",
       "│ (<span style=\"color: #0087ff; text-decoration-color: #0087ff\">TimeDistributed</span>)                    │                             │                 │\n",
       "├──────────────────────────────────────┼─────────────────────────────┼─────────────────┤\n",
       "│ time_distributed_18                  │ (<span style=\"color: #00d7ff; text-decoration-color: #00d7ff\">None</span>, <span style=\"color: #00af00; text-decoration-color: #00af00\">12</span>, <span style=\"color: #00af00; text-decoration-color: #00af00\">3</span>)               │             <span style=\"color: #00af00; text-decoration-color: #00af00\">195</span> │\n",
       "│ (<span style=\"color: #0087ff; text-decoration-color: #0087ff\">TimeDistributed</span>)                    │                             │                 │\n",
       "└──────────────────────────────────────┴─────────────────────────────┴─────────────────┘\n",
       "</pre>\n"
      ],
      "text/plain": [
       "┏━━━━━━━━━━━━━━━━━━━━━━━━━━━━━━━━━━━━━━┳━━━━━━━━━━━━━━━━━━━━━━━━━━━━━┳━━━━━━━━━━━━━━━━━┓\n",
       "┃\u001b[1m \u001b[0m\u001b[1mLayer (type)                        \u001b[0m\u001b[1m \u001b[0m┃\u001b[1m \u001b[0m\u001b[1mOutput Shape               \u001b[0m\u001b[1m \u001b[0m┃\u001b[1m \u001b[0m\u001b[1m        Param #\u001b[0m\u001b[1m \u001b[0m┃\n",
       "┡━━━━━━━━━━━━━━━━━━━━━━━━━━━━━━━━━━━━━━╇━━━━━━━━━━━━━━━━━━━━━━━━━━━━━╇━━━━━━━━━━━━━━━━━┩\n",
       "│ lstm_30 (\u001b[38;5;33mLSTM\u001b[0m)                       │ (\u001b[38;5;45mNone\u001b[0m, \u001b[38;5;34m120\u001b[0m, \u001b[38;5;34m32\u001b[0m)             │          \u001b[38;5;34m11,008\u001b[0m │\n",
       "├──────────────────────────────────────┼─────────────────────────────┼─────────────────┤\n",
       "│ dropout_1 (\u001b[38;5;33mDropout\u001b[0m)                  │ (\u001b[38;5;45mNone\u001b[0m, \u001b[38;5;34m120\u001b[0m, \u001b[38;5;34m32\u001b[0m)             │               \u001b[38;5;34m0\u001b[0m │\n",
       "├──────────────────────────────────────┼─────────────────────────────┼─────────────────┤\n",
       "│ lstm_31 (\u001b[38;5;33mLSTM\u001b[0m)                       │ (\u001b[38;5;45mNone\u001b[0m, \u001b[38;5;34m120\u001b[0m, \u001b[38;5;34m16\u001b[0m)             │           \u001b[38;5;34m3,136\u001b[0m │\n",
       "├──────────────────────────────────────┼─────────────────────────────┼─────────────────┤\n",
       "│ lambda_4 (\u001b[38;5;33mLambda\u001b[0m)                    │ (\u001b[38;5;45mNone\u001b[0m, \u001b[38;5;34m12\u001b[0m, \u001b[38;5;34m16\u001b[0m)              │               \u001b[38;5;34m0\u001b[0m │\n",
       "├──────────────────────────────────────┼─────────────────────────────┼─────────────────┤\n",
       "│ time_distributed_17                  │ (\u001b[38;5;45mNone\u001b[0m, \u001b[38;5;34m12\u001b[0m, \u001b[38;5;34m64\u001b[0m)              │           \u001b[38;5;34m1,088\u001b[0m │\n",
       "│ (\u001b[38;5;33mTimeDistributed\u001b[0m)                    │                             │                 │\n",
       "├──────────────────────────────────────┼─────────────────────────────┼─────────────────┤\n",
       "│ time_distributed_18                  │ (\u001b[38;5;45mNone\u001b[0m, \u001b[38;5;34m12\u001b[0m, \u001b[38;5;34m3\u001b[0m)               │             \u001b[38;5;34m195\u001b[0m │\n",
       "│ (\u001b[38;5;33mTimeDistributed\u001b[0m)                    │                             │                 │\n",
       "└──────────────────────────────────────┴─────────────────────────────┴─────────────────┘\n"
      ]
     },
     "metadata": {},
     "output_type": "display_data"
    },
    {
     "data": {
      "text/html": [
       "<pre style=\"white-space:pre;overflow-x:auto;line-height:normal;font-family:Menlo,'DejaVu Sans Mono',consolas,'Courier New',monospace\"><span style=\"font-weight: bold\"> Total params: </span><span style=\"color: #00af00; text-decoration-color: #00af00\">15,427</span> (60.26 KB)\n",
       "</pre>\n"
      ],
      "text/plain": [
       "\u001b[1m Total params: \u001b[0m\u001b[38;5;34m15,427\u001b[0m (60.26 KB)\n"
      ]
     },
     "metadata": {},
     "output_type": "display_data"
    },
    {
     "data": {
      "text/html": [
       "<pre style=\"white-space:pre;overflow-x:auto;line-height:normal;font-family:Menlo,'DejaVu Sans Mono',consolas,'Courier New',monospace\"><span style=\"font-weight: bold\"> Trainable params: </span><span style=\"color: #00af00; text-decoration-color: #00af00\">15,427</span> (60.26 KB)\n",
       "</pre>\n"
      ],
      "text/plain": [
       "\u001b[1m Trainable params: \u001b[0m\u001b[38;5;34m15,427\u001b[0m (60.26 KB)\n"
      ]
     },
     "metadata": {},
     "output_type": "display_data"
    },
    {
     "data": {
      "text/html": [
       "<pre style=\"white-space:pre;overflow-x:auto;line-height:normal;font-family:Menlo,'DejaVu Sans Mono',consolas,'Courier New',monospace\"><span style=\"font-weight: bold\"> Non-trainable params: </span><span style=\"color: #00af00; text-decoration-color: #00af00\">0</span> (0.00 B)\n",
       "</pre>\n"
      ],
      "text/plain": [
       "\u001b[1m Non-trainable params: \u001b[0m\u001b[38;5;34m0\u001b[0m (0.00 B)\n"
      ]
     },
     "metadata": {},
     "output_type": "display_data"
    },
    {
     "name": "stdout",
     "output_type": "stream",
     "text": [
      "Epoch 1/500\n",
      "\u001b[1m71/71\u001b[0m \u001b[32m━━━━━━━━━━━━━━━━━━━━\u001b[0m\u001b[37m\u001b[0m \u001b[1m7s\u001b[0m 39ms/step - loss: 718.1918 - mae_target_1: 15.4905 - mae_target_2: 15.4905 - mae_target_3: 15.4905 - val_loss: 538.4426 - val_mae_target_1: 14.3683 - val_mae_target_2: 14.3683 - val_mae_target_3: 14.3683\n",
      "Epoch 2/500\n",
      "\u001b[1m71/71\u001b[0m \u001b[32m━━━━━━━━━━━━━━━━━━━━\u001b[0m\u001b[37m\u001b[0m \u001b[1m2s\u001b[0m 21ms/step - loss: 581.2307 - mae_target_1: 14.7646 - mae_target_2: 14.7646 - mae_target_3: 14.7646 - val_loss: 532.6366 - val_mae_target_1: 14.0993 - val_mae_target_2: 14.0993 - val_mae_target_3: 14.0993\n",
      "Epoch 3/500\n",
      "\u001b[1m71/71\u001b[0m \u001b[32m━━━━━━━━━━━━━━━━━━━━\u001b[0m\u001b[37m\u001b[0m \u001b[1m1s\u001b[0m 18ms/step - loss: 572.0665 - mae_target_1: 14.5059 - mae_target_2: 14.5059 - mae_target_3: 14.5059 - val_loss: 602.0637 - val_mae_target_1: 15.8317 - val_mae_target_2: 15.8317 - val_mae_target_3: 15.8317\n",
      "Epoch 4/500\n",
      "\u001b[1m71/71\u001b[0m \u001b[32m━━━━━━━━━━━━━━━━━━━━\u001b[0m\u001b[37m\u001b[0m \u001b[1m1s\u001b[0m 18ms/step - loss: 507.0397 - mae_target_1: 13.7038 - mae_target_2: 13.7038 - mae_target_3: 13.7038 - val_loss: 634.4363 - val_mae_target_1: 15.6612 - val_mae_target_2: 15.6612 - val_mae_target_3: 15.6612\n",
      "Epoch 5/500\n",
      "\u001b[1m71/71\u001b[0m \u001b[32m━━━━━━━━━━━━━━━━━━━━\u001b[0m\u001b[37m\u001b[0m \u001b[1m1s\u001b[0m 18ms/step - loss: 468.7765 - mae_target_1: 12.6949 - mae_target_2: 12.6949 - mae_target_3: 12.6949 - val_loss: 616.4391 - val_mae_target_1: 14.4598 - val_mae_target_2: 14.4598 - val_mae_target_3: 14.4598\n",
      "Epoch 6/500\n",
      "\u001b[1m71/71\u001b[0m \u001b[32m━━━━━━━━━━━━━━━━━━━━\u001b[0m\u001b[37m\u001b[0m \u001b[1m1s\u001b[0m 20ms/step - loss: 435.7143 - mae_target_1: 11.3442 - mae_target_2: 11.3442 - mae_target_3: 11.3442 - val_loss: 594.1412 - val_mae_target_1: 13.2890 - val_mae_target_2: 13.2890 - val_mae_target_3: 13.2890\n",
      "Epoch 7/500\n",
      "\u001b[1m71/71\u001b[0m \u001b[32m━━━━━━━━━━━━━━━━━━━━\u001b[0m\u001b[37m\u001b[0m \u001b[1m2s\u001b[0m 18ms/step - loss: 425.1027 - mae_target_1: 11.0216 - mae_target_2: 11.0216 - mae_target_3: 11.0216 - val_loss: 593.2486 - val_mae_target_1: 12.9367 - val_mae_target_2: 12.9367 - val_mae_target_3: 12.9367\n",
      "Epoch 8/500\n",
      "\u001b[1m71/71\u001b[0m \u001b[32m━━━━━━━━━━━━━━━━━━━━\u001b[0m\u001b[37m\u001b[0m \u001b[1m1s\u001b[0m 18ms/step - loss: 411.5633 - mae_target_1: 10.7550 - mae_target_2: 10.7550 - mae_target_3: 10.7550 - val_loss: 654.6213 - val_mae_target_1: 13.7795 - val_mae_target_2: 13.7795 - val_mae_target_3: 13.7795\n",
      "Epoch 9/500\n",
      "\u001b[1m71/71\u001b[0m \u001b[32m━━━━━━━━━━━━━━━━━━━━\u001b[0m\u001b[37m\u001b[0m \u001b[1m2s\u001b[0m 27ms/step - loss: 395.9736 - mae_target_1: 10.5828 - mae_target_2: 10.5828 - mae_target_3: 10.5828 - val_loss: 763.4776 - val_mae_target_1: 14.8893 - val_mae_target_2: 14.8893 - val_mae_target_3: 14.8893\n",
      "Epoch 10/500\n",
      "\u001b[1m71/71\u001b[0m \u001b[32m━━━━━━━━━━━━━━━━━━━━\u001b[0m\u001b[37m\u001b[0m \u001b[1m2s\u001b[0m 26ms/step - loss: 380.6364 - mae_target_1: 10.5318 - mae_target_2: 10.5318 - mae_target_3: 10.5318 - val_loss: 719.9598 - val_mae_target_1: 13.7460 - val_mae_target_2: 13.7460 - val_mae_target_3: 13.7460\n",
      "Epoch 11/500\n",
      "\u001b[1m71/71\u001b[0m \u001b[32m━━━━━━━━━━━━━━━━━━━━\u001b[0m\u001b[37m\u001b[0m \u001b[1m2s\u001b[0m 19ms/step - loss: 362.5401 - mae_target_1: 10.1589 - mae_target_2: 10.1589 - mae_target_3: 10.1589 - val_loss: 943.2245 - val_mae_target_1: 16.0658 - val_mae_target_2: 16.0658 - val_mae_target_3: 16.0658\n",
      "Epoch 12/500\n",
      "\u001b[1m71/71\u001b[0m \u001b[32m━━━━━━━━━━━━━━━━━━━━\u001b[0m\u001b[37m\u001b[0m \u001b[1m3s\u001b[0m 19ms/step - loss: 343.3652 - mae_target_1: 9.9180 - mae_target_2: 9.9180 - mae_target_3: 9.9180 - val_loss: 1014.2217 - val_mae_target_1: 16.1630 - val_mae_target_2: 16.1630 - val_mae_target_3: 16.1630\n",
      "Epoch 13/500\n",
      "\u001b[1m71/71\u001b[0m \u001b[32m━━━━━━━━━━━━━━━━━━━━\u001b[0m\u001b[37m\u001b[0m \u001b[1m3s\u001b[0m 18ms/step - loss: 323.9361 - mae_target_1: 9.6126 - mae_target_2: 9.6126 - mae_target_3: 9.6126 - val_loss: 1528.4789 - val_mae_target_1: 19.7013 - val_mae_target_2: 19.7013 - val_mae_target_3: 19.7013\n",
      "Epoch 14/500\n",
      "\u001b[1m71/71\u001b[0m \u001b[32m━━━━━━━━━━━━━━━━━━━━\u001b[0m\u001b[37m\u001b[0m \u001b[1m1s\u001b[0m 18ms/step - loss: 306.7364 - mae_target_1: 9.3927 - mae_target_2: 9.3927 - mae_target_3: 9.3927 - val_loss: 1469.7445 - val_mae_target_1: 18.8175 - val_mae_target_2: 18.8175 - val_mae_target_3: 18.8175\n",
      "Epoch 15/500\n",
      "\u001b[1m71/71\u001b[0m \u001b[32m━━━━━━━━━━━━━━━━━━━━\u001b[0m\u001b[37m\u001b[0m \u001b[1m3s\u001b[0m 24ms/step - loss: 294.3246 - mae_target_1: 9.2199 - mae_target_2: 9.2199 - mae_target_3: 9.2199 - val_loss: 1021.9327 - val_mae_target_1: 15.7122 - val_mae_target_2: 15.7122 - val_mae_target_3: 15.7122\n",
      "Epoch 16/500\n",
      "\u001b[1m71/71\u001b[0m \u001b[32m━━━━━━━━━━━━━━━━━━━━\u001b[0m\u001b[37m\u001b[0m \u001b[1m3s\u001b[0m 26ms/step - loss: 269.3462 - mae_target_1: 8.9054 - mae_target_2: 8.9054 - mae_target_3: 8.9054 - val_loss: 1353.3444 - val_mae_target_1: 17.9478 - val_mae_target_2: 17.9478 - val_mae_target_3: 17.9478\n",
      "Epoch 17/500\n",
      "\u001b[1m71/71\u001b[0m \u001b[32m━━━━━━━━━━━━━━━━━━━━\u001b[0m\u001b[37m\u001b[0m \u001b[1m1s\u001b[0m 18ms/step - loss: 247.8971 - mae_target_1: 8.5801 - mae_target_2: 8.5801 - mae_target_3: 8.5801 - val_loss: 1189.7321 - val_mae_target_1: 16.4857 - val_mae_target_2: 16.4857 - val_mae_target_3: 16.4857\n"
     ]
    }
   ],
   "source": [
    "model = init_model(X_train, y_train)\n",
    "model.summary()\n",
    "\n",
    "# 2 - Training\n",
    "# ====================================\n",
    "model, history = fit_model(model)"
   ]
  },
  {
   "cell_type": "code",
   "execution_count": null,
   "id": "8ddb1964-b96b-4266-9c0b-4c590b159ff4",
   "metadata": {
    "id": "8ddb1964-b96b-4266-9c0b-4c590b159ff4"
   },
   "outputs": [],
   "source": []
  },
  {
   "cell_type": "markdown",
   "id": "iaLSFGQn4M4f",
   "metadata": {
    "id": "iaLSFGQn4M4f"
   },
   "source": [
    "#### One model for each feature"
   ]
  },
  {
   "cell_type": "markdown",
   "id": "UeND6u805Bi-",
   "metadata": {
    "id": "UeND6u805Bi-",
    "jp-MarkdownHeadingCollapsed": true
   },
   "source": [
    "##### PV"
   ]
  },
  {
   "cell_type": "code",
   "execution_count": 59,
   "id": "51857488-265e-4c47-9099-7bfcfc046f99",
   "metadata": {
    "colab": {
     "base_uri": "https://localhost:8080/"
    },
    "executionInfo": {
     "elapsed": 851,
     "status": "ok",
     "timestamp": 1732799229501,
     "user": {
      "displayName": "Carl Bechtolsheim",
      "userId": "09155195766587467337"
     },
     "user_tz": -60
    },
    "id": "51857488-265e-4c47-9099-7bfcfc046f99",
    "outputId": "8c31f9ae-6260-4e09-df1e-1e1b737c4e8b"
   },
   "outputs": [
    {
     "data": {
      "text/plain": [
       "(2250, 12, 3)"
      ]
     },
     "execution_count": 59,
     "metadata": {},
     "output_type": "execute_result"
    }
   ],
   "source": [
    "y_train.shape"
   ]
  },
  {
   "cell_type": "code",
   "execution_count": 61,
   "id": "444f4376-d0b9-4248-95f9-97496cf3ecf4",
   "metadata": {
    "colab": {
     "base_uri": "https://localhost:8080/"
    },
    "executionInfo": {
     "elapsed": 904,
     "status": "ok",
     "timestamp": 1732799252283,
     "user": {
      "displayName": "Carl Bechtolsheim",
      "userId": "09155195766587467337"
     },
     "user_tz": -60
    },
    "id": "444f4376-d0b9-4248-95f9-97496cf3ecf4",
    "outputId": "54901bb1-5737-4596-e129-63261e6fc521"
   },
   "outputs": [
    {
     "data": {
      "text/plain": [
       "(2250, 12)"
      ]
     },
     "execution_count": 61,
     "metadata": {},
     "output_type": "execute_result"
    }
   ],
   "source": [
    "y_train[:, :, 0].shape"
   ]
  },
  {
   "cell_type": "code",
   "execution_count": 143,
   "id": "KyMm2j-A4mxc",
   "metadata": {
    "executionInfo": {
     "elapsed": 2,
     "status": "ok",
     "timestamp": 1732801403926,
     "user": {
      "displayName": "Carl Bechtolsheim",
      "userId": "09155195766587467337"
     },
     "user_tz": -60
    },
    "id": "KyMm2j-A4mxc"
   },
   "outputs": [],
   "source": [
    "y_train_pv = y_train[:, :, 0]"
   ]
  },
  {
   "cell_type": "code",
   "execution_count": 144,
   "id": "4rtI6Z_H4uNL",
   "metadata": {
    "executionInfo": {
     "elapsed": 4,
     "status": "ok",
     "timestamp": 1732801404351,
     "user": {
      "displayName": "Carl Bechtolsheim",
      "userId": "09155195766587467337"
     },
     "user_tz": -60
    },
    "id": "4rtI6Z_H4uNL"
   },
   "outputs": [],
   "source": [
    "y_train_pv = np.expand_dims(y_train_pv, axis=-1)"
   ]
  },
  {
   "cell_type": "code",
   "execution_count": 145,
   "id": "kIjXNBb24u6c",
   "metadata": {
    "colab": {
     "base_uri": "https://localhost:8080/"
    },
    "executionInfo": {
     "elapsed": 3,
     "status": "ok",
     "timestamp": 1732801404351,
     "user": {
      "displayName": "Carl Bechtolsheim",
      "userId": "09155195766587467337"
     },
     "user_tz": -60
    },
    "id": "kIjXNBb24u6c",
    "outputId": "314bdb6f-013d-4a1e-b659-446471c90b6e"
   },
   "outputs": [
    {
     "data": {
      "text/plain": [
       "(2250, 12, 1)"
      ]
     },
     "execution_count": 145,
     "metadata": {},
     "output_type": "execute_result"
    }
   ],
   "source": [
    "y_train_pv.shape"
   ]
  },
  {
   "cell_type": "code",
   "execution_count": 146,
   "id": "_dgPQFPj4vKM",
   "metadata": {
    "executionInfo": {
     "elapsed": 3,
     "status": "ok",
     "timestamp": 1732801406352,
     "user": {
      "displayName": "Carl Bechtolsheim",
      "userId": "09155195766587467337"
     },
     "user_tz": -60
    },
    "id": "_dgPQFPj4vKM"
   },
   "outputs": [],
   "source": [
    "y_val_pv = y_val[:,:,0]"
   ]
  },
  {
   "cell_type": "code",
   "execution_count": 147,
   "id": "jbIOR9vf4vzR",
   "metadata": {
    "executionInfo": {
     "elapsed": 2,
     "status": "ok",
     "timestamp": 1732801406352,
     "user": {
      "displayName": "Carl Bechtolsheim",
      "userId": "09155195766587467337"
     },
     "user_tz": -60
    },
    "id": "jbIOR9vf4vzR"
   },
   "outputs": [],
   "source": [
    "y_val_pv = np.expand_dims(y_val_pv, axis=-1)"
   ]
  },
  {
   "cell_type": "code",
   "execution_count": 148,
   "id": "mq97jt944vmz",
   "metadata": {
    "colab": {
     "base_uri": "https://localhost:8080/"
    },
    "executionInfo": {
     "elapsed": 3,
     "status": "ok",
     "timestamp": 1732801407102,
     "user": {
      "displayName": "Carl Bechtolsheim",
      "userId": "09155195766587467337"
     },
     "user_tz": -60
    },
    "id": "mq97jt944vmz",
    "outputId": "ad31cceb-fb1b-4aae-8cc4-4ad7d79f312f"
   },
   "outputs": [
    {
     "data": {
      "text/plain": [
       "(750, 12, 1)"
      ]
     },
     "execution_count": 148,
     "metadata": {},
     "output_type": "execute_result"
    }
   ],
   "source": [
    "y_val_pv.shape"
   ]
  },
  {
   "cell_type": "code",
   "execution_count": 149,
   "id": "flpYccB95aUz",
   "metadata": {
    "executionInfo": {
     "elapsed": 1005,
     "status": "ok",
     "timestamp": 1732801412001,
     "user": {
      "displayName": "Carl Bechtolsheim",
      "userId": "09155195766587467337"
     },
     "user_tz": -60
    },
    "id": "flpYccB95aUz"
   },
   "outputs": [],
   "source": [
    "from tensorflow.keras.metrics import MeanAbsoluteError\n",
    "from tensorflow.keras import regularizers\n",
    "\n",
    "\n",
    "def init_model(X_train, y_train):\n",
    "\n",
    "    # 1 - RNN architecture\n",
    "    # ======================\n",
    "    model = models.Sequential()\n",
    "\n",
    "    ## 1.1 - Recurrent Layers\n",
    "    model.add(layers.LSTM(32,\n",
    "                          activation='tanh',\n",
    "                          return_sequences=True,\n",
    "                          input_shape=(120, 53),\n",
    "                          kernel_regularizer=regularizers.l2(0.01)))\n",
    "\n",
    "    model.add(layers.Dropout(0.3))\n",
    "\n",
    "    model.add(layers.LSTM(16, activation='tanh', return_sequences=True))\n",
    "\n",
    "    ## 1.2 - Slice the output to focus only on the last 12 time steps\n",
    "    model.add(layers.Lambda(lambda x: x[:, -12:, :]))  # Keep only the last 12 time steps\n",
    "\n",
    "    ## 1.3 - Hidden Dense Layer\n",
    "    model.add(layers.TimeDistributed(layers.Dense(64, activation=\"relu\")))\n",
    "\n",
    "    ## 1.4 - Predictive Dense Layer\n",
    "    model.add(layers.TimeDistributed(layers.Dense(1, activation='linear')))\n",
    "\n",
    "    # 2 - Compiler\n",
    "    # ======================\n",
    "    adam = optimizers.Adam(learning_rate=0.005)\n",
    "    model.compile(loss='mse',\n",
    "                  optimizer=adam,\n",
    "                  metrics=['mae'\n",
    "                  ])\n",
    "\n",
    "\n",
    "    return model"
   ]
  },
  {
   "cell_type": "code",
   "execution_count": 69,
   "id": "CuJag3iJ5aSi",
   "metadata": {
    "executionInfo": {
     "elapsed": 408,
     "status": "ok",
     "timestamp": 1732799654276,
     "user": {
      "displayName": "Carl Bechtolsheim",
      "userId": "09155195766587467337"
     },
     "user_tz": -60
    },
    "id": "CuJag3iJ5aSi"
   },
   "outputs": [],
   "source": [
    "from tensorflow.keras.callbacks import EarlyStopping\n",
    "import tensorflow as tf\n",
    "from typing import Tuple\n",
    "\n",
    "def fit_model(model: tf.keras.Model, verbose=1) -> Tuple[tf.keras.Model, dict]:\n",
    "\n",
    "    es = EarlyStopping(monitor = \"val_loss\",\n",
    "                      patience = 15,\n",
    "                      mode = \"min\",\n",
    "                      restore_best_weights = True)\n",
    "\n",
    "\n",
    "    history = model.fit(X_train, y_train_pv,\n",
    "                        validation_data=(X_val, y_val_pv),\n",
    "                        shuffle = False,\n",
    "                        batch_size = 32,\n",
    "                        epochs = 500,\n",
    "                        callbacks = [es],\n",
    "                        verbose = verbose)\n",
    "\n",
    "    return model, history"
   ]
  },
  {
   "cell_type": "code",
   "execution_count": 70,
   "id": "qF6wVlHk5aQH",
   "metadata": {
    "colab": {
     "base_uri": "https://localhost:8080/",
     "height": 1000
    },
    "collapsed": true,
    "executionInfo": {
     "elapsed": 50861,
     "status": "ok",
     "timestamp": 1732799724800,
     "user": {
      "displayName": "Carl Bechtolsheim",
      "userId": "09155195766587467337"
     },
     "user_tz": -60
    },
    "id": "qF6wVlHk5aQH",
    "jupyter": {
     "outputs_hidden": true
    },
    "outputId": "5dbc2216-675c-40c2-ebb7-07c37a654238"
   },
   "outputs": [
    {
     "name": "stderr",
     "output_type": "stream",
     "text": [
      "/usr/local/lib/python3.10/dist-packages/keras/src/layers/rnn/rnn.py:204: UserWarning: Do not pass an `input_shape`/`input_dim` argument to a layer. When using Sequential models, prefer using an `Input(shape)` object as the first layer in the model instead.\n",
      "  super().__init__(**kwargs)\n"
     ]
    },
    {
     "data": {
      "text/html": [
       "<pre style=\"white-space:pre;overflow-x:auto;line-height:normal;font-family:Menlo,'DejaVu Sans Mono',consolas,'Courier New',monospace\"><span style=\"font-weight: bold\">Model: \"sequential_17\"</span>\n",
       "</pre>\n"
      ],
      "text/plain": [
       "\u001b[1mModel: \"sequential_17\"\u001b[0m\n"
      ]
     },
     "metadata": {},
     "output_type": "display_data"
    },
    {
     "data": {
      "text/html": [
       "<pre style=\"white-space:pre;overflow-x:auto;line-height:normal;font-family:Menlo,'DejaVu Sans Mono',consolas,'Courier New',monospace\">┏━━━━━━━━━━━━━━━━━━━━━━━━━━━━━━━━━━━━━━┳━━━━━━━━━━━━━━━━━━━━━━━━━━━━━┳━━━━━━━━━━━━━━━━━┓\n",
       "┃<span style=\"font-weight: bold\"> Layer (type)                         </span>┃<span style=\"font-weight: bold\"> Output Shape                </span>┃<span style=\"font-weight: bold\">         Param # </span>┃\n",
       "┡━━━━━━━━━━━━━━━━━━━━━━━━━━━━━━━━━━━━━━╇━━━━━━━━━━━━━━━━━━━━━━━━━━━━━╇━━━━━━━━━━━━━━━━━┩\n",
       "│ lstm_32 (<span style=\"color: #0087ff; text-decoration-color: #0087ff\">LSTM</span>)                       │ (<span style=\"color: #00d7ff; text-decoration-color: #00d7ff\">None</span>, <span style=\"color: #00af00; text-decoration-color: #00af00\">120</span>, <span style=\"color: #00af00; text-decoration-color: #00af00\">32</span>)             │          <span style=\"color: #00af00; text-decoration-color: #00af00\">11,008</span> │\n",
       "├──────────────────────────────────────┼─────────────────────────────┼─────────────────┤\n",
       "│ dropout_2 (<span style=\"color: #0087ff; text-decoration-color: #0087ff\">Dropout</span>)                  │ (<span style=\"color: #00d7ff; text-decoration-color: #00d7ff\">None</span>, <span style=\"color: #00af00; text-decoration-color: #00af00\">120</span>, <span style=\"color: #00af00; text-decoration-color: #00af00\">32</span>)             │               <span style=\"color: #00af00; text-decoration-color: #00af00\">0</span> │\n",
       "├──────────────────────────────────────┼─────────────────────────────┼─────────────────┤\n",
       "│ lstm_33 (<span style=\"color: #0087ff; text-decoration-color: #0087ff\">LSTM</span>)                       │ (<span style=\"color: #00d7ff; text-decoration-color: #00d7ff\">None</span>, <span style=\"color: #00af00; text-decoration-color: #00af00\">120</span>, <span style=\"color: #00af00; text-decoration-color: #00af00\">16</span>)             │           <span style=\"color: #00af00; text-decoration-color: #00af00\">3,136</span> │\n",
       "├──────────────────────────────────────┼─────────────────────────────┼─────────────────┤\n",
       "│ lambda_5 (<span style=\"color: #0087ff; text-decoration-color: #0087ff\">Lambda</span>)                    │ (<span style=\"color: #00d7ff; text-decoration-color: #00d7ff\">None</span>, <span style=\"color: #00af00; text-decoration-color: #00af00\">12</span>, <span style=\"color: #00af00; text-decoration-color: #00af00\">16</span>)              │               <span style=\"color: #00af00; text-decoration-color: #00af00\">0</span> │\n",
       "├──────────────────────────────────────┼─────────────────────────────┼─────────────────┤\n",
       "│ time_distributed_19                  │ (<span style=\"color: #00d7ff; text-decoration-color: #00d7ff\">None</span>, <span style=\"color: #00af00; text-decoration-color: #00af00\">12</span>, <span style=\"color: #00af00; text-decoration-color: #00af00\">64</span>)              │           <span style=\"color: #00af00; text-decoration-color: #00af00\">1,088</span> │\n",
       "│ (<span style=\"color: #0087ff; text-decoration-color: #0087ff\">TimeDistributed</span>)                    │                             │                 │\n",
       "├──────────────────────────────────────┼─────────────────────────────┼─────────────────┤\n",
       "│ time_distributed_20                  │ (<span style=\"color: #00d7ff; text-decoration-color: #00d7ff\">None</span>, <span style=\"color: #00af00; text-decoration-color: #00af00\">12</span>, <span style=\"color: #00af00; text-decoration-color: #00af00\">1</span>)               │              <span style=\"color: #00af00; text-decoration-color: #00af00\">65</span> │\n",
       "│ (<span style=\"color: #0087ff; text-decoration-color: #0087ff\">TimeDistributed</span>)                    │                             │                 │\n",
       "└──────────────────────────────────────┴─────────────────────────────┴─────────────────┘\n",
       "</pre>\n"
      ],
      "text/plain": [
       "┏━━━━━━━━━━━━━━━━━━━━━━━━━━━━━━━━━━━━━━┳━━━━━━━━━━━━━━━━━━━━━━━━━━━━━┳━━━━━━━━━━━━━━━━━┓\n",
       "┃\u001b[1m \u001b[0m\u001b[1mLayer (type)                        \u001b[0m\u001b[1m \u001b[0m┃\u001b[1m \u001b[0m\u001b[1mOutput Shape               \u001b[0m\u001b[1m \u001b[0m┃\u001b[1m \u001b[0m\u001b[1m        Param #\u001b[0m\u001b[1m \u001b[0m┃\n",
       "┡━━━━━━━━━━━━━━━━━━━━━━━━━━━━━━━━━━━━━━╇━━━━━━━━━━━━━━━━━━━━━━━━━━━━━╇━━━━━━━━━━━━━━━━━┩\n",
       "│ lstm_32 (\u001b[38;5;33mLSTM\u001b[0m)                       │ (\u001b[38;5;45mNone\u001b[0m, \u001b[38;5;34m120\u001b[0m, \u001b[38;5;34m32\u001b[0m)             │          \u001b[38;5;34m11,008\u001b[0m │\n",
       "├──────────────────────────────────────┼─────────────────────────────┼─────────────────┤\n",
       "│ dropout_2 (\u001b[38;5;33mDropout\u001b[0m)                  │ (\u001b[38;5;45mNone\u001b[0m, \u001b[38;5;34m120\u001b[0m, \u001b[38;5;34m32\u001b[0m)             │               \u001b[38;5;34m0\u001b[0m │\n",
       "├──────────────────────────────────────┼─────────────────────────────┼─────────────────┤\n",
       "│ lstm_33 (\u001b[38;5;33mLSTM\u001b[0m)                       │ (\u001b[38;5;45mNone\u001b[0m, \u001b[38;5;34m120\u001b[0m, \u001b[38;5;34m16\u001b[0m)             │           \u001b[38;5;34m3,136\u001b[0m │\n",
       "├──────────────────────────────────────┼─────────────────────────────┼─────────────────┤\n",
       "│ lambda_5 (\u001b[38;5;33mLambda\u001b[0m)                    │ (\u001b[38;5;45mNone\u001b[0m, \u001b[38;5;34m12\u001b[0m, \u001b[38;5;34m16\u001b[0m)              │               \u001b[38;5;34m0\u001b[0m │\n",
       "├──────────────────────────────────────┼─────────────────────────────┼─────────────────┤\n",
       "│ time_distributed_19                  │ (\u001b[38;5;45mNone\u001b[0m, \u001b[38;5;34m12\u001b[0m, \u001b[38;5;34m64\u001b[0m)              │           \u001b[38;5;34m1,088\u001b[0m │\n",
       "│ (\u001b[38;5;33mTimeDistributed\u001b[0m)                    │                             │                 │\n",
       "├──────────────────────────────────────┼─────────────────────────────┼─────────────────┤\n",
       "│ time_distributed_20                  │ (\u001b[38;5;45mNone\u001b[0m, \u001b[38;5;34m12\u001b[0m, \u001b[38;5;34m1\u001b[0m)               │              \u001b[38;5;34m65\u001b[0m │\n",
       "│ (\u001b[38;5;33mTimeDistributed\u001b[0m)                    │                             │                 │\n",
       "└──────────────────────────────────────┴─────────────────────────────┴─────────────────┘\n"
      ]
     },
     "metadata": {},
     "output_type": "display_data"
    },
    {
     "data": {
      "text/html": [
       "<pre style=\"white-space:pre;overflow-x:auto;line-height:normal;font-family:Menlo,'DejaVu Sans Mono',consolas,'Courier New',monospace\"><span style=\"font-weight: bold\"> Total params: </span><span style=\"color: #00af00; text-decoration-color: #00af00\">15,297</span> (59.75 KB)\n",
       "</pre>\n"
      ],
      "text/plain": [
       "\u001b[1m Total params: \u001b[0m\u001b[38;5;34m15,297\u001b[0m (59.75 KB)\n"
      ]
     },
     "metadata": {},
     "output_type": "display_data"
    },
    {
     "data": {
      "text/html": [
       "<pre style=\"white-space:pre;overflow-x:auto;line-height:normal;font-family:Menlo,'DejaVu Sans Mono',consolas,'Courier New',monospace\"><span style=\"font-weight: bold\"> Trainable params: </span><span style=\"color: #00af00; text-decoration-color: #00af00\">15,297</span> (59.75 KB)\n",
       "</pre>\n"
      ],
      "text/plain": [
       "\u001b[1m Trainable params: \u001b[0m\u001b[38;5;34m15,297\u001b[0m (59.75 KB)\n"
      ]
     },
     "metadata": {},
     "output_type": "display_data"
    },
    {
     "data": {
      "text/html": [
       "<pre style=\"white-space:pre;overflow-x:auto;line-height:normal;font-family:Menlo,'DejaVu Sans Mono',consolas,'Courier New',monospace\"><span style=\"font-weight: bold\"> Non-trainable params: </span><span style=\"color: #00af00; text-decoration-color: #00af00\">0</span> (0.00 B)\n",
       "</pre>\n"
      ],
      "text/plain": [
       "\u001b[1m Non-trainable params: \u001b[0m\u001b[38;5;34m0\u001b[0m (0.00 B)\n"
      ]
     },
     "metadata": {},
     "output_type": "display_data"
    },
    {
     "name": "stdout",
     "output_type": "stream",
     "text": [
      "Epoch 1/500\n",
      "\u001b[1m71/71\u001b[0m \u001b[32m━━━━━━━━━━━━━━━━━━━━\u001b[0m\u001b[37m\u001b[0m \u001b[1m5s\u001b[0m 27ms/step - loss: 318.3997 - mae: 10.8458 - val_loss: 51.8289 - val_mae: 5.9115\n",
      "Epoch 2/500\n",
      "\u001b[1m71/71\u001b[0m \u001b[32m━━━━━━━━━━━━━━━━━━━━\u001b[0m\u001b[37m\u001b[0m \u001b[1m1s\u001b[0m 18ms/step - loss: 126.6924 - mae: 6.5357 - val_loss: 72.2632 - val_mae: 4.5350\n",
      "Epoch 3/500\n",
      "\u001b[1m71/71\u001b[0m \u001b[32m━━━━━━━━━━━━━━━━━━━━\u001b[0m\u001b[37m\u001b[0m \u001b[1m1s\u001b[0m 19ms/step - loss: 106.6972 - mae: 5.7288 - val_loss: 58.6006 - val_mae: 4.0575\n",
      "Epoch 4/500\n",
      "\u001b[1m71/71\u001b[0m \u001b[32m━━━━━━━━━━━━━━━━━━━━\u001b[0m\u001b[37m\u001b[0m \u001b[1m3s\u001b[0m 20ms/step - loss: 96.8080 - mae: 5.3673 - val_loss: 39.0254 - val_mae: 2.6443\n",
      "Epoch 5/500\n",
      "\u001b[1m71/71\u001b[0m \u001b[32m━━━━━━━━━━━━━━━━━━━━\u001b[0m\u001b[37m\u001b[0m \u001b[1m2s\u001b[0m 25ms/step - loss: 91.0463 - mae: 5.0390 - val_loss: 30.5442 - val_mae: 2.4074\n",
      "Epoch 6/500\n",
      "\u001b[1m71/71\u001b[0m \u001b[32m━━━━━━━━━━━━━━━━━━━━\u001b[0m\u001b[37m\u001b[0m \u001b[1m2s\u001b[0m 24ms/step - loss: 84.7698 - mae: 4.7915 - val_loss: 43.1633 - val_mae: 3.0513\n",
      "Epoch 7/500\n",
      "\u001b[1m71/71\u001b[0m \u001b[32m━━━━━━━━━━━━━━━━━━━━\u001b[0m\u001b[37m\u001b[0m \u001b[1m1s\u001b[0m 18ms/step - loss: 81.0422 - mae: 4.6721 - val_loss: 26.5735 - val_mae: 1.9843\n",
      "Epoch 8/500\n",
      "\u001b[1m71/71\u001b[0m \u001b[32m━━━━━━━━━━━━━━━━━━━━\u001b[0m\u001b[37m\u001b[0m \u001b[1m3s\u001b[0m 20ms/step - loss: 77.9473 - mae: 4.5087 - val_loss: 26.7186 - val_mae: 1.8906\n",
      "Epoch 9/500\n",
      "\u001b[1m71/71\u001b[0m \u001b[32m━━━━━━━━━━━━━━━━━━━━\u001b[0m\u001b[37m\u001b[0m \u001b[1m1s\u001b[0m 18ms/step - loss: 74.0770 - mae: 4.3841 - val_loss: 26.4084 - val_mae: 1.4993\n",
      "Epoch 10/500\n",
      "\u001b[1m71/71\u001b[0m \u001b[32m━━━━━━━━━━━━━━━━━━━━\u001b[0m\u001b[37m\u001b[0m \u001b[1m2s\u001b[0m 17ms/step - loss: 69.8413 - mae: 4.2063 - val_loss: 24.7409 - val_mae: 1.6065\n",
      "Epoch 11/500\n",
      "\u001b[1m71/71\u001b[0m \u001b[32m━━━━━━━━━━━━━━━━━━━━\u001b[0m\u001b[37m\u001b[0m \u001b[1m1s\u001b[0m 18ms/step - loss: 66.8298 - mae: 4.1148 - val_loss: 28.9063 - val_mae: 1.4378\n",
      "Epoch 12/500\n",
      "\u001b[1m71/71\u001b[0m \u001b[32m━━━━━━━━━━━━━━━━━━━━\u001b[0m\u001b[37m\u001b[0m \u001b[1m3s\u001b[0m 26ms/step - loss: 60.3505 - mae: 3.8780 - val_loss: 30.3506 - val_mae: 1.5796\n",
      "Epoch 13/500\n",
      "\u001b[1m71/71\u001b[0m \u001b[32m━━━━━━━━━━━━━━━━━━━━\u001b[0m\u001b[37m\u001b[0m \u001b[1m2s\u001b[0m 27ms/step - loss: 59.8979 - mae: 3.8372 - val_loss: 29.0636 - val_mae: 1.6310\n",
      "Epoch 14/500\n",
      "\u001b[1m71/71\u001b[0m \u001b[32m━━━━━━━━━━━━━━━━━━━━\u001b[0m\u001b[37m\u001b[0m \u001b[1m2s\u001b[0m 18ms/step - loss: 55.9948 - mae: 3.7139 - val_loss: 29.8065 - val_mae: 1.5895\n",
      "Epoch 15/500\n",
      "\u001b[1m71/71\u001b[0m \u001b[32m━━━━━━━━━━━━━━━━━━━━\u001b[0m\u001b[37m\u001b[0m \u001b[1m1s\u001b[0m 18ms/step - loss: 53.3153 - mae: 3.6183 - val_loss: 29.8798 - val_mae: 1.4850\n",
      "Epoch 16/500\n",
      "\u001b[1m71/71\u001b[0m \u001b[32m━━━━━━━━━━━━━━━━━━━━\u001b[0m\u001b[37m\u001b[0m \u001b[1m1s\u001b[0m 18ms/step - loss: 48.7943 - mae: 3.4667 - val_loss: 30.0043 - val_mae: 1.5990\n",
      "Epoch 17/500\n",
      "\u001b[1m71/71\u001b[0m \u001b[32m━━━━━━━━━━━━━━━━━━━━\u001b[0m\u001b[37m\u001b[0m \u001b[1m1s\u001b[0m 18ms/step - loss: 45.4846 - mae: 3.3611 - val_loss: 29.5569 - val_mae: 1.5923\n",
      "Epoch 18/500\n",
      "\u001b[1m71/71\u001b[0m \u001b[32m━━━━━━━━━━━━━━━━━━━━\u001b[0m\u001b[37m\u001b[0m \u001b[1m1s\u001b[0m 18ms/step - loss: 41.7739 - mae: 3.2013 - val_loss: 33.2437 - val_mae: 1.7728\n",
      "Epoch 19/500\n",
      "\u001b[1m71/71\u001b[0m \u001b[32m━━━━━━━━━━━━━━━━━━━━\u001b[0m\u001b[37m\u001b[0m \u001b[1m1s\u001b[0m 18ms/step - loss: 40.7985 - mae: 3.1177 - val_loss: 31.0422 - val_mae: 1.5729\n",
      "Epoch 20/500\n",
      "\u001b[1m71/71\u001b[0m \u001b[32m━━━━━━━━━━━━━━━━━━━━\u001b[0m\u001b[37m\u001b[0m \u001b[1m1s\u001b[0m 20ms/step - loss: 39.3969 - mae: 3.0664 - val_loss: 30.5399 - val_mae: 1.7652\n",
      "Epoch 21/500\n",
      "\u001b[1m71/71\u001b[0m \u001b[32m━━━━━━━━━━━━━━━━━━━━\u001b[0m\u001b[37m\u001b[0m \u001b[1m2s\u001b[0m 25ms/step - loss: 38.0935 - mae: 3.0410 - val_loss: 30.8741 - val_mae: 1.9016\n",
      "Epoch 22/500\n",
      "\u001b[1m71/71\u001b[0m \u001b[32m━━━━━━━━━━━━━━━━━━━━\u001b[0m\u001b[37m\u001b[0m \u001b[1m2s\u001b[0m 27ms/step - loss: 33.2446 - mae: 2.7990 - val_loss: 34.3851 - val_mae: 1.9054\n",
      "Epoch 23/500\n",
      "\u001b[1m71/71\u001b[0m \u001b[32m━━━━━━━━━━━━━━━━━━━━\u001b[0m\u001b[37m\u001b[0m \u001b[1m2s\u001b[0m 18ms/step - loss: 34.4964 - mae: 2.8389 - val_loss: 36.4724 - val_mae: 2.0303\n",
      "Epoch 24/500\n",
      "\u001b[1m71/71\u001b[0m \u001b[32m━━━━━━━━━━━━━━━━━━━━\u001b[0m\u001b[37m\u001b[0m \u001b[1m3s\u001b[0m 18ms/step - loss: 32.4295 - mae: 2.7524 - val_loss: 30.7284 - val_mae: 1.6522\n",
      "Epoch 25/500\n",
      "\u001b[1m71/71\u001b[0m \u001b[32m━━━━━━━━━━━━━━━━━━━━\u001b[0m\u001b[37m\u001b[0m \u001b[1m3s\u001b[0m 18ms/step - loss: 30.6763 - mae: 2.6962 - val_loss: 38.2236 - val_mae: 2.0621\n"
     ]
    }
   ],
   "source": [
    "model = init_model(X_train, y_train_pv)\n",
    "model.summary()\n",
    "\n",
    "# 2 - Training\n",
    "# ====================================\n",
    "model, history = fit_model(model)"
   ]
  },
  {
   "cell_type": "code",
   "execution_count": null,
   "id": "srWds4an5aNo",
   "metadata": {
    "id": "srWds4an5aNo"
   },
   "outputs": [],
   "source": []
  },
  {
   "cell_type": "markdown",
   "id": "aX6Q490G6kH0",
   "metadata": {
    "id": "aX6Q490G6kH0"
   },
   "source": [
    "## PV"
   ]
  },
  {
   "cell_type": "code",
   "execution_count": 35,
   "id": "8d1b1046-6c4d-4dfc-80d4-57cc7b44e396",
   "metadata": {},
   "outputs": [
    {
     "data": {
      "text/plain": [
       "(2250, 12, 1)"
      ]
     },
     "execution_count": 35,
     "metadata": {},
     "output_type": "execute_result"
    }
   ],
   "source": [
    "y_train.shape"
   ]
  },
  {
   "cell_type": "code",
   "execution_count": 45,
   "id": "IlfeMv9i7MXd",
   "metadata": {
    "executionInfo": {
     "elapsed": 583,
     "status": "ok",
     "timestamp": 1732801432655,
     "user": {
      "displayName": "Carl Bechtolsheim",
      "userId": "09155195766587467337"
     },
     "user_tz": -60
    },
    "id": "IlfeMv9i7MXd"
   },
   "outputs": [
    {
     "name": "stderr",
     "output_type": "stream",
     "text": [
      "2024-11-29 11:01:10.067936: I tensorflow/core/platform/cpu_feature_guard.cc:193] This TensorFlow binary is optimized with oneAPI Deep Neural Network Library (oneDNN) to use the following CPU instructions in performance-critical operations:  AVX2 FMA\n",
      "To enable them in other operations, rebuild TensorFlow with the appropriate compiler flags.\n"
     ]
    }
   ],
   "source": [
    "from tensorflow.keras.metrics import MeanAbsoluteError\n",
    "from tensorflow.keras import regularizers\n",
    "from tensorflow.keras import models\n",
    "from tensorflow.keras import layers\n",
    "from tensorflow.keras import optimizers, metrics\n",
    "from tensorflow.keras.regularizers import L1L2\n",
    "\n",
    "input_shape = X_train.shape[1:]\n",
    "def init_model(X_train, y_train):\n",
    "\n",
    "    # 1 - RNN architecture\n",
    "    # ======================\n",
    "    model = models.Sequential()\n",
    "\n",
    "    ## 1.1 - Recurrent Layers\n",
    "    model.add(layers.LSTM(32,\n",
    "                          activation='tanh',\n",
    "                          return_sequences=True,\n",
    "                          input_shape=input_shape,\n",
    "                          kernel_regularizer=regularizers.l2(0.01)))\n",
    "\n",
    "    model.add(layers.Dropout(0.3))\n",
    "\n",
    "    model.add(layers.LSTM(16, activation='tanh', return_sequences=True))\n",
    "\n",
    "    ## 1.2 - Slice the output to focus only on the last 12 time steps\n",
    "    model.add(layers.Lambda(lambda x: x[:, -12:, :]))  # Keep only the last 12 time steps\n",
    "\n",
    "    ## 1.3 - Hidden Dense Layer\n",
    "    model.add(layers.TimeDistributed(layers.Dense(64, activation=\"relu\")))\n",
    "\n",
    "    ## 1.4 - Predictive Dense Layer\n",
    "    model.add(layers.TimeDistributed(layers.Dense(1, activation='linear')))\n",
    "\n",
    "    # 2 - Compiler\n",
    "    # ======================\n",
    "    adam = optimizers.Adam(learning_rate=0.005)\n",
    "    model.compile(loss='mse',\n",
    "                  optimizer=adam,\n",
    "                  metrics=['mae'\n",
    "                  ])\n",
    "\n",
    "\n",
    "    return model"
   ]
  },
  {
   "cell_type": "code",
   "execution_count": 46,
   "id": "6Ss1v50D7N1I",
   "metadata": {
    "executionInfo": {
     "elapsed": 795,
     "status": "ok",
     "timestamp": 1732801167059,
     "user": {
      "displayName": "Carl Bechtolsheim",
      "userId": "09155195766587467337"
     },
     "user_tz": -60
    },
    "id": "6Ss1v50D7N1I"
   },
   "outputs": [],
   "source": [
    "from tensorflow.keras.callbacks import EarlyStopping\n",
    "import tensorflow as tf\n",
    "from typing import Tuple\n",
    "\n",
    "def fit_model(model: tf.keras.Model, verbose=1) -> Tuple[tf.keras.Model, dict]:\n",
    "\n",
    "    es = EarlyStopping(monitor = \"val_loss\",\n",
    "                      patience = 15,\n",
    "                      mode = \"min\",\n",
    "                      restore_best_weights = True)\n",
    "\n",
    "\n",
    "    history = model.fit(X_train, y_train,\n",
    "                        validation_data=(X_val, y_val),\n",
    "                        shuffle = False,\n",
    "                        batch_size = 32,\n",
    "                        epochs = 500,\n",
    "                        callbacks = [es],\n",
    "                        verbose = verbose)\n",
    "\n",
    "    return model, history"
   ]
  },
  {
   "cell_type": "code",
   "execution_count": 47,
   "id": "sdM_TxZt7Nyh",
   "metadata": {
    "colab": {
     "base_uri": "https://localhost:8080/",
     "height": 1000
    },
    "executionInfo": {
     "elapsed": 49882,
     "status": "ok",
     "timestamp": 1732801484820,
     "user": {
      "displayName": "Carl Bechtolsheim",
      "userId": "09155195766587467337"
     },
     "user_tz": -60
    },
    "id": "sdM_TxZt7Nyh",
    "outputId": "038dd9ae-b2cc-42f5-cf04-1e9f4e16a103"
   },
   "outputs": [
    {
     "name": "stderr",
     "output_type": "stream",
     "text": [
      "2024-11-29 11:01:40.267765: I tensorflow/core/platform/cpu_feature_guard.cc:193] This TensorFlow binary is optimized with oneAPI Deep Neural Network Library (oneDNN) to use the following CPU instructions in performance-critical operations:  AVX2 FMA\n",
      "To enable them in other operations, rebuild TensorFlow with the appropriate compiler flags.\n"
     ]
    },
    {
     "name": "stdout",
     "output_type": "stream",
     "text": [
      "Model: \"sequential\"\n",
      "_________________________________________________________________\n",
      " Layer (type)                Output Shape              Param #   \n",
      "=================================================================\n",
      " lstm (LSTM)                 (None, 120, 32)           11008     \n",
      "                                                                 \n",
      " dropout (Dropout)           (None, 120, 32)           0         \n",
      "                                                                 \n",
      " lstm_1 (LSTM)               (None, 120, 16)           3136      \n",
      "                                                                 \n",
      " lambda (Lambda)             (None, 12, 16)            0         \n",
      "                                                                 \n",
      " time_distributed (TimeDistr  (None, 12, 64)           1088      \n",
      " ibuted)                                                         \n",
      "                                                                 \n",
      " time_distributed_1 (TimeDis  (None, 12, 1)            65        \n",
      " tributed)                                                       \n",
      "                                                                 \n",
      "=================================================================\n",
      "Total params: 15,297\n",
      "Trainable params: 15,297\n",
      "Non-trainable params: 0\n",
      "_________________________________________________________________\n",
      "Epoch 1/500\n",
      "268/268 [==============================] - 19s 53ms/step - loss: 147.9831 - mae: 6.8389 - val_loss: 20.1232 - val_mae: 1.4150\n",
      "Epoch 2/500\n",
      "268/268 [==============================] - 14s 51ms/step - loss: 90.8818 - mae: 4.8782 - val_loss: 22.2784 - val_mae: 1.1049\n",
      "Epoch 3/500\n",
      "268/268 [==============================] - 14s 51ms/step - loss: 84.6727 - mae: 4.6479 - val_loss: 19.8478 - val_mae: 1.1533\n",
      "Epoch 4/500\n",
      "268/268 [==============================] - 23s 87ms/step - loss: 79.4792 - mae: 4.4781 - val_loss: 19.7126 - val_mae: 1.2797\n",
      "Epoch 5/500\n",
      "268/268 [==============================] - 16s 60ms/step - loss: 72.6711 - mae: 4.2308 - val_loss: 22.2577 - val_mae: 1.2634\n",
      "Epoch 6/500\n",
      "268/268 [==============================] - 25s 92ms/step - loss: 66.3805 - mae: 3.9986 - val_loss: 22.3796 - val_mae: 1.4524\n",
      "Epoch 7/500\n",
      "268/268 [==============================] - 24s 89ms/step - loss: 64.2471 - mae: 3.9113 - val_loss: 24.9635 - val_mae: 1.4873\n",
      "Epoch 8/500\n",
      "268/268 [==============================] - 28s 106ms/step - loss: 55.8507 - mae: 3.6197 - val_loss: 25.9509 - val_mae: 1.3846\n",
      "Epoch 9/500\n",
      "268/268 [==============================] - 22s 81ms/step - loss: 48.9342 - mae: 3.3591 - val_loss: 26.0182 - val_mae: 1.3682\n",
      "Epoch 10/500\n",
      "268/268 [==============================] - 21s 77ms/step - loss: 45.6956 - mae: 3.2377 - val_loss: 26.7178 - val_mae: 1.2670\n",
      "Epoch 11/500\n",
      "268/268 [==============================] - 30s 113ms/step - loss: 43.3172 - mae: 3.1396 - val_loss: 26.1268 - val_mae: 1.2918\n",
      "Epoch 12/500\n",
      "268/268 [==============================] - 31s 116ms/step - loss: 40.4652 - mae: 3.0048 - val_loss: 26.3715 - val_mae: 1.4161\n",
      "Epoch 13/500\n",
      "268/268 [==============================] - 35s 129ms/step - loss: 39.2361 - mae: 2.9473 - val_loss: 27.0381 - val_mae: 1.4484\n",
      "Epoch 14/500\n",
      "268/268 [==============================] - 32s 119ms/step - loss: 38.8284 - mae: 2.9452 - val_loss: 29.3755 - val_mae: 1.6752\n",
      "Epoch 15/500\n",
      "268/268 [==============================] - 28s 106ms/step - loss: 35.4322 - mae: 2.7767 - val_loss: 28.6427 - val_mae: 1.4668\n",
      "Epoch 16/500\n",
      "268/268 [==============================] - 24s 89ms/step - loss: 31.7965 - mae: 2.6220 - val_loss: 28.0109 - val_mae: 1.5128\n",
      "Epoch 17/500\n",
      "268/268 [==============================] - 16s 61ms/step - loss: 65.1455 - mae: 3.8740 - val_loss: 28.5328 - val_mae: 1.4866\n",
      "Epoch 18/500\n",
      "268/268 [==============================] - 14s 52ms/step - loss: 39.5693 - mae: 2.9360 - val_loss: 28.0997 - val_mae: 1.4383\n",
      "Epoch 19/500\n",
      "268/268 [==============================] - 16s 60ms/step - loss: 30.8394 - mae: 2.5757 - val_loss: 27.8008 - val_mae: 1.4718\n"
     ]
    }
   ],
   "source": [
    "model = init_model(X_train, y_train)\n",
    "model.summary()\n",
    "\n",
    "# 2 - Training\n",
    "# ====================================\n",
    "model, history = fit_model(model)"
   ]
  },
  {
   "cell_type": "markdown",
   "id": "z6_JbAq4BXRM",
   "metadata": {
    "id": "z6_JbAq4BXRM"
   },
   "source": [
    "##### columns = drop"
   ]
  },
  {
   "cell_type": "code",
   "execution_count": 78,
   "id": "S3Q5NXNg7Nvb",
   "metadata": {
    "colab": {
     "base_uri": "https://localhost:8080/"
    },
    "executionInfo": {
     "elapsed": 836,
     "status": "ok",
     "timestamp": 1732801626618,
     "user": {
      "displayName": "Carl Bechtolsheim",
      "userId": "09155195766587467337"
     },
     "user_tz": -60
    },
    "id": "S3Q5NXNg7Nvb",
    "outputId": "3a4d36cc-9ccd-4fa1-88c0-9764d4593f7c"
   },
   "outputs": [],
   "source": [
    "input_shape = X_train.shape[1:]\n",
    "def init_model(X_train, y_train):\n",
    "\n",
    "    # 1 - RNN architecture\n",
    "    # ======================\n",
    "    model = models.Sequential()\n",
    "\n",
    "    ## 1.1 - Recurrent Layers\n",
    "    model.add(layers.LSTM(32,\n",
    "                          activation='tanh',\n",
    "                          return_sequences=True,\n",
    "                          input_shape=input_shape,\n",
    "                          kernel_regularizer=regularizers.l2(0.01)))\n",
    "\n",
    "    model.add(layers.Dropout(0.3))\n",
    "\n",
    "    model.add(layers.LSTM(16, activation='tanh', return_sequences=True))\n",
    "\n",
    "    ## 1.2 - Slice the output to focus only on the last 12 time steps\n",
    "    model.add(layers.Lambda(lambda x: x[:, -12:, :]))  # Keep only the last 12 time steps\n",
    "\n",
    "    ## 1.3 - Hidden Dense Layer\n",
    "    model.add(layers.TimeDistributed(layers.Dense(64, activation=\"relu\")))\n",
    "\n",
    "    ## 1.4 - Predictive Dense Layer\n",
    "    model.add(layers.TimeDistributed(layers.Dense(1, activation='linear')))\n",
    "\n",
    "    # 2 - Compiler\n",
    "    # ======================\n",
    "    adam = optimizers.Adam(learning_rate=0.005)\n",
    "    model.compile(loss='mse',\n",
    "                  optimizer=adam,\n",
    "                  metrics=['mae'\n",
    "                  ])\n",
    "\n",
    "\n",
    "    return model"
   ]
  },
  {
   "cell_type": "code",
   "execution_count": 79,
   "id": "KJZEcqd57Nrw",
   "metadata": {
    "colab": {
     "base_uri": "https://localhost:8080/"
    },
    "executionInfo": {
     "elapsed": 4,
     "status": "ok",
     "timestamp": 1732801627177,
     "user": {
      "displayName": "Carl Bechtolsheim",
      "userId": "09155195766587467337"
     },
     "user_tz": -60
    },
    "id": "KJZEcqd57Nrw",
    "outputId": "6624e9c7-2863-4a96-b6ba-bb4caeed890b"
   },
   "outputs": [
    {
     "name": "stdout",
     "output_type": "stream",
     "text": [
      "Model: \"sequential_1\"\n",
      "_________________________________________________________________\n",
      " Layer (type)                Output Shape              Param #   \n",
      "=================================================================\n",
      " lstm_2 (LSTM)               (None, 120, 32)           5888      \n",
      "                                                                 \n",
      " dropout_1 (Dropout)         (None, 120, 32)           0         \n",
      "                                                                 \n",
      " lstm_3 (LSTM)               (None, 120, 16)           3136      \n",
      "                                                                 \n",
      " lambda_1 (Lambda)           (None, 12, 16)            0         \n",
      "                                                                 \n",
      " time_distributed_2 (TimeDis  (None, 12, 64)           1088      \n",
      " tributed)                                                       \n",
      "                                                                 \n",
      " time_distributed_3 (TimeDis  (None, 12, 1)            65        \n",
      " tributed)                                                       \n",
      "                                                                 \n",
      "=================================================================\n",
      "Total params: 10,177\n",
      "Trainable params: 10,177\n",
      "Non-trainable params: 0\n",
      "_________________________________________________________________\n",
      "Epoch 1/500\n",
      "268/268 [==============================] - 20s 55ms/step - loss: 133.8268 - mae: 6.2480 - val_loss: 15.8317 - val_mae: 1.4911\n",
      "Epoch 2/500\n",
      "268/268 [==============================] - 12s 46ms/step - loss: 90.7687 - mae: 4.8361 - val_loss: 15.1347 - val_mae: 1.4481\n",
      "Epoch 3/500\n",
      "268/268 [==============================] - 12s 45ms/step - loss: 87.8492 - mae: 4.7407 - val_loss: 16.5179 - val_mae: 1.5337\n",
      "Epoch 4/500\n",
      "268/268 [==============================] - 14s 53ms/step - loss: 86.1440 - mae: 4.6730 - val_loss: 17.5729 - val_mae: 1.5595\n",
      "Epoch 5/500\n",
      "268/268 [==============================] - 13s 49ms/step - loss: 83.6048 - mae: 4.5813 - val_loss: 16.9923 - val_mae: 1.4231\n",
      "Epoch 6/500\n",
      "268/268 [==============================] - 19s 70ms/step - loss: 79.7165 - mae: 4.4295 - val_loss: 18.6622 - val_mae: 1.5933\n",
      "Epoch 7/500\n",
      "268/268 [==============================] - 15s 58ms/step - loss: 74.2255 - mae: 4.2715 - val_loss: 17.5002 - val_mae: 1.5258\n",
      "Epoch 8/500\n",
      "268/268 [==============================] - 14s 51ms/step - loss: 76.6268 - mae: 4.3538 - val_loss: 26.1061 - val_mae: 2.0060\n",
      "Epoch 9/500\n",
      "268/268 [==============================] - 14s 52ms/step - loss: 65.0164 - mae: 3.9581 - val_loss: 23.8360 - val_mae: 1.8962\n",
      "Epoch 10/500\n",
      "268/268 [==============================] - 15s 56ms/step - loss: 60.9023 - mae: 3.8277 - val_loss: 17.0247 - val_mae: 1.3448\n",
      "Epoch 11/500\n",
      "268/268 [==============================] - 16s 58ms/step - loss: 52.9141 - mae: 3.5354 - val_loss: 16.3933 - val_mae: 1.2469\n",
      "Epoch 12/500\n",
      "268/268 [==============================] - 16s 59ms/step - loss: 48.2297 - mae: 3.3472 - val_loss: 19.5727 - val_mae: 1.3175\n",
      "Epoch 13/500\n",
      "268/268 [==============================] - 15s 58ms/step - loss: 42.2025 - mae: 3.1230 - val_loss: 20.0178 - val_mae: 1.3078\n",
      "Epoch 14/500\n",
      "268/268 [==============================] - 15s 55ms/step - loss: 37.5785 - mae: 2.9365 - val_loss: 17.4487 - val_mae: 1.1988\n",
      "Epoch 15/500\n",
      "268/268 [==============================] - 14s 53ms/step - loss: 40.9604 - mae: 3.0606 - val_loss: 19.7139 - val_mae: 1.3860\n",
      "Epoch 16/500\n",
      "268/268 [==============================] - 14s 54ms/step - loss: 35.9537 - mae: 2.8437 - val_loss: 17.6870 - val_mae: 1.1607\n",
      "Epoch 17/500\n",
      "268/268 [==============================] - 15s 56ms/step - loss: 30.7876 - mae: 2.6313 - val_loss: 17.6698 - val_mae: 1.1712\n"
     ]
    }
   ],
   "source": [
    "model = init_model(X_train, y_train)\n",
    "model.summary()\n",
    "\n",
    "# 2 - Training\n",
    "# ====================================\n",
    "model, history = fit_model(model)"
   ]
  },
  {
   "cell_type": "markdown",
   "id": "36ce572a-3f3e-4927-bd5f-2c2c993180cf",
   "metadata": {
    "id": "36ce572a-3f3e-4927-bd5f-2c2c993180cf"
   },
   "source": [
    "## Cross Validation"
   ]
  },
  {
   "cell_type": "markdown",
   "id": "63bdd2ce-cd35-4c2e-b6de-965cb3e5ea1d",
   "metadata": {
    "id": "63bdd2ce-cd35-4c2e-b6de-965cb3e5ea1d",
    "jp-MarkdownHeadingCollapsed": true
   },
   "source": [
    "### Sequences"
   ]
  },
  {
   "cell_type": "code",
   "execution_count": null,
   "id": "849d50a4-d7a7-465b-94bc-d72ae3619eba",
   "metadata": {
    "id": "849d50a4-d7a7-465b-94bc-d72ae3619eba",
    "jp-MarkdownHeadingCollapsed": true
   },
   "outputs": [],
   "source": [
    "def get_Xi_yi(\n",
    "    df:pd.DataFrame,\n",
    "    input_length:int,  # 120\n",
    "    output_length:int):  # 120\n",
    "    '''\n",
    "    - given a fold, it returns one sequence (X_i, y_i)\n",
    "    - with the starting point of the sequence being chosen at random\n",
    "    '''\n",
    "    # YOUR CODE\n",
    "    first_possible_start = 0                                    # the +1 accounts for the index, that is exclusive.\n",
    "    last_possible_start = len(df) - (input_length + output_length) + 1    # It can start as long as there are still\n",
    "                                                                             # 120 + 1 days after the 1st day.\n",
    "    random_start = np.random.randint(first_possible_start, last_possible_start)  # np.random to pick a day inside\n",
    "                                                                                    # the possible interval.\n",
    "    X_i = df.iloc[random_start:random_start+input_length]\n",
    "\n",
    "    y_i = df.iloc[random_start+input_length:\n",
    "                  random_start+input_length+output_length][TARGET]  # creates a pd.DataFrame for the target y\n",
    "\n",
    "    return (X_i, y_i)"
   ]
  },
  {
   "cell_type": "code",
   "execution_count": null,
   "id": "0fb46021-c48c-4ee2-b4c1-51a0b70fec06",
   "metadata": {
    "id": "0fb46021-c48c-4ee2-b4c1-51a0b70fec06"
   },
   "outputs": [],
   "source": [
    "#Testing if the function works\n",
    "Xi, Yi = get_Xi_yi(\n",
    "    fold=folds[0],\n",
    "    input_length=INPUT_LENGTH,\n",
    "    output_length=OUTPUT_LENGTH)"
   ]
  },
  {
   "cell_type": "code",
   "execution_count": null,
   "id": "5fb67dd7-9f79-45d5-80a1-6085fb9c94af",
   "metadata": {
    "id": "5fb67dd7-9f79-45d5-80a1-6085fb9c94af",
    "outputId": "c2c69bed-0248-402a-d3a4-e9a0e820837f"
   },
   "outputs": [
    {
     "data": {
      "text/plain": [
       "(120, 53)"
      ]
     },
     "execution_count": 400,
     "metadata": {},
     "output_type": "execute_result"
    }
   ],
   "source": [
    "Xi.shape"
   ]
  },
  {
   "cell_type": "code",
   "execution_count": null,
   "id": "b6c34fa2-93c2-4735-9f4a-0d48ca451a89",
   "metadata": {
    "id": "b6c34fa2-93c2-4735-9f4a-0d48ca451a89"
   },
   "outputs": [],
   "source": [
    "### In the recap they choose a number which is bigger than the number of rows in the fold -> does that mean there are duplications???!!!\n",
    "NUMBER_OF_SEQUENCES_TRAIN = (FOLD_LENGTH - (INPUT_LENGTH + OUTPUT_LENGTH))\n",
    "NUMBER_OF_SEQUENCES_VAL = (FOLD_LENGTH - (INPUT_LENGTH + OUTPUT_LENGTH))"
   ]
  },
  {
   "cell_type": "code",
   "execution_count": null,
   "id": "dda9aaf8-433c-436f-b3cc-61ec9570a2a3",
   "metadata": {
    "id": "dda9aaf8-433c-436f-b3cc-61ec9570a2a3"
   },
   "outputs": [],
   "source": [
    "NUMBER_OF_SEQUENCES_TRAIN = len(df) - (INPUT_LENGTH + OUTPUT_LENGTH)"
   ]
  },
  {
   "cell_type": "code",
   "execution_count": null,
   "id": "8d002851-8789-4af1-80bb-186604bd996c",
   "metadata": {
    "id": "8d002851-8789-4af1-80bb-186604bd996c",
    "outputId": "2db23ae0-302b-4439-d1dc-d6c8708ad8f2"
   },
   "outputs": [
    {
     "data": {
      "text/plain": [
       "9383"
      ]
     },
     "execution_count": 399,
     "metadata": {},
     "output_type": "execute_result"
    }
   ],
   "source": [
    "NUMBER_OF_SEQUENCES_TRAIN"
   ]
  },
  {
   "cell_type": "code",
   "execution_count": null,
   "id": "76a660f3-f72d-48b0-becb-aa4b5f274eaf",
   "metadata": {
    "id": "76a660f3-f72d-48b0-becb-aa4b5f274eaf"
   },
   "outputs": [],
   "source": [
    "def get_X_y(\n",
    "    df:pd.DataFrame,\n",
    "    number_of_sequences:int,\n",
    "    input_length:int,\n",
    "    output_length:int\n",
    "):\n",
    "    # YOUR CODE HERE\n",
    "    X, y = [], []  # lists for the sequences for X and y\n",
    "\n",
    "    for i in range(number_of_sequences):\n",
    "        (Xi, yi) = get_Xi_yi(df, input_length, output_length)   # calls the previous function to generate sequences X + y\n",
    "        X.append(Xi)\n",
    "        y.append(yi)\n",
    "\n",
    "    return np.array(X), np.array(y)"
   ]
  },
  {
   "cell_type": "code",
   "execution_count": null,
   "id": "c90bc4c3-e937-4593-9238-15b42ec28c4e",
   "metadata": {
    "id": "c90bc4c3-e937-4593-9238-15b42ec28c4e"
   },
   "outputs": [],
   "source": [
    "seq = get_X_y(df, NUMBER_OF_SEQUENCES_TRAIN, INPUT_LENGTH, OUTPUT_LENGTH)"
   ]
  },
  {
   "cell_type": "code",
   "execution_count": null,
   "id": "273f1f71-5bcb-4af2-9130-3f12467524dd",
   "metadata": {
    "id": "273f1f71-5bcb-4af2-9130-3f12467524dd",
    "outputId": "0098b2da-f3ca-406e-d3e7-3da40dd9572d"
   },
   "outputs": [
    {
     "data": {
      "text/plain": [
       "(9383, 12, 3)"
      ]
     },
     "execution_count": 384,
     "metadata": {},
     "output_type": "execute_result"
    }
   ],
   "source": [
    "seq[1].shape"
   ]
  },
  {
   "cell_type": "code",
   "execution_count": null,
   "id": "033c2c97-0046-4162-b0f7-7a69a28659ce",
   "metadata": {
    "id": "033c2c97-0046-4162-b0f7-7a69a28659ce",
    "outputId": "5abc239a-1010-458a-fed8-a80258197712"
   },
   "outputs": [
    {
     "data": {
      "text/plain": [
       "(2556, 120, 53)"
      ]
     },
     "execution_count": 268,
     "metadata": {},
     "output_type": "execute_result"
    }
   ],
   "source": [
    "X_train.shape"
   ]
  },
  {
   "cell_type": "code",
   "execution_count": null,
   "id": "d0b0e386-e604-48d8-979c-72a44975943d",
   "metadata": {
    "id": "d0b0e386-e604-48d8-979c-72a44975943d",
    "outputId": "f0c96f33-eb30-4425-f0cc-8f9d42e70501"
   },
   "outputs": [
    {
     "data": {
      "text/plain": [
       "(2556, 12, 3)"
      ]
     },
     "execution_count": 269,
     "metadata": {},
     "output_type": "execute_result"
    }
   ],
   "source": [
    "y_train.shape"
   ]
  },
  {
   "cell_type": "code",
   "execution_count": null,
   "id": "7c32e3a8-e5f5-485f-87eb-2d408720a82b",
   "metadata": {
    "id": "7c32e3a8-e5f5-485f-87eb-2d408720a82b"
   },
   "outputs": [],
   "source": [
    "y_temp = y_train[:,:,0]"
   ]
  },
  {
   "cell_type": "code",
   "execution_count": null,
   "id": "7deaa3e5-f280-4a61-94f7-9a78733887f9",
   "metadata": {
    "id": "7deaa3e5-f280-4a61-94f7-9a78733887f9"
   },
   "outputs": [],
   "source": [
    "y_temp = np.expand_dims(y_temp, axis=-1)"
   ]
  },
  {
   "cell_type": "code",
   "execution_count": null,
   "id": "cab19882-f93d-4fdb-9dd9-881f1c4f4b92",
   "metadata": {
    "id": "cab19882-f93d-4fdb-9dd9-881f1c4f4b92",
    "outputId": "71700b72-a322-416b-c850-b612d91ce470"
   },
   "outputs": [
    {
     "data": {
      "text/plain": [
       "(2556, 12, 1)"
      ]
     },
     "execution_count": 328,
     "metadata": {},
     "output_type": "execute_result"
    }
   ],
   "source": [
    "y_temp.shape"
   ]
  },
  {
   "cell_type": "code",
   "execution_count": null,
   "id": "f32b6b77-9d57-4fd8-807a-bc360f452b5f",
   "metadata": {
    "id": "f32b6b77-9d57-4fd8-807a-bc360f452b5f"
   },
   "outputs": [],
   "source": [
    "from tensorflow.keras.callbacks import EarlyStopping\n",
    "\n",
    "def cross_validate_baseline_and_lstm():\n",
    "    '''\n",
    "    This function cross-validates\n",
    "    - the \"last seen value\" baseline model\n",
    "    - the RNN model\n",
    "    '''\n",
    "\n",
    "    list_of_mae_baseline_model = []\n",
    "    list_of_mae_recurrent_model = []\n",
    "\n",
    "    # 0 - Creating folds\n",
    "    # =========================================\n",
    "    folds = get_folds(df, FOLD_LENGTH, FOLD_STRIDE)  # function we coded to get the folds\n",
    "\n",
    "    for fold_id, fold in enumerate(folds):\n",
    "\n",
    "        # 1 - Train/val split the current fold\n",
    "        # =========================================\n",
    "        (fold_train, fold_val) = train_val_split(fold, TRAIN_VAL_RATIO, INPUT_LENGTH) # function we coded to split train/val\n",
    "\n",
    "        X_train, y_train = get_X_y(fold_train, NUMBER_OF_SEQUENCES_TRAIN, INPUT_LENGTH, OUTPUT_LENGTH)  # function we coded to get multiple\n",
    "        X_val, y_val = get_X_y(fold_val, NUMBER_OF_SEQUENCES_TRAIN, INPUT_LENGTH, OUTPUT_LENGTH)       # sequences from a fold\n",
    "\n",
    "        # 2 - Modelling\n",
    "        # =========================================\n",
    "\n",
    "        ##### Baseline Model\n",
    "        baseline_model = init_baseline()\n",
    "        mae_baseline = baseline_model.evaluate(X_val, y_val, verbose=0)[1]   # evaluating baseline model (metric)\n",
    "        list_of_mae_baseline_model.append(mae_baseline)\n",
    "        print(\"-\"*50)\n",
    "        print(f\"MAE baseline fold n°{fold_id} = {round(mae_baseline, 2)}\")\n",
    "\n",
    "        ##### LSTM Model\n",
    "        model = init_model(X_train, y_train)\n",
    "        es = EarlyStopping(monitor = \"val_mae\",\n",
    "                           mode = \"min\",\n",
    "                           patience = 3,\n",
    "                           restore_best_weights = True)\n",
    "\n",
    "        history = model.fit(X_train, y_train,\n",
    "                            validation_split = 0.3,\n",
    "                            shuffle = False,\n",
    "                            batch_size = 32,\n",
    "                            epochs = 50,\n",
    "                            callbacks = [es],\n",
    "                            verbose = 0)\n",
    "        res = model.evaluate(X_val, y_val, verbose=0)    # evaluating LSTM (metric)\n",
    "        mae_lstm = res[1]\n",
    "        list_of_mae_recurrent_model.append(mae_lstm)\n",
    "        print(f\"MAE LSTM fold n°{fold_id} = {round(mae_lstm, 2)}\")\n",
    "\n",
    "        ##### Comparison LSTM vs Baseline for the current fold\n",
    "        print(f\"🏋🏽‍♂️ improvement over baseline: {round((1 - (mae_lstm/mae_baseline))*100,2)} % \\n\")\n",
    "\n",
    "    return list_of_mae_baseline_model, list_of_mae_recurrent_model"
   ]
  },
  {
   "cell_type": "code",
   "execution_count": null,
   "id": "fb8145e9-bc06-4c5a-b499-83f9fa9ec969",
   "metadata": {
    "id": "fb8145e9-bc06-4c5a-b499-83f9fa9ec969"
   },
   "outputs": [],
   "source": [
    "###NOT IMPORTANT NOW\n",
    "\n",
    "fold_length = 24 * 7 * 16    # 24 hours * 7 days * 16 weeks (4 months)\n",
    "fold_stride = 24 * 7 * 2     # 24 hours * 7 days * 2 weeks\n",
    "train_test_ratio = 0.66"
   ]
  },
  {
   "cell_type": "code",
   "execution_count": null,
   "id": "91d7e63d-8700-4db6-a7a8-96674c88d4e4",
   "metadata": {
    "id": "91d7e63d-8700-4db6-a7a8-96674c88d4e4"
   },
   "outputs": [],
   "source": [
    "def get_folds(\n",
    "    df: pd.DataFrame,\n",
    "    fold_length: int,\n",
    "    fold_stride: int) -> List[pd.DataFrame]:\n",
    "    '''\n",
    "    This function slides through the Time Series dataframe of shape (n_timesteps, n_features) to create folds\n",
    "    - of equal `fold_length`\n",
    "    - using `fold_stride` between each fold\n",
    "\n",
    "    Returns a list of folds, each as a DataFrame\n",
    "    '''\n",
    "    # YOUR CODE HERE\n",
    "    folds = []\n",
    "    for idx in range(0, len(df)-fold_length, fold_stride): # --> also possible to get rid of the break\n",
    "    #for idx in range(0, len(df), fold_stride):   # range(start, stop, step): for each idx in our rows at every 91 days\n",
    "        # Exits the loop as soon as the last fold index would exceed the last index\n",
    "        #if (idx + fold_length) > len(df):\n",
    "            #break\n",
    "        fold = df.iloc[idx:idx + fold_length, :]  # select from row idx til last row of the fold (3 years), all the columns\n",
    "        folds.append(fold)   # append the 3 year fold to folds\n",
    "    return folds"
   ]
  }
 ],
 "metadata": {
  "accelerator": "GPU",
  "colab": {
   "collapsed_sections": [
    "52b5e3fe-a526-49e5-8932-7901292605f2",
    "4d96050d-8e2c-4842-a78d-77cc1bf047ec",
    "65b7f0e0-6fde-48ba-bbcd-8bebcfb18a97",
    "36ce572a-3f3e-4927-bd5f-2c2c993180cf"
   ],
   "gpuType": "T4",
   "provenance": []
  },
  "kernelspec": {
   "display_name": "Python 3 (ipykernel)",
   "language": "python",
   "name": "python3"
  },
  "language_info": {
   "codemirror_mode": {
    "name": "ipython",
    "version": 3
   },
   "file_extension": ".py",
   "mimetype": "text/x-python",
   "name": "python",
   "nbconvert_exporter": "python",
   "pygments_lexer": "ipython3",
   "version": "3.10.6"
  }
 },
 "nbformat": 4,
 "nbformat_minor": 5
}
