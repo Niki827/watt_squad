{
 "cells": [
  {
   "cell_type": "code",
   "execution_count": null,
   "metadata": {},
   "outputs": [],
   "source": [
    "## USE THE OTHER FILE - APITEST"
   ]
  },
  {
   "cell_type": "code",
   "execution_count": 70,
   "metadata": {},
   "outputs": [
    {
     "data": {
      "text/plain": [
       "{'greeting': \"api works, you're a genius, go grab a drink\"}"
      ]
     },
     "execution_count": 70,
     "metadata": {},
     "output_type": "execute_result"
    }
   ],
   "source": [
    "import requests\n",
    "import pandas as pd\n",
    "\n",
    "url='http://127.0.0.1:8000'\n",
    "response = requests.get(url).json()\n",
    "response"
   ]
  },
  {
   "cell_type": "code",
   "execution_count": 71,
   "metadata": {},
   "outputs": [
    {
     "data": {
      "text/plain": [
       "b'{\"time\":{\"4518\":\"2020-07-07 19:00:00\"},\"pv_production\":{\"4518\":1.6198334},\"wind_production\":{\"4518\":12.42},\"consumption\":{\"4518\":17.47561111},\"spot_market_price\":{\"4518\":0.02318},\"precip_1h:mm\":{\"4518\":0.0},\"precip_type:idx\":{\"4518\":0.0},\"prob_precip_1h:p\":{\"4518\":1.0},\"clear_sky_rad:W\":{\"4518\":111.7},\"clear_sky_energy_1h:J\":{\"4518\":594760.7},\"diffuse_rad:W\":{\"4518\":37.2},\"diffuse_rad_1h:Wh\":{\"4518\":50.873},\"direct_rad:W\":{\"4518\":22.9},\"direct_rad_1h:Wh\":{\"4518\":37.805},\"global_rad:W\":{\"4518\":60.1},\"global_rad_1h:Wh\":{\"4518\":88.678},\"sunshine_duration_1h:min\":{\"4518\":11.3},\"sun_azimuth:d\":{\"4518\":301.524},\"sun_elevation:d\":{\"4518\":9.864},\"low_cloud_cover:p\":{\"4518\":52.1},\"medium_cloud_cover:p\":{\"4518\":81.1},\"high_cloud_cover:p\":{\"4518\":75.9},\"total_cloud_cover:p\":{\"4518\":97.8},\"effective_cloud_cover:p\":{\"4518\":94.4},\"temp\":{\"4518\":10.0},\"relative_humidity_2m:p\":{\"4518\":81.5},\"dew_point_2m:C\":{\"4518\":6.9},\"wind_speed_2m:ms\":{\"4518\":2.5},\"wind_dir_2m:d\":{\"4518\":281.9},\"t_10m:C\":{\"4518\":9.8},\"relative_humidity_10m:p\":{\"4518\":81.5},\"dew_point_10m:C\":{\"4518\":6.8},\"wind_speed_10m:ms\":{\"4518\":3.6},\"wind_dir_10m:d\":{\"4518\":281.9},\"t_50m:C\":{\"4518\":9.3},\"relative_humidity_50m:p\":{\"4518\":81.7},\"dew_point_50m:C\":{\"4518\":6.3},\"wind_speed_50m:ms\":{\"4518\":4.7},\"wind_dir_50m:d\":{\"4518\":283.0},\"t_100m:C\":{\"4518\":8.8},\"relative_humidity_100m:p\":{\"4518\":82.2},\"dew_point_100m:C\":{\"4518\":5.9},\"wind_speed_100m:ms\":{\"4518\":5.2},\"wind_dir_100m:d\":{\"4518\":284.3}}'"
      ]
     },
     "execution_count": 71,
     "metadata": {},
     "output_type": "execute_result"
    }
   ],
   "source": [
    "df = pd.read_csv(\"raw_data/train.csv\").sample(1)\n",
    "# df1 = df.to_dict(orient='records')\n",
    "df1 = df.to_json().encode()\n",
    "df1"
   ]
  },
  {
   "cell_type": "code",
   "execution_count": 73,
   "metadata": {},
   "outputs": [
    {
     "data": {
      "text/plain": [
       "<Response [404]>"
      ]
     },
     "execution_count": 73,
     "metadata": {},
     "output_type": "execute_result"
    }
   ],
   "source": [
    "payload={\"df\":df1}\n",
    "\n",
    "requests.post(url=\"http://localhost:8000/receivedf\", data=payload)"
   ]
  },
  {
   "cell_type": "code",
   "execution_count": 64,
   "metadata": {},
   "outputs": [],
   "source": [
    "# from wattsquad.api.fast import read_data\n",
    "\n",
    "# df = pd.read_csv(\"raw_data/train.csv\")\n",
    "# read_data(df)"
   ]
  },
  {
   "cell_type": "code",
   "execution_count": null,
   "metadata": {},
   "outputs": [],
   "source": []
  }
 ],
 "metadata": {
  "kernelspec": {
   "display_name": "watt_squad",
   "language": "python",
   "name": "python3"
  },
  "language_info": {
   "codemirror_mode": {
    "name": "ipython",
    "version": 3
   },
   "file_extension": ".py",
   "mimetype": "text/x-python",
   "name": "python",
   "nbconvert_exporter": "python",
   "pygments_lexer": "ipython3",
   "version": "3.10.6"
  }
 },
 "nbformat": 4,
 "nbformat_minor": 2
}
