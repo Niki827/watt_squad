{
 "cells": [
  {
   "cell_type": "markdown",
   "id": "483a4193-7880-4ec5-a8a9-756a88d9f873",
   "metadata": {},
   "source": [
    "# First RNN"
   ]
  },
  {
   "cell_type": "markdown",
   "id": "600b960d-91d8-4267-840c-dc76f705c866",
   "metadata": {},
   "source": [
    "## Data preprocessing"
   ]
  },
  {
   "cell_type": "code",
   "execution_count": 289,
   "id": "fec777d5-8670-4ce2-afe8-2ff9b3dba33d",
   "metadata": {},
   "outputs": [],
   "source": [
    "import pandas as pd\n",
    "import numpy as np\n",
    "\n",
    "from sklearn.pipeline import make_pipeline\n",
    "from sklearn.pipeline import make_union\n",
    "from sklearn.compose import make_column_transformer\n",
    "\n",
    "from sklearn.preprocessing import RobustScaler\n",
    "from sklearn.preprocessing import StandardScaler\n",
    "from sklearn.preprocessing import OneHotEncoder\n",
    "from sklearn.preprocessing import MinMaxScaler\n",
    "\n",
    "#Reading Raw X_train\n",
    "X_train = pd.read_csv(\"/Users/carlbechtolsheim/code/Niki827/watt_squad/raw_data/train.csv\")\n",
    "X_test = pd.read_csv('/Users/carlbechtolsheim/code/Niki827/watt_squad/raw_data/test.csv')\n",
    "\n",
    "#Log columns\n",
    "f_logs = [\n",
    "    'precip_1h:mm',\n",
    "    'prob_precip_1h:p',\n",
    "    'clear_sky_rad:W',\n",
    "    'clear_sky_energy_1h:J',\n",
    "    'diffuse_rad:W',\n",
    "    'diffuse_rad_1h:Wh',\n",
    "    'direct_rad:W',\n",
    "    'direct_rad_1h:Wh',\n",
    "    'global_rad:W',\n",
    "    'global_rad_1h:Wh',\n",
    "    'wind_speed_2m:ms',\n",
    "    'wind_speed_10m:ms',\n",
    "    'wind_speed_50m:ms',\n",
    "    'wind_speed_100m:ms'\n",
    "]\n",
    "\n",
    "epsilon = 1e-5\n",
    "\n",
    "for f in f_logs:\n",
    "    X_train[f] = np.log(X_train[f] + epsilon)\n",
    "    X_test[f] = np.log(X_test[f] + epsilon)\n",
    "\n",
    "# Converting time to datetime\n",
    "# We might have done that before already\n",
    "X_train['time']= pd.to_datetime(X_train['time'])\n",
    "X_test['time']= pd.to_datetime(X_test['time'])\n",
    "\n",
    "#the following two steps creates new columns to get the input for the sine & cosine columns\n",
    "#creating columns indicating the hour and the month\n",
    "X_train['hour'] = X_train['time'].dt.hour\n",
    "X_train['month'] = X_train['time'].dt.month\n",
    "\n",
    "X_test['hour'] = X_test['time'].dt.hour\n",
    "X_test['month'] = X_test['time'].dt.month\n",
    "\n",
    "#creating column indicating the season\n",
    "def assign_season(month):\n",
    "    if month in [3, 4, 5]:\n",
    "        return 1  # Spring\n",
    "    elif month in [6, 7, 8]:\n",
    "        return 2  # Summer\n",
    "    elif month in [9, 10, 11]:\n",
    "        return 3  # Fall\n",
    "    else:  # December, January, February\n",
    "        return 4  # Winter\n",
    "\n",
    "# X_train\n",
    "X_train['season'] = X_train['month'].apply(assign_season)\n",
    "\n",
    "X_train['hour_sine'] = np.sin(2 * np.pi * X_train['hour'] / 24)\n",
    "X_train['hour_cosine'] = np.cos(2 * np.pi * X_train['hour'] / 24)\n",
    "\n",
    "X_train['month_sine'] = np.sin(2 * np.pi * X_train['month'] / 12)\n",
    "X_train['month_cosine'] = np.cos(2 * np.pi * X_train['month'] / 12)\n",
    "\n",
    "X_train['season_sine'] = np.sin(2 * np.pi * X_train['season'] / 4)\n",
    "X_train['season_cosine'] = np.cos(2 * np.pi * X_train['season'] / 4)\n",
    "\n",
    "X_train = X_train.drop(columns = ['hour', 'month', 'season'])\n",
    "\n",
    "# X_test\n",
    "X_test['season'] = X_test['month'].apply(assign_season)\n",
    "\n",
    "X_test['hour_sine'] = np.sin(2 * np.pi * X_test['hour'] / 24)\n",
    "X_test['hour_cosine'] = np.cos(2 * np.pi * X_test['hour'] / 24)\n",
    "\n",
    "X_test['month_sine'] = np.sin(2 * np.pi * X_test['month'] / 12)\n",
    "X_test['month_cosine'] = np.cos(2 * np.pi * X_test['month'] / 12)\n",
    "\n",
    "X_test['season_sine'] = np.sin(2 * np.pi * X_test['season'] / 4)\n",
    "X_test['season_cosine'] = np.cos(2 * np.pi * X_test['season'] / 4)\n",
    "\n",
    "X_test = X_test.drop(columns = ['hour', 'month', 'season'])\n",
    "\n",
    "# Cyclic features\n",
    "cyclical_features = ['sun_azimuth:d', 'wind_dir_2m:d', 'wind_dir_10m:d', 'wind_dir_50m:d', 'wind_dir_100m:d']\n",
    "degrees = 360\n",
    "\n",
    "for cyclical_feature in cyclical_features:\n",
    "    sin_column_name = f'sin_{cyclical_feature}'\n",
    "    cos_column_name = f'cos_{cyclical_feature}'\n",
    "    X_train[sin_column_name] = np.sin(2 * np.pi * X_train[cyclical_feature]/2)\n",
    "    X_train[cos_column_name] = np.cos(2 * np.pi * X_train[cyclical_feature]/degrees)\n",
    "    X_test[sin_column_name] = np.sin(2 * np.pi * X_test[cyclical_feature]/2)\n",
    "    X_test[cos_column_name] = np.cos(2 * np.pi * X_test[cyclical_feature]/degrees)\n",
    "\n",
    "X_train = X_train.drop(columns=cyclical_features)\n",
    "X_test = X_test.drop(columns=cyclical_features)\n",
    "\n",
    "# targets = ['pv_production', 'wind_production', 'consumption']\n",
    "f_minmax = [\n",
    "    'hour_sine',\n",
    "    'hour_cosine',\n",
    "    'month_sine',\n",
    "    'month_cosine',\n",
    "    'season_sine',\n",
    "    'season_cosine',\n",
    "    'precip_1h:mm',\n",
    "    'prob_precip_1h:p',\n",
    "    'clear_sky_rad:W',\n",
    "    'clear_sky_energy_1h:J',\n",
    "    'diffuse_rad:W',\n",
    "    'diffuse_rad_1h:Wh',\n",
    "    'direct_rad:W',\n",
    "    'direct_rad_1h:Wh',\n",
    "    'global_rad:W',\n",
    "    'global_rad_1h:Wh',\n",
    "    'sunshine_duration_1h:min',\n",
    "    'low_cloud_cover:p',\n",
    "    'medium_cloud_cover:p',\n",
    "    'high_cloud_cover:p',\n",
    "    'total_cloud_cover:p',\n",
    "    'effective_cloud_cover:p',\n",
    "    'sin_sun_azimuth:d',\n",
    "    'cos_sun_azimuth:d',\n",
    "    'sin_wind_dir_2m:d',\n",
    "    'cos_wind_dir_2m:d',\n",
    "    'sin_wind_dir_10m:d',\n",
    "    'cos_wind_dir_10m:d',\n",
    "    'sin_wind_dir_50m:d',\n",
    "    'cos_wind_dir_50m:d',\n",
    "    'sin_wind_dir_100m:d',\n",
    "    'cos_wind_dir_100m:d',\n",
    "    'relative_humidity_2m:p',\n",
    "    'relative_humidity_10m:p',\n",
    "    'relative_humidity_50m:p',\n",
    "    'relative_humidity_100m:p',\n",
    "    'dew_point_2m:C',\n",
    "    'dew_point_10m:C',\n",
    "    'dew_point_50m:C',\n",
    "    'dew_point_100m:C',\n",
    "    'temp'\n",
    "]\n",
    "f_standard = ['sun_elevation:d']\n",
    "f_robust = [\n",
    "    't_10m:C',\n",
    "    't_50m:C',\n",
    "    't_100m:C',\n",
    "    'wind_speed_2m:ms',\n",
    "    'wind_speed_10m:ms',\n",
    "    'wind_speed_50m:ms',\n",
    "    'wind_speed_100m:ms'\n",
    "]\n",
    "\n",
    "f_ohe = ['precip_type:idx']\n",
    "\n",
    "# other = ['spot_market_price']\n",
    "\n",
    "# target\n",
    "y = X_train[['pv_production', 'wind_production', 'consumption']]\n",
    "# features\n",
    "X_train = X_train.drop(columns=['time', 'pv_production', 'wind_production', 'consumption', 'spot_market_price'])\n",
    "#X_test = X_test.drop(columns=['time', 'pv_production', 'wind_production', 'consumption', 'spot_market_price'])\n",
    "X_test = X_test.drop(columns=['time','spot_market_price'])\n",
    "\n",
    "# Preprocessing Pipeline\n",
    "minmax_scaler = MinMaxScaler()\n",
    "standard_scaler = StandardScaler()\n",
    "cat_transformer = OneHotEncoder()\n",
    "robust_scaler = RobustScaler()\n",
    "\n",
    "preproc_basic = make_column_transformer(\n",
    "    (minmax_scaler, f_minmax ),\n",
    "    (standard_scaler, f_standard),\n",
    "    (robust_scaler, f_robust),\n",
    "    (cat_transformer, f_ohe),\n",
    "    remainder='passthrough'\n",
    ")\n",
    "# Train X\n",
    "X_train_transformed = preproc_basic.fit_transform(X_train)\n",
    "\n",
    "# Adding Column names\n",
    "X_train_transformed = pd.DataFrame(\n",
    "    X_train_transformed,\n",
    "    columns=preproc_basic.get_feature_names_out()\n",
    ")\n",
    "# Test x\n",
    "X_test_transformed = preproc_basic.transform(X_test)\n",
    "# Adding Column names\n",
    "X_test_transformed = pd.DataFrame(\n",
    "    X_test_transformed,\n",
    "    columns=preproc_basic.get_feature_names_out()\n",
    ")"
   ]
  },
  {
   "cell_type": "code",
   "execution_count": 285,
   "id": "1913fd3e-570e-4fe6-9c39-dadf1ffde76e",
   "metadata": {},
   "outputs": [
    {
     "data": {
      "text/plain": [
       "(9515, 50)"
      ]
     },
     "execution_count": 285,
     "metadata": {},
     "output_type": "execute_result"
    }
   ],
   "source": [
    "X_train.shape"
   ]
  },
  {
   "cell_type": "markdown",
   "id": "43e1fa43-2e9a-4fcf-bffa-d3144935f291",
   "metadata": {},
   "source": [
    "## Data Visualization"
   ]
  },
  {
   "cell_type": "code",
   "execution_count": 286,
   "id": "07ac2098-d4bf-4f10-9c6d-7e7a4edc33cb",
   "metadata": {},
   "outputs": [
    {
     "data": {
      "text/html": [
       "<div>\n",
       "<style scoped>\n",
       "    .dataframe tbody tr th:only-of-type {\n",
       "        vertical-align: middle;\n",
       "    }\n",
       "\n",
       "    .dataframe tbody tr th {\n",
       "        vertical-align: top;\n",
       "    }\n",
       "\n",
       "    .dataframe thead th {\n",
       "        text-align: right;\n",
       "    }\n",
       "</style>\n",
       "<table border=\"1\" class=\"dataframe\">\n",
       "  <thead>\n",
       "    <tr style=\"text-align: right;\">\n",
       "      <th></th>\n",
       "      <th>precip_1h:mm</th>\n",
       "      <th>precip_type:idx</th>\n",
       "      <th>prob_precip_1h:p</th>\n",
       "      <th>clear_sky_rad:W</th>\n",
       "      <th>clear_sky_energy_1h:J</th>\n",
       "      <th>diffuse_rad:W</th>\n",
       "      <th>diffuse_rad_1h:Wh</th>\n",
       "      <th>direct_rad:W</th>\n",
       "      <th>direct_rad_1h:Wh</th>\n",
       "      <th>global_rad:W</th>\n",
       "      <th>...</th>\n",
       "      <th>sin_sun_azimuth:d</th>\n",
       "      <th>cos_sun_azimuth:d</th>\n",
       "      <th>sin_wind_dir_2m:d</th>\n",
       "      <th>cos_wind_dir_2m:d</th>\n",
       "      <th>sin_wind_dir_10m:d</th>\n",
       "      <th>cos_wind_dir_10m:d</th>\n",
       "      <th>sin_wind_dir_50m:d</th>\n",
       "      <th>cos_wind_dir_50m:d</th>\n",
       "      <th>sin_wind_dir_100m:d</th>\n",
       "      <th>cos_wind_dir_100m:d</th>\n",
       "    </tr>\n",
       "  </thead>\n",
       "  <tbody>\n",
       "    <tr>\n",
       "      <th>0</th>\n",
       "      <td>-11.512925</td>\n",
       "      <td>0.0</td>\n",
       "      <td>0.00001</td>\n",
       "      <td>2.302586</td>\n",
       "      <td>11.079462</td>\n",
       "      <td>2.001481</td>\n",
       "      <td>2.564258</td>\n",
       "      <td>-1.203939</td>\n",
       "      <td>0.635523</td>\n",
       "      <td>2.041222</td>\n",
       "      <td>...</td>\n",
       "      <td>0.882291</td>\n",
       "      <td>-0.922834</td>\n",
       "      <td>-9.510565e-01</td>\n",
       "      <td>-0.416281</td>\n",
       "      <td>-9.510565e-01</td>\n",
       "      <td>-0.416281</td>\n",
       "      <td>0.809017</td>\n",
       "      <td>-0.401948</td>\n",
       "      <td>-0.809017</td>\n",
       "      <td>-0.385906</td>\n",
       "    </tr>\n",
       "    <tr>\n",
       "      <th>1</th>\n",
       "      <td>-11.512925</td>\n",
       "      <td>0.0</td>\n",
       "      <td>0.00001</td>\n",
       "      <td>-11.512925</td>\n",
       "      <td>9.100648</td>\n",
       "      <td>-11.512925</td>\n",
       "      <td>1.306983</td>\n",
       "      <td>-11.512925</td>\n",
       "      <td>-2.024878</td>\n",
       "      <td>-11.512925</td>\n",
       "      <td>...</td>\n",
       "      <td>0.288029</td>\n",
       "      <td>-0.808062</td>\n",
       "      <td>9.510565e-01</td>\n",
       "      <td>-0.302370</td>\n",
       "      <td>9.510565e-01</td>\n",
       "      <td>-0.302370</td>\n",
       "      <td>0.809017</td>\n",
       "      <td>-0.304033</td>\n",
       "      <td>0.309017</td>\n",
       "      <td>-0.307357</td>\n",
       "    </tr>\n",
       "    <tr>\n",
       "      <th>2</th>\n",
       "      <td>-11.512925</td>\n",
       "      <td>0.0</td>\n",
       "      <td>0.00001</td>\n",
       "      <td>-11.512925</td>\n",
       "      <td>-11.512925</td>\n",
       "      <td>-11.512925</td>\n",
       "      <td>-11.512925</td>\n",
       "      <td>-11.512925</td>\n",
       "      <td>-11.512925</td>\n",
       "      <td>-11.512925</td>\n",
       "      <td>...</td>\n",
       "      <td>-0.575005</td>\n",
       "      <td>-0.653487</td>\n",
       "      <td>8.090170e-01</td>\n",
       "      <td>-0.270600</td>\n",
       "      <td>8.090170e-01</td>\n",
       "      <td>-0.270600</td>\n",
       "      <td>0.309017</td>\n",
       "      <td>-0.273959</td>\n",
       "      <td>-0.587785</td>\n",
       "      <td>-0.278991</td>\n",
       "    </tr>\n",
       "    <tr>\n",
       "      <th>3</th>\n",
       "      <td>-11.512925</td>\n",
       "      <td>0.0</td>\n",
       "      <td>0.00001</td>\n",
       "      <td>-11.512925</td>\n",
       "      <td>-11.512925</td>\n",
       "      <td>-11.512925</td>\n",
       "      <td>-11.512925</td>\n",
       "      <td>-11.512925</td>\n",
       "      <td>-11.512925</td>\n",
       "      <td>-11.512925</td>\n",
       "      <td>...</td>\n",
       "      <td>0.134678</td>\n",
       "      <td>-0.468809</td>\n",
       "      <td>2.057035e-14</td>\n",
       "      <td>-0.258819</td>\n",
       "      <td>2.057035e-14</td>\n",
       "      <td>-0.258819</td>\n",
       "      <td>0.951057</td>\n",
       "      <td>-0.265556</td>\n",
       "      <td>0.587785</td>\n",
       "      <td>-0.272280</td>\n",
       "    </tr>\n",
       "    <tr>\n",
       "      <th>4</th>\n",
       "      <td>-11.512925</td>\n",
       "      <td>0.0</td>\n",
       "      <td>0.00001</td>\n",
       "      <td>-11.512925</td>\n",
       "      <td>-11.512925</td>\n",
       "      <td>-11.512925</td>\n",
       "      <td>-11.512925</td>\n",
       "      <td>-11.512925</td>\n",
       "      <td>-11.512925</td>\n",
       "      <td>-11.512925</td>\n",
       "      <td>...</td>\n",
       "      <td>0.478998</td>\n",
       "      <td>-0.261499</td>\n",
       "      <td>-9.510565e-01</td>\n",
       "      <td>-0.351842</td>\n",
       "      <td>-9.510565e-01</td>\n",
       "      <td>-0.351842</td>\n",
       "      <td>-1.000000</td>\n",
       "      <td>-0.350207</td>\n",
       "      <td>-0.809017</td>\n",
       "      <td>-0.346936</td>\n",
       "    </tr>\n",
       "  </tbody>\n",
       "</table>\n",
       "<p>5 rows × 50 columns</p>\n",
       "</div>"
      ],
      "text/plain": [
       "   precip_1h:mm  precip_type:idx  prob_precip_1h:p  clear_sky_rad:W  \\\n",
       "0    -11.512925              0.0           0.00001         2.302586   \n",
       "1    -11.512925              0.0           0.00001       -11.512925   \n",
       "2    -11.512925              0.0           0.00001       -11.512925   \n",
       "3    -11.512925              0.0           0.00001       -11.512925   \n",
       "4    -11.512925              0.0           0.00001       -11.512925   \n",
       "\n",
       "   clear_sky_energy_1h:J  diffuse_rad:W  diffuse_rad_1h:Wh  direct_rad:W  \\\n",
       "0              11.079462       2.001481           2.564258     -1.203939   \n",
       "1               9.100648     -11.512925           1.306983    -11.512925   \n",
       "2             -11.512925     -11.512925         -11.512925    -11.512925   \n",
       "3             -11.512925     -11.512925         -11.512925    -11.512925   \n",
       "4             -11.512925     -11.512925         -11.512925    -11.512925   \n",
       "\n",
       "   direct_rad_1h:Wh  global_rad:W  ...  sin_sun_azimuth:d  cos_sun_azimuth:d  \\\n",
       "0          0.635523      2.041222  ...           0.882291          -0.922834   \n",
       "1         -2.024878    -11.512925  ...           0.288029          -0.808062   \n",
       "2        -11.512925    -11.512925  ...          -0.575005          -0.653487   \n",
       "3        -11.512925    -11.512925  ...           0.134678          -0.468809   \n",
       "4        -11.512925    -11.512925  ...           0.478998          -0.261499   \n",
       "\n",
       "   sin_wind_dir_2m:d  cos_wind_dir_2m:d  sin_wind_dir_10m:d  \\\n",
       "0      -9.510565e-01          -0.416281       -9.510565e-01   \n",
       "1       9.510565e-01          -0.302370        9.510565e-01   \n",
       "2       8.090170e-01          -0.270600        8.090170e-01   \n",
       "3       2.057035e-14          -0.258819        2.057035e-14   \n",
       "4      -9.510565e-01          -0.351842       -9.510565e-01   \n",
       "\n",
       "   cos_wind_dir_10m:d  sin_wind_dir_50m:d  cos_wind_dir_50m:d  \\\n",
       "0           -0.416281            0.809017           -0.401948   \n",
       "1           -0.302370            0.809017           -0.304033   \n",
       "2           -0.270600            0.309017           -0.273959   \n",
       "3           -0.258819            0.951057           -0.265556   \n",
       "4           -0.351842           -1.000000           -0.350207   \n",
       "\n",
       "   sin_wind_dir_100m:d  cos_wind_dir_100m:d  \n",
       "0            -0.809017            -0.385906  \n",
       "1             0.309017            -0.307357  \n",
       "2            -0.587785            -0.278991  \n",
       "3             0.587785            -0.272280  \n",
       "4            -0.809017            -0.346936  \n",
       "\n",
       "[5 rows x 50 columns]"
      ]
     },
     "execution_count": 286,
     "metadata": {},
     "output_type": "execute_result"
    }
   ],
   "source": [
    "X_train.head()"
   ]
  },
  {
   "cell_type": "code",
   "execution_count": 287,
   "id": "2b6adbf4-2159-47c8-847a-8c6e454ca664",
   "metadata": {},
   "outputs": [
    {
     "data": {
      "text/html": [
       "<div>\n",
       "<style scoped>\n",
       "    .dataframe tbody tr th:only-of-type {\n",
       "        vertical-align: middle;\n",
       "    }\n",
       "\n",
       "    .dataframe tbody tr th {\n",
       "        vertical-align: top;\n",
       "    }\n",
       "\n",
       "    .dataframe thead th {\n",
       "        text-align: right;\n",
       "    }\n",
       "</style>\n",
       "<table border=\"1\" class=\"dataframe\">\n",
       "  <thead>\n",
       "    <tr style=\"text-align: right;\">\n",
       "      <th></th>\n",
       "      <th>pv_production</th>\n",
       "      <th>wind_production</th>\n",
       "      <th>consumption</th>\n",
       "    </tr>\n",
       "  </thead>\n",
       "  <tbody>\n",
       "    <tr>\n",
       "      <th>0</th>\n",
       "      <td>0.0</td>\n",
       "      <td>40.59</td>\n",
       "      <td>26.514689</td>\n",
       "    </tr>\n",
       "    <tr>\n",
       "      <th>1</th>\n",
       "      <td>0.0</td>\n",
       "      <td>67.86</td>\n",
       "      <td>28.326960</td>\n",
       "    </tr>\n",
       "    <tr>\n",
       "      <th>2</th>\n",
       "      <td>0.0</td>\n",
       "      <td>116.68</td>\n",
       "      <td>23.682207</td>\n",
       "    </tr>\n",
       "    <tr>\n",
       "      <th>3</th>\n",
       "      <td>0.0</td>\n",
       "      <td>120.22</td>\n",
       "      <td>25.354782</td>\n",
       "    </tr>\n",
       "    <tr>\n",
       "      <th>4</th>\n",
       "      <td>0.0</td>\n",
       "      <td>109.86</td>\n",
       "      <td>23.861942</td>\n",
       "    </tr>\n",
       "  </tbody>\n",
       "</table>\n",
       "</div>"
      ],
      "text/plain": [
       "   pv_production  wind_production  consumption\n",
       "0            0.0            40.59    26.514689\n",
       "1            0.0            67.86    28.326960\n",
       "2            0.0           116.68    23.682207\n",
       "3            0.0           120.22    25.354782\n",
       "4            0.0           109.86    23.861942"
      ]
     },
     "execution_count": 287,
     "metadata": {},
     "output_type": "execute_result"
    }
   ],
   "source": [
    "y.head()"
   ]
  },
  {
   "cell_type": "code",
   "execution_count": 277,
   "id": "6146972c-a578-4fce-8d64-1bbf73e05c7f",
   "metadata": {},
   "outputs": [],
   "source": [
    "TARGET = ['pv_production' ,'wind_production', 'consumption']\n",
    "N_TARGETS = 3\n",
    "N_FEATURES = 50"
   ]
  },
  {
   "cell_type": "code",
   "execution_count": 278,
   "id": "5760d5af-dcfe-41a0-8cbf-8fd58484787f",
   "metadata": {},
   "outputs": [],
   "source": [
    "import numpy as np\n",
    "import pandas as pd\n",
    "import matplotlib.pyplot as plt\n",
    "import seaborn as sns\n",
    "from typing import Dict, List, Tuple, Sequence"
   ]
  },
  {
   "cell_type": "code",
   "execution_count": 279,
   "id": "4d11e687-906a-47f9-b865-4056a06dbc96",
   "metadata": {},
   "outputs": [
    {
     "data": {
      "image/png": "[encoded data removed]",
      "text/plain": [
       "<Figure size 640x480 with 3 Axes>"
      ]
     },
     "metadata": {},
     "output_type": "display_data"
    }
   ],
   "source": [
    "\n",
    "y[TARGET].plot(subplots = True); "
   ]
  },
  {
   "cell_type": "markdown",
   "id": "6e7914fd-5111-463d-9e90-6835b12875f6",
   "metadata": {},
   "source": [
    "## Prepare the dataset"
   ]
  },
  {
   "cell_type": "code",
   "execution_count": 316,
   "id": "84db0276-a831-45bf-9073-88392b5c5090",
   "metadata": {},
   "outputs": [],
   "source": [
    "X_train_transformed[TARGET] = y"
   ]
  },
  {
   "cell_type": "code",
   "execution_count": 319,
   "id": "59cba772-52f9-4415-b17e-3955c34a1d82",
   "metadata": {},
   "outputs": [],
   "source": [
    "df = X_train_transformed"
   ]
  },
  {
   "cell_type": "code",
   "execution_count": 102,
   "id": "06a72b10-7e07-46c1-aecf-2f541c2c76b2",
   "metadata": {},
   "outputs": [],
   "source": [
    "X_train[TARGET] = y"
   ]
  },
  {
   "cell_type": "code",
   "execution_count": 103,
   "id": "5e2a5929-4eaf-45cc-a04b-468c94cde9b2",
   "metadata": {},
   "outputs": [],
   "source": [
    "df = X_train"
   ]
  },
  {
   "cell_type": "code",
   "execution_count": 291,
   "id": "5ee6054a-b743-4aa9-85b0-c383812c3491",
   "metadata": {},
   "outputs": [],
   "source": [
    "df_test = X_test"
   ]
  },
  {
   "cell_type": "markdown",
   "id": "52b5e3fe-a526-49e5-8932-7901292605f2",
   "metadata": {},
   "source": [
    "### Folds"
   ]
  },
  {
   "cell_type": "code",
   "execution_count": 321,
   "id": "1772f405-114e-44e7-83c5-f8368602a5fb",
   "metadata": {},
   "outputs": [],
   "source": [
    "# --------------------------------------------------- #\n",
    "# Let's consider FOLDS with a length of 4 months      #\n",
    "# (3 years will be used for train, 1 for test!)       #\n",
    "# --------------------------------------------------- #\n",
    "\n",
    "FOLD_LENGTH = 24 * 7 * 16                             # 24 times a day * for 7 days * for 16 weeks\n",
    "\n",
    "\n",
    "# --------------------------------------------------- #\n",
    "# Let's consider FOLDS starting every 2 weeks         #\n",
    "# --------------------------------------------------- #\n",
    "    \n",
    "FOLD_STRIDE = 24 * 7 * 2                              # 24 times a day for 2 weeks\n",
    "\n",
    "\n",
    "# --------------------------------------------------- #\n",
    "# Let's consider a train-test-split ratio of 2/3      #\n",
    "# --------------------------------------------------- #\n",
    "\n",
    "TRAIN_VAL_RATIO = 0.75                               # 3 month train, 1 month test"
   ]
  },
  {
   "cell_type": "code",
   "execution_count": 300,
   "id": "b84ad4cb-b9b2-413c-9ab4-d1e5ba0b9444",
   "metadata": {},
   "outputs": [],
   "source": [
    "def get_folds(\n",
    "    df: pd.DataFrame,\n",
    "    fold_length: int,\n",
    "    fold_stride: int) -> List[pd.DataFrame]:\n",
    "    '''\n",
    "    This function slides through the Time Series dataframe of shape (n_timesteps, n_features) to create folds\n",
    "    - of equal `fold_length`\n",
    "    - using `fold_stride` between each fold\n",
    "    \n",
    "    Returns a list of folds, each as a DataFrame\n",
    "    '''\n",
    "    # YOUR CODE HERE\n",
    "    folds = []\n",
    "    for idx in range(0, len(df)-fold_length, fold_stride): # --> also possible to get rid of the break \n",
    "    #for idx in range(0, len(df), fold_stride):   # range(start, stop, step): for each idx in our rows at every 91 days\n",
    "        # Exits the loop as soon as the last fold index would exceed the last index\n",
    "        #if (idx + fold_length) > len(df):\n",
    "            #break\n",
    "        fold = df.iloc[idx:idx + fold_length, :]  # select from row idx til last row of the fold (3 years), all the columns\n",
    "        folds.append(fold)   # append the 3 year fold to folds\n",
    "    return folds"
   ]
  },
  {
   "cell_type": "code",
   "execution_count": 301,
   "id": "a02befd2-5db5-40a7-ae08-450d221c3b12",
   "metadata": {},
   "outputs": [],
   "source": [
    "folds = get_folds(df, FOLD_LENGTH, FOLD_STRIDE)"
   ]
  },
  {
   "cell_type": "code",
   "execution_count": 303,
   "id": "b84260b7-e2de-404e-a8ea-0970e2613ffe",
   "metadata": {},
   "outputs": [
    {
     "data": {
      "text/plain": [
       "21"
      ]
     },
     "execution_count": 303,
     "metadata": {},
     "output_type": "execute_result"
    }
   ],
   "source": [
    "len(folds)"
   ]
  },
  {
   "cell_type": "markdown",
   "id": "4d96050d-8e2c-4842-a78d-77cc1bf047ec",
   "metadata": {},
   "source": [
    "### Train-Val split"
   ]
  },
  {
   "cell_type": "code",
   "execution_count": 304,
   "id": "c265d4f0-5553-4cd2-887b-f6b2a98513cf",
   "metadata": {},
   "outputs": [],
   "source": [
    "def train_val_split(fold:pd.DataFrame,\n",
    "                     train_val_ratio: float,\n",
    "                     input_length: int) -> Tuple[pd.DataFrame]:\n",
    "    '''\n",
    "    Returns a train dataframe and a test dataframe (fold_train, fold_test)\n",
    "    from which one can sample (X,y) sequences.\n",
    "    df_train should contain all the timesteps until round(train_test_ratio * len(fold))   \n",
    "    '''\n",
    "    # YOUR CODE HERE\n",
    "    # TRAIN SET\n",
    "    # ======================\n",
    "    last_train_idx = round(train_val_ratio * len(fold))  # 0.66 * number of rows in the fold (66% of the fold for train)\n",
    "    fold_train = fold.iloc[0:last_train_idx, :]   # 1st until last row of train set, all columns\n",
    "\n",
    "    # TEST SET\n",
    "    # ======================    \n",
    "    first_val_idx = last_train_idx - input_length  # last row of train set - 2 weeks --> test set starts 2 weeks \n",
    "                                                                    # before train set ends --> overlap (not a problem with X)\n",
    "    fold_val = fold.iloc[first_val_idx:, :]   # 1st until last row of val set, all columns\n",
    "\n",
    "    return (fold_train, fold_val)"
   ]
  },
  {
   "cell_type": "code",
   "execution_count": 305,
   "id": "9b88a296-68ae-440e-beb5-eb02e7ee0cc2",
   "metadata": {},
   "outputs": [],
   "source": [
    "(fold_train, fold_val) = train_val_split(folds[0], TRAIN_VAL_RATIO, INPUT_LENGTH)"
   ]
  },
  {
   "cell_type": "code",
   "execution_count": 145,
   "id": "52f960ec-8a62-4add-9378-4e23cba0a58e",
   "metadata": {},
   "outputs": [],
   "source": [
    "#Five days as input & output length\n",
    "INPUT_LENGTH = 24 * 5 # records every hour x 24 hours\n",
    "                      # for 5 days\n",
    "OUTPUT_LENGTH = 12"
   ]
  },
  {
   "cell_type": "markdown",
   "id": "63bdd2ce-cd35-4c2e-b6de-965cb3e5ea1d",
   "metadata": {},
   "source": [
    "### Sequences"
   ]
  },
  {
   "cell_type": "code",
   "execution_count": 338,
   "id": "849d50a4-d7a7-465b-94bc-d72ae3619eba",
   "metadata": {
    "jp-MarkdownHeadingCollapsed": true
   },
   "outputs": [],
   "source": [
    "def get_Xi_yi(\n",
    "    df:pd.DataFrame, \n",
    "    input_length:int,  # 120\n",
    "    output_length:int):  # 120\n",
    "    '''\n",
    "    - given a fold, it returns one sequence (X_i, y_i)\n",
    "    - with the starting point of the sequence being chosen at random\n",
    "    '''\n",
    "    # YOUR CODE\n",
    "    first_possible_start = 0                                    # the +1 accounts for the index, that is exclusive.\n",
    "    last_possible_start = len(df) - (input_length + output_length) + 1    # It can start as long as there are still \n",
    "                                                                             # 120 + 1 days after the 1st day.\n",
    "    random_start = np.random.randint(first_possible_start, last_possible_start)  # np.random to pick a day inside \n",
    "                                                                                    # the possible interval.\n",
    "    X_i = df.iloc[random_start:random_start+input_length]  \n",
    "    \n",
    "    y_i = df.iloc[random_start+input_length:\n",
    "                  random_start+input_length+output_length][TARGET]  # creates a pd.DataFrame for the target y\n",
    "    \n",
    "    return (X_i, y_i)"
   ]
  },
  {
   "cell_type": "code",
   "execution_count": 312,
   "id": "0fb46021-c48c-4ee2-b4c1-51a0b70fec06",
   "metadata": {},
   "outputs": [],
   "source": [
    "#Testing if the function works\n",
    "Xi, Yi = get_Xi_yi(\n",
    "    fold=folds[0], \n",
    "    input_length=INPUT_LENGTH,\n",
    "    output_length=OUTPUT_LENGTH)"
   ]
  },
  {
   "cell_type": "code",
   "execution_count": 400,
   "id": "5fb67dd7-9f79-45d5-80a1-6085fb9c94af",
   "metadata": {},
   "outputs": [
    {
     "data": {
      "text/plain": [
       "(120, 53)"
      ]
     },
     "execution_count": 400,
     "metadata": {},
     "output_type": "execute_result"
    }
   ],
   "source": [
    "Xi.shape"
   ]
  },
  {
   "cell_type": "code",
   "execution_count": 265,
   "id": "b6c34fa2-93c2-4735-9f4a-0d48ca451a89",
   "metadata": {},
   "outputs": [],
   "source": [
    "### In the recap they choose a number which is bigger than the number of rows in the fold -> does that mean there are duplications???!!!\n",
    "NUMBER_OF_SEQUENCES_TRAIN = (FOLD_LENGTH - (INPUT_LENGTH + OUTPUT_LENGTH))\n",
    "NUMBER_OF_SEQUENCES_VAL = (FOLD_LENGTH - (INPUT_LENGTH + OUTPUT_LENGTH))"
   ]
  },
  {
   "cell_type": "code",
   "execution_count": 339,
   "id": "dda9aaf8-433c-436f-b3cc-61ec9570a2a3",
   "metadata": {},
   "outputs": [],
   "source": [
    "NUMBER_OF_SEQUENCES_TRAIN = len(df) - (INPUT_LENGTH + OUTPUT_LENGTH)"
   ]
  },
  {
   "cell_type": "code",
   "execution_count": 399,
   "id": "8d002851-8789-4af1-80bb-186604bd996c",
   "metadata": {},
   "outputs": [
    {
     "data": {
      "text/plain": [
       "9383"
      ]
     },
     "execution_count": 399,
     "metadata": {},
     "output_type": "execute_result"
    }
   ],
   "source": [
    "NUMBER_OF_SEQUENCES_TRAIN"
   ]
  },
  {
   "cell_type": "code",
   "execution_count": 340,
   "id": "76a660f3-f72d-48b0-becb-aa4b5f274eaf",
   "metadata": {},
   "outputs": [],
   "source": [
    "def get_X_y(\n",
    "    df:pd.DataFrame,\n",
    "    number_of_sequences:int,\n",
    "    input_length:int,\n",
    "    output_length:int\n",
    "):\n",
    "    # YOUR CODE HERE\n",
    "    X, y = [], []  # lists for the sequences for X and y\n",
    "\n",
    "    for i in range(number_of_sequences):\n",
    "        (Xi, yi) = get_Xi_yi(df, input_length, output_length)   # calls the previous function to generate sequences X + y\n",
    "        X.append(Xi)\n",
    "        y.append(yi)\n",
    "        \n",
    "    return np.array(X), np.array(y)"
   ]
  },
  {
   "cell_type": "code",
   "execution_count": 342,
   "id": "c90bc4c3-e937-4593-9238-15b42ec28c4e",
   "metadata": {},
   "outputs": [],
   "source": [
    "seq = get_X_y(df, NUMBER_OF_SEQUENCES_TRAIN, INPUT_LENGTH, OUTPUT_LENGTH)"
   ]
  },
  {
   "cell_type": "code",
   "execution_count": 384,
   "id": "273f1f71-5bcb-4af2-9130-3f12467524dd",
   "metadata": {},
   "outputs": [
    {
     "data": {
      "text/plain": [
       "(9383, 12, 3)"
      ]
     },
     "execution_count": 384,
     "metadata": {},
     "output_type": "execute_result"
    }
   ],
   "source": [
    "seq[1].shape"
   ]
  },
  {
   "cell_type": "code",
   "execution_count": 268,
   "id": "033c2c97-0046-4162-b0f7-7a69a28659ce",
   "metadata": {},
   "outputs": [
    {
     "data": {
      "text/plain": [
       "(2556, 120, 53)"
      ]
     },
     "execution_count": 268,
     "metadata": {},
     "output_type": "execute_result"
    }
   ],
   "source": [
    "X_train.shape"
   ]
  },
  {
   "cell_type": "code",
   "execution_count": 269,
   "id": "d0b0e386-e604-48d8-979c-72a44975943d",
   "metadata": {},
   "outputs": [
    {
     "data": {
      "text/plain": [
       "(2556, 12, 3)"
      ]
     },
     "execution_count": 269,
     "metadata": {},
     "output_type": "execute_result"
    }
   ],
   "source": [
    "y_train.shape"
   ]
  },
  {
   "cell_type": "code",
   "execution_count": 326,
   "id": "7c32e3a8-e5f5-485f-87eb-2d408720a82b",
   "metadata": {},
   "outputs": [],
   "source": [
    "y_temp = y_train[:,:,0]"
   ]
  },
  {
   "cell_type": "code",
   "execution_count": 327,
   "id": "7deaa3e5-f280-4a61-94f7-9a78733887f9",
   "metadata": {},
   "outputs": [],
   "source": [
    "y_temp = np.expand_dims(y_temp, axis=-1)"
   ]
  },
  {
   "cell_type": "code",
   "execution_count": 328,
   "id": "cab19882-f93d-4fdb-9dd9-881f1c4f4b92",
   "metadata": {},
   "outputs": [
    {
     "data": {
      "text/plain": [
       "(2556, 12, 1)"
      ]
     },
     "execution_count": 328,
     "metadata": {},
     "output_type": "execute_result"
    }
   ],
   "source": [
    "y_temp.shape"
   ]
  },
  {
   "cell_type": "markdown",
   "id": "a9348eb1-0d90-4161-9a6d-a3f4950b4e82",
   "metadata": {},
   "source": [
    "## Model"
   ]
  },
  {
   "cell_type": "markdown",
   "id": "305ae143-e1cd-4f54-b023-fda650d798a5",
   "metadata": {},
   "source": [
    "### Prepare dataset for model training"
   ]
  },
  {
   "cell_type": "markdown",
   "id": "747d3239-fb39-4b38-b45d-343e6efcfc56",
   "metadata": {},
   "source": [
    "#### Train val split"
   ]
  },
  {
   "cell_type": "code",
   "execution_count": null,
   "id": "21e83985-0188-4fca-a6d2-df476dd9215f",
   "metadata": {},
   "outputs": [],
   "source": [
    "def train_val_split(fold:pd.DataFrame,\n",
    "                     train_val_ratio: float,\n",
    "                     input_length: int) -> Tuple[pd.DataFrame]:\n",
    "    '''\n",
    "    Returns a train dataframe and a test dataframe (fold_train, fold_test)\n",
    "    from which one can sample (X,y) sequences.\n",
    "    df_train should contain all the timesteps until round(train_test_ratio * len(fold))   \n",
    "    '''\n",
    "    # YOUR CODE HERE\n",
    "    # TRAIN SET\n",
    "    # ======================\n",
    "    last_train_idx = round(train_val_ratio * len(fold))  # 0.66 * number of rows in the fold (66% of the fold for train)\n",
    "    fold_train = fold.iloc[0:last_train_idx, :]   # 1st until last row of train set, all columns\n",
    "\n",
    "    # TEST SET\n",
    "    # ======================    \n",
    "    first_val_idx = last_train_idx - input_length  # last row of train set - 2 weeks --> test set starts 2 weeks \n",
    "                                                                    # before train set ends --> overlap (not a problem with X)\n",
    "    fold_val = fold.iloc[first_val_idx:, :]   # 1st until last row of val set, all columns\n",
    "\n",
    "    return (fold_train, fold_val)"
   ]
  },
  {
   "cell_type": "markdown",
   "id": "dec6c136-7156-412b-90d3-6219c30d4e98",
   "metadata": {},
   "source": [
    "#### Sequences"
   ]
  },
  {
   "cell_type": "code",
   "execution_count": null,
   "id": "c51f6be7-5cb0-457f-96da-b4ed6f911588",
   "metadata": {},
   "outputs": [],
   "source": [
    "#Five days as input & output length\n",
    "INPUT_LENGTH = 24 * 5 # records every hour x 24 hours\n",
    "                      # for 5 days\n",
    "OUTPUT_LENGTH = 12"
   ]
  },
  {
   "cell_type": "code",
   "execution_count": null,
   "id": "45a92f3c-ec28-4484-a67e-6d17327daea4",
   "metadata": {},
   "outputs": [],
   "source": [
    "def get_Xi_yi(\n",
    "    df:pd.DataFrame, \n",
    "    input_length:int,  # 120\n",
    "    output_length:int):  # 120\n",
    "    '''\n",
    "    - given a fold, it returns one sequence (X_i, y_i)\n",
    "    - with the starting point of the sequence being chosen at random\n",
    "    '''\n",
    "    # YOUR CODE\n",
    "    first_possible_start = 0                                    # the +1 accounts for the index, that is exclusive.\n",
    "    last_possible_start = len(df) - (input_length + output_length) + 1    # It can start as long as there are still \n",
    "                                                                             # 120 + 1 days after the 1st day.\n",
    "    random_start = np.random.randint(first_possible_start, last_possible_start)  # np.random to pick a day inside \n",
    "                                                                                    # the possible interval.\n",
    "    X_i = df.iloc[random_start:random_start+input_length]  \n",
    "    \n",
    "    y_i = df.iloc[random_start+input_length:\n",
    "                  random_start+input_length+output_length][TARGET]  # creates a pd.DataFrame for the target y\n",
    "    \n",
    "    return (X_i, y_i)"
   ]
  },
  {
   "cell_type": "code",
   "execution_count": null,
   "id": "c7846297-b8c9-43ea-9bf4-99265cd5efc5",
   "metadata": {},
   "outputs": [],
   "source": [
    "NUMBER_OF_SEQUENCES_TRAIN = int(3000 * 0.75)   \n",
    "NUMBER_OF_SEQUENCES_VAL = int(3000 * 0.25) "
   ]
  },
  {
   "cell_type": "code",
   "execution_count": null,
   "id": "f08de9b8-bd38-407b-80f9-cbc75a368548",
   "metadata": {},
   "outputs": [],
   "source": [
    "def get_X_y(\n",
    "    df:pd.DataFrame,\n",
    "    number_of_sequences:int,\n",
    "    input_length:int,\n",
    "    output_length:int\n",
    "):\n",
    "    # YOUR CODE HERE\n",
    "    X, y = [], []  # lists for the sequences for X and y\n",
    "\n",
    "    for i in range(number_of_sequences):\n",
    "        (Xi, yi) = get_Xi_yi(df, input_length, output_length)   # calls the previous function to generate sequences X + y\n",
    "        X.append(Xi)\n",
    "        y.append(yi)\n",
    "        \n",
    "    return np.array(X), np.array(y)"
   ]
  },
  {
   "cell_type": "code",
   "execution_count": null,
   "id": "0315ca7f-5919-42f7-9620-46195607d9f4",
   "metadata": {},
   "outputs": [],
   "source": [
    "df_train, df_val = train_val_split(df, TRAIN_VAL_RATIO, INPUT_LENGTH)\n",
    "X_train, y_train = get_X_y(df_train, NUMBER_OF_SEQUENCES_TRAIN, INPUT_LENGTH, OUTPUT_LENGTH)\n",
    "X_val, y_val = get_X_y(df_val, NUMBER_OF_SEQUENCES_TRAIN, INPUT_LENGTH, OUTPUT_LENGTH)\n",
    "\n",
    "\n",
    "#Dropping the targets from the X (we dont want to train the model on the targets)\n",
    "X_train = X_train[:, :, :-3]\n",
    "X_val = X_val[:, :, :-3]"
   ]
  },
  {
   "cell_type": "code",
   "execution_count": null,
   "id": "2a6ec19d-4ff6-4b82-b0b7-c0aa7864c75b",
   "metadata": {},
   "outputs": [],
   "source": []
  },
  {
   "cell_type": "code",
   "execution_count": null,
   "id": "623effa8-7791-469b-b7bb-b1122da7931f",
   "metadata": {},
   "outputs": [],
   "source": []
  },
  {
   "cell_type": "markdown",
   "id": "9940b09b-b8d9-483d-8631-2f96c4f58306",
   "metadata": {},
   "source": [
    "### Train model on mini sequences"
   ]
  },
  {
   "cell_type": "code",
   "execution_count": 333,
   "id": "fca6e43b-2454-45be-abe0-14086c9929f9",
   "metadata": {},
   "outputs": [
    {
     "data": {
      "text/plain": [
       "(9515, 56)"
      ]
     },
     "execution_count": 333,
     "metadata": {},
     "output_type": "execute_result"
    }
   ],
   "source": [
    "X_train_transformed.shape"
   ]
  },
  {
   "cell_type": "code",
   "execution_count": 330,
   "id": "cb71b000-4c2f-4322-891d-5eff5595b1a9",
   "metadata": {},
   "outputs": [
    {
     "data": {
      "text/plain": [
       "(2556, 12, 3)"
      ]
     },
     "execution_count": 330,
     "metadata": {},
     "output_type": "execute_result"
    }
   ],
   "source": [
    "y_train.shape"
   ]
  },
  {
   "cell_type": "code",
   "execution_count": 374,
   "id": "f21e6411-33bb-471f-89f4-b88fe384eb07",
   "metadata": {},
   "outputs": [
    {
     "data": {
      "text/plain": [
       "(9383, 120, 56)"
      ]
     },
     "execution_count": 374,
     "metadata": {},
     "output_type": "execute_result"
    }
   ],
   "source": [
    "seq[0].shape"
   ]
  },
  {
   "cell_type": "code",
   "execution_count": 401,
   "id": "54bdcac0-0dc9-472f-917d-81db5a2bc430",
   "metadata": {},
   "outputs": [],
   "source": [
    "from tensorflow.keras import models\n",
    "from tensorflow.keras import layers\n",
    "from tensorflow.keras import optimizers, metrics\n",
    "from tensorflow.keras.regularizers import L1L2\n",
    "\n",
    "def init_model(X_train, y_train):\n",
    "\n",
    "    # 1 - RNN architecture\n",
    "    # ======================    \n",
    "    model = models.Sequential()\n",
    "    \n",
    "    ## 1.1 - Recurrent Layer\n",
    "    model.add(layers.LSTM(64, \n",
    "                          activation='tanh', \n",
    "                          return_sequences = True,\n",
    "                          input_shape=(120, 53)\n",
    "                          \n",
    "                         ))\n",
    "    \n",
    "    model.add(layers.LSTM(units=32, activation='tanh', return_sequences = True))\n",
    "\n",
    "    ## 1.2 Hidden layer\n",
    "    model.add(layers.Dense(10, activation=\"linear\"))\n",
    "\n",
    "    ## 1.2 - Predictive Dense Layers\n",
    "    output_length = y_train.shape[1]\n",
    "    model.add(layers.Dense(output_length*3, activation='linear'))  # Flatten the output\n",
    "    model.add(layers.Reshape((output_length, 3)))  # Reshape to (12, 3)\n",
    "\n",
    "\n",
    "    # 2 - Compiler\n",
    "    # ======================    \n",
    "    adam = optimizers.Adam(learning_rate=0.005)    \n",
    "    model.compile(loss='mse', optimizer=adam, metrics=[\"mae\"])\n",
    "    \n",
    "    return model"
   ]
  },
  {
   "cell_type": "code",
   "execution_count": 402,
   "id": "5042b4c8-4dd0-4bd1-87e6-208d22332a1d",
   "metadata": {},
   "outputs": [
    {
     "name": "stdout",
     "output_type": "stream",
     "text": [
      "Model: \"sequential_68\"\n",
      "_________________________________________________________________\n",
      " Layer (type)                Output Shape              Param #   \n",
      "=================================================================\n",
      " lstm_96 (LSTM)              (None, 120, 64)           30976     \n",
      "                                                                 \n",
      " lstm_97 (LSTM)              (None, 32)                12416     \n",
      "                                                                 \n",
      " dense_114 (Dense)           (None, 10)                330       \n",
      "                                                                 \n",
      " dense_115 (Dense)           (None, 36)                396       \n",
      "                                                                 \n",
      " reshape_23 (Reshape)        (None, 12, 3)             0         \n",
      "                                                                 \n",
      "=================================================================\n",
      "Total params: 44,118\n",
      "Trainable params: 44,118\n",
      "Non-trainable params: 0\n",
      "_________________________________________________________________\n"
     ]
    }
   ],
   "source": [
    "model.summary()"
   ]
  },
  {
   "cell_type": "code",
   "execution_count": 373,
   "id": "75bc14e7-7a3f-406f-96ea-866fe8177f07",
   "metadata": {},
   "outputs": [
    {
     "data": {
      "text/plain": [
       "(9383, 120, 56)"
      ]
     },
     "execution_count": 373,
     "metadata": {},
     "output_type": "execute_result"
    }
   ],
   "source": [
    "seq[0].shape"
   ]
  },
  {
   "cell_type": "code",
   "execution_count": 385,
   "id": "1769cea7-9880-4747-8ffd-c08b9a58fcab",
   "metadata": {},
   "outputs": [],
   "source": [
    "from tensorflow.keras.callbacks import EarlyStopping\n",
    "import tensorflow as tf\n",
    "from typing import Tuple\n",
    "\n",
    "def fit_model(model: tf.keras.Model, verbose=1) -> Tuple[tf.keras.Model, dict]:\n",
    "\n",
    "    es = EarlyStopping(monitor = \"val_loss\",\n",
    "                      patience = 10,\n",
    "                      mode = \"min\",\n",
    "                      restore_best_weights = True)\n",
    "\n",
    "\n",
    "    history = model.fit(seq[0], seq[1],\n",
    "                        validation_split = 0.3,\n",
    "                        shuffle = False,\n",
    "                        batch_size = 32,\n",
    "                        epochs = 500,\n",
    "                        callbacks = [es],\n",
    "                        verbose = verbose)\n",
    "\n",
    "    return model, history "
   ]
  },
  {
   "cell_type": "code",
   "execution_count": 397,
   "id": "66c34f7b-34cd-49ac-94aa-4d0bcea2080d",
   "metadata": {},
   "outputs": [
    {
     "data": {
      "text/plain": [
       "(9383, 120, 56)"
      ]
     },
     "execution_count": 397,
     "metadata": {},
     "output_type": "execute_result"
    }
   ],
   "source": [
    "seq[0].shape"
   ]
  },
  {
   "cell_type": "code",
   "execution_count": 398,
   "id": "8c47e80a-7354-47ba-be79-b4785e49cbf7",
   "metadata": {},
   "outputs": [
    {
     "data": {
      "text/plain": [
       "(9383, 12, 3)"
      ]
     },
     "execution_count": 398,
     "metadata": {},
     "output_type": "execute_result"
    }
   ],
   "source": [
    "seq[1].shape"
   ]
  },
  {
   "cell_type": "code",
   "execution_count": 386,
   "id": "2d33aa42-5532-4297-a98a-9349e3dac019",
   "metadata": {},
   "outputs": [
    {
     "name": "stdout",
     "output_type": "stream",
     "text": [
      "Model: \"sequential_68\"\n",
      "_________________________________________________________________\n",
      " Layer (type)                Output Shape              Param #   \n",
      "=================================================================\n",
      " lstm_96 (LSTM)              (None, 120, 64)           30976     \n",
      "                                                                 \n",
      " lstm_97 (LSTM)              (None, 32)                12416     \n",
      "                                                                 \n",
      " dense_114 (Dense)           (None, 10)                330       \n",
      "                                                                 \n",
      " dense_115 (Dense)           (None, 36)                396       \n",
      "                                                                 \n",
      " reshape_23 (Reshape)        (None, 12, 3)             0         \n",
      "                                                                 \n",
      "=================================================================\n",
      "Total params: 44,118\n",
      "Trainable params: 44,118\n",
      "Non-trainable params: 0\n",
      "_________________________________________________________________\n",
      "Epoch 1/50\n",
      "206/206 [==============================] - 27s 100ms/step - loss: 622.2273 - mae: 14.4219 - val_loss: 592.5061 - val_mae: 13.8447\n",
      "Epoch 2/50\n",
      "206/206 [==============================] - 16s 78ms/step - loss: 479.6841 - mae: 12.6436 - val_loss: 469.1752 - val_mae: 11.7945\n",
      "Epoch 3/50\n",
      "206/206 [==============================] - 16s 76ms/step - loss: 433.0750 - mae: 11.7089 - val_loss: 460.2828 - val_mae: 11.6017\n",
      "Epoch 4/50\n",
      "206/206 [==============================] - 17s 81ms/step - loss: 426.8340 - mae: 11.5554 - val_loss: 453.8950 - val_mae: 11.3597\n",
      "Epoch 5/50\n",
      "206/206 [==============================] - 19s 91ms/step - loss: 421.8191 - mae: 11.4269 - val_loss: 449.4424 - val_mae: 11.2850\n",
      "Epoch 6/50\n",
      "206/206 [==============================] - 17s 85ms/step - loss: 416.3225 - mae: 11.3568 - val_loss: 445.5748 - val_mae: 11.2211\n",
      "Epoch 7/50\n",
      "206/206 [==============================] - 16s 79ms/step - loss: 410.4319 - mae: 11.2687 - val_loss: 438.0707 - val_mae: 11.1181\n",
      "Epoch 8/50\n",
      "206/206 [==============================] - 15s 74ms/step - loss: 400.5796 - mae: 11.0061 - val_loss: 420.5902 - val_mae: 10.7476\n",
      "Epoch 9/50\n",
      "206/206 [==============================] - 17s 83ms/step - loss: 381.2231 - mae: 10.4030 - val_loss: 402.0300 - val_mae: 10.1449\n",
      "Epoch 10/50\n",
      "206/206 [==============================] - 16s 77ms/step - loss: 365.5000 - mae: 9.9462 - val_loss: 389.8989 - val_mae: 9.9100\n",
      "Epoch 11/50\n",
      "206/206 [==============================] - 16s 76ms/step - loss: 355.8129 - mae: 9.7131 - val_loss: 382.5229 - val_mae: 9.7931\n",
      "Epoch 12/50\n",
      "206/206 [==============================] - 16s 79ms/step - loss: 351.1833 - mae: 9.6207 - val_loss: 378.0889 - val_mae: 9.8276\n",
      "Epoch 13/50\n",
      "206/206 [==============================] - 16s 76ms/step - loss: 344.6350 - mae: 9.5198 - val_loss: 369.2271 - val_mae: 9.5965\n",
      "Epoch 14/50\n",
      "206/206 [==============================] - 15s 74ms/step - loss: 339.6466 - mae: 9.4241 - val_loss: 366.2173 - val_mae: 9.5709\n",
      "Epoch 15/50\n",
      "206/206 [==============================] - 15s 74ms/step - loss: 335.7025 - mae: 9.3943 - val_loss: 364.0777 - val_mae: 9.6103\n",
      "Epoch 16/50\n",
      "206/206 [==============================] - 15s 74ms/step - loss: 326.2954 - mae: 9.2825 - val_loss: 352.3604 - val_mae: 9.6506\n",
      "Epoch 17/50\n",
      "206/206 [==============================] - 17s 83ms/step - loss: 320.3964 - mae: 9.2125 - val_loss: 345.8986 - val_mae: 9.5136\n",
      "Epoch 18/50\n",
      "206/206 [==============================] - 16s 78ms/step - loss: 311.7546 - mae: 9.0919 - val_loss: 339.2150 - val_mae: 9.2884\n",
      "Epoch 19/50\n",
      "206/206 [==============================] - 17s 81ms/step - loss: 302.1971 - mae: 8.9834 - val_loss: 329.7953 - val_mae: 9.2037\n",
      "Epoch 20/50\n",
      "206/206 [==============================] - 16s 75ms/step - loss: 288.2945 - mae: 8.8154 - val_loss: 320.5464 - val_mae: 9.2151\n",
      "Epoch 21/50\n",
      "206/206 [==============================] - 15s 75ms/step - loss: 291.4395 - mae: 8.8277 - val_loss: 321.8029 - val_mae: 9.3516\n",
      "Epoch 22/50\n",
      "206/206 [==============================] - 15s 73ms/step - loss: 282.4954 - mae: 8.7425 - val_loss: 307.8535 - val_mae: 8.9776\n",
      "Epoch 23/50\n",
      "206/206 [==============================] - 15s 71ms/step - loss: 275.2556 - mae: 8.6188 - val_loss: 312.1972 - val_mae: 9.1152\n",
      "Epoch 24/50\n",
      "206/206 [==============================] - 16s 79ms/step - loss: 270.5967 - mae: 8.5338 - val_loss: 305.0025 - val_mae: 8.9756\n",
      "Epoch 25/50\n",
      "206/206 [==============================] - 16s 78ms/step - loss: 258.7999 - mae: 8.3510 - val_loss: 297.8076 - val_mae: 8.6907\n",
      "Epoch 26/50\n",
      "206/206 [==============================] - 16s 76ms/step - loss: 252.9136 - mae: 8.2551 - val_loss: 288.0288 - val_mae: 8.6704\n",
      "Epoch 27/50\n",
      "206/206 [==============================] - 16s 80ms/step - loss: 256.6187 - mae: 8.2961 - val_loss: 322.6696 - val_mae: 9.1601\n",
      "Epoch 28/50\n",
      "206/206 [==============================] - 16s 76ms/step - loss: 248.5703 - mae: 8.1668 - val_loss: 289.3997 - val_mae: 8.7037\n",
      "Epoch 29/50\n",
      "206/206 [==============================] - 15s 74ms/step - loss: 247.1086 - mae: 8.1488 - val_loss: 341.7281 - val_mae: 9.2649\n",
      "Epoch 30/50\n",
      "206/206 [==============================] - 16s 77ms/step - loss: 258.3918 - mae: 8.2570 - val_loss: 281.2706 - val_mae: 8.5191\n",
      "Epoch 31/50\n",
      "206/206 [==============================] - 16s 77ms/step - loss: 238.1759 - mae: 7.9570 - val_loss: 278.5111 - val_mae: 8.3212\n",
      "Epoch 32/50\n",
      "206/206 [==============================] - 16s 76ms/step - loss: 235.5571 - mae: 7.9089 - val_loss: 288.0322 - val_mae: 8.6536\n",
      "Epoch 33/50\n",
      "206/206 [==============================] - 16s 77ms/step - loss: 228.6047 - mae: 7.8205 - val_loss: 266.0617 - val_mae: 8.1567\n",
      "Epoch 34/50\n",
      "206/206 [==============================] - 16s 76ms/step - loss: 223.7813 - mae: 7.7160 - val_loss: 275.2079 - val_mae: 8.1602\n",
      "Epoch 35/50\n",
      "206/206 [==============================] - 15s 74ms/step - loss: 222.7913 - mae: 7.6850 - val_loss: 279.6606 - val_mae: 8.1132\n",
      "Epoch 36/50\n",
      "206/206 [==============================] - 16s 77ms/step - loss: 217.1217 - mae: 7.6023 - val_loss: 266.0251 - val_mae: 8.2549\n",
      "Epoch 37/50\n",
      "206/206 [==============================] - 15s 75ms/step - loss: 218.1963 - mae: 7.6120 - val_loss: 265.0179 - val_mae: 8.2180\n",
      "Epoch 38/50\n",
      "206/206 [==============================] - 15s 75ms/step - loss: 213.2285 - mae: 7.5275 - val_loss: 261.0291 - val_mae: 8.2271\n",
      "Epoch 39/50\n",
      "206/206 [==============================] - 16s 78ms/step - loss: 214.6420 - mae: 7.5455 - val_loss: 271.9547 - val_mae: 8.1400\n",
      "Epoch 40/50\n",
      "206/206 [==============================] - 16s 77ms/step - loss: 214.4262 - mae: 7.5275 - val_loss: 261.6011 - val_mae: 8.0560\n",
      "Epoch 41/50\n",
      "206/206 [==============================] - 16s 78ms/step - loss: 206.9926 - mae: 7.4244 - val_loss: 259.9677 - val_mae: 8.0476\n",
      "Epoch 42/50\n",
      "206/206 [==============================] - 15s 74ms/step - loss: 203.2150 - mae: 7.3661 - val_loss: 253.2708 - val_mae: 8.0295\n",
      "Epoch 43/50\n",
      "206/206 [==============================] - 15s 74ms/step - loss: 200.6737 - mae: 7.3255 - val_loss: 243.4332 - val_mae: 7.7977\n",
      "Epoch 44/50\n",
      "206/206 [==============================] - 15s 73ms/step - loss: 196.6108 - mae: 7.2643 - val_loss: 243.1747 - val_mae: 7.7706\n",
      "Epoch 45/50\n",
      "206/206 [==============================] - 15s 73ms/step - loss: 194.8766 - mae: 7.2421 - val_loss: 242.5149 - val_mae: 7.7148\n",
      "Epoch 46/50\n",
      "206/206 [==============================] - 15s 73ms/step - loss: 193.7235 - mae: 7.2247 - val_loss: 240.6153 - val_mae: 7.7092\n",
      "Epoch 47/50\n",
      "206/206 [==============================] - 15s 71ms/step - loss: 193.2325 - mae: 7.2290 - val_loss: 236.7731 - val_mae: 7.6888\n",
      "Epoch 48/50\n",
      "206/206 [==============================] - 15s 74ms/step - loss: 194.9706 - mae: 7.2547 - val_loss: 245.0930 - val_mae: 7.6177\n",
      "Epoch 49/50\n",
      "206/206 [==============================] - 15s 73ms/step - loss: 190.9293 - mae: 7.1646 - val_loss: 234.7599 - val_mae: 7.5296\n",
      "Epoch 50/50\n",
      "206/206 [==============================] - 16s 79ms/step - loss: 188.2010 - mae: 7.1207 - val_loss: 234.0461 - val_mae: 7.5432\n"
     ]
    }
   ],
   "source": [
    "model = init_model(seq[0], seq[1])\n",
    "model.summary()\n",
    "\n",
    "# 2 - Training\n",
    "# ====================================\n",
    "model, history = fit_model(model)"
   ]
  },
  {
   "cell_type": "code",
   "execution_count": null,
   "id": "02be8444-cfab-46ff-8796-9acd8c64c53d",
   "metadata": {},
   "outputs": [],
   "source": [
    "model."
   ]
  },
  {
   "cell_type": "code",
   "execution_count": 394,
   "id": "4786a9cc-231a-4ec0-b5e2-1fec7997cf25",
   "metadata": {},
   "outputs": [
    {
     "name": "stdout",
     "output_type": "stream",
     "text": [
      "294/294 [==============================] - 8s 21ms/step\n"
     ]
    },
    {
     "data": {
      "text/plain": [
       "(9383, 12, 3)"
      ]
     },
     "execution_count": 394,
     "metadata": {},
     "output_type": "execute_result"
    }
   ],
   "source": [
    "y_pred = model.predict(seq[0])\n",
    "y_pred.shape"
   ]
  },
  {
   "cell_type": "code",
   "execution_count": 395,
   "id": "d3c40af4-f68d-46ca-987e-3e882dc63e80",
   "metadata": {},
   "outputs": [
    {
     "data": {
      "text/plain": [
       "array([[[-0.8020408 , 18.34753   , 21.33138   ],\n",
       "        [-0.9647536 , 18.421618  , 21.122456  ],\n",
       "        [-1.3415666 , 20.005928  , 20.493855  ],\n",
       "        ...,\n",
       "        [ 0.60888636, 26.567987  , 19.81623   ],\n",
       "        [ 1.6607935 , 26.492733  , 20.42729   ],\n",
       "        [ 3.0801427 , 26.170689  , 20.574432  ]],\n",
       "\n",
       "       [[39.73488   , 44.104004  , 15.075556  ],\n",
       "        [36.759144  , 49.78342   , 15.790366  ],\n",
       "        [32.116085  , 57.46399   , 15.487595  ],\n",
       "        ...,\n",
       "        [-2.5340815 , 78.68107   , 16.51992   ],\n",
       "        [-3.1514244 , 75.04531   , 14.823896  ],\n",
       "        [-1.9327254 , 70.93645   , 12.849353  ]],\n",
       "\n",
       "       [[ 1.7809284 ,  9.646585  , 19.621975  ],\n",
       "        [ 1.6718595 , 10.026352  , 19.437092  ],\n",
       "        [ 1.554491  , 10.751839  , 18.943169  ],\n",
       "        ...,\n",
       "        [-0.86131895, 14.355082  , 17.919018  ],\n",
       "        [-0.12621427, 14.562532  , 18.513962  ],\n",
       "        [ 1.5860507 , 14.57845   , 18.489445  ]],\n",
       "\n",
       "       ...,\n",
       "\n",
       "       [[ 2.7598376 , 12.230527  , 14.097349  ],\n",
       "        [ 1.2432241 , 11.818062  , 13.945024  ],\n",
       "        [ 0.18967706, 12.181955  , 13.685417  ],\n",
       "        ...,\n",
       "        [13.356521  , 13.380473  , 13.963358  ],\n",
       "        [15.7853775 , 14.02782   , 13.977952  ],\n",
       "        [17.909645  , 14.754538  , 13.902874  ]],\n",
       "\n",
       "       [[-0.24677253, -0.23458171, 27.912096  ],\n",
       "        [ 1.0124007 , -0.3325404 , 27.810219  ],\n",
       "        [ 1.9565008 ,  0.75414836, 27.844666  ],\n",
       "        ...,\n",
       "        [-0.33656466, 10.293755  , 27.446005  ],\n",
       "        [-1.1702132 , 10.975816  , 28.154753  ],\n",
       "        [-1.3125067 , 11.618186  , 28.078289  ]],\n",
       "\n",
       "       [[ 5.7736473 , 23.748959  , 26.073677  ],\n",
       "        [ 3.098373  , 25.799284  , 26.226437  ],\n",
       "        [ 0.2106514 , 31.007786  , 26.29493   ],\n",
       "        ...,\n",
       "        [ 0.11627448, 52.240242  , 25.220406  ],\n",
       "        [ 1.4456687 , 51.44926   , 25.029747  ],\n",
       "        [ 2.687462  , 49.92957   , 24.452993  ]]], dtype=float32)"
      ]
     },
     "execution_count": 395,
     "metadata": {},
     "output_type": "execute_result"
    }
   ],
   "source": [
    "y_pred"
   ]
  },
  {
   "cell_type": "code",
   "execution_count": 388,
   "id": "d1c3fa1b-6d30-420e-9f4d-37fd10109859",
   "metadata": {},
   "outputs": [],
   "source": [
    "r = df['pv_production']"
   ]
  },
  {
   "cell_type": "code",
   "execution_count": 390,
   "id": "205669e5-0ae1-4f8f-b136-29f4a4d82044",
   "metadata": {},
   "outputs": [
    {
     "data": {
      "text/plain": [
       "<Axes: >"
      ]
     },
     "execution_count": 390,
     "metadata": {},
     "output_type": "execute_result"
    },
    {
     "data": {
      "image/png": "[encoded data removed]",
      "text/plain": [
       "<Figure size 640x480 with 1 Axes>"
      ]
     },
     "metadata": {},
     "output_type": "display_data"
    }
   ],
   "source": [
    "r[r>0].plot()"
   ]
  },
  {
   "cell_type": "code",
   "execution_count": 391,
   "id": "954389cd-e193-4857-9ea3-2f3a77a23d8b",
   "metadata": {},
   "outputs": [
    {
     "data": {
      "text/plain": [
       "count    4373.000000\n",
       "mean       16.654649\n",
       "std        19.612556\n",
       "min         0.000200\n",
       "25%         1.824833\n",
       "50%         8.073500\n",
       "75%        25.663666\n",
       "max        79.855834\n",
       "Name: pv_production, dtype: float64"
      ]
     },
     "execution_count": 391,
     "metadata": {},
     "output_type": "execute_result"
    }
   ],
   "source": [
    "r[r>0].describe()"
   ]
  },
  {
   "cell_type": "code",
   "execution_count": null,
   "id": "8ddb1964-b96b-4266-9c0b-4c590b159ff4",
   "metadata": {},
   "outputs": [],
   "source": []
  },
  {
   "cell_type": "code",
   "execution_count": null,
   "id": "51857488-265e-4c47-9099-7bfcfc046f99",
   "metadata": {},
   "outputs": [],
   "source": []
  },
  {
   "cell_type": "code",
   "execution_count": null,
   "id": "444f4376-d0b9-4248-95f9-97496cf3ecf4",
   "metadata": {},
   "outputs": [],
   "source": []
  },
  {
   "cell_type": "markdown",
   "id": "36ce572a-3f3e-4927-bd5f-2c2c993180cf",
   "metadata": {},
   "source": [
    "## Cross Validation"
   ]
  },
  {
   "cell_type": "code",
   "execution_count": null,
   "id": "f32b6b77-9d57-4fd8-807a-bc360f452b5f",
   "metadata": {},
   "outputs": [],
   "source": [
    "from tensorflow.keras.callbacks import EarlyStopping\n",
    "\n",
    "def cross_validate_baseline_and_lstm():\n",
    "    '''\n",
    "    This function cross-validates \n",
    "    - the \"last seen value\" baseline model\n",
    "    - the RNN model\n",
    "    '''\n",
    "    \n",
    "    list_of_mae_baseline_model = []\n",
    "    list_of_mae_recurrent_model = []\n",
    "    \n",
    "    # 0 - Creating folds\n",
    "    # =========================================    \n",
    "    folds = get_folds(df, FOLD_LENGTH, FOLD_STRIDE)  # function we coded to get the folds\n",
    "    \n",
    "    for fold_id, fold in enumerate(folds):\n",
    "        \n",
    "        # 1 - Train/val split the current fold\n",
    "        # =========================================\n",
    "        (fold_train, fold_val) = train_val_split(fold, TRAIN_VAL_RATIO, INPUT_LENGTH) # function we coded to split train/val                                 \n",
    "\n",
    "        X_train, y_train = get_X_y(fold_train, NUMBER_OF_SEQUENCES_TRAIN, INPUT_LENGTH, OUTPUT_LENGTH)  # function we coded to get multiple\n",
    "        X_val, y_val = get_X_y(fold_val, NUMBER_OF_SEQUENCES_TRAIN, INPUT_LENGTH, OUTPUT_LENGTH)       # sequences from a fold\n",
    "        \n",
    "        # 2 - Modelling\n",
    "        # =========================================\n",
    "        \n",
    "        ##### Baseline Model\n",
    "        baseline_model = init_baseline()\n",
    "        mae_baseline = baseline_model.evaluate(X_val, y_val, verbose=0)[1]   # evaluating baseline model (metric)\n",
    "        list_of_mae_baseline_model.append(mae_baseline)\n",
    "        print(\"-\"*50)\n",
    "        print(f\"MAE baseline fold n°{fold_id} = {round(mae_baseline, 2)}\")\n",
    "\n",
    "        ##### LSTM Model\n",
    "        model = init_model(X_train, y_train)\n",
    "        es = EarlyStopping(monitor = \"val_mae\",\n",
    "                           mode = \"min\",\n",
    "                           patience = 3, \n",
    "                           restore_best_weights = True)\n",
    "        \n",
    "        history = model.fit(X_train, y_train,\n",
    "                            validation_split = 0.3,\n",
    "                            shuffle = False,\n",
    "                            batch_size = 32,\n",
    "                            epochs = 50,\n",
    "                            callbacks = [es],\n",
    "                            verbose = 0)\n",
    "        res = model.evaluate(X_val, y_val, verbose=0)    # evaluating LSTM (metric)\n",
    "        mae_lstm = res[1]\n",
    "        list_of_mae_recurrent_model.append(mae_lstm)\n",
    "        print(f\"MAE LSTM fold n°{fold_id} = {round(mae_lstm, 2)}\")\n",
    "        \n",
    "        ##### Comparison LSTM vs Baseline for the current fold\n",
    "        print(f\"🏋🏽‍♂️ improvement over baseline: {round((1 - (mae_lstm/mae_baseline))*100,2)} % \\n\")\n",
    "\n",
    "    return list_of_mae_baseline_model, list_of_mae_recurrent_model"
   ]
  },
  {
   "cell_type": "markdown",
   "id": "3a644960-9774-4a7b-b4f6-664c3c603339",
   "metadata": {
    "jp-MarkdownHeadingCollapsed": true
   },
   "source": [
    "## Cross Validation for RNN"
   ]
  },
  {
   "cell_type": "code",
   "execution_count": null,
   "id": "fb8145e9-bc06-4c5a-b499-83f9fa9ec969",
   "metadata": {},
   "outputs": [],
   "source": [
    "###NOT IMPORTANT NOW\n",
    "\n",
    "fold_length = 24 * 7 * 16    # 24 hours * 7 days * 16 weeks (4 months)\n",
    "fold_stride = 24 * 7 * 2     # 24 hours * 7 days * 2 weeks\n",
    "train_test_ratio = 0.66"
   ]
  },
  {
   "cell_type": "code",
   "execution_count": null,
   "id": "91d7e63d-8700-4db6-a7a8-96674c88d4e4",
   "metadata": {},
   "outputs": [],
   "source": [
    "def get_folds(\n",
    "    df: pd.DataFrame,\n",
    "    fold_length: int,\n",
    "    fold_stride: int) -> List[pd.DataFrame]:\n",
    "    '''\n",
    "    This function slides through the Time Series dataframe of shape (n_timesteps, n_features) to create folds\n",
    "    - of equal `fold_length`\n",
    "    - using `fold_stride` between each fold\n",
    "    \n",
    "    Returns a list of folds, each as a DataFrame\n",
    "    '''\n",
    "    # YOUR CODE HERE\n",
    "    folds = []\n",
    "    for idx in range(0, len(df)-fold_length, fold_stride): # --> also possible to get rid of the break \n",
    "    #for idx in range(0, len(df), fold_stride):   # range(start, stop, step): for each idx in our rows at every 91 days\n",
    "        # Exits the loop as soon as the last fold index would exceed the last index\n",
    "        #if (idx + fold_length) > len(df):\n",
    "            #break\n",
    "        fold = df.iloc[idx:idx + fold_length, :]  # select from row idx til last row of the fold (3 years), all the columns\n",
    "        folds.append(fold)   # append the 3 year fold to folds\n",
    "    return folds"
   ]
  }
 ],
 "metadata": {
  "kernelspec": {
   "display_name": "Python 3 (ipykernel)",
   "language": "python",
   "name": "python3"
  },
  "language_info": {
   "codemirror_mode": {
    "name": "ipython",
    "version": 3
   },
   "file_extension": ".py",
   "mimetype": "text/x-python",
   "name": "python",
   "nbconvert_exporter": "python",
   "pygments_lexer": "ipython3",
   "version": "3.10.6"
  }
 },
 "nbformat": 4,
 "nbformat_minor": 5
}
